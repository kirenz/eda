{
 "cells": [
  {
   "cell_type": "markdown",
   "metadata": {
    "slideshow": {
     "slide_type": "slide"
    }
   },
   "source": [
    "#  Two categorical variables"
   ]
  },
  {
   "cell_type": "markdown",
   "metadata": {
    "slideshow": {
     "slide_type": "slide"
    }
   },
   "source": [
    "## Import data"
   ]
  },
  {
   "cell_type": "code",
   "execution_count": 2,
   "metadata": {
    "slideshow": {
     "slide_type": "fragment"
    }
   },
   "outputs": [
    {
     "data": {
      "text/html": [
       "<div>\n",
       "<style scoped>\n",
       "    .dataframe tbody tr th:only-of-type {\n",
       "        vertical-align: middle;\n",
       "    }\n",
       "\n",
       "    .dataframe tbody tr th {\n",
       "        vertical-align: top;\n",
       "    }\n",
       "\n",
       "    .dataframe thead th {\n",
       "        text-align: right;\n",
       "    }\n",
       "</style>\n",
       "<table border=\"1\" class=\"dataframe\">\n",
       "  <thead>\n",
       "    <tr style=\"text-align: right;\">\n",
       "      <th></th>\n",
       "      <th>emp_title</th>\n",
       "      <th>emp_length</th>\n",
       "      <th>state</th>\n",
       "      <th>homeownership</th>\n",
       "      <th>annual_income</th>\n",
       "      <th>verified_income</th>\n",
       "      <th>debt_to_income</th>\n",
       "      <th>annual_income_joint</th>\n",
       "      <th>verification_income_joint</th>\n",
       "      <th>debt_to_income_joint</th>\n",
       "      <th>...</th>\n",
       "      <th>sub_grade</th>\n",
       "      <th>issue_month</th>\n",
       "      <th>loan_status</th>\n",
       "      <th>initial_listing_status</th>\n",
       "      <th>disbursement_method</th>\n",
       "      <th>balance</th>\n",
       "      <th>paid_total</th>\n",
       "      <th>paid_principal</th>\n",
       "      <th>paid_interest</th>\n",
       "      <th>paid_late_fees</th>\n",
       "    </tr>\n",
       "  </thead>\n",
       "  <tbody>\n",
       "    <tr>\n",
       "      <th>0</th>\n",
       "      <td>global config engineer</td>\n",
       "      <td>3.0</td>\n",
       "      <td>NJ</td>\n",
       "      <td>mortgage</td>\n",
       "      <td>90000.0</td>\n",
       "      <td>Verified</td>\n",
       "      <td>18.01</td>\n",
       "      <td>NaN</td>\n",
       "      <td>NaN</td>\n",
       "      <td>NaN</td>\n",
       "      <td>...</td>\n",
       "      <td>C3</td>\n",
       "      <td>Mar-2018</td>\n",
       "      <td>Current</td>\n",
       "      <td>whole</td>\n",
       "      <td>Cash</td>\n",
       "      <td>27015.86</td>\n",
       "      <td>1999.33</td>\n",
       "      <td>984.14</td>\n",
       "      <td>1015.19</td>\n",
       "      <td>0.0</td>\n",
       "    </tr>\n",
       "    <tr>\n",
       "      <th>1</th>\n",
       "      <td>warehouse office clerk</td>\n",
       "      <td>10.0</td>\n",
       "      <td>HI</td>\n",
       "      <td>rent</td>\n",
       "      <td>40000.0</td>\n",
       "      <td>Not Verified</td>\n",
       "      <td>5.04</td>\n",
       "      <td>NaN</td>\n",
       "      <td>NaN</td>\n",
       "      <td>NaN</td>\n",
       "      <td>...</td>\n",
       "      <td>C1</td>\n",
       "      <td>Feb-2018</td>\n",
       "      <td>Current</td>\n",
       "      <td>whole</td>\n",
       "      <td>Cash</td>\n",
       "      <td>4651.37</td>\n",
       "      <td>499.12</td>\n",
       "      <td>348.63</td>\n",
       "      <td>150.49</td>\n",
       "      <td>0.0</td>\n",
       "    </tr>\n",
       "    <tr>\n",
       "      <th>2</th>\n",
       "      <td>assembly</td>\n",
       "      <td>3.0</td>\n",
       "      <td>WI</td>\n",
       "      <td>rent</td>\n",
       "      <td>40000.0</td>\n",
       "      <td>Source Verified</td>\n",
       "      <td>21.15</td>\n",
       "      <td>NaN</td>\n",
       "      <td>NaN</td>\n",
       "      <td>NaN</td>\n",
       "      <td>...</td>\n",
       "      <td>D1</td>\n",
       "      <td>Feb-2018</td>\n",
       "      <td>Current</td>\n",
       "      <td>fractional</td>\n",
       "      <td>Cash</td>\n",
       "      <td>1824.63</td>\n",
       "      <td>281.80</td>\n",
       "      <td>175.37</td>\n",
       "      <td>106.43</td>\n",
       "      <td>0.0</td>\n",
       "    </tr>\n",
       "    <tr>\n",
       "      <th>3</th>\n",
       "      <td>customer service</td>\n",
       "      <td>1.0</td>\n",
       "      <td>PA</td>\n",
       "      <td>rent</td>\n",
       "      <td>30000.0</td>\n",
       "      <td>Not Verified</td>\n",
       "      <td>10.16</td>\n",
       "      <td>NaN</td>\n",
       "      <td>NaN</td>\n",
       "      <td>NaN</td>\n",
       "      <td>...</td>\n",
       "      <td>A3</td>\n",
       "      <td>Jan-2018</td>\n",
       "      <td>Current</td>\n",
       "      <td>whole</td>\n",
       "      <td>Cash</td>\n",
       "      <td>18853.26</td>\n",
       "      <td>3312.89</td>\n",
       "      <td>2746.74</td>\n",
       "      <td>566.15</td>\n",
       "      <td>0.0</td>\n",
       "    </tr>\n",
       "    <tr>\n",
       "      <th>4</th>\n",
       "      <td>security supervisor</td>\n",
       "      <td>10.0</td>\n",
       "      <td>CA</td>\n",
       "      <td>rent</td>\n",
       "      <td>35000.0</td>\n",
       "      <td>Verified</td>\n",
       "      <td>57.96</td>\n",
       "      <td>57000.0</td>\n",
       "      <td>Verified</td>\n",
       "      <td>37.66</td>\n",
       "      <td>...</td>\n",
       "      <td>C3</td>\n",
       "      <td>Mar-2018</td>\n",
       "      <td>Current</td>\n",
       "      <td>whole</td>\n",
       "      <td>Cash</td>\n",
       "      <td>21430.15</td>\n",
       "      <td>2324.65</td>\n",
       "      <td>1569.85</td>\n",
       "      <td>754.80</td>\n",
       "      <td>0.0</td>\n",
       "    </tr>\n",
       "  </tbody>\n",
       "</table>\n",
       "<p>5 rows × 55 columns</p>\n",
       "</div>"
      ],
      "text/plain": [
       "                 emp_title  emp_length state homeownership  annual_income  \\\n",
       "0  global config engineer          3.0    NJ      mortgage        90000.0   \n",
       "1   warehouse office clerk        10.0    HI          rent        40000.0   \n",
       "2                 assembly         3.0    WI          rent        40000.0   \n",
       "3         customer service         1.0    PA          rent        30000.0   \n",
       "4     security supervisor         10.0    CA          rent        35000.0   \n",
       "\n",
       "   verified_income  debt_to_income  annual_income_joint  \\\n",
       "0         Verified           18.01                  NaN   \n",
       "1     Not Verified            5.04                  NaN   \n",
       "2  Source Verified           21.15                  NaN   \n",
       "3     Not Verified           10.16                  NaN   \n",
       "4         Verified           57.96              57000.0   \n",
       "\n",
       "  verification_income_joint  debt_to_income_joint  ...  sub_grade  \\\n",
       "0                       NaN                   NaN  ...         C3   \n",
       "1                       NaN                   NaN  ...         C1   \n",
       "2                       NaN                   NaN  ...         D1   \n",
       "3                       NaN                   NaN  ...         A3   \n",
       "4                  Verified                 37.66  ...         C3   \n",
       "\n",
       "   issue_month  loan_status  initial_listing_status  disbursement_method  \\\n",
       "0     Mar-2018      Current                   whole                 Cash   \n",
       "1     Feb-2018      Current                   whole                 Cash   \n",
       "2     Feb-2018      Current              fractional                 Cash   \n",
       "3     Jan-2018      Current                   whole                 Cash   \n",
       "4     Mar-2018      Current                   whole                 Cash   \n",
       "\n",
       "    balance  paid_total  paid_principal  paid_interest  paid_late_fees  \n",
       "0  27015.86     1999.33          984.14        1015.19             0.0  \n",
       "1   4651.37      499.12          348.63         150.49             0.0  \n",
       "2   1824.63      281.80          175.37         106.43             0.0  \n",
       "3  18853.26     3312.89         2746.74         566.15             0.0  \n",
       "4  21430.15     2324.65         1569.85         754.80             0.0  \n",
       "\n",
       "[5 rows x 55 columns]"
      ]
     },
     "execution_count": 2,
     "metadata": {},
     "output_type": "execute_result"
    }
   ],
   "source": [
    "import pandas as pd\n",
    "\n",
    "ROOT = \"https://raw.githubusercontent.com/kirenz/modern-statistics/main/data/\"\n",
    "DATA = \"loans.csv\"\n",
    "\n",
    "df = pd.read_csv(ROOT + DATA)\n",
    "\n",
    "df.homeownership = df.homeownership.astype(\"category\")\n",
    "df.application_type = df.application_type.astype(\"category\")\n",
    "\n",
    "df"
   ]
  },
  {
   "cell_type": "markdown",
   "metadata": {
    "slideshow": {
     "slide_type": "slide"
    }
   },
   "source": [
    "## Bar plots with two variables"
   ]
  },
  {
   "cell_type": "code",
   "execution_count": 3,
   "metadata": {
    "slideshow": {
     "slide_type": "slide"
    }
   },
   "outputs": [],
   "source": [
    "%matplotlib inline\n",
    "import seaborn as sns\n",
    "import matplotlib.pyplot as plt\n",
    "\n",
    "# Seaborn style\n",
    "sns.set_theme(style=\"ticks\", color_codes=True)\n",
    "\n",
    "# Custom colors\n",
    "blue = \"#3F83F4\"\n",
    "blue_dark = \"#062089\"\n",
    "blue_light = \"#8DC0F6\"\n",
    "blue_lighter = \"#BBE4FA\"\n",
    "grey = \"#9C9C9C\"\n",
    "grey_dark = \"#777777\"\n",
    "grey_light = \"#B2B2B2\"\n",
    "orange = \"#EF8733\"\n",
    "colors_blue = [blue_dark, blue, blue_light]"
   ]
  },
  {
   "cell_type": "markdown",
   "metadata": {
    "slideshow": {
     "slide_type": "slide"
    }
   },
   "source": [
    "### Dodged Bar plot"
   ]
  },
  {
   "cell_type": "code",
   "execution_count": 6,
   "metadata": {
    "slideshow": {
     "slide_type": "slide"
    }
   },
   "outputs": [
    {
     "data": {
      "image/png": "[encoded data removed]",
      "text/plain": [
       "<Figure size 455.175x360 with 1 Axes>"
      ]
     },
     "metadata": {},
     "output_type": "display_data"
    }
   ],
   "source": [
    "# Dodged bar plot\n",
    "sns.catplot(x=\"homeownership\", \n",
    "            hue=\"application_type\", \n",
    "            kind = \"count\", \n",
    "            palette=colors_blue, \n",
    "            data=df);"
   ]
  },
  {
   "cell_type": "markdown",
   "metadata": {
    "slideshow": {
     "slide_type": "slide"
    }
   },
   "source": [
    "### Stacked bar chart"
   ]
  },
  {
   "cell_type": "code",
   "execution_count": 5,
   "metadata": {
    "scrolled": false,
    "slideshow": {
     "slide_type": "slide"
    }
   },
   "outputs": [
    {
     "data": {
      "image/png": "[encoded data removed]",
      "text/plain": [
       "<Figure size 432x288 with 1 Axes>"
      ]
     },
     "metadata": {},
     "output_type": "display_data"
    }
   ],
   "source": [
    "# Stacked bar chart\n",
    "# Data\n",
    "joint = df.homeownership[df.application_type==\"joint\"].value_counts() \n",
    "individual = df.homeownership[df.application_type==\"individual\"].value_counts() \n",
    "labels = list(df['homeownership'].value_counts().index)\n",
    "\n",
    "# Width of the bars: can also be len(x) sequence\n",
    "width = 0.85\n",
    "\n",
    "# Create a figure containing a single axes.\n",
    "fig, ax = plt.subplots()\n",
    "\n",
    "# Plot data on the axes\n",
    "ax.bar(labels, joint, width, bottom=individual, color=blue,label='joint')\n",
    "ax.bar(labels, individual, width, color=grey, label='individual')\n",
    "\n",
    "# Define labels\n",
    "ax.set_ylabel('Count')\n",
    "fig.suptitle('Stacked bar chart', fontsize=14, fontweight='bold')\n",
    "ax.set_title('Homeownership')\n",
    "\n",
    "ax.legend()\n",
    "\n",
    "# Hide the right and top spines\n",
    "ax.spines['right'].set_visible(False)\n",
    "ax.spines['top'].set_visible(False)\n",
    "\n",
    "# Only show ticks on the left and bottom spines\n",
    "ax.yaxis.set_ticks_position('left')\n",
    "ax.xaxis.set_ticks_position('bottom')\n",
    "\n",
    "plt.show();\n",
    "\n",
    "#fig.savefig('img/stacked-bar-chart.png')\n",
    "#plt.close(fig) "
   ]
  },
  {
   "cell_type": "markdown",
   "metadata": {
    "slideshow": {
     "slide_type": "slide"
    }
   },
   "source": [
    "### Standardized bar plot"
   ]
  },
  {
   "cell_type": "code",
   "execution_count": 6,
   "metadata": {
    "scrolled": false,
    "slideshow": {
     "slide_type": "slide"
    }
   },
   "outputs": [
    {
     "data": {
      "image/png": "[encoded data removed]",
      "text/plain": [
       "<Figure size 432x288 with 1 Axes>"
      ]
     },
     "metadata": {},
     "output_type": "display_data"
    }
   ],
   "source": [
    "from matplotlib import rc\n",
    "# Standardized bar plot\n",
    "# Data\n",
    "joint = df.homeownership[df.application_type==\"joint\"].value_counts() \n",
    "individual = df.homeownership[df.application_type==\"individual\"].value_counts() \n",
    "labels = list(df['homeownership'].value_counts().index)\n",
    "r = [0,1,2]\n",
    "# From raw value to percentage\n",
    "totals = [i+j for i,j in zip(joint, individual)]\n",
    "joint_bar = [i / j * 100 for i,j in zip(joint, totals)]\n",
    "individual_bar = [i / j * 100 for i,j in zip(individual, totals)]\n",
    "# plot\n",
    "barWidth = 0.85\n",
    "plt.bar(r, individual_bar, color=grey, edgecolor='white', width=barWidth, label=\"individual\")\n",
    "plt.bar(r, joint_bar, bottom=individual_bar, color=blue, edgecolor='white', width=barWidth, label=\"joint\")\n",
    "# Custom axis\n",
    "plt.xticks(r, labels)\n",
    "plt.xlabel(\"Homeownership\")\n",
    "plt.ylabel(\"Proportion\")\n",
    "# Add a legend and title\n",
    "plt.legend(loc='upper left', bbox_to_anchor=(1,1), ncol=1)\n",
    "plt.title(\"Standardized bar chart\") \n",
    "\n",
    "# Save graphic\n",
    "#plt.savefig('img/standard-bar-chart.png')\n",
    "#plt.close(fig) \n"
   ]
  },
  {
   "cell_type": "markdown",
   "metadata": {
    "slideshow": {
     "slide_type": "slide"
    }
   },
   "source": [
    "## Mosaic plots"
   ]
  },
  {
   "cell_type": "code",
   "execution_count": 7,
   "metadata": {
    "slideshow": {
     "slide_type": "slide"
    }
   },
   "outputs": [],
   "source": [
    "from statsmodels.graphics.mosaicplot import mosaic"
   ]
  },
  {
   "cell_type": "code",
   "execution_count": 8,
   "metadata": {
    "slideshow": {
     "slide_type": "slide"
    }
   },
   "outputs": [
    {
     "data": {
      "image/png": "[encoded data removed]",
      "text/plain": [
       "<Figure size 432x288 with 3 Axes>"
      ]
     },
     "metadata": {},
     "output_type": "display_data"
    }
   ],
   "source": [
    "# Mosaic plot for homeownership alone\n",
    "mosaic(df, ['homeownership'], title='Moasic plot for homeownership')\n",
    "plt.show();"
   ]
  },
  {
   "cell_type": "code",
   "execution_count": 9,
   "metadata": {
    "scrolled": false,
    "slideshow": {
     "slide_type": "slide"
    }
   },
   "outputs": [
    {
     "data": {
      "image/png": "[encoded data removed]",
      "text/plain": [
       "<Figure size 432x288 with 3 Axes>"
      ]
     },
     "metadata": {},
     "output_type": "display_data"
    }
   ],
   "source": [
    "# Mosaic plot for displaying the relationship between homeownership and application type.\n",
    "mosaic(df, ['homeownership', 'application_type'], title='Relationship between homeownership and application type')\n",
    "plt.show();"
   ]
  },
  {
   "cell_type": "code",
   "execution_count": 10,
   "metadata": {
    "slideshow": {
     "slide_type": "slide"
    }
   },
   "outputs": [
    {
     "data": {
      "image/png": "[encoded data removed]",
      "text/plain": [
       "<Figure size 432x288 with 3 Axes>"
      ]
     },
     "metadata": {},
     "output_type": "display_data"
    }
   ],
   "source": [
    "# Mosaic plot where loans are grouped by homeownership \n",
    "# after they have been divided into application types.\n",
    "\n",
    "mosaic(df, ['application_type', 'homeownership'], title='')\n",
    "plt.show();"
   ]
  }
 ],
 "metadata": {
  "celltoolbar": "Slideshow",
  "interpreter": {
   "hash": "d361e8bd3ab8be8f3ea65790adb41c2b64f49b1477d0d1af835155fecf213182"
  },
  "kernelspec": {
   "display_name": "Python 3",
   "language": "python",
   "name": "python3"
  },
  "language_info": {
   "codemirror_mode": {
    "name": "ipython",
    "version": 3
   },
   "file_extension": ".py",
   "mimetype": "text/x-python",
   "name": "python",
   "nbconvert_exporter": "python",
   "pygments_lexer": "ipython3",
   "version": "3.8.2"
  },
  "varInspector": {
   "cols": {
    "lenName": 16,
    "lenType": 16,
    "lenVar": 40
   },
   "kernels_config": {
    "python": {
     "delete_cmd_postfix": "",
     "delete_cmd_prefix": "del ",
     "library": "var_list.py",
     "varRefreshCmd": "print(var_dic_list())"
    },
    "r": {
     "delete_cmd_postfix": ") ",
     "delete_cmd_prefix": "rm(",
     "library": "var_list.r",
     "varRefreshCmd": "cat(var_dic_list()) "
    }
   },
   "types_to_exclude": [
    "module",
    "function",
    "builtin_function_or_method",
    "instance",
    "_Feature"
   ],
   "window_display": false
  }
 },
 "nbformat": 4,
 "nbformat_minor": 2
}
