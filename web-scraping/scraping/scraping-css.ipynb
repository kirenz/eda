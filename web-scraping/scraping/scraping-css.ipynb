{
 "cells": [
  {
   "cell_type": "markdown",
   "metadata": {},
   "source": [
    "# Scraping with CSS class"
   ]
  },
  {
   "cell_type": "markdown",
   "metadata": {},
   "source": [
    "## Setup"
   ]
  },
  {
   "cell_type": "code",
   "execution_count": 2,
   "metadata": {},
   "outputs": [],
   "source": [
    "import pandas as pd\n",
    "import requests\n",
    "from bs4 import BeautifulSoup"
   ]
  },
  {
   "cell_type": "markdown",
   "metadata": {},
   "source": [
    "## Scraping CNN article"
   ]
  },
  {
   "cell_type": "code",
   "execution_count": 14,
   "metadata": {},
   "outputs": [],
   "source": [
    "url = 'https://edition.cnn.com/2022/12/01/football/uruguay-ghana-qatar-world-cup-spt-intl/index.html'\n",
    "html = requests.get(url)\n",
    "soup = BeautifulSoup(html.text, 'html.parser')"
   ]
  },
  {
   "cell_type": "markdown",
   "metadata": {},
   "source": [
    "We want to scrape the text and therefore need to use (see screenshot):\n",
    "\n",
    "- div: p\n",
    "- class: inline-placeholder"
   ]
  },
  {
   "cell_type": "markdown",
   "metadata": {},
   "source": [
    "Note: It’s very useful to search for a tag that has a certain CSS class, but the name of the CSS attribute, “class”, is a reserved word in Python. Using class as a keyword argument will give you a syntax error. As of Beautiful Soup 4.1.2, you can search by CSS class using the keyword argument `class_`\n",
    "\n",
    "See the documentation for some examples to search by [CSS class](https://www.crummy.com/software/BeautifulSoup/bs4/doc/#searching-by-css-class)"
   ]
  },
  {
   "cell_type": "code",
   "execution_count": 23,
   "metadata": {},
   "outputs": [],
   "source": [
    "text = soup.find_all(\"p\", class_=\"inline-placeholder\")\n",
    "\n",
    "article_text = []\n",
    "\n",
    "for i in text:\n",
    "    article_text.append(i.string) "
   ]
  },
  {
   "cell_type": "code",
   "execution_count": 24,
   "metadata": {},
   "outputs": [
    {
     "data": {
      "text/plain": [
       "[None,\n",
       " '\\n      On a tense evening in Johannesburg, this was a game that had everything; drama, controversy, heartbreak, a villain and a hero – incidentally, both played by the same person.\\n  ',\n",
       " '\\n      Luis Suárez’s role as Uruguay’s savior that night made him persona non grata in Ghana, even earning him the nickname ‘El Diablo,’ or ‘The Devil.’\\n  ',\n",
       " '\\n      With the scores level at 1-1 and the game approaching the final seconds of extra time, Suárez blocked a goal-bound winner on the line with his hands. It was a goal that would have put Ghana into the World Cup semifinal, making it the first African team in history to reach the final four.\\n  ',\n",
       " '\\n      Instead, Suárez was sent off, but Asamoah Gyan, Ghana’s star man and captain, missed the penalty. Images of Suárez wildly celebrating the miss in the tunnel became one of the enduring moments of that World Cup and only further angered the already incandescent Ghanaian supporters.\\n  ',\n",
       " None,\n",
       " '\\n      Ghana went on to lose the subsequent penalty shootout and with it the team’s chance at creating history.\\n  ',\n",
       " '\\n      Now, ahead of the first meeting between these sides since that memorable night more than 12 years ago, Suárez insists he has nothing to say sorry for.\\n  ',\n",
       " '\\n      “I don’t apologize about that … but the player is gonna miss a penalty,” Suárez told reporters in the buildup to the rematch, per Reuters. “Maybe, I can say [I] apologize if I injure the player and take a red card.\\n  ',\n",
       " '\\n      “But in this situation, I take a red card and the ref said penalty. This is not my fault because I didn’t miss. It’s not my responsibility to shoot the penalty.”\\n  ',\n",
       " None,\n",
       " None,\n",
       " '\\n      The stakes are high this time round, too, though not quite as high as they were in 2010.\\n  ',\n",
       " '\\n      Ghana will face Uruguay on Friday in a match that will play a big part in deciding which team goes through to the round of 16. Ghana knows a victory will guarantee its place in the knockout stages, with a draw also being enough if Portugal beats South Korea.\\n  ',\n",
       " None,\n",
       " '\\n      “It’s all about perspective,” Ghana coach Otto Addo said of the handball, per Reuters. “If the same incident would have happened the other way around and Ghana would proceed to the semifinals, everybody would say: ‘OK, it’s normal that a player will do anything he can.’”\\n  ',\n",
       " '\\n      “This is what I wish from every player, to do all he can to help his team qualify to serve and sometimes sacrificing himself with a red card.”\\n  ',\n",
       " '\\n      Ghana vs. Uruguay: 10am ET\\n  ',\n",
       " '\\n      South Korea vs. Portugal: 10am ET\\n  ',\n",
       " '\\n      Cameroon vs. Brazil: 2pm ET\\n  ',\n",
       " '\\n      Serbia vs. Switzerland: 2pm ET\\n  ',\n",
       " '\\n      US: Fox Sports\\n  ',\n",
       " '\\n      UK: BBC or ITV\\n  ',\n",
       " '\\n      Australia: SBS\\n  ',\n",
       " '\\n      Brazil: SportTV\\n  ',\n",
       " '\\n      Germany: ARD, ZDF, Deutsche Telekom\\n  ',\n",
       " '\\n      Canada: Bell Media\\n  ',\n",
       " '\\n      South Africa: SABC\\n  ']"
      ]
     },
     "execution_count": 24,
     "metadata": {},
     "output_type": "execute_result"
    }
   ],
   "source": [
    "article_text"
   ]
  }
 ],
 "metadata": {
  "kernelspec": {
   "display_name": "Python 3.9.13 ('webscraping')",
   "language": "python",
   "name": "python3"
  },
  "language_info": {
   "codemirror_mode": {
    "name": "ipython",
    "version": 3
   },
   "file_extension": ".py",
   "mimetype": "text/x-python",
   "name": "python",
   "nbconvert_exporter": "python",
   "pygments_lexer": "ipython3",
   "version": "3.9.13"
  },
  "orig_nbformat": 4,
  "vscode": {
   "interpreter": {
    "hash": "147de23312147813b0623f895fe208f672aacb131d01c672b840a7a22f97849e"
   }
  }
 },
 "nbformat": 4,
 "nbformat_minor": 2
}
