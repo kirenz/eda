{
 "cells": [
  {
   "cell_type": "markdown",
   "metadata": {
    "slideshow": {
     "slide_type": "slide"
    }
   },
   "source": [
    "# Create file with Twitter keys"
   ]
  },
  {
   "cell_type": "markdown",
   "metadata": {
    "slideshow": {
     "slide_type": "fragment"
    }
   },
   "source": [
    "- We need to provide the Twitter keys and tokens in order to use the API v2. \n",
    "\n",
    "- Therefore, we first create a simple Python script called `keys.py` in which we store all passwords. \n",
    "\n",
    "\n",
    "We create the file with the following commands:\n",
    "1. we create a variable called `keys.py`\n",
    "\n",
    "1. we create the file with `%%writefile`: this will save this script in the same folder as this notebook\n"
   ]
  },
  {
   "cell_type": "code",
   "execution_count": 5,
   "metadata": {},
   "outputs": [],
   "source": [
    "# Create variable\n",
    "file_name = 'keys.py'"
   ]
  },
  {
   "cell_type": "code",
   "execution_count": 8,
   "metadata": {},
   "outputs": [
    {
     "name": "stdout",
     "output_type": "stream",
     "text": [
      "Overwriting keys.py\n"
     ]
    }
   ],
   "source": [
    "%%writefile {file_name}\n",
    "\n",
    "consumer_key='insert your API key'\n",
    "consumer_secret='insert your API secret'\n",
    "access_token='insert your access token'\n",
    "access_token_secret='insert your access token secret'\n",
    "bearer_token='insert your bearer token'"
   ]
  },
  {
   "cell_type": "markdown",
   "metadata": {},
   "source": [
    "Take a look in your folder: You should see the file `keys.py`\n",
    "\n",
    "Open `keys.py` and insert your keys. Save the changes."
   ]
  }
 ],
 "metadata": {
  "celltoolbar": "Slideshow",
  "kernelspec": {
   "display_name": "Python 3.9.13 ('twitter')",
   "language": "python",
   "name": "python3"
  },
  "language_info": {
   "codemirror_mode": {
    "name": "ipython",
    "version": 3
   },
   "file_extension": ".py",
   "mimetype": "text/x-python",
   "name": "python",
   "nbconvert_exporter": "python",
   "pygments_lexer": "ipython3",
   "version": "3.9.13"
  },
  "varInspector": {
   "cols": {
    "lenName": 16,
    "lenType": 16,
    "lenVar": 40
   },
   "kernels_config": {
    "python": {
     "delete_cmd_postfix": "",
     "delete_cmd_prefix": "del ",
     "library": "var_list.py",
     "varRefreshCmd": "print(var_dic_list())"
    },
    "r": {
     "delete_cmd_postfix": ") ",
     "delete_cmd_prefix": "rm(",
     "library": "var_list.r",
     "varRefreshCmd": "cat(var_dic_list()) "
    }
   },
   "types_to_exclude": [
    "module",
    "function",
    "builtin_function_or_method",
    "instance",
    "_Feature"
   ],
   "window_display": false
  },
  "vscode": {
   "interpreter": {
    "hash": "c296f5ba411204996712c28dc8cda255f81ac367e470d8f4c614ba41bcf241d0"
   }
  }
 },
 "nbformat": 4,
 "nbformat_minor": 2
}
