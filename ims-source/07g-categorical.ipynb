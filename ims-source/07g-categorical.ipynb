{
 "cells": [
  {
   "cell_type": "markdown",
   "metadata": {},
   "source": [
    "# Categorical"
   ]
  },
  {
   "cell_type": "markdown",
   "metadata": {},
   "source": [
    "## Setup"
   ]
  },
  {
   "cell_type": "code",
   "execution_count": 3,
   "metadata": {},
   "outputs": [],
   "source": [
    "import pandas as pd\n",
    "import altair as alt\n",
    "\n",
    "from sklearn.linear_model import LinearRegression\n",
    "from sklearn.metrics import mean_squared_error\n",
    "from sklearn.metrics import r2_score"
   ]
  },
  {
   "cell_type": "markdown",
   "metadata": {},
   "source": [
    "## Data"
   ]
  },
  {
   "cell_type": "code",
   "execution_count": 4,
   "metadata": {},
   "outputs": [
    {
     "data": {
      "text/html": [
       "<div>\n",
       "<style scoped>\n",
       "    .dataframe tbody tr th:only-of-type {\n",
       "        vertical-align: middle;\n",
       "    }\n",
       "\n",
       "    .dataframe tbody tr th {\n",
       "        vertical-align: top;\n",
       "    }\n",
       "\n",
       "    .dataframe thead th {\n",
       "        text-align: right;\n",
       "    }\n",
       "</style>\n",
       "<table border=\"1\" class=\"dataframe\">\n",
       "  <thead>\n",
       "    <tr style=\"text-align: right;\">\n",
       "      <th></th>\n",
       "      <th>cond</th>\n",
       "      <th>total_pr</th>\n",
       "    </tr>\n",
       "  </thead>\n",
       "  <tbody>\n",
       "    <tr>\n",
       "      <th>0</th>\n",
       "      <td>new</td>\n",
       "      <td>51.55</td>\n",
       "    </tr>\n",
       "    <tr>\n",
       "      <th>1</th>\n",
       "      <td>used</td>\n",
       "      <td>37.04</td>\n",
       "    </tr>\n",
       "    <tr>\n",
       "      <th>2</th>\n",
       "      <td>new</td>\n",
       "      <td>45.50</td>\n",
       "    </tr>\n",
       "    <tr>\n",
       "      <th>3</th>\n",
       "      <td>new</td>\n",
       "      <td>44.00</td>\n",
       "    </tr>\n",
       "    <tr>\n",
       "      <th>4</th>\n",
       "      <td>new</td>\n",
       "      <td>71.00</td>\n",
       "    </tr>\n",
       "    <tr>\n",
       "      <th>...</th>\n",
       "      <td>...</td>\n",
       "      <td>...</td>\n",
       "    </tr>\n",
       "    <tr>\n",
       "      <th>138</th>\n",
       "      <td>used</td>\n",
       "      <td>39.51</td>\n",
       "    </tr>\n",
       "    <tr>\n",
       "      <th>139</th>\n",
       "      <td>used</td>\n",
       "      <td>52.00</td>\n",
       "    </tr>\n",
       "    <tr>\n",
       "      <th>140</th>\n",
       "      <td>new</td>\n",
       "      <td>47.70</td>\n",
       "    </tr>\n",
       "    <tr>\n",
       "      <th>141</th>\n",
       "      <td>used</td>\n",
       "      <td>38.76</td>\n",
       "    </tr>\n",
       "    <tr>\n",
       "      <th>142</th>\n",
       "      <td>new</td>\n",
       "      <td>54.51</td>\n",
       "    </tr>\n",
       "  </tbody>\n",
       "</table>\n",
       "<p>143 rows × 2 columns</p>\n",
       "</div>"
      ],
      "text/plain": [
       "     cond  total_pr\n",
       "0     new     51.55\n",
       "1    used     37.04\n",
       "2     new     45.50\n",
       "3     new     44.00\n",
       "4     new     71.00\n",
       "..    ...       ...\n",
       "138  used     39.51\n",
       "139  used     52.00\n",
       "140   new     47.70\n",
       "141  used     38.76\n",
       "142   new     54.51\n",
       "\n",
       "[143 rows x 2 columns]"
      ]
     },
     "execution_count": 4,
     "metadata": {},
     "output_type": "execute_result"
    }
   ],
   "source": [
    "df = pd.read_csv('https://raw.githubusercontent.com/kirenz/datasets/master/mariokart.csv')\n",
    "\n",
    "# we only need cond and total_pr\n",
    "df = df[['cond', 'total_pr']]\n",
    "\n",
    "df"
   ]
  },
  {
   "cell_type": "markdown",
   "metadata": {},
   "source": [
    " Note that the original dataset contains some Mario Kart games being sold at prices above $100 but for this analysis we will limit our focus to Mario Kart games that were sold below $100."
   ]
  },
  {
   "cell_type": "code",
   "execution_count": 5,
   "metadata": {},
   "outputs": [],
   "source": [
    "# only keep games with total price below 100\n",
    "df = df[df['total_pr']<100]"
   ]
  },
  {
   "cell_type": "code",
   "execution_count": 6,
   "metadata": {},
   "outputs": [
    {
     "name": "stdout",
     "output_type": "stream",
     "text": [
      "<class 'pandas.core.frame.DataFrame'>\n",
      "Int64Index: 141 entries, 0 to 142\n",
      "Data columns (total 2 columns):\n",
      " #   Column    Non-Null Count  Dtype  \n",
      "---  ------    --------------  -----  \n",
      " 0   cond      141 non-null    object \n",
      " 1   total_pr  141 non-null    float64\n",
      "dtypes: float64(1), object(1)\n",
      "memory usage: 3.3+ KB\n"
     ]
    }
   ],
   "source": [
    "df.info()"
   ]
  },
  {
   "cell_type": "code",
   "execution_count": 7,
   "metadata": {},
   "outputs": [
    {
     "data": {
      "text/html": [
       "\n",
       "<div id=\"altair-viz-d272382549204deaa4d37eb380a2dfa3\"></div>\n",
       "<script type=\"text/javascript\">\n",
       "  (function(spec, embedOpt){\n",
       "    let outputDiv = document.currentScript.previousElementSibling;\n",
       "    if (outputDiv.id !== \"altair-viz-d272382549204deaa4d37eb380a2dfa3\") {\n",
       "      outputDiv = document.getElementById(\"altair-viz-d272382549204deaa4d37eb380a2dfa3\");\n",
       "    }\n",
       "    const paths = {\n",
       "      \"vega\": \"https://cdn.jsdelivr.net/npm//vega@5?noext\",\n",
       "      \"vega-lib\": \"https://cdn.jsdelivr.net/npm//vega-lib?noext\",\n",
       "      \"vega-lite\": \"https://cdn.jsdelivr.net/npm//vega-lite@4.8.1?noext\",\n",
       "      \"vega-embed\": \"https://cdn.jsdelivr.net/npm//vega-embed@6?noext\",\n",
       "    };\n",
       "\n",
       "    function loadScript(lib) {\n",
       "      return new Promise(function(resolve, reject) {\n",
       "        var s = document.createElement('script');\n",
       "        s.src = paths[lib];\n",
       "        s.async = true;\n",
       "        s.onload = () => resolve(paths[lib]);\n",
       "        s.onerror = () => reject(`Error loading script: ${paths[lib]}`);\n",
       "        document.getElementsByTagName(\"head\")[0].appendChild(s);\n",
       "      });\n",
       "    }\n",
       "\n",
       "    function showError(err) {\n",
       "      outputDiv.innerHTML = `<div class=\"error\" style=\"color:red;\">${err}</div>`;\n",
       "      throw err;\n",
       "    }\n",
       "\n",
       "    function displayChart(vegaEmbed) {\n",
       "      vegaEmbed(outputDiv, spec, embedOpt)\n",
       "        .catch(err => showError(`Javascript Error: ${err.message}<br>This usually means there's a typo in your chart specification. See the javascript console for the full traceback.`));\n",
       "    }\n",
       "\n",
       "    if(typeof define === \"function\" && define.amd) {\n",
       "      requirejs.config({paths});\n",
       "      require([\"vega-embed\"], displayChart, err => showError(`Error loading script: ${err.message}`));\n",
       "    } else if (typeof vegaEmbed === \"function\") {\n",
       "      displayChart(vegaEmbed);\n",
       "    } else {\n",
       "      loadScript(\"vega\")\n",
       "        .then(() => loadScript(\"vega-lite\"))\n",
       "        .then(() => loadScript(\"vega-embed\"))\n",
       "        .catch(showError)\n",
       "        .then(() => displayChart(vegaEmbed));\n",
       "    }\n",
       "  })({\"config\": {\"view\": {\"continuousWidth\": 400, \"continuousHeight\": 300}}, \"data\": {\"name\": \"data-456bdac2f106bf75f00d4df083675f96\"}, \"mark\": \"boxplot\", \"encoding\": {\"x\": {\"type\": \"quantitative\", \"field\": \"total_pr\"}, \"y\": {\"type\": \"nominal\", \"field\": \"cond\"}}, \"$schema\": \"https://vega.github.io/schema/vega-lite/v4.8.1.json\", \"datasets\": {\"data-456bdac2f106bf75f00d4df083675f96\": [{\"cond\": \"new\", \"total_pr\": 51.55}, {\"cond\": \"used\", \"total_pr\": 37.04}, {\"cond\": \"new\", \"total_pr\": 45.5}, {\"cond\": \"new\", \"total_pr\": 44.0}, {\"cond\": \"new\", \"total_pr\": 71.0}, {\"cond\": \"new\", \"total_pr\": 45.0}, {\"cond\": \"used\", \"total_pr\": 37.02}, {\"cond\": \"new\", \"total_pr\": 53.99}, {\"cond\": \"used\", \"total_pr\": 47.0}, {\"cond\": \"used\", \"total_pr\": 50.0}, {\"cond\": \"new\", \"total_pr\": 54.99}, {\"cond\": \"new\", \"total_pr\": 56.01}, {\"cond\": \"new\", \"total_pr\": 48.0}, {\"cond\": \"new\", \"total_pr\": 56.0}, {\"cond\": \"used\", \"total_pr\": 43.33}, {\"cond\": \"used\", \"total_pr\": 46.0}, {\"cond\": \"new\", \"total_pr\": 46.71}, {\"cond\": \"new\", \"total_pr\": 46.0}, {\"cond\": \"new\", \"total_pr\": 55.99}, {\"cond\": \"used\", \"total_pr\": 31.0}, {\"cond\": \"new\", \"total_pr\": 53.98}, {\"cond\": \"new\", \"total_pr\": 64.95}, {\"cond\": \"new\", \"total_pr\": 50.5}, {\"cond\": \"used\", \"total_pr\": 46.5}, {\"cond\": \"new\", \"total_pr\": 55.0}, {\"cond\": \"used\", \"total_pr\": 34.5}, {\"cond\": \"used\", \"total_pr\": 36.0}, {\"cond\": \"used\", \"total_pr\": 40.0}, {\"cond\": \"new\", \"total_pr\": 47.0}, {\"cond\": \"used\", \"total_pr\": 43.0}, {\"cond\": \"used\", \"total_pr\": 31.0}, {\"cond\": \"used\", \"total_pr\": 41.99}, {\"cond\": \"used\", \"total_pr\": 49.49}, {\"cond\": \"used\", \"total_pr\": 41.0}, {\"cond\": \"used\", \"total_pr\": 44.78}, {\"cond\": \"used\", \"total_pr\": 47.0}, {\"cond\": \"used\", \"total_pr\": 44.0}, {\"cond\": \"new\", \"total_pr\": 63.99}, {\"cond\": \"new\", \"total_pr\": 53.76}, {\"cond\": \"new\", \"total_pr\": 46.03}, {\"cond\": \"used\", \"total_pr\": 42.25}, {\"cond\": \"used\", \"total_pr\": 46.0}, {\"cond\": \"new\", \"total_pr\": 51.99}, {\"cond\": \"new\", \"total_pr\": 55.99}, {\"cond\": \"used\", \"total_pr\": 41.99}, {\"cond\": \"new\", \"total_pr\": 53.99}, {\"cond\": \"used\", \"total_pr\": 39.0}, {\"cond\": \"used\", \"total_pr\": 38.06}, {\"cond\": \"used\", \"total_pr\": 46.0}, {\"cond\": \"new\", \"total_pr\": 59.88}, {\"cond\": \"used\", \"total_pr\": 28.98}, {\"cond\": \"used\", \"total_pr\": 36.0}, {\"cond\": \"new\", \"total_pr\": 51.99}, {\"cond\": \"used\", \"total_pr\": 43.95}, {\"cond\": \"used\", \"total_pr\": 32.0}, {\"cond\": \"used\", \"total_pr\": 40.06}, {\"cond\": \"used\", \"total_pr\": 48.0}, {\"cond\": \"used\", \"total_pr\": 36.0}, {\"cond\": \"used\", \"total_pr\": 31.0}, {\"cond\": \"new\", \"total_pr\": 53.99}, {\"cond\": \"used\", \"total_pr\": 30.0}, {\"cond\": \"new\", \"total_pr\": 58.0}, {\"cond\": \"used\", \"total_pr\": 38.1}, {\"cond\": \"used\", \"total_pr\": 61.76}, {\"cond\": \"new\", \"total_pr\": 53.99}, {\"cond\": \"used\", \"total_pr\": 40.0}, {\"cond\": \"used\", \"total_pr\": 64.5}, {\"cond\": \"used\", \"total_pr\": 49.01}, {\"cond\": \"new\", \"total_pr\": 47.0}, {\"cond\": \"used\", \"total_pr\": 40.1}, {\"cond\": \"new\", \"total_pr\": 41.5}, {\"cond\": \"new\", \"total_pr\": 56.0}, {\"cond\": \"new\", \"total_pr\": 64.95}, {\"cond\": \"used\", \"total_pr\": 49.0}, {\"cond\": \"used\", \"total_pr\": 48.0}, {\"cond\": \"used\", \"total_pr\": 38.0}, {\"cond\": \"used\", \"total_pr\": 45.0}, {\"cond\": \"used\", \"total_pr\": 41.95}, {\"cond\": \"used\", \"total_pr\": 43.36}, {\"cond\": \"new\", \"total_pr\": 54.99}, {\"cond\": \"used\", \"total_pr\": 45.21}, {\"cond\": \"used\", \"total_pr\": 65.02}, {\"cond\": \"used\", \"total_pr\": 45.75}, {\"cond\": \"new\", \"total_pr\": 64.0}, {\"cond\": \"used\", \"total_pr\": 36.0}, {\"cond\": \"new\", \"total_pr\": 54.7}, {\"cond\": \"new\", \"total_pr\": 49.91}, {\"cond\": \"used\", \"total_pr\": 47.0}, {\"cond\": \"used\", \"total_pr\": 43.0}, {\"cond\": \"used\", \"total_pr\": 35.99}, {\"cond\": \"used\", \"total_pr\": 54.49}, {\"cond\": \"used\", \"total_pr\": 46.0}, {\"cond\": \"used\", \"total_pr\": 31.06}, {\"cond\": \"used\", \"total_pr\": 55.6}, {\"cond\": \"new\", \"total_pr\": 40.1}, {\"cond\": \"new\", \"total_pr\": 52.59}, {\"cond\": \"used\", \"total_pr\": 44.0}, {\"cond\": \"used\", \"total_pr\": 38.26}, {\"cond\": \"used\", \"total_pr\": 51.0}, {\"cond\": \"new\", \"total_pr\": 48.99}, {\"cond\": \"new\", \"total_pr\": 66.44}, {\"cond\": \"new\", \"total_pr\": 63.5}, {\"cond\": \"used\", \"total_pr\": 42.0}, {\"cond\": \"new\", \"total_pr\": 47.0}, {\"cond\": \"used\", \"total_pr\": 55.0}, {\"cond\": \"used\", \"total_pr\": 33.01}, {\"cond\": \"new\", \"total_pr\": 53.76}, {\"cond\": \"new\", \"total_pr\": 46.0}, {\"cond\": \"used\", \"total_pr\": 43.0}, {\"cond\": \"used\", \"total_pr\": 42.55}, {\"cond\": \"used\", \"total_pr\": 52.5}, {\"cond\": \"new\", \"total_pr\": 57.5}, {\"cond\": \"new\", \"total_pr\": 75.0}, {\"cond\": \"used\", \"total_pr\": 48.92}, {\"cond\": \"new\", \"total_pr\": 45.99}, {\"cond\": \"used\", \"total_pr\": 40.05}, {\"cond\": \"new\", \"total_pr\": 45.0}, {\"cond\": \"used\", \"total_pr\": 50.0}, {\"cond\": \"new\", \"total_pr\": 49.75}, {\"cond\": \"used\", \"total_pr\": 47.0}, {\"cond\": \"new\", \"total_pr\": 56.0}, {\"cond\": \"used\", \"total_pr\": 41.0}, {\"cond\": \"new\", \"total_pr\": 46.0}, {\"cond\": \"used\", \"total_pr\": 34.99}, {\"cond\": \"used\", \"total_pr\": 49.0}, {\"cond\": \"new\", \"total_pr\": 61.0}, {\"cond\": \"new\", \"total_pr\": 62.89}, {\"cond\": \"new\", \"total_pr\": 46.0}, {\"cond\": \"new\", \"total_pr\": 64.95}, {\"cond\": \"used\", \"total_pr\": 36.99}, {\"cond\": \"used\", \"total_pr\": 44.0}, {\"cond\": \"used\", \"total_pr\": 41.35}, {\"cond\": \"used\", \"total_pr\": 37.0}, {\"cond\": \"new\", \"total_pr\": 58.98}, {\"cond\": \"used\", \"total_pr\": 39.0}, {\"cond\": \"used\", \"total_pr\": 40.7}, {\"cond\": \"used\", \"total_pr\": 39.51}, {\"cond\": \"used\", \"total_pr\": 52.0}, {\"cond\": \"new\", \"total_pr\": 47.7}, {\"cond\": \"used\", \"total_pr\": 38.76}, {\"cond\": \"new\", \"total_pr\": 54.51}]}}, {\"mode\": \"vega-lite\"});\n",
       "</script>"
      ],
      "text/plain": [
       "alt.Chart(...)"
      ]
     },
     "execution_count": 7,
     "metadata": {},
     "output_type": "execute_result"
    }
   ],
   "source": [
    "alt.Chart(df).mark_boxplot().encode(\n",
    "    x='total_pr',\n",
    "    y='cond'\n",
    ")"
   ]
  },
  {
   "cell_type": "code",
   "execution_count": 8,
   "metadata": {},
   "outputs": [
    {
     "data": {
      "text/html": [
       "<div>\n",
       "<style scoped>\n",
       "    .dataframe tbody tr th:only-of-type {\n",
       "        vertical-align: middle;\n",
       "    }\n",
       "\n",
       "    .dataframe tbody tr th {\n",
       "        vertical-align: top;\n",
       "    }\n",
       "\n",
       "    .dataframe thead th {\n",
       "        text-align: right;\n",
       "    }\n",
       "</style>\n",
       "<table border=\"1\" class=\"dataframe\">\n",
       "  <thead>\n",
       "    <tr style=\"text-align: right;\">\n",
       "      <th></th>\n",
       "      <th>total_pr</th>\n",
       "      <th>cond_new</th>\n",
       "      <th>cond_used</th>\n",
       "    </tr>\n",
       "  </thead>\n",
       "  <tbody>\n",
       "    <tr>\n",
       "      <th>0</th>\n",
       "      <td>51.55</td>\n",
       "      <td>1</td>\n",
       "      <td>0</td>\n",
       "    </tr>\n",
       "    <tr>\n",
       "      <th>1</th>\n",
       "      <td>37.04</td>\n",
       "      <td>0</td>\n",
       "      <td>1</td>\n",
       "    </tr>\n",
       "    <tr>\n",
       "      <th>2</th>\n",
       "      <td>45.50</td>\n",
       "      <td>1</td>\n",
       "      <td>0</td>\n",
       "    </tr>\n",
       "    <tr>\n",
       "      <th>3</th>\n",
       "      <td>44.00</td>\n",
       "      <td>1</td>\n",
       "      <td>0</td>\n",
       "    </tr>\n",
       "    <tr>\n",
       "      <th>4</th>\n",
       "      <td>71.00</td>\n",
       "      <td>1</td>\n",
       "      <td>0</td>\n",
       "    </tr>\n",
       "    <tr>\n",
       "      <th>...</th>\n",
       "      <td>...</td>\n",
       "      <td>...</td>\n",
       "      <td>...</td>\n",
       "    </tr>\n",
       "    <tr>\n",
       "      <th>138</th>\n",
       "      <td>39.51</td>\n",
       "      <td>0</td>\n",
       "      <td>1</td>\n",
       "    </tr>\n",
       "    <tr>\n",
       "      <th>139</th>\n",
       "      <td>52.00</td>\n",
       "      <td>0</td>\n",
       "      <td>1</td>\n",
       "    </tr>\n",
       "    <tr>\n",
       "      <th>140</th>\n",
       "      <td>47.70</td>\n",
       "      <td>1</td>\n",
       "      <td>0</td>\n",
       "    </tr>\n",
       "    <tr>\n",
       "      <th>141</th>\n",
       "      <td>38.76</td>\n",
       "      <td>0</td>\n",
       "      <td>1</td>\n",
       "    </tr>\n",
       "    <tr>\n",
       "      <th>142</th>\n",
       "      <td>54.51</td>\n",
       "      <td>1</td>\n",
       "      <td>0</td>\n",
       "    </tr>\n",
       "  </tbody>\n",
       "</table>\n",
       "<p>141 rows × 3 columns</p>\n",
       "</div>"
      ],
      "text/plain": [
       "     total_pr  cond_new  cond_used\n",
       "0       51.55         1          0\n",
       "1       37.04         0          1\n",
       "2       45.50         1          0\n",
       "3       44.00         1          0\n",
       "4       71.00         1          0\n",
       "..        ...       ...        ...\n",
       "138     39.51         0          1\n",
       "139     52.00         0          1\n",
       "140     47.70         1          0\n",
       "141     38.76         0          1\n",
       "142     54.51         1          0\n",
       "\n",
       "[141 rows x 3 columns]"
      ]
     },
     "execution_count": 8,
     "metadata": {},
     "output_type": "execute_result"
    }
   ],
   "source": [
    "# Convert categorical into binary numeric format\n",
    "df = pd.get_dummies(df)\n",
    "df"
   ]
  },
  {
   "cell_type": "code",
   "execution_count": 9,
   "metadata": {},
   "outputs": [
    {
     "data": {
      "text/html": [
       "<div>\n",
       "<style scoped>\n",
       "    .dataframe tbody tr th:only-of-type {\n",
       "        vertical-align: middle;\n",
       "    }\n",
       "\n",
       "    .dataframe tbody tr th {\n",
       "        vertical-align: top;\n",
       "    }\n",
       "\n",
       "    .dataframe thead th {\n",
       "        text-align: right;\n",
       "    }\n",
       "</style>\n",
       "<table border=\"1\" class=\"dataframe\">\n",
       "  <thead>\n",
       "    <tr style=\"text-align: right;\">\n",
       "      <th></th>\n",
       "      <th>total_pr</th>\n",
       "      <th>cond_new</th>\n",
       "    </tr>\n",
       "  </thead>\n",
       "  <tbody>\n",
       "    <tr>\n",
       "      <th>0</th>\n",
       "      <td>51.55</td>\n",
       "      <td>1</td>\n",
       "    </tr>\n",
       "    <tr>\n",
       "      <th>1</th>\n",
       "      <td>37.04</td>\n",
       "      <td>0</td>\n",
       "    </tr>\n",
       "    <tr>\n",
       "      <th>2</th>\n",
       "      <td>45.50</td>\n",
       "      <td>1</td>\n",
       "    </tr>\n",
       "    <tr>\n",
       "      <th>3</th>\n",
       "      <td>44.00</td>\n",
       "      <td>1</td>\n",
       "    </tr>\n",
       "    <tr>\n",
       "      <th>4</th>\n",
       "      <td>71.00</td>\n",
       "      <td>1</td>\n",
       "    </tr>\n",
       "    <tr>\n",
       "      <th>...</th>\n",
       "      <td>...</td>\n",
       "      <td>...</td>\n",
       "    </tr>\n",
       "    <tr>\n",
       "      <th>138</th>\n",
       "      <td>39.51</td>\n",
       "      <td>0</td>\n",
       "    </tr>\n",
       "    <tr>\n",
       "      <th>139</th>\n",
       "      <td>52.00</td>\n",
       "      <td>0</td>\n",
       "    </tr>\n",
       "    <tr>\n",
       "      <th>140</th>\n",
       "      <td>47.70</td>\n",
       "      <td>1</td>\n",
       "    </tr>\n",
       "    <tr>\n",
       "      <th>141</th>\n",
       "      <td>38.76</td>\n",
       "      <td>0</td>\n",
       "    </tr>\n",
       "    <tr>\n",
       "      <th>142</th>\n",
       "      <td>54.51</td>\n",
       "      <td>1</td>\n",
       "    </tr>\n",
       "  </tbody>\n",
       "</table>\n",
       "<p>141 rows × 2 columns</p>\n",
       "</div>"
      ],
      "text/plain": [
       "     total_pr  cond_new\n",
       "0       51.55         1\n",
       "1       37.04         0\n",
       "2       45.50         1\n",
       "3       44.00         1\n",
       "4       71.00         1\n",
       "..        ...       ...\n",
       "138     39.51         0\n",
       "139     52.00         0\n",
       "140     47.70         1\n",
       "141     38.76         0\n",
       "142     54.51         1\n",
       "\n",
       "[141 rows x 2 columns]"
      ]
     },
     "execution_count": 9,
     "metadata": {},
     "output_type": "execute_result"
    }
   ],
   "source": [
    "# we only keep condition new (1=new and 0=used)\n",
    "df = df.drop(columns = ['cond_used'])\n",
    "df"
   ]
  },
  {
   "cell_type": "code",
   "execution_count": 10,
   "metadata": {},
   "outputs": [],
   "source": [
    "# Prepare the data\n",
    "X = df[[\"cond_new\"]]\n",
    "y = df[[\"total_pr\"]]"
   ]
  },
  {
   "cell_type": "markdown",
   "metadata": {},
   "source": [
    "## Model"
   ]
  },
  {
   "cell_type": "markdown",
   "metadata": {},
   "source": [
    "### Fit the model"
   ]
  },
  {
   "cell_type": "code",
   "execution_count": 11,
   "metadata": {},
   "outputs": [],
   "source": [
    "# linear regression model\n",
    "reg = LinearRegression()\n",
    "\n",
    "# Fit the model\n",
    "reg.fit(X, y)\n",
    "\n",
    "# Make predictions\n",
    "y_pred = reg.predict(X)"
   ]
  },
  {
   "cell_type": "markdown",
   "metadata": {},
   "source": [
    "### Coefficients"
   ]
  },
  {
   "cell_type": "code",
   "execution_count": 12,
   "metadata": {},
   "outputs": [
    {
     "data": {
      "text/plain": [
       "array([42.87109756])"
      ]
     },
     "execution_count": 12,
     "metadata": {},
     "output_type": "execute_result"
    }
   ],
   "source": [
    "reg.intercept_"
   ]
  },
  {
   "cell_type": "code",
   "execution_count": 13,
   "metadata": {},
   "outputs": [
    {
     "data": {
      "text/plain": [
       "array([[10.89958041]])"
      ]
     },
     "execution_count": 13,
     "metadata": {},
     "output_type": "execute_result"
    }
   ],
   "source": [
    "reg.coef_"
   ]
  },
  {
   "cell_type": "markdown",
   "metadata": {},
   "source": [
    "## Evaluation"
   ]
  },
  {
   "cell_type": "markdown",
   "metadata": {},
   "source": [
    "### R-squared"
   ]
  },
  {
   "cell_type": "code",
   "execution_count": 14,
   "metadata": {},
   "outputs": [
    {
     "data": {
      "text/plain": [
       "0.3505528034705867"
      ]
     },
     "execution_count": 14,
     "metadata": {},
     "output_type": "execute_result"
    }
   ],
   "source": [
    "r2_score(y, y_pred)"
   ]
  },
  {
   "cell_type": "markdown",
   "metadata": {},
   "source": [
    "### RMSE"
   ]
  },
  {
   "cell_type": "code",
   "execution_count": 15,
   "metadata": {},
   "outputs": [
    {
     "data": {
      "text/plain": [
       "7.318444770500862"
      ]
     },
     "execution_count": 15,
     "metadata": {},
     "output_type": "execute_result"
    }
   ],
   "source": [
    "mean_squared_error(y, y_pred, squared=False)"
   ]
  }
 ],
 "metadata": {
  "kernelspec": {
   "display_name": "Python 3.9.12 ('base')",
   "language": "python",
   "name": "python3"
  },
  "language_info": {
   "codemirror_mode": {
    "name": "ipython",
    "version": 3
   },
   "file_extension": ".py",
   "mimetype": "text/x-python",
   "name": "python",
   "nbconvert_exporter": "python",
   "pygments_lexer": "ipython3",
   "version": "3.9.12"
  },
  "orig_nbformat": 4,
  "vscode": {
   "interpreter": {
    "hash": "463226f144cc21b006ce6927bfc93dd00694e52c8bc6857abb6e555b983749e9"
   }
  }
 },
 "nbformat": 4,
 "nbformat_minor": 2
}
