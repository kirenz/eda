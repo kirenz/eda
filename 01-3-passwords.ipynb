{
 "cells": [
  {
   "cell_type": "markdown",
   "source": [
    "# Case study: Passwords"
   ],
   "metadata": {
    "slideshow": {
     "slide_type": "slide"
    }
   }
  },
  {
   "cell_type": "markdown",
   "source": [
    "## Import data"
   ],
   "metadata": {
    "slideshow": {
     "slide_type": "slide"
    }
   }
  },
  {
   "cell_type": "code",
   "execution_count": 1,
   "source": [
    "import pandas as pd\n",
    "\n",
    "ROOT = \"https://raw.githubusercontent.com/kirenz/modern-statistics/main/data/\"\n",
    "DATA = \"passwords.csv\"\n",
    "\n",
    "df = pd.read_csv(ROOT + DATA)"
   ],
   "outputs": [],
   "metadata": {
    "ExecuteTime": {
     "end_time": "2021-08-17T13:34:03.846644Z",
     "start_time": "2021-08-17T13:34:03.090236Z"
    },
    "slideshow": {
     "slide_type": "fragment"
    }
   }
  },
  {
   "cell_type": "markdown",
   "source": [
    "## Data inspection"
   ],
   "metadata": {
    "slideshow": {
     "slide_type": "slide"
    }
   }
  },
  {
   "cell_type": "code",
   "execution_count": 2,
   "source": [
    "# First ten rows of the passwords dataset.\n",
    "df.head(10)"
   ],
   "outputs": [
    {
     "output_type": "execute_result",
     "data": {
      "text/plain": [
       "   rank  password             category  value time_unit  offline_crack_sec  \\\n",
       "0     1  password     password-related   6.91     years       2.170000e+00   \n",
       "1     2    123456  simple-alphanumeric  18.52   minutes       1.110000e-05   \n",
       "2     3  12345678  simple-alphanumeric   1.29      days       1.110000e-03   \n",
       "3     4      1234  simple-alphanumeric  11.11   seconds       1.110000e-07   \n",
       "4     5    qwerty  simple-alphanumeric   3.72      days       3.210000e-03   \n",
       "5     6     12345  simple-alphanumeric   1.85   minutes       1.110000e-06   \n",
       "6     7    dragon               animal   3.72      days       3.210000e-03   \n",
       "7     8  baseball                sport   6.91     years       2.170000e+00   \n",
       "8     9  football                sport   6.91     years       2.170000e+00   \n",
       "9    10   letmein     password-related   3.19    months       8.350000e-02   \n",
       "\n",
       "   rank_alt  strength  font_size  \n",
       "0         1         8         11  \n",
       "1         2         4          8  \n",
       "2         3         4          8  \n",
       "3         4         4          8  \n",
       "4         5         8         11  \n",
       "5         6         4          8  \n",
       "6         7         8         11  \n",
       "7         8         4          8  \n",
       "8         9         7         11  \n",
       "9        10         8         11  "
      ],
      "text/html": [
       "<div>\n",
       "<style scoped>\n",
       "    .dataframe tbody tr th:only-of-type {\n",
       "        vertical-align: middle;\n",
       "    }\n",
       "\n",
       "    .dataframe tbody tr th {\n",
       "        vertical-align: top;\n",
       "    }\n",
       "\n",
       "    .dataframe thead th {\n",
       "        text-align: right;\n",
       "    }\n",
       "</style>\n",
       "<table border=\"1\" class=\"dataframe\">\n",
       "  <thead>\n",
       "    <tr style=\"text-align: right;\">\n",
       "      <th></th>\n",
       "      <th>rank</th>\n",
       "      <th>password</th>\n",
       "      <th>category</th>\n",
       "      <th>value</th>\n",
       "      <th>time_unit</th>\n",
       "      <th>offline_crack_sec</th>\n",
       "      <th>rank_alt</th>\n",
       "      <th>strength</th>\n",
       "      <th>font_size</th>\n",
       "    </tr>\n",
       "  </thead>\n",
       "  <tbody>\n",
       "    <tr>\n",
       "      <th>0</th>\n",
       "      <td>1</td>\n",
       "      <td>password</td>\n",
       "      <td>password-related</td>\n",
       "      <td>6.91</td>\n",
       "      <td>years</td>\n",
       "      <td>2.170000e+00</td>\n",
       "      <td>1</td>\n",
       "      <td>8</td>\n",
       "      <td>11</td>\n",
       "    </tr>\n",
       "    <tr>\n",
       "      <th>1</th>\n",
       "      <td>2</td>\n",
       "      <td>123456</td>\n",
       "      <td>simple-alphanumeric</td>\n",
       "      <td>18.52</td>\n",
       "      <td>minutes</td>\n",
       "      <td>1.110000e-05</td>\n",
       "      <td>2</td>\n",
       "      <td>4</td>\n",
       "      <td>8</td>\n",
       "    </tr>\n",
       "    <tr>\n",
       "      <th>2</th>\n",
       "      <td>3</td>\n",
       "      <td>12345678</td>\n",
       "      <td>simple-alphanumeric</td>\n",
       "      <td>1.29</td>\n",
       "      <td>days</td>\n",
       "      <td>1.110000e-03</td>\n",
       "      <td>3</td>\n",
       "      <td>4</td>\n",
       "      <td>8</td>\n",
       "    </tr>\n",
       "    <tr>\n",
       "      <th>3</th>\n",
       "      <td>4</td>\n",
       "      <td>1234</td>\n",
       "      <td>simple-alphanumeric</td>\n",
       "      <td>11.11</td>\n",
       "      <td>seconds</td>\n",
       "      <td>1.110000e-07</td>\n",
       "      <td>4</td>\n",
       "      <td>4</td>\n",
       "      <td>8</td>\n",
       "    </tr>\n",
       "    <tr>\n",
       "      <th>4</th>\n",
       "      <td>5</td>\n",
       "      <td>qwerty</td>\n",
       "      <td>simple-alphanumeric</td>\n",
       "      <td>3.72</td>\n",
       "      <td>days</td>\n",
       "      <td>3.210000e-03</td>\n",
       "      <td>5</td>\n",
       "      <td>8</td>\n",
       "      <td>11</td>\n",
       "    </tr>\n",
       "    <tr>\n",
       "      <th>5</th>\n",
       "      <td>6</td>\n",
       "      <td>12345</td>\n",
       "      <td>simple-alphanumeric</td>\n",
       "      <td>1.85</td>\n",
       "      <td>minutes</td>\n",
       "      <td>1.110000e-06</td>\n",
       "      <td>6</td>\n",
       "      <td>4</td>\n",
       "      <td>8</td>\n",
       "    </tr>\n",
       "    <tr>\n",
       "      <th>6</th>\n",
       "      <td>7</td>\n",
       "      <td>dragon</td>\n",
       "      <td>animal</td>\n",
       "      <td>3.72</td>\n",
       "      <td>days</td>\n",
       "      <td>3.210000e-03</td>\n",
       "      <td>7</td>\n",
       "      <td>8</td>\n",
       "      <td>11</td>\n",
       "    </tr>\n",
       "    <tr>\n",
       "      <th>7</th>\n",
       "      <td>8</td>\n",
       "      <td>baseball</td>\n",
       "      <td>sport</td>\n",
       "      <td>6.91</td>\n",
       "      <td>years</td>\n",
       "      <td>2.170000e+00</td>\n",
       "      <td>8</td>\n",
       "      <td>4</td>\n",
       "      <td>8</td>\n",
       "    </tr>\n",
       "    <tr>\n",
       "      <th>8</th>\n",
       "      <td>9</td>\n",
       "      <td>football</td>\n",
       "      <td>sport</td>\n",
       "      <td>6.91</td>\n",
       "      <td>years</td>\n",
       "      <td>2.170000e+00</td>\n",
       "      <td>9</td>\n",
       "      <td>7</td>\n",
       "      <td>11</td>\n",
       "    </tr>\n",
       "    <tr>\n",
       "      <th>9</th>\n",
       "      <td>10</td>\n",
       "      <td>letmein</td>\n",
       "      <td>password-related</td>\n",
       "      <td>3.19</td>\n",
       "      <td>months</td>\n",
       "      <td>8.350000e-02</td>\n",
       "      <td>10</td>\n",
       "      <td>8</td>\n",
       "      <td>11</td>\n",
       "    </tr>\n",
       "  </tbody>\n",
       "</table>\n",
       "</div>"
      ]
     },
     "metadata": {},
     "execution_count": 2
    }
   ],
   "metadata": {
    "ExecuteTime": {
     "end_time": "2021-08-17T13:34:03.862513Z",
     "start_time": "2021-08-17T13:34:03.848222Z"
    },
    "slideshow": {
     "slide_type": "fragment"
    }
   }
  },
  {
   "cell_type": "code",
   "execution_count": 3,
   "source": [
    "# Bottom ten rows of the passwords dataset.\n",
    "df.tail(10)"
   ],
   "outputs": [
    {
     "output_type": "execute_result",
     "data": {
      "text/plain": [
       "     rank  password          category  value time_unit  offline_crack_sec  \\\n",
       "490   491   natasha              name   3.19    months            0.08350   \n",
       "491   492    sniper        cool-macho   3.72      days            0.00321   \n",
       "492   493    chance              name   3.72      days            0.00321   \n",
       "493   494   genesis         nerdy-pop   3.19    months            0.08350   \n",
       "494   495    hotrod        cool-macho   3.72      days            0.00321   \n",
       "495   496    reddog        cool-macho   3.72      days            0.00321   \n",
       "496   497  alexande              name   6.91     years            2.17000   \n",
       "497   498   college         nerdy-pop   3.19    months            0.08350   \n",
       "498   499    jester              name   3.72      days            0.00321   \n",
       "499   500  passw0rd  password-related  92.27     years           29.02000   \n",
       "\n",
       "     rank_alt  strength  font_size  \n",
       "490       493         7         11  \n",
       "491       494         8         11  \n",
       "492       495         7         11  \n",
       "493       496         7         11  \n",
       "494       497         7         11  \n",
       "495       498         6         10  \n",
       "496       499         9         12  \n",
       "497       500         7         11  \n",
       "498       501         7         11  \n",
       "499       502        28         21  "
      ],
      "text/html": [
       "<div>\n",
       "<style scoped>\n",
       "    .dataframe tbody tr th:only-of-type {\n",
       "        vertical-align: middle;\n",
       "    }\n",
       "\n",
       "    .dataframe tbody tr th {\n",
       "        vertical-align: top;\n",
       "    }\n",
       "\n",
       "    .dataframe thead th {\n",
       "        text-align: right;\n",
       "    }\n",
       "</style>\n",
       "<table border=\"1\" class=\"dataframe\">\n",
       "  <thead>\n",
       "    <tr style=\"text-align: right;\">\n",
       "      <th></th>\n",
       "      <th>rank</th>\n",
       "      <th>password</th>\n",
       "      <th>category</th>\n",
       "      <th>value</th>\n",
       "      <th>time_unit</th>\n",
       "      <th>offline_crack_sec</th>\n",
       "      <th>rank_alt</th>\n",
       "      <th>strength</th>\n",
       "      <th>font_size</th>\n",
       "    </tr>\n",
       "  </thead>\n",
       "  <tbody>\n",
       "    <tr>\n",
       "      <th>490</th>\n",
       "      <td>491</td>\n",
       "      <td>natasha</td>\n",
       "      <td>name</td>\n",
       "      <td>3.19</td>\n",
       "      <td>months</td>\n",
       "      <td>0.08350</td>\n",
       "      <td>493</td>\n",
       "      <td>7</td>\n",
       "      <td>11</td>\n",
       "    </tr>\n",
       "    <tr>\n",
       "      <th>491</th>\n",
       "      <td>492</td>\n",
       "      <td>sniper</td>\n",
       "      <td>cool-macho</td>\n",
       "      <td>3.72</td>\n",
       "      <td>days</td>\n",
       "      <td>0.00321</td>\n",
       "      <td>494</td>\n",
       "      <td>8</td>\n",
       "      <td>11</td>\n",
       "    </tr>\n",
       "    <tr>\n",
       "      <th>492</th>\n",
       "      <td>493</td>\n",
       "      <td>chance</td>\n",
       "      <td>name</td>\n",
       "      <td>3.72</td>\n",
       "      <td>days</td>\n",
       "      <td>0.00321</td>\n",
       "      <td>495</td>\n",
       "      <td>7</td>\n",
       "      <td>11</td>\n",
       "    </tr>\n",
       "    <tr>\n",
       "      <th>493</th>\n",
       "      <td>494</td>\n",
       "      <td>genesis</td>\n",
       "      <td>nerdy-pop</td>\n",
       "      <td>3.19</td>\n",
       "      <td>months</td>\n",
       "      <td>0.08350</td>\n",
       "      <td>496</td>\n",
       "      <td>7</td>\n",
       "      <td>11</td>\n",
       "    </tr>\n",
       "    <tr>\n",
       "      <th>494</th>\n",
       "      <td>495</td>\n",
       "      <td>hotrod</td>\n",
       "      <td>cool-macho</td>\n",
       "      <td>3.72</td>\n",
       "      <td>days</td>\n",
       "      <td>0.00321</td>\n",
       "      <td>497</td>\n",
       "      <td>7</td>\n",
       "      <td>11</td>\n",
       "    </tr>\n",
       "    <tr>\n",
       "      <th>495</th>\n",
       "      <td>496</td>\n",
       "      <td>reddog</td>\n",
       "      <td>cool-macho</td>\n",
       "      <td>3.72</td>\n",
       "      <td>days</td>\n",
       "      <td>0.00321</td>\n",
       "      <td>498</td>\n",
       "      <td>6</td>\n",
       "      <td>10</td>\n",
       "    </tr>\n",
       "    <tr>\n",
       "      <th>496</th>\n",
       "      <td>497</td>\n",
       "      <td>alexande</td>\n",
       "      <td>name</td>\n",
       "      <td>6.91</td>\n",
       "      <td>years</td>\n",
       "      <td>2.17000</td>\n",
       "      <td>499</td>\n",
       "      <td>9</td>\n",
       "      <td>12</td>\n",
       "    </tr>\n",
       "    <tr>\n",
       "      <th>497</th>\n",
       "      <td>498</td>\n",
       "      <td>college</td>\n",
       "      <td>nerdy-pop</td>\n",
       "      <td>3.19</td>\n",
       "      <td>months</td>\n",
       "      <td>0.08350</td>\n",
       "      <td>500</td>\n",
       "      <td>7</td>\n",
       "      <td>11</td>\n",
       "    </tr>\n",
       "    <tr>\n",
       "      <th>498</th>\n",
       "      <td>499</td>\n",
       "      <td>jester</td>\n",
       "      <td>name</td>\n",
       "      <td>3.72</td>\n",
       "      <td>days</td>\n",
       "      <td>0.00321</td>\n",
       "      <td>501</td>\n",
       "      <td>7</td>\n",
       "      <td>11</td>\n",
       "    </tr>\n",
       "    <tr>\n",
       "      <th>499</th>\n",
       "      <td>500</td>\n",
       "      <td>passw0rd</td>\n",
       "      <td>password-related</td>\n",
       "      <td>92.27</td>\n",
       "      <td>years</td>\n",
       "      <td>29.02000</td>\n",
       "      <td>502</td>\n",
       "      <td>28</td>\n",
       "      <td>21</td>\n",
       "    </tr>\n",
       "  </tbody>\n",
       "</table>\n",
       "</div>"
      ]
     },
     "metadata": {},
     "execution_count": 3
    }
   ],
   "metadata": {
    "ExecuteTime": {
     "end_time": "2021-08-17T13:34:03.873445Z",
     "start_time": "2021-08-17T13:34:03.864555Z"
    },
    "slideshow": {
     "slide_type": "slide"
    }
   }
  },
  {
   "cell_type": "code",
   "execution_count": 4,
   "source": [
    "df.info()"
   ],
   "outputs": [
    {
     "output_type": "stream",
     "name": "stdout",
     "text": [
      "<class 'pandas.core.frame.DataFrame'>\n",
      "RangeIndex: 500 entries, 0 to 499\n",
      "Data columns (total 9 columns):\n",
      " #   Column             Non-Null Count  Dtype  \n",
      "---  ------             --------------  -----  \n",
      " 0   rank               500 non-null    int64  \n",
      " 1   password           500 non-null    object \n",
      " 2   category           500 non-null    object \n",
      " 3   value              500 non-null    float64\n",
      " 4   time_unit          500 non-null    object \n",
      " 5   offline_crack_sec  500 non-null    float64\n",
      " 6   rank_alt           500 non-null    int64  \n",
      " 7   strength           500 non-null    int64  \n",
      " 8   font_size          500 non-null    int64  \n",
      "dtypes: float64(2), int64(4), object(3)\n",
      "memory usage: 35.3+ KB\n"
     ]
    }
   ],
   "metadata": {
    "ExecuteTime": {
     "end_time": "2021-08-17T13:34:03.883902Z",
     "start_time": "2021-08-17T13:34:03.875225Z"
    },
    "slideshow": {
     "slide_type": "slide"
    }
   }
  },
  {
   "cell_type": "markdown",
   "source": [
    "## Data transformation"
   ],
   "metadata": {
    "slideshow": {
     "slide_type": "slide"
    }
   }
  },
  {
   "cell_type": "code",
   "execution_count": 5,
   "source": [
    "df[\"category\"] = df[\"category\"].astype(\"category\")\n",
    "df[\"time_unit\"] = df[\"time_unit\"].astype(\"category\")\n",
    "df[\"strenght\"] = df[\"strength\"].astype(\"category\")"
   ],
   "outputs": [],
   "metadata": {
    "ExecuteTime": {
     "end_time": "2021-08-17T13:34:03.890764Z",
     "start_time": "2021-08-17T13:34:03.885340Z"
    },
    "slideshow": {
     "slide_type": "fragment"
    }
   }
  },
  {
   "cell_type": "code",
   "execution_count": 6,
   "source": [
    "df.dtypes"
   ],
   "outputs": [
    {
     "output_type": "execute_result",
     "data": {
      "text/plain": [
       "rank                    int64\n",
       "password               object\n",
       "category             category\n",
       "value                 float64\n",
       "time_unit            category\n",
       "offline_crack_sec     float64\n",
       "rank_alt                int64\n",
       "strength                int64\n",
       "font_size               int64\n",
       "strenght             category\n",
       "dtype: object"
      ]
     },
     "metadata": {},
     "execution_count": 6
    }
   ],
   "metadata": {
    "ExecuteTime": {
     "end_time": "2021-08-17T13:34:03.896141Z",
     "start_time": "2021-08-17T13:34:03.892127Z"
    },
    "slideshow": {
     "slide_type": "slide"
    }
   }
  },
  {
   "cell_type": "markdown",
   "source": [
    "## Data exploration"
   ],
   "metadata": {
    "slideshow": {
     "slide_type": "slide"
    }
   }
  },
  {
   "cell_type": "code",
   "execution_count": 7,
   "source": [
    "import seaborn as sns\n",
    "import matplotlib.pyplot as plt\n",
    "\n",
    "sns.set_theme(style=\"ticks\", color_codes=True)"
   ],
   "outputs": [],
   "metadata": {
    "ExecuteTime": {
     "end_time": "2021-08-17T13:34:04.354806Z",
     "start_time": "2021-08-17T13:34:03.897468Z"
    },
    "slideshow": {
     "slide_type": "fragment"
    }
   }
  },
  {
   "cell_type": "code",
   "execution_count": 8,
   "source": [
    "TOP_10 = df['category'].value_counts().iloc[:10].index\n",
    "\n",
    "sns.catplot(y=\"category\", \n",
    "            kind=\"count\", \n",
    "            palette=\"ch:.25\", \n",
    "            data=df,\n",
    "            order = TOP_10)\n",
    "\n",
    "plt.show();\n"
   ],
   "outputs": [
    {
     "output_type": "display_data",
     "data": {
      "text/plain": [
       "<Figure size 500x500 with 1 Axes>"
      ],
      "image/png": "[encoded data removed]"
     },
     "metadata": {}
    }
   ],
   "metadata": {
    "ExecuteTime": {
     "end_time": "2021-08-17T13:34:04.471066Z",
     "start_time": "2021-08-17T13:34:04.357769Z"
    },
    "slideshow": {
     "slide_type": "slide"
    }
   }
  },
  {
   "cell_type": "markdown",
   "source": [
    "- Next, we want to use ``catplot`` for all categorical variables. \n",
    "- We use a for loop to obtain the desired result.\n",
    "\n",
    "- First, let's extract all categorical variabel names as list:"
   ],
   "metadata": {
    "slideshow": {
     "slide_type": "slide"
    }
   }
  },
  {
   "cell_type": "code",
   "execution_count": 9,
   "source": [
    "CATEGORICAL = df.select_dtypes(include=['category']).columns.tolist()\n",
    "CATEGORICAL"
   ],
   "outputs": [
    {
     "output_type": "execute_result",
     "data": {
      "text/plain": [
       "['category', 'time_unit', 'strenght']"
      ]
     },
     "metadata": {},
     "execution_count": 9
    }
   ],
   "metadata": {
    "ExecuteTime": {
     "end_time": "2021-08-17T13:34:04.477235Z",
     "start_time": "2021-08-17T13:34:04.473321Z"
    },
    "slideshow": {
     "slide_type": "fragment"
    }
   }
  },
  {
   "cell_type": "code",
   "execution_count": 10,
   "source": [
    "for i in CATEGORICAL:\n",
    "\n",
    "    TOP_10 = df[i].value_counts().iloc[:10].index\n",
    "\n",
    "    g = sns.catplot(y=i, \n",
    "            kind=\"count\", \n",
    "            palette=\"ch:.25\", \n",
    "            data=df,\n",
    "            order = TOP_10)    \n",
    "    \n",
    "    plt.title(i)\n",
    "    plt.show();"
   ],
   "outputs": [
    {
     "output_type": "display_data",
     "data": {
      "text/plain": [
       "<Figure size 500x500 with 1 Axes>"
      ],
      "image/png": "[encoded data removed]"
     },
     "metadata": {}
    },
    {
     "output_type": "display_data",
     "data": {
      "text/plain": [
       "<Figure size 500x500 with 1 Axes>"
      ],
      "image/png": "[encoded data removed]"
     },
     "metadata": {}
    },
    {
     "output_type": "display_data",
     "data": {
      "text/plain": [
       "<Figure size 500x500 with 1 Axes>"
      ],
      "image/png": "[encoded data removed]"
     },
     "metadata": {}
    }
   ],
   "metadata": {
    "ExecuteTime": {
     "end_time": "2021-08-17T13:34:04.967416Z",
     "start_time": "2021-08-17T13:34:04.478705Z"
    },
    "slideshow": {
     "slide_type": "slide"
    }
   }
  },
  {
   "cell_type": "markdown",
   "source": [
    "## Summary of numerical variables"
   ],
   "metadata": {
    "slideshow": {
     "slide_type": "slide"
    }
   }
  },
  {
   "cell_type": "code",
   "execution_count": 11,
   "source": [
    "df.describe()"
   ],
   "outputs": [
    {
     "output_type": "execute_result",
     "data": {
      "text/plain": [
       "             rank       value  offline_crack_sec    rank_alt    strength  \\\n",
       "count  500.000000  500.000000       5.000000e+02  500.000000  500.000000   \n",
       "mean   250.500000    5.602660       5.000096e-01  251.224000    7.432000   \n",
       "std    144.481833    8.436005       2.658132e+00  145.052163    5.415536   \n",
       "min      1.000000    1.290000       1.110000e-07    1.000000    0.000000   \n",
       "25%    125.750000    3.430000       3.210000e-03  125.750000    6.000000   \n",
       "50%    250.500000    3.720000       3.210000e-03  251.500000    7.000000   \n",
       "75%    375.250000    3.720000       8.350000e-02  376.250000    8.000000   \n",
       "max    500.000000   92.270000       2.927000e+01  502.000000   48.000000   \n",
       "\n",
       "        font_size  \n",
       "count  500.000000  \n",
       "mean    10.298000  \n",
       "std      3.651282  \n",
       "min      0.000000  \n",
       "25%     10.000000  \n",
       "50%     11.000000  \n",
       "75%     11.000000  \n",
       "max     28.000000  "
      ],
      "text/html": [
       "<div>\n",
       "<style scoped>\n",
       "    .dataframe tbody tr th:only-of-type {\n",
       "        vertical-align: middle;\n",
       "    }\n",
       "\n",
       "    .dataframe tbody tr th {\n",
       "        vertical-align: top;\n",
       "    }\n",
       "\n",
       "    .dataframe thead th {\n",
       "        text-align: right;\n",
       "    }\n",
       "</style>\n",
       "<table border=\"1\" class=\"dataframe\">\n",
       "  <thead>\n",
       "    <tr style=\"text-align: right;\">\n",
       "      <th></th>\n",
       "      <th>rank</th>\n",
       "      <th>value</th>\n",
       "      <th>offline_crack_sec</th>\n",
       "      <th>rank_alt</th>\n",
       "      <th>strength</th>\n",
       "      <th>font_size</th>\n",
       "    </tr>\n",
       "  </thead>\n",
       "  <tbody>\n",
       "    <tr>\n",
       "      <th>count</th>\n",
       "      <td>500.000000</td>\n",
       "      <td>500.000000</td>\n",
       "      <td>5.000000e+02</td>\n",
       "      <td>500.000000</td>\n",
       "      <td>500.000000</td>\n",
       "      <td>500.000000</td>\n",
       "    </tr>\n",
       "    <tr>\n",
       "      <th>mean</th>\n",
       "      <td>250.500000</td>\n",
       "      <td>5.602660</td>\n",
       "      <td>5.000096e-01</td>\n",
       "      <td>251.224000</td>\n",
       "      <td>7.432000</td>\n",
       "      <td>10.298000</td>\n",
       "    </tr>\n",
       "    <tr>\n",
       "      <th>std</th>\n",
       "      <td>144.481833</td>\n",
       "      <td>8.436005</td>\n",
       "      <td>2.658132e+00</td>\n",
       "      <td>145.052163</td>\n",
       "      <td>5.415536</td>\n",
       "      <td>3.651282</td>\n",
       "    </tr>\n",
       "    <tr>\n",
       "      <th>min</th>\n",
       "      <td>1.000000</td>\n",
       "      <td>1.290000</td>\n",
       "      <td>1.110000e-07</td>\n",
       "      <td>1.000000</td>\n",
       "      <td>0.000000</td>\n",
       "      <td>0.000000</td>\n",
       "    </tr>\n",
       "    <tr>\n",
       "      <th>25%</th>\n",
       "      <td>125.750000</td>\n",
       "      <td>3.430000</td>\n",
       "      <td>3.210000e-03</td>\n",
       "      <td>125.750000</td>\n",
       "      <td>6.000000</td>\n",
       "      <td>10.000000</td>\n",
       "    </tr>\n",
       "    <tr>\n",
       "      <th>50%</th>\n",
       "      <td>250.500000</td>\n",
       "      <td>3.720000</td>\n",
       "      <td>3.210000e-03</td>\n",
       "      <td>251.500000</td>\n",
       "      <td>7.000000</td>\n",
       "      <td>11.000000</td>\n",
       "    </tr>\n",
       "    <tr>\n",
       "      <th>75%</th>\n",
       "      <td>375.250000</td>\n",
       "      <td>3.720000</td>\n",
       "      <td>8.350000e-02</td>\n",
       "      <td>376.250000</td>\n",
       "      <td>8.000000</td>\n",
       "      <td>11.000000</td>\n",
       "    </tr>\n",
       "    <tr>\n",
       "      <th>max</th>\n",
       "      <td>500.000000</td>\n",
       "      <td>92.270000</td>\n",
       "      <td>2.927000e+01</td>\n",
       "      <td>502.000000</td>\n",
       "      <td>48.000000</td>\n",
       "      <td>28.000000</td>\n",
       "    </tr>\n",
       "  </tbody>\n",
       "</table>\n",
       "</div>"
      ]
     },
     "metadata": {},
     "execution_count": 11
    }
   ],
   "metadata": {
    "ExecuteTime": {
     "end_time": "2021-08-17T13:34:04.986663Z",
     "start_time": "2021-08-17T13:34:04.968891Z"
    },
    "slideshow": {
     "slide_type": "fragment"
    }
   }
  }
 ],
 "metadata": {
  "celltoolbar": "Slideshow",
  "interpreter": {
   "hash": "d361e8bd3ab8be8f3ea65790adb41c2b64f49b1477d0d1af835155fecf213182"
  },
  "kernelspec": {
   "display_name": "Python [conda env:root] *",
   "language": "python",
   "name": "conda-root-py"
  },
  "language_info": {
   "codemirror_mode": {
    "name": "ipython",
    "version": 3
   },
   "file_extension": ".py",
   "mimetype": "text/x-python",
   "name": "python",
   "nbconvert_exporter": "python",
   "pygments_lexer": "ipython3",
   "version": "3.8.2"
  },
  "varInspector": {
   "cols": {
    "lenName": 16,
    "lenType": 16,
    "lenVar": 40
   },
   "kernels_config": {
    "python": {
     "delete_cmd_postfix": "",
     "delete_cmd_prefix": "del ",
     "library": "var_list.py",
     "varRefreshCmd": "print(var_dic_list())"
    },
    "r": {
     "delete_cmd_postfix": ") ",
     "delete_cmd_prefix": "rm(",
     "library": "var_list.r",
     "varRefreshCmd": "cat(var_dic_list()) "
    }
   },
   "types_to_exclude": [
    "module",
    "function",
    "builtin_function_or_method",
    "instance",
    "_Feature"
   ],
   "window_display": false
  }
 },
 "nbformat": 4,
 "nbformat_minor": 2
}