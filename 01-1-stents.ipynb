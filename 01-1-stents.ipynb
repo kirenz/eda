{
    "cells": [
        {
            "cell_type": "markdown",
            "source": [
                "# Case study: Using stents to prevent strokes"
            ],
            "metadata": {}
        },
        {
            "cell_type": "markdown",
            "source": [
                "## Import data"
            ],
            "metadata": {}
        },
        {
            "cell_type": "code",
            "execution_count": 1,
            "source": [
                "import pandas as pd\n",
                "\n",
                "df = pd.read_csv(\"https://raw.githubusercontent.com/kirenz/modern-statistics/main/data/stent.csv\")"
            ],
            "outputs": [],
            "metadata": {}
        },
        {
            "cell_type": "markdown",
            "source": [
                "## Crosstable"
            ],
            "metadata": {}
        },
        {
            "cell_type": "code",
            "execution_count": 7,
            "source": [
                "pd.crosstab(df.group, [df.time, df.outcome],  margins=True)"
            ],
            "outputs": [
                {
                    "output_type": "execute_result",
                    "data": {
                        "text/plain": [
                            "time       30 days        365 days         All\n",
                            "outcome   no event stroke no event stroke     \n",
                            "group                                         \n",
                            "control        214     13      199     28  454\n",
                            "treatment      191     33      179     45  448\n",
                            "All            405     46      378     73  902"
                        ],
                        "text/html": [
                            "<div>\n",
                            "<style scoped>\n",
                            "    .dataframe tbody tr th:only-of-type {\n",
                            "        vertical-align: middle;\n",
                            "    }\n",
                            "\n",
                            "    .dataframe tbody tr th {\n",
                            "        vertical-align: top;\n",
                            "    }\n",
                            "\n",
                            "    .dataframe thead tr th {\n",
                            "        text-align: left;\n",
                            "    }\n",
                            "\n",
                            "    .dataframe thead tr:last-of-type th {\n",
                            "        text-align: right;\n",
                            "    }\n",
                            "</style>\n",
                            "<table border=\"1\" class=\"dataframe\">\n",
                            "  <thead>\n",
                            "    <tr>\n",
                            "      <th>time</th>\n",
                            "      <th colspan=\"2\" halign=\"left\">30 days</th>\n",
                            "      <th colspan=\"2\" halign=\"left\">365 days</th>\n",
                            "      <th>All</th>\n",
                            "    </tr>\n",
                            "    <tr>\n",
                            "      <th>outcome</th>\n",
                            "      <th>no event</th>\n",
                            "      <th>stroke</th>\n",
                            "      <th>no event</th>\n",
                            "      <th>stroke</th>\n",
                            "      <th></th>\n",
                            "    </tr>\n",
                            "    <tr>\n",
                            "      <th>group</th>\n",
                            "      <th></th>\n",
                            "      <th></th>\n",
                            "      <th></th>\n",
                            "      <th></th>\n",
                            "      <th></th>\n",
                            "    </tr>\n",
                            "  </thead>\n",
                            "  <tbody>\n",
                            "    <tr>\n",
                            "      <th>control</th>\n",
                            "      <td>214</td>\n",
                            "      <td>13</td>\n",
                            "      <td>199</td>\n",
                            "      <td>28</td>\n",
                            "      <td>454</td>\n",
                            "    </tr>\n",
                            "    <tr>\n",
                            "      <th>treatment</th>\n",
                            "      <td>191</td>\n",
                            "      <td>33</td>\n",
                            "      <td>179</td>\n",
                            "      <td>45</td>\n",
                            "      <td>448</td>\n",
                            "    </tr>\n",
                            "    <tr>\n",
                            "      <th>All</th>\n",
                            "      <td>405</td>\n",
                            "      <td>46</td>\n",
                            "      <td>378</td>\n",
                            "      <td>73</td>\n",
                            "      <td>902</td>\n",
                            "    </tr>\n",
                            "  </tbody>\n",
                            "</table>\n",
                            "</div>"
                        ]
                    },
                    "metadata": {},
                    "execution_count": 7
                }
            ],
            "metadata": {}
        }
    ],
    "metadata": {
        "orig_nbformat": 4,
        "language_info": {
            "name": "python",
            "version": "3.8.2",
            "mimetype": "text/x-python",
            "codemirror_mode": {
                "name": "ipython",
                "version": 3
            },
            "pygments_lexer": "ipython3",
            "nbconvert_exporter": "python",
            "file_extension": ".py"
        },
        "kernelspec": {
            "name": "python3",
            "display_name": "Python 3.8.2 64-bit ('base': conda)"
        },
        "interpreter": {
            "hash": "d361e8bd3ab8be8f3ea65790adb41c2b64f49b1477d0d1af835155fecf213182"
        }
    },
    "nbformat": 4,
    "nbformat_minor": 2
}