{
 "cells": [
  {
   "cell_type": "markdown",
   "metadata": {
    "slideshow": {
     "slide_type": "slide"
    }
   },
   "source": [
    "# Umfrage"
   ]
  },
  {
   "cell_type": "markdown",
   "metadata": {
    "slideshow": {
     "slide_type": "slide"
    }
   },
   "source": [
    "## Daten importieren"
   ]
  },
  {
   "cell_type": "code",
   "execution_count": 2,
   "metadata": {
    "slideshow": {
     "slide_type": "fragment"
    }
   },
   "outputs": [],
   "source": [
    "import pandas as pd\n",
    "\n",
    "ROOT = \"https://raw.githubusercontent.com/kirenz/datasets/master/\"\n",
    "DATA = \"Fragebogen1.csv\"\n",
    "\n",
    "df = pd.read_csv(ROOT + DATA)"
   ]
  },
  {
   "cell_type": "markdown",
   "metadata": {},
   "source": [
    "## Datenüberblick"
   ]
  },
  {
   "cell_type": "code",
   "execution_count": 29,
   "metadata": {},
   "outputs": [
    {
     "data": {
      "text/html": [
       "<div>\n",
       "<style scoped>\n",
       "    .dataframe tbody tr th:only-of-type {\n",
       "        vertical-align: middle;\n",
       "    }\n",
       "\n",
       "    .dataframe tbody tr th {\n",
       "        vertical-align: top;\n",
       "    }\n",
       "\n",
       "    .dataframe thead th {\n",
       "        text-align: right;\n",
       "    }\n",
       "</style>\n",
       "<table border=\"1\" class=\"dataframe\">\n",
       "  <thead>\n",
       "    <tr style=\"text-align: right;\">\n",
       "      <th></th>\n",
       "      <th>Zeitstempel</th>\n",
       "      <th>Ich bin sportlich</th>\n",
       "      <th>Ich bin fleißig.</th>\n",
       "      <th>Von Rückschlägen lasse ich mich nicht entmutigen.</th>\n",
       "      <th>Meine Fähigkeiten und Talente sind vorgegeben und ich kann daran nicht viel ändern.</th>\n",
       "      <th>1990 lebten 58 % der Weltbevölkerung in Ländern mit niedrigem Einkommen. Wie hoch ist der Anteil heute? Geben Sie eine Zahl ein (z. B. 9, 37 oder 61)</th>\n",
       "      <th>Wie viel der weltweit verbrauchten Energie stammt aus Erdgas, Kohle und Öl?</th>\n",
       "      <th>Welcher Anteil der Weltbevölkerung lebt in Megacitys (Städte mit mindestens 10 Millionen Einwohnern)?</th>\n",
       "      <th>Wie viele Geleebohnen befinden sich in diesem sechseckigen Glas?</th>\n",
       "      <th>Wie viele Minuten verbringen Sie an einem typischen Tag in sozialen Medien (Facebook, Instagram, Snapchat, etc.)?</th>\n",
       "      <th>Wie viele Minuten investieren Sie ca. pro Tag in Ihr Studium (abgesehen von Lehrveranstaltungen)?</th>\n",
       "      <th>Lesen Sie zur Zeit ein Buch?</th>\n",
       "      <th>Wie alt sind Sie?</th>\n",
       "      <th>Sie sind ...</th>\n",
       "    </tr>\n",
       "  </thead>\n",
       "  <tbody>\n",
       "    <tr>\n",
       "      <th>0</th>\n",
       "      <td>2022/09/14 8:21:58 PM OEZ</td>\n",
       "      <td>teils teils</td>\n",
       "      <td>trifft eher zu</td>\n",
       "      <td>4</td>\n",
       "      <td>trifft überhaupt nicht zu</td>\n",
       "      <td>9</td>\n",
       "      <td>ca. 42%</td>\n",
       "      <td>4</td>\n",
       "      <td>3000</td>\n",
       "      <td>34</td>\n",
       "      <td>34</td>\n",
       "      <td>Ja</td>\n",
       "      <td>22</td>\n",
       "      <td>Männlich</td>\n",
       "    </tr>\n",
       "  </tbody>\n",
       "</table>\n",
       "</div>"
      ],
      "text/plain": [
       "                 Zeitstempel Ich bin sportlich Ich bin fleißig.  \\\n",
       "0  2022/09/14 8:21:58 PM OEZ       teils teils   trifft eher zu   \n",
       "\n",
       "   Von Rückschlägen lasse ich mich nicht entmutigen.  \\\n",
       "0                                                  4   \n",
       "\n",
       "  Meine Fähigkeiten und Talente sind vorgegeben und ich kann daran nicht viel ändern.  \\\n",
       "0                          trifft überhaupt nicht zu                                    \n",
       "\n",
       "   1990 lebten 58 % der Weltbevölkerung in Ländern mit niedrigem Einkommen. Wie hoch ist der Anteil heute? Geben Sie eine Zahl ein (z. B. 9, 37 oder 61)  \\\n",
       "0                                                  9                                                                                                       \n",
       "\n",
       "  Wie viel der weltweit verbrauchten Energie stammt aus Erdgas, Kohle und Öl?  \\\n",
       "0                                            ca. 42%                            \n",
       "\n",
       "   Welcher Anteil der Weltbevölkerung lebt in Megacitys (Städte mit mindestens 10 Millionen Einwohnern)?  \\\n",
       "0                                                  4                                                       \n",
       "\n",
       "   Wie viele Geleebohnen befinden sich in diesem sechseckigen Glas?  \\\n",
       "0                                               3000                  \n",
       "\n",
       "   Wie viele Minuten verbringen Sie an einem typischen Tag in sozialen Medien (Facebook, Instagram, Snapchat, etc.)?  \\\n",
       "0                                                 34                                                                   \n",
       "\n",
       "   Wie viele Minuten investieren Sie ca. pro Tag in Ihr Studium (abgesehen von Lehrveranstaltungen)?  \\\n",
       "0                                                 34                                                   \n",
       "\n",
       "  Lesen Sie zur Zeit ein Buch?  Wie alt sind Sie? Sie sind ...  \n",
       "0                           Ja                 22     Männlich  "
      ]
     },
     "execution_count": 29,
     "metadata": {},
     "output_type": "execute_result"
    }
   ],
   "source": [
    "df"
   ]
  },
  {
   "cell_type": "code",
   "execution_count": 3,
   "metadata": {},
   "outputs": [
    {
     "name": "stdout",
     "output_type": "stream",
     "text": [
      "<class 'pandas.core.frame.DataFrame'>\n",
      "RangeIndex: 1 entries, 0 to 0\n",
      "Data columns (total 14 columns):\n",
      " #   Column                                                                                                                                                 Non-Null Count  Dtype \n",
      "---  ------                                                                                                                                                 --------------  ----- \n",
      " 0   Zeitstempel                                                                                                                                            1 non-null      object\n",
      " 1   Ich bin sportlich                                                                                                                                      1 non-null      object\n",
      " 2   Ich bin fleißig.                                                                                                                                       1 non-null      object\n",
      " 3   Von Rückschlägen lasse ich mich nicht entmutigen.                                                                                                      1 non-null      int64 \n",
      " 4   Meine Fähigkeiten und Talente sind vorgegeben und ich kann daran nicht viel ändern.                                                                    1 non-null      object\n",
      " 5   1990 lebten 58 % der Weltbevölkerung in Ländern mit niedrigem Einkommen. Wie hoch ist der Anteil heute? Geben Sie eine Zahl ein (z. B. 9, 37 oder 61)  1 non-null      int64 \n",
      " 6   Wie viel der weltweit verbrauchten Energie stammt aus Erdgas, Kohle und Öl?                                                                            1 non-null      object\n",
      " 7   Welcher Anteil der Weltbevölkerung lebt in Megacitys (Städte mit mindestens 10 Millionen Einwohnern)?                                                  1 non-null      int64 \n",
      " 8   Wie viele Geleebohnen befinden sich in diesem sechseckigen Glas?                                                                                       1 non-null      int64 \n",
      " 9   Wie viele Minuten verbringen Sie an einem typischen Tag in sozialen Medien (Facebook, Instagram, Snapchat, etc.)?                                      1 non-null      int64 \n",
      " 10  Wie viele Minuten investieren Sie ca. pro Tag in Ihr Studium (abgesehen von Lehrveranstaltungen)?                                                      1 non-null      int64 \n",
      " 11  Lesen Sie zur Zeit ein Buch?                                                                                                                           1 non-null      object\n",
      " 12  Wie alt sind Sie?                                                                                                                                      1 non-null      int64 \n",
      " 13  Sie sind ...                                                                                                                                           1 non-null      object\n",
      "dtypes: int64(7), object(7)\n",
      "memory usage: 240.0+ bytes\n"
     ]
    }
   ],
   "source": [
    "df.info()"
   ]
  },
  {
   "cell_type": "markdown",
   "metadata": {},
   "source": [
    "## Daten anpassen"
   ]
  },
  {
   "cell_type": "markdown",
   "metadata": {},
   "source": [
    "### Spaltennamen"
   ]
  },
  {
   "cell_type": "code",
   "execution_count": 4,
   "metadata": {},
   "outputs": [],
   "source": [
    "# Spaltennamen umbenennen\n",
    "df = df.rename(columns={ \n",
    "            \"Zeitstempel\": \"zeit\",\n",
    "            \"Ich bin sportlich\": \"sport\",\n",
    "            \"Ich bin fleißig.\": \"fleissig\",\n",
    "            \"Von Rückschlägen lasse ich mich nicht entmutigen.\": \"entmutigen\",\n",
    "            \"Meine Fähigkeiten und Talente sind vorgegeben und ich kann daran nicht viel ändern.\": 'talente',\n",
    "            \"1990 lebten 58 % der Weltbevölkerung in Ländern mit niedrigem Einkommen. Wie hoch ist der Anteil heute? Geben Sie eine Zahl ein (z. B. 9, 37 oder 61)\": \"einkommen\",\n",
    "            \"Wie viel der weltweit verbrauchten Energie stammt aus Erdgas, Kohle und Öl?\": \"energie\",\n",
    "            \"Welcher Anteil der Weltbevölkerung lebt in Megacitys (Städte mit mindestens 10 Millionen Einwohnern)?\": \"megacity\",\n",
    "            \"Wie viele Geleebohnen befinden sich in diesem sechseckigen Glas?\": \"geleebohnen\",\n",
    "            \"Wie viele Minuten verbringen Sie an einem typischen Tag in sozialen Medien (Facebook, Instagram, Snapchat, etc.)?\": \"soziale_medien\",\n",
    "            \"Wie viele Minuten investieren Sie ca. pro Tag in Ihr Studium (abgesehen von Lehrveranstaltungen)?\": \"studium\",\n",
    "            \"Lesen Sie zur Zeit ein Buch?\": \"buch\",\n",
    "            \"Wie alt sind Sie?\": \"alter\",\n",
    "            \"Sie sind ...\": \"geschlecht\"\n",
    "}, errors=\"raise\")"
   ]
  },
  {
   "cell_type": "code",
   "execution_count": 5,
   "metadata": {},
   "outputs": [
    {
     "name": "stdout",
     "output_type": "stream",
     "text": [
      "<class 'pandas.core.frame.DataFrame'>\n",
      "RangeIndex: 1 entries, 0 to 0\n",
      "Data columns (total 14 columns):\n",
      " #   Column          Non-Null Count  Dtype \n",
      "---  ------          --------------  ----- \n",
      " 0   zeit            1 non-null      object\n",
      " 1   sport           1 non-null      object\n",
      " 2   fleissig        1 non-null      object\n",
      " 3   entmutigen      1 non-null      int64 \n",
      " 4   talente         1 non-null      object\n",
      " 5   einkommen       1 non-null      int64 \n",
      " 6   energie         1 non-null      object\n",
      " 7   megacity        1 non-null      int64 \n",
      " 8   geleebohnen     1 non-null      int64 \n",
      " 9   soziale_medien  1 non-null      int64 \n",
      " 10  studium         1 non-null      int64 \n",
      " 11  buch            1 non-null      object\n",
      " 12  alter           1 non-null      int64 \n",
      " 13  geschlecht      1 non-null      object\n",
      "dtypes: int64(7), object(7)\n",
      "memory usage: 240.0+ bytes\n"
     ]
    }
   ],
   "source": [
    "df.info()"
   ]
  },
  {
   "cell_type": "markdown",
   "metadata": {},
   "source": [
    "### Variablen anpassen"
   ]
  },
  {
   "cell_type": "markdown",
   "metadata": {},
   "source": [
    "#### Nominale Variablen"
   ]
  },
  {
   "cell_type": "code",
   "execution_count": 6,
   "metadata": {},
   "outputs": [],
   "source": [
    "# Liste mit nominalen Variablen erstellen\n",
    "nominal_list = [\"buch\", \"geschlecht\"]"
   ]
  },
  {
   "cell_type": "code",
   "execution_count": 34,
   "metadata": {},
   "outputs": [],
   "source": [
    "# Nominale Variablen als kategorial formatieren (category)\n",
    "for i in nominal_list:\n",
    "    df[i] = df[i].astype(\"category\")"
   ]
  },
  {
   "cell_type": "code",
   "execution_count": 35,
   "metadata": {},
   "outputs": [
    {
     "name": "stdout",
     "output_type": "stream",
     "text": [
      "<class 'pandas.core.frame.DataFrame'>\n",
      "RangeIndex: 1 entries, 0 to 0\n",
      "Data columns (total 2 columns):\n",
      " #   Column      Non-Null Count  Dtype   \n",
      "---  ------      --------------  -----   \n",
      " 0   buch        1 non-null      category\n",
      " 1   geschlecht  1 non-null      category\n",
      "dtypes: category(2)\n",
      "memory usage: 362.0 bytes\n"
     ]
    }
   ],
   "source": [
    "# Nominale Variablen anzeigen lassen\n",
    "df[nominal_list].info()"
   ]
  },
  {
   "cell_type": "markdown",
   "metadata": {},
   "source": [
    "#### Ordinale Variablen"
   ]
  },
  {
   "cell_type": "markdown",
   "metadata": {},
   "source": [
    "Die Variablen `sport`,`fleissig`, und `talente` wurden mit Hilfe einer so genannten [Likert-Skala](https://de.wikipedia.org/wiki/Likert-Skala) erhoben. \n",
    "\n",
    "Die Antwortmöglichkeiten reichen bei der Likertskala typischerweise von „trifft überhaupt nicht zu“ bis \"trifft völlig zu“, wobei eine gerade Zahl der Antwortmöglichkeiten ebenso gebräuchlich ist wie eine ungerade Anzahl. \n",
    "\n",
    "- Eine **ungerade Anzahl** wird verwendet, wenn eine mittlere Ausprägung (bspw. \"teils teils\") sinnvoll ist. \n",
    "\n",
    "- Eine **gerade Anzahl** zwingt dagegen zur Entscheidung zu einer Seite (tendenzielle Zustimmung oder Ablehnung).\n",
    "\n",
    "Da wir nicht davon ausgehen können, dass eine befragte Person die Abstände der einzelnen Antwortmöglichkeiten als gleich weit entfernt wahrnimmt (äquidistant), handelt es sich streng genommen um ein ordinales Skalenniveau. Um bei der späteren Auswertung die erhobenen Daten aber dennoch wie intervallskalierte Daten behandeln zu können, behandelt man die Variablen oftmals als \"quais-metrisch\" und unterstellt somit (zumindest annäherungsweise) äquidistante Abstände. \n",
    "\n",
    "Dabei muss jedoch beachtet werden, dass bspw. der Mittelwert aufgrund der Art der Messung (insbesondere wenn eine neutrale mittlere Ausprägung verwendet wird) an Aussagekraft verlieren.\n",
    "\n",
    "Wir behandeln in Folgenden zwei unterschiedliche Optionen zum Umgang mit den Variablen:\n",
    "\n",
    "- Option 1: Wir behandeln die Variablen als ordinale Variablen (wird im Anschluss gezeigt).\n",
    "\n",
    "- Option 2: Wir behandeln die Variablen als \"quasimetrische\" Variablen - d.h. wie numerische Daten (diese Option wird bei den numerischen Daten behandelt)."
   ]
  },
  {
   "cell_type": "code",
   "execution_count": 7,
   "metadata": {},
   "outputs": [],
   "source": [
    "ordinal_list = [\"sport\", \"fleissig\", \"talente\"]"
   ]
  },
  {
   "cell_type": "code",
   "execution_count": 8,
   "metadata": {},
   "outputs": [
    {
     "data": {
      "text/plain": [
       "CategoricalDtype(categories=['trifft überhaupt nicht zu', 'trifft eher nicht zu',\n",
       "                  'teils teils', 'trifft eher zu', 'trifft völlig zu'],\n",
       ", ordered=True)"
      ]
     },
     "execution_count": 8,
     "metadata": {},
     "output_type": "execute_result"
    }
   ],
   "source": [
    "from pandas.api.types import CategoricalDtype\n",
    "\n",
    "cat_type= CategoricalDtype(categories=[\n",
    "    \"trifft überhaupt nicht zu\",\n",
    "    \"trifft eher nicht zu\",\n",
    "    \"teils teils\",\n",
    "    \"trifft eher zu\",\n",
    "    \"trifft völlig zu\"], ordered=True)\n",
    "\n",
    "cat_type"
   ]
  },
  {
   "cell_type": "code",
   "execution_count": 9,
   "metadata": {},
   "outputs": [],
   "source": [
    "df[ordinal_list] = df[ordinal_list].astype(cat_type)"
   ]
  },
  {
   "cell_type": "code",
   "execution_count": 10,
   "metadata": {},
   "outputs": [
    {
     "data": {
      "text/plain": [
       "0    teils teils\n",
       "Name: sport, dtype: category\n",
       "Categories (5, object): ['trifft überhaupt nicht zu' < 'trifft eher nicht zu' < 'teils teils' < 'trifft eher zu' < 'trifft völlig zu']"
      ]
     },
     "execution_count": 10,
     "metadata": {},
     "output_type": "execute_result"
    }
   ],
   "source": [
    "df[\"sport\"]"
   ]
  },
  {
   "cell_type": "markdown",
   "metadata": {},
   "source": [
    "### Numerische Variablen"
   ]
  },
  {
   "cell_type": "markdown",
   "metadata": {},
   "source": [
    "Wir behandeln zunächst die \"eindeutig\" numerischen Variablen (d.h. wir ignorieren die quasi-metrischen). diese wären:\n",
    "\n",
    "- einkommen\n",
    "- energie\n",
    "- megacity\n",
    "- geleebohnen\n",
    "- soziale_medien\n",
    "- studium\n",
    "- alter"
   ]
  },
  {
   "cell_type": "markdown",
   "metadata": {},
   "source": [
    "\n",
    "Wir können mit df.info() erkennen, dass abgesehen von `energie` bereits alle Variablen korrrekt als \"int64\" (siehe zur Bedeutung diesen [Stackoverflow-Beitrag](https://stackoverflow.com/questions/9696660/what-is-the-difference-between-int-int16-int32-and-int64)) gespeichert wurden.\n",
    "\n",
    "Daher müssen "
   ]
  },
  {
   "cell_type": "code",
   "execution_count": null,
   "metadata": {},
   "outputs": [],
   "source": [
    "num_list = "
   ]
  },
  {
   "cell_type": "code",
   "execution_count": null,
   "metadata": {},
   "outputs": [],
   "source": []
  },
  {
   "cell_type": "code",
   "execution_count": null,
   "metadata": {},
   "outputs": [],
   "source": []
  },
  {
   "cell_type": "code",
   "execution_count": null,
   "metadata": {},
   "outputs": [],
   "source": []
  },
  {
   "cell_type": "code",
   "execution_count": null,
   "metadata": {},
   "outputs": [],
   "source": [
    "num_list = [\"sport\", \"fleissig\", \"talente\"]"
   ]
  },
  {
   "cell_type": "code",
   "execution_count": null,
   "metadata": {},
   "outputs": [],
   "source": []
  },
  {
   "cell_type": "code",
   "execution_count": null,
   "metadata": {},
   "outputs": [],
   "source": []
  },
  {
   "cell_type": "code",
   "execution_count": 40,
   "metadata": {},
   "outputs": [
    {
     "data": {
      "text/html": [
       "<div>\n",
       "<style scoped>\n",
       "    .dataframe tbody tr th:only-of-type {\n",
       "        vertical-align: middle;\n",
       "    }\n",
       "\n",
       "    .dataframe tbody tr th {\n",
       "        vertical-align: top;\n",
       "    }\n",
       "\n",
       "    .dataframe thead th {\n",
       "        text-align: right;\n",
       "    }\n",
       "</style>\n",
       "<table border=\"1\" class=\"dataframe\">\n",
       "  <thead>\n",
       "    <tr style=\"text-align: right;\">\n",
       "      <th></th>\n",
       "      <th>zeit</th>\n",
       "      <th>sport</th>\n",
       "      <th>fleissig</th>\n",
       "      <th>entmutigen</th>\n",
       "      <th>talente</th>\n",
       "      <th>einkommen</th>\n",
       "      <th>energie</th>\n",
       "      <th>megacity</th>\n",
       "      <th>geleebohnen</th>\n",
       "      <th>soziale_medien</th>\n",
       "      <th>studium</th>\n",
       "      <th>buch</th>\n",
       "      <th>alter</th>\n",
       "      <th>geschlecht</th>\n",
       "    </tr>\n",
       "  </thead>\n",
       "  <tbody>\n",
       "    <tr>\n",
       "      <th>0</th>\n",
       "      <td>2022/09/14 8:21:58 PM OEZ</td>\n",
       "      <td>teils teils</td>\n",
       "      <td>trifft eher zu</td>\n",
       "      <td>4</td>\n",
       "      <td>trifft überhaupt nicht zu</td>\n",
       "      <td>9</td>\n",
       "      <td>ca. 42%</td>\n",
       "      <td>4</td>\n",
       "      <td>3000</td>\n",
       "      <td>34</td>\n",
       "      <td>34</td>\n",
       "      <td>Ja</td>\n",
       "      <td>22</td>\n",
       "      <td>Männlich</td>\n",
       "    </tr>\n",
       "  </tbody>\n",
       "</table>\n",
       "</div>"
      ],
      "text/plain": [
       "                        zeit        sport        fleissig  entmutigen  \\\n",
       "0  2022/09/14 8:21:58 PM OEZ  teils teils  trifft eher zu           4   \n",
       "\n",
       "                     talente  einkommen  energie  megacity  geleebohnen  \\\n",
       "0  trifft überhaupt nicht zu          9  ca. 42%         4         3000   \n",
       "\n",
       "   soziale_medien  studium buch  alter geschlecht  \n",
       "0              34       34   Ja     22   Männlich  "
      ]
     },
     "execution_count": 40,
     "metadata": {},
     "output_type": "execute_result"
    }
   ],
   "source": [
    "df.head()"
   ]
  },
  {
   "cell_type": "code",
   "execution_count": 6,
   "metadata": {
    "slideshow": {
     "slide_type": "slide"
    }
   },
   "outputs": [],
   "source": [
    "# Change data format from object to category\n",
    "df['homeownership'] = df['homeownership'].astype(\"category\")"
   ]
  },
  {
   "cell_type": "code",
   "execution_count": 7,
   "metadata": {},
   "outputs": [],
   "source": [
    "# You can also select variables with df.\n",
    "df.application_type = df.application_type.astype(\"category\")"
   ]
  },
  {
   "cell_type": "code",
   "execution_count": 8,
   "metadata": {},
   "outputs": [
    {
     "name": "stdout",
     "output_type": "stream",
     "text": [
      "<class 'pandas.core.frame.DataFrame'>\n",
      "RangeIndex: 10000 entries, 0 to 9999\n",
      "Data columns (total 2 columns):\n",
      " #   Column            Non-Null Count  Dtype   \n",
      "---  ------            --------------  -----   \n",
      " 0   homeownership     10000 non-null  category\n",
      " 1   application_type  10000 non-null  category\n",
      "dtypes: category(2)\n",
      "memory usage: 19.9 KB\n"
     ]
    }
   ],
   "source": [
    "# Show info\n",
    "df[[\"homeownership\", \"application_type\"]].info()"
   ]
  },
  {
   "cell_type": "markdown",
   "metadata": {},
   "source": [
    "## Detailed data overview"
   ]
  },
  {
   "cell_type": "code",
   "execution_count": 9,
   "metadata": {
    "slideshow": {
     "slide_type": "slide"
    }
   },
   "outputs": [
    {
     "data": {
      "text/plain": [
       "Index(['mortgage', 'own', 'rent'], dtype='object')"
      ]
     },
     "execution_count": 9,
     "metadata": {},
     "output_type": "execute_result"
    }
   ],
   "source": [
    "# Show levels of categorical variable\n",
    "df['homeownership'].cat.categories"
   ]
  },
  {
   "cell_type": "code",
   "execution_count": 10,
   "metadata": {},
   "outputs": [
    {
     "data": {
      "text/plain": [
       "Index(['individual', 'joint'], dtype='object')"
      ]
     },
     "execution_count": 10,
     "metadata": {},
     "output_type": "execute_result"
    }
   ],
   "source": [
    "# Show levels of categorical variable\n",
    "df.application_type.cat.categories"
   ]
  },
  {
   "cell_type": "code",
   "execution_count": 11,
   "metadata": {
    "slideshow": {
     "slide_type": "slide"
    }
   },
   "outputs": [
    {
     "data": {
      "text/plain": [
       "mortgage    4789\n",
       "rent        3858\n",
       "own         1353\n",
       "Name: homeownership, dtype: int64"
      ]
     },
     "execution_count": 11,
     "metadata": {},
     "output_type": "execute_result"
    }
   ],
   "source": [
    "# Summarizing the frequencies for each value\n",
    "df[\"homeownership\"].value_counts()"
   ]
  },
  {
   "cell_type": "code",
   "execution_count": 12,
   "metadata": {},
   "outputs": [
    {
     "data": {
      "text/plain": [
       "individual    8505\n",
       "joint         1495\n",
       "Name: application_type, dtype: int64"
      ]
     },
     "execution_count": 12,
     "metadata": {},
     "output_type": "execute_result"
    }
   ],
   "source": [
    "# Summarizing the frequencies for each value\n",
    "df.application_type.value_counts()"
   ]
  },
  {
   "cell_type": "code",
   "execution_count": 13,
   "metadata": {},
   "outputs": [
    {
     "data": {
      "text/html": [
       "<div>\n",
       "<style scoped>\n",
       "    .dataframe tbody tr th:only-of-type {\n",
       "        vertical-align: middle;\n",
       "    }\n",
       "\n",
       "    .dataframe tbody tr th {\n",
       "        vertical-align: top;\n",
       "    }\n",
       "\n",
       "    .dataframe thead th {\n",
       "        text-align: right;\n",
       "    }\n",
       "</style>\n",
       "<table border=\"1\" class=\"dataframe\">\n",
       "  <thead>\n",
       "    <tr style=\"text-align: right;\">\n",
       "      <th></th>\n",
       "      <th>homeownership</th>\n",
       "      <th>application_type</th>\n",
       "    </tr>\n",
       "  </thead>\n",
       "  <tbody>\n",
       "    <tr>\n",
       "      <th>count</th>\n",
       "      <td>10000</td>\n",
       "      <td>10000</td>\n",
       "    </tr>\n",
       "    <tr>\n",
       "      <th>unique</th>\n",
       "      <td>3</td>\n",
       "      <td>2</td>\n",
       "    </tr>\n",
       "    <tr>\n",
       "      <th>top</th>\n",
       "      <td>mortgage</td>\n",
       "      <td>individual</td>\n",
       "    </tr>\n",
       "    <tr>\n",
       "      <th>freq</th>\n",
       "      <td>4789</td>\n",
       "      <td>8505</td>\n",
       "    </tr>\n",
       "  </tbody>\n",
       "</table>\n",
       "</div>"
      ],
      "text/plain": [
       "       homeownership application_type\n",
       "count          10000            10000\n",
       "unique             3                2\n",
       "top         mortgage       individual\n",
       "freq            4789             8505"
      ]
     },
     "execution_count": 13,
     "metadata": {},
     "output_type": "execute_result"
    }
   ],
   "source": [
    "# Data summary for categorical variables\n",
    "df.describe(include='category')"
   ]
  }
 ],
 "metadata": {
  "celltoolbar": "Slideshow",
  "kernelspec": {
   "display_name": "Python 3.9.12 ('base')",
   "language": "python",
   "name": "python3"
  },
  "language_info": {
   "codemirror_mode": {
    "name": "ipython",
    "version": 3
   },
   "file_extension": ".py",
   "mimetype": "text/x-python",
   "name": "python",
   "nbconvert_exporter": "python",
   "pygments_lexer": "ipython3",
   "version": "3.9.12"
  },
  "varInspector": {
   "cols": {
    "lenName": 16,
    "lenType": 16,
    "lenVar": 40
   },
   "kernels_config": {
    "python": {
     "delete_cmd_postfix": "",
     "delete_cmd_prefix": "del ",
     "library": "var_list.py",
     "varRefreshCmd": "print(var_dic_list())"
    },
    "r": {
     "delete_cmd_postfix": ") ",
     "delete_cmd_prefix": "rm(",
     "library": "var_list.r",
     "varRefreshCmd": "cat(var_dic_list()) "
    }
   },
   "types_to_exclude": [
    "module",
    "function",
    "builtin_function_or_method",
    "instance",
    "_Feature"
   ],
   "window_display": false
  },
  "vscode": {
   "interpreter": {
    "hash": "463226f144cc21b006ce6927bfc93dd00694e52c8bc6857abb6e555b983749e9"
   }
  }
 },
 "nbformat": 4,
 "nbformat_minor": 2
}
