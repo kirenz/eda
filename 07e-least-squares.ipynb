{
 "cells": [
  {
   "cell_type": "markdown",
   "metadata": {},
   "source": [
    "# Least squares"
   ]
  },
  {
   "cell_type": "markdown",
   "metadata": {},
   "source": [
    "## Setup"
   ]
  },
  {
   "cell_type": "code",
   "execution_count": 23,
   "metadata": {},
   "outputs": [],
   "source": [
    "import pandas as pd\n",
    "import altair as alt\n",
    "\n",
    "from sklearn.linear_model import LinearRegression\n",
    "from sklearn.metrics import r2_score"
   ]
  },
  {
   "cell_type": "markdown",
   "metadata": {},
   "source": [
    "## Data"
   ]
  },
  {
   "cell_type": "code",
   "execution_count": 24,
   "metadata": {},
   "outputs": [],
   "source": [
    "df = pd.DataFrame(\n",
    "    {'sales': [2500, 4500, 6500, 8500, 10500, 12500, 14500, 16500, 18500, 20500],\n",
    "      'ads'  : [900, 1400, 3600, 3800, 6200, 5200, 6800, 8300, 9800, 10100]}\n",
    ")"
   ]
  },
  {
   "cell_type": "code",
   "execution_count": 25,
   "metadata": {},
   "outputs": [],
   "source": [
    "# Prepare the data\n",
    "X = df[[\"ads\"]]\n",
    "y = df[[\"sales\"]]"
   ]
  },
  {
   "cell_type": "markdown",
   "metadata": {},
   "source": [
    "## Model"
   ]
  },
  {
   "cell_type": "markdown",
   "metadata": {},
   "source": [
    "### Fit model"
   ]
  },
  {
   "cell_type": "code",
   "execution_count": 26,
   "metadata": {},
   "outputs": [
    {
     "data": {
      "text/html": [
       "<style>#sk-container-id-3 {color: black;background-color: white;}#sk-container-id-3 pre{padding: 0;}#sk-container-id-3 div.sk-toggleable {background-color: white;}#sk-container-id-3 label.sk-toggleable__label {cursor: pointer;display: block;width: 100%;margin-bottom: 0;padding: 0.3em;box-sizing: border-box;text-align: center;}#sk-container-id-3 label.sk-toggleable__label-arrow:before {content: \"▸\";float: left;margin-right: 0.25em;color: #696969;}#sk-container-id-3 label.sk-toggleable__label-arrow:hover:before {color: black;}#sk-container-id-3 div.sk-estimator:hover label.sk-toggleable__label-arrow:before {color: black;}#sk-container-id-3 div.sk-toggleable__content {max-height: 0;max-width: 0;overflow: hidden;text-align: left;background-color: #f0f8ff;}#sk-container-id-3 div.sk-toggleable__content pre {margin: 0.2em;color: black;border-radius: 0.25em;background-color: #f0f8ff;}#sk-container-id-3 input.sk-toggleable__control:checked~div.sk-toggleable__content {max-height: 200px;max-width: 100%;overflow: auto;}#sk-container-id-3 input.sk-toggleable__control:checked~label.sk-toggleable__label-arrow:before {content: \"▾\";}#sk-container-id-3 div.sk-estimator input.sk-toggleable__control:checked~label.sk-toggleable__label {background-color: #d4ebff;}#sk-container-id-3 div.sk-label input.sk-toggleable__control:checked~label.sk-toggleable__label {background-color: #d4ebff;}#sk-container-id-3 input.sk-hidden--visually {border: 0;clip: rect(1px 1px 1px 1px);clip: rect(1px, 1px, 1px, 1px);height: 1px;margin: -1px;overflow: hidden;padding: 0;position: absolute;width: 1px;}#sk-container-id-3 div.sk-estimator {font-family: monospace;background-color: #f0f8ff;border: 1px dotted black;border-radius: 0.25em;box-sizing: border-box;margin-bottom: 0.5em;}#sk-container-id-3 div.sk-estimator:hover {background-color: #d4ebff;}#sk-container-id-3 div.sk-parallel-item::after {content: \"\";width: 100%;border-bottom: 1px solid gray;flex-grow: 1;}#sk-container-id-3 div.sk-label:hover label.sk-toggleable__label {background-color: #d4ebff;}#sk-container-id-3 div.sk-serial::before {content: \"\";position: absolute;border-left: 1px solid gray;box-sizing: border-box;top: 0;bottom: 0;left: 50%;z-index: 0;}#sk-container-id-3 div.sk-serial {display: flex;flex-direction: column;align-items: center;background-color: white;padding-right: 0.2em;padding-left: 0.2em;position: relative;}#sk-container-id-3 div.sk-item {position: relative;z-index: 1;}#sk-container-id-3 div.sk-parallel {display: flex;align-items: stretch;justify-content: center;background-color: white;position: relative;}#sk-container-id-3 div.sk-item::before, #sk-container-id-3 div.sk-parallel-item::before {content: \"\";position: absolute;border-left: 1px solid gray;box-sizing: border-box;top: 0;bottom: 0;left: 50%;z-index: -1;}#sk-container-id-3 div.sk-parallel-item {display: flex;flex-direction: column;z-index: 1;position: relative;background-color: white;}#sk-container-id-3 div.sk-parallel-item:first-child::after {align-self: flex-end;width: 50%;}#sk-container-id-3 div.sk-parallel-item:last-child::after {align-self: flex-start;width: 50%;}#sk-container-id-3 div.sk-parallel-item:only-child::after {width: 0;}#sk-container-id-3 div.sk-dashed-wrapped {border: 1px dashed gray;margin: 0 0.4em 0.5em 0.4em;box-sizing: border-box;padding-bottom: 0.4em;background-color: white;}#sk-container-id-3 div.sk-label label {font-family: monospace;font-weight: bold;display: inline-block;line-height: 1.2em;}#sk-container-id-3 div.sk-label-container {text-align: center;}#sk-container-id-3 div.sk-container {/* jupyter's `normalize.less` sets `[hidden] { display: none; }` but bootstrap.min.css set `[hidden] { display: none !important; }` so we also need the `!important` here to be able to override the default hidden behavior on the sphinx rendered scikit-learn.org. See: https://github.com/scikit-learn/scikit-learn/issues/21755 */display: inline-block !important;position: relative;}#sk-container-id-3 div.sk-text-repr-fallback {display: none;}</style><div id=\"sk-container-id-3\" class=\"sk-top-container\"><div class=\"sk-text-repr-fallback\"><pre>LinearRegression()</pre><b>In a Jupyter environment, please rerun this cell to show the HTML representation or trust the notebook. <br />On GitHub, the HTML representation is unable to render, please try loading this page with nbviewer.org.</b></div><div class=\"sk-container\" hidden><div class=\"sk-item\"><div class=\"sk-estimator sk-toggleable\"><input class=\"sk-toggleable__control sk-hidden--visually\" id=\"sk-estimator-id-3\" type=\"checkbox\" checked><label for=\"sk-estimator-id-3\" class=\"sk-toggleable__label sk-toggleable__label-arrow\">LinearRegression</label><div class=\"sk-toggleable__content\"><pre>LinearRegression()</pre></div></div></div></div></div>"
      ],
      "text/plain": [
       "LinearRegression()"
      ]
     },
     "execution_count": 26,
     "metadata": {},
     "output_type": "execute_result"
    }
   ],
   "source": [
    "# linear regression model\n",
    "reg = LinearRegression()\n",
    "\n",
    "# Fit the model\n",
    "reg.fit(X, y)\n"
   ]
  },
  {
   "cell_type": "markdown",
   "metadata": {},
   "source": [
    "### Coefficients"
   ]
  },
  {
   "cell_type": "code",
   "execution_count": 27,
   "metadata": {},
   "outputs": [
    {
     "data": {
      "text/plain": [
       "array([1181.21008618])"
      ]
     },
     "execution_count": 27,
     "metadata": {},
     "output_type": "execute_result"
    }
   ],
   "source": [
    "# Intercept\n",
    "reg.intercept_"
   ]
  },
  {
   "cell_type": "code",
   "execution_count": 28,
   "metadata": {},
   "outputs": [
    {
     "data": {
      "text/plain": [
       "array([[1.83935649]])"
      ]
     },
     "execution_count": 28,
     "metadata": {},
     "output_type": "execute_result"
    }
   ],
   "source": [
    "# Slope\n",
    "reg.coef_"
   ]
  },
  {
   "cell_type": "markdown",
   "metadata": {},
   "source": [
    "### Predictions"
   ]
  },
  {
   "cell_type": "code",
   "execution_count": 29,
   "metadata": {},
   "outputs": [],
   "source": [
    "# Make predictions\n",
    "y_pred = reg.predict(X)"
   ]
  },
  {
   "cell_type": "code",
   "execution_count": 30,
   "metadata": {},
   "outputs": [
    {
     "data": {
      "text/plain": [
       "array([[ 2836.63092797],\n",
       "       [ 3756.30917341],\n",
       "       [ 7802.89345334],\n",
       "       [ 8170.76475151],\n",
       "       [12585.22032962],\n",
       "       [10745.86383874],\n",
       "       [13688.83422414],\n",
       "       [16447.86896046],\n",
       "       [19206.90369678],\n",
       "       [19758.71064404]])"
      ]
     },
     "execution_count": 30,
     "metadata": {},
     "output_type": "execute_result"
    }
   ],
   "source": [
    "y_pred"
   ]
  },
  {
   "cell_type": "markdown",
   "metadata": {},
   "source": [
    "### Evaluation"
   ]
  },
  {
   "cell_type": "code",
   "execution_count": 31,
   "metadata": {},
   "outputs": [
    {
     "data": {
      "text/plain": [
       "0.9648260865785225"
      ]
     },
     "execution_count": 31,
     "metadata": {},
     "output_type": "execute_result"
    }
   ],
   "source": [
    "r2_score(y, y_pred)"
   ]
  },
  {
   "cell_type": "code",
   "execution_count": 32,
   "metadata": {},
   "outputs": [
    {
     "ename": "ValueError",
     "evalue": "sales_prediction encoding field is specified without a type; the type cannot be inferred because it does not match any column in the data.",
     "output_type": "error",
     "traceback": [
      "\u001b[0;31m---------------------------------------------------------------------------\u001b[0m",
      "\u001b[0;31mValueError\u001b[0m                                Traceback (most recent call last)",
      "File \u001b[0;32m/opt/homebrew/Caskroom/miniforge/base/lib/python3.9/site-packages/altair/vegalite/v4/api.py:384\u001b[0m, in \u001b[0;36mTopLevelMixin.to_dict\u001b[0;34m(self, *args, **kwargs)\u001b[0m\n\u001b[1;32m    381\u001b[0m kwargs[\u001b[39m\"\u001b[39m\u001b[39mcontext\u001b[39m\u001b[39m\"\u001b[39m] \u001b[39m=\u001b[39m context\n\u001b[1;32m    383\u001b[0m \u001b[39mtry\u001b[39;00m:\n\u001b[0;32m--> 384\u001b[0m     dct \u001b[39m=\u001b[39m \u001b[39msuper\u001b[39;49m(TopLevelMixin, copy)\u001b[39m.\u001b[39;49mto_dict(\u001b[39m*\u001b[39;49margs, \u001b[39m*\u001b[39;49m\u001b[39m*\u001b[39;49mkwargs)\n\u001b[1;32m    385\u001b[0m \u001b[39mexcept\u001b[39;00m jsonschema\u001b[39m.\u001b[39mValidationError:\n\u001b[1;32m    386\u001b[0m     dct \u001b[39m=\u001b[39m \u001b[39mNone\u001b[39;00m\n",
      "File \u001b[0;32m/opt/homebrew/Caskroom/miniforge/base/lib/python3.9/site-packages/altair/utils/schemapi.py:326\u001b[0m, in \u001b[0;36mSchemaBase.to_dict\u001b[0;34m(self, validate, ignore, context)\u001b[0m\n\u001b[1;32m    324\u001b[0m     result \u001b[39m=\u001b[39m _todict(\u001b[39mself\u001b[39m\u001b[39m.\u001b[39m_args[\u001b[39m0\u001b[39m], validate\u001b[39m=\u001b[39msub_validate, context\u001b[39m=\u001b[39mcontext)\n\u001b[1;32m    325\u001b[0m \u001b[39melif\u001b[39;00m \u001b[39mnot\u001b[39;00m \u001b[39mself\u001b[39m\u001b[39m.\u001b[39m_args:\n\u001b[0;32m--> 326\u001b[0m     result \u001b[39m=\u001b[39m _todict(\n\u001b[1;32m    327\u001b[0m         {k: v \u001b[39mfor\u001b[39;49;00m k, v \u001b[39min\u001b[39;49;00m \u001b[39mself\u001b[39;49m\u001b[39m.\u001b[39;49m_kwds\u001b[39m.\u001b[39;49mitems() \u001b[39mif\u001b[39;49;00m k \u001b[39mnot\u001b[39;49;00m \u001b[39min\u001b[39;49;00m ignore},\n\u001b[1;32m    328\u001b[0m         validate\u001b[39m=\u001b[39;49msub_validate,\n\u001b[1;32m    329\u001b[0m         context\u001b[39m=\u001b[39;49mcontext,\n\u001b[1;32m    330\u001b[0m     )\n\u001b[1;32m    331\u001b[0m \u001b[39melse\u001b[39;00m:\n\u001b[1;32m    332\u001b[0m     \u001b[39mraise\u001b[39;00m \u001b[39mValueError\u001b[39;00m(\n\u001b[1;32m    333\u001b[0m         \u001b[39m\"\u001b[39m\u001b[39m{}\u001b[39;00m\u001b[39m instance has both a value and properties : \u001b[39m\u001b[39m\"\u001b[39m\n\u001b[1;32m    334\u001b[0m         \u001b[39m\"\u001b[39m\u001b[39mcannot serialize to dict\u001b[39m\u001b[39m\"\u001b[39m\u001b[39m.\u001b[39mformat(\u001b[39mself\u001b[39m\u001b[39m.\u001b[39m\u001b[39m__class__\u001b[39m)\n\u001b[1;32m    335\u001b[0m     )\n",
      "File \u001b[0;32m/opt/homebrew/Caskroom/miniforge/base/lib/python3.9/site-packages/altair/utils/schemapi.py:60\u001b[0m, in \u001b[0;36m_todict\u001b[0;34m(obj, validate, context)\u001b[0m\n\u001b[1;32m     58\u001b[0m     \u001b[39mreturn\u001b[39;00m [_todict(v, validate, context) \u001b[39mfor\u001b[39;00m v \u001b[39min\u001b[39;00m obj]\n\u001b[1;32m     59\u001b[0m \u001b[39melif\u001b[39;00m \u001b[39misinstance\u001b[39m(obj, \u001b[39mdict\u001b[39m):\n\u001b[0;32m---> 60\u001b[0m     \u001b[39mreturn\u001b[39;00m {\n\u001b[1;32m     61\u001b[0m         k: _todict(v, validate, context)\n\u001b[1;32m     62\u001b[0m         \u001b[39mfor\u001b[39;00m k, v \u001b[39min\u001b[39;00m obj\u001b[39m.\u001b[39mitems()\n\u001b[1;32m     63\u001b[0m         \u001b[39mif\u001b[39;00m v \u001b[39mis\u001b[39;00m \u001b[39mnot\u001b[39;00m Undefined\n\u001b[1;32m     64\u001b[0m     }\n\u001b[1;32m     65\u001b[0m \u001b[39melif\u001b[39;00m \u001b[39mhasattr\u001b[39m(obj, \u001b[39m\"\u001b[39m\u001b[39mto_dict\u001b[39m\u001b[39m\"\u001b[39m):\n\u001b[1;32m     66\u001b[0m     \u001b[39mreturn\u001b[39;00m obj\u001b[39m.\u001b[39mto_dict()\n",
      "File \u001b[0;32m/opt/homebrew/Caskroom/miniforge/base/lib/python3.9/site-packages/altair/utils/schemapi.py:61\u001b[0m, in \u001b[0;36m<dictcomp>\u001b[0;34m(.0)\u001b[0m\n\u001b[1;32m     58\u001b[0m     \u001b[39mreturn\u001b[39;00m [_todict(v, validate, context) \u001b[39mfor\u001b[39;00m v \u001b[39min\u001b[39;00m obj]\n\u001b[1;32m     59\u001b[0m \u001b[39melif\u001b[39;00m \u001b[39misinstance\u001b[39m(obj, \u001b[39mdict\u001b[39m):\n\u001b[1;32m     60\u001b[0m     \u001b[39mreturn\u001b[39;00m {\n\u001b[0;32m---> 61\u001b[0m         k: _todict(v, validate, context)\n\u001b[1;32m     62\u001b[0m         \u001b[39mfor\u001b[39;00m k, v \u001b[39min\u001b[39;00m obj\u001b[39m.\u001b[39mitems()\n\u001b[1;32m     63\u001b[0m         \u001b[39mif\u001b[39;00m v \u001b[39mis\u001b[39;00m \u001b[39mnot\u001b[39;00m Undefined\n\u001b[1;32m     64\u001b[0m     }\n\u001b[1;32m     65\u001b[0m \u001b[39melif\u001b[39;00m \u001b[39mhasattr\u001b[39m(obj, \u001b[39m\"\u001b[39m\u001b[39mto_dict\u001b[39m\u001b[39m\"\u001b[39m):\n\u001b[1;32m     66\u001b[0m     \u001b[39mreturn\u001b[39;00m obj\u001b[39m.\u001b[39mto_dict()\n",
      "File \u001b[0;32m/opt/homebrew/Caskroom/miniforge/base/lib/python3.9/site-packages/altair/utils/schemapi.py:58\u001b[0m, in \u001b[0;36m_todict\u001b[0;34m(obj, validate, context)\u001b[0m\n\u001b[1;32m     56\u001b[0m     \u001b[39mreturn\u001b[39;00m obj\u001b[39m.\u001b[39mto_dict(validate\u001b[39m=\u001b[39mvalidate, context\u001b[39m=\u001b[39mcontext)\n\u001b[1;32m     57\u001b[0m \u001b[39melif\u001b[39;00m \u001b[39misinstance\u001b[39m(obj, (\u001b[39mlist\u001b[39m, \u001b[39mtuple\u001b[39m, np\u001b[39m.\u001b[39mndarray)):\n\u001b[0;32m---> 58\u001b[0m     \u001b[39mreturn\u001b[39;00m [_todict(v, validate, context) \u001b[39mfor\u001b[39;00m v \u001b[39min\u001b[39;00m obj]\n\u001b[1;32m     59\u001b[0m \u001b[39melif\u001b[39;00m \u001b[39misinstance\u001b[39m(obj, \u001b[39mdict\u001b[39m):\n\u001b[1;32m     60\u001b[0m     \u001b[39mreturn\u001b[39;00m {\n\u001b[1;32m     61\u001b[0m         k: _todict(v, validate, context)\n\u001b[1;32m     62\u001b[0m         \u001b[39mfor\u001b[39;00m k, v \u001b[39min\u001b[39;00m obj\u001b[39m.\u001b[39mitems()\n\u001b[1;32m     63\u001b[0m         \u001b[39mif\u001b[39;00m v \u001b[39mis\u001b[39;00m \u001b[39mnot\u001b[39;00m Undefined\n\u001b[1;32m     64\u001b[0m     }\n",
      "File \u001b[0;32m/opt/homebrew/Caskroom/miniforge/base/lib/python3.9/site-packages/altair/utils/schemapi.py:58\u001b[0m, in \u001b[0;36m<listcomp>\u001b[0;34m(.0)\u001b[0m\n\u001b[1;32m     56\u001b[0m     \u001b[39mreturn\u001b[39;00m obj\u001b[39m.\u001b[39mto_dict(validate\u001b[39m=\u001b[39mvalidate, context\u001b[39m=\u001b[39mcontext)\n\u001b[1;32m     57\u001b[0m \u001b[39melif\u001b[39;00m \u001b[39misinstance\u001b[39m(obj, (\u001b[39mlist\u001b[39m, \u001b[39mtuple\u001b[39m, np\u001b[39m.\u001b[39mndarray)):\n\u001b[0;32m---> 58\u001b[0m     \u001b[39mreturn\u001b[39;00m [_todict(v, validate, context) \u001b[39mfor\u001b[39;00m v \u001b[39min\u001b[39;00m obj]\n\u001b[1;32m     59\u001b[0m \u001b[39melif\u001b[39;00m \u001b[39misinstance\u001b[39m(obj, \u001b[39mdict\u001b[39m):\n\u001b[1;32m     60\u001b[0m     \u001b[39mreturn\u001b[39;00m {\n\u001b[1;32m     61\u001b[0m         k: _todict(v, validate, context)\n\u001b[1;32m     62\u001b[0m         \u001b[39mfor\u001b[39;00m k, v \u001b[39min\u001b[39;00m obj\u001b[39m.\u001b[39mitems()\n\u001b[1;32m     63\u001b[0m         \u001b[39mif\u001b[39;00m v \u001b[39mis\u001b[39;00m \u001b[39mnot\u001b[39;00m Undefined\n\u001b[1;32m     64\u001b[0m     }\n",
      "File \u001b[0;32m/opt/homebrew/Caskroom/miniforge/base/lib/python3.9/site-packages/altair/utils/schemapi.py:56\u001b[0m, in \u001b[0;36m_todict\u001b[0;34m(obj, validate, context)\u001b[0m\n\u001b[1;32m     54\u001b[0m \u001b[39m\"\"\"Convert an object to a dict representation.\"\"\"\u001b[39;00m\n\u001b[1;32m     55\u001b[0m \u001b[39mif\u001b[39;00m \u001b[39misinstance\u001b[39m(obj, SchemaBase):\n\u001b[0;32m---> 56\u001b[0m     \u001b[39mreturn\u001b[39;00m obj\u001b[39m.\u001b[39;49mto_dict(validate\u001b[39m=\u001b[39;49mvalidate, context\u001b[39m=\u001b[39;49mcontext)\n\u001b[1;32m     57\u001b[0m \u001b[39melif\u001b[39;00m \u001b[39misinstance\u001b[39m(obj, (\u001b[39mlist\u001b[39m, \u001b[39mtuple\u001b[39m, np\u001b[39m.\u001b[39mndarray)):\n\u001b[1;32m     58\u001b[0m     \u001b[39mreturn\u001b[39;00m [_todict(v, validate, context) \u001b[39mfor\u001b[39;00m v \u001b[39min\u001b[39;00m obj]\n",
      "File \u001b[0;32m/opt/homebrew/Caskroom/miniforge/base/lib/python3.9/site-packages/altair/vegalite/v4/api.py:2020\u001b[0m, in \u001b[0;36mChart.to_dict\u001b[0;34m(self, *args, **kwargs)\u001b[0m\n\u001b[1;32m   2018\u001b[0m     copy\u001b[39m.\u001b[39mdata \u001b[39m=\u001b[39m core\u001b[39m.\u001b[39mInlineData(values\u001b[39m=\u001b[39m[{}])\n\u001b[1;32m   2019\u001b[0m     \u001b[39mreturn\u001b[39;00m \u001b[39msuper\u001b[39m(Chart, copy)\u001b[39m.\u001b[39mto_dict(\u001b[39m*\u001b[39margs, \u001b[39m*\u001b[39m\u001b[39m*\u001b[39mkwargs)\n\u001b[0;32m-> 2020\u001b[0m \u001b[39mreturn\u001b[39;00m \u001b[39msuper\u001b[39;49m()\u001b[39m.\u001b[39;49mto_dict(\u001b[39m*\u001b[39;49margs, \u001b[39m*\u001b[39;49m\u001b[39m*\u001b[39;49mkwargs)\n",
      "File \u001b[0;32m/opt/homebrew/Caskroom/miniforge/base/lib/python3.9/site-packages/altair/vegalite/v4/api.py:384\u001b[0m, in \u001b[0;36mTopLevelMixin.to_dict\u001b[0;34m(self, *args, **kwargs)\u001b[0m\n\u001b[1;32m    381\u001b[0m kwargs[\u001b[39m\"\u001b[39m\u001b[39mcontext\u001b[39m\u001b[39m\"\u001b[39m] \u001b[39m=\u001b[39m context\n\u001b[1;32m    383\u001b[0m \u001b[39mtry\u001b[39;00m:\n\u001b[0;32m--> 384\u001b[0m     dct \u001b[39m=\u001b[39m \u001b[39msuper\u001b[39;49m(TopLevelMixin, copy)\u001b[39m.\u001b[39;49mto_dict(\u001b[39m*\u001b[39;49margs, \u001b[39m*\u001b[39;49m\u001b[39m*\u001b[39;49mkwargs)\n\u001b[1;32m    385\u001b[0m \u001b[39mexcept\u001b[39;00m jsonschema\u001b[39m.\u001b[39mValidationError:\n\u001b[1;32m    386\u001b[0m     dct \u001b[39m=\u001b[39m \u001b[39mNone\u001b[39;00m\n",
      "File \u001b[0;32m/opt/homebrew/Caskroom/miniforge/base/lib/python3.9/site-packages/altair/utils/schemapi.py:326\u001b[0m, in \u001b[0;36mSchemaBase.to_dict\u001b[0;34m(self, validate, ignore, context)\u001b[0m\n\u001b[1;32m    324\u001b[0m     result \u001b[39m=\u001b[39m _todict(\u001b[39mself\u001b[39m\u001b[39m.\u001b[39m_args[\u001b[39m0\u001b[39m], validate\u001b[39m=\u001b[39msub_validate, context\u001b[39m=\u001b[39mcontext)\n\u001b[1;32m    325\u001b[0m \u001b[39melif\u001b[39;00m \u001b[39mnot\u001b[39;00m \u001b[39mself\u001b[39m\u001b[39m.\u001b[39m_args:\n\u001b[0;32m--> 326\u001b[0m     result \u001b[39m=\u001b[39m _todict(\n\u001b[1;32m    327\u001b[0m         {k: v \u001b[39mfor\u001b[39;49;00m k, v \u001b[39min\u001b[39;49;00m \u001b[39mself\u001b[39;49m\u001b[39m.\u001b[39;49m_kwds\u001b[39m.\u001b[39;49mitems() \u001b[39mif\u001b[39;49;00m k \u001b[39mnot\u001b[39;49;00m \u001b[39min\u001b[39;49;00m ignore},\n\u001b[1;32m    328\u001b[0m         validate\u001b[39m=\u001b[39;49msub_validate,\n\u001b[1;32m    329\u001b[0m         context\u001b[39m=\u001b[39;49mcontext,\n\u001b[1;32m    330\u001b[0m     )\n\u001b[1;32m    331\u001b[0m \u001b[39melse\u001b[39;00m:\n\u001b[1;32m    332\u001b[0m     \u001b[39mraise\u001b[39;00m \u001b[39mValueError\u001b[39;00m(\n\u001b[1;32m    333\u001b[0m         \u001b[39m\"\u001b[39m\u001b[39m{}\u001b[39;00m\u001b[39m instance has both a value and properties : \u001b[39m\u001b[39m\"\u001b[39m\n\u001b[1;32m    334\u001b[0m         \u001b[39m\"\u001b[39m\u001b[39mcannot serialize to dict\u001b[39m\u001b[39m\"\u001b[39m\u001b[39m.\u001b[39mformat(\u001b[39mself\u001b[39m\u001b[39m.\u001b[39m\u001b[39m__class__\u001b[39m)\n\u001b[1;32m    335\u001b[0m     )\n",
      "File \u001b[0;32m/opt/homebrew/Caskroom/miniforge/base/lib/python3.9/site-packages/altair/utils/schemapi.py:60\u001b[0m, in \u001b[0;36m_todict\u001b[0;34m(obj, validate, context)\u001b[0m\n\u001b[1;32m     58\u001b[0m     \u001b[39mreturn\u001b[39;00m [_todict(v, validate, context) \u001b[39mfor\u001b[39;00m v \u001b[39min\u001b[39;00m obj]\n\u001b[1;32m     59\u001b[0m \u001b[39melif\u001b[39;00m \u001b[39misinstance\u001b[39m(obj, \u001b[39mdict\u001b[39m):\n\u001b[0;32m---> 60\u001b[0m     \u001b[39mreturn\u001b[39;00m {\n\u001b[1;32m     61\u001b[0m         k: _todict(v, validate, context)\n\u001b[1;32m     62\u001b[0m         \u001b[39mfor\u001b[39;00m k, v \u001b[39min\u001b[39;00m obj\u001b[39m.\u001b[39mitems()\n\u001b[1;32m     63\u001b[0m         \u001b[39mif\u001b[39;00m v \u001b[39mis\u001b[39;00m \u001b[39mnot\u001b[39;00m Undefined\n\u001b[1;32m     64\u001b[0m     }\n\u001b[1;32m     65\u001b[0m \u001b[39melif\u001b[39;00m \u001b[39mhasattr\u001b[39m(obj, \u001b[39m\"\u001b[39m\u001b[39mto_dict\u001b[39m\u001b[39m\"\u001b[39m):\n\u001b[1;32m     66\u001b[0m     \u001b[39mreturn\u001b[39;00m obj\u001b[39m.\u001b[39mto_dict()\n",
      "File \u001b[0;32m/opt/homebrew/Caskroom/miniforge/base/lib/python3.9/site-packages/altair/utils/schemapi.py:61\u001b[0m, in \u001b[0;36m<dictcomp>\u001b[0;34m(.0)\u001b[0m\n\u001b[1;32m     58\u001b[0m     \u001b[39mreturn\u001b[39;00m [_todict(v, validate, context) \u001b[39mfor\u001b[39;00m v \u001b[39min\u001b[39;00m obj]\n\u001b[1;32m     59\u001b[0m \u001b[39melif\u001b[39;00m \u001b[39misinstance\u001b[39m(obj, \u001b[39mdict\u001b[39m):\n\u001b[1;32m     60\u001b[0m     \u001b[39mreturn\u001b[39;00m {\n\u001b[0;32m---> 61\u001b[0m         k: _todict(v, validate, context)\n\u001b[1;32m     62\u001b[0m         \u001b[39mfor\u001b[39;00m k, v \u001b[39min\u001b[39;00m obj\u001b[39m.\u001b[39mitems()\n\u001b[1;32m     63\u001b[0m         \u001b[39mif\u001b[39;00m v \u001b[39mis\u001b[39;00m \u001b[39mnot\u001b[39;00m Undefined\n\u001b[1;32m     64\u001b[0m     }\n\u001b[1;32m     65\u001b[0m \u001b[39melif\u001b[39;00m \u001b[39mhasattr\u001b[39m(obj, \u001b[39m\"\u001b[39m\u001b[39mto_dict\u001b[39m\u001b[39m\"\u001b[39m):\n\u001b[1;32m     66\u001b[0m     \u001b[39mreturn\u001b[39;00m obj\u001b[39m.\u001b[39mto_dict()\n",
      "File \u001b[0;32m/opt/homebrew/Caskroom/miniforge/base/lib/python3.9/site-packages/altair/utils/schemapi.py:56\u001b[0m, in \u001b[0;36m_todict\u001b[0;34m(obj, validate, context)\u001b[0m\n\u001b[1;32m     54\u001b[0m \u001b[39m\"\"\"Convert an object to a dict representation.\"\"\"\u001b[39;00m\n\u001b[1;32m     55\u001b[0m \u001b[39mif\u001b[39;00m \u001b[39misinstance\u001b[39m(obj, SchemaBase):\n\u001b[0;32m---> 56\u001b[0m     \u001b[39mreturn\u001b[39;00m obj\u001b[39m.\u001b[39;49mto_dict(validate\u001b[39m=\u001b[39;49mvalidate, context\u001b[39m=\u001b[39;49mcontext)\n\u001b[1;32m     57\u001b[0m \u001b[39melif\u001b[39;00m \u001b[39misinstance\u001b[39m(obj, (\u001b[39mlist\u001b[39m, \u001b[39mtuple\u001b[39m, np\u001b[39m.\u001b[39mndarray)):\n\u001b[1;32m     58\u001b[0m     \u001b[39mreturn\u001b[39;00m [_todict(v, validate, context) \u001b[39mfor\u001b[39;00m v \u001b[39min\u001b[39;00m obj]\n",
      "File \u001b[0;32m/opt/homebrew/Caskroom/miniforge/base/lib/python3.9/site-packages/altair/utils/schemapi.py:326\u001b[0m, in \u001b[0;36mSchemaBase.to_dict\u001b[0;34m(self, validate, ignore, context)\u001b[0m\n\u001b[1;32m    324\u001b[0m     result \u001b[39m=\u001b[39m _todict(\u001b[39mself\u001b[39m\u001b[39m.\u001b[39m_args[\u001b[39m0\u001b[39m], validate\u001b[39m=\u001b[39msub_validate, context\u001b[39m=\u001b[39mcontext)\n\u001b[1;32m    325\u001b[0m \u001b[39melif\u001b[39;00m \u001b[39mnot\u001b[39;00m \u001b[39mself\u001b[39m\u001b[39m.\u001b[39m_args:\n\u001b[0;32m--> 326\u001b[0m     result \u001b[39m=\u001b[39m _todict(\n\u001b[1;32m    327\u001b[0m         {k: v \u001b[39mfor\u001b[39;49;00m k, v \u001b[39min\u001b[39;49;00m \u001b[39mself\u001b[39;49m\u001b[39m.\u001b[39;49m_kwds\u001b[39m.\u001b[39;49mitems() \u001b[39mif\u001b[39;49;00m k \u001b[39mnot\u001b[39;49;00m \u001b[39min\u001b[39;49;00m ignore},\n\u001b[1;32m    328\u001b[0m         validate\u001b[39m=\u001b[39;49msub_validate,\n\u001b[1;32m    329\u001b[0m         context\u001b[39m=\u001b[39;49mcontext,\n\u001b[1;32m    330\u001b[0m     )\n\u001b[1;32m    331\u001b[0m \u001b[39melse\u001b[39;00m:\n\u001b[1;32m    332\u001b[0m     \u001b[39mraise\u001b[39;00m \u001b[39mValueError\u001b[39;00m(\n\u001b[1;32m    333\u001b[0m         \u001b[39m\"\u001b[39m\u001b[39m{}\u001b[39;00m\u001b[39m instance has both a value and properties : \u001b[39m\u001b[39m\"\u001b[39m\n\u001b[1;32m    334\u001b[0m         \u001b[39m\"\u001b[39m\u001b[39mcannot serialize to dict\u001b[39m\u001b[39m\"\u001b[39m\u001b[39m.\u001b[39mformat(\u001b[39mself\u001b[39m\u001b[39m.\u001b[39m\u001b[39m__class__\u001b[39m)\n\u001b[1;32m    335\u001b[0m     )\n",
      "File \u001b[0;32m/opt/homebrew/Caskroom/miniforge/base/lib/python3.9/site-packages/altair/utils/schemapi.py:60\u001b[0m, in \u001b[0;36m_todict\u001b[0;34m(obj, validate, context)\u001b[0m\n\u001b[1;32m     58\u001b[0m     \u001b[39mreturn\u001b[39;00m [_todict(v, validate, context) \u001b[39mfor\u001b[39;00m v \u001b[39min\u001b[39;00m obj]\n\u001b[1;32m     59\u001b[0m \u001b[39melif\u001b[39;00m \u001b[39misinstance\u001b[39m(obj, \u001b[39mdict\u001b[39m):\n\u001b[0;32m---> 60\u001b[0m     \u001b[39mreturn\u001b[39;00m {\n\u001b[1;32m     61\u001b[0m         k: _todict(v, validate, context)\n\u001b[1;32m     62\u001b[0m         \u001b[39mfor\u001b[39;00m k, v \u001b[39min\u001b[39;00m obj\u001b[39m.\u001b[39mitems()\n\u001b[1;32m     63\u001b[0m         \u001b[39mif\u001b[39;00m v \u001b[39mis\u001b[39;00m \u001b[39mnot\u001b[39;00m Undefined\n\u001b[1;32m     64\u001b[0m     }\n\u001b[1;32m     65\u001b[0m \u001b[39melif\u001b[39;00m \u001b[39mhasattr\u001b[39m(obj, \u001b[39m\"\u001b[39m\u001b[39mto_dict\u001b[39m\u001b[39m\"\u001b[39m):\n\u001b[1;32m     66\u001b[0m     \u001b[39mreturn\u001b[39;00m obj\u001b[39m.\u001b[39mto_dict()\n",
      "File \u001b[0;32m/opt/homebrew/Caskroom/miniforge/base/lib/python3.9/site-packages/altair/utils/schemapi.py:61\u001b[0m, in \u001b[0;36m<dictcomp>\u001b[0;34m(.0)\u001b[0m\n\u001b[1;32m     58\u001b[0m     \u001b[39mreturn\u001b[39;00m [_todict(v, validate, context) \u001b[39mfor\u001b[39;00m v \u001b[39min\u001b[39;00m obj]\n\u001b[1;32m     59\u001b[0m \u001b[39melif\u001b[39;00m \u001b[39misinstance\u001b[39m(obj, \u001b[39mdict\u001b[39m):\n\u001b[1;32m     60\u001b[0m     \u001b[39mreturn\u001b[39;00m {\n\u001b[0;32m---> 61\u001b[0m         k: _todict(v, validate, context)\n\u001b[1;32m     62\u001b[0m         \u001b[39mfor\u001b[39;00m k, v \u001b[39min\u001b[39;00m obj\u001b[39m.\u001b[39mitems()\n\u001b[1;32m     63\u001b[0m         \u001b[39mif\u001b[39;00m v \u001b[39mis\u001b[39;00m \u001b[39mnot\u001b[39;00m Undefined\n\u001b[1;32m     64\u001b[0m     }\n\u001b[1;32m     65\u001b[0m \u001b[39melif\u001b[39;00m \u001b[39mhasattr\u001b[39m(obj, \u001b[39m\"\u001b[39m\u001b[39mto_dict\u001b[39m\u001b[39m\"\u001b[39m):\n\u001b[1;32m     66\u001b[0m     \u001b[39mreturn\u001b[39;00m obj\u001b[39m.\u001b[39mto_dict()\n",
      "File \u001b[0;32m/opt/homebrew/Caskroom/miniforge/base/lib/python3.9/site-packages/altair/utils/schemapi.py:56\u001b[0m, in \u001b[0;36m_todict\u001b[0;34m(obj, validate, context)\u001b[0m\n\u001b[1;32m     54\u001b[0m \u001b[39m\"\"\"Convert an object to a dict representation.\"\"\"\u001b[39;00m\n\u001b[1;32m     55\u001b[0m \u001b[39mif\u001b[39;00m \u001b[39misinstance\u001b[39m(obj, SchemaBase):\n\u001b[0;32m---> 56\u001b[0m     \u001b[39mreturn\u001b[39;00m obj\u001b[39m.\u001b[39;49mto_dict(validate\u001b[39m=\u001b[39;49mvalidate, context\u001b[39m=\u001b[39;49mcontext)\n\u001b[1;32m     57\u001b[0m \u001b[39melif\u001b[39;00m \u001b[39misinstance\u001b[39m(obj, (\u001b[39mlist\u001b[39m, \u001b[39mtuple\u001b[39m, np\u001b[39m.\u001b[39mndarray)):\n\u001b[1;32m     58\u001b[0m     \u001b[39mreturn\u001b[39;00m [_todict(v, validate, context) \u001b[39mfor\u001b[39;00m v \u001b[39min\u001b[39;00m obj]\n",
      "File \u001b[0;32m/opt/homebrew/Caskroom/miniforge/base/lib/python3.9/site-packages/altair/vegalite/v4/schema/channels.py:40\u001b[0m, in \u001b[0;36mFieldChannelMixin.to_dict\u001b[0;34m(self, validate, ignore, context)\u001b[0m\n\u001b[1;32m     38\u001b[0m \u001b[39melif\u001b[39;00m \u001b[39mnot\u001b[39;00m (type_in_shorthand \u001b[39mor\u001b[39;00m type_defined_explicitly):\n\u001b[1;32m     39\u001b[0m     \u001b[39mif\u001b[39;00m \u001b[39misinstance\u001b[39m(context\u001b[39m.\u001b[39mget(\u001b[39m'\u001b[39m\u001b[39mdata\u001b[39m\u001b[39m'\u001b[39m, \u001b[39mNone\u001b[39;00m), pd\u001b[39m.\u001b[39mDataFrame):\n\u001b[0;32m---> 40\u001b[0m         \u001b[39mraise\u001b[39;00m \u001b[39mValueError\u001b[39;00m(\u001b[39m\"\u001b[39m\u001b[39m{}\u001b[39;00m\u001b[39m encoding field is specified without a type; \u001b[39m\u001b[39m\"\u001b[39m\n\u001b[1;32m     41\u001b[0m                          \u001b[39m\"\u001b[39m\u001b[39mthe type cannot be inferred because it does not \u001b[39m\u001b[39m\"\u001b[39m\n\u001b[1;32m     42\u001b[0m                          \u001b[39m\"\u001b[39m\u001b[39mmatch any column in the data.\u001b[39m\u001b[39m\"\u001b[39m\u001b[39m.\u001b[39mformat(shorthand))\n\u001b[1;32m     43\u001b[0m     \u001b[39melse\u001b[39;00m:\n\u001b[1;32m     44\u001b[0m         \u001b[39mraise\u001b[39;00m \u001b[39mValueError\u001b[39;00m(\u001b[39m\"\u001b[39m\u001b[39m{}\u001b[39;00m\u001b[39m encoding field is specified without a type; \u001b[39m\u001b[39m\"\u001b[39m\n\u001b[1;32m     45\u001b[0m                          \u001b[39m\"\u001b[39m\u001b[39mthe type cannot be automatically inferred because \u001b[39m\u001b[39m\"\u001b[39m\n\u001b[1;32m     46\u001b[0m                          \u001b[39m\"\u001b[39m\u001b[39mthe data is not specified as a pandas.DataFrame.\u001b[39m\u001b[39m\"\u001b[39m\n\u001b[1;32m     47\u001b[0m                          \u001b[39m\"\u001b[39m\u001b[39m\"\u001b[39m\u001b[39m.\u001b[39mformat(shorthand))\n",
      "\u001b[0;31mValueError\u001b[0m: sales_prediction encoding field is specified without a type; the type cannot be inferred because it does not match any column in the data."
     ]
    },
    {
     "data": {
      "text/plain": [
       "alt.LayerChart(...)"
      ]
     },
     "execution_count": 32,
     "metadata": {},
     "output_type": "execute_result"
    }
   ],
   "source": [
    "chart = alt.Chart(df).mark_point().encode(\n",
    "    x='ads',\n",
    "    y='sales'\n",
    ")\n",
    "\n",
    "line = alt.Chart(df).mark_line().encode(\n",
    "         alt.X('ads', axis=alt.Axis(title='Ads (in $)')),\n",
    "         alt.Y('sales_prediction', axis=alt.Axis(title=\"Sales (in units)\")),\n",
    "         color=alt.value(\"#0001F5\"))\n",
    "\n",
    "chart + line"
   ]
  },
  {
   "cell_type": "markdown",
   "metadata": {},
   "source": [
    "### Residuals"
   ]
  },
  {
   "cell_type": "code",
   "execution_count": null,
   "metadata": {},
   "outputs": [
    {
     "data": {
      "text/html": [
       "<div>\n",
       "<style scoped>\n",
       "    .dataframe tbody tr th:only-of-type {\n",
       "        vertical-align: middle;\n",
       "    }\n",
       "\n",
       "    .dataframe tbody tr th {\n",
       "        vertical-align: top;\n",
       "    }\n",
       "\n",
       "    .dataframe thead th {\n",
       "        text-align: right;\n",
       "    }\n",
       "</style>\n",
       "<table border=\"1\" class=\"dataframe\">\n",
       "  <thead>\n",
       "    <tr style=\"text-align: right;\">\n",
       "      <th></th>\n",
       "      <th>sales</th>\n",
       "      <th>ads</th>\n",
       "      <th>sales_prediction</th>\n",
       "      <th>diff</th>\n",
       "      <th>diff_squared</th>\n",
       "      <th>errors_squared</th>\n",
       "    </tr>\n",
       "  </thead>\n",
       "  <tbody>\n",
       "    <tr>\n",
       "      <th>0</th>\n",
       "      <td>2500</td>\n",
       "      <td>900</td>\n",
       "      <td>2300</td>\n",
       "      <td>200</td>\n",
       "      <td>40000</td>\n",
       "      <td>40000</td>\n",
       "    </tr>\n",
       "    <tr>\n",
       "      <th>1</th>\n",
       "      <td>4500</td>\n",
       "      <td>1400</td>\n",
       "      <td>3300</td>\n",
       "      <td>1200</td>\n",
       "      <td>1440000</td>\n",
       "      <td>1440000</td>\n",
       "    </tr>\n",
       "    <tr>\n",
       "      <th>2</th>\n",
       "      <td>6500</td>\n",
       "      <td>3600</td>\n",
       "      <td>7700</td>\n",
       "      <td>-1200</td>\n",
       "      <td>1440000</td>\n",
       "      <td>1440000</td>\n",
       "    </tr>\n",
       "    <tr>\n",
       "      <th>3</th>\n",
       "      <td>8500</td>\n",
       "      <td>3800</td>\n",
       "      <td>8100</td>\n",
       "      <td>400</td>\n",
       "      <td>160000</td>\n",
       "      <td>160000</td>\n",
       "    </tr>\n",
       "    <tr>\n",
       "      <th>4</th>\n",
       "      <td>10500</td>\n",
       "      <td>6200</td>\n",
       "      <td>12900</td>\n",
       "      <td>-2400</td>\n",
       "      <td>5760000</td>\n",
       "      <td>5760000</td>\n",
       "    </tr>\n",
       "  </tbody>\n",
       "</table>\n",
       "</div>"
      ],
      "text/plain": [
       "   sales   ads  sales_prediction  diff  diff_squared  errors_squared\n",
       "0   2500   900              2300   200         40000           40000\n",
       "1   4500  1400              3300  1200       1440000         1440000\n",
       "2   6500  3600              7700 -1200       1440000         1440000\n",
       "3   8500  3800              8100   400        160000          160000\n",
       "4  10500  6200             12900 -2400       5760000         5760000"
      ]
     },
     "execution_count": 16,
     "metadata": {},
     "output_type": "execute_result"
    }
   ],
   "source": [
    "# calculate squared difference between actual and predicted\n",
    "df['errors_squared'] = (df['sales'] - df['sales_prediction']) ** 2\n",
    "df.head()"
   ]
  },
  {
   "cell_type": "markdown",
   "metadata": {},
   "source": [
    "#### Sum of squared errors(SSE)"
   ]
  },
  {
   "cell_type": "markdown",
   "metadata": {},
   "source": [
    "- Calculate the **sum of squared errors** (`SSE`) \n",
    "    - SSE is also known as \"sum of squared residuals\" (SSR) or \"residual sum of squares\" (RSS)"
   ]
  },
  {
   "cell_type": "code",
   "execution_count": null,
   "metadata": {},
   "outputs": [
    {
     "data": {
      "text/plain": [
       "14520000"
      ]
     },
     "execution_count": 17,
     "metadata": {},
     "output_type": "execute_result"
    }
   ],
   "source": [
    "SSR = df['errors_squared'].sum()\n",
    "SSR"
   ]
  },
  {
   "cell_type": "markdown",
   "metadata": {},
   "source": [
    "> Is this good or bad?\n",
    "\n",
    "- To get a better idea, let's calculate the variability in the \n",
    "sales values by how far they tend to fall from their mean"
   ]
  },
  {
   "cell_type": "markdown",
   "metadata": {},
   "source": [
    "## Total sum of squares (SST)"
   ]
  },
  {
   "cell_type": "code",
   "execution_count": null,
   "metadata": {},
   "outputs": [
    {
     "data": {
      "text/plain": [
       "11500.0"
      ]
     },
     "execution_count": 23,
     "metadata": {},
     "output_type": "execute_result"
    }
   ],
   "source": [
    "# calculate mean of sales\n",
    "sales_mean = df['sales'].mean()\n",
    "sales_mean"
   ]
  },
  {
   "cell_type": "code",
   "execution_count": null,
   "metadata": {},
   "outputs": [
    {
     "data": {
      "text/html": [
       "\n",
       "<div id=\"altair-viz-4d7edc794e8a482e970162b0d92b2e6a\"></div>\n",
       "<script type=\"text/javascript\">\n",
       "  var VEGA_DEBUG = (typeof VEGA_DEBUG == \"undefined\") ? {} : VEGA_DEBUG;\n",
       "  (function(spec, embedOpt){\n",
       "    let outputDiv = document.currentScript.previousElementSibling;\n",
       "    if (outputDiv.id !== \"altair-viz-4d7edc794e8a482e970162b0d92b2e6a\") {\n",
       "      outputDiv = document.getElementById(\"altair-viz-4d7edc794e8a482e970162b0d92b2e6a\");\n",
       "    }\n",
       "    const paths = {\n",
       "      \"vega\": \"https://cdn.jsdelivr.net/npm//vega@5?noext\",\n",
       "      \"vega-lib\": \"https://cdn.jsdelivr.net/npm//vega-lib?noext\",\n",
       "      \"vega-lite\": \"https://cdn.jsdelivr.net/npm//vega-lite@4.17.0?noext\",\n",
       "      \"vega-embed\": \"https://cdn.jsdelivr.net/npm//vega-embed@6?noext\",\n",
       "    };\n",
       "\n",
       "    function maybeLoadScript(lib, version) {\n",
       "      var key = `${lib.replace(\"-\", \"\")}_version`;\n",
       "      return (VEGA_DEBUG[key] == version) ?\n",
       "        Promise.resolve(paths[lib]) :\n",
       "        new Promise(function(resolve, reject) {\n",
       "          var s = document.createElement('script');\n",
       "          document.getElementsByTagName(\"head\")[0].appendChild(s);\n",
       "          s.async = true;\n",
       "          s.onload = () => {\n",
       "            VEGA_DEBUG[key] = version;\n",
       "            return resolve(paths[lib]);\n",
       "          };\n",
       "          s.onerror = () => reject(`Error loading script: ${paths[lib]}`);\n",
       "          s.src = paths[lib];\n",
       "        });\n",
       "    }\n",
       "\n",
       "    function showError(err) {\n",
       "      outputDiv.innerHTML = `<div class=\"error\" style=\"color:red;\">${err}</div>`;\n",
       "      throw err;\n",
       "    }\n",
       "\n",
       "    function displayChart(vegaEmbed) {\n",
       "      vegaEmbed(outputDiv, spec, embedOpt)\n",
       "        .catch(err => showError(`Javascript Error: ${err.message}<br>This usually means there's a typo in your chart specification. See the javascript console for the full traceback.`));\n",
       "    }\n",
       "\n",
       "    if(typeof define === \"function\" && define.amd) {\n",
       "      requirejs.config({paths});\n",
       "      require([\"vega-embed\"], displayChart, err => showError(`Error loading script: ${err.message}`));\n",
       "    } else {\n",
       "      maybeLoadScript(\"vega\", \"5\")\n",
       "        .then(() => maybeLoadScript(\"vega-lite\", \"4.17.0\"))\n",
       "        .then(() => maybeLoadScript(\"vega-embed\", \"6\"))\n",
       "        .catch(showError)\n",
       "        .then(() => displayChart(vegaEmbed));\n",
       "    }\n",
       "  })({\"config\": {\"view\": {\"continuousWidth\": 400, \"continuousHeight\": 300}}, \"layer\": [{\"mark\": \"point\", \"encoding\": {\"x\": {\"field\": \"ads\", \"type\": \"quantitative\"}, \"y\": {\"field\": \"sales\", \"type\": \"quantitative\"}}}, {\"mark\": {\"type\": \"rule\", \"color\": \"red\"}, \"encoding\": {\"y\": {\"aggregate\": \"mean\", \"field\": \"sales\", \"type\": \"quantitative\"}}}], \"data\": {\"name\": \"data-cd00151c0a606ed3375379ee9952d95b\"}, \"$schema\": \"https://vega.github.io/schema/vega-lite/v4.17.0.json\", \"datasets\": {\"data-cd00151c0a606ed3375379ee9952d95b\": [{\"sales\": 2500, \"ads\": 900, \"sales_prediction\": 2300, \"diff\": 200, \"diff_squared\": 40000, \"errors_squared\": 40000, \"variability_squared\": 81000000.0}, {\"sales\": 4500, \"ads\": 1400, \"sales_prediction\": 3300, \"diff\": 1200, \"diff_squared\": 1440000, \"errors_squared\": 1440000, \"variability_squared\": 49000000.0}, {\"sales\": 6500, \"ads\": 3600, \"sales_prediction\": 7700, \"diff\": -1200, \"diff_squared\": 1440000, \"errors_squared\": 1440000, \"variability_squared\": 25000000.0}, {\"sales\": 8500, \"ads\": 3800, \"sales_prediction\": 8100, \"diff\": 400, \"diff_squared\": 160000, \"errors_squared\": 160000, \"variability_squared\": 9000000.0}, {\"sales\": 10500, \"ads\": 6200, \"sales_prediction\": 12900, \"diff\": -2400, \"diff_squared\": 5760000, \"errors_squared\": 5760000, \"variability_squared\": 1000000.0}, {\"sales\": 12500, \"ads\": 5200, \"sales_prediction\": 10900, \"diff\": 1600, \"diff_squared\": 2560000, \"errors_squared\": 2560000, \"variability_squared\": 1000000.0}, {\"sales\": 14500, \"ads\": 6800, \"sales_prediction\": 14100, \"diff\": 400, \"diff_squared\": 160000, \"errors_squared\": 160000, \"variability_squared\": 9000000.0}, {\"sales\": 16500, \"ads\": 8300, \"sales_prediction\": 17100, \"diff\": -600, \"diff_squared\": 360000, \"errors_squared\": 360000, \"variability_squared\": 25000000.0}, {\"sales\": 18500, \"ads\": 9800, \"sales_prediction\": 20100, \"diff\": -1600, \"diff_squared\": 2560000, \"errors_squared\": 2560000, \"variability_squared\": 49000000.0}, {\"sales\": 20500, \"ads\": 10100, \"sales_prediction\": 20700, \"diff\": -200, \"diff_squared\": 40000, \"errors_squared\": 40000, \"variability_squared\": 81000000.0}]}}, {\"mode\": \"vega-lite\"});\n",
       "</script>"
      ],
      "text/plain": [
       "alt.LayerChart(...)"
      ]
     },
     "execution_count": 24,
     "metadata": {},
     "output_type": "execute_result"
    }
   ],
   "source": [
    "chart = alt.Chart(df).mark_point().encode(\n",
    "    x='ads',\n",
    "    y='sales'\n",
    ")\n",
    "\n",
    "line = alt.Chart(df).mark_rule(color='red').encode(\n",
    "    y='mean(sales)'\n",
    ")\n",
    "\n",
    "chart + line"
   ]
  },
  {
   "cell_type": "code",
   "execution_count": null,
   "metadata": {},
   "outputs": [],
   "source": [
    "# calculate squared difference between actual and mean\n",
    "df['variability_squared'] = (df['sales'] - sales_mean) ** 2"
   ]
  },
  {
   "cell_type": "markdown",
   "metadata": {},
   "source": [
    "\n",
    "- We define the sum of the squared differences as the **total sum of squares** (`SST`)"
   ]
  },
  {
   "cell_type": "code",
   "execution_count": null,
   "metadata": {},
   "outputs": [
    {
     "data": {
      "text/plain": [
       "330000000.0"
      ]
     },
     "execution_count": 25,
     "metadata": {},
     "output_type": "execute_result"
    }
   ],
   "source": [
    "SST = df['variability_squared'].sum()\n",
    "SST"
   ]
  },
  {
   "cell_type": "code",
   "execution_count": null,
   "metadata": {},
   "outputs": [
    {
     "data": {
      "text/plain": [
       "True"
      ]
     },
     "execution_count": 28,
     "metadata": {},
     "output_type": "execute_result"
    }
   ],
   "source": [
    "SSR < SST"
   ]
  }
 ],
 "metadata": {
  "kernelspec": {
   "display_name": "Python 3.9.13 ('base')",
   "language": "python",
   "name": "python3"
  },
  "language_info": {
   "codemirror_mode": {
    "name": "ipython",
    "version": 3
   },
   "file_extension": ".py",
   "mimetype": "text/x-python",
   "name": "python",
   "nbconvert_exporter": "python",
   "pygments_lexer": "ipython3",
   "version": "3.9.13"
  },
  "orig_nbformat": 4,
  "vscode": {
   "interpreter": {
    "hash": "c6e4e9f98eb68ad3b7c296f83d20e6de614cb42e90992a65aa266555a3137d0d"
   }
  }
 },
 "nbformat": 4,
 "nbformat_minor": 2
}
