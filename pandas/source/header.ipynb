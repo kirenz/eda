{
 "cells": [
  {
   "cell_type": "markdown",
   "metadata": {},
   "source": [
    "**Important notes:**\n",
    "\n",
    "**Important notes:**\n",
    "\n",
    "- You can complete this exercise in 1) Colab or 2) on your local machine\n",
    "  1. **Colab**: When you finished the exercise, download the file: `File` > `Download` > `ipynb`. \n",
    "  2. **Local**: Activate the appropriate conda environment before you start.\n",
    "\n",
    "\n",
    "- Don't change the name of the file and don't delete any cells.\n",
    "\n",
    "\n",
    "- Make sure you fill in any place that says  <font color='green'> \\# YOUR CODE HERE </font> or \"YOUR ANSWER HERE\", as well as your name and (if necessary) collaborators below.\n",
    "\n",
    "\n",
    "- The function **NotImplementedError()** prevents you from hand in assignments with empty cells. Simply delete the function if you start working on a cell with this entry.\n",
    "\n",
    "\n",
    "- Before you turn this problem in (i.e., after you completed all tasks), make sure everything runs as expected: Restart the kernel and run all cells. If you use:\n",
    "  - *Colab*: in the menubar, select `Runtime` and click on `Restart and run all`\n",
    "  - *Jupyter Notebook*: in the menubar, select `Kernel` and click on `Restart & Run All`\n",
    "  - *Visual Studio Code*: select \"Restart\" and then \"Run All\" \n",
    "\n",
    "\n",
    "Good luck!"
   ]
  },
  {
   "cell_type": "code",
   "execution_count": null,
   "metadata": {},
   "outputs": [],
   "source": [
    "NAME = \"\"\n",
    "COLLABORATORS = \"\""
   ]
  },
  {
   "cell_type": "code",
   "execution_count": 1,
   "metadata": {},
   "outputs": [],
   "source": [
    "import IPython\n",
    "assert IPython.version_info[0] >= 3, \"Your version of IPython is too old, please update it.\""
   ]
  },
  {
   "cell_type": "markdown",
   "metadata": {},
   "source": [
    "---"
   ]
  }
 ],
 "metadata": {
  "kernelspec": {
   "display_name": "Python 3.9.12 ('base')",
   "language": "python",
   "name": "python3"
  },
  "language_info": {
   "codemirror_mode": {
    "name": "ipython",
    "version": 3
   },
   "file_extension": ".py",
   "mimetype": "text/x-python",
   "name": "python",
   "nbconvert_exporter": "python",
   "pygments_lexer": "ipython3",
   "version": "3.9.12"
  },
  "vscode": {
   "interpreter": {
    "hash": "463226f144cc21b006ce6927bfc93dd00694e52c8bc6857abb6e555b983749e9"
   }
  }
 },
 "nbformat": 4,
 "nbformat_minor": 0
}
