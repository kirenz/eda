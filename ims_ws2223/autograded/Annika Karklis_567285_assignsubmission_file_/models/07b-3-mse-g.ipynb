{
 "cells": [
  {
   "cell_type": "markdown",
   "metadata": {},
   "source": [
    "**Important notes:**\n",
    "\n",
    "**Important notes:**\n",
    "\n",
    "- You can complete this exercise in 1) Colab or 2) on your local machine\n",
    "  1. **Colab**: Click on the 🚀 symbol at the top of the page and select Colab. When you finished the exercise, download the file: `File` > `Download` > `ipynb`. \n",
    "  2. **Local**: click on the download button at the top of the page and choose `.ipynb`. Activate the conda environment `mr` before you start: `conda activate mr`\n",
    "\n",
    "\n",
    "- Don't change the name of the file and don't delete any cells.\n",
    "\n",
    "\n",
    "- Make sure you fill in any place that says  <font color='green'> \\# YOUR CODE HERE </font> or \"YOUR ANSWER HERE\", as well as your name and (if necessary) collaborators below.\n",
    "\n",
    "\n",
    "- The function **NotImplementedError()** prevents you from hand in assignments with empty cells. Simply delete the function if you start working on a cell with this entry.\n",
    "\n",
    "\n",
    "- Before you turn this problem in (i.e., after you completed all tasks), make sure everything runs as expected: Restart the kernel and run all cells:\n",
    "  - in *Colab*: in the menubar, select `Runtime` and click on `Restart and run all`\n",
    "  - if you use *Jupyter Notebook*: in the menubar, select `Kernel` and click on `Restart & Run All`\n",
    "  - if you use *Visual Studio Code*: select \"Restart\" and then \"Run All\" \n",
    "\n",
    "\n",
    "Good luck!"
   ]
  },
  {
   "cell_type": "code",
   "execution_count": 1,
   "metadata": {
    "execution": {
     "iopub.execute_input": "2023-01-25T17:01:49.478702Z",
     "iopub.status.busy": "2023-01-25T17:01:49.478425Z",
     "iopub.status.idle": "2023-01-25T17:01:49.490104Z",
     "shell.execute_reply": "2023-01-25T17:01:49.488927Z"
    }
   },
   "outputs": [],
   "source": [
    "NAME = \"ak321\"\n",
    "COLLABORATORS = \"\""
   ]
  },
  {
   "cell_type": "code",
   "execution_count": 2,
   "metadata": {
    "execution": {
     "iopub.execute_input": "2023-01-25T17:01:49.494513Z",
     "iopub.status.busy": "2023-01-25T17:01:49.494198Z",
     "iopub.status.idle": "2023-01-25T17:01:49.497596Z",
     "shell.execute_reply": "2023-01-25T17:01:49.497028Z"
    }
   },
   "outputs": [],
   "source": [
    "import IPython\n",
    "assert IPython.version_info[0] >= 3, \"Your version of IPython is too old, please update it.\""
   ]
  },
  {
   "cell_type": "markdown",
   "metadata": {},
   "source": [
    "---"
   ]
  },
  {
   "cell_type": "markdown",
   "metadata": {
    "slideshow": {
     "slide_type": "slide"
    }
   },
   "source": [
    "# Find the best model"
   ]
  },
  {
   "cell_type": "markdown",
   "metadata": {
    "slideshow": {
     "slide_type": "fragment"
    }
   },
   "source": [
    "## Setup"
   ]
  },
  {
   "cell_type": "code",
   "execution_count": 3,
   "metadata": {
    "execution": {
     "iopub.execute_input": "2023-01-25T17:01:49.501942Z",
     "iopub.status.busy": "2023-01-25T17:01:49.501295Z",
     "iopub.status.idle": "2023-01-25T17:01:50.262047Z",
     "shell.execute_reply": "2023-01-25T17:01:50.261452Z"
    },
    "slideshow": {
     "slide_type": "fragment"
    }
   },
   "outputs": [],
   "source": [
    "import pandas as pd\n",
    "\n",
    "from sklearn.linear_model import LinearRegression\n",
    "from sklearn.metrics import mean_squared_error\n",
    "from sklearn.metrics import mean_absolute_error"
   ]
  },
  {
   "cell_type": "markdown",
   "metadata": {
    "slideshow": {
     "slide_type": "slide"
    }
   },
   "source": [
    "## Data"
   ]
  },
  {
   "cell_type": "markdown",
   "metadata": {
    "slideshow": {
     "slide_type": "slide"
    }
   },
   "source": [
    "### Create data"
   ]
  },
  {
   "cell_type": "code",
   "execution_count": 4,
   "metadata": {
    "execution": {
     "iopub.execute_input": "2023-01-25T17:01:50.265885Z",
     "iopub.status.busy": "2023-01-25T17:01:50.265595Z",
     "iopub.status.idle": "2023-01-25T17:01:50.269884Z",
     "shell.execute_reply": "2023-01-25T17:01:50.269167Z"
    },
    "slideshow": {
     "slide_type": "fragment"
    }
   },
   "outputs": [],
   "source": [
    "df = pd.DataFrame(\n",
    "    {'sales': [2500, 4500, 6500, 8500, 10500, 12500, 14500, 16500, 18500, 20500],\n",
    "      'ads'  : [900, 1400, 3600, 3800, 6200, 5200, 6800, 8300, 9800, 10100]}\n",
    ")"
   ]
  },
  {
   "cell_type": "markdown",
   "metadata": {},
   "source": [
    "### Variable lists"
   ]
  },
  {
   "cell_type": "markdown",
   "metadata": {
    "slideshow": {
     "slide_type": "slide"
    }
   },
   "source": [
    "We need to prepare our data for the scikit-learn model (which does not work with Pandas dataframes):\n",
    "\n",
    "- We create the variable `y_label` (our dependent variable, also called label): choose \"`sales`\" (this step will be helpful in later notebooks)\n",
    "\n",
    "- We select our features (independent variables) and save them as `X`: choose \"`ads`\"\n",
    "\n",
    "- Select and save the dependent variable as `y`"
   ]
  },
  {
   "cell_type": "markdown",
   "metadata": {
    "slideshow": {
     "slide_type": "slide"
    }
   },
   "source": [
    "Hint:\n",
    "\n",
    "```pyhton\n",
    "y_label = \"___\"\n",
    "\n",
    "X = df[[\"___\"]]\n",
    "y = df[___]\n",
    "```"
   ]
  },
  {
   "cell_type": "code",
   "execution_count": 5,
   "metadata": {
    "deletable": false,
    "execution": {
     "iopub.execute_input": "2023-01-25T17:01:50.273350Z",
     "iopub.status.busy": "2023-01-25T17:01:50.273108Z",
     "iopub.status.idle": "2023-01-25T17:01:50.277782Z",
     "shell.execute_reply": "2023-01-25T17:01:50.277211Z"
    },
    "nbgrader": {
     "cell_type": "code",
     "checksum": "add6035052913f4272accf7259c11dc5",
     "grade": false,
     "grade_id": "y_label",
     "locked": false,
     "schema_version": 3,
     "solution": true,
     "task": false
    },
    "slideshow": {
     "slide_type": "fragment"
    }
   },
   "outputs": [],
   "source": [
    "# YOUR CODE HERE\n",
    "y_label = \"sales\" #eigenes Label erzeugen (=Outcome-Variable)\n",
    "\n",
    "X = df[[\"ads\"]]\n",
    "y = df[ y_label ]"
   ]
  },
  {
   "cell_type": "code",
   "execution_count": 6,
   "metadata": {
    "execution": {
     "iopub.execute_input": "2023-01-25T17:01:50.280522Z",
     "iopub.status.busy": "2023-01-25T17:01:50.280277Z",
     "iopub.status.idle": "2023-01-25T17:01:50.712940Z",
     "shell.execute_reply": "2023-01-25T17:01:50.712245Z"
    }
   },
   "outputs": [
    {
     "ename": "NameError",
     "evalue": "name 'x' is not defined",
     "output_type": "error",
     "traceback": [
      "\u001b[0;31m---------------------------------------------------------------------------\u001b[0m",
      "\u001b[0;31mNameError\u001b[0m                                 Traceback (most recent call last)",
      "Cell \u001b[0;32mIn [6], line 1\u001b[0m\n\u001b[0;32m----> 1\u001b[0m x\n",
      "\u001b[0;31mNameError\u001b[0m: name 'x' is not defined"
     ]
    }
   ],
   "source": [
    "x"
   ]
  },
  {
   "cell_type": "code",
   "execution_count": 7,
   "metadata": {
    "execution": {
     "iopub.execute_input": "2023-01-25T17:01:50.716054Z",
     "iopub.status.busy": "2023-01-25T17:01:50.715781Z",
     "iopub.status.idle": "2023-01-25T17:01:50.723967Z",
     "shell.execute_reply": "2023-01-25T17:01:50.723457Z"
    }
   },
   "outputs": [
    {
     "data": {
      "text/plain": [
       "0     2500\n",
       "1     4500\n",
       "2     6500\n",
       "3     8500\n",
       "4    10500\n",
       "5    12500\n",
       "6    14500\n",
       "7    16500\n",
       "8    18500\n",
       "9    20500\n",
       "Name: sales, dtype: int64"
      ]
     },
     "execution_count": 7,
     "metadata": {},
     "output_type": "execute_result"
    }
   ],
   "source": [
    "y"
   ]
  },
  {
   "cell_type": "code",
   "execution_count": 8,
   "metadata": {
    "deletable": false,
    "editable": false,
    "execution": {
     "iopub.execute_input": "2023-01-25T17:01:50.727249Z",
     "iopub.status.busy": "2023-01-25T17:01:50.727003Z",
     "iopub.status.idle": "2023-01-25T17:01:50.730310Z",
     "shell.execute_reply": "2023-01-25T17:01:50.729787Z"
    },
    "nbgrader": {
     "cell_type": "code",
     "checksum": "4f1853b04dc95e6d21116c6627ed897b",
     "grade": true,
     "grade_id": "c",
     "locked": true,
     "points": 2,
     "schema_version": 3,
     "solution": false,
     "task": false
    },
    "slideshow": {
     "slide_type": "fragment"
    }
   },
   "outputs": [],
   "source": [
    "### Check your code (note that there are some hidden checks)\n",
    "assert len(X) == 10\n",
    "\n",
    "### BEGIN HIDDEN TESTS \n",
    "assert y_label == \"sales\"\n",
    "assert len(y) == 10\n",
    "### END HIDDEN TESTS"
   ]
  },
  {
   "cell_type": "markdown",
   "metadata": {
    "slideshow": {
     "slide_type": "slide"
    }
   },
   "source": [
    "## Model"
   ]
  },
  {
   "cell_type": "markdown",
   "metadata": {
    "slideshow": {
     "slide_type": "fragment"
    }
   },
   "source": [
    "### Select model"
   ]
  },
  {
   "cell_type": "markdown",
   "metadata": {
    "slideshow": {
     "slide_type": "slide"
    }
   },
   "source": [
    "Hint:\n",
    "\n",
    "Save the `LinearRegression()`estimator as object called `reg`\n",
    "\n",
    "---\n",
    "\n",
    "```pyhton\n",
    "___ = ___()\n",
    "```\n",
    "\n",
    "---"
   ]
  },
  {
   "cell_type": "code",
   "execution_count": 9,
   "metadata": {
    "deletable": false,
    "execution": {
     "iopub.execute_input": "2023-01-25T17:01:50.733927Z",
     "iopub.status.busy": "2023-01-25T17:01:50.733453Z",
     "iopub.status.idle": "2023-01-25T17:01:50.736571Z",
     "shell.execute_reply": "2023-01-25T17:01:50.736051Z"
    },
    "nbgrader": {
     "cell_type": "code",
     "checksum": "b926f642ff4d1525c6d4966b09646dd2",
     "grade": false,
     "grade_id": "reg",
     "locked": false,
     "schema_version": 3,
     "solution": true,
     "task": false
    },
    "slideshow": {
     "slide_type": "fragment"
    }
   },
   "outputs": [],
   "source": [
    "# YOUR CODE HERE\n",
    "reg = LinearRegression()\n"
   ]
  },
  {
   "cell_type": "code",
   "execution_count": 10,
   "metadata": {
    "deletable": false,
    "editable": false,
    "execution": {
     "iopub.execute_input": "2023-01-25T17:01:50.739401Z",
     "iopub.status.busy": "2023-01-25T17:01:50.739094Z",
     "iopub.status.idle": "2023-01-25T17:01:50.742808Z",
     "shell.execute_reply": "2023-01-25T17:01:50.742168Z"
    },
    "nbgrader": {
     "cell_type": "code",
     "checksum": "023e438413f8b45ce577ba7abe5acba9",
     "grade": true,
     "grade_id": "c-reg",
     "locked": true,
     "points": 2,
     "schema_version": 3,
     "solution": false,
     "task": false
    },
    "slideshow": {
     "slide_type": "fragment"
    }
   },
   "outputs": [],
   "source": [
    "### Check your code\n",
    "assert reg.get_params() == {'copy_X': True, 'fit_intercept': True, 'n_jobs': None, 'normalize': 'deprecated', 'positive': False}"
   ]
  },
  {
   "cell_type": "markdown",
   "metadata": {
    "slideshow": {
     "slide_type": "fragment"
    }
   },
   "source": [
    "### Fit model"
   ]
  },
  {
   "cell_type": "markdown",
   "metadata": {
    "slideshow": {
     "slide_type": "slide"
    }
   },
   "source": [
    "\n",
    "Fit the model (your `reg` object) to the data with `.fit()`.\n",
    "\n",
    "In the fit function, you first need to provide the features and then the dependent variable (features, dependent variable)\n",
    "\n",
    "Hint:\n",
    "\n",
    "\n",
    "---\n",
    "\n",
    "```pyhton\n",
    "___.___(___, ___)\n",
    "```\n",
    "\n",
    "---\n",
    "\n"
   ]
  },
  {
   "cell_type": "code",
   "execution_count": 11,
   "metadata": {
    "deletable": false,
    "execution": {
     "iopub.execute_input": "2023-01-25T17:01:50.745941Z",
     "iopub.status.busy": "2023-01-25T17:01:50.745708Z",
     "iopub.status.idle": "2023-01-25T17:01:50.752257Z",
     "shell.execute_reply": "2023-01-25T17:01:50.751629Z"
    },
    "nbgrader": {
     "cell_type": "code",
     "checksum": "ca5d36fdfae75827d686d189279e23e0",
     "grade": false,
     "grade_id": "reg-fit",
     "locked": false,
     "schema_version": 3,
     "solution": true,
     "task": false
    },
    "slideshow": {
     "slide_type": "fragment"
    }
   },
   "outputs": [
    {
     "data": {
      "text/html": [
       "<style>#sk-container-id-1 {color: black;background-color: white;}#sk-container-id-1 pre{padding: 0;}#sk-container-id-1 div.sk-toggleable {background-color: white;}#sk-container-id-1 label.sk-toggleable__label {cursor: pointer;display: block;width: 100%;margin-bottom: 0;padding: 0.3em;box-sizing: border-box;text-align: center;}#sk-container-id-1 label.sk-toggleable__label-arrow:before {content: \"▸\";float: left;margin-right: 0.25em;color: #696969;}#sk-container-id-1 label.sk-toggleable__label-arrow:hover:before {color: black;}#sk-container-id-1 div.sk-estimator:hover label.sk-toggleable__label-arrow:before {color: black;}#sk-container-id-1 div.sk-toggleable__content {max-height: 0;max-width: 0;overflow: hidden;text-align: left;background-color: #f0f8ff;}#sk-container-id-1 div.sk-toggleable__content pre {margin: 0.2em;color: black;border-radius: 0.25em;background-color: #f0f8ff;}#sk-container-id-1 input.sk-toggleable__control:checked~div.sk-toggleable__content {max-height: 200px;max-width: 100%;overflow: auto;}#sk-container-id-1 input.sk-toggleable__control:checked~label.sk-toggleable__label-arrow:before {content: \"▾\";}#sk-container-id-1 div.sk-estimator input.sk-toggleable__control:checked~label.sk-toggleable__label {background-color: #d4ebff;}#sk-container-id-1 div.sk-label input.sk-toggleable__control:checked~label.sk-toggleable__label {background-color: #d4ebff;}#sk-container-id-1 input.sk-hidden--visually {border: 0;clip: rect(1px 1px 1px 1px);clip: rect(1px, 1px, 1px, 1px);height: 1px;margin: -1px;overflow: hidden;padding: 0;position: absolute;width: 1px;}#sk-container-id-1 div.sk-estimator {font-family: monospace;background-color: #f0f8ff;border: 1px dotted black;border-radius: 0.25em;box-sizing: border-box;margin-bottom: 0.5em;}#sk-container-id-1 div.sk-estimator:hover {background-color: #d4ebff;}#sk-container-id-1 div.sk-parallel-item::after {content: \"\";width: 100%;border-bottom: 1px solid gray;flex-grow: 1;}#sk-container-id-1 div.sk-label:hover label.sk-toggleable__label {background-color: #d4ebff;}#sk-container-id-1 div.sk-serial::before {content: \"\";position: absolute;border-left: 1px solid gray;box-sizing: border-box;top: 0;bottom: 0;left: 50%;z-index: 0;}#sk-container-id-1 div.sk-serial {display: flex;flex-direction: column;align-items: center;background-color: white;padding-right: 0.2em;padding-left: 0.2em;position: relative;}#sk-container-id-1 div.sk-item {position: relative;z-index: 1;}#sk-container-id-1 div.sk-parallel {display: flex;align-items: stretch;justify-content: center;background-color: white;position: relative;}#sk-container-id-1 div.sk-item::before, #sk-container-id-1 div.sk-parallel-item::before {content: \"\";position: absolute;border-left: 1px solid gray;box-sizing: border-box;top: 0;bottom: 0;left: 50%;z-index: -1;}#sk-container-id-1 div.sk-parallel-item {display: flex;flex-direction: column;z-index: 1;position: relative;background-color: white;}#sk-container-id-1 div.sk-parallel-item:first-child::after {align-self: flex-end;width: 50%;}#sk-container-id-1 div.sk-parallel-item:last-child::after {align-self: flex-start;width: 50%;}#sk-container-id-1 div.sk-parallel-item:only-child::after {width: 0;}#sk-container-id-1 div.sk-dashed-wrapped {border: 1px dashed gray;margin: 0 0.4em 0.5em 0.4em;box-sizing: border-box;padding-bottom: 0.4em;background-color: white;}#sk-container-id-1 div.sk-label label {font-family: monospace;font-weight: bold;display: inline-block;line-height: 1.2em;}#sk-container-id-1 div.sk-label-container {text-align: center;}#sk-container-id-1 div.sk-container {/* jupyter's `normalize.less` sets `[hidden] { display: none; }` but bootstrap.min.css set `[hidden] { display: none !important; }` so we also need the `!important` here to be able to override the default hidden behavior on the sphinx rendered scikit-learn.org. See: https://github.com/scikit-learn/scikit-learn/issues/21755 */display: inline-block !important;position: relative;}#sk-container-id-1 div.sk-text-repr-fallback {display: none;}</style><div id=\"sk-container-id-1\" class=\"sk-top-container\"><div class=\"sk-text-repr-fallback\"><pre>LinearRegression()</pre><b>In a Jupyter environment, please rerun this cell to show the HTML representation or trust the notebook. <br />On GitHub, the HTML representation is unable to render, please try loading this page with nbviewer.org.</b></div><div class=\"sk-container\" hidden><div class=\"sk-item\"><div class=\"sk-estimator sk-toggleable\"><input class=\"sk-toggleable__control sk-hidden--visually\" id=\"sk-estimator-id-1\" type=\"checkbox\" checked><label for=\"sk-estimator-id-1\" class=\"sk-toggleable__label sk-toggleable__label-arrow\">LinearRegression</label><div class=\"sk-toggleable__content\"><pre>LinearRegression()</pre></div></div></div></div></div>"
      ],
      "text/plain": [
       "LinearRegression()"
      ]
     },
     "execution_count": 11,
     "metadata": {},
     "output_type": "execute_result"
    }
   ],
   "source": [
    "# YOUR CODE HERE\n",
    "reg.fit(X, y)"
   ]
  },
  {
   "cell_type": "code",
   "execution_count": 12,
   "metadata": {
    "deletable": false,
    "editable": false,
    "execution": {
     "iopub.execute_input": "2023-01-25T17:01:50.754954Z",
     "iopub.status.busy": "2023-01-25T17:01:50.754717Z",
     "iopub.status.idle": "2023-01-25T17:01:50.757568Z",
     "shell.execute_reply": "2023-01-25T17:01:50.757095Z"
    },
    "nbgrader": {
     "cell_type": "code",
     "checksum": "5e29d6d43ff977c4ec66994f9871ae5c",
     "grade": true,
     "grade_id": "c-reg-fit",
     "locked": true,
     "points": 2,
     "schema_version": 3,
     "solution": false,
     "task": false
    },
    "slideshow": {
     "slide_type": "fragment"
    }
   },
   "outputs": [],
   "source": [
    "### Check your code\n",
    "assert reg.positive == False"
   ]
  },
  {
   "cell_type": "markdown",
   "metadata": {
    "slideshow": {
     "slide_type": "slide"
    }
   },
   "source": [
    "### Coefficients"
   ]
  },
  {
   "cell_type": "code",
   "execution_count": 13,
   "metadata": {
    "execution": {
     "iopub.execute_input": "2023-01-25T17:01:50.760328Z",
     "iopub.status.busy": "2023-01-25T17:01:50.760132Z",
     "iopub.status.idle": "2023-01-25T17:01:50.763670Z",
     "shell.execute_reply": "2023-01-25T17:01:50.763219Z"
    },
    "slideshow": {
     "slide_type": "fragment"
    }
   },
   "outputs": [
    {
     "data": {
      "text/plain": [
       "1181.2100861766648"
      ]
     },
     "execution_count": 13,
     "metadata": {},
     "output_type": "execute_result"
    }
   ],
   "source": [
    "# Intercept\n",
    "reg.intercept_"
   ]
  },
  {
   "cell_type": "code",
   "execution_count": 14,
   "metadata": {
    "execution": {
     "iopub.execute_input": "2023-01-25T17:01:50.766578Z",
     "iopub.status.busy": "2023-01-25T17:01:50.766347Z",
     "iopub.status.idle": "2023-01-25T17:01:50.770063Z",
     "shell.execute_reply": "2023-01-25T17:01:50.769622Z"
    },
    "slideshow": {
     "slide_type": "fragment"
    }
   },
   "outputs": [
    {
     "data": {
      "text/plain": [
       "array([1.83935649])"
      ]
     },
     "execution_count": 14,
     "metadata": {},
     "output_type": "execute_result"
    }
   ],
   "source": [
    "# Slope\n",
    "reg.coef_"
   ]
  },
  {
   "cell_type": "markdown",
   "metadata": {
    "slideshow": {
     "slide_type": "slide"
    }
   },
   "source": [
    "### Make predictions"
   ]
  },
  {
   "cell_type": "markdown",
   "metadata": {
    "slideshow": {
     "slide_type": "slide"
    }
   },
   "source": [
    "\n",
    "Use your model to:\n",
    "\n",
    "- predict sales from your ads (`X`) values with the method `.predict()`\n",
    "\n",
    "- Save the result as `y_pred`\n",
    "\n",
    "Hint:\n",
    "\n",
    "---\n",
    "\n",
    "```pyhton\n",
    "___ = ___.___(___)\n",
    "```\n",
    "\n",
    "---\n",
    "\n"
   ]
  },
  {
   "cell_type": "code",
   "execution_count": 15,
   "metadata": {
    "deletable": false,
    "execution": {
     "iopub.execute_input": "2023-01-25T17:01:50.773172Z",
     "iopub.status.busy": "2023-01-25T17:01:50.772829Z",
     "iopub.status.idle": "2023-01-25T17:01:50.776925Z",
     "shell.execute_reply": "2023-01-25T17:01:50.776409Z"
    },
    "nbgrader": {
     "cell_type": "code",
     "checksum": "25a99ab2fc2d9a60ae6645d79864c061",
     "grade": false,
     "grade_id": "y-pred",
     "locked": false,
     "schema_version": 3,
     "solution": true,
     "task": false
    },
    "slideshow": {
     "slide_type": "fragment"
    }
   },
   "outputs": [],
   "source": [
    "# YOUR CODE HERE\n",
    "y_pred = reg.predict(X)"
   ]
  },
  {
   "cell_type": "code",
   "execution_count": 16,
   "metadata": {
    "execution": {
     "iopub.execute_input": "2023-01-25T17:01:50.779701Z",
     "iopub.status.busy": "2023-01-25T17:01:50.779488Z",
     "iopub.status.idle": "2023-01-25T17:01:50.783069Z",
     "shell.execute_reply": "2023-01-25T17:01:50.782641Z"
    }
   },
   "outputs": [
    {
     "data": {
      "text/plain": [
       "array([ 2836.63092797,  3756.30917341,  7802.89345334,  8170.76475151,\n",
       "       12585.22032962, 10745.86383874, 13688.83422414, 16447.86896046,\n",
       "       19206.90369678, 19758.71064404])"
      ]
     },
     "execution_count": 16,
     "metadata": {},
     "output_type": "execute_result"
    }
   ],
   "source": [
    "y_pred"
   ]
  },
  {
   "cell_type": "code",
   "execution_count": 17,
   "metadata": {
    "execution": {
     "iopub.execute_input": "2023-01-25T17:01:50.785580Z",
     "iopub.status.busy": "2023-01-25T17:01:50.785378Z",
     "iopub.status.idle": "2023-01-25T17:01:50.788696Z",
     "shell.execute_reply": "2023-01-25T17:01:50.788228Z"
    }
   },
   "outputs": [
    {
     "data": {
      "text/plain": [
       "2836.6309279665047"
      ]
     },
     "execution_count": 17,
     "metadata": {},
     "output_type": "execute_result"
    }
   ],
   "source": [
    "y_pred[0]"
   ]
  },
  {
   "cell_type": "code",
   "execution_count": 18,
   "metadata": {
    "deletable": false,
    "editable": false,
    "execution": {
     "iopub.execute_input": "2023-01-25T17:01:50.791300Z",
     "iopub.status.busy": "2023-01-25T17:01:50.790940Z",
     "iopub.status.idle": "2023-01-25T17:01:50.793611Z",
     "shell.execute_reply": "2023-01-25T17:01:50.793161Z"
    },
    "nbgrader": {
     "cell_type": "code",
     "checksum": "da6e07611db08003ac064dfb4bfe72e4",
     "grade": true,
     "grade_id": "c-y-pred",
     "locked": true,
     "points": 2,
     "schema_version": 3,
     "solution": false,
     "task": false
    },
    "slideshow": {
     "slide_type": "fragment"
    }
   },
   "outputs": [],
   "source": [
    "### Check your code\n",
    "assert 2836 < y_pred[0] <  2840"
   ]
  },
  {
   "cell_type": "markdown",
   "metadata": {
    "slideshow": {
     "slide_type": "slide"
    }
   },
   "source": [
    "### Evaluation"
   ]
  },
  {
   "cell_type": "markdown",
   "metadata": {
    "slideshow": {
     "slide_type": "slide"
    }
   },
   "source": [
    "#### Mean squared error"
   ]
  },
  {
   "cell_type": "markdown",
   "metadata": {
    "slideshow": {
     "slide_type": "slide"
    }
   },
   "source": [
    "Use the scikit-learn function `mean_squared_error()` to calculate the mean squared error and save the result as `mse`\n",
    "\n",
    "Hint:\n",
    "\n",
    "---\n",
    "\n",
    "```pyhton\n",
    "___ = ___(___, ___)\n",
    "```\n",
    "\n",
    "---"
   ]
  },
  {
   "cell_type": "code",
   "execution_count": 19,
   "metadata": {
    "deletable": false,
    "execution": {
     "iopub.execute_input": "2023-01-25T17:01:50.796592Z",
     "iopub.status.busy": "2023-01-25T17:01:50.796401Z",
     "iopub.status.idle": "2023-01-25T17:01:50.799189Z",
     "shell.execute_reply": "2023-01-25T17:01:50.798745Z"
    },
    "nbgrader": {
     "cell_type": "code",
     "checksum": "777256bec5c11df90dbb9d0f4a4e0842",
     "grade": false,
     "grade_id": "mse",
     "locked": false,
     "schema_version": 3,
     "solution": true,
     "task": false
    },
    "slideshow": {
     "slide_type": "fragment"
    }
   },
   "outputs": [],
   "source": [
    "# YOUR CODE HERE\n",
    "mse = mean_squared_error(y, y_pred) #erst tatsächliche Werte übergeben, dann Modellschätzung"
   ]
  },
  {
   "cell_type": "code",
   "execution_count": 20,
   "metadata": {
    "execution": {
     "iopub.execute_input": "2023-01-25T17:01:50.802066Z",
     "iopub.status.busy": "2023-01-25T17:01:50.801834Z",
     "iopub.status.idle": "2023-01-25T17:01:50.805452Z",
     "shell.execute_reply": "2023-01-25T17:01:50.804985Z"
    }
   },
   "outputs": [
    {
     "data": {
      "text/plain": [
       "1160739.1429087555"
      ]
     },
     "execution_count": 20,
     "metadata": {},
     "output_type": "execute_result"
    }
   ],
   "source": [
    "mse #durchschnittlicher Fehler"
   ]
  },
  {
   "cell_type": "code",
   "execution_count": 21,
   "metadata": {
    "execution": {
     "iopub.execute_input": "2023-01-25T17:01:50.808028Z",
     "iopub.status.busy": "2023-01-25T17:01:50.807828Z",
     "iopub.status.idle": "2023-01-25T17:01:50.810841Z",
     "shell.execute_reply": "2023-01-25T17:01:50.810400Z"
    },
    "slideshow": {
     "slide_type": "subslide"
    }
   },
   "outputs": [
    {
     "name": "stdout",
     "output_type": "stream",
     "text": [
      "The mean squared error equals 1160739 \n"
     ]
    }
   ],
   "source": [
    "print(f'The mean squared error equals {mse:.0f} ') #f' ' für Text; {mse: 0f} mse runden auf keine Nachkommastelle"
   ]
  },
  {
   "cell_type": "code",
   "execution_count": 22,
   "metadata": {
    "deletable": false,
    "editable": false,
    "execution": {
     "iopub.execute_input": "2023-01-25T17:01:50.813426Z",
     "iopub.status.busy": "2023-01-25T17:01:50.813224Z",
     "iopub.status.idle": "2023-01-25T17:01:50.815705Z",
     "shell.execute_reply": "2023-01-25T17:01:50.815271Z"
    },
    "nbgrader": {
     "cell_type": "code",
     "checksum": "d79d653e00a9e34c3106ec6cc2f5fa80",
     "grade": true,
     "grade_id": "c-mse",
     "locked": true,
     "points": 2,
     "schema_version": 3,
     "solution": false,
     "task": false
    },
    "slideshow": {
     "slide_type": "subslide"
    }
   },
   "outputs": [],
   "source": [
    "### Check your code\n",
    "assert 1160738 < mse < 1160740 "
   ]
  },
  {
   "cell_type": "markdown",
   "metadata": {
    "slideshow": {
     "slide_type": "slide"
    }
   },
   "source": [
    "#### Root mean squared error"
   ]
  },
  {
   "cell_type": "markdown",
   "metadata": {
    "slideshow": {
     "slide_type": "slide"
    }
   },
   "source": [
    "Use the scikit-learn function `mean_squared_error()` to calculate the root mean squared error and save the result as `rmse`.\n",
    "\n",
    "Hint:\n",
    "\n",
    "---\n",
    "\n",
    "```pyhton\n",
    "___ = ___(___, ___, ___)\n",
    "```\n",
    "\n",
    "- use the option `squared=False` \n",
    "\n",
    "---"
   ]
  },
  {
   "cell_type": "code",
   "execution_count": 23,
   "metadata": {
    "deletable": false,
    "execution": {
     "iopub.execute_input": "2023-01-25T17:01:50.818519Z",
     "iopub.status.busy": "2023-01-25T17:01:50.818323Z",
     "iopub.status.idle": "2023-01-25T17:01:50.821006Z",
     "shell.execute_reply": "2023-01-25T17:01:50.820570Z"
    },
    "nbgrader": {
     "cell_type": "code",
     "checksum": "9b57ea2b4064a3c7cc32097537fb28cc",
     "grade": false,
     "grade_id": "rmse",
     "locked": false,
     "schema_version": 3,
     "solution": true,
     "task": false
    },
    "slideshow": {
     "slide_type": "fragment"
    }
   },
   "outputs": [],
   "source": [
    "# YOUR CODE HERE\n",
    "rmse = mean_squared_error(y, y_pred, squared=False)"
   ]
  },
  {
   "cell_type": "code",
   "execution_count": 24,
   "metadata": {
    "execution": {
     "iopub.execute_input": "2023-01-25T17:01:50.823500Z",
     "iopub.status.busy": "2023-01-25T17:01:50.823298Z",
     "iopub.status.idle": "2023-01-25T17:01:50.826112Z",
     "shell.execute_reply": "2023-01-25T17:01:50.825639Z"
    },
    "slideshow": {
     "slide_type": "subslide"
    }
   },
   "outputs": [
    {
     "name": "stdout",
     "output_type": "stream",
     "text": [
      "The root mean squared error equals 1077 \n"
     ]
    }
   ],
   "source": [
    "print(f'The root mean squared error equals {rmse:.0f} ')"
   ]
  },
  {
   "cell_type": "code",
   "execution_count": 25,
   "metadata": {
    "deletable": false,
    "editable": false,
    "execution": {
     "iopub.execute_input": "2023-01-25T17:01:50.828649Z",
     "iopub.status.busy": "2023-01-25T17:01:50.828455Z",
     "iopub.status.idle": "2023-01-25T17:01:50.830977Z",
     "shell.execute_reply": "2023-01-25T17:01:50.830532Z"
    },
    "nbgrader": {
     "cell_type": "code",
     "checksum": "9af733710ff7144a67cb0254697f4b7b",
     "grade": true,
     "grade_id": "c-rmse",
     "locked": true,
     "points": 2,
     "schema_version": 3,
     "solution": false,
     "task": false
    },
    "slideshow": {
     "slide_type": "subslide"
    }
   },
   "outputs": [],
   "source": [
    "### Check your code\n",
    "assert 1076 < rmse < 1078 "
   ]
  },
  {
   "cell_type": "markdown",
   "metadata": {
    "slideshow": {
     "slide_type": "slide"
    }
   },
   "source": [
    "#### Mean absolute error"
   ]
  },
  {
   "cell_type": "markdown",
   "metadata": {
    "slideshow": {
     "slide_type": "slide"
    }
   },
   "source": [
    "Use the scikit-learn function `mean_absolute_error()` to calculate the mean absolute error and save the result as `mae`.\n",
    "\n",
    "Hint:\n",
    "\n",
    "---\n",
    "\n",
    "```pyhton\n",
    "___ = ___(___, ___)\n",
    "```\n",
    "\n",
    "\n",
    "---"
   ]
  },
  {
   "cell_type": "code",
   "execution_count": 26,
   "metadata": {
    "deletable": false,
    "execution": {
     "iopub.execute_input": "2023-01-25T17:01:50.833739Z",
     "iopub.status.busy": "2023-01-25T17:01:50.833528Z",
     "iopub.status.idle": "2023-01-25T17:01:50.837256Z",
     "shell.execute_reply": "2023-01-25T17:01:50.836791Z"
    },
    "nbgrader": {
     "cell_type": "code",
     "checksum": "fd6454a6ae887855d3d372cdc283bc5d",
     "grade": false,
     "grade_id": "mae",
     "locked": false,
     "schema_version": 3,
     "solution": true,
     "task": false
    },
    "slideshow": {
     "slide_type": "fragment"
    }
   },
   "outputs": [
    {
     "data": {
      "text/plain": [
       "886.3296815394917"
      ]
     },
     "execution_count": 26,
     "metadata": {},
     "output_type": "execute_result"
    }
   ],
   "source": [
    "# YOUR CODE HERE\n",
    "mae = mean_absolute_error(y, y_pred)\n",
    "\n",
    "mae"
   ]
  },
  {
   "cell_type": "code",
   "execution_count": 27,
   "metadata": {
    "execution": {
     "iopub.execute_input": "2023-01-25T17:01:50.839852Z",
     "iopub.status.busy": "2023-01-25T17:01:50.839650Z",
     "iopub.status.idle": "2023-01-25T17:01:50.842550Z",
     "shell.execute_reply": "2023-01-25T17:01:50.842080Z"
    },
    "slideshow": {
     "slide_type": "subslide"
    }
   },
   "outputs": [
    {
     "name": "stdout",
     "output_type": "stream",
     "text": [
      "The mean absolute error equals 886 \n"
     ]
    }
   ],
   "source": [
    "print(f'The mean absolute error equals {mae:.0f} ')"
   ]
  },
  {
   "cell_type": "code",
   "execution_count": 28,
   "metadata": {
    "deletable": false,
    "editable": false,
    "execution": {
     "iopub.execute_input": "2023-01-25T17:01:50.845138Z",
     "iopub.status.busy": "2023-01-25T17:01:50.844937Z",
     "iopub.status.idle": "2023-01-25T17:01:50.847448Z",
     "shell.execute_reply": "2023-01-25T17:01:50.846984Z"
    },
    "nbgrader": {
     "cell_type": "code",
     "checksum": "1158c54808fbdcb232722476610f11ae",
     "grade": true,
     "grade_id": "c-mae",
     "locked": true,
     "points": 2,
     "schema_version": 3,
     "solution": false,
     "task": false
    },
    "slideshow": {
     "slide_type": "subslide"
    }
   },
   "outputs": [],
   "source": [
    "### Check your code\n",
    "assert 885 < mae < 887 "
   ]
  }
 ],
 "metadata": {
  "kernelspec": {
   "display_name": "Python 3 (ipykernel)",
   "language": "python",
   "name": "python3"
  },
  "language_info": {
   "codemirror_mode": {
    "name": "ipython",
    "version": 3
   },
   "file_extension": ".py",
   "mimetype": "text/x-python",
   "name": "python",
   "nbconvert_exporter": "python",
   "pygments_lexer": "ipython3",
   "version": "3.9.13"
  },
  "vscode": {
   "interpreter": {
    "hash": "2c81726c733dc262d18acf8d954d9194317dad1e2e93aefc8f627f47c898fce5"
   }
  }
 },
 "nbformat": 4,
 "nbformat_minor": 2
}
