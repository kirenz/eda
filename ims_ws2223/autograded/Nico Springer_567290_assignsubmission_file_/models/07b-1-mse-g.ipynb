{
 "cells": [
  {
   "cell_type": "markdown",
   "metadata": {},
   "source": [
    "**Important notes:**\n",
    "\n",
    "**Important notes:**\n",
    "\n",
    "- You can complete this exercise in 1) Colab or 2) on your local machine\n",
    "  1. **Colab**: Click on the 🚀 symbol at the top of the page and select Colab. When you finished the exercise, download the file: `File` > `Download` > `ipynb`. \n",
    "  2. **Local**: click on the download button at the top of the page and choose `.ipynb`. Activate the conda environment `mr` before you start: `conda activate mr`\n",
    "\n",
    "\n",
    "- Don't change the name of the file and don't delete any cells.\n",
    "\n",
    "\n",
    "- Make sure you fill in any place that says  <font color='green'> \\# YOUR CODE HERE </font> or \"YOUR ANSWER HERE\", as well as your name and (if necessary) collaborators below.\n",
    "\n",
    "\n",
    "- The function **NotImplementedError()** prevents you from hand in assignments with empty cells. Simply delete the function if you start working on a cell with this entry.\n",
    "\n",
    "\n",
    "- Before you turn this problem in (i.e., after you completed all tasks), make sure everything runs as expected: Restart the kernel and run all cells:\n",
    "  - in *Colab*: in the menubar, select `Runtime` and click on `Restart and run all`\n",
    "  - if you use *Jupyter Notebook*: in the menubar, select `Kernel` and click on `Restart & Run All`\n",
    "  - if you use *Visual Studio Code*: select \"Restart\" and then \"Run All\" \n",
    "\n",
    "\n",
    "Good luck!"
   ]
  },
  {
   "cell_type": "code",
   "execution_count": 1,
   "metadata": {
    "execution": {
     "iopub.execute_input": "2023-01-25T17:06:18.304034Z",
     "iopub.status.busy": "2023-01-25T17:06:18.303751Z",
     "iopub.status.idle": "2023-01-25T17:06:18.314523Z",
     "shell.execute_reply": "2023-01-25T17:06:18.313915Z"
    }
   },
   "outputs": [],
   "source": [
    "NAME = \"ns166\"\n",
    "COLLABORATORS = \"\""
   ]
  },
  {
   "cell_type": "code",
   "execution_count": 2,
   "metadata": {
    "execution": {
     "iopub.execute_input": "2023-01-25T17:06:18.317812Z",
     "iopub.status.busy": "2023-01-25T17:06:18.317562Z",
     "iopub.status.idle": "2023-01-25T17:06:18.320705Z",
     "shell.execute_reply": "2023-01-25T17:06:18.320052Z"
    }
   },
   "outputs": [],
   "source": [
    "import IPython\n",
    "assert IPython.version_info[0] >= 3, \"Your version of IPython is too old, please update it.\""
   ]
  },
  {
   "cell_type": "markdown",
   "metadata": {},
   "source": [
    "---"
   ]
  },
  {
   "cell_type": "markdown",
   "metadata": {
    "slideshow": {
     "slide_type": "slide"
    }
   },
   "source": [
    "# Find the best model"
   ]
  },
  {
   "cell_type": "markdown",
   "metadata": {
    "slideshow": {
     "slide_type": "fragment"
    }
   },
   "source": [
    "## Setup"
   ]
  },
  {
   "cell_type": "code",
   "execution_count": 3,
   "metadata": {
    "execution": {
     "iopub.execute_input": "2023-01-25T17:06:18.324342Z",
     "iopub.status.busy": "2023-01-25T17:06:18.324135Z",
     "iopub.status.idle": "2023-01-25T17:06:18.703042Z",
     "shell.execute_reply": "2023-01-25T17:06:18.702337Z"
    },
    "slideshow": {
     "slide_type": "fragment"
    }
   },
   "outputs": [
    {
     "data": {
      "text/plain": [
       "DataTransformerRegistry.enable('default')"
      ]
     },
     "execution_count": 3,
     "metadata": {},
     "output_type": "execute_result"
    }
   ],
   "source": [
    "import pandas as pd\n",
    "import altair as alt\n",
    "import warnings\n",
    "\n",
    "warnings.simplefilter(action='ignore', category=FutureWarning)\n",
    "alt.data_transformers.disable_max_rows()"
   ]
  },
  {
   "cell_type": "markdown",
   "metadata": {
    "slideshow": {
     "slide_type": "slide"
    }
   },
   "source": [
    "## Data"
   ]
  },
  {
   "cell_type": "code",
   "execution_count": 4,
   "metadata": {
    "execution": {
     "iopub.execute_input": "2023-01-25T17:06:18.706578Z",
     "iopub.status.busy": "2023-01-25T17:06:18.706264Z",
     "iopub.status.idle": "2023-01-25T17:06:18.711404Z",
     "shell.execute_reply": "2023-01-25T17:06:18.710502Z"
    },
    "slideshow": {
     "slide_type": "fragment"
    }
   },
   "outputs": [],
   "source": [
    "# let's change some values in ads\n",
    "df = pd.DataFrame(\n",
    "    {'sales': [2500, 4500, 6500, 8500, 10500, 12500, 14500, 16500, 18500, 20500],\n",
    "      'ads'  : [900, 1400, 3600, 3800, 6200, 5200, 6800, 8300, 9800, 10100]}\n",
    ")"
   ]
  },
  {
   "cell_type": "markdown",
   "metadata": {
    "slideshow": {
     "slide_type": "slide"
    }
   },
   "source": [
    "## Analysis"
   ]
  },
  {
   "cell_type": "code",
   "execution_count": 5,
   "metadata": {
    "execution": {
     "iopub.execute_input": "2023-01-25T17:06:18.714939Z",
     "iopub.status.busy": "2023-01-25T17:06:18.714625Z",
     "iopub.status.idle": "2023-01-25T17:06:18.759130Z",
     "shell.execute_reply": "2023-01-25T17:06:18.758638Z"
    },
    "slideshow": {
     "slide_type": "subslide"
    }
   },
   "outputs": [
    {
     "data": {
      "text/html": [
       "\n",
       "<div id=\"altair-viz-54a032da504d4b71974360dcd1a473fd\"></div>\n",
       "<script type=\"text/javascript\">\n",
       "  var VEGA_DEBUG = (typeof VEGA_DEBUG == \"undefined\") ? {} : VEGA_DEBUG;\n",
       "  (function(spec, embedOpt){\n",
       "    let outputDiv = document.currentScript.previousElementSibling;\n",
       "    if (outputDiv.id !== \"altair-viz-54a032da504d4b71974360dcd1a473fd\") {\n",
       "      outputDiv = document.getElementById(\"altair-viz-54a032da504d4b71974360dcd1a473fd\");\n",
       "    }\n",
       "    const paths = {\n",
       "      \"vega\": \"https://cdn.jsdelivr.net/npm//vega@5?noext\",\n",
       "      \"vega-lib\": \"https://cdn.jsdelivr.net/npm//vega-lib?noext\",\n",
       "      \"vega-lite\": \"https://cdn.jsdelivr.net/npm//vega-lite@4.17.0?noext\",\n",
       "      \"vega-embed\": \"https://cdn.jsdelivr.net/npm//vega-embed@6?noext\",\n",
       "    };\n",
       "\n",
       "    function maybeLoadScript(lib, version) {\n",
       "      var key = `${lib.replace(\"-\", \"\")}_version`;\n",
       "      return (VEGA_DEBUG[key] == version) ?\n",
       "        Promise.resolve(paths[lib]) :\n",
       "        new Promise(function(resolve, reject) {\n",
       "          var s = document.createElement('script');\n",
       "          document.getElementsByTagName(\"head\")[0].appendChild(s);\n",
       "          s.async = true;\n",
       "          s.onload = () => {\n",
       "            VEGA_DEBUG[key] = version;\n",
       "            return resolve(paths[lib]);\n",
       "          };\n",
       "          s.onerror = () => reject(`Error loading script: ${paths[lib]}`);\n",
       "          s.src = paths[lib];\n",
       "        });\n",
       "    }\n",
       "\n",
       "    function showError(err) {\n",
       "      outputDiv.innerHTML = `<div class=\"error\" style=\"color:red;\">${err}</div>`;\n",
       "      throw err;\n",
       "    }\n",
       "\n",
       "    function displayChart(vegaEmbed) {\n",
       "      vegaEmbed(outputDiv, spec, embedOpt)\n",
       "        .catch(err => showError(`Javascript Error: ${err.message}<br>This usually means there's a typo in your chart specification. See the javascript console for the full traceback.`));\n",
       "    }\n",
       "\n",
       "    if(typeof define === \"function\" && define.amd) {\n",
       "      requirejs.config({paths});\n",
       "      require([\"vega-embed\"], displayChart, err => showError(`Error loading script: ${err.message}`));\n",
       "    } else {\n",
       "      maybeLoadScript(\"vega\", \"5\")\n",
       "        .then(() => maybeLoadScript(\"vega-lite\", \"4.17.0\"))\n",
       "        .then(() => maybeLoadScript(\"vega-embed\", \"6\"))\n",
       "        .catch(showError)\n",
       "        .then(() => displayChart(vegaEmbed));\n",
       "    }\n",
       "  })({\"config\": {\"view\": {\"continuousWidth\": 400, \"continuousHeight\": 300}}, \"data\": {\"name\": \"data-dd4754ec408985cf02d07ef4475226d0\"}, \"mark\": \"point\", \"encoding\": {\"tooltip\": [{\"field\": \"ads\", \"type\": \"quantitative\"}, {\"field\": \"sales\", \"type\": \"quantitative\"}], \"x\": {\"field\": \"ads\", \"type\": \"quantitative\"}, \"y\": {\"field\": \"sales\", \"type\": \"quantitative\"}}, \"selection\": {\"selector001\": {\"type\": \"interval\", \"bind\": \"scales\", \"encodings\": [\"x\", \"y\"]}}, \"$schema\": \"https://vega.github.io/schema/vega-lite/v4.17.0.json\", \"datasets\": {\"data-dd4754ec408985cf02d07ef4475226d0\": [{\"sales\": 2500, \"ads\": 900}, {\"sales\": 4500, \"ads\": 1400}, {\"sales\": 6500, \"ads\": 3600}, {\"sales\": 8500, \"ads\": 3800}, {\"sales\": 10500, \"ads\": 6200}, {\"sales\": 12500, \"ads\": 5200}, {\"sales\": 14500, \"ads\": 6800}, {\"sales\": 16500, \"ads\": 8300}, {\"sales\": 18500, \"ads\": 9800}, {\"sales\": 20500, \"ads\": 10100}]}}, {\"mode\": \"vega-lite\"});\n",
       "</script>"
      ],
      "text/plain": [
       "alt.Chart(...)"
      ]
     },
     "execution_count": 5,
     "metadata": {},
     "output_type": "execute_result"
    }
   ],
   "source": [
    "alt.Chart(df).mark_point().encode(\n",
    "    x='ads',\n",
    "    y='sales',\n",
    "    tooltip= ['ads', 'sales']\n",
    ").interactive()"
   ]
  },
  {
   "cell_type": "markdown",
   "metadata": {
    "slideshow": {
     "slide_type": "fragment"
    }
   },
   "source": [
    "*Is there a \"perfect\" relationship between the two variables (like in our last example)?*"
   ]
  },
  {
   "cell_type": "markdown",
   "metadata": {
    "slideshow": {
     "slide_type": "slide"
    }
   },
   "source": [
    "## Model\n",
    "\n",
    "Remember our simple model from before. Instead of using `number_0` and `number_1`, we use the following expressions:\n",
    "\n",
    "- `number_0` = `intercept`\n",
    "\n",
    "- `number_1` = `slope` (also called coefficient)\n",
    "\n",
    "\n",
    "Use the following values to make a prediction:\n",
    "\n",
    "- intercept = 500\n",
    "- slope = 2\n",
    "\n",
    "Hint:\n",
    "\n",
    "---\n",
    "\n",
    "\n",
    "```python\n",
    "intercept = ___ \n",
    "slope = ___\n",
    "\n",
    "df['___'] = ___ + ___ * df['___'] \n",
    "```\n",
    "\n",
    "---\n",
    "\n",
    "- Make a prediction for `sales` by using the variable `ads`\n",
    "- Save the new column as `sales_prediction`"
   ]
  },
  {
   "cell_type": "code",
   "execution_count": 6,
   "metadata": {
    "deletable": false,
    "execution": {
     "iopub.execute_input": "2023-01-25T17:06:18.762132Z",
     "iopub.status.busy": "2023-01-25T17:06:18.761924Z",
     "iopub.status.idle": "2023-01-25T17:06:18.765467Z",
     "shell.execute_reply": "2023-01-25T17:06:18.765015Z"
    },
    "nbgrader": {
     "cell_type": "code",
     "checksum": "2590219f1049516558a59b4cd383232d",
     "grade": false,
     "grade_id": "sales-prediction",
     "locked": false,
     "schema_version": 3,
     "solution": true,
     "task": false
    },
    "slideshow": {
     "slide_type": "subslide"
    }
   },
   "outputs": [],
   "source": [
    "intercept = 500 \n",
    "slope = 2\n",
    "\n",
    "df['sales_prediction'] = intercept + slope * df['ads']"
   ]
  },
  {
   "cell_type": "code",
   "execution_count": 7,
   "metadata": {
    "execution": {
     "iopub.execute_input": "2023-01-25T17:06:18.768139Z",
     "iopub.status.busy": "2023-01-25T17:06:18.767917Z",
     "iopub.status.idle": "2023-01-25T17:06:18.774659Z",
     "shell.execute_reply": "2023-01-25T17:06:18.774113Z"
    }
   },
   "outputs": [
    {
     "data": {
      "text/html": [
       "<div>\n",
       "<style scoped>\n",
       "    .dataframe tbody tr th:only-of-type {\n",
       "        vertical-align: middle;\n",
       "    }\n",
       "\n",
       "    .dataframe tbody tr th {\n",
       "        vertical-align: top;\n",
       "    }\n",
       "\n",
       "    .dataframe thead th {\n",
       "        text-align: right;\n",
       "    }\n",
       "</style>\n",
       "<table border=\"1\" class=\"dataframe\">\n",
       "  <thead>\n",
       "    <tr style=\"text-align: right;\">\n",
       "      <th></th>\n",
       "      <th>sales</th>\n",
       "      <th>ads</th>\n",
       "      <th>sales_prediction</th>\n",
       "    </tr>\n",
       "  </thead>\n",
       "  <tbody>\n",
       "    <tr>\n",
       "      <th>0</th>\n",
       "      <td>2500</td>\n",
       "      <td>900</td>\n",
       "      <td>2300</td>\n",
       "    </tr>\n",
       "    <tr>\n",
       "      <th>1</th>\n",
       "      <td>4500</td>\n",
       "      <td>1400</td>\n",
       "      <td>3300</td>\n",
       "    </tr>\n",
       "    <tr>\n",
       "      <th>2</th>\n",
       "      <td>6500</td>\n",
       "      <td>3600</td>\n",
       "      <td>7700</td>\n",
       "    </tr>\n",
       "    <tr>\n",
       "      <th>3</th>\n",
       "      <td>8500</td>\n",
       "      <td>3800</td>\n",
       "      <td>8100</td>\n",
       "    </tr>\n",
       "    <tr>\n",
       "      <th>4</th>\n",
       "      <td>10500</td>\n",
       "      <td>6200</td>\n",
       "      <td>12900</td>\n",
       "    </tr>\n",
       "  </tbody>\n",
       "</table>\n",
       "</div>"
      ],
      "text/plain": [
       "   sales   ads  sales_prediction\n",
       "0   2500   900              2300\n",
       "1   4500  1400              3300\n",
       "2   6500  3600              7700\n",
       "3   8500  3800              8100\n",
       "4  10500  6200             12900"
      ]
     },
     "execution_count": 7,
     "metadata": {},
     "output_type": "execute_result"
    }
   ],
   "source": [
    "df.head()"
   ]
  },
  {
   "cell_type": "code",
   "execution_count": 8,
   "metadata": {
    "deletable": false,
    "editable": false,
    "execution": {
     "iopub.execute_input": "2023-01-25T17:06:18.777439Z",
     "iopub.status.busy": "2023-01-25T17:06:18.777227Z",
     "iopub.status.idle": "2023-01-25T17:06:18.780183Z",
     "shell.execute_reply": "2023-01-25T17:06:18.779689Z"
    },
    "nbgrader": {
     "cell_type": "code",
     "checksum": "dd0a56a2a6f13e13ec653891e14e4b3a",
     "grade": true,
     "grade_id": "c-sales-prediction",
     "locked": true,
     "points": 4,
     "schema_version": 3,
     "solution": false,
     "task": false
    }
   },
   "outputs": [],
   "source": [
    "# Check your code\n",
    "assert df.loc[0, 'sales_prediction'] == 2300 "
   ]
  },
  {
   "cell_type": "code",
   "execution_count": 9,
   "metadata": {
    "execution": {
     "iopub.execute_input": "2023-01-25T17:06:18.782817Z",
     "iopub.status.busy": "2023-01-25T17:06:18.782615Z",
     "iopub.status.idle": "2023-01-25T17:06:18.824015Z",
     "shell.execute_reply": "2023-01-25T17:06:18.823373Z"
    },
    "slideshow": {
     "slide_type": "subslide"
    }
   },
   "outputs": [
    {
     "data": {
      "text/html": [
       "\n",
       "<div id=\"altair-viz-7c6c75632d6b45c88b67e499c2241058\"></div>\n",
       "<script type=\"text/javascript\">\n",
       "  var VEGA_DEBUG = (typeof VEGA_DEBUG == \"undefined\") ? {} : VEGA_DEBUG;\n",
       "  (function(spec, embedOpt){\n",
       "    let outputDiv = document.currentScript.previousElementSibling;\n",
       "    if (outputDiv.id !== \"altair-viz-7c6c75632d6b45c88b67e499c2241058\") {\n",
       "      outputDiv = document.getElementById(\"altair-viz-7c6c75632d6b45c88b67e499c2241058\");\n",
       "    }\n",
       "    const paths = {\n",
       "      \"vega\": \"https://cdn.jsdelivr.net/npm//vega@5?noext\",\n",
       "      \"vega-lib\": \"https://cdn.jsdelivr.net/npm//vega-lib?noext\",\n",
       "      \"vega-lite\": \"https://cdn.jsdelivr.net/npm//vega-lite@4.17.0?noext\",\n",
       "      \"vega-embed\": \"https://cdn.jsdelivr.net/npm//vega-embed@6?noext\",\n",
       "    };\n",
       "\n",
       "    function maybeLoadScript(lib, version) {\n",
       "      var key = `${lib.replace(\"-\", \"\")}_version`;\n",
       "      return (VEGA_DEBUG[key] == version) ?\n",
       "        Promise.resolve(paths[lib]) :\n",
       "        new Promise(function(resolve, reject) {\n",
       "          var s = document.createElement('script');\n",
       "          document.getElementsByTagName(\"head\")[0].appendChild(s);\n",
       "          s.async = true;\n",
       "          s.onload = () => {\n",
       "            VEGA_DEBUG[key] = version;\n",
       "            return resolve(paths[lib]);\n",
       "          };\n",
       "          s.onerror = () => reject(`Error loading script: ${paths[lib]}`);\n",
       "          s.src = paths[lib];\n",
       "        });\n",
       "    }\n",
       "\n",
       "    function showError(err) {\n",
       "      outputDiv.innerHTML = `<div class=\"error\" style=\"color:red;\">${err}</div>`;\n",
       "      throw err;\n",
       "    }\n",
       "\n",
       "    function displayChart(vegaEmbed) {\n",
       "      vegaEmbed(outputDiv, spec, embedOpt)\n",
       "        .catch(err => showError(`Javascript Error: ${err.message}<br>This usually means there's a typo in your chart specification. See the javascript console for the full traceback.`));\n",
       "    }\n",
       "\n",
       "    if(typeof define === \"function\" && define.amd) {\n",
       "      requirejs.config({paths});\n",
       "      require([\"vega-embed\"], displayChart, err => showError(`Error loading script: ${err.message}`));\n",
       "    } else {\n",
       "      maybeLoadScript(\"vega\", \"5\")\n",
       "        .then(() => maybeLoadScript(\"vega-lite\", \"4.17.0\"))\n",
       "        .then(() => maybeLoadScript(\"vega-embed\", \"6\"))\n",
       "        .catch(showError)\n",
       "        .then(() => displayChart(vegaEmbed));\n",
       "    }\n",
       "  })({\"config\": {\"view\": {\"continuousWidth\": 400, \"continuousHeight\": 300}}, \"layer\": [{\"mark\": \"point\", \"encoding\": {\"x\": {\"field\": \"ads\", \"type\": \"quantitative\"}, \"y\": {\"field\": \"sales\", \"type\": \"quantitative\"}}}, {\"mark\": \"line\", \"encoding\": {\"color\": {\"value\": \"#0001F5\"}, \"x\": {\"axis\": {\"title\": \"Ads (in $)\"}, \"field\": \"ads\", \"type\": \"quantitative\"}, \"y\": {\"axis\": {\"title\": \"Sales (in units)\"}, \"field\": \"sales_prediction\", \"type\": \"quantitative\"}}}], \"data\": {\"name\": \"data-11110ff1a977af55d01d5cda9b7b614a\"}, \"$schema\": \"https://vega.github.io/schema/vega-lite/v4.17.0.json\", \"datasets\": {\"data-11110ff1a977af55d01d5cda9b7b614a\": [{\"sales\": 2500, \"ads\": 900, \"sales_prediction\": 2300}, {\"sales\": 4500, \"ads\": 1400, \"sales_prediction\": 3300}, {\"sales\": 6500, \"ads\": 3600, \"sales_prediction\": 7700}, {\"sales\": 8500, \"ads\": 3800, \"sales_prediction\": 8100}, {\"sales\": 10500, \"ads\": 6200, \"sales_prediction\": 12900}, {\"sales\": 12500, \"ads\": 5200, \"sales_prediction\": 10900}, {\"sales\": 14500, \"ads\": 6800, \"sales_prediction\": 14100}, {\"sales\": 16500, \"ads\": 8300, \"sales_prediction\": 17100}, {\"sales\": 18500, \"ads\": 9800, \"sales_prediction\": 20100}, {\"sales\": 20500, \"ads\": 10100, \"sales_prediction\": 20700}]}}, {\"mode\": \"vega-lite\"});\n",
       "</script>"
      ],
      "text/plain": [
       "alt.LayerChart(...)"
      ]
     },
     "execution_count": 9,
     "metadata": {},
     "output_type": "execute_result"
    }
   ],
   "source": [
    "chart = alt.Chart(df).mark_point().encode(\n",
    "    x='ads',\n",
    "    y='sales'\n",
    ")\n",
    "\n",
    "line = alt.Chart(df).mark_line().encode(\n",
    "         alt.X('ads', axis=alt.Axis(title='Ads (in $)')),\n",
    "         alt.Y('sales_prediction', axis=alt.Axis(title=\"Sales (in units)\")),\n",
    "         color=alt.value(\"#0001F5\"))\n",
    "\n",
    "chart + line"
   ]
  },
  {
   "cell_type": "markdown",
   "metadata": {
    "slideshow": {
     "slide_type": "fragment"
    }
   },
   "source": [
    "*Can you guess why the two numbers are called intercept and slope?* Write down your answer below."
   ]
  },
  {
   "cell_type": "markdown",
   "metadata": {},
   "source": [
    "Intercept ist der Schnittpunkt mit der y-Achse bei x=0.\n",
    "Slope ist die Steigung des y-Wertes auf der x-Achse."
   ]
  },
  {
   "cell_type": "markdown",
   "metadata": {},
   "source": []
  }
 ],
 "metadata": {
  "kernelspec": {
   "display_name": "Python 3 (ipykernel)",
   "language": "python",
   "name": "python3"
  },
  "language_info": {
   "codemirror_mode": {
    "name": "ipython",
    "version": 3
   },
   "file_extension": ".py",
   "mimetype": "text/x-python",
   "name": "python",
   "nbconvert_exporter": "python",
   "pygments_lexer": "ipython3",
   "version": "3.9.13"
  },
  "vscode": {
   "interpreter": {
    "hash": "6ae2dff221c12f619034d8118916c525ce81018e8778e1d43a71c2315979bbf2"
   }
  }
 },
 "nbformat": 4,
 "nbformat_minor": 2
}
