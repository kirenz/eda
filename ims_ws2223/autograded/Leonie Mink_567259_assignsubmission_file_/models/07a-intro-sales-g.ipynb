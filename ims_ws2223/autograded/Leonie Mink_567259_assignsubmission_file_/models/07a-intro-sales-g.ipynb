{
 "cells": [
  {
   "cell_type": "markdown",
   "metadata": {},
   "source": [
    "**Important notes:**\n",
    "\n",
    "**Important notes:**\n",
    "\n",
    "- You can complete this exercise in 1) Colab or 2) on your local machine\n",
    "  1. **Colab**: Click on the 🚀 symbol at the top of the page and select Colab. When you finished the exercise, download the file: `File` > `Download` > `ipynb`. \n",
    "  2. **Local**: click on the download button at the top of the page and choose `.ipynb`. Activate the conda environment `mr` before you start: `conda activate mr`\n",
    "\n",
    "\n",
    "- Don't change the name of the file and don't delete any cells.\n",
    "\n",
    "\n",
    "- Make sure you fill in any place that says  <font color='green'> \\# YOUR CODE HERE </font> or \"YOUR ANSWER HERE\", as well as your name and (if necessary) collaborators below.\n",
    "\n",
    "\n",
    "- The function **NotImplementedError()** prevents you from hand in assignments with empty cells. Simply delete the function if you start working on a cell with this entry.\n",
    "\n",
    "\n",
    "- Before you turn this problem in (i.e., after you completed all tasks), make sure everything runs as expected: Restart the kernel and run all cells:\n",
    "  - in *Colab*: in the menubar, select `Runtime` and click on `Restart and run all`\n",
    "  - if you use *Jupyter Notebook*: in the menubar, select `Kernel` and click on `Restart & Run All`\n",
    "  - if you use *Visual Studio Code*: select \"Restart\" and then \"Run All\" \n",
    "\n",
    "\n",
    "Good luck!"
   ]
  },
  {
   "cell_type": "code",
   "execution_count": 1,
   "metadata": {
    "execution": {
     "iopub.execute_input": "2023-01-25T17:05:07.332742Z",
     "iopub.status.busy": "2023-01-25T17:05:07.332453Z",
     "iopub.status.idle": "2023-01-25T17:05:07.339796Z",
     "shell.execute_reply": "2023-01-25T17:05:07.339248Z"
    }
   },
   "outputs": [],
   "source": [
    "NAME = \"lm123\"\n",
    "COLLABORATORS = \"\""
   ]
  },
  {
   "cell_type": "code",
   "execution_count": 2,
   "metadata": {
    "execution": {
     "iopub.execute_input": "2023-01-25T17:05:07.342636Z",
     "iopub.status.busy": "2023-01-25T17:05:07.342410Z",
     "iopub.status.idle": "2023-01-25T17:05:07.345330Z",
     "shell.execute_reply": "2023-01-25T17:05:07.344840Z"
    }
   },
   "outputs": [],
   "source": [
    "import IPython\n",
    "assert IPython.version_info[0] >= 3, \"Your version of IPython is too old, please update it.\""
   ]
  },
  {
   "cell_type": "markdown",
   "metadata": {},
   "source": [
    "---"
   ]
  },
  {
   "cell_type": "markdown",
   "metadata": {
    "slideshow": {
     "slide_type": "slide"
    }
   },
   "source": [
    "# Introduction to linear regression"
   ]
  },
  {
   "cell_type": "markdown",
   "metadata": {
    "slideshow": {
     "slide_type": "slide"
    }
   },
   "source": [
    "## Setup"
   ]
  },
  {
   "cell_type": "code",
   "execution_count": 3,
   "metadata": {
    "execution": {
     "iopub.execute_input": "2023-01-25T17:05:07.348891Z",
     "iopub.status.busy": "2023-01-25T17:05:07.348506Z",
     "iopub.status.idle": "2023-01-25T17:05:07.720645Z",
     "shell.execute_reply": "2023-01-25T17:05:07.720022Z"
    },
    "slideshow": {
     "slide_type": "fragment"
    }
   },
   "outputs": [
    {
     "data": {
      "text/plain": [
       "DataTransformerRegistry.enable('default')"
      ]
     },
     "execution_count": 3,
     "metadata": {},
     "output_type": "execute_result"
    }
   ],
   "source": [
    "import pandas as pd\n",
    "import altair as alt\n",
    "import warnings\n",
    "\n",
    "warnings.simplefilter(action='ignore', category=FutureWarning)\n",
    "alt.data_transformers.disable_max_rows()"
   ]
  },
  {
   "cell_type": "markdown",
   "metadata": {
    "slideshow": {
     "slide_type": "slide"
    }
   },
   "source": [
    "## Data\n",
    "\n",
    "We create our own data:"
   ]
  },
  {
   "cell_type": "markdown",
   "metadata": {
    "slideshow": {
     "slide_type": "slide"
    }
   },
   "source": [
    "### Create data"
   ]
  },
  {
   "cell_type": "code",
   "execution_count": 4,
   "metadata": {
    "execution": {
     "iopub.execute_input": "2023-01-25T17:05:07.724192Z",
     "iopub.status.busy": "2023-01-25T17:05:07.723927Z",
     "iopub.status.idle": "2023-01-25T17:05:07.728371Z",
     "shell.execute_reply": "2023-01-25T17:05:07.727583Z"
    },
    "slideshow": {
     "slide_type": "fragment"
    }
   },
   "outputs": [],
   "source": [
    "df = pd.DataFrame(\n",
    "    {'sales': [2500, 4500, 6500, 8500, 10500, 12500, 14500, 16500, 18500, 20500],\n",
    "      'ads'  : [1000, 2000, 3000, 4000, 5000, 6000, 7000, 8000, 9000, 10000]}\n",
    ")"
   ]
  },
  {
   "cell_type": "markdown",
   "metadata": {
    "slideshow": {
     "slide_type": "slide"
    }
   },
   "source": [
    "### Data structure"
   ]
  },
  {
   "cell_type": "code",
   "execution_count": 5,
   "metadata": {
    "execution": {
     "iopub.execute_input": "2023-01-25T17:05:07.732334Z",
     "iopub.status.busy": "2023-01-25T17:05:07.731857Z",
     "iopub.status.idle": "2023-01-25T17:05:07.739210Z",
     "shell.execute_reply": "2023-01-25T17:05:07.738622Z"
    },
    "slideshow": {
     "slide_type": "subslide"
    }
   },
   "outputs": [
    {
     "data": {
      "text/html": [
       "<div>\n",
       "<style scoped>\n",
       "    .dataframe tbody tr th:only-of-type {\n",
       "        vertical-align: middle;\n",
       "    }\n",
       "\n",
       "    .dataframe tbody tr th {\n",
       "        vertical-align: top;\n",
       "    }\n",
       "\n",
       "    .dataframe thead th {\n",
       "        text-align: right;\n",
       "    }\n",
       "</style>\n",
       "<table border=\"1\" class=\"dataframe\">\n",
       "  <thead>\n",
       "    <tr style=\"text-align: right;\">\n",
       "      <th></th>\n",
       "      <th>sales</th>\n",
       "      <th>ads</th>\n",
       "    </tr>\n",
       "  </thead>\n",
       "  <tbody>\n",
       "    <tr>\n",
       "      <th>0</th>\n",
       "      <td>2500</td>\n",
       "      <td>1000</td>\n",
       "    </tr>\n",
       "    <tr>\n",
       "      <th>1</th>\n",
       "      <td>4500</td>\n",
       "      <td>2000</td>\n",
       "    </tr>\n",
       "    <tr>\n",
       "      <th>2</th>\n",
       "      <td>6500</td>\n",
       "      <td>3000</td>\n",
       "    </tr>\n",
       "    <tr>\n",
       "      <th>3</th>\n",
       "      <td>8500</td>\n",
       "      <td>4000</td>\n",
       "    </tr>\n",
       "    <tr>\n",
       "      <th>4</th>\n",
       "      <td>10500</td>\n",
       "      <td>5000</td>\n",
       "    </tr>\n",
       "    <tr>\n",
       "      <th>5</th>\n",
       "      <td>12500</td>\n",
       "      <td>6000</td>\n",
       "    </tr>\n",
       "    <tr>\n",
       "      <th>6</th>\n",
       "      <td>14500</td>\n",
       "      <td>7000</td>\n",
       "    </tr>\n",
       "    <tr>\n",
       "      <th>7</th>\n",
       "      <td>16500</td>\n",
       "      <td>8000</td>\n",
       "    </tr>\n",
       "    <tr>\n",
       "      <th>8</th>\n",
       "      <td>18500</td>\n",
       "      <td>9000</td>\n",
       "    </tr>\n",
       "    <tr>\n",
       "      <th>9</th>\n",
       "      <td>20500</td>\n",
       "      <td>10000</td>\n",
       "    </tr>\n",
       "  </tbody>\n",
       "</table>\n",
       "</div>"
      ],
      "text/plain": [
       "   sales    ads\n",
       "0   2500   1000\n",
       "1   4500   2000\n",
       "2   6500   3000\n",
       "3   8500   4000\n",
       "4  10500   5000\n",
       "5  12500   6000\n",
       "6  14500   7000\n",
       "7  16500   8000\n",
       "8  18500   9000\n",
       "9  20500  10000"
      ]
     },
     "execution_count": 5,
     "metadata": {},
     "output_type": "execute_result"
    }
   ],
   "source": [
    "df"
   ]
  },
  {
   "cell_type": "markdown",
   "metadata": {
    "slideshow": {
     "slide_type": "fragment"
    }
   },
   "source": [
    "*Do you recognize a relationship between the two variables?*"
   ]
  },
  {
   "cell_type": "code",
   "execution_count": 6,
   "metadata": {
    "execution": {
     "iopub.execute_input": "2023-01-25T17:05:07.742656Z",
     "iopub.status.busy": "2023-01-25T17:05:07.742415Z",
     "iopub.status.idle": "2023-01-25T17:05:07.751366Z",
     "shell.execute_reply": "2023-01-25T17:05:07.750687Z"
    },
    "slideshow": {
     "slide_type": "subslide"
    }
   },
   "outputs": [
    {
     "name": "stdout",
     "output_type": "stream",
     "text": [
      "<class 'pandas.core.frame.DataFrame'>\n",
      "RangeIndex: 10 entries, 0 to 9\n",
      "Data columns (total 2 columns):\n",
      " #   Column  Non-Null Count  Dtype\n",
      "---  ------  --------------  -----\n",
      " 0   sales   10 non-null     int64\n",
      " 1   ads     10 non-null     int64\n",
      "dtypes: int64(2)\n",
      "memory usage: 288.0 bytes\n"
     ]
    }
   ],
   "source": [
    "df.info()"
   ]
  },
  {
   "cell_type": "markdown",
   "metadata": {
    "slideshow": {
     "slide_type": "slide"
    }
   },
   "source": [
    "## Analysis\n",
    "\n",
    "Show the relationship between the variables:"
   ]
  },
  {
   "cell_type": "code",
   "execution_count": 7,
   "metadata": {
    "execution": {
     "iopub.execute_input": "2023-01-25T17:05:07.754653Z",
     "iopub.status.busy": "2023-01-25T17:05:07.754387Z",
     "iopub.status.idle": "2023-01-25T17:05:07.794294Z",
     "shell.execute_reply": "2023-01-25T17:05:07.793538Z"
    },
    "slideshow": {
     "slide_type": "subslide"
    }
   },
   "outputs": [
    {
     "data": {
      "text/html": [
       "\n",
       "<div id=\"altair-viz-fee506559fe746d89084c6fac13e9f94\"></div>\n",
       "<script type=\"text/javascript\">\n",
       "  var VEGA_DEBUG = (typeof VEGA_DEBUG == \"undefined\") ? {} : VEGA_DEBUG;\n",
       "  (function(spec, embedOpt){\n",
       "    let outputDiv = document.currentScript.previousElementSibling;\n",
       "    if (outputDiv.id !== \"altair-viz-fee506559fe746d89084c6fac13e9f94\") {\n",
       "      outputDiv = document.getElementById(\"altair-viz-fee506559fe746d89084c6fac13e9f94\");\n",
       "    }\n",
       "    const paths = {\n",
       "      \"vega\": \"https://cdn.jsdelivr.net/npm//vega@5?noext\",\n",
       "      \"vega-lib\": \"https://cdn.jsdelivr.net/npm//vega-lib?noext\",\n",
       "      \"vega-lite\": \"https://cdn.jsdelivr.net/npm//vega-lite@4.17.0?noext\",\n",
       "      \"vega-embed\": \"https://cdn.jsdelivr.net/npm//vega-embed@6?noext\",\n",
       "    };\n",
       "\n",
       "    function maybeLoadScript(lib, version) {\n",
       "      var key = `${lib.replace(\"-\", \"\")}_version`;\n",
       "      return (VEGA_DEBUG[key] == version) ?\n",
       "        Promise.resolve(paths[lib]) :\n",
       "        new Promise(function(resolve, reject) {\n",
       "          var s = document.createElement('script');\n",
       "          document.getElementsByTagName(\"head\")[0].appendChild(s);\n",
       "          s.async = true;\n",
       "          s.onload = () => {\n",
       "            VEGA_DEBUG[key] = version;\n",
       "            return resolve(paths[lib]);\n",
       "          };\n",
       "          s.onerror = () => reject(`Error loading script: ${paths[lib]}`);\n",
       "          s.src = paths[lib];\n",
       "        });\n",
       "    }\n",
       "\n",
       "    function showError(err) {\n",
       "      outputDiv.innerHTML = `<div class=\"error\" style=\"color:red;\">${err}</div>`;\n",
       "      throw err;\n",
       "    }\n",
       "\n",
       "    function displayChart(vegaEmbed) {\n",
       "      vegaEmbed(outputDiv, spec, embedOpt)\n",
       "        .catch(err => showError(`Javascript Error: ${err.message}<br>This usually means there's a typo in your chart specification. See the javascript console for the full traceback.`));\n",
       "    }\n",
       "\n",
       "    if(typeof define === \"function\" && define.amd) {\n",
       "      requirejs.config({paths});\n",
       "      require([\"vega-embed\"], displayChart, err => showError(`Error loading script: ${err.message}`));\n",
       "    } else {\n",
       "      maybeLoadScript(\"vega\", \"5\")\n",
       "        .then(() => maybeLoadScript(\"vega-lite\", \"4.17.0\"))\n",
       "        .then(() => maybeLoadScript(\"vega-embed\", \"6\"))\n",
       "        .catch(showError)\n",
       "        .then(() => displayChart(vegaEmbed));\n",
       "    }\n",
       "  })({\"config\": {\"view\": {\"continuousWidth\": 400, \"continuousHeight\": 300}}, \"data\": {\"name\": \"data-f926378e94df973e31740dd0ff4004df\"}, \"mark\": \"point\", \"encoding\": {\"tooltip\": [{\"field\": \"ads\", \"type\": \"quantitative\"}, {\"field\": \"sales\", \"type\": \"quantitative\"}], \"x\": {\"axis\": {\"title\": \"Ads (in $)\"}, \"field\": \"ads\", \"type\": \"quantitative\"}, \"y\": {\"axis\": {\"title\": \"Sales (in units)\"}, \"field\": \"sales\", \"type\": \"quantitative\"}}, \"selection\": {\"selector001\": {\"type\": \"interval\", \"bind\": \"scales\", \"encodings\": [\"x\", \"y\"]}}, \"$schema\": \"https://vega.github.io/schema/vega-lite/v4.17.0.json\", \"datasets\": {\"data-f926378e94df973e31740dd0ff4004df\": [{\"sales\": 2500, \"ads\": 1000}, {\"sales\": 4500, \"ads\": 2000}, {\"sales\": 6500, \"ads\": 3000}, {\"sales\": 8500, \"ads\": 4000}, {\"sales\": 10500, \"ads\": 5000}, {\"sales\": 12500, \"ads\": 6000}, {\"sales\": 14500, \"ads\": 7000}, {\"sales\": 16500, \"ads\": 8000}, {\"sales\": 18500, \"ads\": 9000}, {\"sales\": 20500, \"ads\": 10000}]}}, {\"mode\": \"vega-lite\"});\n",
       "</script>"
      ],
      "text/plain": [
       "alt.Chart(...)"
      ]
     },
     "execution_count": 7,
     "metadata": {},
     "output_type": "execute_result"
    }
   ],
   "source": [
    "chart = alt.Chart(df).mark_point().encode(\n",
    "   x=alt.X('ads', axis=alt.Axis(title='Ads (in $)')),\n",
    "   y=alt.Y('sales', axis=alt.Axis(title=\"Sales (in units)\")),\n",
    "   tooltip=['ads', 'sales']\n",
    ").interactive()\n",
    "\n",
    "chart"
   ]
  },
  {
   "cell_type": "markdown",
   "metadata": {
    "slideshow": {
     "slide_type": "slide"
    }
   },
   "source": [
    "## Model"
   ]
  },
  {
   "cell_type": "markdown",
   "metadata": {
    "slideshow": {
     "slide_type": "slide"
    }
   },
   "source": [
    "Let's take a closer look at ad spendings of 2000. What is the value of sales you would expect?"
   ]
  },
  {
   "cell_type": "code",
   "execution_count": 8,
   "metadata": {
    "execution": {
     "iopub.execute_input": "2023-01-25T17:05:07.797836Z",
     "iopub.status.busy": "2023-01-25T17:05:07.797584Z",
     "iopub.status.idle": "2023-01-25T17:05:07.826635Z",
     "shell.execute_reply": "2023-01-25T17:05:07.826066Z"
    },
    "slideshow": {
     "slide_type": "subslide"
    }
   },
   "outputs": [
    {
     "data": {
      "text/html": [
       "\n",
       "<div id=\"altair-viz-9efcf574a33e40ed91a57beb2ab64aa5\"></div>\n",
       "<script type=\"text/javascript\">\n",
       "  var VEGA_DEBUG = (typeof VEGA_DEBUG == \"undefined\") ? {} : VEGA_DEBUG;\n",
       "  (function(spec, embedOpt){\n",
       "    let outputDiv = document.currentScript.previousElementSibling;\n",
       "    if (outputDiv.id !== \"altair-viz-9efcf574a33e40ed91a57beb2ab64aa5\") {\n",
       "      outputDiv = document.getElementById(\"altair-viz-9efcf574a33e40ed91a57beb2ab64aa5\");\n",
       "    }\n",
       "    const paths = {\n",
       "      \"vega\": \"https://cdn.jsdelivr.net/npm//vega@5?noext\",\n",
       "      \"vega-lib\": \"https://cdn.jsdelivr.net/npm//vega-lib?noext\",\n",
       "      \"vega-lite\": \"https://cdn.jsdelivr.net/npm//vega-lite@4.17.0?noext\",\n",
       "      \"vega-embed\": \"https://cdn.jsdelivr.net/npm//vega-embed@6?noext\",\n",
       "    };\n",
       "\n",
       "    function maybeLoadScript(lib, version) {\n",
       "      var key = `${lib.replace(\"-\", \"\")}_version`;\n",
       "      return (VEGA_DEBUG[key] == version) ?\n",
       "        Promise.resolve(paths[lib]) :\n",
       "        new Promise(function(resolve, reject) {\n",
       "          var s = document.createElement('script');\n",
       "          document.getElementsByTagName(\"head\")[0].appendChild(s);\n",
       "          s.async = true;\n",
       "          s.onload = () => {\n",
       "            VEGA_DEBUG[key] = version;\n",
       "            return resolve(paths[lib]);\n",
       "          };\n",
       "          s.onerror = () => reject(`Error loading script: ${paths[lib]}`);\n",
       "          s.src = paths[lib];\n",
       "        });\n",
       "    }\n",
       "\n",
       "    function showError(err) {\n",
       "      outputDiv.innerHTML = `<div class=\"error\" style=\"color:red;\">${err}</div>`;\n",
       "      throw err;\n",
       "    }\n",
       "\n",
       "    function displayChart(vegaEmbed) {\n",
       "      vegaEmbed(outputDiv, spec, embedOpt)\n",
       "        .catch(err => showError(`Javascript Error: ${err.message}<br>This usually means there's a typo in your chart specification. See the javascript console for the full traceback.`));\n",
       "    }\n",
       "\n",
       "    if(typeof define === \"function\" && define.amd) {\n",
       "      requirejs.config({paths});\n",
       "      require([\"vega-embed\"], displayChart, err => showError(`Error loading script: ${err.message}`));\n",
       "    } else {\n",
       "      maybeLoadScript(\"vega\", \"5\")\n",
       "        .then(() => maybeLoadScript(\"vega-lite\", \"4.17.0\"))\n",
       "        .then(() => maybeLoadScript(\"vega-embed\", \"6\"))\n",
       "        .catch(showError)\n",
       "        .then(() => displayChart(vegaEmbed));\n",
       "    }\n",
       "  })({\"config\": {\"view\": {\"continuousWidth\": 400, \"continuousHeight\": 300}}, \"layer\": [{\"data\": {\"name\": \"data-f926378e94df973e31740dd0ff4004df\"}, \"mark\": \"point\", \"encoding\": {\"tooltip\": [{\"field\": \"ads\", \"type\": \"quantitative\"}, {\"field\": \"sales\", \"type\": \"quantitative\"}], \"x\": {\"axis\": {\"title\": \"Ads (in $)\"}, \"field\": \"ads\", \"type\": \"quantitative\"}, \"y\": {\"axis\": {\"title\": \"Sales (in units)\"}, \"field\": \"sales\", \"type\": \"quantitative\"}}, \"selection\": {\"selector001\": {\"type\": \"interval\", \"bind\": \"scales\", \"encodings\": [\"x\", \"y\"]}}}, {\"data\": {\"name\": \"data-ff15a5032d34ac55aede39568eae4b25\"}, \"mark\": {\"type\": \"point\", \"color\": \"red\", \"size\": 300, \"tooltip\": \"Ads = 2000, Sales = 4500\"}, \"encoding\": {\"x\": {\"axis\": {\"title\": \"Ads (in $)\"}, \"field\": \"ads\", \"type\": \"quantitative\"}, \"y\": {\"axis\": {\"title\": \"Sales (in units)\"}, \"field\": \"sales\", \"type\": \"quantitative\"}}}], \"$schema\": \"https://vega.github.io/schema/vega-lite/v4.17.0.json\", \"datasets\": {\"data-f926378e94df973e31740dd0ff4004df\": [{\"sales\": 2500, \"ads\": 1000}, {\"sales\": 4500, \"ads\": 2000}, {\"sales\": 6500, \"ads\": 3000}, {\"sales\": 8500, \"ads\": 4000}, {\"sales\": 10500, \"ads\": 5000}, {\"sales\": 12500, \"ads\": 6000}, {\"sales\": 14500, \"ads\": 7000}, {\"sales\": 16500, \"ads\": 8000}, {\"sales\": 18500, \"ads\": 9000}, {\"sales\": 20500, \"ads\": 10000}], \"data-ff15a5032d34ac55aede39568eae4b25\": [{\"sales\": 4500, \"ads\": 2000}]}}, {\"mode\": \"vega-lite\"});\n",
       "</script>"
      ],
      "text/plain": [
       "alt.LayerChart(...)"
      ]
     },
     "execution_count": 8,
     "metadata": {},
     "output_type": "execute_result"
    }
   ],
   "source": [
    "callout = alt.Chart(df.iloc[1:2]).mark_point(\n",
    "    color='red', size=300, tooltip=\"Ads = 2000, Sales = 4500\"\n",
    ").encode(\n",
    "    x=alt.X('ads', axis=alt.Axis(title='Ads (in $)')),\n",
    "    y=alt.Y('sales', axis=alt.Axis(title=\"Sales (in units)\"))\n",
    ")\n",
    "\n",
    "chart + callout"
   ]
  },
  {
   "cell_type": "markdown",
   "metadata": {
    "slideshow": {
     "slide_type": "slide"
    }
   },
   "source": [
    "### Prediction"
   ]
  },
  {
   "cell_type": "markdown",
   "metadata": {
    "slideshow": {
     "slide_type": "slide"
    }
   },
   "source": [
    "What is your sales prediction for tv ad spendings of 2000?\n",
    "\n",
    "- calculate a prediction for sales using ad spendings of 2000\n",
    "- in your code, use the variables `number_0` and `number_1` to obtain your prediction\n",
    "- save the result as `sales_prediction`\n",
    "\n",
    "Hint:\n",
    "\n",
    "---\n",
    "\n",
    "```python\n",
    "\n",
    "number_0 = ___\n",
    "number_1 = ___\n",
    "ad_spendings = ___\n",
    "\n",
    "sales_prediction = number_0 + number_1 * ad_spendings\n",
    "\n",
    "```\n",
    "\n",
    "---"
   ]
  },
  {
   "cell_type": "code",
   "execution_count": 9,
   "metadata": {
    "deletable": false,
    "execution": {
     "iopub.execute_input": "2023-01-25T17:05:07.829725Z",
     "iopub.status.busy": "2023-01-25T17:05:07.829500Z",
     "iopub.status.idle": "2023-01-25T17:05:07.832482Z",
     "shell.execute_reply": "2023-01-25T17:05:07.832026Z"
    },
    "nbgrader": {
     "cell_type": "code",
     "checksum": "acbb2eded1cbb6186820f4d4b0972258",
     "grade": false,
     "grade_id": "model",
     "locked": false,
     "schema_version": 3,
     "solution": true,
     "task": false
    },
    "slideshow": {
     "slide_type": "subslide"
    }
   },
   "outputs": [],
   "source": [
    "number_0 = 500\n",
    "number_1 = 2\n",
    "ad_spendings = 2000\n",
    "\n",
    "sales_prediction = number_0 + number_1 * ad_spendings"
   ]
  },
  {
   "cell_type": "code",
   "execution_count": 10,
   "metadata": {
    "deletable": false,
    "editable": false,
    "execution": {
     "iopub.execute_input": "2023-01-25T17:05:07.835092Z",
     "iopub.status.busy": "2023-01-25T17:05:07.834873Z",
     "iopub.status.idle": "2023-01-25T17:05:07.837464Z",
     "shell.execute_reply": "2023-01-25T17:05:07.836879Z"
    },
    "nbgrader": {
     "cell_type": "code",
     "checksum": "0b239e7ab7fb701cb1675821a8a7beea",
     "grade": true,
     "grade_id": "c-model",
     "locked": true,
     "points": 2,
     "schema_version": 3,
     "solution": false,
     "task": false
    },
    "slideshow": {
     "slide_type": "subslide"
    }
   },
   "outputs": [],
   "source": [
    "# check your code\n",
    "assert 4000 <= sales_prediction <= 5000"
   ]
  },
  {
   "cell_type": "markdown",
   "metadata": {
    "slideshow": {
     "slide_type": "slide"
    }
   },
   "source": [
    "Next, use your solution to make your calculations within pandas for every value of ad spendings (`ads`) and save the result in your dataframe (as `sales_prediction`):\n",
    "\n",
    "Hint:\n",
    "\n",
    "---\n",
    "\n",
    "```python\n",
    "df['___'] = number_0 + number_1 * df['___'] \n",
    "```\n",
    "\n",
    "---\n",
    "\n",
    "- name the new column `sales_prediction`\n"
   ]
  },
  {
   "cell_type": "code",
   "execution_count": 11,
   "metadata": {
    "deletable": false,
    "execution": {
     "iopub.execute_input": "2023-01-25T17:05:07.840143Z",
     "iopub.status.busy": "2023-01-25T17:05:07.839931Z",
     "iopub.status.idle": "2023-01-25T17:05:07.843285Z",
     "shell.execute_reply": "2023-01-25T17:05:07.842840Z"
    },
    "nbgrader": {
     "cell_type": "code",
     "checksum": "0774deedc8d567d1ee7b060b5788dbd4",
     "grade": false,
     "grade_id": "pred",
     "locked": false,
     "schema_version": 3,
     "solution": true,
     "task": false
    },
    "slideshow": {
     "slide_type": "subslide"
    }
   },
   "outputs": [],
   "source": [
    "df['sales_prediction'] = number_0 + number_1 * df['ads'] "
   ]
  },
  {
   "cell_type": "code",
   "execution_count": 12,
   "metadata": {
    "deletable": false,
    "editable": false,
    "execution": {
     "iopub.execute_input": "2023-01-25T17:05:07.845891Z",
     "iopub.status.busy": "2023-01-25T17:05:07.845692Z",
     "iopub.status.idle": "2023-01-25T17:05:07.848409Z",
     "shell.execute_reply": "2023-01-25T17:05:07.847894Z"
    },
    "nbgrader": {
     "cell_type": "code",
     "checksum": "199abc586e605e700ff97e43ba59939f",
     "grade": true,
     "grade_id": "c-pred",
     "locked": true,
     "points": 2,
     "schema_version": 3,
     "solution": false,
     "task": false
    },
    "slideshow": {
     "slide_type": "subslide"
    }
   },
   "outputs": [],
   "source": [
    "# Check your code\n",
    "assert 2000 <= df.iloc[0, 2] <= 3000"
   ]
  },
  {
   "cell_type": "code",
   "execution_count": 13,
   "metadata": {
    "execution": {
     "iopub.execute_input": "2023-01-25T17:05:07.850957Z",
     "iopub.status.busy": "2023-01-25T17:05:07.850756Z",
     "iopub.status.idle": "2023-01-25T17:05:07.855931Z",
     "shell.execute_reply": "2023-01-25T17:05:07.855489Z"
    },
    "slideshow": {
     "slide_type": "slide"
    }
   },
   "outputs": [
    {
     "data": {
      "text/html": [
       "<div>\n",
       "<style scoped>\n",
       "    .dataframe tbody tr th:only-of-type {\n",
       "        vertical-align: middle;\n",
       "    }\n",
       "\n",
       "    .dataframe tbody tr th {\n",
       "        vertical-align: top;\n",
       "    }\n",
       "\n",
       "    .dataframe thead th {\n",
       "        text-align: right;\n",
       "    }\n",
       "</style>\n",
       "<table border=\"1\" class=\"dataframe\">\n",
       "  <thead>\n",
       "    <tr style=\"text-align: right;\">\n",
       "      <th></th>\n",
       "      <th>sales</th>\n",
       "      <th>ads</th>\n",
       "      <th>sales_prediction</th>\n",
       "    </tr>\n",
       "  </thead>\n",
       "  <tbody>\n",
       "    <tr>\n",
       "      <th>0</th>\n",
       "      <td>2500</td>\n",
       "      <td>1000</td>\n",
       "      <td>2500</td>\n",
       "    </tr>\n",
       "    <tr>\n",
       "      <th>1</th>\n",
       "      <td>4500</td>\n",
       "      <td>2000</td>\n",
       "      <td>4500</td>\n",
       "    </tr>\n",
       "    <tr>\n",
       "      <th>2</th>\n",
       "      <td>6500</td>\n",
       "      <td>3000</td>\n",
       "      <td>6500</td>\n",
       "    </tr>\n",
       "    <tr>\n",
       "      <th>3</th>\n",
       "      <td>8500</td>\n",
       "      <td>4000</td>\n",
       "      <td>8500</td>\n",
       "    </tr>\n",
       "    <tr>\n",
       "      <th>4</th>\n",
       "      <td>10500</td>\n",
       "      <td>5000</td>\n",
       "      <td>10500</td>\n",
       "    </tr>\n",
       "  </tbody>\n",
       "</table>\n",
       "</div>"
      ],
      "text/plain": [
       "   sales   ads  sales_prediction\n",
       "0   2500  1000              2500\n",
       "1   4500  2000              4500\n",
       "2   6500  3000              6500\n",
       "3   8500  4000              8500\n",
       "4  10500  5000             10500"
      ]
     },
     "execution_count": 13,
     "metadata": {},
     "output_type": "execute_result"
    }
   ],
   "source": [
    "df.head()"
   ]
  },
  {
   "cell_type": "markdown",
   "metadata": {
    "slideshow": {
     "slide_type": "slide"
    }
   },
   "source": [
    "Visualize predictions as a line"
   ]
  },
  {
   "cell_type": "code",
   "execution_count": 14,
   "metadata": {
    "execution": {
     "iopub.execute_input": "2023-01-25T17:05:07.858684Z",
     "iopub.status.busy": "2023-01-25T17:05:07.858477Z",
     "iopub.status.idle": "2023-01-25T17:05:07.892466Z",
     "shell.execute_reply": "2023-01-25T17:05:07.891924Z"
    },
    "slideshow": {
     "slide_type": "subslide"
    }
   },
   "outputs": [
    {
     "data": {
      "text/html": [
       "\n",
       "<div id=\"altair-viz-af528ac8f4d74b0a94874eca7c2e9f43\"></div>\n",
       "<script type=\"text/javascript\">\n",
       "  var VEGA_DEBUG = (typeof VEGA_DEBUG == \"undefined\") ? {} : VEGA_DEBUG;\n",
       "  (function(spec, embedOpt){\n",
       "    let outputDiv = document.currentScript.previousElementSibling;\n",
       "    if (outputDiv.id !== \"altair-viz-af528ac8f4d74b0a94874eca7c2e9f43\") {\n",
       "      outputDiv = document.getElementById(\"altair-viz-af528ac8f4d74b0a94874eca7c2e9f43\");\n",
       "    }\n",
       "    const paths = {\n",
       "      \"vega\": \"https://cdn.jsdelivr.net/npm//vega@5?noext\",\n",
       "      \"vega-lib\": \"https://cdn.jsdelivr.net/npm//vega-lib?noext\",\n",
       "      \"vega-lite\": \"https://cdn.jsdelivr.net/npm//vega-lite@4.17.0?noext\",\n",
       "      \"vega-embed\": \"https://cdn.jsdelivr.net/npm//vega-embed@6?noext\",\n",
       "    };\n",
       "\n",
       "    function maybeLoadScript(lib, version) {\n",
       "      var key = `${lib.replace(\"-\", \"\")}_version`;\n",
       "      return (VEGA_DEBUG[key] == version) ?\n",
       "        Promise.resolve(paths[lib]) :\n",
       "        new Promise(function(resolve, reject) {\n",
       "          var s = document.createElement('script');\n",
       "          document.getElementsByTagName(\"head\")[0].appendChild(s);\n",
       "          s.async = true;\n",
       "          s.onload = () => {\n",
       "            VEGA_DEBUG[key] = version;\n",
       "            return resolve(paths[lib]);\n",
       "          };\n",
       "          s.onerror = () => reject(`Error loading script: ${paths[lib]}`);\n",
       "          s.src = paths[lib];\n",
       "        });\n",
       "    }\n",
       "\n",
       "    function showError(err) {\n",
       "      outputDiv.innerHTML = `<div class=\"error\" style=\"color:red;\">${err}</div>`;\n",
       "      throw err;\n",
       "    }\n",
       "\n",
       "    function displayChart(vegaEmbed) {\n",
       "      vegaEmbed(outputDiv, spec, embedOpt)\n",
       "        .catch(err => showError(`Javascript Error: ${err.message}<br>This usually means there's a typo in your chart specification. See the javascript console for the full traceback.`));\n",
       "    }\n",
       "\n",
       "    if(typeof define === \"function\" && define.amd) {\n",
       "      requirejs.config({paths});\n",
       "      require([\"vega-embed\"], displayChart, err => showError(`Error loading script: ${err.message}`));\n",
       "    } else {\n",
       "      maybeLoadScript(\"vega\", \"5\")\n",
       "        .then(() => maybeLoadScript(\"vega-lite\", \"4.17.0\"))\n",
       "        .then(() => maybeLoadScript(\"vega-embed\", \"6\"))\n",
       "        .catch(showError)\n",
       "        .then(() => displayChart(vegaEmbed));\n",
       "    }\n",
       "  })({\"config\": {\"view\": {\"continuousWidth\": 400, \"continuousHeight\": 300}}, \"layer\": [{\"mark\": \"point\", \"encoding\": {\"tooltip\": [{\"field\": \"ads\", \"type\": \"quantitative\"}, {\"field\": \"sales\", \"type\": \"quantitative\"}], \"x\": {\"axis\": {\"title\": \"Ads (in $)\"}, \"field\": \"ads\", \"type\": \"quantitative\"}, \"y\": {\"axis\": {\"title\": \"Sales (in units)\"}, \"field\": \"sales\", \"type\": \"quantitative\"}}, \"selection\": {\"selector001\": {\"type\": \"interval\", \"bind\": \"scales\", \"encodings\": [\"x\", \"y\"]}}}, {\"mark\": \"line\", \"encoding\": {\"color\": {\"value\": \"#0001F5\"}, \"x\": {\"axis\": {\"title\": \"Ads (in $)\"}, \"field\": \"ads\", \"type\": \"quantitative\"}, \"y\": {\"axis\": {\"title\": \"Sales (in units)\"}, \"field\": \"sales_prediction\", \"type\": \"quantitative\"}}}], \"data\": {\"name\": \"data-740e68a30db367c1dfa83d53d39b1b39\"}, \"$schema\": \"https://vega.github.io/schema/vega-lite/v4.17.0.json\", \"datasets\": {\"data-740e68a30db367c1dfa83d53d39b1b39\": [{\"sales\": 2500, \"ads\": 1000, \"sales_prediction\": 2500}, {\"sales\": 4500, \"ads\": 2000, \"sales_prediction\": 4500}, {\"sales\": 6500, \"ads\": 3000, \"sales_prediction\": 6500}, {\"sales\": 8500, \"ads\": 4000, \"sales_prediction\": 8500}, {\"sales\": 10500, \"ads\": 5000, \"sales_prediction\": 10500}, {\"sales\": 12500, \"ads\": 6000, \"sales_prediction\": 12500}, {\"sales\": 14500, \"ads\": 7000, \"sales_prediction\": 14500}, {\"sales\": 16500, \"ads\": 8000, \"sales_prediction\": 16500}, {\"sales\": 18500, \"ads\": 9000, \"sales_prediction\": 18500}, {\"sales\": 20500, \"ads\": 10000, \"sales_prediction\": 20500}]}}, {\"mode\": \"vega-lite\"});\n",
       "</script>"
      ],
      "text/plain": [
       "alt.LayerChart(...)"
      ]
     },
     "execution_count": 14,
     "metadata": {},
     "output_type": "execute_result"
    }
   ],
   "source": [
    "line = alt.Chart(df).mark_line().encode(\n",
    "         alt.X('ads', axis=alt.Axis(title='Ads (in $)')),\n",
    "         alt.Y('sales_prediction', axis=alt.Axis(title=\"Sales (in units)\")),\n",
    "         color=alt.value(\"#0001F5\"))\n",
    "\n",
    "chart + line"
   ]
  },
  {
   "cell_type": "markdown",
   "metadata": {
    "slideshow": {
     "slide_type": "slide"
    }
   },
   "source": [
    "Next, we want to see where our blue line crosses the y axis. In other words, we need to include a value of `ads = 0` to our dataframe. \n",
    "\n",
    "Hint:\n",
    "\n",
    "---\n",
    "\n",
    "```python\n",
    "\n",
    "df_new = pd.DataFrame({\n",
    "    'ads': ___ , \n",
    "    'sales': ___, \n",
    "    'sales_prediction': ___ + ___ * ___\n",
    "    }, ___)\n",
    "\n",
    "___ = ___.___([___ , ___], ignore_index = ___)\n",
    "\n",
    "```\n",
    "\n",
    "---"
   ]
  },
  {
   "cell_type": "markdown",
   "metadata": {},
   "source": [
    "\n",
    "\n",
    "First, we create a new Dataframe called `df_new` with only one row: \n",
    "\n",
    "- the value for `ads` is `0` \n",
    "- we don't know the real value of `sales`: therefore, we write `None` (Pandas will transform this to `NaN`, which means \"Not a Number\") in this cell \n",
    "- we use our formula from above to obtain the value of `sales_prediction` (use the value of `0` for ads)\n",
    "- we need to manually include an index. Simply use `index=[0]`  \n",
    "\n",
    "Next, we need to append `df_new` to the end of or DataFrame object `df`:\n",
    "\n",
    "- use `pd.concat()` to combine `df` and `df_new` and save the result in `df` \n",
    "- we clear the existing index and reset it in the result by setting the `ignore_index` option to `True`.\n"
   ]
  },
  {
   "cell_type": "code",
   "execution_count": 15,
   "metadata": {
    "deletable": false,
    "execution": {
     "iopub.execute_input": "2023-01-25T17:05:07.896167Z",
     "iopub.status.busy": "2023-01-25T17:05:07.895953Z",
     "iopub.status.idle": "2023-01-25T17:05:07.899688Z",
     "shell.execute_reply": "2023-01-25T17:05:07.899166Z"
    },
    "nbgrader": {
     "cell_type": "code",
     "checksum": "bec72947cb03c6cb8a716de05b0fe33d",
     "grade": false,
     "grade_id": "concat",
     "locked": false,
     "schema_version": 3,
     "solution": true,
     "task": false
    },
    "slideshow": {
     "slide_type": "slide"
    }
   },
   "outputs": [],
   "source": [
    "df_new = pd.DataFrame({\n",
    "    'ads': 0 , \n",
    "    'sales': None,  #none, weil wir keine reale Information haben \n",
    "    'sales_prediction': number_0 + number_1 * 0\n",
    "    }, index=[0])\n",
    "\n"
   ]
  },
  {
   "cell_type": "code",
   "execution_count": 16,
   "metadata": {
    "execution": {
     "iopub.execute_input": "2023-01-25T17:05:07.902338Z",
     "iopub.status.busy": "2023-01-25T17:05:07.902124Z",
     "iopub.status.idle": "2023-01-25T17:05:07.908537Z",
     "shell.execute_reply": "2023-01-25T17:05:07.908043Z"
    }
   },
   "outputs": [
    {
     "data": {
      "text/html": [
       "<div>\n",
       "<style scoped>\n",
       "    .dataframe tbody tr th:only-of-type {\n",
       "        vertical-align: middle;\n",
       "    }\n",
       "\n",
       "    .dataframe tbody tr th {\n",
       "        vertical-align: top;\n",
       "    }\n",
       "\n",
       "    .dataframe thead th {\n",
       "        text-align: right;\n",
       "    }\n",
       "</style>\n",
       "<table border=\"1\" class=\"dataframe\">\n",
       "  <thead>\n",
       "    <tr style=\"text-align: right;\">\n",
       "      <th></th>\n",
       "      <th>sales</th>\n",
       "      <th>ads</th>\n",
       "      <th>sales_prediction</th>\n",
       "    </tr>\n",
       "  </thead>\n",
       "  <tbody>\n",
       "    <tr>\n",
       "      <th>0</th>\n",
       "      <td>2500</td>\n",
       "      <td>1000</td>\n",
       "      <td>2500</td>\n",
       "    </tr>\n",
       "    <tr>\n",
       "      <th>1</th>\n",
       "      <td>4500</td>\n",
       "      <td>2000</td>\n",
       "      <td>4500</td>\n",
       "    </tr>\n",
       "    <tr>\n",
       "      <th>2</th>\n",
       "      <td>6500</td>\n",
       "      <td>3000</td>\n",
       "      <td>6500</td>\n",
       "    </tr>\n",
       "    <tr>\n",
       "      <th>3</th>\n",
       "      <td>8500</td>\n",
       "      <td>4000</td>\n",
       "      <td>8500</td>\n",
       "    </tr>\n",
       "    <tr>\n",
       "      <th>4</th>\n",
       "      <td>10500</td>\n",
       "      <td>5000</td>\n",
       "      <td>10500</td>\n",
       "    </tr>\n",
       "    <tr>\n",
       "      <th>5</th>\n",
       "      <td>12500</td>\n",
       "      <td>6000</td>\n",
       "      <td>12500</td>\n",
       "    </tr>\n",
       "    <tr>\n",
       "      <th>6</th>\n",
       "      <td>14500</td>\n",
       "      <td>7000</td>\n",
       "      <td>14500</td>\n",
       "    </tr>\n",
       "    <tr>\n",
       "      <th>7</th>\n",
       "      <td>16500</td>\n",
       "      <td>8000</td>\n",
       "      <td>16500</td>\n",
       "    </tr>\n",
       "    <tr>\n",
       "      <th>8</th>\n",
       "      <td>18500</td>\n",
       "      <td>9000</td>\n",
       "      <td>18500</td>\n",
       "    </tr>\n",
       "    <tr>\n",
       "      <th>9</th>\n",
       "      <td>20500</td>\n",
       "      <td>10000</td>\n",
       "      <td>20500</td>\n",
       "    </tr>\n",
       "    <tr>\n",
       "      <th>10</th>\n",
       "      <td>None</td>\n",
       "      <td>0</td>\n",
       "      <td>500</td>\n",
       "    </tr>\n",
       "  </tbody>\n",
       "</table>\n",
       "</div>"
      ],
      "text/plain": [
       "    sales    ads  sales_prediction\n",
       "0    2500   1000              2500\n",
       "1    4500   2000              4500\n",
       "2    6500   3000              6500\n",
       "3    8500   4000              8500\n",
       "4   10500   5000             10500\n",
       "5   12500   6000             12500\n",
       "6   14500   7000             14500\n",
       "7   16500   8000             16500\n",
       "8   18500   9000             18500\n",
       "9   20500  10000             20500\n",
       "10   None      0               500"
      ]
     },
     "execution_count": 16,
     "metadata": {},
     "output_type": "execute_result"
    }
   ],
   "source": [
    "df = pd.concat([df , df_new], ignore_index = True) #concat bedeutet verketten \n",
    "\n",
    "df"
   ]
  },
  {
   "cell_type": "code",
   "execution_count": 17,
   "metadata": {
    "deletable": false,
    "editable": false,
    "execution": {
     "iopub.execute_input": "2023-01-25T17:05:07.911128Z",
     "iopub.status.busy": "2023-01-25T17:05:07.910926Z",
     "iopub.status.idle": "2023-01-25T17:05:07.913826Z",
     "shell.execute_reply": "2023-01-25T17:05:07.913333Z"
    },
    "nbgrader": {
     "cell_type": "code",
     "checksum": "3e777f4ded4b780333c9e3080360bd67",
     "grade": true,
     "grade_id": "c-concat",
     "locked": true,
     "points": 2,
     "schema_version": 3,
     "solution": false,
     "task": false
    }
   },
   "outputs": [],
   "source": [
    "# check your code\n",
    "assert len(df) == 11\n",
    "assert df.loc[10, 'ads'] == 0"
   ]
  },
  {
   "cell_type": "code",
   "execution_count": 18,
   "metadata": {
    "execution": {
     "iopub.execute_input": "2023-01-25T17:05:07.916361Z",
     "iopub.status.busy": "2023-01-25T17:05:07.916160Z",
     "iopub.status.idle": "2023-01-25T17:05:07.922041Z",
     "shell.execute_reply": "2023-01-25T17:05:07.921547Z"
    },
    "slideshow": {
     "slide_type": "slide"
    }
   },
   "outputs": [
    {
     "data": {
      "text/html": [
       "<div>\n",
       "<style scoped>\n",
       "    .dataframe tbody tr th:only-of-type {\n",
       "        vertical-align: middle;\n",
       "    }\n",
       "\n",
       "    .dataframe tbody tr th {\n",
       "        vertical-align: top;\n",
       "    }\n",
       "\n",
       "    .dataframe thead th {\n",
       "        text-align: right;\n",
       "    }\n",
       "</style>\n",
       "<table border=\"1\" class=\"dataframe\">\n",
       "  <thead>\n",
       "    <tr style=\"text-align: right;\">\n",
       "      <th></th>\n",
       "      <th>sales</th>\n",
       "      <th>ads</th>\n",
       "      <th>sales_prediction</th>\n",
       "    </tr>\n",
       "  </thead>\n",
       "  <tbody>\n",
       "    <tr>\n",
       "      <th>0</th>\n",
       "      <td>2500</td>\n",
       "      <td>1000</td>\n",
       "      <td>2500</td>\n",
       "    </tr>\n",
       "    <tr>\n",
       "      <th>1</th>\n",
       "      <td>4500</td>\n",
       "      <td>2000</td>\n",
       "      <td>4500</td>\n",
       "    </tr>\n",
       "    <tr>\n",
       "      <th>2</th>\n",
       "      <td>6500</td>\n",
       "      <td>3000</td>\n",
       "      <td>6500</td>\n",
       "    </tr>\n",
       "    <tr>\n",
       "      <th>3</th>\n",
       "      <td>8500</td>\n",
       "      <td>4000</td>\n",
       "      <td>8500</td>\n",
       "    </tr>\n",
       "    <tr>\n",
       "      <th>4</th>\n",
       "      <td>10500</td>\n",
       "      <td>5000</td>\n",
       "      <td>10500</td>\n",
       "    </tr>\n",
       "    <tr>\n",
       "      <th>5</th>\n",
       "      <td>12500</td>\n",
       "      <td>6000</td>\n",
       "      <td>12500</td>\n",
       "    </tr>\n",
       "    <tr>\n",
       "      <th>6</th>\n",
       "      <td>14500</td>\n",
       "      <td>7000</td>\n",
       "      <td>14500</td>\n",
       "    </tr>\n",
       "    <tr>\n",
       "      <th>7</th>\n",
       "      <td>16500</td>\n",
       "      <td>8000</td>\n",
       "      <td>16500</td>\n",
       "    </tr>\n",
       "    <tr>\n",
       "      <th>8</th>\n",
       "      <td>18500</td>\n",
       "      <td>9000</td>\n",
       "      <td>18500</td>\n",
       "    </tr>\n",
       "    <tr>\n",
       "      <th>9</th>\n",
       "      <td>20500</td>\n",
       "      <td>10000</td>\n",
       "      <td>20500</td>\n",
       "    </tr>\n",
       "    <tr>\n",
       "      <th>10</th>\n",
       "      <td>None</td>\n",
       "      <td>0</td>\n",
       "      <td>500</td>\n",
       "    </tr>\n",
       "  </tbody>\n",
       "</table>\n",
       "</div>"
      ],
      "text/plain": [
       "    sales    ads  sales_prediction\n",
       "0    2500   1000              2500\n",
       "1    4500   2000              4500\n",
       "2    6500   3000              6500\n",
       "3    8500   4000              8500\n",
       "4   10500   5000             10500\n",
       "5   12500   6000             12500\n",
       "6   14500   7000             14500\n",
       "7   16500   8000             16500\n",
       "8   18500   9000             18500\n",
       "9   20500  10000             20500\n",
       "10   None      0               500"
      ]
     },
     "execution_count": 18,
     "metadata": {},
     "output_type": "execute_result"
    }
   ],
   "source": [
    "df"
   ]
  },
  {
   "cell_type": "code",
   "execution_count": 19,
   "metadata": {
    "execution": {
     "iopub.execute_input": "2023-01-25T17:05:07.924632Z",
     "iopub.status.busy": "2023-01-25T17:05:07.924432Z",
     "iopub.status.idle": "2023-01-25T17:05:07.983641Z",
     "shell.execute_reply": "2023-01-25T17:05:07.983034Z"
    },
    "slideshow": {
     "slide_type": "slide"
    }
   },
   "outputs": [
    {
     "data": {
      "text/html": [
       "\n",
       "<div id=\"altair-viz-1cf58bc6cafa455b8b3e685d649e6f06\"></div>\n",
       "<script type=\"text/javascript\">\n",
       "  var VEGA_DEBUG = (typeof VEGA_DEBUG == \"undefined\") ? {} : VEGA_DEBUG;\n",
       "  (function(spec, embedOpt){\n",
       "    let outputDiv = document.currentScript.previousElementSibling;\n",
       "    if (outputDiv.id !== \"altair-viz-1cf58bc6cafa455b8b3e685d649e6f06\") {\n",
       "      outputDiv = document.getElementById(\"altair-viz-1cf58bc6cafa455b8b3e685d649e6f06\");\n",
       "    }\n",
       "    const paths = {\n",
       "      \"vega\": \"https://cdn.jsdelivr.net/npm//vega@5?noext\",\n",
       "      \"vega-lib\": \"https://cdn.jsdelivr.net/npm//vega-lib?noext\",\n",
       "      \"vega-lite\": \"https://cdn.jsdelivr.net/npm//vega-lite@4.17.0?noext\",\n",
       "      \"vega-embed\": \"https://cdn.jsdelivr.net/npm//vega-embed@6?noext\",\n",
       "    };\n",
       "\n",
       "    function maybeLoadScript(lib, version) {\n",
       "      var key = `${lib.replace(\"-\", \"\")}_version`;\n",
       "      return (VEGA_DEBUG[key] == version) ?\n",
       "        Promise.resolve(paths[lib]) :\n",
       "        new Promise(function(resolve, reject) {\n",
       "          var s = document.createElement('script');\n",
       "          document.getElementsByTagName(\"head\")[0].appendChild(s);\n",
       "          s.async = true;\n",
       "          s.onload = () => {\n",
       "            VEGA_DEBUG[key] = version;\n",
       "            return resolve(paths[lib]);\n",
       "          };\n",
       "          s.onerror = () => reject(`Error loading script: ${paths[lib]}`);\n",
       "          s.src = paths[lib];\n",
       "        });\n",
       "    }\n",
       "\n",
       "    function showError(err) {\n",
       "      outputDiv.innerHTML = `<div class=\"error\" style=\"color:red;\">${err}</div>`;\n",
       "      throw err;\n",
       "    }\n",
       "\n",
       "    function displayChart(vegaEmbed) {\n",
       "      vegaEmbed(outputDiv, spec, embedOpt)\n",
       "        .catch(err => showError(`Javascript Error: ${err.message}<br>This usually means there's a typo in your chart specification. See the javascript console for the full traceback.`));\n",
       "    }\n",
       "\n",
       "    if(typeof define === \"function\" && define.amd) {\n",
       "      requirejs.config({paths});\n",
       "      require([\"vega-embed\"], displayChart, err => showError(`Error loading script: ${err.message}`));\n",
       "    } else {\n",
       "      maybeLoadScript(\"vega\", \"5\")\n",
       "        .then(() => maybeLoadScript(\"vega-lite\", \"4.17.0\"))\n",
       "        .then(() => maybeLoadScript(\"vega-embed\", \"6\"))\n",
       "        .catch(showError)\n",
       "        .then(() => displayChart(vegaEmbed));\n",
       "    }\n",
       "  })({\"config\": {\"view\": {\"continuousWidth\": 400, \"continuousHeight\": 300}}, \"layer\": [{\"mark\": \"point\", \"encoding\": {\"x\": {\"axis\": {\"title\": \"Ads (in $)\"}, \"field\": \"ads\", \"type\": \"quantitative\"}, \"y\": {\"axis\": {\"title\": \"Sales (in units)\"}, \"field\": \"sales\", \"type\": \"quantitative\"}}}, {\"mark\": \"line\", \"encoding\": {\"color\": {\"value\": \"#0001F5\"}, \"x\": {\"axis\": {\"title\": \"Ads (in $)\"}, \"field\": \"ads\", \"type\": \"quantitative\"}, \"y\": {\"axis\": {\"title\": \"Sales (in units)\"}, \"field\": \"sales_prediction\", \"type\": \"quantitative\"}}}, {\"data\": {\"name\": \"data-ef9085ebfb2565af8f84f4d7349c39ff\"}, \"mark\": {\"type\": \"point\", \"color\": \"red\", \"size\": 300, \"tooltip\": \"Ads = 0, Sales prediction = 500\"}, \"encoding\": {\"x\": {\"field\": \"ads\", \"type\": \"quantitative\"}, \"y\": {\"field\": \"sales_prediction\", \"type\": \"quantitative\"}}}], \"data\": {\"name\": \"data-3e6c58d43ec8e22916f0034dd68cf301\"}, \"$schema\": \"https://vega.github.io/schema/vega-lite/v4.17.0.json\", \"datasets\": {\"data-3e6c58d43ec8e22916f0034dd68cf301\": [{\"sales\": 2500, \"ads\": 1000, \"sales_prediction\": 2500}, {\"sales\": 4500, \"ads\": 2000, \"sales_prediction\": 4500}, {\"sales\": 6500, \"ads\": 3000, \"sales_prediction\": 6500}, {\"sales\": 8500, \"ads\": 4000, \"sales_prediction\": 8500}, {\"sales\": 10500, \"ads\": 5000, \"sales_prediction\": 10500}, {\"sales\": 12500, \"ads\": 6000, \"sales_prediction\": 12500}, {\"sales\": 14500, \"ads\": 7000, \"sales_prediction\": 14500}, {\"sales\": 16500, \"ads\": 8000, \"sales_prediction\": 16500}, {\"sales\": 18500, \"ads\": 9000, \"sales_prediction\": 18500}, {\"sales\": 20500, \"ads\": 10000, \"sales_prediction\": 20500}, {\"sales\": null, \"ads\": 0, \"sales_prediction\": 500}], \"data-ef9085ebfb2565af8f84f4d7349c39ff\": [{\"sales\": null, \"ads\": 0, \"sales_prediction\": 500}]}}, {\"mode\": \"vega-lite\"});\n",
       "</script>"
      ],
      "text/plain": [
       "alt.LayerChart(...)"
      ]
     },
     "execution_count": 19,
     "metadata": {},
     "output_type": "execute_result"
    }
   ],
   "source": [
    "chart_new = alt.Chart(df).mark_point().encode(\n",
    "   x=alt.X('ads', axis=alt.Axis(title='Ads (in $)')),\n",
    "   y=alt.Y('sales', axis=alt.Axis(title=\"Sales (in units)\"))\n",
    ")\n",
    "\n",
    "line_new = alt.Chart(df).mark_line().encode(\n",
    "         alt.X('ads', axis=alt.Axis(title='Ads (in $)')),\n",
    "         alt.Y('sales_prediction', axis=alt.Axis(title=\"Sales (in units)\")),\n",
    "         color=alt.value(\"#0001F5\"))\n",
    "\n",
    "callout_new = alt.Chart(df.loc[10:'sales_prediction']).mark_point(\n",
    "    color='red', \n",
    "    size=300, \n",
    "    tooltip=\"Ads = 0, Sales prediction = 500\"\n",
    ").encode(\n",
    "    x='ads',\n",
    "    y='sales_prediction'\n",
    ")\n",
    "\n",
    "chart_new + line_new + callout_new"
   ]
  }
 ],
 "metadata": {
  "kernelspec": {
   "display_name": "Python 3 (ipykernel)",
   "language": "python",
   "name": "python3"
  },
  "language_info": {
   "codemirror_mode": {
    "name": "ipython",
    "version": 3
   },
   "file_extension": ".py",
   "mimetype": "text/x-python",
   "name": "python",
   "nbconvert_exporter": "python",
   "pygments_lexer": "ipython3",
   "version": "3.9.13"
  },
  "vscode": {
   "interpreter": {
    "hash": "5c3dce5b3145135b465186bdee15c725a06d534d3b172a4514b19574144e4fd2"
   }
  }
 },
 "nbformat": 4,
 "nbformat_minor": 2
}
