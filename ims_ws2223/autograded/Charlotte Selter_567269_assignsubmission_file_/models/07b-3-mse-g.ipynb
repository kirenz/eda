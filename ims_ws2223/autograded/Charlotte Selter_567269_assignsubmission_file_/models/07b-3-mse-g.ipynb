{
 "cells": [
  {
   "cell_type": "markdown",
   "metadata": {},
   "source": [
    "**Important notes:**\n",
    "\n",
    "**Important notes:**\n",
    "\n",
    "- You can complete this exercise in 1) Colab or 2) on your local machine\n",
    "  1. **Colab**: Click on the 🚀 symbol at the top of the page and select Colab. When you finished the exercise, download the file: `File` > `Download` > `ipynb`. \n",
    "  2. **Local**: click on the download button at the top of the page and choose `.ipynb`. Activate the conda environment `mr` before you start: `conda activate mr`\n",
    "\n",
    "\n",
    "- Don't change the name of the file and don't delete any cells.\n",
    "\n",
    "\n",
    "- Make sure you fill in any place that says  <font color='green'> \\# YOUR CODE HERE </font> or \"YOUR ANSWER HERE\", as well as your name and (if necessary) collaborators below.\n",
    "\n",
    "\n",
    "- The function **NotImplementedError()** prevents you from hand in assignments with empty cells. Simply delete the function if you start working on a cell with this entry.\n",
    "\n",
    "\n",
    "- Before you turn this problem in (i.e., after you completed all tasks), make sure everything runs as expected: Restart the kernel and run all cells:\n",
    "  - in *Colab*: in the menubar, select `Runtime` and click on `Restart and run all`\n",
    "  - if you use *Jupyter Notebook*: in the menubar, select `Kernel` and click on `Restart & Run All`\n",
    "  - if you use *Visual Studio Code*: select \"Restart\" and then \"Run All\" \n",
    "\n",
    "\n",
    "Good luck!"
   ]
  },
  {
   "cell_type": "code",
   "execution_count": 1,
   "metadata": {
    "execution": {
     "iopub.execute_input": "2023-01-25T17:02:35.413933Z",
     "iopub.status.busy": "2023-01-25T17:02:35.413650Z",
     "iopub.status.idle": "2023-01-25T17:02:35.423909Z",
     "shell.execute_reply": "2023-01-25T17:02:35.423271Z"
    }
   },
   "outputs": [],
   "source": [
    "NAME = \"cs332\"\n",
    "COLLABORATORS = \"\""
   ]
  },
  {
   "cell_type": "code",
   "execution_count": 2,
   "metadata": {
    "execution": {
     "iopub.execute_input": "2023-01-25T17:02:35.427052Z",
     "iopub.status.busy": "2023-01-25T17:02:35.426826Z",
     "iopub.status.idle": "2023-01-25T17:02:35.429711Z",
     "shell.execute_reply": "2023-01-25T17:02:35.429183Z"
    }
   },
   "outputs": [],
   "source": [
    "import IPython\n",
    "assert IPython.version_info[0] >= 3, \"Your version of IPython is too old, please update it.\""
   ]
  },
  {
   "cell_type": "markdown",
   "metadata": {},
   "source": [
    "---"
   ]
  },
  {
   "cell_type": "markdown",
   "metadata": {
    "slideshow": {
     "slide_type": "slide"
    }
   },
   "source": [
    "# Find the best model"
   ]
  },
  {
   "cell_type": "markdown",
   "metadata": {
    "slideshow": {
     "slide_type": "fragment"
    }
   },
   "source": [
    "## Setup"
   ]
  },
  {
   "cell_type": "code",
   "execution_count": 3,
   "metadata": {
    "execution": {
     "iopub.execute_input": "2023-01-25T17:02:35.433390Z",
     "iopub.status.busy": "2023-01-25T17:02:35.433167Z",
     "iopub.status.idle": "2023-01-25T17:02:36.252462Z",
     "shell.execute_reply": "2023-01-25T17:02:36.251854Z"
    },
    "slideshow": {
     "slide_type": "fragment"
    }
   },
   "outputs": [],
   "source": [
    "import pandas as pd\n",
    "\n",
    "from sklearn.linear_model import LinearRegression\n",
    "from sklearn.metrics import mean_squared_error\n",
    "from sklearn.metrics import mean_absolute_error"
   ]
  },
  {
   "cell_type": "markdown",
   "metadata": {
    "slideshow": {
     "slide_type": "slide"
    }
   },
   "source": [
    "## Data"
   ]
  },
  {
   "cell_type": "markdown",
   "metadata": {
    "slideshow": {
     "slide_type": "slide"
    }
   },
   "source": [
    "### Create data"
   ]
  },
  {
   "cell_type": "code",
   "execution_count": 4,
   "metadata": {
    "execution": {
     "iopub.execute_input": "2023-01-25T17:02:36.255969Z",
     "iopub.status.busy": "2023-01-25T17:02:36.255666Z",
     "iopub.status.idle": "2023-01-25T17:02:36.259462Z",
     "shell.execute_reply": "2023-01-25T17:02:36.258890Z"
    },
    "slideshow": {
     "slide_type": "fragment"
    }
   },
   "outputs": [],
   "source": [
    "df = pd.DataFrame(\n",
    "    {'sales': [2500, 4500, 6500, 8500, 10500, 12500, 14500, 16500, 18500, 20500],\n",
    "      'ads'  : [900, 1400, 3600, 3800, 6200, 5200, 6800, 8300, 9800, 10100]}\n",
    ")"
   ]
  },
  {
   "cell_type": "markdown",
   "metadata": {},
   "source": [
    "### Variable lists"
   ]
  },
  {
   "cell_type": "markdown",
   "metadata": {
    "slideshow": {
     "slide_type": "slide"
    }
   },
   "source": [
    "We need to prepare our data for the scikit-learn model (which does not work with Pandas dataframes):\n",
    "\n",
    "- We create the variable `y_label` (our dependent variable, also called label): choose \"`sales`\" (this step will be helpful in later notebooks)\n",
    "\n",
    "- We select our features (independent variables) and save them as `X`: choose \"`ads`\"\n",
    "\n",
    "- Select and save the dependent variable as `y`"
   ]
  },
  {
   "cell_type": "markdown",
   "metadata": {
    "slideshow": {
     "slide_type": "slide"
    }
   },
   "source": [
    "Hint:\n",
    "\n",
    "```pyhton\n",
    "y_label = \"___\"\n",
    "\n",
    "X = df[[\"___\"]]\n",
    "y = df[___]\n",
    "```"
   ]
  },
  {
   "cell_type": "code",
   "execution_count": 5,
   "metadata": {
    "deletable": false,
    "execution": {
     "iopub.execute_input": "2023-01-25T17:02:36.263308Z",
     "iopub.status.busy": "2023-01-25T17:02:36.263043Z",
     "iopub.status.idle": "2023-01-25T17:02:36.672212Z",
     "shell.execute_reply": "2023-01-25T17:02:36.671655Z"
    },
    "nbgrader": {
     "cell_type": "code",
     "checksum": "add6035052913f4272accf7259c11dc5",
     "grade": false,
     "grade_id": "y_label",
     "locked": false,
     "schema_version": 3,
     "solution": true,
     "task": false
    },
    "slideshow": {
     "slide_type": "fragment"
    }
   },
   "outputs": [
    {
     "ename": "NotImplementedError",
     "evalue": "",
     "output_type": "error",
     "traceback": [
      "\u001b[0;31m---------------------------------------------------------------------------\u001b[0m",
      "\u001b[0;31mNotImplementedError\u001b[0m                       Traceback (most recent call last)",
      "Cell \u001b[0;32mIn [5], line 2\u001b[0m\n\u001b[1;32m      1\u001b[0m \u001b[38;5;66;03m# YOUR CODE HERE\u001b[39;00m\n\u001b[0;32m----> 2\u001b[0m \u001b[38;5;28;01mraise\u001b[39;00m \u001b[38;5;167;01mNotImplementedError\u001b[39;00m()\n",
      "\u001b[0;31mNotImplementedError\u001b[0m: "
     ]
    }
   ],
   "source": [
    "# YOUR CODE HERE\n",
    "raise NotImplementedError()"
   ]
  },
  {
   "cell_type": "code",
   "execution_count": 6,
   "metadata": {
    "execution": {
     "iopub.execute_input": "2023-01-25T17:02:36.675072Z",
     "iopub.status.busy": "2023-01-25T17:02:36.674842Z",
     "iopub.status.idle": "2023-01-25T17:02:36.686954Z",
     "shell.execute_reply": "2023-01-25T17:02:36.686357Z"
    }
   },
   "outputs": [
    {
     "ename": "NameError",
     "evalue": "name 'X' is not defined",
     "output_type": "error",
     "traceback": [
      "\u001b[0;31m---------------------------------------------------------------------------\u001b[0m",
      "\u001b[0;31mNameError\u001b[0m                                 Traceback (most recent call last)",
      "Cell \u001b[0;32mIn [6], line 1\u001b[0m\n\u001b[0;32m----> 1\u001b[0m X\n",
      "\u001b[0;31mNameError\u001b[0m: name 'X' is not defined"
     ]
    }
   ],
   "source": [
    "X"
   ]
  },
  {
   "cell_type": "code",
   "execution_count": 7,
   "metadata": {
    "execution": {
     "iopub.execute_input": "2023-01-25T17:02:36.689842Z",
     "iopub.status.busy": "2023-01-25T17:02:36.689610Z",
     "iopub.status.idle": "2023-01-25T17:02:36.700069Z",
     "shell.execute_reply": "2023-01-25T17:02:36.699559Z"
    }
   },
   "outputs": [
    {
     "ename": "NameError",
     "evalue": "name 'y' is not defined",
     "output_type": "error",
     "traceback": [
      "\u001b[0;31m---------------------------------------------------------------------------\u001b[0m",
      "\u001b[0;31mNameError\u001b[0m                                 Traceback (most recent call last)",
      "Cell \u001b[0;32mIn [7], line 1\u001b[0m\n\u001b[0;32m----> 1\u001b[0m y\n",
      "\u001b[0;31mNameError\u001b[0m: name 'y' is not defined"
     ]
    }
   ],
   "source": [
    "y"
   ]
  },
  {
   "cell_type": "code",
   "execution_count": 8,
   "metadata": {
    "deletable": false,
    "editable": false,
    "execution": {
     "iopub.execute_input": "2023-01-25T17:02:36.702869Z",
     "iopub.status.busy": "2023-01-25T17:02:36.702649Z",
     "iopub.status.idle": "2023-01-25T17:02:36.714063Z",
     "shell.execute_reply": "2023-01-25T17:02:36.713532Z"
    },
    "nbgrader": {
     "cell_type": "code",
     "checksum": "4f1853b04dc95e6d21116c6627ed897b",
     "grade": true,
     "grade_id": "c",
     "locked": true,
     "points": 2,
     "schema_version": 3,
     "solution": false,
     "task": false
    },
    "slideshow": {
     "slide_type": "fragment"
    }
   },
   "outputs": [
    {
     "ename": "NameError",
     "evalue": "name 'X' is not defined",
     "output_type": "error",
     "traceback": [
      "\u001b[0;31m---------------------------------------------------------------------------\u001b[0m",
      "\u001b[0;31mNameError\u001b[0m                                 Traceback (most recent call last)",
      "Cell \u001b[0;32mIn [8], line 2\u001b[0m\n\u001b[1;32m      1\u001b[0m \u001b[38;5;66;03m### Check your code (note that there are some hidden checks)\u001b[39;00m\n\u001b[0;32m----> 2\u001b[0m \u001b[38;5;28;01massert\u001b[39;00m \u001b[38;5;28mlen\u001b[39m(X) \u001b[38;5;241m==\u001b[39m \u001b[38;5;241m10\u001b[39m\n\u001b[1;32m      4\u001b[0m \u001b[38;5;66;03m### BEGIN HIDDEN TESTS \u001b[39;00m\n\u001b[1;32m      5\u001b[0m \u001b[38;5;28;01massert\u001b[39;00m y_label \u001b[38;5;241m==\u001b[39m \u001b[38;5;124m\"\u001b[39m\u001b[38;5;124msales\u001b[39m\u001b[38;5;124m\"\u001b[39m\n",
      "\u001b[0;31mNameError\u001b[0m: name 'X' is not defined"
     ]
    }
   ],
   "source": [
    "### Check your code (note that there are some hidden checks)\n",
    "assert len(X) == 10\n",
    "\n",
    "### BEGIN HIDDEN TESTS \n",
    "assert y_label == \"sales\"\n",
    "assert len(y) == 10\n",
    "### END HIDDEN TESTS"
   ]
  },
  {
   "cell_type": "markdown",
   "metadata": {
    "slideshow": {
     "slide_type": "slide"
    }
   },
   "source": [
    "## Model"
   ]
  },
  {
   "cell_type": "markdown",
   "metadata": {
    "slideshow": {
     "slide_type": "fragment"
    }
   },
   "source": [
    "### Select model"
   ]
  },
  {
   "cell_type": "markdown",
   "metadata": {
    "slideshow": {
     "slide_type": "slide"
    }
   },
   "source": [
    "Hint:\n",
    "\n",
    "Save the `LinearRegression()`estimator as object called `reg`\n",
    "\n",
    "---\n",
    "\n",
    "```pyhton\n",
    "___ = ___()\n",
    "```\n",
    "\n",
    "---"
   ]
  },
  {
   "cell_type": "code",
   "execution_count": 9,
   "metadata": {
    "deletable": false,
    "execution": {
     "iopub.execute_input": "2023-01-25T17:02:36.717360Z",
     "iopub.status.busy": "2023-01-25T17:02:36.717142Z",
     "iopub.status.idle": "2023-01-25T17:02:36.727667Z",
     "shell.execute_reply": "2023-01-25T17:02:36.727039Z"
    },
    "nbgrader": {
     "cell_type": "code",
     "checksum": "b926f642ff4d1525c6d4966b09646dd2",
     "grade": false,
     "grade_id": "reg",
     "locked": false,
     "schema_version": 3,
     "solution": true,
     "task": false
    },
    "slideshow": {
     "slide_type": "fragment"
    }
   },
   "outputs": [
    {
     "ename": "NotImplementedError",
     "evalue": "",
     "output_type": "error",
     "traceback": [
      "\u001b[0;31m---------------------------------------------------------------------------\u001b[0m",
      "\u001b[0;31mNotImplementedError\u001b[0m                       Traceback (most recent call last)",
      "Cell \u001b[0;32mIn [9], line 2\u001b[0m\n\u001b[1;32m      1\u001b[0m \u001b[38;5;66;03m# YOUR CODE HERE\u001b[39;00m\n\u001b[0;32m----> 2\u001b[0m \u001b[38;5;28;01mraise\u001b[39;00m \u001b[38;5;167;01mNotImplementedError\u001b[39;00m()\n",
      "\u001b[0;31mNotImplementedError\u001b[0m: "
     ]
    }
   ],
   "source": [
    "# YOUR CODE HERE\n",
    "raise NotImplementedError()"
   ]
  },
  {
   "cell_type": "code",
   "execution_count": 10,
   "metadata": {
    "deletable": false,
    "editable": false,
    "execution": {
     "iopub.execute_input": "2023-01-25T17:02:36.730707Z",
     "iopub.status.busy": "2023-01-25T17:02:36.730442Z",
     "iopub.status.idle": "2023-01-25T17:02:36.742543Z",
     "shell.execute_reply": "2023-01-25T17:02:36.742010Z"
    },
    "nbgrader": {
     "cell_type": "code",
     "checksum": "023e438413f8b45ce577ba7abe5acba9",
     "grade": true,
     "grade_id": "c-reg",
     "locked": true,
     "points": 2,
     "schema_version": 3,
     "solution": false,
     "task": false
    },
    "slideshow": {
     "slide_type": "fragment"
    }
   },
   "outputs": [
    {
     "ename": "NameError",
     "evalue": "name 'reg' is not defined",
     "output_type": "error",
     "traceback": [
      "\u001b[0;31m---------------------------------------------------------------------------\u001b[0m",
      "\u001b[0;31mNameError\u001b[0m                                 Traceback (most recent call last)",
      "Cell \u001b[0;32mIn [10], line 2\u001b[0m\n\u001b[1;32m      1\u001b[0m \u001b[38;5;66;03m### Check your code\u001b[39;00m\n\u001b[0;32m----> 2\u001b[0m \u001b[38;5;28;01massert\u001b[39;00m reg\u001b[38;5;241m.\u001b[39mget_params() \u001b[38;5;241m==\u001b[39m {\u001b[38;5;124m'\u001b[39m\u001b[38;5;124mcopy_X\u001b[39m\u001b[38;5;124m'\u001b[39m: \u001b[38;5;28;01mTrue\u001b[39;00m, \u001b[38;5;124m'\u001b[39m\u001b[38;5;124mfit_intercept\u001b[39m\u001b[38;5;124m'\u001b[39m: \u001b[38;5;28;01mTrue\u001b[39;00m, \u001b[38;5;124m'\u001b[39m\u001b[38;5;124mn_jobs\u001b[39m\u001b[38;5;124m'\u001b[39m: \u001b[38;5;28;01mNone\u001b[39;00m, \u001b[38;5;124m'\u001b[39m\u001b[38;5;124mnormalize\u001b[39m\u001b[38;5;124m'\u001b[39m: \u001b[38;5;124m'\u001b[39m\u001b[38;5;124mdeprecated\u001b[39m\u001b[38;5;124m'\u001b[39m, \u001b[38;5;124m'\u001b[39m\u001b[38;5;124mpositive\u001b[39m\u001b[38;5;124m'\u001b[39m: \u001b[38;5;28;01mFalse\u001b[39;00m}\n",
      "\u001b[0;31mNameError\u001b[0m: name 'reg' is not defined"
     ]
    }
   ],
   "source": [
    "### Check your code\n",
    "assert reg.get_params() == {'copy_X': True, 'fit_intercept': True, 'n_jobs': None, 'normalize': 'deprecated', 'positive': False}"
   ]
  },
  {
   "cell_type": "markdown",
   "metadata": {
    "slideshow": {
     "slide_type": "fragment"
    }
   },
   "source": [
    "### Fit model"
   ]
  },
  {
   "cell_type": "markdown",
   "metadata": {
    "slideshow": {
     "slide_type": "slide"
    }
   },
   "source": [
    "\n",
    "Fit the model (your `reg` object) to the data with `.fit()`.\n",
    "\n",
    "In the fit function, you first need to provide the features and then the dependent variable (features, dependent variable)\n",
    "\n",
    "Hint:\n",
    "\n",
    "\n",
    "---\n",
    "\n",
    "```pyhton\n",
    "___.___(___, ___)\n",
    "```\n",
    "\n",
    "---\n",
    "\n"
   ]
  },
  {
   "cell_type": "code",
   "execution_count": 11,
   "metadata": {
    "deletable": false,
    "execution": {
     "iopub.execute_input": "2023-01-25T17:02:36.745584Z",
     "iopub.status.busy": "2023-01-25T17:02:36.745347Z",
     "iopub.status.idle": "2023-01-25T17:02:36.755601Z",
     "shell.execute_reply": "2023-01-25T17:02:36.755068Z"
    },
    "nbgrader": {
     "cell_type": "code",
     "checksum": "ca5d36fdfae75827d686d189279e23e0",
     "grade": false,
     "grade_id": "reg-fit",
     "locked": false,
     "schema_version": 3,
     "solution": true,
     "task": false
    },
    "slideshow": {
     "slide_type": "fragment"
    }
   },
   "outputs": [
    {
     "ename": "NotImplementedError",
     "evalue": "",
     "output_type": "error",
     "traceback": [
      "\u001b[0;31m---------------------------------------------------------------------------\u001b[0m",
      "\u001b[0;31mNotImplementedError\u001b[0m                       Traceback (most recent call last)",
      "Cell \u001b[0;32mIn [11], line 2\u001b[0m\n\u001b[1;32m      1\u001b[0m \u001b[38;5;66;03m# YOUR CODE HERE\u001b[39;00m\n\u001b[0;32m----> 2\u001b[0m \u001b[38;5;28;01mraise\u001b[39;00m \u001b[38;5;167;01mNotImplementedError\u001b[39;00m()\n",
      "\u001b[0;31mNotImplementedError\u001b[0m: "
     ]
    }
   ],
   "source": [
    "# YOUR CODE HERE\n",
    "raise NotImplementedError()"
   ]
  },
  {
   "cell_type": "code",
   "execution_count": 12,
   "metadata": {
    "deletable": false,
    "editable": false,
    "execution": {
     "iopub.execute_input": "2023-01-25T17:02:36.758264Z",
     "iopub.status.busy": "2023-01-25T17:02:36.758051Z",
     "iopub.status.idle": "2023-01-25T17:02:36.768879Z",
     "shell.execute_reply": "2023-01-25T17:02:36.768158Z"
    },
    "nbgrader": {
     "cell_type": "code",
     "checksum": "5e29d6d43ff977c4ec66994f9871ae5c",
     "grade": true,
     "grade_id": "c-reg-fit",
     "locked": true,
     "points": 2,
     "schema_version": 3,
     "solution": false,
     "task": false
    },
    "slideshow": {
     "slide_type": "fragment"
    }
   },
   "outputs": [
    {
     "ename": "NameError",
     "evalue": "name 'reg' is not defined",
     "output_type": "error",
     "traceback": [
      "\u001b[0;31m---------------------------------------------------------------------------\u001b[0m",
      "\u001b[0;31mNameError\u001b[0m                                 Traceback (most recent call last)",
      "Cell \u001b[0;32mIn [12], line 2\u001b[0m\n\u001b[1;32m      1\u001b[0m \u001b[38;5;66;03m### Check your code\u001b[39;00m\n\u001b[0;32m----> 2\u001b[0m \u001b[38;5;28;01massert\u001b[39;00m reg\u001b[38;5;241m.\u001b[39mpositive \u001b[38;5;241m==\u001b[39m \u001b[38;5;28;01mFalse\u001b[39;00m\n",
      "\u001b[0;31mNameError\u001b[0m: name 'reg' is not defined"
     ]
    }
   ],
   "source": [
    "### Check your code\n",
    "assert reg.positive == False"
   ]
  },
  {
   "cell_type": "markdown",
   "metadata": {
    "slideshow": {
     "slide_type": "slide"
    }
   },
   "source": [
    "### Coefficients"
   ]
  },
  {
   "cell_type": "code",
   "execution_count": 13,
   "metadata": {
    "execution": {
     "iopub.execute_input": "2023-01-25T17:02:36.771858Z",
     "iopub.status.busy": "2023-01-25T17:02:36.771627Z",
     "iopub.status.idle": "2023-01-25T17:02:36.782212Z",
     "shell.execute_reply": "2023-01-25T17:02:36.781678Z"
    },
    "slideshow": {
     "slide_type": "fragment"
    }
   },
   "outputs": [
    {
     "ename": "NameError",
     "evalue": "name 'reg' is not defined",
     "output_type": "error",
     "traceback": [
      "\u001b[0;31m---------------------------------------------------------------------------\u001b[0m",
      "\u001b[0;31mNameError\u001b[0m                                 Traceback (most recent call last)",
      "Cell \u001b[0;32mIn [13], line 2\u001b[0m\n\u001b[1;32m      1\u001b[0m \u001b[38;5;66;03m# Intercept\u001b[39;00m\n\u001b[0;32m----> 2\u001b[0m reg\u001b[38;5;241m.\u001b[39mintercept_\n",
      "\u001b[0;31mNameError\u001b[0m: name 'reg' is not defined"
     ]
    }
   ],
   "source": [
    "# Intercept\n",
    "reg.intercept_"
   ]
  },
  {
   "cell_type": "code",
   "execution_count": 14,
   "metadata": {
    "execution": {
     "iopub.execute_input": "2023-01-25T17:02:36.784926Z",
     "iopub.status.busy": "2023-01-25T17:02:36.784698Z",
     "iopub.status.idle": "2023-01-25T17:02:36.795427Z",
     "shell.execute_reply": "2023-01-25T17:02:36.794890Z"
    },
    "slideshow": {
     "slide_type": "fragment"
    }
   },
   "outputs": [
    {
     "ename": "NameError",
     "evalue": "name 'reg' is not defined",
     "output_type": "error",
     "traceback": [
      "\u001b[0;31m---------------------------------------------------------------------------\u001b[0m",
      "\u001b[0;31mNameError\u001b[0m                                 Traceback (most recent call last)",
      "Cell \u001b[0;32mIn [14], line 2\u001b[0m\n\u001b[1;32m      1\u001b[0m \u001b[38;5;66;03m# Slope\u001b[39;00m\n\u001b[0;32m----> 2\u001b[0m reg\u001b[38;5;241m.\u001b[39mcoef_\n",
      "\u001b[0;31mNameError\u001b[0m: name 'reg' is not defined"
     ]
    }
   ],
   "source": [
    "# Slope\n",
    "reg.coef_"
   ]
  },
  {
   "cell_type": "markdown",
   "metadata": {
    "slideshow": {
     "slide_type": "slide"
    }
   },
   "source": [
    "### Make predictions"
   ]
  },
  {
   "cell_type": "markdown",
   "metadata": {
    "slideshow": {
     "slide_type": "slide"
    }
   },
   "source": [
    "\n",
    "Use your model to:\n",
    "\n",
    "- predict sales from your ads (`X`) values with the method `.predict()`\n",
    "\n",
    "- Save the result as `y_pred`\n",
    "\n",
    "Hint:\n",
    "\n",
    "---\n",
    "\n",
    "```pyhton\n",
    "___ = ___.___(___)\n",
    "```\n",
    "\n",
    "---\n",
    "\n"
   ]
  },
  {
   "cell_type": "code",
   "execution_count": 15,
   "metadata": {
    "deletable": false,
    "execution": {
     "iopub.execute_input": "2023-01-25T17:02:36.798490Z",
     "iopub.status.busy": "2023-01-25T17:02:36.798263Z",
     "iopub.status.idle": "2023-01-25T17:02:36.809006Z",
     "shell.execute_reply": "2023-01-25T17:02:36.808455Z"
    },
    "nbgrader": {
     "cell_type": "code",
     "checksum": "25a99ab2fc2d9a60ae6645d79864c061",
     "grade": false,
     "grade_id": "y-pred",
     "locked": false,
     "schema_version": 3,
     "solution": true,
     "task": false
    },
    "slideshow": {
     "slide_type": "fragment"
    }
   },
   "outputs": [
    {
     "ename": "NotImplementedError",
     "evalue": "",
     "output_type": "error",
     "traceback": [
      "\u001b[0;31m---------------------------------------------------------------------------\u001b[0m",
      "\u001b[0;31mNotImplementedError\u001b[0m                       Traceback (most recent call last)",
      "Cell \u001b[0;32mIn [15], line 2\u001b[0m\n\u001b[1;32m      1\u001b[0m \u001b[38;5;66;03m# YOUR CODE HERE\u001b[39;00m\n\u001b[0;32m----> 2\u001b[0m \u001b[38;5;28;01mraise\u001b[39;00m \u001b[38;5;167;01mNotImplementedError\u001b[39;00m()\n",
      "\u001b[0;31mNotImplementedError\u001b[0m: "
     ]
    }
   ],
   "source": [
    "# YOUR CODE HERE\n",
    "raise NotImplementedError()"
   ]
  },
  {
   "cell_type": "code",
   "execution_count": 16,
   "metadata": {
    "execution": {
     "iopub.execute_input": "2023-01-25T17:02:36.811933Z",
     "iopub.status.busy": "2023-01-25T17:02:36.811691Z",
     "iopub.status.idle": "2023-01-25T17:02:36.822508Z",
     "shell.execute_reply": "2023-01-25T17:02:36.821908Z"
    }
   },
   "outputs": [
    {
     "ename": "NameError",
     "evalue": "name 'y_pred' is not defined",
     "output_type": "error",
     "traceback": [
      "\u001b[0;31m---------------------------------------------------------------------------\u001b[0m",
      "\u001b[0;31mNameError\u001b[0m                                 Traceback (most recent call last)",
      "Cell \u001b[0;32mIn [16], line 1\u001b[0m\n\u001b[0;32m----> 1\u001b[0m y_pred[\u001b[38;5;241m0\u001b[39m]\n",
      "\u001b[0;31mNameError\u001b[0m: name 'y_pred' is not defined"
     ]
    }
   ],
   "source": [
    "y_pred[0]"
   ]
  },
  {
   "cell_type": "code",
   "execution_count": 17,
   "metadata": {
    "deletable": false,
    "editable": false,
    "execution": {
     "iopub.execute_input": "2023-01-25T17:02:36.825577Z",
     "iopub.status.busy": "2023-01-25T17:02:36.825311Z",
     "iopub.status.idle": "2023-01-25T17:02:36.836368Z",
     "shell.execute_reply": "2023-01-25T17:02:36.835832Z"
    },
    "nbgrader": {
     "cell_type": "code",
     "checksum": "da6e07611db08003ac064dfb4bfe72e4",
     "grade": true,
     "grade_id": "c-y-pred",
     "locked": true,
     "points": 2,
     "schema_version": 3,
     "solution": false,
     "task": false
    },
    "slideshow": {
     "slide_type": "fragment"
    }
   },
   "outputs": [
    {
     "ename": "NameError",
     "evalue": "name 'y_pred' is not defined",
     "output_type": "error",
     "traceback": [
      "\u001b[0;31m---------------------------------------------------------------------------\u001b[0m",
      "\u001b[0;31mNameError\u001b[0m                                 Traceback (most recent call last)",
      "Cell \u001b[0;32mIn [17], line 2\u001b[0m\n\u001b[1;32m      1\u001b[0m \u001b[38;5;66;03m### Check your code\u001b[39;00m\n\u001b[0;32m----> 2\u001b[0m \u001b[38;5;28;01massert\u001b[39;00m \u001b[38;5;241m2836\u001b[39m \u001b[38;5;241m<\u001b[39m y_pred[\u001b[38;5;241m0\u001b[39m] \u001b[38;5;241m<\u001b[39m  \u001b[38;5;241m2840\u001b[39m\n",
      "\u001b[0;31mNameError\u001b[0m: name 'y_pred' is not defined"
     ]
    }
   ],
   "source": [
    "### Check your code\n",
    "assert 2836 < y_pred[0] <  2840"
   ]
  },
  {
   "cell_type": "markdown",
   "metadata": {
    "slideshow": {
     "slide_type": "slide"
    }
   },
   "source": [
    "### Evaluation"
   ]
  },
  {
   "cell_type": "markdown",
   "metadata": {
    "slideshow": {
     "slide_type": "slide"
    }
   },
   "source": [
    "#### Mean squared error"
   ]
  },
  {
   "cell_type": "markdown",
   "metadata": {
    "slideshow": {
     "slide_type": "slide"
    }
   },
   "source": [
    "Use the scikit-learn function `mean_squared_error()` to calculate the mean squared error and save the result as `mse`\n",
    "\n",
    "Hint:\n",
    "\n",
    "---\n",
    "\n",
    "```pyhton\n",
    "___ = ___(___, ___)\n",
    "```\n",
    "\n",
    "---"
   ]
  },
  {
   "cell_type": "code",
   "execution_count": 18,
   "metadata": {
    "deletable": false,
    "execution": {
     "iopub.execute_input": "2023-01-25T17:02:36.840068Z",
     "iopub.status.busy": "2023-01-25T17:02:36.839838Z",
     "iopub.status.idle": "2023-01-25T17:02:36.850062Z",
     "shell.execute_reply": "2023-01-25T17:02:36.849587Z"
    },
    "nbgrader": {
     "cell_type": "code",
     "checksum": "777256bec5c11df90dbb9d0f4a4e0842",
     "grade": false,
     "grade_id": "mse",
     "locked": false,
     "schema_version": 3,
     "solution": true,
     "task": false
    },
    "slideshow": {
     "slide_type": "fragment"
    }
   },
   "outputs": [
    {
     "ename": "NotImplementedError",
     "evalue": "",
     "output_type": "error",
     "traceback": [
      "\u001b[0;31m---------------------------------------------------------------------------\u001b[0m",
      "\u001b[0;31mNotImplementedError\u001b[0m                       Traceback (most recent call last)",
      "Cell \u001b[0;32mIn [18], line 2\u001b[0m\n\u001b[1;32m      1\u001b[0m \u001b[38;5;66;03m# YOUR CODE HERE\u001b[39;00m\n\u001b[0;32m----> 2\u001b[0m \u001b[38;5;28;01mraise\u001b[39;00m \u001b[38;5;167;01mNotImplementedError\u001b[39;00m()\n",
      "\u001b[0;31mNotImplementedError\u001b[0m: "
     ]
    }
   ],
   "source": [
    "# YOUR CODE HERE\n",
    "raise NotImplementedError()"
   ]
  },
  {
   "cell_type": "code",
   "execution_count": 19,
   "metadata": {
    "execution": {
     "iopub.execute_input": "2023-01-25T17:02:36.852644Z",
     "iopub.status.busy": "2023-01-25T17:02:36.852432Z",
     "iopub.status.idle": "2023-01-25T17:02:36.862834Z",
     "shell.execute_reply": "2023-01-25T17:02:36.862276Z"
    },
    "slideshow": {
     "slide_type": "subslide"
    }
   },
   "outputs": [
    {
     "ename": "NameError",
     "evalue": "name 'mse' is not defined",
     "output_type": "error",
     "traceback": [
      "\u001b[0;31m---------------------------------------------------------------------------\u001b[0m",
      "\u001b[0;31mNameError\u001b[0m                                 Traceback (most recent call last)",
      "Cell \u001b[0;32mIn [19], line 1\u001b[0m\n\u001b[0;32m----> 1\u001b[0m \u001b[38;5;28mprint\u001b[39m(\u001b[38;5;124mf\u001b[39m\u001b[38;5;124m'\u001b[39m\u001b[38;5;124mThe mean squared error equals \u001b[39m\u001b[38;5;132;01m{\u001b[39;00mmse\u001b[38;5;132;01m:\u001b[39;00m\u001b[38;5;124m.0f\u001b[39m\u001b[38;5;132;01m}\u001b[39;00m\u001b[38;5;124m \u001b[39m\u001b[38;5;124m'\u001b[39m)\n",
      "\u001b[0;31mNameError\u001b[0m: name 'mse' is not defined"
     ]
    }
   ],
   "source": [
    "print(f'The mean squared error equals {mse:.0f} ')"
   ]
  },
  {
   "cell_type": "code",
   "execution_count": 20,
   "metadata": {
    "deletable": false,
    "editable": false,
    "execution": {
     "iopub.execute_input": "2023-01-25T17:02:36.866982Z",
     "iopub.status.busy": "2023-01-25T17:02:36.866668Z",
     "iopub.status.idle": "2023-01-25T17:02:36.878325Z",
     "shell.execute_reply": "2023-01-25T17:02:36.877771Z"
    },
    "nbgrader": {
     "cell_type": "code",
     "checksum": "d79d653e00a9e34c3106ec6cc2f5fa80",
     "grade": true,
     "grade_id": "c-mse",
     "locked": true,
     "points": 2,
     "schema_version": 3,
     "solution": false,
     "task": false
    },
    "slideshow": {
     "slide_type": "subslide"
    }
   },
   "outputs": [
    {
     "ename": "NameError",
     "evalue": "name 'mse' is not defined",
     "output_type": "error",
     "traceback": [
      "\u001b[0;31m---------------------------------------------------------------------------\u001b[0m",
      "\u001b[0;31mNameError\u001b[0m                                 Traceback (most recent call last)",
      "Cell \u001b[0;32mIn [20], line 2\u001b[0m\n\u001b[1;32m      1\u001b[0m \u001b[38;5;66;03m### Check your code\u001b[39;00m\n\u001b[0;32m----> 2\u001b[0m \u001b[38;5;28;01massert\u001b[39;00m \u001b[38;5;241m1160738\u001b[39m \u001b[38;5;241m<\u001b[39m mse \u001b[38;5;241m<\u001b[39m \u001b[38;5;241m1160740\u001b[39m\n",
      "\u001b[0;31mNameError\u001b[0m: name 'mse' is not defined"
     ]
    }
   ],
   "source": [
    "### Check your code\n",
    "assert 1160738 < mse < 1160740 "
   ]
  },
  {
   "cell_type": "markdown",
   "metadata": {
    "slideshow": {
     "slide_type": "slide"
    }
   },
   "source": [
    "#### Root mean squared error"
   ]
  },
  {
   "cell_type": "markdown",
   "metadata": {
    "slideshow": {
     "slide_type": "slide"
    }
   },
   "source": [
    "Use the scikit-learn function `mean_squared_error()` to calculate the root mean squared error and save the result as `rmse`.\n",
    "\n",
    "Hint:\n",
    "\n",
    "---\n",
    "\n",
    "```pyhton\n",
    "___ = ___(___, ___, ___)\n",
    "```\n",
    "\n",
    "- use the option `squared=False` \n",
    "\n",
    "---"
   ]
  },
  {
   "cell_type": "code",
   "execution_count": 21,
   "metadata": {
    "deletable": false,
    "execution": {
     "iopub.execute_input": "2023-01-25T17:02:36.881341Z",
     "iopub.status.busy": "2023-01-25T17:02:36.881113Z",
     "iopub.status.idle": "2023-01-25T17:02:36.891473Z",
     "shell.execute_reply": "2023-01-25T17:02:36.890949Z"
    },
    "nbgrader": {
     "cell_type": "code",
     "checksum": "9b57ea2b4064a3c7cc32097537fb28cc",
     "grade": false,
     "grade_id": "rmse",
     "locked": false,
     "schema_version": 3,
     "solution": true,
     "task": false
    },
    "slideshow": {
     "slide_type": "fragment"
    }
   },
   "outputs": [
    {
     "ename": "NotImplementedError",
     "evalue": "",
     "output_type": "error",
     "traceback": [
      "\u001b[0;31m---------------------------------------------------------------------------\u001b[0m",
      "\u001b[0;31mNotImplementedError\u001b[0m                       Traceback (most recent call last)",
      "Cell \u001b[0;32mIn [21], line 2\u001b[0m\n\u001b[1;32m      1\u001b[0m \u001b[38;5;66;03m# YOUR CODE HERE\u001b[39;00m\n\u001b[0;32m----> 2\u001b[0m \u001b[38;5;28;01mraise\u001b[39;00m \u001b[38;5;167;01mNotImplementedError\u001b[39;00m()\n",
      "\u001b[0;31mNotImplementedError\u001b[0m: "
     ]
    }
   ],
   "source": [
    "# YOUR CODE HERE\n",
    "raise NotImplementedError()"
   ]
  },
  {
   "cell_type": "code",
   "execution_count": 22,
   "metadata": {
    "execution": {
     "iopub.execute_input": "2023-01-25T17:02:36.894186Z",
     "iopub.status.busy": "2023-01-25T17:02:36.893967Z",
     "iopub.status.idle": "2023-01-25T17:02:36.904557Z",
     "shell.execute_reply": "2023-01-25T17:02:36.904009Z"
    },
    "slideshow": {
     "slide_type": "subslide"
    }
   },
   "outputs": [
    {
     "ename": "NameError",
     "evalue": "name 'rmse' is not defined",
     "output_type": "error",
     "traceback": [
      "\u001b[0;31m---------------------------------------------------------------------------\u001b[0m",
      "\u001b[0;31mNameError\u001b[0m                                 Traceback (most recent call last)",
      "Cell \u001b[0;32mIn [22], line 1\u001b[0m\n\u001b[0;32m----> 1\u001b[0m \u001b[38;5;28mprint\u001b[39m(\u001b[38;5;124mf\u001b[39m\u001b[38;5;124m'\u001b[39m\u001b[38;5;124mThe root mean squared error equals \u001b[39m\u001b[38;5;132;01m{\u001b[39;00mrmse\u001b[38;5;132;01m:\u001b[39;00m\u001b[38;5;124m.0f\u001b[39m\u001b[38;5;132;01m}\u001b[39;00m\u001b[38;5;124m \u001b[39m\u001b[38;5;124m'\u001b[39m)\n",
      "\u001b[0;31mNameError\u001b[0m: name 'rmse' is not defined"
     ]
    }
   ],
   "source": [
    "print(f'The root mean squared error equals {rmse:.0f} ')"
   ]
  },
  {
   "cell_type": "code",
   "execution_count": 23,
   "metadata": {
    "deletable": false,
    "editable": false,
    "execution": {
     "iopub.execute_input": "2023-01-25T17:02:36.907594Z",
     "iopub.status.busy": "2023-01-25T17:02:36.907338Z",
     "iopub.status.idle": "2023-01-25T17:02:36.918678Z",
     "shell.execute_reply": "2023-01-25T17:02:36.918153Z"
    },
    "nbgrader": {
     "cell_type": "code",
     "checksum": "9af733710ff7144a67cb0254697f4b7b",
     "grade": true,
     "grade_id": "c-rmse",
     "locked": true,
     "points": 2,
     "schema_version": 3,
     "solution": false,
     "task": false
    },
    "slideshow": {
     "slide_type": "subslide"
    }
   },
   "outputs": [
    {
     "ename": "NameError",
     "evalue": "name 'rmse' is not defined",
     "output_type": "error",
     "traceback": [
      "\u001b[0;31m---------------------------------------------------------------------------\u001b[0m",
      "\u001b[0;31mNameError\u001b[0m                                 Traceback (most recent call last)",
      "Cell \u001b[0;32mIn [23], line 2\u001b[0m\n\u001b[1;32m      1\u001b[0m \u001b[38;5;66;03m### Check your code\u001b[39;00m\n\u001b[0;32m----> 2\u001b[0m \u001b[38;5;28;01massert\u001b[39;00m \u001b[38;5;241m1076\u001b[39m \u001b[38;5;241m<\u001b[39m rmse \u001b[38;5;241m<\u001b[39m \u001b[38;5;241m1078\u001b[39m\n",
      "\u001b[0;31mNameError\u001b[0m: name 'rmse' is not defined"
     ]
    }
   ],
   "source": [
    "### Check your code\n",
    "assert 1076 < rmse < 1078 "
   ]
  },
  {
   "cell_type": "markdown",
   "metadata": {
    "slideshow": {
     "slide_type": "slide"
    }
   },
   "source": [
    "#### Mean absolute error"
   ]
  },
  {
   "cell_type": "markdown",
   "metadata": {
    "slideshow": {
     "slide_type": "slide"
    }
   },
   "source": [
    "Use the scikit-learn function `mean_absolute_error()` to calculate the mean absolute error and save the result as `mae`.\n",
    "\n",
    "Hint:\n",
    "\n",
    "---\n",
    "\n",
    "```pyhton\n",
    "___ = ___(___, ___)\n",
    "```\n",
    "\n",
    "\n",
    "---"
   ]
  },
  {
   "cell_type": "code",
   "execution_count": 24,
   "metadata": {
    "deletable": false,
    "execution": {
     "iopub.execute_input": "2023-01-25T17:02:36.921626Z",
     "iopub.status.busy": "2023-01-25T17:02:36.921404Z",
     "iopub.status.idle": "2023-01-25T17:02:36.931370Z",
     "shell.execute_reply": "2023-01-25T17:02:36.930822Z"
    },
    "nbgrader": {
     "cell_type": "code",
     "checksum": "fd6454a6ae887855d3d372cdc283bc5d",
     "grade": false,
     "grade_id": "mae",
     "locked": false,
     "schema_version": 3,
     "solution": true,
     "task": false
    },
    "slideshow": {
     "slide_type": "fragment"
    }
   },
   "outputs": [
    {
     "ename": "NotImplementedError",
     "evalue": "",
     "output_type": "error",
     "traceback": [
      "\u001b[0;31m---------------------------------------------------------------------------\u001b[0m",
      "\u001b[0;31mNotImplementedError\u001b[0m                       Traceback (most recent call last)",
      "Cell \u001b[0;32mIn [24], line 2\u001b[0m\n\u001b[1;32m      1\u001b[0m \u001b[38;5;66;03m# YOUR CODE HERE\u001b[39;00m\n\u001b[0;32m----> 2\u001b[0m \u001b[38;5;28;01mraise\u001b[39;00m \u001b[38;5;167;01mNotImplementedError\u001b[39;00m()\n",
      "\u001b[0;31mNotImplementedError\u001b[0m: "
     ]
    }
   ],
   "source": [
    "# YOUR CODE HERE\n",
    "raise NotImplementedError()"
   ]
  },
  {
   "cell_type": "code",
   "execution_count": 25,
   "metadata": {
    "execution": {
     "iopub.execute_input": "2023-01-25T17:02:36.934367Z",
     "iopub.status.busy": "2023-01-25T17:02:36.934145Z",
     "iopub.status.idle": "2023-01-25T17:02:36.944791Z",
     "shell.execute_reply": "2023-01-25T17:02:36.944289Z"
    },
    "slideshow": {
     "slide_type": "subslide"
    }
   },
   "outputs": [
    {
     "ename": "NameError",
     "evalue": "name 'mae' is not defined",
     "output_type": "error",
     "traceback": [
      "\u001b[0;31m---------------------------------------------------------------------------\u001b[0m",
      "\u001b[0;31mNameError\u001b[0m                                 Traceback (most recent call last)",
      "Cell \u001b[0;32mIn [25], line 1\u001b[0m\n\u001b[0;32m----> 1\u001b[0m \u001b[38;5;28mprint\u001b[39m(\u001b[38;5;124mf\u001b[39m\u001b[38;5;124m'\u001b[39m\u001b[38;5;124mThe mean absolute error equals \u001b[39m\u001b[38;5;132;01m{\u001b[39;00mmae\u001b[38;5;132;01m:\u001b[39;00m\u001b[38;5;124m.0f\u001b[39m\u001b[38;5;132;01m}\u001b[39;00m\u001b[38;5;124m \u001b[39m\u001b[38;5;124m'\u001b[39m)\n",
      "\u001b[0;31mNameError\u001b[0m: name 'mae' is not defined"
     ]
    }
   ],
   "source": [
    "print(f'The mean absolute error equals {mae:.0f} ')"
   ]
  },
  {
   "cell_type": "code",
   "execution_count": 26,
   "metadata": {
    "deletable": false,
    "editable": false,
    "execution": {
     "iopub.execute_input": "2023-01-25T17:02:36.947577Z",
     "iopub.status.busy": "2023-01-25T17:02:36.947327Z",
     "iopub.status.idle": "2023-01-25T17:02:36.957849Z",
     "shell.execute_reply": "2023-01-25T17:02:36.957278Z"
    },
    "nbgrader": {
     "cell_type": "code",
     "checksum": "1158c54808fbdcb232722476610f11ae",
     "grade": true,
     "grade_id": "c-mae",
     "locked": true,
     "points": 2,
     "schema_version": 3,
     "solution": false,
     "task": false
    },
    "slideshow": {
     "slide_type": "subslide"
    }
   },
   "outputs": [
    {
     "ename": "NameError",
     "evalue": "name 'mae' is not defined",
     "output_type": "error",
     "traceback": [
      "\u001b[0;31m---------------------------------------------------------------------------\u001b[0m",
      "\u001b[0;31mNameError\u001b[0m                                 Traceback (most recent call last)",
      "Cell \u001b[0;32mIn [26], line 2\u001b[0m\n\u001b[1;32m      1\u001b[0m \u001b[38;5;66;03m### Check your code\u001b[39;00m\n\u001b[0;32m----> 2\u001b[0m \u001b[38;5;28;01massert\u001b[39;00m \u001b[38;5;241m885\u001b[39m \u001b[38;5;241m<\u001b[39m mae \u001b[38;5;241m<\u001b[39m \u001b[38;5;241m887\u001b[39m\n",
      "\u001b[0;31mNameError\u001b[0m: name 'mae' is not defined"
     ]
    }
   ],
   "source": [
    "### Check your code\n",
    "assert 885 < mae < 887 "
   ]
  }
 ],
 "metadata": {
  "kernelspec": {
   "display_name": "Python 3 (ipykernel)",
   "language": "python",
   "name": "python3"
  },
  "language_info": {
   "codemirror_mode": {
    "name": "ipython",
    "version": 3
   },
   "file_extension": ".py",
   "mimetype": "text/x-python",
   "name": "python",
   "nbconvert_exporter": "python",
   "pygments_lexer": "ipython3",
   "version": "3.9.13"
  },
  "vscode": {
   "interpreter": {
    "hash": "147de23312147813b0623f895fe208f672aacb131d01c672b840a7a22f97849e"
   }
  }
 },
 "nbformat": 4,
 "nbformat_minor": 2
}
