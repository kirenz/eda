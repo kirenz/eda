{
 "cells": [
  {
   "cell_type": "markdown",
   "metadata": {
    "id": "dtPjFKWaX-7O"
   },
   "source": [
    "**Important notes:**\n",
    "\n",
    "**Important notes:**\n",
    "\n",
    "- You can complete this exercise in 1) Colab or 2) on your local machine\n",
    "  1. **Colab**: Click on the 🚀 symbol at the top of the page and select Colab. When you finished the exercise, download the file: `File` > `Download` > `ipynb`. \n",
    "  2. **Local**: click on the download button at the top of the page and choose `.ipynb`. Activate the conda environment `mr` before you start: `conda activate mr`\n",
    "\n",
    "\n",
    "- Don't change the name of the file and don't delete any cells.\n",
    "\n",
    "\n",
    "- Make sure you fill in any place that says  <font color='green'> \\# YOUR CODE HERE </font> or \"YOUR ANSWER HERE\", as well as your name and (if necessary) collaborators below.\n",
    "\n",
    "\n",
    "- The function **NotImplementedError()** prevents you from hand in assignments with empty cells. Simply delete the function if you start working on a cell with this entry.\n",
    "\n",
    "\n",
    "- Before you turn this problem in (i.e., after you completed all tasks), make sure everything runs as expected: Restart the kernel and run all cells:\n",
    "  - in *Colab*: in the menubar, select `Runtime` and click on `Restart and run all`\n",
    "  - if you use *Jupyter Notebook*: in the menubar, select `Kernel` and click on `Restart & Run All`\n",
    "  - if you use *Visual Studio Code*: select \"Restart\" and then \"Run All\" \n",
    "\n",
    "\n",
    "Good luck!"
   ]
  },
  {
   "cell_type": "code",
   "execution_count": 1,
   "metadata": {
    "execution": {
     "iopub.execute_input": "2023-01-25T17:05:34.924141Z",
     "iopub.status.busy": "2023-01-25T17:05:34.923598Z",
     "iopub.status.idle": "2023-01-25T17:05:34.934641Z",
     "shell.execute_reply": "2023-01-25T17:05:34.933820Z"
    },
    "id": "Hy6-X0tdX-7R"
   },
   "outputs": [],
   "source": [
    "NAME = \"lb199\"\n",
    "COLLABORATORS = \"\""
   ]
  },
  {
   "cell_type": "code",
   "execution_count": 2,
   "metadata": {
    "execution": {
     "iopub.execute_input": "2023-01-25T17:05:34.938093Z",
     "iopub.status.busy": "2023-01-25T17:05:34.937855Z",
     "iopub.status.idle": "2023-01-25T17:05:34.940732Z",
     "shell.execute_reply": "2023-01-25T17:05:34.940189Z"
    },
    "id": "t1WhZiVpX-7R"
   },
   "outputs": [],
   "source": [
    "import IPython\n",
    "assert IPython.version_info[0] >= 3, \"Your version of IPython is too old, please update it.\""
   ]
  },
  {
   "cell_type": "markdown",
   "metadata": {
    "id": "VggupyvhX-7R"
   },
   "source": [
    "---"
   ]
  },
  {
   "cell_type": "markdown",
   "metadata": {
    "id": "JLT4YHSvX-7S"
   },
   "source": [
    "# Find the best model"
   ]
  },
  {
   "cell_type": "markdown",
   "metadata": {
    "id": "f7YAiflYX-7S"
   },
   "source": [
    "## Setup"
   ]
  },
  {
   "cell_type": "code",
   "execution_count": 3,
   "metadata": {
    "colab": {
     "base_uri": "https://localhost:8080/"
    },
    "execution": {
     "iopub.execute_input": "2023-01-25T17:05:34.944124Z",
     "iopub.status.busy": "2023-01-25T17:05:34.943893Z",
     "iopub.status.idle": "2023-01-25T17:05:35.329368Z",
     "shell.execute_reply": "2023-01-25T17:05:35.328773Z"
    },
    "id": "MMFrHF_eX-7S",
    "outputId": "5d775b37-f746-4ebc-fea9-78a083a9c318"
   },
   "outputs": [
    {
     "data": {
      "text/plain": [
       "DataTransformerRegistry.enable('default')"
      ]
     },
     "execution_count": 3,
     "metadata": {},
     "output_type": "execute_result"
    }
   ],
   "source": [
    "import pandas as pd\n",
    "import altair as alt\n",
    "import warnings\n",
    "\n",
    "warnings.simplefilter(action='ignore', category=FutureWarning)\n",
    "alt.data_transformers.disable_max_rows()"
   ]
  },
  {
   "cell_type": "markdown",
   "metadata": {
    "id": "9nryNlSEX-7S"
   },
   "source": [
    "## Data"
   ]
  },
  {
   "cell_type": "code",
   "execution_count": 4,
   "metadata": {
    "execution": {
     "iopub.execute_input": "2023-01-25T17:05:35.332742Z",
     "iopub.status.busy": "2023-01-25T17:05:35.332442Z",
     "iopub.status.idle": "2023-01-25T17:05:35.336220Z",
     "shell.execute_reply": "2023-01-25T17:05:35.335743Z"
    },
    "id": "8xCkAswbX-7S"
   },
   "outputs": [],
   "source": [
    "# let's change some values in ads\n",
    "df = pd.DataFrame(\n",
    "    {'sales': [2500, 4500, 6500, 8500, 10500, 12500, 14500, 16500, 18500, 20500],\n",
    "      'ads'  : [900, 1400, 3600, 3800, 6200, 5200, 6800, 8300, 9800, 10100]}\n",
    ")"
   ]
  },
  {
   "cell_type": "markdown",
   "metadata": {
    "id": "GwsXlm3WX-7S"
   },
   "source": [
    "## Analysis"
   ]
  },
  {
   "cell_type": "code",
   "execution_count": 5,
   "metadata": {
    "colab": {
     "base_uri": "https://localhost:8080/",
     "height": 368
    },
    "execution": {
     "iopub.execute_input": "2023-01-25T17:05:35.339400Z",
     "iopub.status.busy": "2023-01-25T17:05:35.339156Z",
     "iopub.status.idle": "2023-01-25T17:05:35.385358Z",
     "shell.execute_reply": "2023-01-25T17:05:35.384698Z"
    },
    "id": "m3VGfBkVX-7T",
    "outputId": "6b7f921b-a0f6-4678-d212-d4594d2a6390"
   },
   "outputs": [
    {
     "data": {
      "text/html": [
       "\n",
       "<div id=\"altair-viz-34fdf6cc93994316b2a10ae91ffbb6ea\"></div>\n",
       "<script type=\"text/javascript\">\n",
       "  var VEGA_DEBUG = (typeof VEGA_DEBUG == \"undefined\") ? {} : VEGA_DEBUG;\n",
       "  (function(spec, embedOpt){\n",
       "    let outputDiv = document.currentScript.previousElementSibling;\n",
       "    if (outputDiv.id !== \"altair-viz-34fdf6cc93994316b2a10ae91ffbb6ea\") {\n",
       "      outputDiv = document.getElementById(\"altair-viz-34fdf6cc93994316b2a10ae91ffbb6ea\");\n",
       "    }\n",
       "    const paths = {\n",
       "      \"vega\": \"https://cdn.jsdelivr.net/npm//vega@5?noext\",\n",
       "      \"vega-lib\": \"https://cdn.jsdelivr.net/npm//vega-lib?noext\",\n",
       "      \"vega-lite\": \"https://cdn.jsdelivr.net/npm//vega-lite@4.17.0?noext\",\n",
       "      \"vega-embed\": \"https://cdn.jsdelivr.net/npm//vega-embed@6?noext\",\n",
       "    };\n",
       "\n",
       "    function maybeLoadScript(lib, version) {\n",
       "      var key = `${lib.replace(\"-\", \"\")}_version`;\n",
       "      return (VEGA_DEBUG[key] == version) ?\n",
       "        Promise.resolve(paths[lib]) :\n",
       "        new Promise(function(resolve, reject) {\n",
       "          var s = document.createElement('script');\n",
       "          document.getElementsByTagName(\"head\")[0].appendChild(s);\n",
       "          s.async = true;\n",
       "          s.onload = () => {\n",
       "            VEGA_DEBUG[key] = version;\n",
       "            return resolve(paths[lib]);\n",
       "          };\n",
       "          s.onerror = () => reject(`Error loading script: ${paths[lib]}`);\n",
       "          s.src = paths[lib];\n",
       "        });\n",
       "    }\n",
       "\n",
       "    function showError(err) {\n",
       "      outputDiv.innerHTML = `<div class=\"error\" style=\"color:red;\">${err}</div>`;\n",
       "      throw err;\n",
       "    }\n",
       "\n",
       "    function displayChart(vegaEmbed) {\n",
       "      vegaEmbed(outputDiv, spec, embedOpt)\n",
       "        .catch(err => showError(`Javascript Error: ${err.message}<br>This usually means there's a typo in your chart specification. See the javascript console for the full traceback.`));\n",
       "    }\n",
       "\n",
       "    if(typeof define === \"function\" && define.amd) {\n",
       "      requirejs.config({paths});\n",
       "      require([\"vega-embed\"], displayChart, err => showError(`Error loading script: ${err.message}`));\n",
       "    } else {\n",
       "      maybeLoadScript(\"vega\", \"5\")\n",
       "        .then(() => maybeLoadScript(\"vega-lite\", \"4.17.0\"))\n",
       "        .then(() => maybeLoadScript(\"vega-embed\", \"6\"))\n",
       "        .catch(showError)\n",
       "        .then(() => displayChart(vegaEmbed));\n",
       "    }\n",
       "  })({\"config\": {\"view\": {\"continuousWidth\": 400, \"continuousHeight\": 300}}, \"data\": {\"name\": \"data-dd4754ec408985cf02d07ef4475226d0\"}, \"mark\": \"point\", \"encoding\": {\"tooltip\": [{\"field\": \"ads\", \"type\": \"quantitative\"}, {\"field\": \"sales\", \"type\": \"quantitative\"}], \"x\": {\"field\": \"ads\", \"type\": \"quantitative\"}, \"y\": {\"field\": \"sales\", \"type\": \"quantitative\"}}, \"selection\": {\"selector001\": {\"type\": \"interval\", \"bind\": \"scales\", \"encodings\": [\"x\", \"y\"]}}, \"$schema\": \"https://vega.github.io/schema/vega-lite/v4.17.0.json\", \"datasets\": {\"data-dd4754ec408985cf02d07ef4475226d0\": [{\"sales\": 2500, \"ads\": 900}, {\"sales\": 4500, \"ads\": 1400}, {\"sales\": 6500, \"ads\": 3600}, {\"sales\": 8500, \"ads\": 3800}, {\"sales\": 10500, \"ads\": 6200}, {\"sales\": 12500, \"ads\": 5200}, {\"sales\": 14500, \"ads\": 6800}, {\"sales\": 16500, \"ads\": 8300}, {\"sales\": 18500, \"ads\": 9800}, {\"sales\": 20500, \"ads\": 10100}]}}, {\"mode\": \"vega-lite\"});\n",
       "</script>"
      ],
      "text/plain": [
       "alt.Chart(...)"
      ]
     },
     "execution_count": 5,
     "metadata": {},
     "output_type": "execute_result"
    }
   ],
   "source": [
    "alt.Chart(df).mark_point().encode(\n",
    "    x='ads',\n",
    "    y='sales',\n",
    "    tooltip= ['ads', 'sales']\n",
    ").interactive()"
   ]
  },
  {
   "cell_type": "markdown",
   "metadata": {
    "id": "JRwSvwMkX-7T"
   },
   "source": [
    "*Is there a \"perfect\" relationship between the two variables (like in our last example)?*"
   ]
  },
  {
   "cell_type": "markdown",
   "metadata": {
    "id": "eF1NgqxcX-7T"
   },
   "source": [
    "## Model\n",
    "\n",
    "Remember our simple model from before. Instead of using `number_0` and `number_1`, we use the following expressions:\n",
    "\n",
    "- `number_0` = `intercept`\n",
    "\n",
    "- `number_1` = `slope` (also called coefficient)\n",
    "\n",
    "\n",
    "Use the following values to make a prediction:\n",
    "\n",
    "- intercept = 500\n",
    "- slope = 2\n",
    "\n",
    "Hint:\n",
    "\n",
    "---\n",
    "\n",
    "\n",
    "```python\n",
    "intercept = ___ \n",
    "slope = ___\n",
    "\n",
    "df['___'] = ___ + ___ * df['___'] \n",
    "```\n",
    "\n",
    "---\n",
    "\n",
    "- Make a prediction for `sales` by using the variable `ads`\n",
    "- Save the new column as `sales_prediction`"
   ]
  },
  {
   "cell_type": "code",
   "execution_count": 6,
   "metadata": {
    "deletable": false,
    "execution": {
     "iopub.execute_input": "2023-01-25T17:05:35.388768Z",
     "iopub.status.busy": "2023-01-25T17:05:35.388521Z",
     "iopub.status.idle": "2023-01-25T17:05:35.392518Z",
     "shell.execute_reply": "2023-01-25T17:05:35.391854Z"
    },
    "id": "O2EQyfE9X-7T",
    "nbgrader": {
     "cell_type": "code",
     "checksum": "2590219f1049516558a59b4cd383232d",
     "grade": false,
     "grade_id": "sales-prediction",
     "locked": false,
     "schema_version": 3,
     "solution": true,
     "task": false
    }
   },
   "outputs": [],
   "source": [
    "intercept = 500\n",
    "slope = 2\n",
    "\n",
    "df['sales_prediction'] = intercept + slope * df['ads'] "
   ]
  },
  {
   "cell_type": "code",
   "execution_count": 7,
   "metadata": {
    "colab": {
     "base_uri": "https://localhost:8080/",
     "height": 204
    },
    "execution": {
     "iopub.execute_input": "2023-01-25T17:05:35.395228Z",
     "iopub.status.busy": "2023-01-25T17:05:35.395016Z",
     "iopub.status.idle": "2023-01-25T17:05:35.401642Z",
     "shell.execute_reply": "2023-01-25T17:05:35.401102Z"
    },
    "id": "0Yo8kEV7X-7T",
    "outputId": "a964fbc0-9a93-440f-8b8b-47d226e857a0"
   },
   "outputs": [
    {
     "data": {
      "text/html": [
       "<div>\n",
       "<style scoped>\n",
       "    .dataframe tbody tr th:only-of-type {\n",
       "        vertical-align: middle;\n",
       "    }\n",
       "\n",
       "    .dataframe tbody tr th {\n",
       "        vertical-align: top;\n",
       "    }\n",
       "\n",
       "    .dataframe thead th {\n",
       "        text-align: right;\n",
       "    }\n",
       "</style>\n",
       "<table border=\"1\" class=\"dataframe\">\n",
       "  <thead>\n",
       "    <tr style=\"text-align: right;\">\n",
       "      <th></th>\n",
       "      <th>sales</th>\n",
       "      <th>ads</th>\n",
       "      <th>sales_prediction</th>\n",
       "    </tr>\n",
       "  </thead>\n",
       "  <tbody>\n",
       "    <tr>\n",
       "      <th>0</th>\n",
       "      <td>2500</td>\n",
       "      <td>900</td>\n",
       "      <td>2300</td>\n",
       "    </tr>\n",
       "    <tr>\n",
       "      <th>1</th>\n",
       "      <td>4500</td>\n",
       "      <td>1400</td>\n",
       "      <td>3300</td>\n",
       "    </tr>\n",
       "    <tr>\n",
       "      <th>2</th>\n",
       "      <td>6500</td>\n",
       "      <td>3600</td>\n",
       "      <td>7700</td>\n",
       "    </tr>\n",
       "    <tr>\n",
       "      <th>3</th>\n",
       "      <td>8500</td>\n",
       "      <td>3800</td>\n",
       "      <td>8100</td>\n",
       "    </tr>\n",
       "    <tr>\n",
       "      <th>4</th>\n",
       "      <td>10500</td>\n",
       "      <td>6200</td>\n",
       "      <td>12900</td>\n",
       "    </tr>\n",
       "  </tbody>\n",
       "</table>\n",
       "</div>"
      ],
      "text/plain": [
       "   sales   ads  sales_prediction\n",
       "0   2500   900              2300\n",
       "1   4500  1400              3300\n",
       "2   6500  3600              7700\n",
       "3   8500  3800              8100\n",
       "4  10500  6200             12900"
      ]
     },
     "execution_count": 7,
     "metadata": {},
     "output_type": "execute_result"
    }
   ],
   "source": [
    "df.head()"
   ]
  },
  {
   "cell_type": "code",
   "execution_count": 8,
   "metadata": {
    "deletable": false,
    "editable": false,
    "execution": {
     "iopub.execute_input": "2023-01-25T17:05:35.404388Z",
     "iopub.status.busy": "2023-01-25T17:05:35.404181Z",
     "iopub.status.idle": "2023-01-25T17:05:35.407099Z",
     "shell.execute_reply": "2023-01-25T17:05:35.406566Z"
    },
    "id": "_fKRsnlqX-7T",
    "nbgrader": {
     "cell_type": "code",
     "checksum": "dd0a56a2a6f13e13ec653891e14e4b3a",
     "grade": true,
     "grade_id": "c-sales-prediction",
     "locked": true,
     "points": 4,
     "schema_version": 3,
     "solution": false,
     "task": false
    }
   },
   "outputs": [],
   "source": [
    "# Check your code\n",
    "assert df.loc[0, 'sales_prediction'] == 2300 "
   ]
  },
  {
   "cell_type": "code",
   "execution_count": 9,
   "metadata": {
    "colab": {
     "base_uri": "https://localhost:8080/",
     "height": 368
    },
    "execution": {
     "iopub.execute_input": "2023-01-25T17:05:35.410502Z",
     "iopub.status.busy": "2023-01-25T17:05:35.410259Z",
     "iopub.status.idle": "2023-01-25T17:05:35.455106Z",
     "shell.execute_reply": "2023-01-25T17:05:35.454435Z"
    },
    "id": "HRAMmCCOX-7U",
    "outputId": "63d8d9fc-a39b-4af8-b7ad-9f1623720371"
   },
   "outputs": [
    {
     "data": {
      "text/html": [
       "\n",
       "<div id=\"altair-viz-a7a5653b69254377b67ebcc2cc685d7f\"></div>\n",
       "<script type=\"text/javascript\">\n",
       "  var VEGA_DEBUG = (typeof VEGA_DEBUG == \"undefined\") ? {} : VEGA_DEBUG;\n",
       "  (function(spec, embedOpt){\n",
       "    let outputDiv = document.currentScript.previousElementSibling;\n",
       "    if (outputDiv.id !== \"altair-viz-a7a5653b69254377b67ebcc2cc685d7f\") {\n",
       "      outputDiv = document.getElementById(\"altair-viz-a7a5653b69254377b67ebcc2cc685d7f\");\n",
       "    }\n",
       "    const paths = {\n",
       "      \"vega\": \"https://cdn.jsdelivr.net/npm//vega@5?noext\",\n",
       "      \"vega-lib\": \"https://cdn.jsdelivr.net/npm//vega-lib?noext\",\n",
       "      \"vega-lite\": \"https://cdn.jsdelivr.net/npm//vega-lite@4.17.0?noext\",\n",
       "      \"vega-embed\": \"https://cdn.jsdelivr.net/npm//vega-embed@6?noext\",\n",
       "    };\n",
       "\n",
       "    function maybeLoadScript(lib, version) {\n",
       "      var key = `${lib.replace(\"-\", \"\")}_version`;\n",
       "      return (VEGA_DEBUG[key] == version) ?\n",
       "        Promise.resolve(paths[lib]) :\n",
       "        new Promise(function(resolve, reject) {\n",
       "          var s = document.createElement('script');\n",
       "          document.getElementsByTagName(\"head\")[0].appendChild(s);\n",
       "          s.async = true;\n",
       "          s.onload = () => {\n",
       "            VEGA_DEBUG[key] = version;\n",
       "            return resolve(paths[lib]);\n",
       "          };\n",
       "          s.onerror = () => reject(`Error loading script: ${paths[lib]}`);\n",
       "          s.src = paths[lib];\n",
       "        });\n",
       "    }\n",
       "\n",
       "    function showError(err) {\n",
       "      outputDiv.innerHTML = `<div class=\"error\" style=\"color:red;\">${err}</div>`;\n",
       "      throw err;\n",
       "    }\n",
       "\n",
       "    function displayChart(vegaEmbed) {\n",
       "      vegaEmbed(outputDiv, spec, embedOpt)\n",
       "        .catch(err => showError(`Javascript Error: ${err.message}<br>This usually means there's a typo in your chart specification. See the javascript console for the full traceback.`));\n",
       "    }\n",
       "\n",
       "    if(typeof define === \"function\" && define.amd) {\n",
       "      requirejs.config({paths});\n",
       "      require([\"vega-embed\"], displayChart, err => showError(`Error loading script: ${err.message}`));\n",
       "    } else {\n",
       "      maybeLoadScript(\"vega\", \"5\")\n",
       "        .then(() => maybeLoadScript(\"vega-lite\", \"4.17.0\"))\n",
       "        .then(() => maybeLoadScript(\"vega-embed\", \"6\"))\n",
       "        .catch(showError)\n",
       "        .then(() => displayChart(vegaEmbed));\n",
       "    }\n",
       "  })({\"config\": {\"view\": {\"continuousWidth\": 400, \"continuousHeight\": 300}}, \"layer\": [{\"mark\": \"point\", \"encoding\": {\"x\": {\"field\": \"ads\", \"type\": \"quantitative\"}, \"y\": {\"field\": \"sales\", \"type\": \"quantitative\"}}}, {\"mark\": \"line\", \"encoding\": {\"color\": {\"value\": \"#0001F5\"}, \"x\": {\"axis\": {\"title\": \"Ads (in $)\"}, \"field\": \"ads\", \"type\": \"quantitative\"}, \"y\": {\"axis\": {\"title\": \"Sales (in units)\"}, \"field\": \"sales_prediction\", \"type\": \"quantitative\"}}}], \"data\": {\"name\": \"data-11110ff1a977af55d01d5cda9b7b614a\"}, \"$schema\": \"https://vega.github.io/schema/vega-lite/v4.17.0.json\", \"datasets\": {\"data-11110ff1a977af55d01d5cda9b7b614a\": [{\"sales\": 2500, \"ads\": 900, \"sales_prediction\": 2300}, {\"sales\": 4500, \"ads\": 1400, \"sales_prediction\": 3300}, {\"sales\": 6500, \"ads\": 3600, \"sales_prediction\": 7700}, {\"sales\": 8500, \"ads\": 3800, \"sales_prediction\": 8100}, {\"sales\": 10500, \"ads\": 6200, \"sales_prediction\": 12900}, {\"sales\": 12500, \"ads\": 5200, \"sales_prediction\": 10900}, {\"sales\": 14500, \"ads\": 6800, \"sales_prediction\": 14100}, {\"sales\": 16500, \"ads\": 8300, \"sales_prediction\": 17100}, {\"sales\": 18500, \"ads\": 9800, \"sales_prediction\": 20100}, {\"sales\": 20500, \"ads\": 10100, \"sales_prediction\": 20700}]}}, {\"mode\": \"vega-lite\"});\n",
       "</script>"
      ],
      "text/plain": [
       "alt.LayerChart(...)"
      ]
     },
     "execution_count": 9,
     "metadata": {},
     "output_type": "execute_result"
    }
   ],
   "source": [
    "chart = alt.Chart(df).mark_point().encode(\n",
    "    x='ads',\n",
    "    y='sales'\n",
    ")\n",
    "\n",
    "line = alt.Chart(df).mark_line().encode(\n",
    "         alt.X('ads', axis=alt.Axis(title='Ads (in $)')),\n",
    "         alt.Y('sales_prediction', axis=alt.Axis(title=\"Sales (in units)\")),\n",
    "         color=alt.value(\"#0001F5\"))\n",
    "\n",
    "chart + line"
   ]
  },
  {
   "cell_type": "markdown",
   "metadata": {
    "id": "FmKKXjFqX-7U"
   },
   "source": [
    "*Can you guess why the two numbers are called intercept and slope?* Write down your answer below."
   ]
  },
  {
   "cell_type": "markdown",
   "metadata": {
    "id": "aSYZCIsLZSUQ"
   },
   "source": [
    "# Beim slope handelt es sich um die Steigung der blauen Gerade.\n",
    "# Intercept bezeichnet die Schnittstelle mit der y-Achse, somit ist x=0."
   ]
  }
 ],
 "metadata": {
  "colab": {
   "provenance": []
  },
  "kernelspec": {
   "display_name": "Python 3 (ipykernel)",
   "language": "python",
   "name": "python3"
  },
  "language_info": {
   "codemirror_mode": {
    "name": "ipython",
    "version": 3
   },
   "file_extension": ".py",
   "mimetype": "text/x-python",
   "name": "python",
   "nbconvert_exporter": "python",
   "pygments_lexer": "ipython3",
   "version": "3.9.13"
  },
  "vscode": {
   "interpreter": {
    "hash": "147de23312147813b0623f895fe208f672aacb131d01c672b840a7a22f97849e"
   }
  }
 },
 "nbformat": 4,
 "nbformat_minor": 0
}
