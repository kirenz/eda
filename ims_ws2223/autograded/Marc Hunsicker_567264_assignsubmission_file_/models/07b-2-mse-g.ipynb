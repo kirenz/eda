{
 "cells": [
  {
   "cell_type": "markdown",
   "metadata": {},
   "source": [
    "**Important notes:**\n",
    "\n",
    "**Important notes:**\n",
    "\n",
    "- You can complete this exercise in 1) Colab or 2) on your local machine\n",
    "  1. **Colab**: Click on the 🚀 symbol at the top of the page and select Colab. When you finished the exercise, download the file: `File` > `Download` > `ipynb`. \n",
    "  2. **Local**: click on the download button at the top of the page and choose `.ipynb`. Activate the conda environment `mr` before you start: `conda activate mr`\n",
    "\n",
    "\n",
    "- Don't change the name of the file and don't delete any cells.\n",
    "\n",
    "\n",
    "- Make sure you fill in any place that says  <font color='green'> \\# YOUR CODE HERE </font> or \"YOUR ANSWER HERE\", as well as your name and (if necessary) collaborators below.\n",
    "\n",
    "\n",
    "- The function **NotImplementedError()** prevents you from hand in assignments with empty cells. Simply delete the function if you start working on a cell with this entry.\n",
    "\n",
    "\n",
    "- Before you turn this problem in (i.e., after you completed all tasks), make sure everything runs as expected: Restart the kernel and run all cells:\n",
    "  - in *Colab*: in the menubar, select `Runtime` and click on `Restart and run all`\n",
    "  - if you use *Jupyter Notebook*: in the menubar, select `Kernel` and click on `Restart & Run All`\n",
    "  - if you use *Visual Studio Code*: select \"Restart\" and then \"Run All\" \n",
    "\n",
    "\n",
    "Good luck!"
   ]
  },
  {
   "cell_type": "code",
   "execution_count": 1,
   "metadata": {
    "execution": {
     "iopub.execute_input": "2023-01-25T17:05:54.795685Z",
     "iopub.status.busy": "2023-01-25T17:05:54.795376Z",
     "iopub.status.idle": "2023-01-25T17:05:54.807081Z",
     "shell.execute_reply": "2023-01-25T17:05:54.806004Z"
    }
   },
   "outputs": [],
   "source": [
    "NAME = \"mh322\"\n",
    "COLLABORATORS = \"none\""
   ]
  },
  {
   "cell_type": "code",
   "execution_count": 2,
   "metadata": {
    "execution": {
     "iopub.execute_input": "2023-01-25T17:05:54.811375Z",
     "iopub.status.busy": "2023-01-25T17:05:54.811039Z",
     "iopub.status.idle": "2023-01-25T17:05:54.814276Z",
     "shell.execute_reply": "2023-01-25T17:05:54.813630Z"
    }
   },
   "outputs": [],
   "source": [
    "import IPython\n",
    "assert IPython.version_info[0] >= 3, \"Your version of IPython is too old, please update it.\""
   ]
  },
  {
   "cell_type": "markdown",
   "metadata": {},
   "source": [
    "---"
   ]
  },
  {
   "cell_type": "markdown",
   "metadata": {
    "slideshow": {
     "slide_type": "slide"
    }
   },
   "source": [
    "# Mean squared error"
   ]
  },
  {
   "cell_type": "markdown",
   "metadata": {
    "slideshow": {
     "slide_type": "fragment"
    }
   },
   "source": [
    "## Setup\n",
    "\n",
    "We need the following modules:\n",
    "\n",
    "- pandas\n",
    "- scikit-learn"
   ]
  },
  {
   "cell_type": "code",
   "execution_count": 3,
   "metadata": {
    "execution": {
     "iopub.execute_input": "2023-01-25T17:05:54.818465Z",
     "iopub.status.busy": "2023-01-25T17:05:54.818217Z",
     "iopub.status.idle": "2023-01-25T17:05:55.560924Z",
     "shell.execute_reply": "2023-01-25T17:05:55.560342Z"
    },
    "slideshow": {
     "slide_type": "subslide"
    }
   },
   "outputs": [],
   "source": [
    "import pandas as pd\n",
    "from sklearn.metrics import mean_squared_error"
   ]
  },
  {
   "cell_type": "markdown",
   "metadata": {
    "slideshow": {
     "slide_type": "slide"
    }
   },
   "source": [
    "## Data"
   ]
  },
  {
   "cell_type": "markdown",
   "metadata": {
    "slideshow": {
     "slide_type": "slide"
    }
   },
   "source": [
    "### Create data"
   ]
  },
  {
   "cell_type": "code",
   "execution_count": 4,
   "metadata": {
    "execution": {
     "iopub.execute_input": "2023-01-25T17:05:55.564400Z",
     "iopub.status.busy": "2023-01-25T17:05:55.564120Z",
     "iopub.status.idle": "2023-01-25T17:05:55.568417Z",
     "shell.execute_reply": "2023-01-25T17:05:55.567708Z"
    },
    "slideshow": {
     "slide_type": "fragment"
    }
   },
   "outputs": [],
   "source": [
    "df = pd.DataFrame(\n",
    "    {'sales': [2500, 4500, 6500, 8500, 10500, 12500, 14500, 16500, 18500, 20500],\n",
    "      'ads'  : [900, 1400, 3600, 3800, 6200, 5200, 6800, 8300, 9800, 10100]}\n",
    ")"
   ]
  },
  {
   "cell_type": "markdown",
   "metadata": {
    "slideshow": {
     "slide_type": "slide"
    }
   },
   "source": [
    "### Data structure"
   ]
  },
  {
   "cell_type": "code",
   "execution_count": 5,
   "metadata": {
    "execution": {
     "iopub.execute_input": "2023-01-25T17:05:55.571234Z",
     "iopub.status.busy": "2023-01-25T17:05:55.571012Z",
     "iopub.status.idle": "2023-01-25T17:05:55.582024Z",
     "shell.execute_reply": "2023-01-25T17:05:55.581394Z"
    }
   },
   "outputs": [
    {
     "data": {
      "text/html": [
       "<div>\n",
       "<style scoped>\n",
       "    .dataframe tbody tr th:only-of-type {\n",
       "        vertical-align: middle;\n",
       "    }\n",
       "\n",
       "    .dataframe tbody tr th {\n",
       "        vertical-align: top;\n",
       "    }\n",
       "\n",
       "    .dataframe thead th {\n",
       "        text-align: right;\n",
       "    }\n",
       "</style>\n",
       "<table border=\"1\" class=\"dataframe\">\n",
       "  <thead>\n",
       "    <tr style=\"text-align: right;\">\n",
       "      <th></th>\n",
       "      <th>sales</th>\n",
       "      <th>ads</th>\n",
       "    </tr>\n",
       "  </thead>\n",
       "  <tbody>\n",
       "    <tr>\n",
       "      <th>0</th>\n",
       "      <td>2500</td>\n",
       "      <td>900</td>\n",
       "    </tr>\n",
       "    <tr>\n",
       "      <th>1</th>\n",
       "      <td>4500</td>\n",
       "      <td>1400</td>\n",
       "    </tr>\n",
       "    <tr>\n",
       "      <th>2</th>\n",
       "      <td>6500</td>\n",
       "      <td>3600</td>\n",
       "    </tr>\n",
       "    <tr>\n",
       "      <th>3</th>\n",
       "      <td>8500</td>\n",
       "      <td>3800</td>\n",
       "    </tr>\n",
       "    <tr>\n",
       "      <th>4</th>\n",
       "      <td>10500</td>\n",
       "      <td>6200</td>\n",
       "    </tr>\n",
       "    <tr>\n",
       "      <th>5</th>\n",
       "      <td>12500</td>\n",
       "      <td>5200</td>\n",
       "    </tr>\n",
       "    <tr>\n",
       "      <th>6</th>\n",
       "      <td>14500</td>\n",
       "      <td>6800</td>\n",
       "    </tr>\n",
       "    <tr>\n",
       "      <th>7</th>\n",
       "      <td>16500</td>\n",
       "      <td>8300</td>\n",
       "    </tr>\n",
       "    <tr>\n",
       "      <th>8</th>\n",
       "      <td>18500</td>\n",
       "      <td>9800</td>\n",
       "    </tr>\n",
       "    <tr>\n",
       "      <th>9</th>\n",
       "      <td>20500</td>\n",
       "      <td>10100</td>\n",
       "    </tr>\n",
       "  </tbody>\n",
       "</table>\n",
       "</div>"
      ],
      "text/plain": [
       "   sales    ads\n",
       "0   2500    900\n",
       "1   4500   1400\n",
       "2   6500   3600\n",
       "3   8500   3800\n",
       "4  10500   6200\n",
       "5  12500   5200\n",
       "6  14500   6800\n",
       "7  16500   8300\n",
       "8  18500   9800\n",
       "9  20500  10100"
      ]
     },
     "execution_count": 5,
     "metadata": {},
     "output_type": "execute_result"
    }
   ],
   "source": [
    "df"
   ]
  },
  {
   "cell_type": "code",
   "execution_count": 6,
   "metadata": {
    "execution": {
     "iopub.execute_input": "2023-01-25T17:05:55.584959Z",
     "iopub.status.busy": "2023-01-25T17:05:55.584751Z",
     "iopub.status.idle": "2023-01-25T17:05:55.591893Z",
     "shell.execute_reply": "2023-01-25T17:05:55.591190Z"
    },
    "slideshow": {
     "slide_type": "subslide"
    }
   },
   "outputs": [
    {
     "name": "stdout",
     "output_type": "stream",
     "text": [
      "<class 'pandas.core.frame.DataFrame'>\n",
      "RangeIndex: 10 entries, 0 to 9\n",
      "Data columns (total 2 columns):\n",
      " #   Column  Non-Null Count  Dtype\n",
      "---  ------  --------------  -----\n",
      " 0   sales   10 non-null     int64\n",
      " 1   ads     10 non-null     int64\n",
      "dtypes: int64(2)\n",
      "memory usage: 288.0 bytes\n"
     ]
    }
   ],
   "source": [
    "df.info()\n",
    "\n",
    "#Info zeigt uns, das beide Werte Integer sind, also ganze Zahlen."
   ]
  },
  {
   "cell_type": "markdown",
   "metadata": {
    "slideshow": {
     "slide_type": "slide"
    }
   },
   "source": [
    "## Model"
   ]
  },
  {
   "cell_type": "code",
   "execution_count": 7,
   "metadata": {
    "execution": {
     "iopub.execute_input": "2023-01-25T17:05:55.594930Z",
     "iopub.status.busy": "2023-01-25T17:05:55.594710Z",
     "iopub.status.idle": "2023-01-25T17:05:55.598381Z",
     "shell.execute_reply": "2023-01-25T17:05:55.597731Z"
    },
    "slideshow": {
     "slide_type": "fragment"
    }
   },
   "outputs": [],
   "source": [
    "intercept = 500 \n",
    "slope = 2\n",
    "\n",
    "df['sales_prediction'] = intercept + slope * df['ads'] "
   ]
  },
  {
   "cell_type": "code",
   "execution_count": 8,
   "metadata": {
    "execution": {
     "iopub.execute_input": "2023-01-25T17:05:55.601191Z",
     "iopub.status.busy": "2023-01-25T17:05:55.600987Z",
     "iopub.status.idle": "2023-01-25T17:05:55.605061Z",
     "shell.execute_reply": "2023-01-25T17:05:55.604571Z"
    }
   },
   "outputs": [
    {
     "data": {
      "text/plain": [
       "0     2300\n",
       "1     3300\n",
       "2     7700\n",
       "3     8100\n",
       "4    12900\n",
       "5    10900\n",
       "6    14100\n",
       "7    17100\n",
       "8    20100\n",
       "9    20700\n",
       "Name: sales_prediction, dtype: int64"
      ]
     },
     "execution_count": 8,
     "metadata": {},
     "output_type": "execute_result"
    }
   ],
   "source": [
    "df['sales_prediction']"
   ]
  },
  {
   "cell_type": "markdown",
   "metadata": {
    "slideshow": {
     "slide_type": "slide"
    }
   },
   "source": [
    "### Calculate mean squared error"
   ]
  },
  {
   "cell_type": "markdown",
   "metadata": {
    "slideshow": {
     "slide_type": "fragment"
    }
   },
   "source": [
    "---\n",
    "\n",
    "Step 1: calculate the squared difference between true outcome and prediction:"
   ]
  },
  {
   "cell_type": "markdown",
   "metadata": {
    "slideshow": {
     "slide_type": "subslide"
    }
   },
   "source": [
    "\n",
    "The general formula:\n",
    "\n",
    "\n",
    "$$Squared\\ errors \\ (SE) = (y_i-\\hat{y_i})^2$$\n",
    "\n"
   ]
  },
  {
   "cell_type": "markdown",
   "metadata": {
    "slideshow": {
     "slide_type": "fragment"
    }
   },
   "source": [
    "For our data this means:\n",
    "\n",
    "$$ se = (sales_i - sales\\_prediction_i)^2$$"
   ]
  },
  {
   "cell_type": "markdown",
   "metadata": {
    "slideshow": {
     "slide_type": "fragment"
    }
   },
   "source": [
    "Hint\n",
    "\n",
    "---\n",
    "\n",
    "```python\n",
    "df['___'] = (df['___'] - df['___']) ___ ___\n",
    "\n",
    "```\n",
    "\n",
    "---\n",
    "\n",
    "- Use the `**` (power) operator to raise a value to the power of 2."
   ]
  },
  {
   "cell_type": "code",
   "execution_count": 9,
   "metadata": {
    "deletable": false,
    "execution": {
     "iopub.execute_input": "2023-01-25T17:05:55.608614Z",
     "iopub.status.busy": "2023-01-25T17:05:55.608407Z",
     "iopub.status.idle": "2023-01-25T17:05:55.611758Z",
     "shell.execute_reply": "2023-01-25T17:05:55.611261Z"
    },
    "nbgrader": {
     "cell_type": "code",
     "checksum": "4bfb9e7c585b4b262fee4675bc77bac3",
     "grade": false,
     "grade_id": "se",
     "locked": false,
     "schema_version": 3,
     "solution": true,
     "task": false
    },
    "slideshow": {
     "slide_type": "subslide"
    }
   },
   "outputs": [],
   "source": [
    "# YOUR CODE HERE\n",
    "df['se'] = (df['sales'] - df['sales_prediction'])**2"
   ]
  },
  {
   "cell_type": "code",
   "execution_count": 10,
   "metadata": {
    "execution": {
     "iopub.execute_input": "2023-01-25T17:05:55.614905Z",
     "iopub.status.busy": "2023-01-25T17:05:55.614705Z",
     "iopub.status.idle": "2023-01-25T17:05:55.619038Z",
     "shell.execute_reply": "2023-01-25T17:05:55.618598Z"
    }
   },
   "outputs": [
    {
     "data": {
      "text/plain": [
       "0      40000\n",
       "1    1440000\n",
       "2    1440000\n",
       "3     160000\n",
       "4    5760000\n",
       "5    2560000\n",
       "6     160000\n",
       "7     360000\n",
       "8    2560000\n",
       "9      40000\n",
       "Name: se, dtype: int64"
      ]
     },
     "execution_count": 10,
     "metadata": {},
     "output_type": "execute_result"
    }
   ],
   "source": [
    "df[\"se\"]"
   ]
  },
  {
   "cell_type": "code",
   "execution_count": 11,
   "metadata": {
    "execution": {
     "iopub.execute_input": "2023-01-25T17:05:55.621559Z",
     "iopub.status.busy": "2023-01-25T17:05:55.621348Z",
     "iopub.status.idle": "2023-01-25T17:05:55.626711Z",
     "shell.execute_reply": "2023-01-25T17:05:55.626268Z"
    },
    "slideshow": {
     "slide_type": "subslide"
    }
   },
   "outputs": [
    {
     "data": {
      "text/html": [
       "<div>\n",
       "<style scoped>\n",
       "    .dataframe tbody tr th:only-of-type {\n",
       "        vertical-align: middle;\n",
       "    }\n",
       "\n",
       "    .dataframe tbody tr th {\n",
       "        vertical-align: top;\n",
       "    }\n",
       "\n",
       "    .dataframe thead th {\n",
       "        text-align: right;\n",
       "    }\n",
       "</style>\n",
       "<table border=\"1\" class=\"dataframe\">\n",
       "  <thead>\n",
       "    <tr style=\"text-align: right;\">\n",
       "      <th></th>\n",
       "      <th>sales</th>\n",
       "      <th>ads</th>\n",
       "      <th>sales_prediction</th>\n",
       "      <th>se</th>\n",
       "    </tr>\n",
       "  </thead>\n",
       "  <tbody>\n",
       "    <tr>\n",
       "      <th>0</th>\n",
       "      <td>2500</td>\n",
       "      <td>900</td>\n",
       "      <td>2300</td>\n",
       "      <td>40000</td>\n",
       "    </tr>\n",
       "    <tr>\n",
       "      <th>1</th>\n",
       "      <td>4500</td>\n",
       "      <td>1400</td>\n",
       "      <td>3300</td>\n",
       "      <td>1440000</td>\n",
       "    </tr>\n",
       "    <tr>\n",
       "      <th>2</th>\n",
       "      <td>6500</td>\n",
       "      <td>3600</td>\n",
       "      <td>7700</td>\n",
       "      <td>1440000</td>\n",
       "    </tr>\n",
       "    <tr>\n",
       "      <th>3</th>\n",
       "      <td>8500</td>\n",
       "      <td>3800</td>\n",
       "      <td>8100</td>\n",
       "      <td>160000</td>\n",
       "    </tr>\n",
       "    <tr>\n",
       "      <th>4</th>\n",
       "      <td>10500</td>\n",
       "      <td>6200</td>\n",
       "      <td>12900</td>\n",
       "      <td>5760000</td>\n",
       "    </tr>\n",
       "  </tbody>\n",
       "</table>\n",
       "</div>"
      ],
      "text/plain": [
       "   sales   ads  sales_prediction       se\n",
       "0   2500   900              2300    40000\n",
       "1   4500  1400              3300  1440000\n",
       "2   6500  3600              7700  1440000\n",
       "3   8500  3800              8100   160000\n",
       "4  10500  6200             12900  5760000"
      ]
     },
     "execution_count": 11,
     "metadata": {},
     "output_type": "execute_result"
    }
   ],
   "source": [
    "df.head()\n",
    "\n",
    "#SE bei Sales = 0 sind eigentlich 40.000, weil 200^2 = 40.00. Daher geben wir in der unteren Zeile auch an: 0, 'se'] == 40000\n",
    "#Allerdings bekomme ich das ^2 mit \"**\" nicht eingebaut. - hat sich erledigt :)"
   ]
  },
  {
   "cell_type": "code",
   "execution_count": 12,
   "metadata": {
    "execution": {
     "iopub.execute_input": "2023-01-25T17:05:55.629332Z",
     "iopub.status.busy": "2023-01-25T17:05:55.629113Z",
     "iopub.status.idle": "2023-01-25T17:05:55.631843Z",
     "shell.execute_reply": "2023-01-25T17:05:55.631377Z"
    }
   },
   "outputs": [],
   "source": [
    " # Check your code\n",
    "assert df.loc[0, 'se'] == 40000"
   ]
  },
  {
   "cell_type": "markdown",
   "metadata": {
    "slideshow": {
     "slide_type": "slide"
    }
   },
   "source": [
    "---\n",
    "\n",
    "Step 2: Sum up all squared errors\n",
    "\n",
    "Calculate the sum of squared errors (SSE)"
   ]
  },
  {
   "cell_type": "markdown",
   "metadata": {
    "slideshow": {
     "slide_type": "slide"
    }
   },
   "source": [
    "The general formula:\n",
    "\n",
    "$$Sum\\ of\\ squared\\ errors \\ (SSE) = \\sum_{i=1}^{n}(y_i-\\hat{y_i})^2$$\n",
    "\n",
    "which equals\n",
    "\n",
    "$$Sum\\ of\\ squared\\ errors \\ (SSE) = \\sum_{i=1}^{n} SE$$"
   ]
  },
  {
   "cell_type": "markdown",
   "metadata": {
    "slideshow": {
     "slide_type": "slide"
    }
   },
   "source": [
    "\n",
    "\n",
    "For our data this means:\n",
    "\n",
    "\n",
    "\n",
    "$$sse = \\sum_{i=1}^{n}(sales_i-\\hat{sales\\_prediction_i})^2$$\n",
    "\n",
    "\n",
    "which equals\n",
    "\n",
    "$$sse = \\sum_{i=1}^{n} se$$"
   ]
  },
  {
   "cell_type": "markdown",
   "metadata": {
    "slideshow": {
     "slide_type": "slide"
    }
   },
   "source": [
    "Hint\n",
    "\n",
    "Sum up the squared errors and save the result in a new object called `sse` (not in the Pandas dataframe)\n",
    "\n",
    "---\n",
    "\n",
    "```python\n",
    "___ = df['___'].___\n",
    "```\n",
    "\n",
    "---\n",
    "\n",
    "- Save the result as `sse`\n",
    "- use the method `.sum()` to sum up all `se`"
   ]
  },
  {
   "cell_type": "code",
   "execution_count": 13,
   "metadata": {
    "deletable": false,
    "execution": {
     "iopub.execute_input": "2023-01-25T17:05:55.634860Z",
     "iopub.status.busy": "2023-01-25T17:05:55.634656Z",
     "iopub.status.idle": "2023-01-25T17:05:55.637396Z",
     "shell.execute_reply": "2023-01-25T17:05:55.636884Z"
    },
    "nbgrader": {
     "cell_type": "code",
     "checksum": "ea867cd93a18bda2b1b49ee29d3f5436",
     "grade": false,
     "grade_id": "sse",
     "locked": false,
     "schema_version": 3,
     "solution": true,
     "task": false
    },
    "slideshow": {
     "slide_type": "fragment"
    }
   },
   "outputs": [],
   "source": [
    "# YOUR CODE HERE\n",
    "sse = df['se'].sum()"
   ]
  },
  {
   "cell_type": "code",
   "execution_count": 14,
   "metadata": {
    "execution": {
     "iopub.execute_input": "2023-01-25T17:05:55.639911Z",
     "iopub.status.busy": "2023-01-25T17:05:55.639696Z",
     "iopub.status.idle": "2023-01-25T17:05:55.643117Z",
     "shell.execute_reply": "2023-01-25T17:05:55.642689Z"
    },
    "slideshow": {
     "slide_type": "subslide"
    }
   },
   "outputs": [
    {
     "data": {
      "text/plain": [
       "14520000"
      ]
     },
     "execution_count": 14,
     "metadata": {},
     "output_type": "execute_result"
    }
   ],
   "source": [
    "sse"
   ]
  },
  {
   "cell_type": "code",
   "execution_count": 15,
   "metadata": {
    "deletable": false,
    "editable": false,
    "execution": {
     "iopub.execute_input": "2023-01-25T17:05:55.645706Z",
     "iopub.status.busy": "2023-01-25T17:05:55.645499Z",
     "iopub.status.idle": "2023-01-25T17:05:55.648194Z",
     "shell.execute_reply": "2023-01-25T17:05:55.647709Z"
    },
    "nbgrader": {
     "cell_type": "code",
     "checksum": "082f35d9e4f72eb638dd856995222ae1",
     "grade": true,
     "grade_id": "c-sse",
     "locked": true,
     "points": 2,
     "schema_version": 3,
     "solution": false,
     "task": false
    }
   },
   "outputs": [],
   "source": [
    "# Chack your code\n",
    "assert sse == 14520000"
   ]
  },
  {
   "cell_type": "markdown",
   "metadata": {
    "slideshow": {
     "slide_type": "slide"
    }
   },
   "source": [
    "---\n",
    "\n",
    "Step 3: Divide by the number of examples\n",
    "\n",
    "The general formula:\n",
    "\n",
    "$$Mean\\ squared\\ error \\ (MSE) = \\frac{1}{n} \\times \\sum_{i=1}^{n}(y_i-\\hat{y_i})^2$$\n",
    "\n",
    "which equals\n",
    "\n",
    "$$Mean\\ squared\\ error \\ (MSE) = \\frac{1}{n} \\times SSE$$\n",
    "\n",
    "*with n = the number of observations*"
   ]
  },
  {
   "cell_type": "markdown",
   "metadata": {
    "slideshow": {
     "slide_type": "slide"
    }
   },
   "source": [
    "\n",
    "\n",
    "For our data this means:\n",
    "\n",
    "\n",
    "\n",
    "$$mse = \\frac{1}{n} \\times \\sum_{i=1}^{n}(sales_i-\\hat{sales\\_prediction_i})^2$$\n",
    "\n",
    "which equals\n",
    "\n",
    "$$mse = \\frac{1}{n} \\times sse $$\n",
    "\n",
    "\n",
    "*with n = the number of observations*\n",
    "\n"
   ]
  },
  {
   "cell_type": "code",
   "execution_count": 16,
   "metadata": {
    "execution": {
     "iopub.execute_input": "2023-01-25T17:05:55.651121Z",
     "iopub.status.busy": "2023-01-25T17:05:55.650910Z",
     "iopub.status.idle": "2023-01-25T17:05:55.653570Z",
     "shell.execute_reply": "2023-01-25T17:05:55.653039Z"
    },
    "slideshow": {
     "slide_type": "subslide"
    }
   },
   "outputs": [],
   "source": [
    "# Obtain number of examples (observations)\n",
    "n = len(df)"
   ]
  },
  {
   "cell_type": "code",
   "execution_count": 17,
   "metadata": {
    "execution": {
     "iopub.execute_input": "2023-01-25T17:05:55.656228Z",
     "iopub.status.busy": "2023-01-25T17:05:55.656004Z",
     "iopub.status.idle": "2023-01-25T17:05:55.659620Z",
     "shell.execute_reply": "2023-01-25T17:05:55.659174Z"
    },
    "slideshow": {
     "slide_type": "fragment"
    }
   },
   "outputs": [
    {
     "data": {
      "text/plain": [
       "10"
      ]
     },
     "execution_count": 17,
     "metadata": {},
     "output_type": "execute_result"
    }
   ],
   "source": [
    "n"
   ]
  },
  {
   "cell_type": "markdown",
   "metadata": {
    "slideshow": {
     "slide_type": "slide"
    }
   },
   "source": [
    "Calculate the mse and save the result as `mse`:"
   ]
  },
  {
   "cell_type": "code",
   "execution_count": 18,
   "metadata": {
    "deletable": false,
    "execution": {
     "iopub.execute_input": "2023-01-25T17:05:55.662309Z",
     "iopub.status.busy": "2023-01-25T17:05:55.662102Z",
     "iopub.status.idle": "2023-01-25T17:05:55.664895Z",
     "shell.execute_reply": "2023-01-25T17:05:55.664353Z"
    },
    "nbgrader": {
     "cell_type": "code",
     "checksum": "777256bec5c11df90dbb9d0f4a4e0842",
     "grade": false,
     "grade_id": "mse",
     "locked": false,
     "schema_version": 3,
     "solution": true,
     "task": false
    },
    "slideshow": {
     "slide_type": "subslide"
    }
   },
   "outputs": [],
   "source": [
    "# YOUR CODE HERE\n",
    "\n",
    "mse = (1/n) * sse\n",
    "# mse = 1/10 * sse"
   ]
  },
  {
   "cell_type": "code",
   "execution_count": 19,
   "metadata": {
    "execution": {
     "iopub.execute_input": "2023-01-25T17:05:55.667496Z",
     "iopub.status.busy": "2023-01-25T17:05:55.667290Z",
     "iopub.status.idle": "2023-01-25T17:05:55.670777Z",
     "shell.execute_reply": "2023-01-25T17:05:55.670295Z"
    },
    "slideshow": {
     "slide_type": "fragment"
    }
   },
   "outputs": [
    {
     "data": {
      "text/plain": [
       "1452000.0"
      ]
     },
     "execution_count": 19,
     "metadata": {},
     "output_type": "execute_result"
    }
   ],
   "source": [
    "mse"
   ]
  },
  {
   "cell_type": "code",
   "execution_count": 20,
   "metadata": {
    "execution": {
     "iopub.execute_input": "2023-01-25T17:05:55.673372Z",
     "iopub.status.busy": "2023-01-25T17:05:55.673162Z",
     "iopub.status.idle": "2023-01-25T17:05:55.675983Z",
     "shell.execute_reply": "2023-01-25T17:05:55.675513Z"
    },
    "slideshow": {
     "slide_type": "fragment"
    }
   },
   "outputs": [
    {
     "name": "stdout",
     "output_type": "stream",
     "text": [
      "The MSE equals 1452000\n"
     ]
    }
   ],
   "source": [
    "# alternative way to print the result\n",
    "print(f'The MSE equals {mse:.0f}')"
   ]
  },
  {
   "cell_type": "code",
   "execution_count": 21,
   "metadata": {
    "deletable": false,
    "editable": false,
    "execution": {
     "iopub.execute_input": "2023-01-25T17:05:55.678620Z",
     "iopub.status.busy": "2023-01-25T17:05:55.678417Z",
     "iopub.status.idle": "2023-01-25T17:05:55.681053Z",
     "shell.execute_reply": "2023-01-25T17:05:55.680567Z"
    },
    "nbgrader": {
     "cell_type": "code",
     "checksum": "110cb989776bd9045591c883d3f8aaa2",
     "grade": true,
     "grade_id": "c-mse",
     "locked": true,
     "points": 2,
     "schema_version": 3,
     "solution": false,
     "task": false
    }
   },
   "outputs": [],
   "source": [
    "# Check your code\n",
    "assert 1451000 < mse < 1453000"
   ]
  },
  {
   "cell_type": "markdown",
   "metadata": {
    "slideshow": {
     "slide_type": "slide"
    }
   },
   "source": [
    "### Root mean squared error"
   ]
  },
  {
   "cell_type": "markdown",
   "metadata": {
    "slideshow": {
     "slide_type": "slide"
    }
   },
   "source": [
    "---\n",
    "\n",
    "Another important measure is the root mean squared error:\n",
    "\n",
    "The general formula:\n",
    "\n",
    "$$Root\\ mean\\ squared\\ error \\ (RMSE) = \\sqrt{\\frac{1}{n} \\times \\sum_{i=1}^{n}(y_i-\\hat{y_i})^2}$$\n",
    "\n",
    "which equals\n",
    "\n",
    "$$Root\\ mean\\ squared\\ error \\ (RMSE) = \\sqrt{\\frac{1}{n} \\times SSE}$$\n",
    "\n",
    "*with n = the number of observations*\n",
    "\n",
    "\n",
    "\n"
   ]
  },
  {
   "cell_type": "markdown",
   "metadata": {
    "slideshow": {
     "slide_type": "subslide"
    }
   },
   "source": [
    "\n",
    "For our data this means:\n",
    "\n",
    "\n",
    "$$rmse = \\sqrt{\\frac{1}{n} \\times \\sum_{i=1}^{n}(sales_i-\\hat{sales\\_prediction_i})^2}$$\n",
    "\n",
    "which equals\n",
    "\n",
    "$$rmse = \\sqrt{\\frac{1}{n} \\times sse} $$\n",
    "\n",
    "which also equals\n",
    "\n",
    "$$rmse = (\\frac{1}{n} \\times sse)^\\frac{1}{2} $$\n",
    "\n",
    "\n",
    "\n",
    "with n = the number of observations"
   ]
  },
  {
   "cell_type": "markdown",
   "metadata": {
    "slideshow": {
     "slide_type": "subslide"
    }
   },
   "source": [
    "Calculate the rmse and save the result as `rmse` (not in your Dataframe):"
   ]
  },
  {
   "cell_type": "code",
   "execution_count": 22,
   "metadata": {
    "deletable": false,
    "execution": {
     "iopub.execute_input": "2023-01-25T17:05:55.684182Z",
     "iopub.status.busy": "2023-01-25T17:05:55.683911Z",
     "iopub.status.idle": "2023-01-25T17:05:55.686777Z",
     "shell.execute_reply": "2023-01-25T17:05:55.686340Z"
    },
    "nbgrader": {
     "cell_type": "code",
     "checksum": "9b57ea2b4064a3c7cc32097537fb28cc",
     "grade": false,
     "grade_id": "rmse",
     "locked": false,
     "schema_version": 3,
     "solution": true,
     "task": false
    },
    "slideshow": {
     "slide_type": "subslide"
    }
   },
   "outputs": [],
   "source": [
    "# YOUR CODE HERE\n",
    "rmse = (1/n * sse)**0.5"
   ]
  },
  {
   "cell_type": "code",
   "execution_count": 23,
   "metadata": {
    "execution": {
     "iopub.execute_input": "2023-01-25T17:05:55.689319Z",
     "iopub.status.busy": "2023-01-25T17:05:55.689123Z",
     "iopub.status.idle": "2023-01-25T17:05:55.692558Z",
     "shell.execute_reply": "2023-01-25T17:05:55.692031Z"
    },
    "slideshow": {
     "slide_type": "fragment"
    }
   },
   "outputs": [
    {
     "data": {
      "text/plain": [
       "1204.9896265113655"
      ]
     },
     "execution_count": 23,
     "metadata": {},
     "output_type": "execute_result"
    }
   ],
   "source": [
    "rmse"
   ]
  },
  {
   "cell_type": "code",
   "execution_count": 24,
   "metadata": {
    "deletable": false,
    "editable": false,
    "execution": {
     "iopub.execute_input": "2023-01-25T17:05:55.695072Z",
     "iopub.status.busy": "2023-01-25T17:05:55.694868Z",
     "iopub.status.idle": "2023-01-25T17:05:55.697334Z",
     "shell.execute_reply": "2023-01-25T17:05:55.696812Z"
    },
    "nbgrader": {
     "cell_type": "code",
     "checksum": "59bd4e4cf970f43da0956fe02c48ae73",
     "grade": true,
     "grade_id": "c-rmse",
     "locked": true,
     "points": 2,
     "schema_version": 3,
     "solution": false,
     "task": false
    },
    "slideshow": {
     "slide_type": "fragment"
    }
   },
   "outputs": [],
   "source": [
    "# Check your code\n",
    "assert 1203 < rmse < 1206"
   ]
  },
  {
   "cell_type": "markdown",
   "metadata": {
    "slideshow": {
     "slide_type": "slide"
    }
   },
   "source": [
    "### Mean absolute error"
   ]
  },
  {
   "cell_type": "markdown",
   "metadata": {
    "slideshow": {
     "slide_type": "subslide"
    }
   },
   "source": [
    "Another performance measure (which is less commonly used) is the mean absolute error:\n",
    "\n",
    "The general formula:\n",
    "\n",
    "$$Mean\\ absolute\\ error \\ (MAE) = \\frac{1}{n} \\times \\sum_{i=1}^{n}(y_i-\\hat{y_i})$$\n",
    "\n"
   ]
  },
  {
   "cell_type": "markdown",
   "metadata": {
    "slideshow": {
     "slide_type": "slide"
    }
   },
   "source": [
    "### Use functions"
   ]
  },
  {
   "cell_type": "markdown",
   "metadata": {
    "slideshow": {
     "slide_type": "fragment"
    }
   },
   "source": [
    "#### Mean squared error"
   ]
  },
  {
   "cell_type": "code",
   "execution_count": 25,
   "metadata": {
    "execution": {
     "iopub.execute_input": "2023-01-25T17:05:55.701064Z",
     "iopub.status.busy": "2023-01-25T17:05:55.700858Z",
     "iopub.status.idle": "2023-01-25T17:05:55.704623Z",
     "shell.execute_reply": "2023-01-25T17:05:55.704185Z"
    },
    "slideshow": {
     "slide_type": "fragment"
    }
   },
   "outputs": [
    {
     "data": {
      "text/plain": [
       "1452000.0"
      ]
     },
     "execution_count": 25,
     "metadata": {},
     "output_type": "execute_result"
    }
   ],
   "source": [
    "mean_squared_error(df['sales'], df['sales_prediction'])"
   ]
  },
  {
   "cell_type": "markdown",
   "metadata": {
    "slideshow": {
     "slide_type": "slide"
    }
   },
   "source": [
    "#### Root mean squared error"
   ]
  },
  {
   "cell_type": "code",
   "execution_count": 26,
   "metadata": {
    "execution": {
     "iopub.execute_input": "2023-01-25T17:05:55.707302Z",
     "iopub.status.busy": "2023-01-25T17:05:55.707102Z",
     "iopub.status.idle": "2023-01-25T17:05:55.710868Z",
     "shell.execute_reply": "2023-01-25T17:05:55.710342Z"
    },
    "slideshow": {
     "slide_type": "fragment"
    }
   },
   "outputs": [
    {
     "data": {
      "text/plain": [
       "1204.9896265113655"
      ]
     },
     "execution_count": 26,
     "metadata": {},
     "output_type": "execute_result"
    }
   ],
   "source": [
    "mean_squared_error(df['sales'], df['sales_prediction'], squared=False)"
   ]
  },
  {
   "cell_type": "markdown",
   "metadata": {
    "slideshow": {
     "slide_type": "slide"
    }
   },
   "source": [
    "#### Mean absolute error"
   ]
  },
  {
   "cell_type": "code",
   "execution_count": 27,
   "metadata": {
    "execution": {
     "iopub.execute_input": "2023-01-25T17:05:55.713512Z",
     "iopub.status.busy": "2023-01-25T17:05:55.713311Z",
     "iopub.status.idle": "2023-01-25T17:05:56.103579Z",
     "shell.execute_reply": "2023-01-25T17:05:56.102984Z"
    },
    "slideshow": {
     "slide_type": "fragment"
    }
   },
   "outputs": [
    {
     "ename": "NameError",
     "evalue": "name 'mean_absolute_error' is not defined",
     "output_type": "error",
     "traceback": [
      "\u001b[0;31m---------------------------------------------------------------------------\u001b[0m",
      "\u001b[0;31mNameError\u001b[0m                                 Traceback (most recent call last)",
      "Cell \u001b[0;32mIn [27], line 1\u001b[0m\n\u001b[0;32m----> 1\u001b[0m mean_absolute_error(df[\u001b[38;5;124m'\u001b[39m\u001b[38;5;124msales\u001b[39m\u001b[38;5;124m'\u001b[39m], df[\u001b[38;5;124m'\u001b[39m\u001b[38;5;124msales_prediction\u001b[39m\u001b[38;5;124m'\u001b[39m])\n",
      "\u001b[0;31mNameError\u001b[0m: name 'mean_absolute_error' is not defined"
     ]
    }
   ],
   "source": [
    "mean_absolute_error(df['sales'], df['sales_prediction'])"
   ]
  }
 ],
 "metadata": {
  "kernelspec": {
   "display_name": "Python 3 (ipykernel)",
   "language": "python",
   "name": "python3"
  },
  "language_info": {
   "codemirror_mode": {
    "name": "ipython",
    "version": 3
   },
   "file_extension": ".py",
   "mimetype": "text/x-python",
   "name": "python",
   "nbconvert_exporter": "python",
   "pygments_lexer": "ipython3",
   "version": "3.9.13"
  },
  "vscode": {
   "interpreter": {
    "hash": "f4871879a9a1fb61ca5cb868b446a47f4fb8f8cdd1fe54ef0c54f1a1a8aa8aa5"
   }
  }
 },
 "nbformat": 4,
 "nbformat_minor": 2
}
