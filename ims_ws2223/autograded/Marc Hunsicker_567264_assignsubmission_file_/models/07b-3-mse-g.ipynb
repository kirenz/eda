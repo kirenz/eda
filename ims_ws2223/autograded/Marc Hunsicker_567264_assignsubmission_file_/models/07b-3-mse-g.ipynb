{
 "cells": [
  {
   "cell_type": "markdown",
   "metadata": {},
   "source": [
    "**Important notes:**\n",
    "\n",
    "**Important notes:**\n",
    "\n",
    "- You can complete this exercise in 1) Colab or 2) on your local machine\n",
    "  1. **Colab**: Click on the 🚀 symbol at the top of the page and select Colab. When you finished the exercise, download the file: `File` > `Download` > `ipynb`. \n",
    "  2. **Local**: click on the download button at the top of the page and choose `.ipynb`. Activate the conda environment `mr` before you start: `conda activate mr`\n",
    "\n",
    "\n",
    "- Don't change the name of the file and don't delete any cells.\n",
    "\n",
    "\n",
    "- Make sure you fill in any place that says  <font color='green'> \\# YOUR CODE HERE </font> or \"YOUR ANSWER HERE\", as well as your name and (if necessary) collaborators below.\n",
    "\n",
    "\n",
    "- The function **NotImplementedError()** prevents you from hand in assignments with empty cells. Simply delete the function if you start working on a cell with this entry.\n",
    "\n",
    "\n",
    "- Before you turn this problem in (i.e., after you completed all tasks), make sure everything runs as expected: Restart the kernel and run all cells:\n",
    "  - in *Colab*: in the menubar, select `Runtime` and click on `Restart and run all`\n",
    "  - if you use *Jupyter Notebook*: in the menubar, select `Kernel` and click on `Restart & Run All`\n",
    "  - if you use *Visual Studio Code*: select \"Restart\" and then \"Run All\" \n",
    "\n",
    "\n",
    "Good luck!"
   ]
  },
  {
   "cell_type": "code",
   "execution_count": 1,
   "metadata": {
    "execution": {
     "iopub.execute_input": "2023-01-25T17:05:57.388215Z",
     "iopub.status.busy": "2023-01-25T17:05:57.387664Z",
     "iopub.status.idle": "2023-01-25T17:05:57.398212Z",
     "shell.execute_reply": "2023-01-25T17:05:57.397639Z"
    }
   },
   "outputs": [],
   "source": [
    "NAME = \"mh322\"\n",
    "COLLABORATORS = \"none\""
   ]
  },
  {
   "cell_type": "code",
   "execution_count": 2,
   "metadata": {
    "execution": {
     "iopub.execute_input": "2023-01-25T17:05:57.401746Z",
     "iopub.status.busy": "2023-01-25T17:05:57.401465Z",
     "iopub.status.idle": "2023-01-25T17:05:57.404667Z",
     "shell.execute_reply": "2023-01-25T17:05:57.404077Z"
    }
   },
   "outputs": [],
   "source": [
    "import IPython\n",
    "assert IPython.version_info[0] >= 3, \"Your version of IPython is too old, please update it.\""
   ]
  },
  {
   "cell_type": "markdown",
   "metadata": {},
   "source": [
    "---"
   ]
  },
  {
   "cell_type": "markdown",
   "metadata": {
    "slideshow": {
     "slide_type": "slide"
    }
   },
   "source": [
    "# Find the best model"
   ]
  },
  {
   "cell_type": "markdown",
   "metadata": {
    "slideshow": {
     "slide_type": "fragment"
    }
   },
   "source": [
    "## Setup"
   ]
  },
  {
   "cell_type": "code",
   "execution_count": 3,
   "metadata": {
    "execution": {
     "iopub.execute_input": "2023-01-25T17:05:57.408261Z",
     "iopub.status.busy": "2023-01-25T17:05:57.408057Z",
     "iopub.status.idle": "2023-01-25T17:05:58.209505Z",
     "shell.execute_reply": "2023-01-25T17:05:58.208883Z"
    },
    "slideshow": {
     "slide_type": "fragment"
    }
   },
   "outputs": [],
   "source": [
    "import pandas as pd\n",
    "\n",
    "from sklearn.linear_model import LinearRegression\n",
    "from sklearn.metrics import mean_squared_error\n",
    "from sklearn.metrics import mean_absolute_error"
   ]
  },
  {
   "cell_type": "markdown",
   "metadata": {
    "slideshow": {
     "slide_type": "slide"
    }
   },
   "source": [
    "## Data"
   ]
  },
  {
   "cell_type": "markdown",
   "metadata": {
    "slideshow": {
     "slide_type": "slide"
    }
   },
   "source": [
    "### Create data"
   ]
  },
  {
   "cell_type": "code",
   "execution_count": 4,
   "metadata": {
    "execution": {
     "iopub.execute_input": "2023-01-25T17:05:58.212827Z",
     "iopub.status.busy": "2023-01-25T17:05:58.212540Z",
     "iopub.status.idle": "2023-01-25T17:05:58.216316Z",
     "shell.execute_reply": "2023-01-25T17:05:58.215797Z"
    },
    "slideshow": {
     "slide_type": "fragment"
    }
   },
   "outputs": [],
   "source": [
    "df = pd.DataFrame(\n",
    "    {'sales': [2500, 4500, 6500, 8500, 10500, 12500, 14500, 16500, 18500, 20500],\n",
    "      'ads'  : [900, 1400, 3600, 3800, 6200, 5200, 6800, 8300, 9800, 10100]}\n",
    ")"
   ]
  },
  {
   "cell_type": "markdown",
   "metadata": {},
   "source": [
    "### Variable lists"
   ]
  },
  {
   "cell_type": "markdown",
   "metadata": {
    "slideshow": {
     "slide_type": "slide"
    }
   },
   "source": [
    "We need to prepare our data for the scikit-learn model (which does not work with Pandas dataframes):\n",
    "\n",
    "- We create the variable `y_label` (our dependent variable, also called label): choose \"`sales`\" (this step will be helpful in later notebooks)\n",
    "\n",
    "- We select our features (independent variables) and save them as `X`: choose \"`ads`\"\n",
    "\n",
    "- Select and save the dependent variable as `y`"
   ]
  },
  {
   "cell_type": "markdown",
   "metadata": {
    "slideshow": {
     "slide_type": "slide"
    }
   },
   "source": [
    "Hint:\n",
    "\n",
    "```pyhton\n",
    "y_label = \"___\"\n",
    "\n",
    "X = df[[\"___\"]]\n",
    "y = df[___]\n",
    "```"
   ]
  },
  {
   "cell_type": "code",
   "execution_count": 5,
   "metadata": {
    "deletable": false,
    "execution": {
     "iopub.execute_input": "2023-01-25T17:05:58.219417Z",
     "iopub.status.busy": "2023-01-25T17:05:58.219214Z",
     "iopub.status.idle": "2023-01-25T17:05:58.223783Z",
     "shell.execute_reply": "2023-01-25T17:05:58.223267Z"
    },
    "nbgrader": {
     "cell_type": "code",
     "checksum": "add6035052913f4272accf7259c11dc5",
     "grade": false,
     "grade_id": "y_label",
     "locked": false,
     "schema_version": 3,
     "solution": true,
     "task": false
    },
    "slideshow": {
     "slide_type": "fragment"
    }
   },
   "outputs": [],
   "source": [
    "# YOUR CODE HERE\n",
    "# Wir erzeugen unser eigenes Label\n",
    "\n",
    "y_label = \"sales\"\n",
    "\n",
    "#Geh in den Dataframe und währe dann Spalte Ads\n",
    "X = df[[\"ads\"]]\n",
    "\n",
    "y=df[y_label]"
   ]
  },
  {
   "cell_type": "code",
   "execution_count": 6,
   "metadata": {
    "execution": {
     "iopub.execute_input": "2023-01-25T17:05:58.226515Z",
     "iopub.status.busy": "2023-01-25T17:05:58.226276Z",
     "iopub.status.idle": "2023-01-25T17:05:58.236776Z",
     "shell.execute_reply": "2023-01-25T17:05:58.236296Z"
    }
   },
   "outputs": [
    {
     "data": {
      "text/html": [
       "<div>\n",
       "<style scoped>\n",
       "    .dataframe tbody tr th:only-of-type {\n",
       "        vertical-align: middle;\n",
       "    }\n",
       "\n",
       "    .dataframe tbody tr th {\n",
       "        vertical-align: top;\n",
       "    }\n",
       "\n",
       "    .dataframe thead th {\n",
       "        text-align: right;\n",
       "    }\n",
       "</style>\n",
       "<table border=\"1\" class=\"dataframe\">\n",
       "  <thead>\n",
       "    <tr style=\"text-align: right;\">\n",
       "      <th></th>\n",
       "      <th>ads</th>\n",
       "    </tr>\n",
       "  </thead>\n",
       "  <tbody>\n",
       "    <tr>\n",
       "      <th>0</th>\n",
       "      <td>900</td>\n",
       "    </tr>\n",
       "    <tr>\n",
       "      <th>1</th>\n",
       "      <td>1400</td>\n",
       "    </tr>\n",
       "    <tr>\n",
       "      <th>2</th>\n",
       "      <td>3600</td>\n",
       "    </tr>\n",
       "    <tr>\n",
       "      <th>3</th>\n",
       "      <td>3800</td>\n",
       "    </tr>\n",
       "    <tr>\n",
       "      <th>4</th>\n",
       "      <td>6200</td>\n",
       "    </tr>\n",
       "    <tr>\n",
       "      <th>5</th>\n",
       "      <td>5200</td>\n",
       "    </tr>\n",
       "    <tr>\n",
       "      <th>6</th>\n",
       "      <td>6800</td>\n",
       "    </tr>\n",
       "    <tr>\n",
       "      <th>7</th>\n",
       "      <td>8300</td>\n",
       "    </tr>\n",
       "    <tr>\n",
       "      <th>8</th>\n",
       "      <td>9800</td>\n",
       "    </tr>\n",
       "    <tr>\n",
       "      <th>9</th>\n",
       "      <td>10100</td>\n",
       "    </tr>\n",
       "  </tbody>\n",
       "</table>\n",
       "</div>"
      ],
      "text/plain": [
       "     ads\n",
       "0    900\n",
       "1   1400\n",
       "2   3600\n",
       "3   3800\n",
       "4   6200\n",
       "5   5200\n",
       "6   6800\n",
       "7   8300\n",
       "8   9800\n",
       "9  10100"
      ]
     },
     "execution_count": 6,
     "metadata": {},
     "output_type": "execute_result"
    }
   ],
   "source": [
    "X\n",
    "#Ist jetzt nur Spalte X mit Ads\n",
    "#Wir haben den Dataframe zerlegt in X und Y"
   ]
  },
  {
   "cell_type": "code",
   "execution_count": 7,
   "metadata": {
    "execution": {
     "iopub.execute_input": "2023-01-25T17:05:58.239503Z",
     "iopub.status.busy": "2023-01-25T17:05:58.239273Z",
     "iopub.status.idle": "2023-01-25T17:05:58.243373Z",
     "shell.execute_reply": "2023-01-25T17:05:58.242813Z"
    }
   },
   "outputs": [
    {
     "data": {
      "text/plain": [
       "0     2500\n",
       "1     4500\n",
       "2     6500\n",
       "3     8500\n",
       "4    10500\n",
       "5    12500\n",
       "6    14500\n",
       "7    16500\n",
       "8    18500\n",
       "9    20500\n",
       "Name: sales, dtype: int64"
      ]
     },
     "execution_count": 7,
     "metadata": {},
     "output_type": "execute_result"
    }
   ],
   "source": [
    "y\n",
    "#Y ist meine abhängige Variable"
   ]
  },
  {
   "cell_type": "code",
   "execution_count": 8,
   "metadata": {
    "deletable": false,
    "editable": false,
    "execution": {
     "iopub.execute_input": "2023-01-25T17:05:58.246027Z",
     "iopub.status.busy": "2023-01-25T17:05:58.245800Z",
     "iopub.status.idle": "2023-01-25T17:05:58.248674Z",
     "shell.execute_reply": "2023-01-25T17:05:58.248155Z"
    },
    "nbgrader": {
     "cell_type": "code",
     "checksum": "4f1853b04dc95e6d21116c6627ed897b",
     "grade": true,
     "grade_id": "c",
     "locked": true,
     "points": 2,
     "schema_version": 3,
     "solution": false,
     "task": false
    },
    "slideshow": {
     "slide_type": "fragment"
    }
   },
   "outputs": [],
   "source": [
    "### Check your code (note that there are some hidden checks)\n",
    "assert len(X) == 10\n",
    "\n",
    "### BEGIN HIDDEN TESTS \n",
    "assert y_label == \"sales\"\n",
    "assert len(y) == 10\n",
    "### END HIDDEN TESTS"
   ]
  },
  {
   "cell_type": "markdown",
   "metadata": {
    "slideshow": {
     "slide_type": "slide"
    }
   },
   "source": [
    "## Model"
   ]
  },
  {
   "cell_type": "markdown",
   "metadata": {
    "slideshow": {
     "slide_type": "fragment"
    }
   },
   "source": [
    "### Select model"
   ]
  },
  {
   "cell_type": "markdown",
   "metadata": {
    "slideshow": {
     "slide_type": "slide"
    }
   },
   "source": [
    "Hint:\n",
    "\n",
    "Save the `LinearRegression()`estimator as object called `reg`\n",
    "\n",
    "---\n",
    "\n",
    "```pyhton\n",
    "___ = ___()\n",
    "```\n",
    "\n",
    "---"
   ]
  },
  {
   "cell_type": "code",
   "execution_count": 9,
   "metadata": {
    "deletable": false,
    "execution": {
     "iopub.execute_input": "2023-01-25T17:05:58.252474Z",
     "iopub.status.busy": "2023-01-25T17:05:58.252221Z",
     "iopub.status.idle": "2023-01-25T17:05:58.255013Z",
     "shell.execute_reply": "2023-01-25T17:05:58.254446Z"
    },
    "nbgrader": {
     "cell_type": "code",
     "checksum": "b926f642ff4d1525c6d4966b09646dd2",
     "grade": false,
     "grade_id": "reg",
     "locked": false,
     "schema_version": 3,
     "solution": true,
     "task": false
    },
    "slideshow": {
     "slide_type": "fragment"
    }
   },
   "outputs": [],
   "source": [
    "# YOUR CODE HERE\n",
    "#Reg steht für Regression\n",
    "#Die Funktion LinearRegression haben wir oben importiert\n",
    "#Reg ist jetzt ein Objekt, dass wir so weiter nutzen können\n",
    "reg = LinearRegression()"
   ]
  },
  {
   "cell_type": "code",
   "execution_count": 10,
   "metadata": {
    "deletable": false,
    "editable": false,
    "execution": {
     "iopub.execute_input": "2023-01-25T17:05:58.257624Z",
     "iopub.status.busy": "2023-01-25T17:05:58.257402Z",
     "iopub.status.idle": "2023-01-25T17:05:58.260402Z",
     "shell.execute_reply": "2023-01-25T17:05:58.259932Z"
    },
    "nbgrader": {
     "cell_type": "code",
     "checksum": "023e438413f8b45ce577ba7abe5acba9",
     "grade": true,
     "grade_id": "c-reg",
     "locked": true,
     "points": 2,
     "schema_version": 3,
     "solution": false,
     "task": false
    },
    "slideshow": {
     "slide_type": "fragment"
    }
   },
   "outputs": [],
   "source": [
    "### Check your code\n",
    "assert reg.get_params() == {'copy_X': True, 'fit_intercept': True, 'n_jobs': None, 'normalize': 'deprecated', 'positive': False}"
   ]
  },
  {
   "cell_type": "markdown",
   "metadata": {
    "slideshow": {
     "slide_type": "fragment"
    }
   },
   "source": [
    "### Fit model"
   ]
  },
  {
   "cell_type": "markdown",
   "metadata": {
    "slideshow": {
     "slide_type": "slide"
    }
   },
   "source": [
    "\n",
    "Fit the model (your `reg` object) to the data with `.fit()`.\n",
    "\n",
    "In the fit function, you first need to provide the features and then the dependent variable (features, dependent variable)\n",
    "\n",
    "Hint:\n",
    "\n",
    "\n",
    "---\n",
    "\n",
    "```pyhton\n",
    "___.___(___, ___)\n",
    "```\n",
    "\n",
    "---\n",
    "\n"
   ]
  },
  {
   "cell_type": "code",
   "execution_count": 11,
   "metadata": {
    "deletable": false,
    "execution": {
     "iopub.execute_input": "2023-01-25T17:05:58.263311Z",
     "iopub.status.busy": "2023-01-25T17:05:58.263101Z",
     "iopub.status.idle": "2023-01-25T17:05:58.269367Z",
     "shell.execute_reply": "2023-01-25T17:05:58.268846Z"
    },
    "nbgrader": {
     "cell_type": "code",
     "checksum": "ca5d36fdfae75827d686d189279e23e0",
     "grade": false,
     "grade_id": "reg-fit",
     "locked": false,
     "schema_version": 3,
     "solution": true,
     "task": false
    },
    "slideshow": {
     "slide_type": "fragment"
    }
   },
   "outputs": [
    {
     "data": {
      "text/html": [
       "<style>#sk-container-id-1 {color: black;background-color: white;}#sk-container-id-1 pre{padding: 0;}#sk-container-id-1 div.sk-toggleable {background-color: white;}#sk-container-id-1 label.sk-toggleable__label {cursor: pointer;display: block;width: 100%;margin-bottom: 0;padding: 0.3em;box-sizing: border-box;text-align: center;}#sk-container-id-1 label.sk-toggleable__label-arrow:before {content: \"▸\";float: left;margin-right: 0.25em;color: #696969;}#sk-container-id-1 label.sk-toggleable__label-arrow:hover:before {color: black;}#sk-container-id-1 div.sk-estimator:hover label.sk-toggleable__label-arrow:before {color: black;}#sk-container-id-1 div.sk-toggleable__content {max-height: 0;max-width: 0;overflow: hidden;text-align: left;background-color: #f0f8ff;}#sk-container-id-1 div.sk-toggleable__content pre {margin: 0.2em;color: black;border-radius: 0.25em;background-color: #f0f8ff;}#sk-container-id-1 input.sk-toggleable__control:checked~div.sk-toggleable__content {max-height: 200px;max-width: 100%;overflow: auto;}#sk-container-id-1 input.sk-toggleable__control:checked~label.sk-toggleable__label-arrow:before {content: \"▾\";}#sk-container-id-1 div.sk-estimator input.sk-toggleable__control:checked~label.sk-toggleable__label {background-color: #d4ebff;}#sk-container-id-1 div.sk-label input.sk-toggleable__control:checked~label.sk-toggleable__label {background-color: #d4ebff;}#sk-container-id-1 input.sk-hidden--visually {border: 0;clip: rect(1px 1px 1px 1px);clip: rect(1px, 1px, 1px, 1px);height: 1px;margin: -1px;overflow: hidden;padding: 0;position: absolute;width: 1px;}#sk-container-id-1 div.sk-estimator {font-family: monospace;background-color: #f0f8ff;border: 1px dotted black;border-radius: 0.25em;box-sizing: border-box;margin-bottom: 0.5em;}#sk-container-id-1 div.sk-estimator:hover {background-color: #d4ebff;}#sk-container-id-1 div.sk-parallel-item::after {content: \"\";width: 100%;border-bottom: 1px solid gray;flex-grow: 1;}#sk-container-id-1 div.sk-label:hover label.sk-toggleable__label {background-color: #d4ebff;}#sk-container-id-1 div.sk-serial::before {content: \"\";position: absolute;border-left: 1px solid gray;box-sizing: border-box;top: 0;bottom: 0;left: 50%;z-index: 0;}#sk-container-id-1 div.sk-serial {display: flex;flex-direction: column;align-items: center;background-color: white;padding-right: 0.2em;padding-left: 0.2em;position: relative;}#sk-container-id-1 div.sk-item {position: relative;z-index: 1;}#sk-container-id-1 div.sk-parallel {display: flex;align-items: stretch;justify-content: center;background-color: white;position: relative;}#sk-container-id-1 div.sk-item::before, #sk-container-id-1 div.sk-parallel-item::before {content: \"\";position: absolute;border-left: 1px solid gray;box-sizing: border-box;top: 0;bottom: 0;left: 50%;z-index: -1;}#sk-container-id-1 div.sk-parallel-item {display: flex;flex-direction: column;z-index: 1;position: relative;background-color: white;}#sk-container-id-1 div.sk-parallel-item:first-child::after {align-self: flex-end;width: 50%;}#sk-container-id-1 div.sk-parallel-item:last-child::after {align-self: flex-start;width: 50%;}#sk-container-id-1 div.sk-parallel-item:only-child::after {width: 0;}#sk-container-id-1 div.sk-dashed-wrapped {border: 1px dashed gray;margin: 0 0.4em 0.5em 0.4em;box-sizing: border-box;padding-bottom: 0.4em;background-color: white;}#sk-container-id-1 div.sk-label label {font-family: monospace;font-weight: bold;display: inline-block;line-height: 1.2em;}#sk-container-id-1 div.sk-label-container {text-align: center;}#sk-container-id-1 div.sk-container {/* jupyter's `normalize.less` sets `[hidden] { display: none; }` but bootstrap.min.css set `[hidden] { display: none !important; }` so we also need the `!important` here to be able to override the default hidden behavior on the sphinx rendered scikit-learn.org. See: https://github.com/scikit-learn/scikit-learn/issues/21755 */display: inline-block !important;position: relative;}#sk-container-id-1 div.sk-text-repr-fallback {display: none;}</style><div id=\"sk-container-id-1\" class=\"sk-top-container\"><div class=\"sk-text-repr-fallback\"><pre>LinearRegression()</pre><b>In a Jupyter environment, please rerun this cell to show the HTML representation or trust the notebook. <br />On GitHub, the HTML representation is unable to render, please try loading this page with nbviewer.org.</b></div><div class=\"sk-container\" hidden><div class=\"sk-item\"><div class=\"sk-estimator sk-toggleable\"><input class=\"sk-toggleable__control sk-hidden--visually\" id=\"sk-estimator-id-1\" type=\"checkbox\" checked><label for=\"sk-estimator-id-1\" class=\"sk-toggleable__label sk-toggleable__label-arrow\">LinearRegression</label><div class=\"sk-toggleable__content\"><pre>LinearRegression()</pre></div></div></div></div></div>"
      ],
      "text/plain": [
       "LinearRegression()"
      ]
     },
     "execution_count": 11,
     "metadata": {},
     "output_type": "execute_result"
    }
   ],
   "source": [
    "#Mache das Model und wende es auf mein Modell an.\n",
    "reg.fit(X, y)"
   ]
  },
  {
   "cell_type": "code",
   "execution_count": 12,
   "metadata": {
    "deletable": false,
    "editable": false,
    "execution": {
     "iopub.execute_input": "2023-01-25T17:05:58.272086Z",
     "iopub.status.busy": "2023-01-25T17:05:58.271870Z",
     "iopub.status.idle": "2023-01-25T17:05:58.274443Z",
     "shell.execute_reply": "2023-01-25T17:05:58.273830Z"
    },
    "nbgrader": {
     "cell_type": "code",
     "checksum": "5e29d6d43ff977c4ec66994f9871ae5c",
     "grade": true,
     "grade_id": "c-reg-fit",
     "locked": true,
     "points": 2,
     "schema_version": 3,
     "solution": false,
     "task": false
    },
    "slideshow": {
     "slide_type": "fragment"
    }
   },
   "outputs": [],
   "source": [
    "### Check your code\n",
    "assert reg.positive == False"
   ]
  },
  {
   "cell_type": "markdown",
   "metadata": {
    "slideshow": {
     "slide_type": "slide"
    }
   },
   "source": [
    "### Coefficients"
   ]
  },
  {
   "cell_type": "code",
   "execution_count": 13,
   "metadata": {
    "execution": {
     "iopub.execute_input": "2023-01-25T17:05:58.277143Z",
     "iopub.status.busy": "2023-01-25T17:05:58.276939Z",
     "iopub.status.idle": "2023-01-25T17:05:58.280268Z",
     "shell.execute_reply": "2023-01-25T17:05:58.279817Z"
    },
    "slideshow": {
     "slide_type": "fragment"
    }
   },
   "outputs": [
    {
     "data": {
      "text/plain": [
       "1181.2100861766648"
      ]
     },
     "execution_count": 13,
     "metadata": {},
     "output_type": "execute_result"
    }
   ],
   "source": [
    "# Intercept\n",
    "reg.intercept_\n",
    "#Wert, dort wo X = 0 ist der Schnittpunkt."
   ]
  },
  {
   "cell_type": "code",
   "execution_count": 14,
   "metadata": {
    "execution": {
     "iopub.execute_input": "2023-01-25T17:05:58.282926Z",
     "iopub.status.busy": "2023-01-25T17:05:58.282719Z",
     "iopub.status.idle": "2023-01-25T17:05:58.286229Z",
     "shell.execute_reply": "2023-01-25T17:05:58.285788Z"
    },
    "slideshow": {
     "slide_type": "fragment"
    }
   },
   "outputs": [
    {
     "data": {
      "text/plain": [
       "array([1.83935649])"
      ]
     },
     "execution_count": 14,
     "metadata": {},
     "output_type": "execute_result"
    }
   ],
   "source": [
    "# Slope\n",
    "reg.coef_\n",
    "\n",
    "#Das sind unsere Werte, die den kleinsten Mean Square Error erreichen."
   ]
  },
  {
   "cell_type": "markdown",
   "metadata": {
    "slideshow": {
     "slide_type": "slide"
    }
   },
   "source": [
    "### Make predictions"
   ]
  },
  {
   "cell_type": "markdown",
   "metadata": {
    "slideshow": {
     "slide_type": "slide"
    }
   },
   "source": [
    "\n",
    "Use your model to:\n",
    "\n",
    "- predict sales from your ads (`X`) values with the method `.predict()`\n",
    "\n",
    "- Save the result as `y_pred`\n",
    "\n",
    "Hint:\n",
    "\n",
    "---\n",
    "\n",
    "```pyhton\n",
    "___ = ___.___(___)\n",
    "```\n",
    "\n",
    "---\n",
    "\n"
   ]
  },
  {
   "cell_type": "code",
   "execution_count": 15,
   "metadata": {
    "deletable": false,
    "execution": {
     "iopub.execute_input": "2023-01-25T17:05:58.289042Z",
     "iopub.status.busy": "2023-01-25T17:05:58.288845Z",
     "iopub.status.idle": "2023-01-25T17:05:58.292389Z",
     "shell.execute_reply": "2023-01-25T17:05:58.291897Z"
    },
    "nbgrader": {
     "cell_type": "code",
     "checksum": "25a99ab2fc2d9a60ae6645d79864c061",
     "grade": false,
     "grade_id": "y-pred",
     "locked": false,
     "schema_version": 3,
     "solution": true,
     "task": false
    },
    "slideshow": {
     "slide_type": "fragment"
    }
   },
   "outputs": [],
   "source": [
    "#Reg muss genutzt werden, da es die Daten enthält. Führe damit die Prediction durch.\n",
    "#(x) heißt, mach eine Prediction für alle unsere Werte, alternativ geht auch einzelner Wert\n",
    "y_pred = reg.predict(X)"
   ]
  },
  {
   "cell_type": "code",
   "execution_count": 16,
   "metadata": {
    "execution": {
     "iopub.execute_input": "2023-01-25T17:05:58.294997Z",
     "iopub.status.busy": "2023-01-25T17:05:58.294799Z",
     "iopub.status.idle": "2023-01-25T17:05:58.298212Z",
     "shell.execute_reply": "2023-01-25T17:05:58.297642Z"
    }
   },
   "outputs": [
    {
     "data": {
      "text/plain": [
       "2836.6309279665047"
      ]
     },
     "execution_count": 16,
     "metadata": {},
     "output_type": "execute_result"
    }
   ],
   "source": [
    "#Wert für Spalte 0\n",
    "y_pred[0]"
   ]
  },
  {
   "cell_type": "code",
   "execution_count": 17,
   "metadata": {
    "deletable": false,
    "editable": false,
    "execution": {
     "iopub.execute_input": "2023-01-25T17:05:58.300768Z",
     "iopub.status.busy": "2023-01-25T17:05:58.300581Z",
     "iopub.status.idle": "2023-01-25T17:05:58.303075Z",
     "shell.execute_reply": "2023-01-25T17:05:58.302635Z"
    },
    "nbgrader": {
     "cell_type": "code",
     "checksum": "da6e07611db08003ac064dfb4bfe72e4",
     "grade": true,
     "grade_id": "c-y-pred",
     "locked": true,
     "points": 2,
     "schema_version": 3,
     "solution": false,
     "task": false
    },
    "slideshow": {
     "slide_type": "fragment"
    }
   },
   "outputs": [],
   "source": [
    "### Check your code\n",
    "assert 2836 < y_pred[0] <  2840"
   ]
  },
  {
   "cell_type": "markdown",
   "metadata": {
    "slideshow": {
     "slide_type": "slide"
    }
   },
   "source": [
    "### Evaluation"
   ]
  },
  {
   "cell_type": "markdown",
   "metadata": {
    "slideshow": {
     "slide_type": "slide"
    }
   },
   "source": [
    "#### Mean squared error"
   ]
  },
  {
   "cell_type": "markdown",
   "metadata": {
    "slideshow": {
     "slide_type": "slide"
    }
   },
   "source": [
    "Use the scikit-learn function `mean_squared_error()` to calculate the mean squared error and save the result as `mse`\n",
    "\n",
    "Hint:\n",
    "\n",
    "---\n",
    "\n",
    "```pyhton\n",
    "___ = ___(___, ___)\n",
    "```\n",
    "\n",
    "---"
   ]
  },
  {
   "cell_type": "code",
   "execution_count": 18,
   "metadata": {
    "deletable": false,
    "execution": {
     "iopub.execute_input": "2023-01-25T17:05:58.306656Z",
     "iopub.status.busy": "2023-01-25T17:05:58.306451Z",
     "iopub.status.idle": "2023-01-25T17:05:58.310227Z",
     "shell.execute_reply": "2023-01-25T17:05:58.309619Z"
    },
    "nbgrader": {
     "cell_type": "code",
     "checksum": "777256bec5c11df90dbb9d0f4a4e0842",
     "grade": false,
     "grade_id": "mse",
     "locked": false,
     "schema_version": 3,
     "solution": true,
     "task": false
    },
    "slideshow": {
     "slide_type": "fragment"
    }
   },
   "outputs": [
    {
     "data": {
      "text/plain": [
       "1160739.1429087555"
      ]
     },
     "execution_count": 18,
     "metadata": {},
     "output_type": "execute_result"
    }
   ],
   "source": [
    "#Immer zuerst die tatsachlichen Werte geben und dann unsere Outcomes.\n",
    "#Wahre Werte sind in y und dann vergleichen mit y_pred\n",
    "mse = mean_squared_error(y, y_pred)\n",
    "\n",
    "mse"
   ]
  },
  {
   "cell_type": "code",
   "execution_count": 19,
   "metadata": {
    "execution": {
     "iopub.execute_input": "2023-01-25T17:05:58.313250Z",
     "iopub.status.busy": "2023-01-25T17:05:58.313000Z",
     "iopub.status.idle": "2023-01-25T17:05:58.316258Z",
     "shell.execute_reply": "2023-01-25T17:05:58.315630Z"
    },
    "slideshow": {
     "slide_type": "subslide"
    }
   },
   "outputs": [
    {
     "name": "stdout",
     "output_type": "stream",
     "text": [
      "The mean squared error equals 1160739 \n"
     ]
    }
   ],
   "source": [
    "#Macht die Ausgabe schöner {Objektname:runden mit keiner Nachkommastelle}\n",
    "print(f'The mean squared error equals {mse:.0f} ')"
   ]
  },
  {
   "cell_type": "code",
   "execution_count": 20,
   "metadata": {
    "deletable": false,
    "editable": false,
    "execution": {
     "iopub.execute_input": "2023-01-25T17:05:58.319370Z",
     "iopub.status.busy": "2023-01-25T17:05:58.319125Z",
     "iopub.status.idle": "2023-01-25T17:05:58.321787Z",
     "shell.execute_reply": "2023-01-25T17:05:58.321309Z"
    },
    "nbgrader": {
     "cell_type": "code",
     "checksum": "d79d653e00a9e34c3106ec6cc2f5fa80",
     "grade": true,
     "grade_id": "c-mse",
     "locked": true,
     "points": 2,
     "schema_version": 3,
     "solution": false,
     "task": false
    },
    "slideshow": {
     "slide_type": "subslide"
    }
   },
   "outputs": [],
   "source": [
    "### Check your code\n",
    "assert 1160738 < mse < 1160740 "
   ]
  },
  {
   "cell_type": "markdown",
   "metadata": {
    "slideshow": {
     "slide_type": "slide"
    }
   },
   "source": [
    "#### Root mean squared error"
   ]
  },
  {
   "cell_type": "markdown",
   "metadata": {
    "slideshow": {
     "slide_type": "slide"
    }
   },
   "source": [
    "Use the scikit-learn function `mean_squared_error()` to calculate the root mean squared error and save the result as `rmse`.\n",
    "\n",
    "Hint:\n",
    "\n",
    "---\n",
    "\n",
    "```pyhton\n",
    "___ = ___(___, ___, ___)\n",
    "```\n",
    "\n",
    "- use the option `squared=False` \n",
    "\n",
    "---"
   ]
  },
  {
   "cell_type": "code",
   "execution_count": 21,
   "metadata": {
    "deletable": false,
    "execution": {
     "iopub.execute_input": "2023-01-25T17:05:58.324666Z",
     "iopub.status.busy": "2023-01-25T17:05:58.324464Z",
     "iopub.status.idle": "2023-01-25T17:05:58.327299Z",
     "shell.execute_reply": "2023-01-25T17:05:58.326797Z"
    },
    "nbgrader": {
     "cell_type": "code",
     "checksum": "9b57ea2b4064a3c7cc32097537fb28cc",
     "grade": false,
     "grade_id": "rmse",
     "locked": false,
     "schema_version": 3,
     "solution": true,
     "task": false
    },
    "slideshow": {
     "slide_type": "fragment"
    }
   },
   "outputs": [],
   "source": [
    "#Squared - nicht quadireren.\n",
    "rmse = mean_squared_error(y, y_pred, squared=False)"
   ]
  },
  {
   "cell_type": "code",
   "execution_count": 22,
   "metadata": {
    "execution": {
     "iopub.execute_input": "2023-01-25T17:05:58.329914Z",
     "iopub.status.busy": "2023-01-25T17:05:58.329671Z",
     "iopub.status.idle": "2023-01-25T17:05:58.333018Z",
     "shell.execute_reply": "2023-01-25T17:05:58.332325Z"
    },
    "slideshow": {
     "slide_type": "subslide"
    }
   },
   "outputs": [
    {
     "name": "stdout",
     "output_type": "stream",
     "text": [
      "The root mean squared error equals 1077 \n"
     ]
    }
   ],
   "source": [
    "print(f'The root mean squared error equals {rmse:.0f} ')"
   ]
  },
  {
   "cell_type": "code",
   "execution_count": 23,
   "metadata": {
    "deletable": false,
    "editable": false,
    "execution": {
     "iopub.execute_input": "2023-01-25T17:05:58.336194Z",
     "iopub.status.busy": "2023-01-25T17:05:58.335961Z",
     "iopub.status.idle": "2023-01-25T17:05:58.338587Z",
     "shell.execute_reply": "2023-01-25T17:05:58.338107Z"
    },
    "nbgrader": {
     "cell_type": "code",
     "checksum": "9af733710ff7144a67cb0254697f4b7b",
     "grade": true,
     "grade_id": "c-rmse",
     "locked": true,
     "points": 2,
     "schema_version": 3,
     "solution": false,
     "task": false
    },
    "slideshow": {
     "slide_type": "subslide"
    }
   },
   "outputs": [],
   "source": [
    "### Check your code\n",
    "assert 1076 < rmse < 1078 "
   ]
  },
  {
   "cell_type": "markdown",
   "metadata": {
    "slideshow": {
     "slide_type": "slide"
    }
   },
   "source": [
    "#### Mean absolute error"
   ]
  },
  {
   "cell_type": "markdown",
   "metadata": {
    "slideshow": {
     "slide_type": "slide"
    }
   },
   "source": [
    "Use the scikit-learn function `mean_absolute_error()` to calculate the mean absolute error and save the result as `mae`.\n",
    "\n",
    "Hint:\n",
    "\n",
    "---\n",
    "\n",
    "```pyhton\n",
    "___ = ___(___, ___)\n",
    "```\n",
    "\n",
    "\n",
    "---"
   ]
  },
  {
   "cell_type": "code",
   "execution_count": 24,
   "metadata": {
    "deletable": false,
    "execution": {
     "iopub.execute_input": "2023-01-25T17:05:58.341452Z",
     "iopub.status.busy": "2023-01-25T17:05:58.341242Z",
     "iopub.status.idle": "2023-01-25T17:05:58.344109Z",
     "shell.execute_reply": "2023-01-25T17:05:58.343609Z"
    },
    "nbgrader": {
     "cell_type": "code",
     "checksum": "fd6454a6ae887855d3d372cdc283bc5d",
     "grade": false,
     "grade_id": "mae",
     "locked": false,
     "schema_version": 3,
     "solution": true,
     "task": false
    },
    "slideshow": {
     "slide_type": "fragment"
    }
   },
   "outputs": [],
   "source": [
    "mae = mean_absolute_error(y, y_pred)"
   ]
  },
  {
   "cell_type": "code",
   "execution_count": 25,
   "metadata": {
    "execution": {
     "iopub.execute_input": "2023-01-25T17:05:58.346815Z",
     "iopub.status.busy": "2023-01-25T17:05:58.346472Z",
     "iopub.status.idle": "2023-01-25T17:05:58.349409Z",
     "shell.execute_reply": "2023-01-25T17:05:58.348874Z"
    },
    "slideshow": {
     "slide_type": "subslide"
    }
   },
   "outputs": [
    {
     "name": "stdout",
     "output_type": "stream",
     "text": [
      "The mean absolute error equals 886 \n"
     ]
    }
   ],
   "source": [
    "print(f'The mean absolute error equals {mae:.0f} ')\n",
    "\n",
    "# Der durchschnittliche Fehler ist 886. Liegen um 886 im Schnitt daneben."
   ]
  },
  {
   "cell_type": "code",
   "execution_count": 26,
   "metadata": {
    "deletable": false,
    "editable": false,
    "execution": {
     "iopub.execute_input": "2023-01-25T17:05:58.352126Z",
     "iopub.status.busy": "2023-01-25T17:05:58.351911Z",
     "iopub.status.idle": "2023-01-25T17:05:58.354567Z",
     "shell.execute_reply": "2023-01-25T17:05:58.353991Z"
    },
    "nbgrader": {
     "cell_type": "code",
     "checksum": "1158c54808fbdcb232722476610f11ae",
     "grade": true,
     "grade_id": "c-mae",
     "locked": true,
     "points": 2,
     "schema_version": 3,
     "solution": false,
     "task": false
    },
    "slideshow": {
     "slide_type": "subslide"
    }
   },
   "outputs": [],
   "source": [
    "### Check your code\n",
    "assert 885 < mae < 887 "
   ]
  }
 ],
 "metadata": {
  "kernelspec": {
   "display_name": "Python 3 (ipykernel)",
   "language": "python",
   "name": "python3"
  },
  "language_info": {
   "codemirror_mode": {
    "name": "ipython",
    "version": 3
   },
   "file_extension": ".py",
   "mimetype": "text/x-python",
   "name": "python",
   "nbconvert_exporter": "python",
   "pygments_lexer": "ipython3",
   "version": "3.9.13"
  },
  "vscode": {
   "interpreter": {
    "hash": "f4871879a9a1fb61ca5cb868b446a47f4fb8f8cdd1fe54ef0c54f1a1a8aa8aa5"
   }
  }
 },
 "nbformat": 4,
 "nbformat_minor": 2
}
