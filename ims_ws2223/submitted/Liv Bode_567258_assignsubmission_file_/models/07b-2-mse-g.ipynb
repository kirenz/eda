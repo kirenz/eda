{
  "cells": [
    {
      "cell_type": "markdown",
      "metadata": {
        "id": "Ls0dHtx7anzY"
      },
      "source": [
        "**Important notes:**\n",
        "\n",
        "**Important notes:**\n",
        "\n",
        "- You can complete this exercise in 1) Colab or 2) on your local machine\n",
        "  1. **Colab**: Click on the 🚀 symbol at the top of the page and select Colab. When you finished the exercise, download the file: `File` > `Download` > `ipynb`. \n",
        "  2. **Local**: click on the download button at the top of the page and choose `.ipynb`. Activate the conda environment `mr` before you start: `conda activate mr`\n",
        "\n",
        "\n",
        "- Don't change the name of the file and don't delete any cells.\n",
        "\n",
        "\n",
        "- Make sure you fill in any place that says  <font color='green'> \\# YOUR CODE HERE </font> or \"YOUR ANSWER HERE\", as well as your name and (if necessary) collaborators below.\n",
        "\n",
        "\n",
        "- The function **NotImplementedError()** prevents you from hand in assignments with empty cells. Simply delete the function if you start working on a cell with this entry.\n",
        "\n",
        "\n",
        "- Before you turn this problem in (i.e., after you completed all tasks), make sure everything runs as expected: Restart the kernel and run all cells:\n",
        "  - in *Colab*: in the menubar, select `Runtime` and click on `Restart and run all`\n",
        "  - if you use *Jupyter Notebook*: in the menubar, select `Kernel` and click on `Restart & Run All`\n",
        "  - if you use *Visual Studio Code*: select \"Restart\" and then \"Run All\" \n",
        "\n",
        "\n",
        "Good luck!"
      ]
    },
    {
      "cell_type": "code",
      "execution_count": null,
      "metadata": {
        "id": "cght7Dl7anza"
      },
      "outputs": [],
      "source": [
        "NAME = \"lb199\"\n",
        "COLLABORATORS = \"\""
      ]
    },
    {
      "cell_type": "code",
      "execution_count": 1,
      "metadata": {
        "id": "KzlDMG7Wanzb"
      },
      "outputs": [],
      "source": [
        "import IPython\n",
        "assert IPython.version_info[0] >= 3, \"Your version of IPython is too old, please update it.\""
      ]
    },
    {
      "cell_type": "markdown",
      "metadata": {
        "id": "KaRMeYi6anzb"
      },
      "source": [
        "---"
      ]
    },
    {
      "cell_type": "markdown",
      "metadata": {
        "id": "zP8eqsqfanzb"
      },
      "source": [
        "# Mean squared error"
      ]
    },
    {
      "cell_type": "markdown",
      "metadata": {
        "id": "ksp1wJJdanzb"
      },
      "source": [
        "## Setup\n",
        "\n",
        "We need the following modules:\n",
        "\n",
        "- pandas\n",
        "- scikit-learn"
      ]
    },
    {
      "cell_type": "code",
      "execution_count": 2,
      "metadata": {
        "id": "g3ExznCNanzc"
      },
      "outputs": [],
      "source": [
        "import pandas as pd\n",
        "from sklearn.metrics import mean_squared_error"
      ]
    },
    {
      "cell_type": "markdown",
      "metadata": {
        "id": "ZqkuH1WEanzc"
      },
      "source": [
        "## Data"
      ]
    },
    {
      "cell_type": "markdown",
      "metadata": {
        "id": "JXRuIM6Nanzc"
      },
      "source": [
        "### Create data"
      ]
    },
    {
      "cell_type": "code",
      "execution_count": 3,
      "metadata": {
        "id": "Uqv9QGZBanzc"
      },
      "outputs": [],
      "source": [
        "df = pd.DataFrame(\n",
        "    {'sales': [2500, 4500, 6500, 8500, 10500, 12500, 14500, 16500, 18500, 20500],\n",
        "      'ads'  : [900, 1400, 3600, 3800, 6200, 5200, 6800, 8300, 9800, 10100]}\n",
        ")"
      ]
    },
    {
      "cell_type": "markdown",
      "metadata": {
        "id": "t2zM3G2Zanzc"
      },
      "source": [
        "### Data structure"
      ]
    },
    {
      "cell_type": "code",
      "execution_count": 4,
      "metadata": {
        "id": "t4aV3aqdanzd",
        "outputId": "3ad524b2-e974-4cb1-914a-f069028933d4",
        "colab": {
          "base_uri": "https://localhost:8080/",
          "height": 359
        }
      },
      "outputs": [
        {
          "output_type": "execute_result",
          "data": {
            "text/plain": [
              "   sales    ads\n",
              "0   2500    900\n",
              "1   4500   1400\n",
              "2   6500   3600\n",
              "3   8500   3800\n",
              "4  10500   6200\n",
              "5  12500   5200\n",
              "6  14500   6800\n",
              "7  16500   8300\n",
              "8  18500   9800\n",
              "9  20500  10100"
            ],
            "text/html": [
              "\n",
              "  <div id=\"df-36d1d460-3ab7-4492-a6f8-637a53021a2c\">\n",
              "    <div class=\"colab-df-container\">\n",
              "      <div>\n",
              "<style scoped>\n",
              "    .dataframe tbody tr th:only-of-type {\n",
              "        vertical-align: middle;\n",
              "    }\n",
              "\n",
              "    .dataframe tbody tr th {\n",
              "        vertical-align: top;\n",
              "    }\n",
              "\n",
              "    .dataframe thead th {\n",
              "        text-align: right;\n",
              "    }\n",
              "</style>\n",
              "<table border=\"1\" class=\"dataframe\">\n",
              "  <thead>\n",
              "    <tr style=\"text-align: right;\">\n",
              "      <th></th>\n",
              "      <th>sales</th>\n",
              "      <th>ads</th>\n",
              "    </tr>\n",
              "  </thead>\n",
              "  <tbody>\n",
              "    <tr>\n",
              "      <th>0</th>\n",
              "      <td>2500</td>\n",
              "      <td>900</td>\n",
              "    </tr>\n",
              "    <tr>\n",
              "      <th>1</th>\n",
              "      <td>4500</td>\n",
              "      <td>1400</td>\n",
              "    </tr>\n",
              "    <tr>\n",
              "      <th>2</th>\n",
              "      <td>6500</td>\n",
              "      <td>3600</td>\n",
              "    </tr>\n",
              "    <tr>\n",
              "      <th>3</th>\n",
              "      <td>8500</td>\n",
              "      <td>3800</td>\n",
              "    </tr>\n",
              "    <tr>\n",
              "      <th>4</th>\n",
              "      <td>10500</td>\n",
              "      <td>6200</td>\n",
              "    </tr>\n",
              "    <tr>\n",
              "      <th>5</th>\n",
              "      <td>12500</td>\n",
              "      <td>5200</td>\n",
              "    </tr>\n",
              "    <tr>\n",
              "      <th>6</th>\n",
              "      <td>14500</td>\n",
              "      <td>6800</td>\n",
              "    </tr>\n",
              "    <tr>\n",
              "      <th>7</th>\n",
              "      <td>16500</td>\n",
              "      <td>8300</td>\n",
              "    </tr>\n",
              "    <tr>\n",
              "      <th>8</th>\n",
              "      <td>18500</td>\n",
              "      <td>9800</td>\n",
              "    </tr>\n",
              "    <tr>\n",
              "      <th>9</th>\n",
              "      <td>20500</td>\n",
              "      <td>10100</td>\n",
              "    </tr>\n",
              "  </tbody>\n",
              "</table>\n",
              "</div>\n",
              "      <button class=\"colab-df-convert\" onclick=\"convertToInteractive('df-36d1d460-3ab7-4492-a6f8-637a53021a2c')\"\n",
              "              title=\"Convert this dataframe to an interactive table.\"\n",
              "              style=\"display:none;\">\n",
              "        \n",
              "  <svg xmlns=\"http://www.w3.org/2000/svg\" height=\"24px\"viewBox=\"0 0 24 24\"\n",
              "       width=\"24px\">\n",
              "    <path d=\"M0 0h24v24H0V0z\" fill=\"none\"/>\n",
              "    <path d=\"M18.56 5.44l.94 2.06.94-2.06 2.06-.94-2.06-.94-.94-2.06-.94 2.06-2.06.94zm-11 1L8.5 8.5l.94-2.06 2.06-.94-2.06-.94L8.5 2.5l-.94 2.06-2.06.94zm10 10l.94 2.06.94-2.06 2.06-.94-2.06-.94-.94-2.06-.94 2.06-2.06.94z\"/><path d=\"M17.41 7.96l-1.37-1.37c-.4-.4-.92-.59-1.43-.59-.52 0-1.04.2-1.43.59L10.3 9.45l-7.72 7.72c-.78.78-.78 2.05 0 2.83L4 21.41c.39.39.9.59 1.41.59.51 0 1.02-.2 1.41-.59l7.78-7.78 2.81-2.81c.8-.78.8-2.07 0-2.86zM5.41 20L4 18.59l7.72-7.72 1.47 1.35L5.41 20z\"/>\n",
              "  </svg>\n",
              "      </button>\n",
              "      \n",
              "  <style>\n",
              "    .colab-df-container {\n",
              "      display:flex;\n",
              "      flex-wrap:wrap;\n",
              "      gap: 12px;\n",
              "    }\n",
              "\n",
              "    .colab-df-convert {\n",
              "      background-color: #E8F0FE;\n",
              "      border: none;\n",
              "      border-radius: 50%;\n",
              "      cursor: pointer;\n",
              "      display: none;\n",
              "      fill: #1967D2;\n",
              "      height: 32px;\n",
              "      padding: 0 0 0 0;\n",
              "      width: 32px;\n",
              "    }\n",
              "\n",
              "    .colab-df-convert:hover {\n",
              "      background-color: #E2EBFA;\n",
              "      box-shadow: 0px 1px 2px rgba(60, 64, 67, 0.3), 0px 1px 3px 1px rgba(60, 64, 67, 0.15);\n",
              "      fill: #174EA6;\n",
              "    }\n",
              "\n",
              "    [theme=dark] .colab-df-convert {\n",
              "      background-color: #3B4455;\n",
              "      fill: #D2E3FC;\n",
              "    }\n",
              "\n",
              "    [theme=dark] .colab-df-convert:hover {\n",
              "      background-color: #434B5C;\n",
              "      box-shadow: 0px 1px 3px 1px rgba(0, 0, 0, 0.15);\n",
              "      filter: drop-shadow(0px 1px 2px rgba(0, 0, 0, 0.3));\n",
              "      fill: #FFFFFF;\n",
              "    }\n",
              "  </style>\n",
              "\n",
              "      <script>\n",
              "        const buttonEl =\n",
              "          document.querySelector('#df-36d1d460-3ab7-4492-a6f8-637a53021a2c button.colab-df-convert');\n",
              "        buttonEl.style.display =\n",
              "          google.colab.kernel.accessAllowed ? 'block' : 'none';\n",
              "\n",
              "        async function convertToInteractive(key) {\n",
              "          const element = document.querySelector('#df-36d1d460-3ab7-4492-a6f8-637a53021a2c');\n",
              "          const dataTable =\n",
              "            await google.colab.kernel.invokeFunction('convertToInteractive',\n",
              "                                                     [key], {});\n",
              "          if (!dataTable) return;\n",
              "\n",
              "          const docLinkHtml = 'Like what you see? Visit the ' +\n",
              "            '<a target=\"_blank\" href=https://colab.research.google.com/notebooks/data_table.ipynb>data table notebook</a>'\n",
              "            + ' to learn more about interactive tables.';\n",
              "          element.innerHTML = '';\n",
              "          dataTable['output_type'] = 'display_data';\n",
              "          await google.colab.output.renderOutput(dataTable, element);\n",
              "          const docLink = document.createElement('div');\n",
              "          docLink.innerHTML = docLinkHtml;\n",
              "          element.appendChild(docLink);\n",
              "        }\n",
              "      </script>\n",
              "    </div>\n",
              "  </div>\n",
              "  "
            ]
          },
          "metadata": {},
          "execution_count": 4
        }
      ],
      "source": [
        "df"
      ]
    },
    {
      "cell_type": "code",
      "execution_count": 5,
      "metadata": {
        "id": "km-DMfTUanzd",
        "outputId": "c3092279-ca68-468b-b7d6-ee93a7408a77",
        "colab": {
          "base_uri": "https://localhost:8080/"
        }
      },
      "outputs": [
        {
          "output_type": "stream",
          "name": "stdout",
          "text": [
            "<class 'pandas.core.frame.DataFrame'>\n",
            "RangeIndex: 10 entries, 0 to 9\n",
            "Data columns (total 2 columns):\n",
            " #   Column  Non-Null Count  Dtype\n",
            "---  ------  --------------  -----\n",
            " 0   sales   10 non-null     int64\n",
            " 1   ads     10 non-null     int64\n",
            "dtypes: int64(2)\n",
            "memory usage: 288.0 bytes\n"
          ]
        }
      ],
      "source": [
        "df.info()"
      ]
    },
    {
      "cell_type": "markdown",
      "metadata": {
        "id": "CpTP_eyYanzd"
      },
      "source": [
        "## Model"
      ]
    },
    {
      "cell_type": "code",
      "execution_count": 6,
      "metadata": {
        "id": "OY6khL4wanzd"
      },
      "outputs": [],
      "source": [
        "intercept = 500 \n",
        "slope = 2\n",
        "\n",
        "df['sales_prediction'] = intercept + slope * df['ads'] "
      ]
    },
    {
      "cell_type": "markdown",
      "metadata": {
        "id": "fg4EaVkmanzd"
      },
      "source": [
        "### Calculate mean squared error"
      ]
    },
    {
      "cell_type": "markdown",
      "metadata": {
        "id": "PG6AyIsIanzd"
      },
      "source": [
        "---\n",
        "\n",
        "Step 1: calculate the squared difference between true outcome and prediction:"
      ]
    },
    {
      "cell_type": "markdown",
      "metadata": {
        "id": "WfK6h70Hanze"
      },
      "source": [
        "\n",
        "The general formula:\n",
        "\n",
        "\n",
        "$$Squared\\ errors \\ (SE) = (y_i-\\hat{y_i})^2$$\n",
        "\n"
      ]
    },
    {
      "cell_type": "markdown",
      "metadata": {
        "id": "3zopSPrranze"
      },
      "source": [
        "For our data this means:\n",
        "\n",
        "$$ se = (sales_i - sales\\_prediction_i)^2$$"
      ]
    },
    {
      "cell_type": "markdown",
      "metadata": {
        "id": "BxKQKVm5anze"
      },
      "source": [
        "Hint\n",
        "\n",
        "---\n",
        "\n",
        "```python\n",
        "df['___'] = (df['___'] - df['___']) ___ ___\n",
        "\n",
        "```\n",
        "\n",
        "---\n",
        "\n",
        "- Use the `**` (power) operator to raise a value to the power of 2."
      ]
    },
    {
      "cell_type": "code",
      "execution_count": 11,
      "metadata": {
        "deletable": false,
        "nbgrader": {
          "cell_type": "code",
          "checksum": "4bfb9e7c585b4b262fee4675bc77bac3",
          "grade": false,
          "grade_id": "se",
          "locked": false,
          "schema_version": 3,
          "solution": true,
          "task": false
        },
        "id": "3gj6EfwVanze"
      },
      "outputs": [],
      "source": [
        "df['se'] = (df['sales'] - df['sales_prediction'])**2"
      ]
    },
    {
      "cell_type": "code",
      "execution_count": 12,
      "metadata": {
        "id": "PB1ay33janze",
        "outputId": "00327a33-c6c4-4dc0-b067-1235afcc2fdf",
        "colab": {
          "base_uri": "https://localhost:8080/",
          "height": 204
        }
      },
      "outputs": [
        {
          "output_type": "execute_result",
          "data": {
            "text/plain": [
              "   sales   ads  sales_prediction       se\n",
              "0   2500   900              2300    40000\n",
              "1   4500  1400              3300  1440000\n",
              "2   6500  3600              7700  1440000\n",
              "3   8500  3800              8100   160000\n",
              "4  10500  6200             12900  5760000"
            ],
            "text/html": [
              "\n",
              "  <div id=\"df-286c798b-f055-4663-9854-d9d2172655c1\">\n",
              "    <div class=\"colab-df-container\">\n",
              "      <div>\n",
              "<style scoped>\n",
              "    .dataframe tbody tr th:only-of-type {\n",
              "        vertical-align: middle;\n",
              "    }\n",
              "\n",
              "    .dataframe tbody tr th {\n",
              "        vertical-align: top;\n",
              "    }\n",
              "\n",
              "    .dataframe thead th {\n",
              "        text-align: right;\n",
              "    }\n",
              "</style>\n",
              "<table border=\"1\" class=\"dataframe\">\n",
              "  <thead>\n",
              "    <tr style=\"text-align: right;\">\n",
              "      <th></th>\n",
              "      <th>sales</th>\n",
              "      <th>ads</th>\n",
              "      <th>sales_prediction</th>\n",
              "      <th>se</th>\n",
              "    </tr>\n",
              "  </thead>\n",
              "  <tbody>\n",
              "    <tr>\n",
              "      <th>0</th>\n",
              "      <td>2500</td>\n",
              "      <td>900</td>\n",
              "      <td>2300</td>\n",
              "      <td>40000</td>\n",
              "    </tr>\n",
              "    <tr>\n",
              "      <th>1</th>\n",
              "      <td>4500</td>\n",
              "      <td>1400</td>\n",
              "      <td>3300</td>\n",
              "      <td>1440000</td>\n",
              "    </tr>\n",
              "    <tr>\n",
              "      <th>2</th>\n",
              "      <td>6500</td>\n",
              "      <td>3600</td>\n",
              "      <td>7700</td>\n",
              "      <td>1440000</td>\n",
              "    </tr>\n",
              "    <tr>\n",
              "      <th>3</th>\n",
              "      <td>8500</td>\n",
              "      <td>3800</td>\n",
              "      <td>8100</td>\n",
              "      <td>160000</td>\n",
              "    </tr>\n",
              "    <tr>\n",
              "      <th>4</th>\n",
              "      <td>10500</td>\n",
              "      <td>6200</td>\n",
              "      <td>12900</td>\n",
              "      <td>5760000</td>\n",
              "    </tr>\n",
              "  </tbody>\n",
              "</table>\n",
              "</div>\n",
              "      <button class=\"colab-df-convert\" onclick=\"convertToInteractive('df-286c798b-f055-4663-9854-d9d2172655c1')\"\n",
              "              title=\"Convert this dataframe to an interactive table.\"\n",
              "              style=\"display:none;\">\n",
              "        \n",
              "  <svg xmlns=\"http://www.w3.org/2000/svg\" height=\"24px\"viewBox=\"0 0 24 24\"\n",
              "       width=\"24px\">\n",
              "    <path d=\"M0 0h24v24H0V0z\" fill=\"none\"/>\n",
              "    <path d=\"M18.56 5.44l.94 2.06.94-2.06 2.06-.94-2.06-.94-.94-2.06-.94 2.06-2.06.94zm-11 1L8.5 8.5l.94-2.06 2.06-.94-2.06-.94L8.5 2.5l-.94 2.06-2.06.94zm10 10l.94 2.06.94-2.06 2.06-.94-2.06-.94-.94-2.06-.94 2.06-2.06.94z\"/><path d=\"M17.41 7.96l-1.37-1.37c-.4-.4-.92-.59-1.43-.59-.52 0-1.04.2-1.43.59L10.3 9.45l-7.72 7.72c-.78.78-.78 2.05 0 2.83L4 21.41c.39.39.9.59 1.41.59.51 0 1.02-.2 1.41-.59l7.78-7.78 2.81-2.81c.8-.78.8-2.07 0-2.86zM5.41 20L4 18.59l7.72-7.72 1.47 1.35L5.41 20z\"/>\n",
              "  </svg>\n",
              "      </button>\n",
              "      \n",
              "  <style>\n",
              "    .colab-df-container {\n",
              "      display:flex;\n",
              "      flex-wrap:wrap;\n",
              "      gap: 12px;\n",
              "    }\n",
              "\n",
              "    .colab-df-convert {\n",
              "      background-color: #E8F0FE;\n",
              "      border: none;\n",
              "      border-radius: 50%;\n",
              "      cursor: pointer;\n",
              "      display: none;\n",
              "      fill: #1967D2;\n",
              "      height: 32px;\n",
              "      padding: 0 0 0 0;\n",
              "      width: 32px;\n",
              "    }\n",
              "\n",
              "    .colab-df-convert:hover {\n",
              "      background-color: #E2EBFA;\n",
              "      box-shadow: 0px 1px 2px rgba(60, 64, 67, 0.3), 0px 1px 3px 1px rgba(60, 64, 67, 0.15);\n",
              "      fill: #174EA6;\n",
              "    }\n",
              "\n",
              "    [theme=dark] .colab-df-convert {\n",
              "      background-color: #3B4455;\n",
              "      fill: #D2E3FC;\n",
              "    }\n",
              "\n",
              "    [theme=dark] .colab-df-convert:hover {\n",
              "      background-color: #434B5C;\n",
              "      box-shadow: 0px 1px 3px 1px rgba(0, 0, 0, 0.15);\n",
              "      filter: drop-shadow(0px 1px 2px rgba(0, 0, 0, 0.3));\n",
              "      fill: #FFFFFF;\n",
              "    }\n",
              "  </style>\n",
              "\n",
              "      <script>\n",
              "        const buttonEl =\n",
              "          document.querySelector('#df-286c798b-f055-4663-9854-d9d2172655c1 button.colab-df-convert');\n",
              "        buttonEl.style.display =\n",
              "          google.colab.kernel.accessAllowed ? 'block' : 'none';\n",
              "\n",
              "        async function convertToInteractive(key) {\n",
              "          const element = document.querySelector('#df-286c798b-f055-4663-9854-d9d2172655c1');\n",
              "          const dataTable =\n",
              "            await google.colab.kernel.invokeFunction('convertToInteractive',\n",
              "                                                     [key], {});\n",
              "          if (!dataTable) return;\n",
              "\n",
              "          const docLinkHtml = 'Like what you see? Visit the ' +\n",
              "            '<a target=\"_blank\" href=https://colab.research.google.com/notebooks/data_table.ipynb>data table notebook</a>'\n",
              "            + ' to learn more about interactive tables.';\n",
              "          element.innerHTML = '';\n",
              "          dataTable['output_type'] = 'display_data';\n",
              "          await google.colab.output.renderOutput(dataTable, element);\n",
              "          const docLink = document.createElement('div');\n",
              "          docLink.innerHTML = docLinkHtml;\n",
              "          element.appendChild(docLink);\n",
              "        }\n",
              "      </script>\n",
              "    </div>\n",
              "  </div>\n",
              "  "
            ]
          },
          "metadata": {},
          "execution_count": 12
        }
      ],
      "source": [
        "df.head()"
      ]
    },
    {
      "cell_type": "code",
      "execution_count": 13,
      "metadata": {
        "deletable": false,
        "editable": false,
        "nbgrader": {
          "cell_type": "code",
          "checksum": "81787635880543bf4ec75fa4091c4963",
          "grade": true,
          "grade_id": "c-se",
          "locked": true,
          "points": 2,
          "schema_version": 3,
          "solution": false,
          "task": false
        },
        "id": "Ob4xjWX9anze"
      },
      "outputs": [],
      "source": [
        "# Check your code\n",
        "assert df.loc[0, 'se'] == 40000"
      ]
    },
    {
      "cell_type": "markdown",
      "metadata": {
        "id": "1euXk6CYanze"
      },
      "source": [
        "---\n",
        "\n",
        "Step 2: Sum up all squared errors\n",
        "\n",
        "Calculate the sum of squared errors (SSE)"
      ]
    },
    {
      "cell_type": "markdown",
      "metadata": {
        "id": "5xnj0K1ganzf"
      },
      "source": [
        "The general formula:\n",
        "\n",
        "$$Sum\\ of\\ squared\\ errors \\ (SSE) = \\sum_{i=1}^{n}(y_i-\\hat{y_i})^2$$\n",
        "\n",
        "which equals\n",
        "\n",
        "$$Sum\\ of\\ squared\\ errors \\ (SSE) = \\sum_{i=1}^{n} SE$$"
      ]
    },
    {
      "cell_type": "markdown",
      "metadata": {
        "id": "8iVpXUTdanzf"
      },
      "source": [
        "\n",
        "\n",
        "For our data this means:\n",
        "\n",
        "\n",
        "\n",
        "$$sse = \\sum_{i=1}^{n}(sales_i-\\hat{sales\\_prediction_i})^2$$\n",
        "\n",
        "\n",
        "which equals\n",
        "\n",
        "$$sse = \\sum_{i=1}^{n} se$$"
      ]
    },
    {
      "cell_type": "markdown",
      "metadata": {
        "id": "8QDjnUsManzf"
      },
      "source": [
        "Hint\n",
        "\n",
        "Sum up the squared errors and save the result in a new object called `sse` (not in the Pandas dataframe)\n",
        "\n",
        "---\n",
        "\n",
        "```python\n",
        "___ = df['___'].___\n",
        "```\n",
        "\n",
        "---\n",
        "\n",
        "- Save the result as `sse`\n",
        "- use the method `.sum()` to sum up all `se`"
      ]
    },
    {
      "cell_type": "code",
      "execution_count": 14,
      "metadata": {
        "deletable": false,
        "nbgrader": {
          "cell_type": "code",
          "checksum": "ea867cd93a18bda2b1b49ee29d3f5436",
          "grade": false,
          "grade_id": "sse",
          "locked": false,
          "schema_version": 3,
          "solution": true,
          "task": false
        },
        "id": "LfPKjsI3anzf"
      },
      "outputs": [],
      "source": [
        "sse = df['se'].sum()"
      ]
    },
    {
      "cell_type": "code",
      "execution_count": 15,
      "metadata": {
        "id": "Wirwi-Jlanzf",
        "outputId": "5dfd743b-e136-4262-dbf8-a02904ea5db3",
        "colab": {
          "base_uri": "https://localhost:8080/"
        }
      },
      "outputs": [
        {
          "output_type": "execute_result",
          "data": {
            "text/plain": [
              "14520000"
            ]
          },
          "metadata": {},
          "execution_count": 15
        }
      ],
      "source": [
        "sse"
      ]
    },
    {
      "cell_type": "code",
      "execution_count": 16,
      "metadata": {
        "deletable": false,
        "editable": false,
        "nbgrader": {
          "cell_type": "code",
          "checksum": "082f35d9e4f72eb638dd856995222ae1",
          "grade": true,
          "grade_id": "c-sse",
          "locked": true,
          "points": 2,
          "schema_version": 3,
          "solution": false,
          "task": false
        },
        "id": "A4utecD0anzf"
      },
      "outputs": [],
      "source": [
        "# Chack your code\n",
        "assert sse == 14520000"
      ]
    },
    {
      "cell_type": "markdown",
      "metadata": {
        "id": "5lecieZIanzf"
      },
      "source": [
        "---\n",
        "\n",
        "Step 3: Divide by the number of examples\n",
        "\n",
        "The general formula:\n",
        "\n",
        "$$Mean\\ squared\\ error \\ (MSE) = \\frac{1}{n} \\times \\sum_{i=1}^{n}(y_i-\\hat{y_i})^2$$\n",
        "\n",
        "which equals\n",
        "\n",
        "$$Mean\\ squared\\ error \\ (MSE) = \\frac{1}{n} \\times SSE$$\n",
        "\n",
        "*with n = the number of observations*"
      ]
    },
    {
      "cell_type": "markdown",
      "metadata": {
        "id": "5DdwuEo2anzg"
      },
      "source": [
        "\n",
        "\n",
        "For our data this means:\n",
        "\n",
        "\n",
        "\n",
        "$$mse = \\frac{1}{n} \\times \\sum_{i=1}^{n}(sales_i-\\hat{sales\\_prediction_i})^2$$\n",
        "\n",
        "which equals\n",
        "\n",
        "$$mse = \\frac{1}{n} \\times sse $$\n",
        "\n",
        "\n",
        "*with n = the number of observations*\n",
        "\n"
      ]
    },
    {
      "cell_type": "code",
      "execution_count": 17,
      "metadata": {
        "id": "p_x_c91-anzg"
      },
      "outputs": [],
      "source": [
        "# Obtain number of examples (observations)\n",
        "n = len(df)"
      ]
    },
    {
      "cell_type": "code",
      "execution_count": 18,
      "metadata": {
        "id": "soUDkaXuanzg",
        "outputId": "1e3279b1-ead1-494c-8de8-8f2be6fb6ce3",
        "colab": {
          "base_uri": "https://localhost:8080/"
        }
      },
      "outputs": [
        {
          "output_type": "execute_result",
          "data": {
            "text/plain": [
              "10"
            ]
          },
          "metadata": {},
          "execution_count": 18
        }
      ],
      "source": [
        "n"
      ]
    },
    {
      "cell_type": "markdown",
      "metadata": {
        "id": "zRWoi32Lanzh"
      },
      "source": [
        "Calculate the mse and save the result as `mse`:"
      ]
    },
    {
      "cell_type": "code",
      "execution_count": 20,
      "metadata": {
        "deletable": false,
        "nbgrader": {
          "cell_type": "code",
          "checksum": "777256bec5c11df90dbb9d0f4a4e0842",
          "grade": false,
          "grade_id": "mse",
          "locked": false,
          "schema_version": 3,
          "solution": true,
          "task": false
        },
        "id": "lvI6uKLNanzh"
      },
      "outputs": [],
      "source": [
        " mse = 1/n * sse"
      ]
    },
    {
      "cell_type": "code",
      "execution_count": 21,
      "metadata": {
        "id": "Jt8clR56anzh",
        "outputId": "bb524af7-13a0-4a67-e25b-3e7c838c606e",
        "colab": {
          "base_uri": "https://localhost:8080/"
        }
      },
      "outputs": [
        {
          "output_type": "execute_result",
          "data": {
            "text/plain": [
              "1452000.0"
            ]
          },
          "metadata": {},
          "execution_count": 21
        }
      ],
      "source": [
        "mse"
      ]
    },
    {
      "cell_type": "code",
      "execution_count": 22,
      "metadata": {
        "id": "Ccoa0yHjanzh",
        "outputId": "512fa3d4-b955-4c2c-f7da-854a08ef5cd2",
        "colab": {
          "base_uri": "https://localhost:8080/"
        }
      },
      "outputs": [
        {
          "output_type": "stream",
          "name": "stdout",
          "text": [
            "The MSE equals 1452000\n"
          ]
        }
      ],
      "source": [
        "# alternative way to print the result\n",
        "print(f'The MSE equals {mse:.0f}')"
      ]
    },
    {
      "cell_type": "code",
      "execution_count": 23,
      "metadata": {
        "deletable": false,
        "editable": false,
        "nbgrader": {
          "cell_type": "code",
          "checksum": "110cb989776bd9045591c883d3f8aaa2",
          "grade": true,
          "grade_id": "c-mse",
          "locked": true,
          "points": 2,
          "schema_version": 3,
          "solution": false,
          "task": false
        },
        "id": "wCjbNoyOanzh"
      },
      "outputs": [],
      "source": [
        "# Check your code\n",
        "assert 1451000 < mse < 1453000"
      ]
    },
    {
      "cell_type": "markdown",
      "metadata": {
        "id": "D-QNWya8anzi"
      },
      "source": [
        "### Root mean squared error"
      ]
    },
    {
      "cell_type": "markdown",
      "metadata": {
        "id": "SmXH1OHvanzi"
      },
      "source": [
        "---\n",
        "\n",
        "Another important measure is the root mean squared error:\n",
        "\n",
        "The general formula:\n",
        "\n",
        "$$Root\\ mean\\ squared\\ error \\ (RMSE) = \\sqrt{\\frac{1}{n} \\times \\sum_{i=1}^{n}(y_i-\\hat{y_i})^2}$$\n",
        "\n",
        "which equals\n",
        "\n",
        "$$Root\\ mean\\ squared\\ error \\ (RMSE) = \\sqrt{\\frac{1}{n} \\times SSE}$$\n",
        "\n",
        "*with n = the number of observations*\n",
        "\n",
        "\n",
        "\n"
      ]
    },
    {
      "cell_type": "markdown",
      "metadata": {
        "id": "JRayhmauanzi"
      },
      "source": [
        "\n",
        "For our data this means:\n",
        "\n",
        "\n",
        "$$rmse = \\sqrt{\\frac{1}{n} \\times \\sum_{i=1}^{n}(sales_i-\\hat{sales\\_prediction_i})^2}$$\n",
        "\n",
        "which equals\n",
        "\n",
        "$$rmse = \\sqrt{\\frac{1}{n} \\times sse} $$\n",
        "\n",
        "which also equals\n",
        "\n",
        "$$rmse = (\\frac{1}{n} \\times sse)^\\frac{1}{2} $$\n",
        "\n",
        "\n",
        "\n",
        "with n = the number of observations"
      ]
    },
    {
      "cell_type": "markdown",
      "metadata": {
        "id": "Roc2an3Lanzi"
      },
      "source": [
        "Calculate the rmse and save the result as `rmse` (not in your Dataframe):"
      ]
    },
    {
      "cell_type": "code",
      "execution_count": 29,
      "metadata": {
        "deletable": false,
        "nbgrader": {
          "cell_type": "code",
          "checksum": "9b57ea2b4064a3c7cc32097537fb28cc",
          "grade": false,
          "grade_id": "rmse",
          "locked": false,
          "schema_version": 3,
          "solution": true,
          "task": false
        },
        "id": "cT-kuCp_anzj"
      },
      "outputs": [],
      "source": [
        "rmse = (1/n * sse)**0.5"
      ]
    },
    {
      "cell_type": "code",
      "execution_count": 30,
      "metadata": {
        "id": "6RAkC1Upanzj",
        "outputId": "bbbd0f37-3943-4aac-f3eb-6e32cbe3586d",
        "colab": {
          "base_uri": "https://localhost:8080/"
        }
      },
      "outputs": [
        {
          "output_type": "execute_result",
          "data": {
            "text/plain": [
              "1204.9896265113655"
            ]
          },
          "metadata": {},
          "execution_count": 30
        }
      ],
      "source": [
        "rmse"
      ]
    },
    {
      "cell_type": "code",
      "execution_count": 31,
      "metadata": {
        "deletable": false,
        "editable": false,
        "nbgrader": {
          "cell_type": "code",
          "checksum": "59bd4e4cf970f43da0956fe02c48ae73",
          "grade": true,
          "grade_id": "c-rmse",
          "locked": true,
          "points": 2,
          "schema_version": 3,
          "solution": false,
          "task": false
        },
        "id": "zH80onbvanzj"
      },
      "outputs": [],
      "source": [
        "# Check your code\n",
        "assert 1203 < rmse < 1206"
      ]
    },
    {
      "cell_type": "markdown",
      "metadata": {
        "id": "y7jfulM_anzj"
      },
      "source": [
        "### Mean absolute error"
      ]
    },
    {
      "cell_type": "markdown",
      "metadata": {
        "id": "Hh_hBOHOanzj"
      },
      "source": [
        "Another performance measure (which is less commonly used) is the mean absolute error:\n",
        "\n",
        "The general formula:\n",
        "\n",
        "$$Mean\\ absolute\\ error \\ (MAE) = \\frac{1}{n} \\times \\sum_{i=1}^{n}(y_i-\\hat{y_i})$$\n",
        "\n"
      ]
    },
    {
      "cell_type": "markdown",
      "metadata": {
        "id": "2Oxbqrxlanzj"
      },
      "source": [
        "### Use functions"
      ]
    },
    {
      "cell_type": "markdown",
      "metadata": {
        "id": "05s6-CHJanzj"
      },
      "source": [
        "#### Mean squared error"
      ]
    },
    {
      "cell_type": "code",
      "execution_count": 32,
      "metadata": {
        "id": "BdQMQklHanzj",
        "outputId": "5e55cf73-6a35-41de-f2c2-0acfa996c719",
        "colab": {
          "base_uri": "https://localhost:8080/"
        }
      },
      "outputs": [
        {
          "output_type": "execute_result",
          "data": {
            "text/plain": [
              "1452000.0"
            ]
          },
          "metadata": {},
          "execution_count": 32
        }
      ],
      "source": [
        "mean_squared_error(df['sales'], df['sales_prediction'])"
      ]
    },
    {
      "cell_type": "markdown",
      "metadata": {
        "id": "l-jw_amSanzj"
      },
      "source": [
        "#### Root mean squared error"
      ]
    },
    {
      "cell_type": "code",
      "execution_count": 33,
      "metadata": {
        "id": "963KZFTnanzj",
        "outputId": "adc1db51-1fd2-4cc2-be53-45c01788d4c6",
        "colab": {
          "base_uri": "https://localhost:8080/"
        }
      },
      "outputs": [
        {
          "output_type": "execute_result",
          "data": {
            "text/plain": [
              "1204.9896265113655"
            ]
          },
          "metadata": {},
          "execution_count": 33
        }
      ],
      "source": [
        "mean_squared_error(df['sales'], df['sales_prediction'], squared=False)"
      ]
    },
    {
      "cell_type": "markdown",
      "metadata": {
        "id": "521ldmXlanzj"
      },
      "source": [
        "#### Mean absolute error"
      ]
    },
    {
      "cell_type": "code",
      "execution_count": 37,
      "metadata": {
        "id": "rWmvOfiuanzk",
        "outputId": "094726a9-6213-4ed2-9a90-7bb1956fdc4d",
        "colab": {
          "base_uri": "https://localhost:8080/",
          "height": 171
        }
      },
      "outputs": [
        {
          "output_type": "error",
          "ename": "NameError",
          "evalue": "ignored",
          "traceback": [
            "\u001b[0;31m---------------------------------------------------------------------------\u001b[0m",
            "\u001b[0;31mNameError\u001b[0m                                 Traceback (most recent call last)",
            "\u001b[0;32m<ipython-input-37-00c299c3a8a3>\u001b[0m in \u001b[0;36m<module>\u001b[0;34m\u001b[0m\n\u001b[0;32m----> 1\u001b[0;31m \u001b[0mmean_absolute_error\u001b[0m\u001b[0;34m(\u001b[0m\u001b[0mdf\u001b[0m\u001b[0;34m[\u001b[0m\u001b[0;34m'sales'\u001b[0m\u001b[0;34m]\u001b[0m\u001b[0;34m,\u001b[0m \u001b[0mdf\u001b[0m\u001b[0;34m[\u001b[0m\u001b[0;34m'sales_prediction'\u001b[0m\u001b[0;34m]\u001b[0m\u001b[0;34m)\u001b[0m\u001b[0;34m\u001b[0m\u001b[0;34m\u001b[0m\u001b[0m\n\u001b[0m",
            "\u001b[0;31mNameError\u001b[0m: name 'mean_absolute_error' is not defined"
          ]
        }
      ],
      "source": [
        "mean_absolute_error(df['sales'], df['sales_prediction'])"
      ]
    }
  ],
  "metadata": {
    "kernelspec": {
      "display_name": "Python 3 (ipykernel)",
      "language": "python",
      "name": "python3"
    },
    "language_info": {
      "codemirror_mode": {
        "name": "ipython",
        "version": 3
      },
      "file_extension": ".py",
      "mimetype": "text/x-python",
      "name": "python",
      "nbconvert_exporter": "python",
      "pygments_lexer": "ipython3",
      "version": "3.9.13"
    },
    "vscode": {
      "interpreter": {
        "hash": "147de23312147813b0623f895fe208f672aacb131d01c672b840a7a22f97849e"
      }
    },
    "colab": {
      "provenance": []
    }
  },
  "nbformat": 4,
  "nbformat_minor": 0
}