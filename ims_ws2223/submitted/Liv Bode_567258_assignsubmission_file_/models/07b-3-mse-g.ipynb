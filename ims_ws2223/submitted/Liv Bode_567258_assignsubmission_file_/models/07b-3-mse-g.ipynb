{
  "cells": [
    {
      "cell_type": "markdown",
      "metadata": {
        "id": "-4GXv1KK2Fqe"
      },
      "source": [
        "**Important notes:**\n",
        "\n",
        "**Important notes:**\n",
        "\n",
        "- You can complete this exercise in 1) Colab or 2) on your local machine\n",
        "  1. **Colab**: Click on the 🚀 symbol at the top of the page and select Colab. When you finished the exercise, download the file: `File` > `Download` > `ipynb`. \n",
        "  2. **Local**: click on the download button at the top of the page and choose `.ipynb`. Activate the conda environment `mr` before you start: `conda activate mr`\n",
        "\n",
        "\n",
        "- Don't change the name of the file and don't delete any cells.\n",
        "\n",
        "\n",
        "- Make sure you fill in any place that says  <font color='green'> \\# YOUR CODE HERE </font> or \"YOUR ANSWER HERE\", as well as your name and (if necessary) collaborators below.\n",
        "\n",
        "\n",
        "- The function **NotImplementedError()** prevents you from hand in assignments with empty cells. Simply delete the function if you start working on a cell with this entry.\n",
        "\n",
        "\n",
        "- Before you turn this problem in (i.e., after you completed all tasks), make sure everything runs as expected: Restart the kernel and run all cells:\n",
        "  - in *Colab*: in the menubar, select `Runtime` and click on `Restart and run all`\n",
        "  - if you use *Jupyter Notebook*: in the menubar, select `Kernel` and click on `Restart & Run All`\n",
        "  - if you use *Visual Studio Code*: select \"Restart\" and then \"Run All\" \n",
        "\n",
        "\n",
        "Good luck!"
      ]
    },
    {
      "cell_type": "code",
      "execution_count": null,
      "metadata": {
        "id": "g3ydEzsd2Fqh"
      },
      "outputs": [],
      "source": [
        "NAME = \"lb199\"\n",
        "COLLABORATORS = \"\""
      ]
    },
    {
      "cell_type": "code",
      "execution_count": null,
      "metadata": {
        "id": "_a57d17Z2Fqh"
      },
      "outputs": [],
      "source": [
        "import IPython\n",
        "assert IPython.version_info[0] >= 3, \"Your version of IPython is too old, please update it.\""
      ]
    },
    {
      "cell_type": "markdown",
      "metadata": {
        "id": "XTmuyaXr2Fqh"
      },
      "source": [
        "---"
      ]
    },
    {
      "cell_type": "markdown",
      "metadata": {
        "id": "NZSQVPLw2Fqi"
      },
      "source": [
        "# Find the best model"
      ]
    },
    {
      "cell_type": "markdown",
      "metadata": {
        "id": "rWx4glc62Fqi"
      },
      "source": [
        "## Setup"
      ]
    },
    {
      "cell_type": "code",
      "execution_count": 1,
      "metadata": {
        "id": "kPbl5Ikf2Fqi"
      },
      "outputs": [],
      "source": [
        "import pandas as pd\n",
        "\n",
        "from sklearn.linear_model import LinearRegression\n",
        "from sklearn.metrics import mean_squared_error\n",
        "from sklearn.metrics import mean_absolute_error"
      ]
    },
    {
      "cell_type": "markdown",
      "metadata": {
        "id": "zSi7hBSI2Fqi"
      },
      "source": [
        "## Data"
      ]
    },
    {
      "cell_type": "markdown",
      "metadata": {
        "id": "fp6yxiJq2Fqi"
      },
      "source": [
        "### Create data"
      ]
    },
    {
      "cell_type": "code",
      "execution_count": 2,
      "metadata": {
        "id": "zuT8vYtK2Fqi"
      },
      "outputs": [],
      "source": [
        "df = pd.DataFrame(\n",
        "    {'sales': [2500, 4500, 6500, 8500, 10500, 12500, 14500, 16500, 18500, 20500],\n",
        "      'ads'  : [900, 1400, 3600, 3800, 6200, 5200, 6800, 8300, 9800, 10100]}\n",
        ")"
      ]
    },
    {
      "cell_type": "markdown",
      "metadata": {
        "id": "WCHt2N022Fqj"
      },
      "source": [
        "### Variable lists"
      ]
    },
    {
      "cell_type": "markdown",
      "metadata": {
        "id": "HMvzYyBo2Fqj"
      },
      "source": [
        "We need to prepare our data for the scikit-learn model (which does not work with Pandas dataframes):\n",
        "\n",
        "- We create the variable `y_label` (our dependent variable, also called label): choose \"`sales`\" (this step will be helpful in later notebooks)\n",
        "\n",
        "- We select our features (independent variables) and save them as `X`: choose \"`ads`\"\n",
        "\n",
        "- Select and save the dependent variable as `y`"
      ]
    },
    {
      "cell_type": "markdown",
      "metadata": {
        "id": "dHQk8tdd2Fqj"
      },
      "source": [
        "Hint:\n",
        "\n",
        "```pyhton\n",
        "y_label = \"___\"\n",
        "\n",
        "X = df[[\"___\"]]\n",
        "y = df[___]\n",
        "```"
      ]
    },
    {
      "cell_type": "code",
      "execution_count": 12,
      "metadata": {
        "deletable": false,
        "nbgrader": {
          "cell_type": "code",
          "checksum": "add6035052913f4272accf7259c11dc5",
          "grade": false,
          "grade_id": "y_label",
          "locked": false,
          "schema_version": 3,
          "solution": true,
          "task": false
        },
        "id": "spwj5POb2Fqj"
      },
      "outputs": [],
      "source": [
        "y_label = \"sales\"\n",
        "\n",
        "X = df[[\"ads\"]]\n",
        "y = df[y_label]"
      ]
    },
    {
      "cell_type": "code",
      "execution_count": 13,
      "metadata": {
        "id": "wsgQOr-g2Fqj",
        "outputId": "bcb23527-8365-44b8-96f4-a607eca558f0",
        "colab": {
          "base_uri": "https://localhost:8080/",
          "height": 359
        }
      },
      "outputs": [
        {
          "output_type": "execute_result",
          "data": {
            "text/plain": [
              "     ads\n",
              "0    900\n",
              "1   1400\n",
              "2   3600\n",
              "3   3800\n",
              "4   6200\n",
              "5   5200\n",
              "6   6800\n",
              "7   8300\n",
              "8   9800\n",
              "9  10100"
            ],
            "text/html": [
              "\n",
              "  <div id=\"df-16e2001b-da79-4e90-b374-9b0943a1db23\">\n",
              "    <div class=\"colab-df-container\">\n",
              "      <div>\n",
              "<style scoped>\n",
              "    .dataframe tbody tr th:only-of-type {\n",
              "        vertical-align: middle;\n",
              "    }\n",
              "\n",
              "    .dataframe tbody tr th {\n",
              "        vertical-align: top;\n",
              "    }\n",
              "\n",
              "    .dataframe thead th {\n",
              "        text-align: right;\n",
              "    }\n",
              "</style>\n",
              "<table border=\"1\" class=\"dataframe\">\n",
              "  <thead>\n",
              "    <tr style=\"text-align: right;\">\n",
              "      <th></th>\n",
              "      <th>ads</th>\n",
              "    </tr>\n",
              "  </thead>\n",
              "  <tbody>\n",
              "    <tr>\n",
              "      <th>0</th>\n",
              "      <td>900</td>\n",
              "    </tr>\n",
              "    <tr>\n",
              "      <th>1</th>\n",
              "      <td>1400</td>\n",
              "    </tr>\n",
              "    <tr>\n",
              "      <th>2</th>\n",
              "      <td>3600</td>\n",
              "    </tr>\n",
              "    <tr>\n",
              "      <th>3</th>\n",
              "      <td>3800</td>\n",
              "    </tr>\n",
              "    <tr>\n",
              "      <th>4</th>\n",
              "      <td>6200</td>\n",
              "    </tr>\n",
              "    <tr>\n",
              "      <th>5</th>\n",
              "      <td>5200</td>\n",
              "    </tr>\n",
              "    <tr>\n",
              "      <th>6</th>\n",
              "      <td>6800</td>\n",
              "    </tr>\n",
              "    <tr>\n",
              "      <th>7</th>\n",
              "      <td>8300</td>\n",
              "    </tr>\n",
              "    <tr>\n",
              "      <th>8</th>\n",
              "      <td>9800</td>\n",
              "    </tr>\n",
              "    <tr>\n",
              "      <th>9</th>\n",
              "      <td>10100</td>\n",
              "    </tr>\n",
              "  </tbody>\n",
              "</table>\n",
              "</div>\n",
              "      <button class=\"colab-df-convert\" onclick=\"convertToInteractive('df-16e2001b-da79-4e90-b374-9b0943a1db23')\"\n",
              "              title=\"Convert this dataframe to an interactive table.\"\n",
              "              style=\"display:none;\">\n",
              "        \n",
              "  <svg xmlns=\"http://www.w3.org/2000/svg\" height=\"24px\"viewBox=\"0 0 24 24\"\n",
              "       width=\"24px\">\n",
              "    <path d=\"M0 0h24v24H0V0z\" fill=\"none\"/>\n",
              "    <path d=\"M18.56 5.44l.94 2.06.94-2.06 2.06-.94-2.06-.94-.94-2.06-.94 2.06-2.06.94zm-11 1L8.5 8.5l.94-2.06 2.06-.94-2.06-.94L8.5 2.5l-.94 2.06-2.06.94zm10 10l.94 2.06.94-2.06 2.06-.94-2.06-.94-.94-2.06-.94 2.06-2.06.94z\"/><path d=\"M17.41 7.96l-1.37-1.37c-.4-.4-.92-.59-1.43-.59-.52 0-1.04.2-1.43.59L10.3 9.45l-7.72 7.72c-.78.78-.78 2.05 0 2.83L4 21.41c.39.39.9.59 1.41.59.51 0 1.02-.2 1.41-.59l7.78-7.78 2.81-2.81c.8-.78.8-2.07 0-2.86zM5.41 20L4 18.59l7.72-7.72 1.47 1.35L5.41 20z\"/>\n",
              "  </svg>\n",
              "      </button>\n",
              "      \n",
              "  <style>\n",
              "    .colab-df-container {\n",
              "      display:flex;\n",
              "      flex-wrap:wrap;\n",
              "      gap: 12px;\n",
              "    }\n",
              "\n",
              "    .colab-df-convert {\n",
              "      background-color: #E8F0FE;\n",
              "      border: none;\n",
              "      border-radius: 50%;\n",
              "      cursor: pointer;\n",
              "      display: none;\n",
              "      fill: #1967D2;\n",
              "      height: 32px;\n",
              "      padding: 0 0 0 0;\n",
              "      width: 32px;\n",
              "    }\n",
              "\n",
              "    .colab-df-convert:hover {\n",
              "      background-color: #E2EBFA;\n",
              "      box-shadow: 0px 1px 2px rgba(60, 64, 67, 0.3), 0px 1px 3px 1px rgba(60, 64, 67, 0.15);\n",
              "      fill: #174EA6;\n",
              "    }\n",
              "\n",
              "    [theme=dark] .colab-df-convert {\n",
              "      background-color: #3B4455;\n",
              "      fill: #D2E3FC;\n",
              "    }\n",
              "\n",
              "    [theme=dark] .colab-df-convert:hover {\n",
              "      background-color: #434B5C;\n",
              "      box-shadow: 0px 1px 3px 1px rgba(0, 0, 0, 0.15);\n",
              "      filter: drop-shadow(0px 1px 2px rgba(0, 0, 0, 0.3));\n",
              "      fill: #FFFFFF;\n",
              "    }\n",
              "  </style>\n",
              "\n",
              "      <script>\n",
              "        const buttonEl =\n",
              "          document.querySelector('#df-16e2001b-da79-4e90-b374-9b0943a1db23 button.colab-df-convert');\n",
              "        buttonEl.style.display =\n",
              "          google.colab.kernel.accessAllowed ? 'block' : 'none';\n",
              "\n",
              "        async function convertToInteractive(key) {\n",
              "          const element = document.querySelector('#df-16e2001b-da79-4e90-b374-9b0943a1db23');\n",
              "          const dataTable =\n",
              "            await google.colab.kernel.invokeFunction('convertToInteractive',\n",
              "                                                     [key], {});\n",
              "          if (!dataTable) return;\n",
              "\n",
              "          const docLinkHtml = 'Like what you see? Visit the ' +\n",
              "            '<a target=\"_blank\" href=https://colab.research.google.com/notebooks/data_table.ipynb>data table notebook</a>'\n",
              "            + ' to learn more about interactive tables.';\n",
              "          element.innerHTML = '';\n",
              "          dataTable['output_type'] = 'display_data';\n",
              "          await google.colab.output.renderOutput(dataTable, element);\n",
              "          const docLink = document.createElement('div');\n",
              "          docLink.innerHTML = docLinkHtml;\n",
              "          element.appendChild(docLink);\n",
              "        }\n",
              "      </script>\n",
              "    </div>\n",
              "  </div>\n",
              "  "
            ]
          },
          "metadata": {},
          "execution_count": 13
        }
      ],
      "source": [
        "X"
      ]
    },
    {
      "cell_type": "code",
      "execution_count": 14,
      "metadata": {
        "id": "Dop4IN6g2Fqk",
        "outputId": "381a367c-0bee-4da5-9d22-245c9556f72d",
        "colab": {
          "base_uri": "https://localhost:8080/"
        }
      },
      "outputs": [
        {
          "output_type": "execute_result",
          "data": {
            "text/plain": [
              "0     2500\n",
              "1     4500\n",
              "2     6500\n",
              "3     8500\n",
              "4    10500\n",
              "5    12500\n",
              "6    14500\n",
              "7    16500\n",
              "8    18500\n",
              "9    20500\n",
              "Name: sales, dtype: int64"
            ]
          },
          "metadata": {},
          "execution_count": 14
        }
      ],
      "source": [
        "y"
      ]
    },
    {
      "cell_type": "code",
      "execution_count": 15,
      "metadata": {
        "deletable": false,
        "editable": false,
        "nbgrader": {
          "cell_type": "code",
          "checksum": "a805c19fa0c38ce27a2aae9ce1f5767b",
          "grade": true,
          "grade_id": "c",
          "locked": true,
          "points": 2,
          "schema_version": 3,
          "solution": false,
          "task": false
        },
        "id": "6gru4d7F2Fqk"
      },
      "outputs": [],
      "source": [
        "### Check your code (note that there are some hidden checks)\n",
        "assert len(X) == 10\n"
      ]
    },
    {
      "cell_type": "markdown",
      "metadata": {
        "id": "6g4MGGFe2Fqk"
      },
      "source": [
        "## Model"
      ]
    },
    {
      "cell_type": "markdown",
      "metadata": {
        "id": "68LB_3E-2Fqk"
      },
      "source": [
        "### Select model"
      ]
    },
    {
      "cell_type": "markdown",
      "metadata": {
        "id": "2sijgWDd2Fqk"
      },
      "source": [
        "Hint:\n",
        "\n",
        "Save the `LinearRegression()`estimator as object called `reg`\n",
        "\n",
        "---\n",
        "\n",
        "```pyhton\n",
        "___ = ___()\n",
        "```\n",
        "\n",
        "---"
      ]
    },
    {
      "cell_type": "code",
      "execution_count": 6,
      "metadata": {
        "deletable": false,
        "nbgrader": {
          "cell_type": "code",
          "checksum": "b926f642ff4d1525c6d4966b09646dd2",
          "grade": false,
          "grade_id": "reg",
          "locked": false,
          "schema_version": 3,
          "solution": true,
          "task": false
        },
        "id": "SX_YvqOt2Fqk"
      },
      "outputs": [],
      "source": [
        "reg = LinearRegression()"
      ]
    },
    {
      "cell_type": "code",
      "execution_count": 7,
      "metadata": {
        "deletable": false,
        "editable": false,
        "nbgrader": {
          "cell_type": "code",
          "checksum": "023e438413f8b45ce577ba7abe5acba9",
          "grade": true,
          "grade_id": "c-reg",
          "locked": true,
          "points": 2,
          "schema_version": 3,
          "solution": false,
          "task": false
        },
        "id": "fWxwQW5A2Fqk"
      },
      "outputs": [],
      "source": [
        "### Check your code\n",
        "assert reg.get_params() == {'copy_X': True, 'fit_intercept': True, 'n_jobs': None, 'normalize': 'deprecated', 'positive': False}"
      ]
    },
    {
      "cell_type": "markdown",
      "metadata": {
        "id": "ChdkPsHD2Fql"
      },
      "source": [
        "### Fit model"
      ]
    },
    {
      "cell_type": "markdown",
      "metadata": {
        "id": "arX9jfaP2Fql"
      },
      "source": [
        "\n",
        "Fit the model (your `reg` object) to the data with `.fit()`.\n",
        "\n",
        "In the fit function, you first need to provide the features and then the dependent variable (features, dependent variable)\n",
        "\n",
        "Hint:\n",
        "\n",
        "\n",
        "---\n",
        "\n",
        "```pyhton\n",
        "___.___(___, ___)\n",
        "```\n",
        "\n",
        "---\n",
        "\n"
      ]
    },
    {
      "cell_type": "code",
      "execution_count": 16,
      "metadata": {
        "deletable": false,
        "nbgrader": {
          "cell_type": "code",
          "checksum": "ca5d36fdfae75827d686d189279e23e0",
          "grade": false,
          "grade_id": "reg-fit",
          "locked": false,
          "schema_version": 3,
          "solution": true,
          "task": false
        },
        "id": "IuvnTyik2Fql",
        "outputId": "ee3546f7-c521-4e6a-e103-e227ac04739d",
        "colab": {
          "base_uri": "https://localhost:8080/"
        }
      },
      "outputs": [
        {
          "output_type": "execute_result",
          "data": {
            "text/plain": [
              "LinearRegression()"
            ]
          },
          "metadata": {},
          "execution_count": 16
        }
      ],
      "source": [
        "reg.fit(X, y)"
      ]
    },
    {
      "cell_type": "code",
      "execution_count": 17,
      "metadata": {
        "deletable": false,
        "editable": false,
        "nbgrader": {
          "cell_type": "code",
          "checksum": "5e29d6d43ff977c4ec66994f9871ae5c",
          "grade": true,
          "grade_id": "c-reg-fit",
          "locked": true,
          "points": 2,
          "schema_version": 3,
          "solution": false,
          "task": false
        },
        "id": "dGgOcFlf2Fql"
      },
      "outputs": [],
      "source": [
        "### Check your code\n",
        "assert reg.positive == False"
      ]
    },
    {
      "cell_type": "markdown",
      "metadata": {
        "id": "r79OkfNY2Fql"
      },
      "source": [
        "### Coefficients"
      ]
    },
    {
      "cell_type": "code",
      "execution_count": 20,
      "metadata": {
        "id": "oIK7jqHK2Fql",
        "outputId": "5a22b7c9-0c95-462c-f738-7531eb5df152",
        "colab": {
          "base_uri": "https://localhost:8080/"
        }
      },
      "outputs": [
        {
          "output_type": "execute_result",
          "data": {
            "text/plain": [
              "1181.2100861766648"
            ]
          },
          "metadata": {},
          "execution_count": 20
        }
      ],
      "source": [
        "# Intercept\n",
        "reg.intercept_"
      ]
    },
    {
      "cell_type": "code",
      "execution_count": 19,
      "metadata": {
        "id": "fKN5U-gh2Fqm",
        "outputId": "cfa05919-40fa-4d2f-fa77-af3e2f538961",
        "colab": {
          "base_uri": "https://localhost:8080/"
        }
      },
      "outputs": [
        {
          "output_type": "execute_result",
          "data": {
            "text/plain": [
              "array([1.83935649])"
            ]
          },
          "metadata": {},
          "execution_count": 19
        }
      ],
      "source": [
        "# Slope\n",
        "reg.coef_"
      ]
    },
    {
      "cell_type": "markdown",
      "metadata": {
        "id": "cWC1MkrJ2Fqm"
      },
      "source": [
        "### Make predictions"
      ]
    },
    {
      "cell_type": "markdown",
      "metadata": {
        "id": "UKZX3jnK2Fqm"
      },
      "source": [
        "\n",
        "Use your model to:\n",
        "\n",
        "- predict sales from your ads (`X`) values with the method `.predict()`\n",
        "\n",
        "- Save the result as `y_pred`\n",
        "\n",
        "Hint:\n",
        "\n",
        "---\n",
        "\n",
        "```pyhton\n",
        "___ = ___.___(___)\n",
        "```\n",
        "\n",
        "---\n",
        "\n"
      ]
    },
    {
      "cell_type": "code",
      "execution_count": 21,
      "metadata": {
        "deletable": false,
        "nbgrader": {
          "cell_type": "code",
          "checksum": "25a99ab2fc2d9a60ae6645d79864c061",
          "grade": false,
          "grade_id": "y-pred",
          "locked": false,
          "schema_version": 3,
          "solution": true,
          "task": false
        },
        "id": "FmFajh-a2Fqm"
      },
      "outputs": [],
      "source": [
        "y_pred=reg.predict(X)"
      ]
    },
    {
      "cell_type": "code",
      "execution_count": 22,
      "metadata": {
        "id": "9EpbOx1v2Fqm",
        "outputId": "d8817741-4081-40ff-d5fc-93b276c624a5",
        "colab": {
          "base_uri": "https://localhost:8080/"
        }
      },
      "outputs": [
        {
          "output_type": "execute_result",
          "data": {
            "text/plain": [
              "2836.6309279665047"
            ]
          },
          "metadata": {},
          "execution_count": 22
        }
      ],
      "source": [
        "y_pred[0]"
      ]
    },
    {
      "cell_type": "code",
      "execution_count": 23,
      "metadata": {
        "deletable": false,
        "editable": false,
        "nbgrader": {
          "cell_type": "code",
          "checksum": "da6e07611db08003ac064dfb4bfe72e4",
          "grade": true,
          "grade_id": "c-y-pred",
          "locked": true,
          "points": 2,
          "schema_version": 3,
          "solution": false,
          "task": false
        },
        "id": "_8vuUS0t2Fqn"
      },
      "outputs": [],
      "source": [
        "### Check your code\n",
        "assert 2836 < y_pred[0] <  2840"
      ]
    },
    {
      "cell_type": "markdown",
      "metadata": {
        "id": "ow0nCVk12Fqn"
      },
      "source": [
        "### Evaluation"
      ]
    },
    {
      "cell_type": "markdown",
      "metadata": {
        "id": "-qTEzNnJ2Fqn"
      },
      "source": [
        "#### Mean squared error"
      ]
    },
    {
      "cell_type": "markdown",
      "metadata": {
        "id": "NbL5nR4q2Fqo"
      },
      "source": [
        "Use the scikit-learn function `mean_squared_error()` to calculate the mean squared error and save the result as `mse`\n",
        "\n",
        "Hint:\n",
        "\n",
        "---\n",
        "\n",
        "```pyhton\n",
        "___ = ___(___, ___)\n",
        "```\n",
        "\n",
        "---"
      ]
    },
    {
      "cell_type": "code",
      "execution_count": 24,
      "metadata": {
        "deletable": false,
        "nbgrader": {
          "cell_type": "code",
          "checksum": "777256bec5c11df90dbb9d0f4a4e0842",
          "grade": false,
          "grade_id": "mse",
          "locked": false,
          "schema_version": 3,
          "solution": true,
          "task": false
        },
        "id": "zn3My5j82Fqo"
      },
      "outputs": [],
      "source": [
        "mse = mean_squared_error(y, y_pred)"
      ]
    },
    {
      "cell_type": "code",
      "execution_count": 25,
      "metadata": {
        "id": "wS8R44O-2Fqo",
        "outputId": "bb458975-07b9-4af0-d9af-2eb63520ba2c",
        "colab": {
          "base_uri": "https://localhost:8080/"
        }
      },
      "outputs": [
        {
          "output_type": "stream",
          "name": "stdout",
          "text": [
            "The mean squared error equals 1160739 \n"
          ]
        }
      ],
      "source": [
        "print(f'The mean squared error equals {mse:.0f} ')"
      ]
    },
    {
      "cell_type": "code",
      "execution_count": 26,
      "metadata": {
        "deletable": false,
        "editable": false,
        "nbgrader": {
          "cell_type": "code",
          "checksum": "d79d653e00a9e34c3106ec6cc2f5fa80",
          "grade": true,
          "grade_id": "c-mse",
          "locked": true,
          "points": 2,
          "schema_version": 3,
          "solution": false,
          "task": false
        },
        "id": "xXLsX1gj2Fqo"
      },
      "outputs": [],
      "source": [
        "### Check your code\n",
        "assert 1160738 < mse < 1160740 "
      ]
    },
    {
      "cell_type": "markdown",
      "metadata": {
        "id": "zhgalZom2Fqo"
      },
      "source": [
        "#### Root mean squared error"
      ]
    },
    {
      "cell_type": "markdown",
      "metadata": {
        "id": "ZM0WASrp2Fqo"
      },
      "source": [
        "Use the scikit-learn function `mean_squared_error()` to calculate the root mean squared error and save the result as `rmse`.\n",
        "\n",
        "Hint:\n",
        "\n",
        "---\n",
        "\n",
        "```pyhton\n",
        "___ = ___(___, ___, ___)\n",
        "```\n",
        "\n",
        "- use the option `squared=False` \n",
        "\n",
        "---"
      ]
    },
    {
      "cell_type": "code",
      "execution_count": 31,
      "metadata": {
        "deletable": false,
        "nbgrader": {
          "cell_type": "code",
          "checksum": "9b57ea2b4064a3c7cc32097537fb28cc",
          "grade": false,
          "grade_id": "rmse",
          "locked": false,
          "schema_version": 3,
          "solution": true,
          "task": false
        },
        "id": "Hugj7zmX2Fqp"
      },
      "outputs": [],
      "source": [
        "rmse = mean_squared_error(y, y_pred, squared=False)"
      ]
    },
    {
      "cell_type": "code",
      "execution_count": 32,
      "metadata": {
        "id": "khQtmft_2Fqp",
        "outputId": "f8ced979-7ab7-4d12-9106-8aafc1d00531",
        "colab": {
          "base_uri": "https://localhost:8080/"
        }
      },
      "outputs": [
        {
          "output_type": "stream",
          "name": "stdout",
          "text": [
            "The root mean squared error equals 1077 \n"
          ]
        }
      ],
      "source": [
        "print(f'The root mean squared error equals {rmse:.0f} ')"
      ]
    },
    {
      "cell_type": "code",
      "execution_count": 33,
      "metadata": {
        "deletable": false,
        "editable": false,
        "nbgrader": {
          "cell_type": "code",
          "checksum": "9af733710ff7144a67cb0254697f4b7b",
          "grade": true,
          "grade_id": "c-rmse",
          "locked": true,
          "points": 2,
          "schema_version": 3,
          "solution": false,
          "task": false
        },
        "id": "GPuoYRcF2Fqp"
      },
      "outputs": [],
      "source": [
        "### Check your code\n",
        "assert 1076 < rmse < 1078 "
      ]
    },
    {
      "cell_type": "markdown",
      "metadata": {
        "id": "7I2AJjfu2Fqp"
      },
      "source": [
        "#### Mean absolute error"
      ]
    },
    {
      "cell_type": "markdown",
      "metadata": {
        "id": "rgxs_Ato2Fqp"
      },
      "source": [
        "Use the scikit-learn function `mean_absolute_error()` to calculate the mean absolute error and save the result as `mae`.\n",
        "\n",
        "Hint:\n",
        "\n",
        "---\n",
        "\n",
        "```pyhton\n",
        "___ = ___(___, ___)\n",
        "```\n",
        "\n",
        "\n",
        "---"
      ]
    },
    {
      "cell_type": "code",
      "execution_count": 35,
      "metadata": {
        "deletable": false,
        "nbgrader": {
          "cell_type": "code",
          "checksum": "fd6454a6ae887855d3d372cdc283bc5d",
          "grade": false,
          "grade_id": "mae",
          "locked": false,
          "schema_version": 3,
          "solution": true,
          "task": false
        },
        "id": "RF6VdIM42Fqp"
      },
      "outputs": [],
      "source": [
        "mae = mean_absolute_error(y, y_pred)"
      ]
    },
    {
      "cell_type": "code",
      "execution_count": 36,
      "metadata": {
        "id": "n5Gyo7022Fqp",
        "outputId": "c1f709f2-fd48-4c79-a839-505e44ebfd99",
        "colab": {
          "base_uri": "https://localhost:8080/"
        }
      },
      "outputs": [
        {
          "output_type": "stream",
          "name": "stdout",
          "text": [
            "The mean absolute error equals 886 \n"
          ]
        }
      ],
      "source": [
        "print(f'The mean absolute error equals {mae:.0f} ')"
      ]
    },
    {
      "cell_type": "code",
      "execution_count": 37,
      "metadata": {
        "deletable": false,
        "editable": false,
        "nbgrader": {
          "cell_type": "code",
          "checksum": "1158c54808fbdcb232722476610f11ae",
          "grade": true,
          "grade_id": "c-mae",
          "locked": true,
          "points": 2,
          "schema_version": 3,
          "solution": false,
          "task": false
        },
        "id": "T0hvAE2T2Fqq"
      },
      "outputs": [],
      "source": [
        "### Check your code\n",
        "assert 885 < mae < 887 "
      ]
    }
  ],
  "metadata": {
    "kernelspec": {
      "display_name": "Python 3 (ipykernel)",
      "language": "python",
      "name": "python3"
    },
    "language_info": {
      "codemirror_mode": {
        "name": "ipython",
        "version": 3
      },
      "file_extension": ".py",
      "mimetype": "text/x-python",
      "name": "python",
      "nbconvert_exporter": "python",
      "pygments_lexer": "ipython3",
      "version": "3.9.13"
    },
    "vscode": {
      "interpreter": {
        "hash": "147de23312147813b0623f895fe208f672aacb131d01c672b840a7a22f97849e"
      }
    },
    "colab": {
      "provenance": []
    }
  },
  "nbformat": 4,
  "nbformat_minor": 0
}