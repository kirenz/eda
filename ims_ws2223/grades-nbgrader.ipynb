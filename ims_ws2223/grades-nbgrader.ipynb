{
 "cells": [
  {
   "cell_type": "markdown",
   "metadata": {},
   "source": [
    "# Grades"
   ]
  },
  {
   "attachments": {},
   "cell_type": "markdown",
   "metadata": {},
   "source": [
    "[Nbgrader documentation](https://nbgrader.readthedocs.io/en/stable/api/high_level_api.html)"
   ]
  },
  {
   "cell_type": "markdown",
   "metadata": {},
   "source": [
    "## Setup"
   ]
  },
  {
   "cell_type": "code",
   "execution_count": 30,
   "metadata": {},
   "outputs": [],
   "source": [
    "from nbgrader.apps import NbGraderAPI\n",
    "from traitlets.config import Config\n",
    "import pandas as pd"
   ]
  },
  {
   "cell_type": "code",
   "execution_count": 31,
   "metadata": {},
   "outputs": [],
   "source": [
    "# create a custom config object to specify options for nbgrader\n",
    "config = Config()\n",
    "config.CourseDirectory.course_id = \"ims_ws2223\"\n",
    "api = NbGraderAPI(config=config)\n",
    "\n",
    "# api.generate_assignment(\"models\")"
   ]
  },
  {
   "attachments": {},
   "cell_type": "markdown",
   "metadata": {},
   "source": [
    "## Grading"
   ]
  },
  {
   "cell_type": "code",
   "execution_count": 32,
   "metadata": {},
   "outputs": [],
   "source": [
    "grades = api.get_submissions('models')\n",
    "df = pd.DataFrame(grades)"
   ]
  },
  {
   "cell_type": "code",
   "execution_count": 36,
   "metadata": {},
   "outputs": [
    {
     "name": "stdout",
     "output_type": "stream",
     "text": [
      "<class 'pandas.core.frame.DataFrame'>\n",
      "RangeIndex: 42 entries, 0 to 41\n",
      "Data columns (total 21 columns):\n",
      " #   Column              Non-Null Count  Dtype  \n",
      "---  ------              --------------  -----  \n",
      " 0   id                  42 non-null     object \n",
      " 1   name                42 non-null     object \n",
      " 2   timestamp           0 non-null      object \n",
      " 3   first_name          0 non-null      object \n",
      " 4   last_name           0 non-null      object \n",
      " 5   student             42 non-null     object \n",
      " 6   score               42 non-null     float64\n",
      " 7   max_score           42 non-null     float64\n",
      " 8   code_score          42 non-null     float64\n",
      " 9   max_code_score      42 non-null     float64\n",
      " 10  written_score       42 non-null     float64\n",
      " 11  max_written_score   42 non-null     float64\n",
      " 12  task_score          42 non-null     float64\n",
      " 13  max_task_score      42 non-null     float64\n",
      " 14  needs_manual_grade  42 non-null     bool   \n",
      " 15  display_timestamp   0 non-null      object \n",
      " 16  autograded          42 non-null     bool   \n",
      " 17  submitted           42 non-null     bool   \n",
      " 18  student_name        42 non-null     object \n",
      " 19  student_matrikel    42 non-null     object \n",
      " 20  drop                41 non-null     object \n",
      "dtypes: bool(3), float64(8), object(10)\n",
      "memory usage: 6.2+ KB\n"
     ]
    }
   ],
   "source": [
    "df.info()"
   ]
  },
  {
   "cell_type": "code",
   "execution_count": 33,
   "metadata": {},
   "outputs": [],
   "source": [
    "# remove strings\n",
    "df['student'] = df['student'].str.replace('_assignsubmission_file', '')\n",
    "\n",
    "df[['student_name','student_matrikel', 'drop']] = df['student'].str.split(\"_\",expand=True,)\n"
   ]
  },
  {
   "cell_type": "code",
   "execution_count": 37,
   "metadata": {},
   "outputs": [],
   "source": [
    "\n",
    "list = ['student_name', 'student_matrikel', 'autograded', 'score', 'max_score' ]\n",
    "\n",
    "df[list].to_csv('grades.csv')"
   ]
  },
  {
   "cell_type": "code",
   "execution_count": 35,
   "metadata": {},
   "outputs": [
    {
     "data": {
      "text/html": [
       "<div>\n",
       "<style scoped>\n",
       "    .dataframe tbody tr th:only-of-type {\n",
       "        vertical-align: middle;\n",
       "    }\n",
       "\n",
       "    .dataframe tbody tr th {\n",
       "        vertical-align: top;\n",
       "    }\n",
       "\n",
       "    .dataframe thead th {\n",
       "        text-align: right;\n",
       "    }\n",
       "</style>\n",
       "<table border=\"1\" class=\"dataframe\">\n",
       "  <thead>\n",
       "    <tr style=\"text-align: right;\">\n",
       "      <th></th>\n",
       "      <th>id</th>\n",
       "      <th>name</th>\n",
       "      <th>timestamp</th>\n",
       "      <th>first_name</th>\n",
       "      <th>last_name</th>\n",
       "      <th>student</th>\n",
       "      <th>score</th>\n",
       "      <th>max_score</th>\n",
       "      <th>code_score</th>\n",
       "      <th>max_code_score</th>\n",
       "      <th>...</th>\n",
       "      <th>max_written_score</th>\n",
       "      <th>task_score</th>\n",
       "      <th>max_task_score</th>\n",
       "      <th>needs_manual_grade</th>\n",
       "      <th>display_timestamp</th>\n",
       "      <th>autograded</th>\n",
       "      <th>submitted</th>\n",
       "      <th>student_name</th>\n",
       "      <th>student_matrikel</th>\n",
       "      <th>drop</th>\n",
       "    </tr>\n",
       "  </thead>\n",
       "  <tbody>\n",
       "    <tr>\n",
       "      <th>0</th>\n",
       "      <td>b5e4f131a92f45078ea3e9bc6ad977ad</td>\n",
       "      <td>models</td>\n",
       "      <td>None</td>\n",
       "      <td>None</td>\n",
       "      <td>None</td>\n",
       "      <td>Ajla Ramovic_567286_</td>\n",
       "      <td>30.0</td>\n",
       "      <td>38.0</td>\n",
       "      <td>30.0</td>\n",
       "      <td>38.0</td>\n",
       "      <td>...</td>\n",
       "      <td>0.0</td>\n",
       "      <td>0.0</td>\n",
       "      <td>0.0</td>\n",
       "      <td>True</td>\n",
       "      <td>None</td>\n",
       "      <td>True</td>\n",
       "      <td>True</td>\n",
       "      <td>Ajla Ramovic</td>\n",
       "      <td>567286</td>\n",
       "      <td></td>\n",
       "    </tr>\n",
       "    <tr>\n",
       "      <th>1</th>\n",
       "      <td>1fd167faed5d4bbb8b837ff3e74820c3</td>\n",
       "      <td>models</td>\n",
       "      <td>None</td>\n",
       "      <td>None</td>\n",
       "      <td>None</td>\n",
       "      <td>Anna Lena Türke_567248_</td>\n",
       "      <td>32.0</td>\n",
       "      <td>38.0</td>\n",
       "      <td>32.0</td>\n",
       "      <td>38.0</td>\n",
       "      <td>...</td>\n",
       "      <td>0.0</td>\n",
       "      <td>0.0</td>\n",
       "      <td>0.0</td>\n",
       "      <td>False</td>\n",
       "      <td>None</td>\n",
       "      <td>True</td>\n",
       "      <td>True</td>\n",
       "      <td>Anna Lena Türke</td>\n",
       "      <td>567248</td>\n",
       "      <td></td>\n",
       "    </tr>\n",
       "    <tr>\n",
       "      <th>2</th>\n",
       "      <td>071a29060f8346509a101504a2259ed3</td>\n",
       "      <td>models</td>\n",
       "      <td>None</td>\n",
       "      <td>None</td>\n",
       "      <td>None</td>\n",
       "      <td>Annika Karklis_567285_</td>\n",
       "      <td>32.0</td>\n",
       "      <td>38.0</td>\n",
       "      <td>32.0</td>\n",
       "      <td>38.0</td>\n",
       "      <td>...</td>\n",
       "      <td>0.0</td>\n",
       "      <td>0.0</td>\n",
       "      <td>0.0</td>\n",
       "      <td>False</td>\n",
       "      <td>None</td>\n",
       "      <td>True</td>\n",
       "      <td>True</td>\n",
       "      <td>Annika Karklis</td>\n",
       "      <td>567285</td>\n",
       "      <td></td>\n",
       "    </tr>\n",
       "    <tr>\n",
       "      <th>3</th>\n",
       "      <td>81681ed58a5845648414f17df372752e</td>\n",
       "      <td>models</td>\n",
       "      <td>None</td>\n",
       "      <td>None</td>\n",
       "      <td>None</td>\n",
       "      <td>Annika Laux_567257_</td>\n",
       "      <td>32.0</td>\n",
       "      <td>38.0</td>\n",
       "      <td>32.0</td>\n",
       "      <td>38.0</td>\n",
       "      <td>...</td>\n",
       "      <td>0.0</td>\n",
       "      <td>0.0</td>\n",
       "      <td>0.0</td>\n",
       "      <td>False</td>\n",
       "      <td>None</td>\n",
       "      <td>True</td>\n",
       "      <td>True</td>\n",
       "      <td>Annika Laux</td>\n",
       "      <td>567257</td>\n",
       "      <td></td>\n",
       "    </tr>\n",
       "    <tr>\n",
       "      <th>4</th>\n",
       "      <td>ddd68169c15442048bb3cc7999d4311b</td>\n",
       "      <td>models</td>\n",
       "      <td>None</td>\n",
       "      <td>None</td>\n",
       "      <td>None</td>\n",
       "      <td>Antonia Marie Reznicek_567275_</td>\n",
       "      <td>22.0</td>\n",
       "      <td>38.0</td>\n",
       "      <td>22.0</td>\n",
       "      <td>38.0</td>\n",
       "      <td>...</td>\n",
       "      <td>0.0</td>\n",
       "      <td>0.0</td>\n",
       "      <td>0.0</td>\n",
       "      <td>False</td>\n",
       "      <td>None</td>\n",
       "      <td>True</td>\n",
       "      <td>True</td>\n",
       "      <td>Antonia Marie Reznicek</td>\n",
       "      <td>567275</td>\n",
       "      <td></td>\n",
       "    </tr>\n",
       "  </tbody>\n",
       "</table>\n",
       "<p>5 rows × 21 columns</p>\n",
       "</div>"
      ],
      "text/plain": [
       "                                 id    name timestamp first_name last_name  \\\n",
       "0  b5e4f131a92f45078ea3e9bc6ad977ad  models      None       None      None   \n",
       "1  1fd167faed5d4bbb8b837ff3e74820c3  models      None       None      None   \n",
       "2  071a29060f8346509a101504a2259ed3  models      None       None      None   \n",
       "3  81681ed58a5845648414f17df372752e  models      None       None      None   \n",
       "4  ddd68169c15442048bb3cc7999d4311b  models      None       None      None   \n",
       "\n",
       "                          student  score  max_score  code_score  \\\n",
       "0            Ajla Ramovic_567286_   30.0       38.0        30.0   \n",
       "1         Anna Lena Türke_567248_   32.0       38.0        32.0   \n",
       "2          Annika Karklis_567285_   32.0       38.0        32.0   \n",
       "3             Annika Laux_567257_   32.0       38.0        32.0   \n",
       "4  Antonia Marie Reznicek_567275_   22.0       38.0        22.0   \n",
       "\n",
       "   max_code_score  ...  max_written_score  task_score  max_task_score  \\\n",
       "0            38.0  ...                0.0         0.0             0.0   \n",
       "1            38.0  ...                0.0         0.0             0.0   \n",
       "2            38.0  ...                0.0         0.0             0.0   \n",
       "3            38.0  ...                0.0         0.0             0.0   \n",
       "4            38.0  ...                0.0         0.0             0.0   \n",
       "\n",
       "   needs_manual_grade  display_timestamp autograded  submitted  \\\n",
       "0                True               None       True       True   \n",
       "1               False               None       True       True   \n",
       "2               False               None       True       True   \n",
       "3               False               None       True       True   \n",
       "4               False               None       True       True   \n",
       "\n",
       "             student_name student_matrikel drop  \n",
       "0            Ajla Ramovic           567286       \n",
       "1         Anna Lena Türke           567248       \n",
       "2          Annika Karklis           567285       \n",
       "3             Annika Laux           567257       \n",
       "4  Antonia Marie Reznicek           567275       \n",
       "\n",
       "[5 rows x 21 columns]"
      ]
     },
     "execution_count": 35,
     "metadata": {},
     "output_type": "execute_result"
    }
   ],
   "source": [
    "df.head()"
   ]
  },
  {
   "cell_type": "code",
   "execution_count": null,
   "metadata": {},
   "outputs": [],
   "source": []
  }
 ],
 "metadata": {
  "kernelspec": {
   "display_name": "nb",
   "language": "python",
   "name": "python3"
  },
  "language_info": {
   "codemirror_mode": {
    "name": "ipython",
    "version": 3
   },
   "file_extension": ".py",
   "mimetype": "text/x-python",
   "name": "python",
   "nbconvert_exporter": "python",
   "pygments_lexer": "ipython3",
   "version": "3.9.13"
  },
  "orig_nbformat": 4,
  "vscode": {
   "interpreter": {
    "hash": "efbbb30a9cdc9461415407cb6fbf9315af7b4aabf1d5ce52ec43649a854204b4"
   }
  }
 },
 "nbformat": 4,
 "nbformat_minor": 2
}
