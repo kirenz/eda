{
 "cells": [
  {
   "cell_type": "markdown",
   "metadata": {},
   "source": [
    "# Grades"
   ]
  },
  {
   "attachments": {},
   "cell_type": "markdown",
   "metadata": {},
   "source": [
    "[Nbgrader documentation](https://nbgrader.readthedocs.io/en/stable/api/high_level_api.html)"
   ]
  },
  {
   "cell_type": "markdown",
   "metadata": {},
   "source": [
    "## Setup"
   ]
  },
  {
   "cell_type": "code",
   "execution_count": 23,
   "metadata": {},
   "outputs": [],
   "source": [
    "from nbgrader.apps import NbGraderAPI\n",
    "from traitlets.config import Config\n",
    "import pandas as pd\n",
    "import altair as alt"
   ]
  },
  {
   "cell_type": "code",
   "execution_count": 24,
   "metadata": {},
   "outputs": [],
   "source": [
    "# create a custom config object to specify options for nbgrader\n",
    "config = Config()\n",
    "config.CourseDirectory.course_id = \"ims_ws2223\"\n",
    "api = NbGraderAPI(config=config)\n",
    "\n",
    "# api.generate_assignment(\"models\")"
   ]
  },
  {
   "attachments": {},
   "cell_type": "markdown",
   "metadata": {},
   "source": [
    "## Grading"
   ]
  },
  {
   "cell_type": "code",
   "execution_count": 25,
   "metadata": {},
   "outputs": [],
   "source": [
    "grades = api.get_submissions('models')\n",
    "df = pd.DataFrame(grades)\n",
    "\n",
    "# remove strings\n",
    "df['student'] = df['student'].str.replace('_assignsubmission_file', '')\n",
    "# expand cells\n",
    "df[['student_name','student_matrikel', 'drop']] = df['student'].str.split(\"_\",expand=True,)\n",
    "# add percentage\n",
    "df['percentage'] = round(df['score'] / df['max_score'],2)\n",
    "\n",
    "def bonus_func(df):\n",
    "    \"\"\" Bonus Function for generating new value\"\"\"\n",
    "    if df['percentage'] >= 0.75:\n",
    "        return 1\n",
    "    else:\n",
    "        return 0\n",
    "\n",
    "# new variable\n",
    "df['bonus'] = df.apply(bonus_func, axis=1)\n",
    "\n",
    "# select variables\n",
    "list = ['student_name', 'student_matrikel', 'autograded', 'percentage', 'score', 'max_score', 'bonus' ]"
   ]
  },
  {
   "cell_type": "code",
   "execution_count": 26,
   "metadata": {},
   "outputs": [
    {
     "data": {
      "text/html": [
       "<div>\n",
       "<style scoped>\n",
       "    .dataframe tbody tr th:only-of-type {\n",
       "        vertical-align: middle;\n",
       "    }\n",
       "\n",
       "    .dataframe tbody tr th {\n",
       "        vertical-align: top;\n",
       "    }\n",
       "\n",
       "    .dataframe thead th {\n",
       "        text-align: right;\n",
       "    }\n",
       "</style>\n",
       "<table border=\"1\" class=\"dataframe\">\n",
       "  <thead>\n",
       "    <tr style=\"text-align: right;\">\n",
       "      <th></th>\n",
       "      <th>count</th>\n",
       "      <th>mean</th>\n",
       "      <th>std</th>\n",
       "      <th>min</th>\n",
       "      <th>25%</th>\n",
       "      <th>50%</th>\n",
       "      <th>75%</th>\n",
       "      <th>max</th>\n",
       "    </tr>\n",
       "  </thead>\n",
       "  <tbody>\n",
       "    <tr>\n",
       "      <th>percentage</th>\n",
       "      <td>42.0</td>\n",
       "      <td>0.80</td>\n",
       "      <td>0.17</td>\n",
       "      <td>0.0</td>\n",
       "      <td>0.84</td>\n",
       "      <td>0.84</td>\n",
       "      <td>0.84</td>\n",
       "      <td>0.84</td>\n",
       "    </tr>\n",
       "    <tr>\n",
       "      <th>score</th>\n",
       "      <td>42.0</td>\n",
       "      <td>30.29</td>\n",
       "      <td>6.41</td>\n",
       "      <td>0.0</td>\n",
       "      <td>32.00</td>\n",
       "      <td>32.00</td>\n",
       "      <td>32.00</td>\n",
       "      <td>32.00</td>\n",
       "    </tr>\n",
       "    <tr>\n",
       "      <th>max_score</th>\n",
       "      <td>42.0</td>\n",
       "      <td>38.00</td>\n",
       "      <td>0.00</td>\n",
       "      <td>38.0</td>\n",
       "      <td>38.00</td>\n",
       "      <td>38.00</td>\n",
       "      <td>38.00</td>\n",
       "      <td>38.00</td>\n",
       "    </tr>\n",
       "    <tr>\n",
       "      <th>bonus</th>\n",
       "      <td>42.0</td>\n",
       "      <td>0.93</td>\n",
       "      <td>0.26</td>\n",
       "      <td>0.0</td>\n",
       "      <td>1.00</td>\n",
       "      <td>1.00</td>\n",
       "      <td>1.00</td>\n",
       "      <td>1.00</td>\n",
       "    </tr>\n",
       "  </tbody>\n",
       "</table>\n",
       "</div>"
      ],
      "text/plain": [
       "            count   mean   std   min    25%    50%    75%    max\n",
       "percentage   42.0   0.80  0.17   0.0   0.84   0.84   0.84   0.84\n",
       "score        42.0  30.29  6.41   0.0  32.00  32.00  32.00  32.00\n",
       "max_score    42.0  38.00  0.00  38.0  38.00  38.00  38.00  38.00\n",
       "bonus        42.0   0.93  0.26   0.0   1.00   1.00   1.00   1.00"
      ]
     },
     "execution_count": 26,
     "metadata": {},
     "output_type": "execute_result"
    }
   ],
   "source": [
    "\n",
    "df[list].describe().T.round(2)"
   ]
  },
  {
   "cell_type": "code",
   "execution_count": 27,
   "metadata": {},
   "outputs": [
    {
     "name": "stderr",
     "output_type": "stream",
     "text": [
      "/Users/jankirenz/opt/anaconda3/envs/nb/lib/python3.9/site-packages/altair/utils/core.py:317: FutureWarning: iteritems is deprecated and will be removed in a future version. Use .items instead.\n",
      "  for col_name, dtype in df.dtypes.iteritems():\n"
     ]
    },
    {
     "data": {
      "text/html": [
       "\n",
       "<div id=\"altair-viz-46fed523729d4e6697129d65e1ab8712\"></div>\n",
       "<script type=\"text/javascript\">\n",
       "  var VEGA_DEBUG = (typeof VEGA_DEBUG == \"undefined\") ? {} : VEGA_DEBUG;\n",
       "  (function(spec, embedOpt){\n",
       "    let outputDiv = document.currentScript.previousElementSibling;\n",
       "    if (outputDiv.id !== \"altair-viz-46fed523729d4e6697129d65e1ab8712\") {\n",
       "      outputDiv = document.getElementById(\"altair-viz-46fed523729d4e6697129d65e1ab8712\");\n",
       "    }\n",
       "    const paths = {\n",
       "      \"vega\": \"https://cdn.jsdelivr.net/npm//vega@5?noext\",\n",
       "      \"vega-lib\": \"https://cdn.jsdelivr.net/npm//vega-lib?noext\",\n",
       "      \"vega-lite\": \"https://cdn.jsdelivr.net/npm//vega-lite@4.17.0?noext\",\n",
       "      \"vega-embed\": \"https://cdn.jsdelivr.net/npm//vega-embed@6?noext\",\n",
       "    };\n",
       "\n",
       "    function maybeLoadScript(lib, version) {\n",
       "      var key = `${lib.replace(\"-\", \"\")}_version`;\n",
       "      return (VEGA_DEBUG[key] == version) ?\n",
       "        Promise.resolve(paths[lib]) :\n",
       "        new Promise(function(resolve, reject) {\n",
       "          var s = document.createElement('script');\n",
       "          document.getElementsByTagName(\"head\")[0].appendChild(s);\n",
       "          s.async = true;\n",
       "          s.onload = () => {\n",
       "            VEGA_DEBUG[key] = version;\n",
       "            return resolve(paths[lib]);\n",
       "          };\n",
       "          s.onerror = () => reject(`Error loading script: ${paths[lib]}`);\n",
       "          s.src = paths[lib];\n",
       "        });\n",
       "    }\n",
       "\n",
       "    function showError(err) {\n",
       "      outputDiv.innerHTML = `<div class=\"error\" style=\"color:red;\">${err}</div>`;\n",
       "      throw err;\n",
       "    }\n",
       "\n",
       "    function displayChart(vegaEmbed) {\n",
       "      vegaEmbed(outputDiv, spec, embedOpt)\n",
       "        .catch(err => showError(`Javascript Error: ${err.message}<br>This usually means there's a typo in your chart specification. See the javascript console for the full traceback.`));\n",
       "    }\n",
       "\n",
       "    if(typeof define === \"function\" && define.amd) {\n",
       "      requirejs.config({paths});\n",
       "      require([\"vega-embed\"], displayChart, err => showError(`Error loading script: ${err.message}`));\n",
       "    } else {\n",
       "      maybeLoadScript(\"vega\", \"5\")\n",
       "        .then(() => maybeLoadScript(\"vega-lite\", \"4.17.0\"))\n",
       "        .then(() => maybeLoadScript(\"vega-embed\", \"6\"))\n",
       "        .catch(showError)\n",
       "        .then(() => displayChart(vegaEmbed));\n",
       "    }\n",
       "  })({\"config\": {\"view\": {\"continuousWidth\": 400, \"continuousHeight\": 300}}, \"data\": {\"name\": \"data-4249c4d66d49591318186ec7d938c93c\"}, \"mark\": \"bar\", \"encoding\": {\"x\": {\"bin\": true, \"field\": \"score\", \"type\": \"quantitative\"}, \"y\": {\"aggregate\": \"count\", \"type\": \"quantitative\"}}, \"$schema\": \"https://vega.github.io/schema/vega-lite/v4.17.0.json\", \"datasets\": {\"data-4249c4d66d49591318186ec7d938c93c\": [{\"id\": \"b5e4f131a92f45078ea3e9bc6ad977ad\", \"name\": \"models\", \"timestamp\": null, \"first_name\": null, \"last_name\": null, \"student\": \"Ajla Ramovic_567286_\", \"score\": 30.0, \"max_score\": 38.0, \"code_score\": 30.0, \"max_code_score\": 38.0, \"written_score\": 0.0, \"max_written_score\": 0.0, \"task_score\": 0.0, \"max_task_score\": 0.0, \"needs_manual_grade\": true, \"display_timestamp\": null, \"autograded\": true, \"submitted\": true, \"student_name\": \"Ajla Ramovic\", \"student_matrikel\": \"567286\", \"drop\": \"\", \"percentage\": 0.79, \"bonus\": 1}, {\"id\": \"1fd167faed5d4bbb8b837ff3e74820c3\", \"name\": \"models\", \"timestamp\": null, \"first_name\": null, \"last_name\": null, \"student\": \"Anna Lena T\\u00fcrke_567248_\", \"score\": 32.0, \"max_score\": 38.0, \"code_score\": 32.0, \"max_code_score\": 38.0, \"written_score\": 0.0, \"max_written_score\": 0.0, \"task_score\": 0.0, \"max_task_score\": 0.0, \"needs_manual_grade\": false, \"display_timestamp\": null, \"autograded\": true, \"submitted\": true, \"student_name\": \"Anna Lena T\\u00fcrke\", \"student_matrikel\": \"567248\", \"drop\": \"\", \"percentage\": 0.84, \"bonus\": 1}, {\"id\": \"071a29060f8346509a101504a2259ed3\", \"name\": \"models\", \"timestamp\": null, \"first_name\": null, \"last_name\": null, \"student\": \"Annika Karklis_567285_\", \"score\": 32.0, \"max_score\": 38.0, \"code_score\": 32.0, \"max_code_score\": 38.0, \"written_score\": 0.0, \"max_written_score\": 0.0, \"task_score\": 0.0, \"max_task_score\": 0.0, \"needs_manual_grade\": false, \"display_timestamp\": null, \"autograded\": true, \"submitted\": true, \"student_name\": \"Annika Karklis\", \"student_matrikel\": \"567285\", \"drop\": \"\", \"percentage\": 0.84, \"bonus\": 1}, {\"id\": \"81681ed58a5845648414f17df372752e\", \"name\": \"models\", \"timestamp\": null, \"first_name\": null, \"last_name\": null, \"student\": \"Annika Laux_567257_\", \"score\": 32.0, \"max_score\": 38.0, \"code_score\": 32.0, \"max_code_score\": 38.0, \"written_score\": 0.0, \"max_written_score\": 0.0, \"task_score\": 0.0, \"max_task_score\": 0.0, \"needs_manual_grade\": false, \"display_timestamp\": null, \"autograded\": true, \"submitted\": true, \"student_name\": \"Annika Laux\", \"student_matrikel\": \"567257\", \"drop\": \"\", \"percentage\": 0.84, \"bonus\": 1}, {\"id\": \"ddd68169c15442048bb3cc7999d4311b\", \"name\": \"models\", \"timestamp\": null, \"first_name\": null, \"last_name\": null, \"student\": \"Antonia Marie Reznicek_567275_\", \"score\": 22.0, \"max_score\": 38.0, \"code_score\": 22.0, \"max_code_score\": 38.0, \"written_score\": 0.0, \"max_written_score\": 0.0, \"task_score\": 0.0, \"max_task_score\": 0.0, \"needs_manual_grade\": false, \"display_timestamp\": null, \"autograded\": true, \"submitted\": true, \"student_name\": \"Antonia Marie Reznicek\", \"student_matrikel\": \"567275\", \"drop\": \"\", \"percentage\": 0.58, \"bonus\": 0}, {\"id\": \"e5545ac92e344156bc0dc3b1dbec00be\", \"name\": \"models\", \"timestamp\": null, \"first_name\": null, \"last_name\": null, \"student\": \"Charlotte Kassner_567282_\", \"score\": 32.0, \"max_score\": 38.0, \"code_score\": 32.0, \"max_code_score\": 38.0, \"written_score\": 0.0, \"max_written_score\": 0.0, \"task_score\": 0.0, \"max_task_score\": 0.0, \"needs_manual_grade\": false, \"display_timestamp\": null, \"autograded\": true, \"submitted\": true, \"student_name\": \"Charlotte Kassner\", \"student_matrikel\": \"567282\", \"drop\": \"\", \"percentage\": 0.84, \"bonus\": 1}, {\"id\": \"63eabc77758a43819ef9c1c3426d1499\", \"name\": \"models\", \"timestamp\": null, \"first_name\": null, \"last_name\": null, \"student\": \"Charlotte Selter_567269_\", \"score\": 0.0, \"max_score\": 38.0, \"code_score\": 0.0, \"max_code_score\": 38.0, \"written_score\": 0.0, \"max_written_score\": 0.0, \"task_score\": 0.0, \"max_task_score\": 0.0, \"needs_manual_grade\": false, \"display_timestamp\": null, \"autograded\": true, \"submitted\": true, \"student_name\": \"Charlotte Selter\", \"student_matrikel\": \"567269\", \"drop\": \"\", \"percentage\": 0.0, \"bonus\": 0}, {\"id\": \"827bad0057924e27924206f2f7b297af\", \"name\": \"models\", \"timestamp\": null, \"first_name\": null, \"last_name\": null, \"student\": \"Christina Albert_567255_\", \"score\": 32.0, \"max_score\": 38.0, \"code_score\": 32.0, \"max_code_score\": 38.0, \"written_score\": 0.0, \"max_written_score\": 0.0, \"task_score\": 0.0, \"max_task_score\": 0.0, \"needs_manual_grade\": false, \"display_timestamp\": null, \"autograded\": true, \"submitted\": true, \"student_name\": \"Christina Albert\", \"student_matrikel\": \"567255\", \"drop\": \"\", \"percentage\": 0.84, \"bonus\": 1}, {\"id\": \"786fa10e0b3c40e6b5808ab933d76b4d\", \"name\": \"models\", \"timestamp\": null, \"first_name\": null, \"last_name\": null, \"student\": \"Clara Stauber_567301_\", \"score\": 32.0, \"max_score\": 38.0, \"code_score\": 32.0, \"max_code_score\": 38.0, \"written_score\": 0.0, \"max_written_score\": 0.0, \"task_score\": 0.0, \"max_task_score\": 0.0, \"needs_manual_grade\": false, \"display_timestamp\": null, \"autograded\": true, \"submitted\": true, \"student_name\": \"Clara Stauber\", \"student_matrikel\": \"567301\", \"drop\": \"\", \"percentage\": 0.84, \"bonus\": 1}, {\"id\": \"6fe290ea697942bb87abd8f3773f47d4\", \"name\": \"models\", \"timestamp\": null, \"first_name\": null, \"last_name\": null, \"student\": \"Emily Scharping_567271_\", \"score\": 32.0, \"max_score\": 38.0, \"code_score\": 32.0, \"max_code_score\": 38.0, \"written_score\": 0.0, \"max_written_score\": 0.0, \"task_score\": 0.0, \"max_task_score\": 0.0, \"needs_manual_grade\": false, \"display_timestamp\": null, \"autograded\": true, \"submitted\": true, \"student_name\": \"Emily Scharping\", \"student_matrikel\": \"567271\", \"drop\": \"\", \"percentage\": 0.84, \"bonus\": 1}, {\"id\": \"31787b8335f24255b6684a135113fcac\", \"name\": \"models\", \"timestamp\": null, \"first_name\": null, \"last_name\": null, \"student\": \"Eva Bair_567267_\", \"score\": 32.0, \"max_score\": 38.0, \"code_score\": 32.0, \"max_code_score\": 38.0, \"written_score\": 0.0, \"max_written_score\": 0.0, \"task_score\": 0.0, \"max_task_score\": 0.0, \"needs_manual_grade\": false, \"display_timestamp\": null, \"autograded\": true, \"submitted\": true, \"student_name\": \"Eva Bair\", \"student_matrikel\": \"567267\", \"drop\": \"\", \"percentage\": 0.84, \"bonus\": 1}, {\"id\": \"24e9076a718c4f65a73eabb7c59af7b9\", \"name\": \"models\", \"timestamp\": null, \"first_name\": null, \"last_name\": null, \"student\": \"Fatime Shahin_567256_\", \"score\": 32.0, \"max_score\": 38.0, \"code_score\": 32.0, \"max_code_score\": 38.0, \"written_score\": 0.0, \"max_written_score\": 0.0, \"task_score\": 0.0, \"max_task_score\": 0.0, \"needs_manual_grade\": false, \"display_timestamp\": null, \"autograded\": true, \"submitted\": true, \"student_name\": \"Fatime Shahin\", \"student_matrikel\": \"567256\", \"drop\": \"\", \"percentage\": 0.84, \"bonus\": 1}, {\"id\": \"d20893b76816446f954c7e90c1966639\", \"name\": \"models\", \"timestamp\": null, \"first_name\": null, \"last_name\": null, \"student\": \"Georg-Juri Gentner_567260_\", \"score\": 32.0, \"max_score\": 38.0, \"code_score\": 32.0, \"max_code_score\": 38.0, \"written_score\": 0.0, \"max_written_score\": 0.0, \"task_score\": 0.0, \"max_task_score\": 0.0, \"needs_manual_grade\": false, \"display_timestamp\": null, \"autograded\": true, \"submitted\": true, \"student_name\": \"Georg-Juri Gentner\", \"student_matrikel\": \"567260\", \"drop\": \"\", \"percentage\": 0.84, \"bonus\": 1}, {\"id\": \"07948e417aa34cb8ab34c68bb99c98d6\", \"name\": \"models\", \"timestamp\": null, \"first_name\": null, \"last_name\": null, \"student\": \"Jana Kemper_567302_\", \"score\": 32.0, \"max_score\": 38.0, \"code_score\": 32.0, \"max_code_score\": 38.0, \"written_score\": 0.0, \"max_written_score\": 0.0, \"task_score\": 0.0, \"max_task_score\": 0.0, \"needs_manual_grade\": false, \"display_timestamp\": null, \"autograded\": true, \"submitted\": true, \"student_name\": \"Jana Kemper\", \"student_matrikel\": \"567302\", \"drop\": \"\", \"percentage\": 0.84, \"bonus\": 1}, {\"id\": \"b2ba0193665741ceb6dd52c9c2645b38\", \"name\": \"models\", \"timestamp\": null, \"first_name\": null, \"last_name\": null, \"student\": \"Janine Schauz_567297_\", \"score\": 32.0, \"max_score\": 38.0, \"code_score\": 32.0, \"max_code_score\": 38.0, \"written_score\": 0.0, \"max_written_score\": 0.0, \"task_score\": 0.0, \"max_task_score\": 0.0, \"needs_manual_grade\": false, \"display_timestamp\": null, \"autograded\": true, \"submitted\": true, \"student_name\": \"Janine Schauz\", \"student_matrikel\": \"567297\", \"drop\": \"\", \"percentage\": 0.84, \"bonus\": 1}, {\"id\": \"2ac73ca9c6464f60b1fdbbd3443fd39e\", \"name\": \"models\", \"timestamp\": null, \"first_name\": null, \"last_name\": null, \"student\": \"Janna Schweigmann_567261_\", \"score\": 32.0, \"max_score\": 38.0, \"code_score\": 32.0, \"max_code_score\": 38.0, \"written_score\": 0.0, \"max_written_score\": 0.0, \"task_score\": 0.0, \"max_task_score\": 0.0, \"needs_manual_grade\": false, \"display_timestamp\": null, \"autograded\": true, \"submitted\": true, \"student_name\": \"Janna Schweigmann\", \"student_matrikel\": \"567261\", \"drop\": \"\", \"percentage\": 0.84, \"bonus\": 1}, {\"id\": \"b1e2dfbe01f04e628d33a817d3798afd\", \"name\": \"models\", \"timestamp\": null, \"first_name\": null, \"last_name\": null, \"student\": \"Jonas Kielwein_567291_\", \"score\": 6.0, \"max_score\": 38.0, \"code_score\": 6.0, \"max_code_score\": 38.0, \"written_score\": 0.0, \"max_written_score\": 0.0, \"task_score\": 0.0, \"max_task_score\": 0.0, \"needs_manual_grade\": false, \"display_timestamp\": null, \"autograded\": true, \"submitted\": true, \"student_name\": \"Jonas Kielwein\", \"student_matrikel\": \"567291\", \"drop\": \"\", \"percentage\": 0.16, \"bonus\": 0}, {\"id\": \"39c34f9ae9fd4d8594a57ab250399479\", \"name\": \"models\", \"timestamp\": null, \"first_name\": null, \"last_name\": null, \"student\": \"Katharina Lange_567270_\", \"score\": 32.0, \"max_score\": 38.0, \"code_score\": 32.0, \"max_code_score\": 38.0, \"written_score\": 0.0, \"max_written_score\": 0.0, \"task_score\": 0.0, \"max_task_score\": 0.0, \"needs_manual_grade\": false, \"display_timestamp\": null, \"autograded\": true, \"submitted\": true, \"student_name\": \"Katharina Lange\", \"student_matrikel\": \"567270\", \"drop\": \"\", \"percentage\": 0.84, \"bonus\": 1}, {\"id\": \"9ed6db9a2f6f45d0b2593c23fe26d1ad\", \"name\": \"models\", \"timestamp\": null, \"first_name\": null, \"last_name\": null, \"student\": \"Katharina Stoll_567274_\", \"score\": 32.0, \"max_score\": 38.0, \"code_score\": 32.0, \"max_code_score\": 38.0, \"written_score\": 0.0, \"max_written_score\": 0.0, \"task_score\": 0.0, \"max_task_score\": 0.0, \"needs_manual_grade\": false, \"display_timestamp\": null, \"autograded\": true, \"submitted\": true, \"student_name\": \"Katharina Stoll\", \"student_matrikel\": \"567274\", \"drop\": \"\", \"percentage\": 0.84, \"bonus\": 1}, {\"id\": \"eb458dccac00442da36a53770ffb41f4\", \"name\": \"models\", \"timestamp\": null, \"first_name\": null, \"last_name\": null, \"student\": \"Kira Schr\\u00f6der_567296_\", \"score\": 32.0, \"max_score\": 38.0, \"code_score\": 32.0, \"max_code_score\": 38.0, \"written_score\": 0.0, \"max_written_score\": 0.0, \"task_score\": 0.0, \"max_task_score\": 0.0, \"needs_manual_grade\": false, \"display_timestamp\": null, \"autograded\": true, \"submitted\": true, \"student_name\": \"Kira Schr\\u00f6der\", \"student_matrikel\": \"567296\", \"drop\": \"\", \"percentage\": 0.84, \"bonus\": 1}, {\"id\": \"c54dd9aab40640618ebdf01323ba4994\", \"name\": \"models\", \"timestamp\": null, \"first_name\": null, \"last_name\": null, \"student\": \"Laura M\\u00f6\\u00dfner_567252_\", \"score\": 32.0, \"max_score\": 38.0, \"code_score\": 32.0, \"max_code_score\": 38.0, \"written_score\": 0.0, \"max_written_score\": 0.0, \"task_score\": 0.0, \"max_task_score\": 0.0, \"needs_manual_grade\": false, \"display_timestamp\": null, \"autograded\": true, \"submitted\": true, \"student_name\": \"Laura M\\u00f6\\u00dfner\", \"student_matrikel\": \"567252\", \"drop\": \"\", \"percentage\": 0.84, \"bonus\": 1}, {\"id\": \"abe645c4057b460d9f0d738d28e0d979\", \"name\": \"models\", \"timestamp\": null, \"first_name\": null, \"last_name\": null, \"student\": \"Lea Weiler_567287_\", \"score\": 32.0, \"max_score\": 38.0, \"code_score\": 32.0, \"max_code_score\": 38.0, \"written_score\": 0.0, \"max_written_score\": 0.0, \"task_score\": 0.0, \"max_task_score\": 0.0, \"needs_manual_grade\": false, \"display_timestamp\": null, \"autograded\": true, \"submitted\": true, \"student_name\": \"Lea Weiler\", \"student_matrikel\": \"567287\", \"drop\": \"\", \"percentage\": 0.84, \"bonus\": 1}, {\"id\": \"a0ff7d91a6644c4289acdf98ff08e3d9\", \"name\": \"models\", \"timestamp\": null, \"first_name\": null, \"last_name\": null, \"student\": \"Leane Fricke_567278_\", \"score\": 32.0, \"max_score\": 38.0, \"code_score\": 32.0, \"max_code_score\": 38.0, \"written_score\": 0.0, \"max_written_score\": 0.0, \"task_score\": 0.0, \"max_task_score\": 0.0, \"needs_manual_grade\": false, \"display_timestamp\": null, \"autograded\": true, \"submitted\": true, \"student_name\": \"Leane Fricke\", \"student_matrikel\": \"567278\", \"drop\": \"\", \"percentage\": 0.84, \"bonus\": 1}, {\"id\": \"c4633f68a57a4b248ce9e9c697dbf693\", \"name\": \"models\", \"timestamp\": null, \"first_name\": null, \"last_name\": null, \"student\": \"Leonie Marie M\\u00fcller_567254_\", \"score\": 32.0, \"max_score\": 38.0, \"code_score\": 32.0, \"max_code_score\": 38.0, \"written_score\": 0.0, \"max_written_score\": 0.0, \"task_score\": 0.0, \"max_task_score\": 0.0, \"needs_manual_grade\": false, \"display_timestamp\": null, \"autograded\": true, \"submitted\": true, \"student_name\": \"Leonie Marie M\\u00fcller\", \"student_matrikel\": \"567254\", \"drop\": \"\", \"percentage\": 0.84, \"bonus\": 1}, {\"id\": \"f3cc185987a7432db62387065c9aa9f4\", \"name\": \"models\", \"timestamp\": null, \"first_name\": null, \"last_name\": null, \"student\": \"Leonie Mink_567259_\", \"score\": 32.0, \"max_score\": 38.0, \"code_score\": 32.0, \"max_code_score\": 38.0, \"written_score\": 0.0, \"max_written_score\": 0.0, \"task_score\": 0.0, \"max_task_score\": 0.0, \"needs_manual_grade\": false, \"display_timestamp\": null, \"autograded\": true, \"submitted\": true, \"student_name\": \"Leonie Mink\", \"student_matrikel\": \"567259\", \"drop\": \"\", \"percentage\": 0.84, \"bonus\": 1}, {\"id\": \"142e3adb7bce4068a535bedb58920426\", \"name\": \"models\", \"timestamp\": null, \"first_name\": null, \"last_name\": null, \"student\": \"Liah Raimondo_567263_\", \"score\": 32.0, \"max_score\": 38.0, \"code_score\": 32.0, \"max_code_score\": 38.0, \"written_score\": 0.0, \"max_written_score\": 0.0, \"task_score\": 0.0, \"max_task_score\": 0.0, \"needs_manual_grade\": false, \"display_timestamp\": null, \"autograded\": true, \"submitted\": true, \"student_name\": \"Liah Raimondo\", \"student_matrikel\": \"567263\", \"drop\": \"\", \"percentage\": 0.84, \"bonus\": 1}, {\"id\": \"7983960d06ce4abfaee4f2795c00dfdb\", \"name\": \"models\", \"timestamp\": null, \"first_name\": null, \"last_name\": null, \"student\": \"Linus Adelmann_567294_\", \"score\": 32.0, \"max_score\": 38.0, \"code_score\": 32.0, \"max_code_score\": 38.0, \"written_score\": 0.0, \"max_written_score\": 0.0, \"task_score\": 0.0, \"max_task_score\": 0.0, \"needs_manual_grade\": false, \"display_timestamp\": null, \"autograded\": true, \"submitted\": true, \"student_name\": \"Linus Adelmann\", \"student_matrikel\": \"567294\", \"drop\": \"\", \"percentage\": 0.84, \"bonus\": 1}, {\"id\": \"d51419f5f4874872a97a9a67524725ca\", \"name\": \"models\", \"timestamp\": null, \"first_name\": null, \"last_name\": null, \"student\": \"Liv Bode_567258_\", \"score\": 32.0, \"max_score\": 38.0, \"code_score\": 32.0, \"max_code_score\": 38.0, \"written_score\": 0.0, \"max_written_score\": 0.0, \"task_score\": 0.0, \"max_task_score\": 0.0, \"needs_manual_grade\": false, \"display_timestamp\": null, \"autograded\": true, \"submitted\": true, \"student_name\": \"Liv Bode\", \"student_matrikel\": \"567258\", \"drop\": \"\", \"percentage\": 0.84, \"bonus\": 1}, {\"id\": \"91bc57ab64b34a069dee0a48da440468\", \"name\": \"models\", \"timestamp\": null, \"first_name\": null, \"last_name\": null, \"student\": \"Malin Thiel_567266_\", \"score\": 32.0, \"max_score\": 38.0, \"code_score\": 32.0, \"max_code_score\": 38.0, \"written_score\": 0.0, \"max_written_score\": 0.0, \"task_score\": 0.0, \"max_task_score\": 0.0, \"needs_manual_grade\": false, \"display_timestamp\": null, \"autograded\": true, \"submitted\": true, \"student_name\": \"Malin Thiel\", \"student_matrikel\": \"567266\", \"drop\": \"\", \"percentage\": 0.84, \"bonus\": 1}, {\"id\": \"9c28568f66214f459ff306ac58f4cc19\", \"name\": \"models\", \"timestamp\": null, \"first_name\": null, \"last_name\": null, \"student\": \"Marc Hunsicker_567264_\", \"score\": 30.0, \"max_score\": 38.0, \"code_score\": 30.0, \"max_code_score\": 38.0, \"written_score\": 0.0, \"max_written_score\": 0.0, \"task_score\": 0.0, \"max_task_score\": 0.0, \"needs_manual_grade\": true, \"display_timestamp\": null, \"autograded\": true, \"submitted\": true, \"student_name\": \"Marc Hunsicker\", \"student_matrikel\": \"567264\", \"drop\": \"\", \"percentage\": 0.79, \"bonus\": 1}, {\"id\": \"68f6f231a14a44bb920b1393f65fc5b5\", \"name\": \"models\", \"timestamp\": null, \"first_name\": null, \"last_name\": null, \"student\": \"Marius Pfarrkircher_567284_\", \"score\": 32.0, \"max_score\": 38.0, \"code_score\": 32.0, \"max_code_score\": 38.0, \"written_score\": 0.0, \"max_written_score\": 0.0, \"task_score\": 0.0, \"max_task_score\": 0.0, \"needs_manual_grade\": false, \"display_timestamp\": null, \"autograded\": true, \"submitted\": true, \"student_name\": \"Marius Pfarrkircher\", \"student_matrikel\": \"567284\", \"drop\": \"\", \"percentage\": 0.84, \"bonus\": 1}, {\"id\": \"1329a742edf44b989bc218d54690b882\", \"name\": \"models\", \"timestamp\": null, \"first_name\": null, \"last_name\": null, \"student\": \"Max Ihlenfeldt_567298_\", \"score\": 32.0, \"max_score\": 38.0, \"code_score\": 32.0, \"max_code_score\": 38.0, \"written_score\": 0.0, \"max_written_score\": 0.0, \"task_score\": 0.0, \"max_task_score\": 0.0, \"needs_manual_grade\": false, \"display_timestamp\": null, \"autograded\": true, \"submitted\": true, \"student_name\": \"Max Ihlenfeldt\", \"student_matrikel\": \"567298\", \"drop\": \"\", \"percentage\": 0.84, \"bonus\": 1}, {\"id\": \"26221d2ab2bc4656bcb70e13fd6a21a8\", \"name\": \"models\", \"timestamp\": null, \"first_name\": null, \"last_name\": null, \"student\": \"Nico Springer_567290_\", \"score\": 32.0, \"max_score\": 38.0, \"code_score\": 32.0, \"max_code_score\": 38.0, \"written_score\": 0.0, \"max_written_score\": 0.0, \"task_score\": 0.0, \"max_task_score\": 0.0, \"needs_manual_grade\": false, \"display_timestamp\": null, \"autograded\": true, \"submitted\": true, \"student_name\": \"Nico Springer\", \"student_matrikel\": \"567290\", \"drop\": \"\", \"percentage\": 0.84, \"bonus\": 1}, {\"id\": \"4ee21df9096c4790ac20bcf24396317b\", \"name\": \"models\", \"timestamp\": null, \"first_name\": null, \"last_name\": null, \"student\": \"Paul Horn_567249_\", \"score\": 32.0, \"max_score\": 38.0, \"code_score\": 32.0, \"max_code_score\": 38.0, \"written_score\": 0.0, \"max_written_score\": 0.0, \"task_score\": 0.0, \"max_task_score\": 0.0, \"needs_manual_grade\": false, \"display_timestamp\": null, \"autograded\": true, \"submitted\": true, \"student_name\": \"Paul Horn\", \"student_matrikel\": \"567249\", \"drop\": \"\", \"percentage\": 0.84, \"bonus\": 1}, {\"id\": \"96996e5ea4474d34afa323bf859389b9\", \"name\": \"models\", \"timestamp\": null, \"first_name\": null, \"last_name\": null, \"student\": \"Philipp M\\u00fcller_567300_\", \"score\": 32.0, \"max_score\": 38.0, \"code_score\": 32.0, \"max_code_score\": 38.0, \"written_score\": 0.0, \"max_written_score\": 0.0, \"task_score\": 0.0, \"max_task_score\": 0.0, \"needs_manual_grade\": false, \"display_timestamp\": null, \"autograded\": true, \"submitted\": true, \"student_name\": \"Philipp M\\u00fcller\", \"student_matrikel\": \"567300\", \"drop\": \"\", \"percentage\": 0.84, \"bonus\": 1}, {\"id\": \"c82587869b1d472fa5cb9bfc7b045197\", \"name\": \"models\", \"timestamp\": null, \"first_name\": null, \"last_name\": null, \"student\": \"Rubina Ike-Okeke_567268_\", \"score\": 32.0, \"max_score\": 38.0, \"code_score\": 32.0, \"max_code_score\": 38.0, \"written_score\": 0.0, \"max_written_score\": 0.0, \"task_score\": 0.0, \"max_task_score\": 0.0, \"needs_manual_grade\": false, \"display_timestamp\": null, \"autograded\": true, \"submitted\": true, \"student_name\": \"Rubina Ike-Okeke\", \"student_matrikel\": \"567268\", \"drop\": \"\", \"percentage\": 0.84, \"bonus\": 1}, {\"id\": \"0657a5c3b91d4c67a5696f1d10d0c6b2\", \"name\": \"models\", \"timestamp\": null, \"first_name\": null, \"last_name\": null, \"student\": \"Simon Haecker_567299_\", \"score\": 32.0, \"max_score\": 38.0, \"code_score\": 32.0, \"max_code_score\": 38.0, \"written_score\": 0.0, \"max_written_score\": 0.0, \"task_score\": 0.0, \"max_task_score\": 0.0, \"needs_manual_grade\": false, \"display_timestamp\": null, \"autograded\": true, \"submitted\": true, \"student_name\": \"Simon Haecker\", \"student_matrikel\": \"567299\", \"drop\": \"\", \"percentage\": 0.84, \"bonus\": 1}, {\"id\": \"45f4399ef3f24033a7aa4ad2ea216d86\", \"name\": \"models\", \"timestamp\": null, \"first_name\": null, \"last_name\": null, \"student\": \"Tim Dudek_567277_\", \"score\": 32.0, \"max_score\": 38.0, \"code_score\": 32.0, \"max_code_score\": 38.0, \"written_score\": 0.0, \"max_written_score\": 0.0, \"task_score\": 0.0, \"max_task_score\": 0.0, \"needs_manual_grade\": false, \"display_timestamp\": null, \"autograded\": true, \"submitted\": true, \"student_name\": \"Tim Dudek\", \"student_matrikel\": \"567277\", \"drop\": \"\", \"percentage\": 0.84, \"bonus\": 1}, {\"id\": \"4f1597bb375745d8a65807252178a7f9\", \"name\": \"models\", \"timestamp\": null, \"first_name\": null, \"last_name\": null, \"student\": \"Tim Starz_567288_\", \"score\": 32.0, \"max_score\": 38.0, \"code_score\": 32.0, \"max_code_score\": 38.0, \"written_score\": 0.0, \"max_written_score\": 0.0, \"task_score\": 0.0, \"max_task_score\": 0.0, \"needs_manual_grade\": false, \"display_timestamp\": null, \"autograded\": true, \"submitted\": true, \"student_name\": \"Tim Starz\", \"student_matrikel\": \"567288\", \"drop\": \"\", \"percentage\": 0.84, \"bonus\": 1}, {\"id\": \"400e564d2cfd418296adb4ae910cfd86\", \"name\": \"models\", \"timestamp\": null, \"first_name\": null, \"last_name\": null, \"student\": \"Yelda Yazici_567281_\", \"score\": 32.0, \"max_score\": 38.0, \"code_score\": 32.0, \"max_code_score\": 38.0, \"written_score\": 0.0, \"max_written_score\": 0.0, \"task_score\": 0.0, \"max_task_score\": 0.0, \"needs_manual_grade\": false, \"display_timestamp\": null, \"autograded\": true, \"submitted\": true, \"student_name\": \"Yelda Yazici\", \"student_matrikel\": \"567281\", \"drop\": \"\", \"percentage\": 0.84, \"bonus\": 1}, {\"id\": \"70c757ca96f149f5b0e5a8511ebe96ac\", \"name\": \"models\", \"timestamp\": null, \"first_name\": null, \"last_name\": null, \"student\": \"Yunus Yazici_567295_\", \"score\": 32.0, \"max_score\": 38.0, \"code_score\": 32.0, \"max_code_score\": 38.0, \"written_score\": 0.0, \"max_written_score\": 0.0, \"task_score\": 0.0, \"max_task_score\": 0.0, \"needs_manual_grade\": false, \"display_timestamp\": null, \"autograded\": true, \"submitted\": true, \"student_name\": \"Yunus Yazici\", \"student_matrikel\": \"567295\", \"drop\": \"\", \"percentage\": 0.84, \"bonus\": 1}, {\"id\": \"a05154484ce24db7bf839c7c53cadba3\", \"name\": \"models\", \"timestamp\": null, \"first_name\": null, \"last_name\": null, \"student\": \"schultz_carl\", \"score\": 32.0, \"max_score\": 38.0, \"code_score\": 32.0, \"max_code_score\": 38.0, \"written_score\": 0.0, \"max_written_score\": 0.0, \"task_score\": 0.0, \"max_task_score\": 0.0, \"needs_manual_grade\": false, \"display_timestamp\": null, \"autograded\": true, \"submitted\": true, \"student_name\": \"schultz\", \"student_matrikel\": \"carl\", \"drop\": null, \"percentage\": 0.84, \"bonus\": 1}]}}, {\"mode\": \"vega-lite\"});\n",
       "</script>"
      ],
      "text/plain": [
       "alt.Chart(...)"
      ]
     },
     "execution_count": 27,
     "metadata": {},
     "output_type": "execute_result"
    }
   ],
   "source": [
    "alt.Chart(df).mark_bar().encode(\n",
    "    x=alt.X('score', bin=True),\n",
    "    y=alt.Y('count()')\n",
    ")"
   ]
  },
  {
   "cell_type": "code",
   "execution_count": 29,
   "metadata": {},
   "outputs": [],
   "source": [
    "# select variables\n",
    "df[list].to_csv('bonus.csv')"
   ]
  }
 ],
 "metadata": {
  "kernelspec": {
   "display_name": "nb",
   "language": "python",
   "name": "python3"
  },
  "language_info": {
   "codemirror_mode": {
    "name": "ipython",
    "version": 3
   },
   "file_extension": ".py",
   "mimetype": "text/x-python",
   "name": "python",
   "nbconvert_exporter": "python",
   "pygments_lexer": "ipython3",
   "version": "3.9.13 | packaged by conda-forge | (main, May 27 2022, 17:00:52) \n[Clang 13.0.1 ]"
  },
  "orig_nbformat": 4,
  "vscode": {
   "interpreter": {
    "hash": "efbbb30a9cdc9461415407cb6fbf9315af7b4aabf1d5ce52ec43649a854204b4"
   }
  }
 },
 "nbformat": 4,
 "nbformat_minor": 2
}
