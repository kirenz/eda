{
 "cells": [
  {
   "cell_type": "markdown",
   "id": "ced080aa",
   "metadata": {},
   "source": [
    "# Online ads"
   ]
  },
  {
   "cell_type": "markdown",
   "id": "de7bdb10",
   "metadata": {},
   "source": [
    "In this problem set we analyse the relationship between online ads and purchase behavior. In particular, we want to classify which online users are likely to purchase a certain product after being exposed to an online ad.  "
   ]
  },
  {
   "cell_type": "markdown",
   "id": "c33141b9",
   "metadata": {},
   "source": [
    "## Setup"
   ]
  },
  {
   "cell_type": "code",
   "execution_count": 114,
   "id": "4dd7bc1c",
   "metadata": {},
   "outputs": [],
   "source": [
    "import pandas as pd\n",
    "\n",
    "import altair as alt\n",
    "import seaborn as sns\n",
    "\n",
    "from sklearn.model_selection import train_test_split\n",
    "from sklearn.linear_model import LogisticRegressionCV"
   ]
  },
  {
   "cell_type": "markdown",
   "id": "471c6991",
   "metadata": {},
   "source": [
    "## Data"
   ]
  },
  {
   "cell_type": "markdown",
   "id": "6ba3fc30",
   "metadata": {},
   "source": [
    "\n",
    "### Import data "
   ]
  },
  {
   "cell_type": "code",
   "execution_count": 90,
   "id": "ecd6e615",
   "metadata": {
    "message": false,
    "warning": false
   },
   "outputs": [],
   "source": [
    "df = pd.read_csv(\"https://raw.githubusercontent.com/kirenz/datasets/master/purchase.csv\")"
   ]
  },
  {
   "cell_type": "markdown",
   "id": "2ab73934",
   "metadata": {},
   "source": [
    "### Data structure"
   ]
  },
  {
   "cell_type": "code",
   "execution_count": 91,
   "id": "56f38d74",
   "metadata": {},
   "outputs": [
    {
     "data": {
      "text/html": [
       "<div>\n",
       "<style scoped>\n",
       "    .dataframe tbody tr th:only-of-type {\n",
       "        vertical-align: middle;\n",
       "    }\n",
       "\n",
       "    .dataframe tbody tr th {\n",
       "        vertical-align: top;\n",
       "    }\n",
       "\n",
       "    .dataframe thead th {\n",
       "        text-align: right;\n",
       "    }\n",
       "</style>\n",
       "<table border=\"1\" class=\"dataframe\">\n",
       "  <thead>\n",
       "    <tr style=\"text-align: right;\">\n",
       "      <th></th>\n",
       "      <th>Unnamed: 0</th>\n",
       "      <th>User ID</th>\n",
       "      <th>Gender</th>\n",
       "      <th>Age</th>\n",
       "      <th>EstimatedSalary</th>\n",
       "      <th>Purchased</th>\n",
       "    </tr>\n",
       "  </thead>\n",
       "  <tbody>\n",
       "    <tr>\n",
       "      <th>0</th>\n",
       "      <td>1</td>\n",
       "      <td>15624510</td>\n",
       "      <td>Male</td>\n",
       "      <td>19</td>\n",
       "      <td>19000</td>\n",
       "      <td>0</td>\n",
       "    </tr>\n",
       "    <tr>\n",
       "      <th>1</th>\n",
       "      <td>2</td>\n",
       "      <td>15810944</td>\n",
       "      <td>Male</td>\n",
       "      <td>35</td>\n",
       "      <td>20000</td>\n",
       "      <td>0</td>\n",
       "    </tr>\n",
       "    <tr>\n",
       "      <th>2</th>\n",
       "      <td>3</td>\n",
       "      <td>15668575</td>\n",
       "      <td>Female</td>\n",
       "      <td>26</td>\n",
       "      <td>43000</td>\n",
       "      <td>0</td>\n",
       "    </tr>\n",
       "    <tr>\n",
       "      <th>3</th>\n",
       "      <td>4</td>\n",
       "      <td>15603246</td>\n",
       "      <td>Female</td>\n",
       "      <td>27</td>\n",
       "      <td>57000</td>\n",
       "      <td>0</td>\n",
       "    </tr>\n",
       "    <tr>\n",
       "      <th>4</th>\n",
       "      <td>5</td>\n",
       "      <td>15804002</td>\n",
       "      <td>Male</td>\n",
       "      <td>19</td>\n",
       "      <td>76000</td>\n",
       "      <td>0</td>\n",
       "    </tr>\n",
       "    <tr>\n",
       "      <th>...</th>\n",
       "      <td>...</td>\n",
       "      <td>...</td>\n",
       "      <td>...</td>\n",
       "      <td>...</td>\n",
       "      <td>...</td>\n",
       "      <td>...</td>\n",
       "    </tr>\n",
       "    <tr>\n",
       "      <th>395</th>\n",
       "      <td>396</td>\n",
       "      <td>15691863</td>\n",
       "      <td>Female</td>\n",
       "      <td>46</td>\n",
       "      <td>41000</td>\n",
       "      <td>1</td>\n",
       "    </tr>\n",
       "    <tr>\n",
       "      <th>396</th>\n",
       "      <td>397</td>\n",
       "      <td>15706071</td>\n",
       "      <td>Male</td>\n",
       "      <td>51</td>\n",
       "      <td>23000</td>\n",
       "      <td>1</td>\n",
       "    </tr>\n",
       "    <tr>\n",
       "      <th>397</th>\n",
       "      <td>398</td>\n",
       "      <td>15654296</td>\n",
       "      <td>Female</td>\n",
       "      <td>50</td>\n",
       "      <td>20000</td>\n",
       "      <td>1</td>\n",
       "    </tr>\n",
       "    <tr>\n",
       "      <th>398</th>\n",
       "      <td>399</td>\n",
       "      <td>15755018</td>\n",
       "      <td>Male</td>\n",
       "      <td>36</td>\n",
       "      <td>33000</td>\n",
       "      <td>0</td>\n",
       "    </tr>\n",
       "    <tr>\n",
       "      <th>399</th>\n",
       "      <td>400</td>\n",
       "      <td>15594041</td>\n",
       "      <td>Female</td>\n",
       "      <td>49</td>\n",
       "      <td>36000</td>\n",
       "      <td>1</td>\n",
       "    </tr>\n",
       "  </tbody>\n",
       "</table>\n",
       "<p>400 rows × 6 columns</p>\n",
       "</div>"
      ],
      "text/plain": [
       "     Unnamed: 0   User ID  Gender  Age  EstimatedSalary  Purchased\n",
       "0             1  15624510    Male   19            19000          0\n",
       "1             2  15810944    Male   35            20000          0\n",
       "2             3  15668575  Female   26            43000          0\n",
       "3             4  15603246  Female   27            57000          0\n",
       "4             5  15804002    Male   19            76000          0\n",
       "..          ...       ...     ...  ...              ...        ...\n",
       "395         396  15691863  Female   46            41000          1\n",
       "396         397  15706071    Male   51            23000          1\n",
       "397         398  15654296  Female   50            20000          1\n",
       "398         399  15755018    Male   36            33000          0\n",
       "399         400  15594041  Female   49            36000          1\n",
       "\n",
       "[400 rows x 6 columns]"
      ]
     },
     "execution_count": 91,
     "metadata": {},
     "output_type": "execute_result"
    }
   ],
   "source": [
    "df"
   ]
  },
  {
   "cell_type": "code",
   "execution_count": 92,
   "id": "2b1957ef",
   "metadata": {},
   "outputs": [
    {
     "name": "stdout",
     "output_type": "stream",
     "text": [
      "<class 'pandas.core.frame.DataFrame'>\n",
      "RangeIndex: 400 entries, 0 to 399\n",
      "Data columns (total 6 columns):\n",
      " #   Column           Non-Null Count  Dtype \n",
      "---  ------           --------------  ----- \n",
      " 0   Unnamed: 0       400 non-null    int64 \n",
      " 1   User ID          400 non-null    int64 \n",
      " 2   Gender           400 non-null    object\n",
      " 3   Age              400 non-null    int64 \n",
      " 4   EstimatedSalary  400 non-null    int64 \n",
      " 5   Purchased        400 non-null    int64 \n",
      "dtypes: int64(5), object(1)\n",
      "memory usage: 18.9+ KB\n"
     ]
    }
   ],
   "source": [
    "df.info()"
   ]
  },
  {
   "cell_type": "code",
   "execution_count": 93,
   "id": "a7ab4992",
   "metadata": {},
   "outputs": [
    {
     "data": {
      "text/plain": [
       "0    257\n",
       "1    143\n",
       "Name: Purchased, dtype: int64"
      ]
     },
     "execution_count": 93,
     "metadata": {},
     "output_type": "execute_result"
    }
   ],
   "source": [
    "# inspect outcome variable\n",
    "df['Purchased'].value_counts()"
   ]
  },
  {
   "cell_type": "markdown",
   "id": "5ac14f91",
   "metadata": {},
   "source": [
    "### Data corrections"
   ]
  },
  {
   "cell_type": "code",
   "execution_count": 94,
   "id": "efc7358f",
   "metadata": {},
   "outputs": [],
   "source": [
    "# change data format\n",
    "df['Purchased'] = df['Purchased'].astype('category')\n",
    "\n",
    "# make dummy variable\n",
    "df['male'] = pd.get_dummies(df['Gender'], drop_first = True)\n",
    "\n",
    "# drop irrelevant columns\n",
    "df.drop(columns= ['Unnamed: 0', 'User ID', 'Gender'], inplace = True)"
   ]
  },
  {
   "cell_type": "markdown",
   "id": "496cebd8",
   "metadata": {},
   "source": [
    "### Variable lists"
   ]
  },
  {
   "cell_type": "code",
   "execution_count": 95,
   "id": "59065788",
   "metadata": {},
   "outputs": [],
   "source": [
    "# prepare data for scikit learn \n",
    "y_label = 'Purchased'\n",
    "\n",
    "X = df.drop(columns=[y_label])\n",
    "y = df[y_label]"
   ]
  },
  {
   "cell_type": "markdown",
   "id": "5e48e5cf",
   "metadata": {},
   "source": [
    "### Data split"
   ]
  },
  {
   "cell_type": "code",
   "execution_count": 96,
   "id": "ea77a7a2",
   "metadata": {},
   "outputs": [],
   "source": [
    "# make data split\n",
    "X_train, X_test, y_train, y_test = train_test_split(X, y, test_size=0.3, random_state = 1)"
   ]
  },
  {
   "cell_type": "markdown",
   "id": "e8be5fd9",
   "metadata": {},
   "source": [
    "### Data exploration set"
   ]
  },
  {
   "cell_type": "code",
   "execution_count": 97,
   "id": "ef2a565d",
   "metadata": {},
   "outputs": [
    {
     "data": {
      "text/html": [
       "<div>\n",
       "<style scoped>\n",
       "    .dataframe tbody tr th:only-of-type {\n",
       "        vertical-align: middle;\n",
       "    }\n",
       "\n",
       "    .dataframe tbody tr th {\n",
       "        vertical-align: top;\n",
       "    }\n",
       "\n",
       "    .dataframe thead th {\n",
       "        text-align: right;\n",
       "    }\n",
       "</style>\n",
       "<table border=\"1\" class=\"dataframe\">\n",
       "  <thead>\n",
       "    <tr style=\"text-align: right;\">\n",
       "      <th></th>\n",
       "      <th>Age</th>\n",
       "      <th>EstimatedSalary</th>\n",
       "      <th>male</th>\n",
       "      <th>Purchased</th>\n",
       "    </tr>\n",
       "  </thead>\n",
       "  <tbody>\n",
       "    <tr>\n",
       "      <th>39</th>\n",
       "      <td>27</td>\n",
       "      <td>31000</td>\n",
       "      <td>0</td>\n",
       "      <td>0</td>\n",
       "    </tr>\n",
       "    <tr>\n",
       "      <th>167</th>\n",
       "      <td>35</td>\n",
       "      <td>71000</td>\n",
       "      <td>0</td>\n",
       "      <td>0</td>\n",
       "    </tr>\n",
       "    <tr>\n",
       "      <th>383</th>\n",
       "      <td>49</td>\n",
       "      <td>28000</td>\n",
       "      <td>1</td>\n",
       "      <td>1</td>\n",
       "    </tr>\n",
       "    <tr>\n",
       "      <th>221</th>\n",
       "      <td>35</td>\n",
       "      <td>91000</td>\n",
       "      <td>1</td>\n",
       "      <td>1</td>\n",
       "    </tr>\n",
       "    <tr>\n",
       "      <th>351</th>\n",
       "      <td>37</td>\n",
       "      <td>75000</td>\n",
       "      <td>1</td>\n",
       "      <td>0</td>\n",
       "    </tr>\n",
       "    <tr>\n",
       "      <th>...</th>\n",
       "      <td>...</td>\n",
       "      <td>...</td>\n",
       "      <td>...</td>\n",
       "      <td>...</td>\n",
       "    </tr>\n",
       "    <tr>\n",
       "      <th>255</th>\n",
       "      <td>52</td>\n",
       "      <td>90000</td>\n",
       "      <td>0</td>\n",
       "      <td>1</td>\n",
       "    </tr>\n",
       "    <tr>\n",
       "      <th>72</th>\n",
       "      <td>20</td>\n",
       "      <td>23000</td>\n",
       "      <td>0</td>\n",
       "      <td>0</td>\n",
       "    </tr>\n",
       "    <tr>\n",
       "      <th>396</th>\n",
       "      <td>51</td>\n",
       "      <td>23000</td>\n",
       "      <td>1</td>\n",
       "      <td>1</td>\n",
       "    </tr>\n",
       "    <tr>\n",
       "      <th>235</th>\n",
       "      <td>46</td>\n",
       "      <td>79000</td>\n",
       "      <td>1</td>\n",
       "      <td>1</td>\n",
       "    </tr>\n",
       "    <tr>\n",
       "      <th>37</th>\n",
       "      <td>30</td>\n",
       "      <td>49000</td>\n",
       "      <td>1</td>\n",
       "      <td>0</td>\n",
       "    </tr>\n",
       "  </tbody>\n",
       "</table>\n",
       "<p>280 rows × 4 columns</p>\n",
       "</div>"
      ],
      "text/plain": [
       "     Age  EstimatedSalary  male  Purchased\n",
       "39    27            31000     0          0\n",
       "167   35            71000     0          0\n",
       "383   49            28000     1          1\n",
       "221   35            91000     1          1\n",
       "351   37            75000     1          0\n",
       "..   ...              ...   ...        ...\n",
       "255   52            90000     0          1\n",
       "72    20            23000     0          0\n",
       "396   51            23000     1          1\n",
       "235   46            79000     1          1\n",
       "37    30            49000     1          0\n",
       "\n",
       "[280 rows x 4 columns]"
      ]
     },
     "execution_count": 97,
     "metadata": {},
     "output_type": "execute_result"
    }
   ],
   "source": [
    "# create new training dataset for data exploration\n",
    "df_train = pd.DataFrame(X_train).copy()\n",
    "df_train['Purchased'] = pd.DataFrame(y_train)\n",
    "\n",
    "df_train"
   ]
  },
  {
   "cell_type": "markdown",
   "id": "87829896",
   "metadata": {},
   "source": [
    "## Analyze data"
   ]
  },
  {
   "cell_type": "code",
   "execution_count": 98,
   "id": "f75c0697",
   "metadata": {
    "name": "Descriptive Statistics"
   },
   "outputs": [
    {
     "data": {
      "text/html": [
       "<div>\n",
       "<style scoped>\n",
       "    .dataframe tbody tr th:only-of-type {\n",
       "        vertical-align: middle;\n",
       "    }\n",
       "\n",
       "    .dataframe tbody tr th {\n",
       "        vertical-align: top;\n",
       "    }\n",
       "\n",
       "    .dataframe thead th {\n",
       "        text-align: right;\n",
       "    }\n",
       "</style>\n",
       "<table border=\"1\" class=\"dataframe\">\n",
       "  <thead>\n",
       "    <tr style=\"text-align: right;\">\n",
       "      <th></th>\n",
       "      <th>Purchased</th>\n",
       "      <th>0</th>\n",
       "      <th>1</th>\n",
       "    </tr>\n",
       "  </thead>\n",
       "  <tbody>\n",
       "    <tr>\n",
       "      <th rowspan=\"8\" valign=\"top\">Age</th>\n",
       "      <th>count</th>\n",
       "      <td>185.000000</td>\n",
       "      <td>95.000000</td>\n",
       "    </tr>\n",
       "    <tr>\n",
       "      <th>mean</th>\n",
       "      <td>32.621622</td>\n",
       "      <td>45.821053</td>\n",
       "    </tr>\n",
       "    <tr>\n",
       "      <th>std</th>\n",
       "      <td>7.957603</td>\n",
       "      <td>8.756735</td>\n",
       "    </tr>\n",
       "    <tr>\n",
       "      <th>min</th>\n",
       "      <td>18.000000</td>\n",
       "      <td>27.000000</td>\n",
       "    </tr>\n",
       "    <tr>\n",
       "      <th>25%</th>\n",
       "      <td>27.000000</td>\n",
       "      <td>39.000000</td>\n",
       "    </tr>\n",
       "    <tr>\n",
       "      <th>50%</th>\n",
       "      <td>33.000000</td>\n",
       "      <td>47.000000</td>\n",
       "    </tr>\n",
       "    <tr>\n",
       "      <th>75%</th>\n",
       "      <td>38.000000</td>\n",
       "      <td>52.500000</td>\n",
       "    </tr>\n",
       "    <tr>\n",
       "      <th>max</th>\n",
       "      <td>59.000000</td>\n",
       "      <td>60.000000</td>\n",
       "    </tr>\n",
       "    <tr>\n",
       "      <th rowspan=\"8\" valign=\"top\">EstimatedSalary</th>\n",
       "      <th>count</th>\n",
       "      <td>185.000000</td>\n",
       "      <td>95.000000</td>\n",
       "    </tr>\n",
       "    <tr>\n",
       "      <th>mean</th>\n",
       "      <td>58556.756757</td>\n",
       "      <td>89505.263158</td>\n",
       "    </tr>\n",
       "    <tr>\n",
       "      <th>std</th>\n",
       "      <td>22429.073482</td>\n",
       "      <td>43284.038059</td>\n",
       "    </tr>\n",
       "    <tr>\n",
       "      <th>min</th>\n",
       "      <td>15000.000000</td>\n",
       "      <td>20000.000000</td>\n",
       "    </tr>\n",
       "    <tr>\n",
       "      <th>25%</th>\n",
       "      <td>43000.000000</td>\n",
       "      <td>43500.000000</td>\n",
       "    </tr>\n",
       "    <tr>\n",
       "      <th>50%</th>\n",
       "      <td>60000.000000</td>\n",
       "      <td>97000.000000</td>\n",
       "    </tr>\n",
       "    <tr>\n",
       "      <th>75%</th>\n",
       "      <td>75000.000000</td>\n",
       "      <td>130000.000000</td>\n",
       "    </tr>\n",
       "    <tr>\n",
       "      <th>max</th>\n",
       "      <td>134000.000000</td>\n",
       "      <td>150000.000000</td>\n",
       "    </tr>\n",
       "    <tr>\n",
       "      <th rowspan=\"8\" valign=\"top\">male</th>\n",
       "      <th>count</th>\n",
       "      <td>185.000000</td>\n",
       "      <td>95.000000</td>\n",
       "    </tr>\n",
       "    <tr>\n",
       "      <th>mean</th>\n",
       "      <td>0.518919</td>\n",
       "      <td>0.452632</td>\n",
       "    </tr>\n",
       "    <tr>\n",
       "      <th>std</th>\n",
       "      <td>0.500998</td>\n",
       "      <td>0.500392</td>\n",
       "    </tr>\n",
       "    <tr>\n",
       "      <th>min</th>\n",
       "      <td>0.000000</td>\n",
       "      <td>0.000000</td>\n",
       "    </tr>\n",
       "    <tr>\n",
       "      <th>25%</th>\n",
       "      <td>0.000000</td>\n",
       "      <td>0.000000</td>\n",
       "    </tr>\n",
       "    <tr>\n",
       "      <th>50%</th>\n",
       "      <td>1.000000</td>\n",
       "      <td>0.000000</td>\n",
       "    </tr>\n",
       "    <tr>\n",
       "      <th>75%</th>\n",
       "      <td>1.000000</td>\n",
       "      <td>1.000000</td>\n",
       "    </tr>\n",
       "    <tr>\n",
       "      <th>max</th>\n",
       "      <td>1.000000</td>\n",
       "      <td>1.000000</td>\n",
       "    </tr>\n",
       "  </tbody>\n",
       "</table>\n",
       "</div>"
      ],
      "text/plain": [
       "Purchased                          0              1\n",
       "Age             count     185.000000      95.000000\n",
       "                mean       32.621622      45.821053\n",
       "                std         7.957603       8.756735\n",
       "                min        18.000000      27.000000\n",
       "                25%        27.000000      39.000000\n",
       "                50%        33.000000      47.000000\n",
       "                75%        38.000000      52.500000\n",
       "                max        59.000000      60.000000\n",
       "EstimatedSalary count     185.000000      95.000000\n",
       "                mean    58556.756757   89505.263158\n",
       "                std     22429.073482   43284.038059\n",
       "                min     15000.000000   20000.000000\n",
       "                25%     43000.000000   43500.000000\n",
       "                50%     60000.000000   97000.000000\n",
       "                75%     75000.000000  130000.000000\n",
       "                max    134000.000000  150000.000000\n",
       "male            count     185.000000      95.000000\n",
       "                mean        0.518919       0.452632\n",
       "                std         0.500998       0.500392\n",
       "                min         0.000000       0.000000\n",
       "                25%         0.000000       0.000000\n",
       "                50%         1.000000       0.000000\n",
       "                75%         1.000000       1.000000\n",
       "                max         1.000000       1.000000"
      ]
     },
     "execution_count": 98,
     "metadata": {},
     "output_type": "execute_result"
    }
   ],
   "source": [
    "df_train.groupby(by=['Purchased']).describe().T"
   ]
  },
  {
   "cell_type": "markdown",
   "id": "b46cc31c",
   "metadata": {},
   "source": [
    "Purchasers are (on average) _______ and earn a __________ estimated salary than non-purchasers. \n",
    "\n",
    "Visualization of differences:"
   ]
  },
  {
   "cell_type": "code",
   "execution_count": 99,
   "id": "47437b84",
   "metadata": {},
   "outputs": [
    {
     "data": {
      "text/html": [
       "\n",
       "<div id=\"altair-viz-280dee90f3714f71b786cf889e84ed09\"></div>\n",
       "<script type=\"text/javascript\">\n",
       "  var VEGA_DEBUG = (typeof VEGA_DEBUG == \"undefined\") ? {} : VEGA_DEBUG;\n",
       "  (function(spec, embedOpt){\n",
       "    let outputDiv = document.currentScript.previousElementSibling;\n",
       "    if (outputDiv.id !== \"altair-viz-280dee90f3714f71b786cf889e84ed09\") {\n",
       "      outputDiv = document.getElementById(\"altair-viz-280dee90f3714f71b786cf889e84ed09\");\n",
       "    }\n",
       "    const paths = {\n",
       "      \"vega\": \"https://cdn.jsdelivr.net/npm//vega@5?noext\",\n",
       "      \"vega-lib\": \"https://cdn.jsdelivr.net/npm//vega-lib?noext\",\n",
       "      \"vega-lite\": \"https://cdn.jsdelivr.net/npm//vega-lite@4.17.0?noext\",\n",
       "      \"vega-embed\": \"https://cdn.jsdelivr.net/npm//vega-embed@6?noext\",\n",
       "    };\n",
       "\n",
       "    function maybeLoadScript(lib, version) {\n",
       "      var key = `${lib.replace(\"-\", \"\")}_version`;\n",
       "      return (VEGA_DEBUG[key] == version) ?\n",
       "        Promise.resolve(paths[lib]) :\n",
       "        new Promise(function(resolve, reject) {\n",
       "          var s = document.createElement('script');\n",
       "          document.getElementsByTagName(\"head\")[0].appendChild(s);\n",
       "          s.async = true;\n",
       "          s.onload = () => {\n",
       "            VEGA_DEBUG[key] = version;\n",
       "            return resolve(paths[lib]);\n",
       "          };\n",
       "          s.onerror = () => reject(`Error loading script: ${paths[lib]}`);\n",
       "          s.src = paths[lib];\n",
       "        });\n",
       "    }\n",
       "\n",
       "    function showError(err) {\n",
       "      outputDiv.innerHTML = `<div class=\"error\" style=\"color:red;\">${err}</div>`;\n",
       "      throw err;\n",
       "    }\n",
       "\n",
       "    function displayChart(vegaEmbed) {\n",
       "      vegaEmbed(outputDiv, spec, embedOpt)\n",
       "        .catch(err => showError(`Javascript Error: ${err.message}<br>This usually means there's a typo in your chart specification. See the javascript console for the full traceback.`));\n",
       "    }\n",
       "\n",
       "    if(typeof define === \"function\" && define.amd) {\n",
       "      requirejs.config({paths});\n",
       "      require([\"vega-embed\"], displayChart, err => showError(`Error loading script: ${err.message}`));\n",
       "    } else {\n",
       "      maybeLoadScript(\"vega\", \"5\")\n",
       "        .then(() => maybeLoadScript(\"vega-lite\", \"4.17.0\"))\n",
       "        .then(() => maybeLoadScript(\"vega-embed\", \"6\"))\n",
       "        .catch(showError)\n",
       "        .then(() => displayChart(vegaEmbed));\n",
       "    }\n",
       "  })({\"config\": {\"view\": {\"continuousWidth\": 400, \"continuousHeight\": 300}}, \"repeat\": {\"column\": [\"Age\", \"EstimatedSalary\", \"male\"], \"row\": [\"Age\", \"EstimatedSalary\", \"male\"]}, \"spec\": {\"data\": {\"name\": \"data-c8e5ce5ac5fe444e8ce0603795e89468\"}, \"mark\": \"circle\", \"encoding\": {\"color\": {\"field\": \"Purchased\", \"type\": \"nominal\"}, \"x\": {\"field\": {\"repeat\": \"column\"}, \"type\": \"quantitative\"}, \"y\": {\"field\": {\"repeat\": \"row\"}, \"type\": \"quantitative\"}}, \"height\": 150, \"selection\": {\"selector009\": {\"type\": \"interval\", \"bind\": \"scales\", \"encodings\": [\"x\", \"y\"]}}, \"width\": 150}, \"$schema\": \"https://vega.github.io/schema/vega-lite/v4.17.0.json\", \"datasets\": {\"data-c8e5ce5ac5fe444e8ce0603795e89468\": [{\"Age\": 27, \"EstimatedSalary\": 31000, \"male\": 0, \"Purchased\": 0}, {\"Age\": 35, \"EstimatedSalary\": 71000, \"male\": 0, \"Purchased\": 0}, {\"Age\": 49, \"EstimatedSalary\": 28000, \"male\": 1, \"Purchased\": 1}, {\"Age\": 35, \"EstimatedSalary\": 91000, \"male\": 1, \"Purchased\": 1}, {\"Age\": 37, \"EstimatedSalary\": 75000, \"male\": 1, \"Purchased\": 0}, {\"Age\": 32, \"EstimatedSalary\": 117000, \"male\": 0, \"Purchased\": 0}, {\"Age\": 36, \"EstimatedSalary\": 75000, \"male\": 0, \"Purchased\": 0}, {\"Age\": 20, \"EstimatedSalary\": 86000, \"male\": 1, \"Purchased\": 0}, {\"Age\": 38, \"EstimatedSalary\": 50000, \"male\": 0, \"Purchased\": 0}, {\"Age\": 49, \"EstimatedSalary\": 36000, \"male\": 0, \"Purchased\": 1}, {\"Age\": 40, \"EstimatedSalary\": 65000, \"male\": 1, \"Purchased\": 0}, {\"Age\": 37, \"EstimatedSalary\": 77000, \"male\": 1, \"Purchased\": 0}, {\"Age\": 60, \"EstimatedSalary\": 46000, \"male\": 0, \"Purchased\": 1}, {\"Age\": 48, \"EstimatedSalary\": 138000, \"male\": 0, \"Purchased\": 1}, {\"Age\": 40, \"EstimatedSalary\": 71000, \"male\": 1, \"Purchased\": 1}, {\"Age\": 36, \"EstimatedSalary\": 63000, \"male\": 0, \"Purchased\": 0}, {\"Age\": 26, \"EstimatedSalary\": 81000, \"male\": 1, \"Purchased\": 0}, {\"Age\": 33, \"EstimatedSalary\": 31000, \"male\": 1, \"Purchased\": 0}, {\"Age\": 41, \"EstimatedSalary\": 51000, \"male\": 0, \"Purchased\": 0}, {\"Age\": 46, \"EstimatedSalary\": 74000, \"male\": 0, \"Purchased\": 0}, {\"Age\": 18, \"EstimatedSalary\": 82000, \"male\": 1, \"Purchased\": 0}, {\"Age\": 37, \"EstimatedSalary\": 33000, \"male\": 0, \"Purchased\": 0}, {\"Age\": 35, \"EstimatedSalary\": 53000, \"male\": 1, \"Purchased\": 0}, {\"Age\": 28, \"EstimatedSalary\": 59000, \"male\": 0, \"Purchased\": 0}, {\"Age\": 37, \"EstimatedSalary\": 71000, \"male\": 0, \"Purchased\": 0}, {\"Age\": 18, \"EstimatedSalary\": 44000, \"male\": 0, \"Purchased\": 0}, {\"Age\": 38, \"EstimatedSalary\": 61000, \"male\": 1, \"Purchased\": 0}, {\"Age\": 35, \"EstimatedSalary\": 65000, \"male\": 0, \"Purchased\": 0}, {\"Age\": 31, \"EstimatedSalary\": 66000, \"male\": 1, \"Purchased\": 0}, {\"Age\": 47, \"EstimatedSalary\": 25000, \"male\": 1, \"Purchased\": 1}, {\"Age\": 42, \"EstimatedSalary\": 104000, \"male\": 1, \"Purchased\": 1}, {\"Age\": 19, \"EstimatedSalary\": 19000, \"male\": 1, \"Purchased\": 0}, {\"Age\": 21, \"EstimatedSalary\": 72000, \"male\": 1, \"Purchased\": 0}, {\"Age\": 28, \"EstimatedSalary\": 32000, \"male\": 1, \"Purchased\": 0}, {\"Age\": 52, \"EstimatedSalary\": 150000, \"male\": 1, \"Purchased\": 1}, {\"Age\": 53, \"EstimatedSalary\": 104000, \"male\": 0, \"Purchased\": 1}, {\"Age\": 25, \"EstimatedSalary\": 80000, \"male\": 1, \"Purchased\": 0}, {\"Age\": 26, \"EstimatedSalary\": 72000, \"male\": 0, \"Purchased\": 0}, {\"Age\": 26, \"EstimatedSalary\": 15000, \"male\": 0, \"Purchased\": 0}, {\"Age\": 40, \"EstimatedSalary\": 142000, \"male\": 0, \"Purchased\": 1}, {\"Age\": 35, \"EstimatedSalary\": 38000, \"male\": 1, \"Purchased\": 0}, {\"Age\": 57, \"EstimatedSalary\": 122000, \"male\": 0, \"Purchased\": 1}, {\"Age\": 41, \"EstimatedSalary\": 87000, \"male\": 1, \"Purchased\": 1}, {\"Age\": 24, \"EstimatedSalary\": 89000, \"male\": 0, \"Purchased\": 0}, {\"Age\": 37, \"EstimatedSalary\": 52000, \"male\": 1, \"Purchased\": 0}, {\"Age\": 35, \"EstimatedSalary\": 108000, \"male\": 1, \"Purchased\": 0}, {\"Age\": 32, \"EstimatedSalary\": 100000, \"male\": 1, \"Purchased\": 1}, {\"Age\": 35, \"EstimatedSalary\": 147000, \"male\": 0, \"Purchased\": 1}, {\"Age\": 19, \"EstimatedSalary\": 26000, \"male\": 0, \"Purchased\": 0}, {\"Age\": 46, \"EstimatedSalary\": 82000, \"male\": 0, \"Purchased\": 0}, {\"Age\": 47, \"EstimatedSalary\": 105000, \"male\": 1, \"Purchased\": 1}, {\"Age\": 45, \"EstimatedSalary\": 45000, \"male\": 0, \"Purchased\": 1}, {\"Age\": 38, \"EstimatedSalary\": 51000, \"male\": 1, \"Purchased\": 0}, {\"Age\": 37, \"EstimatedSalary\": 93000, \"male\": 0, \"Purchased\": 1}, {\"Age\": 29, \"EstimatedSalary\": 43000, \"male\": 1, \"Purchased\": 0}, {\"Age\": 41, \"EstimatedSalary\": 30000, \"male\": 0, \"Purchased\": 0}, {\"Age\": 40, \"EstimatedSalary\": 60000, \"male\": 0, \"Purchased\": 0}, {\"Age\": 27, \"EstimatedSalary\": 88000, \"male\": 1, \"Purchased\": 0}, {\"Age\": 27, \"EstimatedSalary\": 90000, \"male\": 1, \"Purchased\": 0}, {\"Age\": 39, \"EstimatedSalary\": 71000, \"male\": 0, \"Purchased\": 0}, {\"Age\": 23, \"EstimatedSalary\": 28000, \"male\": 0, \"Purchased\": 0}, {\"Age\": 51, \"EstimatedSalary\": 146000, \"male\": 0, \"Purchased\": 1}, {\"Age\": 23, \"EstimatedSalary\": 63000, \"male\": 1, \"Purchased\": 0}, {\"Age\": 37, \"EstimatedSalary\": 80000, \"male\": 0, \"Purchased\": 0}, {\"Age\": 40, \"EstimatedSalary\": 47000, \"male\": 1, \"Purchased\": 0}, {\"Age\": 48, \"EstimatedSalary\": 29000, \"male\": 0, \"Purchased\": 1}, {\"Age\": 35, \"EstimatedSalary\": 59000, \"male\": 1, \"Purchased\": 0}, {\"Age\": 26, \"EstimatedSalary\": 30000, \"male\": 1, \"Purchased\": 0}, {\"Age\": 39, \"EstimatedSalary\": 106000, \"male\": 1, \"Purchased\": 1}, {\"Age\": 28, \"EstimatedSalary\": 84000, \"male\": 0, \"Purchased\": 0}, {\"Age\": 59, \"EstimatedSalary\": 76000, \"male\": 0, \"Purchased\": 1}, {\"Age\": 40, \"EstimatedSalary\": 57000, \"male\": 1, \"Purchased\": 0}, {\"Age\": 35, \"EstimatedSalary\": 97000, \"male\": 0, \"Purchased\": 1}, {\"Age\": 26, \"EstimatedSalary\": 86000, \"male\": 1, \"Purchased\": 0}, {\"Age\": 41, \"EstimatedSalary\": 63000, \"male\": 0, \"Purchased\": 0}, {\"Age\": 29, \"EstimatedSalary\": 47000, \"male\": 0, \"Purchased\": 0}, {\"Age\": 26, \"EstimatedSalary\": 17000, \"male\": 0, \"Purchased\": 0}, {\"Age\": 58, \"EstimatedSalary\": 23000, \"male\": 0, \"Purchased\": 1}, {\"Age\": 30, \"EstimatedSalary\": 62000, \"male\": 0, \"Purchased\": 0}, {\"Age\": 25, \"EstimatedSalary\": 33000, \"male\": 1, \"Purchased\": 0}, {\"Age\": 59, \"EstimatedSalary\": 29000, \"male\": 0, \"Purchased\": 1}, {\"Age\": 28, \"EstimatedSalary\": 37000, \"male\": 0, \"Purchased\": 0}, {\"Age\": 39, \"EstimatedSalary\": 77000, \"male\": 1, \"Purchased\": 0}, {\"Age\": 47, \"EstimatedSalary\": 107000, \"male\": 0, \"Purchased\": 1}, {\"Age\": 52, \"EstimatedSalary\": 138000, \"male\": 0, \"Purchased\": 1}, {\"Age\": 29, \"EstimatedSalary\": 43000, \"male\": 1, \"Purchased\": 0}, {\"Age\": 27, \"EstimatedSalary\": 137000, \"male\": 0, \"Purchased\": 1}, {\"Age\": 24, \"EstimatedSalary\": 55000, \"male\": 0, \"Purchased\": 0}, {\"Age\": 40, \"EstimatedSalary\": 72000, \"male\": 0, \"Purchased\": 0}, {\"Age\": 21, \"EstimatedSalary\": 16000, \"male\": 0, \"Purchased\": 0}, {\"Age\": 57, \"EstimatedSalary\": 26000, \"male\": 0, \"Purchased\": 1}, {\"Age\": 30, \"EstimatedSalary\": 135000, \"male\": 1, \"Purchased\": 1}, {\"Age\": 48, \"EstimatedSalary\": 119000, \"male\": 0, \"Purchased\": 1}, {\"Age\": 40, \"EstimatedSalary\": 57000, \"male\": 1, \"Purchased\": 0}, {\"Age\": 35, \"EstimatedSalary\": 75000, \"male\": 1, \"Purchased\": 0}, {\"Age\": 28, \"EstimatedSalary\": 44000, \"male\": 0, \"Purchased\": 0}, {\"Age\": 37, \"EstimatedSalary\": 74000, \"male\": 1, \"Purchased\": 0}, {\"Age\": 35, \"EstimatedSalary\": 27000, \"male\": 1, \"Purchased\": 0}, {\"Age\": 37, \"EstimatedSalary\": 79000, \"male\": 1, \"Purchased\": 1}, {\"Age\": 32, \"EstimatedSalary\": 120000, \"male\": 1, \"Purchased\": 1}, {\"Age\": 29, \"EstimatedSalary\": 75000, \"male\": 1, \"Purchased\": 0}, {\"Age\": 30, \"EstimatedSalary\": 17000, \"male\": 1, \"Purchased\": 0}, {\"Age\": 25, \"EstimatedSalary\": 79000, \"male\": 1, \"Purchased\": 0}, {\"Age\": 40, \"EstimatedSalary\": 107000, \"male\": 1, \"Purchased\": 1}, {\"Age\": 24, \"EstimatedSalary\": 19000, \"male\": 1, \"Purchased\": 0}, {\"Age\": 41, \"EstimatedSalary\": 72000, \"male\": 0, \"Purchased\": 0}, {\"Age\": 38, \"EstimatedSalary\": 61000, \"male\": 1, \"Purchased\": 0}, {\"Age\": 36, \"EstimatedSalary\": 144000, \"male\": 1, \"Purchased\": 1}, {\"Age\": 42, \"EstimatedSalary\": 64000, \"male\": 1, \"Purchased\": 0}, {\"Age\": 48, \"EstimatedSalary\": 33000, \"male\": 1, \"Purchased\": 1}, {\"Age\": 48, \"EstimatedSalary\": 30000, \"male\": 0, \"Purchased\": 1}, {\"Age\": 23, \"EstimatedSalary\": 20000, \"male\": 1, \"Purchased\": 0}, {\"Age\": 55, \"EstimatedSalary\": 130000, \"male\": 0, \"Purchased\": 1}, {\"Age\": 29, \"EstimatedSalary\": 148000, \"male\": 1, \"Purchased\": 1}, {\"Age\": 42, \"EstimatedSalary\": 65000, \"male\": 1, \"Purchased\": 0}, {\"Age\": 27, \"EstimatedSalary\": 54000, \"male\": 0, \"Purchased\": 0}, {\"Age\": 37, \"EstimatedSalary\": 55000, \"male\": 1, \"Purchased\": 0}, {\"Age\": 25, \"EstimatedSalary\": 22000, \"male\": 1, \"Purchased\": 0}, {\"Age\": 59, \"EstimatedSalary\": 143000, \"male\": 1, \"Purchased\": 1}, {\"Age\": 42, \"EstimatedSalary\": 54000, \"male\": 1, \"Purchased\": 0}, {\"Age\": 27, \"EstimatedSalary\": 17000, \"male\": 0, \"Purchased\": 0}, {\"Age\": 47, \"EstimatedSalary\": 49000, \"male\": 0, \"Purchased\": 1}, {\"Age\": 28, \"EstimatedSalary\": 59000, \"male\": 1, \"Purchased\": 0}, {\"Age\": 33, \"EstimatedSalary\": 69000, \"male\": 0, \"Purchased\": 0}, {\"Age\": 31, \"EstimatedSalary\": 68000, \"male\": 0, \"Purchased\": 0}, {\"Age\": 35, \"EstimatedSalary\": 23000, \"male\": 0, \"Purchased\": 0}, {\"Age\": 35, \"EstimatedSalary\": 22000, \"male\": 1, \"Purchased\": 0}, {\"Age\": 57, \"EstimatedSalary\": 33000, \"male\": 0, \"Purchased\": 1}, {\"Age\": 30, \"EstimatedSalary\": 107000, \"male\": 1, \"Purchased\": 1}, {\"Age\": 46, \"EstimatedSalary\": 23000, \"male\": 1, \"Purchased\": 1}, {\"Age\": 41, \"EstimatedSalary\": 60000, \"male\": 0, \"Purchased\": 0}, {\"Age\": 33, \"EstimatedSalary\": 41000, \"male\": 0, \"Purchased\": 0}, {\"Age\": 33, \"EstimatedSalary\": 60000, \"male\": 0, \"Purchased\": 0}, {\"Age\": 47, \"EstimatedSalary\": 47000, \"male\": 0, \"Purchased\": 0}, {\"Age\": 28, \"EstimatedSalary\": 55000, \"male\": 0, \"Purchased\": 0}, {\"Age\": 45, \"EstimatedSalary\": 32000, \"male\": 1, \"Purchased\": 1}, {\"Age\": 35, \"EstimatedSalary\": 75000, \"male\": 1, \"Purchased\": 0}, {\"Age\": 59, \"EstimatedSalary\": 42000, \"male\": 0, \"Purchased\": 0}, {\"Age\": 47, \"EstimatedSalary\": 50000, \"male\": 0, \"Purchased\": 1}, {\"Age\": 47, \"EstimatedSalary\": 51000, \"male\": 0, \"Purchased\": 1}, {\"Age\": 35, \"EstimatedSalary\": 79000, \"male\": 1, \"Purchased\": 0}, {\"Age\": 39, \"EstimatedSalary\": 42000, \"male\": 1, \"Purchased\": 0}, {\"Age\": 40, \"EstimatedSalary\": 78000, \"male\": 1, \"Purchased\": 0}, {\"Age\": 23, \"EstimatedSalary\": 48000, \"male\": 0, \"Purchased\": 0}, {\"Age\": 39, \"EstimatedSalary\": 75000, \"male\": 0, \"Purchased\": 1}, {\"Age\": 35, \"EstimatedSalary\": 57000, \"male\": 0, \"Purchased\": 0}, {\"Age\": 55, \"EstimatedSalary\": 39000, \"male\": 1, \"Purchased\": 1}, {\"Age\": 31, \"EstimatedSalary\": 71000, \"male\": 0, \"Purchased\": 0}, {\"Age\": 28, \"EstimatedSalary\": 123000, \"male\": 1, \"Purchased\": 1}, {\"Age\": 42, \"EstimatedSalary\": 80000, \"male\": 1, \"Purchased\": 0}, {\"Age\": 40, \"EstimatedSalary\": 59000, \"male\": 1, \"Purchased\": 0}, {\"Age\": 48, \"EstimatedSalary\": 74000, \"male\": 1, \"Purchased\": 1}, {\"Age\": 21, \"EstimatedSalary\": 88000, \"male\": 1, \"Purchased\": 0}, {\"Age\": 53, \"EstimatedSalary\": 72000, \"male\": 1, \"Purchased\": 1}, {\"Age\": 27, \"EstimatedSalary\": 58000, \"male\": 0, \"Purchased\": 0}, {\"Age\": 35, \"EstimatedSalary\": 47000, \"male\": 0, \"Purchased\": 0}, {\"Age\": 28, \"EstimatedSalary\": 89000, \"male\": 1, \"Purchased\": 0}, {\"Age\": 26, \"EstimatedSalary\": 80000, \"male\": 1, \"Purchased\": 0}, {\"Age\": 32, \"EstimatedSalary\": 117000, \"male\": 0, \"Purchased\": 1}, {\"Age\": 42, \"EstimatedSalary\": 75000, \"male\": 0, \"Purchased\": 0}, {\"Age\": 33, \"EstimatedSalary\": 149000, \"male\": 0, \"Purchased\": 1}, {\"Age\": 41, \"EstimatedSalary\": 80000, \"male\": 0, \"Purchased\": 0}, {\"Age\": 31, \"EstimatedSalary\": 58000, \"male\": 1, \"Purchased\": 0}, {\"Age\": 39, \"EstimatedSalary\": 134000, \"male\": 1, \"Purchased\": 1}, {\"Age\": 27, \"EstimatedSalary\": 20000, \"male\": 1, \"Purchased\": 0}, {\"Age\": 29, \"EstimatedSalary\": 83000, \"male\": 0, \"Purchased\": 0}, {\"Age\": 19, \"EstimatedSalary\": 70000, \"male\": 1, \"Purchased\": 0}, {\"Age\": 19, \"EstimatedSalary\": 85000, \"male\": 1, \"Purchased\": 0}, {\"Age\": 29, \"EstimatedSalary\": 61000, \"male\": 1, \"Purchased\": 0}, {\"Age\": 39, \"EstimatedSalary\": 134000, \"male\": 0, \"Purchased\": 1}, {\"Age\": 31, \"EstimatedSalary\": 76000, \"male\": 1, \"Purchased\": 0}, {\"Age\": 41, \"EstimatedSalary\": 72000, \"male\": 1, \"Purchased\": 0}, {\"Age\": 26, \"EstimatedSalary\": 80000, \"male\": 0, \"Purchased\": 0}, {\"Age\": 40, \"EstimatedSalary\": 61000, \"male\": 1, \"Purchased\": 0}, {\"Age\": 35, \"EstimatedSalary\": 25000, \"male\": 0, \"Purchased\": 0}, {\"Age\": 48, \"EstimatedSalary\": 96000, \"male\": 0, \"Purchased\": 1}, {\"Age\": 42, \"EstimatedSalary\": 149000, \"male\": 1, \"Purchased\": 1}, {\"Age\": 28, \"EstimatedSalary\": 79000, \"male\": 1, \"Purchased\": 0}, {\"Age\": 51, \"EstimatedSalary\": 134000, \"male\": 0, \"Purchased\": 0}, {\"Age\": 33, \"EstimatedSalary\": 28000, \"male\": 0, \"Purchased\": 0}, {\"Age\": 42, \"EstimatedSalary\": 54000, \"male\": 1, \"Purchased\": 0}, {\"Age\": 45, \"EstimatedSalary\": 22000, \"male\": 1, \"Purchased\": 1}, {\"Age\": 37, \"EstimatedSalary\": 57000, \"male\": 0, \"Purchased\": 0}, {\"Age\": 34, \"EstimatedSalary\": 112000, \"male\": 1, \"Purchased\": 1}, {\"Age\": 35, \"EstimatedSalary\": 39000, \"male\": 1, \"Purchased\": 0}, {\"Age\": 22, \"EstimatedSalary\": 27000, \"male\": 0, \"Purchased\": 0}, {\"Age\": 35, \"EstimatedSalary\": 72000, \"male\": 0, \"Purchased\": 0}, {\"Age\": 39, \"EstimatedSalary\": 59000, \"male\": 0, \"Purchased\": 0}, {\"Age\": 20, \"EstimatedSalary\": 74000, \"male\": 1, \"Purchased\": 0}, {\"Age\": 46, \"EstimatedSalary\": 32000, \"male\": 0, \"Purchased\": 1}, {\"Age\": 26, \"EstimatedSalary\": 43000, \"male\": 0, \"Purchased\": 0}, {\"Age\": 29, \"EstimatedSalary\": 83000, \"male\": 0, \"Purchased\": 0}, {\"Age\": 55, \"EstimatedSalary\": 125000, \"male\": 0, \"Purchased\": 1}, {\"Age\": 37, \"EstimatedSalary\": 146000, \"male\": 0, \"Purchased\": 1}, {\"Age\": 45, \"EstimatedSalary\": 131000, \"male\": 0, \"Purchased\": 1}, {\"Age\": 33, \"EstimatedSalary\": 43000, \"male\": 1, \"Purchased\": 0}, {\"Age\": 41, \"EstimatedSalary\": 45000, \"male\": 1, \"Purchased\": 0}, {\"Age\": 42, \"EstimatedSalary\": 79000, \"male\": 0, \"Purchased\": 0}, {\"Age\": 37, \"EstimatedSalary\": 137000, \"male\": 0, \"Purchased\": 1}, {\"Age\": 24, \"EstimatedSalary\": 84000, \"male\": 1, \"Purchased\": 0}, {\"Age\": 32, \"EstimatedSalary\": 18000, \"male\": 1, \"Purchased\": 0}, {\"Age\": 56, \"EstimatedSalary\": 104000, \"male\": 0, \"Purchased\": 1}, {\"Age\": 49, \"EstimatedSalary\": 39000, \"male\": 0, \"Purchased\": 1}, {\"Age\": 28, \"EstimatedSalary\": 85000, \"male\": 0, \"Purchased\": 0}, {\"Age\": 53, \"EstimatedSalary\": 143000, \"male\": 0, \"Purchased\": 1}, {\"Age\": 30, \"EstimatedSalary\": 89000, \"male\": 1, \"Purchased\": 0}, {\"Age\": 57, \"EstimatedSalary\": 60000, \"male\": 1, \"Purchased\": 1}, {\"Age\": 40, \"EstimatedSalary\": 75000, \"male\": 1, \"Purchased\": 0}, {\"Age\": 41, \"EstimatedSalary\": 79000, \"male\": 1, \"Purchased\": 0}, {\"Age\": 20, \"EstimatedSalary\": 82000, \"male\": 0, \"Purchased\": 0}, {\"Age\": 22, \"EstimatedSalary\": 55000, \"male\": 0, \"Purchased\": 0}, {\"Age\": 35, \"EstimatedSalary\": 88000, \"male\": 1, \"Purchased\": 0}, {\"Age\": 54, \"EstimatedSalary\": 70000, \"male\": 1, \"Purchased\": 1}, {\"Age\": 31, \"EstimatedSalary\": 15000, \"male\": 0, \"Purchased\": 0}, {\"Age\": 50, \"EstimatedSalary\": 36000, \"male\": 0, \"Purchased\": 1}, {\"Age\": 42, \"EstimatedSalary\": 65000, \"male\": 1, \"Purchased\": 0}, {\"Age\": 34, \"EstimatedSalary\": 43000, \"male\": 1, \"Purchased\": 0}, {\"Age\": 42, \"EstimatedSalary\": 108000, \"male\": 0, \"Purchased\": 1}, {\"Age\": 54, \"EstimatedSalary\": 26000, \"male\": 0, \"Purchased\": 1}, {\"Age\": 19, \"EstimatedSalary\": 21000, \"male\": 0, \"Purchased\": 0}, {\"Age\": 36, \"EstimatedSalary\": 50000, \"male\": 0, \"Purchased\": 0}, {\"Age\": 37, \"EstimatedSalary\": 70000, \"male\": 1, \"Purchased\": 1}, {\"Age\": 36, \"EstimatedSalary\": 126000, \"male\": 0, \"Purchased\": 1}, {\"Age\": 47, \"EstimatedSalary\": 20000, \"male\": 1, \"Purchased\": 1}, {\"Age\": 30, \"EstimatedSalary\": 79000, \"male\": 0, \"Purchased\": 0}, {\"Age\": 59, \"EstimatedSalary\": 83000, \"male\": 0, \"Purchased\": 0}, {\"Age\": 29, \"EstimatedSalary\": 80000, \"male\": 1, \"Purchased\": 0}, {\"Age\": 43, \"EstimatedSalary\": 112000, \"male\": 0, \"Purchased\": 1}, {\"Age\": 38, \"EstimatedSalary\": 80000, \"male\": 0, \"Purchased\": 0}, {\"Age\": 58, \"EstimatedSalary\": 144000, \"male\": 1, \"Purchased\": 1}, {\"Age\": 36, \"EstimatedSalary\": 125000, \"male\": 1, \"Purchased\": 1}, {\"Age\": 49, \"EstimatedSalary\": 28000, \"male\": 1, \"Purchased\": 1}, {\"Age\": 18, \"EstimatedSalary\": 52000, \"male\": 1, \"Purchased\": 0}, {\"Age\": 30, \"EstimatedSalary\": 15000, \"male\": 1, \"Purchased\": 0}, {\"Age\": 59, \"EstimatedSalary\": 88000, \"male\": 0, \"Purchased\": 1}, {\"Age\": 27, \"EstimatedSalary\": 57000, \"male\": 0, \"Purchased\": 0}, {\"Age\": 38, \"EstimatedSalary\": 71000, \"male\": 1, \"Purchased\": 0}, {\"Age\": 31, \"EstimatedSalary\": 89000, \"male\": 0, \"Purchased\": 0}, {\"Age\": 47, \"EstimatedSalary\": 34000, \"male\": 1, \"Purchased\": 1}, {\"Age\": 31, \"EstimatedSalary\": 74000, \"male\": 1, \"Purchased\": 0}, {\"Age\": 37, \"EstimatedSalary\": 72000, \"male\": 1, \"Purchased\": 0}, {\"Age\": 40, \"EstimatedSalary\": 57000, \"male\": 1, \"Purchased\": 0}, {\"Age\": 59, \"EstimatedSalary\": 130000, \"male\": 1, \"Purchased\": 1}, {\"Age\": 49, \"EstimatedSalary\": 65000, \"male\": 1, \"Purchased\": 0}, {\"Age\": 48, \"EstimatedSalary\": 90000, \"male\": 1, \"Purchased\": 1}, {\"Age\": 46, \"EstimatedSalary\": 22000, \"male\": 0, \"Purchased\": 0}, {\"Age\": 54, \"EstimatedSalary\": 104000, \"male\": 0, \"Purchased\": 1}, {\"Age\": 35, \"EstimatedSalary\": 20000, \"male\": 1, \"Purchased\": 0}, {\"Age\": 49, \"EstimatedSalary\": 141000, \"male\": 0, \"Purchased\": 1}, {\"Age\": 48, \"EstimatedSalary\": 41000, \"male\": 1, \"Purchased\": 1}, {\"Age\": 35, \"EstimatedSalary\": 55000, \"male\": 1, \"Purchased\": 0}, {\"Age\": 36, \"EstimatedSalary\": 60000, \"male\": 1, \"Purchased\": 0}, {\"Age\": 32, \"EstimatedSalary\": 150000, \"male\": 0, \"Purchased\": 1}, {\"Age\": 18, \"EstimatedSalary\": 68000, \"male\": 0, \"Purchased\": 0}, {\"Age\": 24, \"EstimatedSalary\": 55000, \"male\": 1, \"Purchased\": 0}, {\"Age\": 42, \"EstimatedSalary\": 90000, \"male\": 0, \"Purchased\": 1}, {\"Age\": 38, \"EstimatedSalary\": 59000, \"male\": 1, \"Purchased\": 0}, {\"Age\": 60, \"EstimatedSalary\": 108000, \"male\": 0, \"Purchased\": 1}, {\"Age\": 22, \"EstimatedSalary\": 63000, \"male\": 0, \"Purchased\": 0}, {\"Age\": 24, \"EstimatedSalary\": 32000, \"male\": 0, \"Purchased\": 0}, {\"Age\": 46, \"EstimatedSalary\": 59000, \"male\": 1, \"Purchased\": 0}, {\"Age\": 48, \"EstimatedSalary\": 134000, \"male\": 0, \"Purchased\": 1}, {\"Age\": 41, \"EstimatedSalary\": 72000, \"male\": 0, \"Purchased\": 0}, {\"Age\": 50, \"EstimatedSalary\": 44000, \"male\": 0, \"Purchased\": 0}, {\"Age\": 38, \"EstimatedSalary\": 71000, \"male\": 1, \"Purchased\": 0}, {\"Age\": 24, \"EstimatedSalary\": 23000, \"male\": 1, \"Purchased\": 0}, {\"Age\": 35, \"EstimatedSalary\": 61000, \"male\": 1, \"Purchased\": 0}, {\"Age\": 37, \"EstimatedSalary\": 80000, \"male\": 0, \"Purchased\": 0}, {\"Age\": 24, \"EstimatedSalary\": 27000, \"male\": 0, \"Purchased\": 0}, {\"Age\": 26, \"EstimatedSalary\": 84000, \"male\": 0, \"Purchased\": 0}, {\"Age\": 34, \"EstimatedSalary\": 25000, \"male\": 0, \"Purchased\": 0}, {\"Age\": 36, \"EstimatedSalary\": 54000, \"male\": 0, \"Purchased\": 0}, {\"Age\": 21, \"EstimatedSalary\": 68000, \"male\": 0, \"Purchased\": 0}, {\"Age\": 41, \"EstimatedSalary\": 71000, \"male\": 0, \"Purchased\": 0}, {\"Age\": 60, \"EstimatedSalary\": 42000, \"male\": 1, \"Purchased\": 1}, {\"Age\": 52, \"EstimatedSalary\": 90000, \"male\": 0, \"Purchased\": 1}, {\"Age\": 20, \"EstimatedSalary\": 23000, \"male\": 0, \"Purchased\": 0}, {\"Age\": 51, \"EstimatedSalary\": 23000, \"male\": 1, \"Purchased\": 1}, {\"Age\": 46, \"EstimatedSalary\": 79000, \"male\": 1, \"Purchased\": 1}, {\"Age\": 30, \"EstimatedSalary\": 49000, \"male\": 1, \"Purchased\": 0}]}}, {\"mode\": \"vega-lite\"});\n",
       "</script>"
      ],
      "text/plain": [
       "alt.RepeatChart(...)"
      ]
     },
     "execution_count": 99,
     "metadata": {},
     "output_type": "execute_result"
    }
   ],
   "source": [
    "alt.Chart(df_train).mark_circle().encode(\n",
    "    alt.X(alt.repeat(\"column\"), type='quantitative'),\n",
    "    alt.Y(alt.repeat(\"row\"), type='quantitative'),\n",
    "    alt.Color('Purchased:N'),\n",
    ").properties(\n",
    "    width=150,\n",
    "    height=150\n",
    ").repeat(\n",
    "    row=['Age', 'EstimatedSalary', 'male'],\n",
    "    column=['Age', 'EstimatedSalary', 'male']\n",
    ").interactive()"
   ]
  },
  {
   "cell_type": "markdown",
   "id": "27dff8f7",
   "metadata": {},
   "source": [
    "Code for seaborn:"
   ]
  },
  {
   "cell_type": "code",
   "execution_count": 100,
   "id": "63706304",
   "metadata": {},
   "outputs": [
    {
     "data": {
      "image/png": "[encoded data removed]",
      "text/plain": [
       "<Figure size 599.875x540 with 12 Axes>"
      ]
     },
     "metadata": {
      "needs_background": "light"
     },
     "output_type": "display_data"
    }
   ],
   "source": [
    "sns.pairplot(hue='Purchased', kind=\"reg\", diag_kind=\"kde\", data=df_train);"
   ]
  },
  {
   "cell_type": "markdown",
   "id": "3bfc367b",
   "metadata": {},
   "source": [
    "Inspect (linear) relationships between variables with correlation (pearson's correlation coefficient)"
   ]
  },
  {
   "cell_type": "code",
   "execution_count": 101,
   "id": "141c752d",
   "metadata": {},
   "outputs": [
    {
     "data": {
      "text/html": [
       "<div>\n",
       "<style scoped>\n",
       "    .dataframe tbody tr th:only-of-type {\n",
       "        vertical-align: middle;\n",
       "    }\n",
       "\n",
       "    .dataframe tbody tr th {\n",
       "        vertical-align: top;\n",
       "    }\n",
       "\n",
       "    .dataframe thead th {\n",
       "        text-align: right;\n",
       "    }\n",
       "</style>\n",
       "<table border=\"1\" class=\"dataframe\">\n",
       "  <thead>\n",
       "    <tr style=\"text-align: right;\">\n",
       "      <th></th>\n",
       "      <th>Age</th>\n",
       "      <th>EstimatedSalary</th>\n",
       "      <th>male</th>\n",
       "    </tr>\n",
       "  </thead>\n",
       "  <tbody>\n",
       "    <tr>\n",
       "      <th>Age</th>\n",
       "      <td>1.00</td>\n",
       "      <td>0.16</td>\n",
       "      <td>-0.07</td>\n",
       "    </tr>\n",
       "    <tr>\n",
       "      <th>EstimatedSalary</th>\n",
       "      <td>0.16</td>\n",
       "      <td>1.00</td>\n",
       "      <td>-0.06</td>\n",
       "    </tr>\n",
       "    <tr>\n",
       "      <th>male</th>\n",
       "      <td>-0.07</td>\n",
       "      <td>-0.06</td>\n",
       "      <td>1.00</td>\n",
       "    </tr>\n",
       "  </tbody>\n",
       "</table>\n",
       "</div>"
      ],
      "text/plain": [
       "                  Age  EstimatedSalary  male\n",
       "Age              1.00             0.16 -0.07\n",
       "EstimatedSalary  0.16             1.00 -0.06\n",
       "male            -0.07            -0.06  1.00"
      ]
     },
     "execution_count": 101,
     "metadata": {},
     "output_type": "execute_result"
    }
   ],
   "source": [
    "df.corr().round(2)"
   ]
  },
  {
   "cell_type": "code",
   "execution_count": 102,
   "id": "b38c332b",
   "metadata": {},
   "outputs": [
    {
     "data": {
      "text/html": [
       "\n",
       "<div id=\"altair-viz-a39da88461b849db89cba6c365717554\"></div>\n",
       "<script type=\"text/javascript\">\n",
       "  var VEGA_DEBUG = (typeof VEGA_DEBUG == \"undefined\") ? {} : VEGA_DEBUG;\n",
       "  (function(spec, embedOpt){\n",
       "    let outputDiv = document.currentScript.previousElementSibling;\n",
       "    if (outputDiv.id !== \"altair-viz-a39da88461b849db89cba6c365717554\") {\n",
       "      outputDiv = document.getElementById(\"altair-viz-a39da88461b849db89cba6c365717554\");\n",
       "    }\n",
       "    const paths = {\n",
       "      \"vega\": \"https://cdn.jsdelivr.net/npm//vega@5?noext\",\n",
       "      \"vega-lib\": \"https://cdn.jsdelivr.net/npm//vega-lib?noext\",\n",
       "      \"vega-lite\": \"https://cdn.jsdelivr.net/npm//vega-lite@4.17.0?noext\",\n",
       "      \"vega-embed\": \"https://cdn.jsdelivr.net/npm//vega-embed@6?noext\",\n",
       "    };\n",
       "\n",
       "    function maybeLoadScript(lib, version) {\n",
       "      var key = `${lib.replace(\"-\", \"\")}_version`;\n",
       "      return (VEGA_DEBUG[key] == version) ?\n",
       "        Promise.resolve(paths[lib]) :\n",
       "        new Promise(function(resolve, reject) {\n",
       "          var s = document.createElement('script');\n",
       "          document.getElementsByTagName(\"head\")[0].appendChild(s);\n",
       "          s.async = true;\n",
       "          s.onload = () => {\n",
       "            VEGA_DEBUG[key] = version;\n",
       "            return resolve(paths[lib]);\n",
       "          };\n",
       "          s.onerror = () => reject(`Error loading script: ${paths[lib]}`);\n",
       "          s.src = paths[lib];\n",
       "        });\n",
       "    }\n",
       "\n",
       "    function showError(err) {\n",
       "      outputDiv.innerHTML = `<div class=\"error\" style=\"color:red;\">${err}</div>`;\n",
       "      throw err;\n",
       "    }\n",
       "\n",
       "    function displayChart(vegaEmbed) {\n",
       "      vegaEmbed(outputDiv, spec, embedOpt)\n",
       "        .catch(err => showError(`Javascript Error: ${err.message}<br>This usually means there's a typo in your chart specification. See the javascript console for the full traceback.`));\n",
       "    }\n",
       "\n",
       "    if(typeof define === \"function\" && define.amd) {\n",
       "      requirejs.config({paths});\n",
       "      require([\"vega-embed\"], displayChart, err => showError(`Error loading script: ${err.message}`));\n",
       "    } else {\n",
       "      maybeLoadScript(\"vega\", \"5\")\n",
       "        .then(() => maybeLoadScript(\"vega-lite\", \"4.17.0\"))\n",
       "        .then(() => maybeLoadScript(\"vega-embed\", \"6\"))\n",
       "        .catch(showError)\n",
       "        .then(() => displayChart(vegaEmbed));\n",
       "    }\n",
       "  })({\"config\": {\"view\": {\"continuousWidth\": 400, \"continuousHeight\": 300}}, \"data\": {\"name\": \"data-c8e5ce5ac5fe444e8ce0603795e89468\"}, \"mark\": {\"type\": \"area\", \"interpolate\": \"step\", \"opacity\": 0.5}, \"encoding\": {\"color\": {\"field\": \"Purchased\", \"type\": \"nominal\"}, \"x\": {\"bin\": {\"maxbins\": 20}, \"field\": \"Age\", \"type\": \"quantitative\"}, \"y\": {\"aggregate\": \"count\", \"stack\": null, \"type\": \"quantitative\"}}, \"width\": 300, \"$schema\": \"https://vega.github.io/schema/vega-lite/v4.17.0.json\", \"datasets\": {\"data-c8e5ce5ac5fe444e8ce0603795e89468\": [{\"Age\": 27, \"EstimatedSalary\": 31000, \"male\": 0, \"Purchased\": 0}, {\"Age\": 35, \"EstimatedSalary\": 71000, \"male\": 0, \"Purchased\": 0}, {\"Age\": 49, \"EstimatedSalary\": 28000, \"male\": 1, \"Purchased\": 1}, {\"Age\": 35, \"EstimatedSalary\": 91000, \"male\": 1, \"Purchased\": 1}, {\"Age\": 37, \"EstimatedSalary\": 75000, \"male\": 1, \"Purchased\": 0}, {\"Age\": 32, \"EstimatedSalary\": 117000, \"male\": 0, \"Purchased\": 0}, {\"Age\": 36, \"EstimatedSalary\": 75000, \"male\": 0, \"Purchased\": 0}, {\"Age\": 20, \"EstimatedSalary\": 86000, \"male\": 1, \"Purchased\": 0}, {\"Age\": 38, \"EstimatedSalary\": 50000, \"male\": 0, \"Purchased\": 0}, {\"Age\": 49, \"EstimatedSalary\": 36000, \"male\": 0, \"Purchased\": 1}, {\"Age\": 40, \"EstimatedSalary\": 65000, \"male\": 1, \"Purchased\": 0}, {\"Age\": 37, \"EstimatedSalary\": 77000, \"male\": 1, \"Purchased\": 0}, {\"Age\": 60, \"EstimatedSalary\": 46000, \"male\": 0, \"Purchased\": 1}, {\"Age\": 48, \"EstimatedSalary\": 138000, \"male\": 0, \"Purchased\": 1}, {\"Age\": 40, \"EstimatedSalary\": 71000, \"male\": 1, \"Purchased\": 1}, {\"Age\": 36, \"EstimatedSalary\": 63000, \"male\": 0, \"Purchased\": 0}, {\"Age\": 26, \"EstimatedSalary\": 81000, \"male\": 1, \"Purchased\": 0}, {\"Age\": 33, \"EstimatedSalary\": 31000, \"male\": 1, \"Purchased\": 0}, {\"Age\": 41, \"EstimatedSalary\": 51000, \"male\": 0, \"Purchased\": 0}, {\"Age\": 46, \"EstimatedSalary\": 74000, \"male\": 0, \"Purchased\": 0}, {\"Age\": 18, \"EstimatedSalary\": 82000, \"male\": 1, \"Purchased\": 0}, {\"Age\": 37, \"EstimatedSalary\": 33000, \"male\": 0, \"Purchased\": 0}, {\"Age\": 35, \"EstimatedSalary\": 53000, \"male\": 1, \"Purchased\": 0}, {\"Age\": 28, \"EstimatedSalary\": 59000, \"male\": 0, \"Purchased\": 0}, {\"Age\": 37, \"EstimatedSalary\": 71000, \"male\": 0, \"Purchased\": 0}, {\"Age\": 18, \"EstimatedSalary\": 44000, \"male\": 0, \"Purchased\": 0}, {\"Age\": 38, \"EstimatedSalary\": 61000, \"male\": 1, \"Purchased\": 0}, {\"Age\": 35, \"EstimatedSalary\": 65000, \"male\": 0, \"Purchased\": 0}, {\"Age\": 31, \"EstimatedSalary\": 66000, \"male\": 1, \"Purchased\": 0}, {\"Age\": 47, \"EstimatedSalary\": 25000, \"male\": 1, \"Purchased\": 1}, {\"Age\": 42, \"EstimatedSalary\": 104000, \"male\": 1, \"Purchased\": 1}, {\"Age\": 19, \"EstimatedSalary\": 19000, \"male\": 1, \"Purchased\": 0}, {\"Age\": 21, \"EstimatedSalary\": 72000, \"male\": 1, \"Purchased\": 0}, {\"Age\": 28, \"EstimatedSalary\": 32000, \"male\": 1, \"Purchased\": 0}, {\"Age\": 52, \"EstimatedSalary\": 150000, \"male\": 1, \"Purchased\": 1}, {\"Age\": 53, \"EstimatedSalary\": 104000, \"male\": 0, \"Purchased\": 1}, {\"Age\": 25, \"EstimatedSalary\": 80000, \"male\": 1, \"Purchased\": 0}, {\"Age\": 26, \"EstimatedSalary\": 72000, \"male\": 0, \"Purchased\": 0}, {\"Age\": 26, \"EstimatedSalary\": 15000, \"male\": 0, \"Purchased\": 0}, {\"Age\": 40, \"EstimatedSalary\": 142000, \"male\": 0, \"Purchased\": 1}, {\"Age\": 35, \"EstimatedSalary\": 38000, \"male\": 1, \"Purchased\": 0}, {\"Age\": 57, \"EstimatedSalary\": 122000, \"male\": 0, \"Purchased\": 1}, {\"Age\": 41, \"EstimatedSalary\": 87000, \"male\": 1, \"Purchased\": 1}, {\"Age\": 24, \"EstimatedSalary\": 89000, \"male\": 0, \"Purchased\": 0}, {\"Age\": 37, \"EstimatedSalary\": 52000, \"male\": 1, \"Purchased\": 0}, {\"Age\": 35, \"EstimatedSalary\": 108000, \"male\": 1, \"Purchased\": 0}, {\"Age\": 32, \"EstimatedSalary\": 100000, \"male\": 1, \"Purchased\": 1}, {\"Age\": 35, \"EstimatedSalary\": 147000, \"male\": 0, \"Purchased\": 1}, {\"Age\": 19, \"EstimatedSalary\": 26000, \"male\": 0, \"Purchased\": 0}, {\"Age\": 46, \"EstimatedSalary\": 82000, \"male\": 0, \"Purchased\": 0}, {\"Age\": 47, \"EstimatedSalary\": 105000, \"male\": 1, \"Purchased\": 1}, {\"Age\": 45, \"EstimatedSalary\": 45000, \"male\": 0, \"Purchased\": 1}, {\"Age\": 38, \"EstimatedSalary\": 51000, \"male\": 1, \"Purchased\": 0}, {\"Age\": 37, \"EstimatedSalary\": 93000, \"male\": 0, \"Purchased\": 1}, {\"Age\": 29, \"EstimatedSalary\": 43000, \"male\": 1, \"Purchased\": 0}, {\"Age\": 41, \"EstimatedSalary\": 30000, \"male\": 0, \"Purchased\": 0}, {\"Age\": 40, \"EstimatedSalary\": 60000, \"male\": 0, \"Purchased\": 0}, {\"Age\": 27, \"EstimatedSalary\": 88000, \"male\": 1, \"Purchased\": 0}, {\"Age\": 27, \"EstimatedSalary\": 90000, \"male\": 1, \"Purchased\": 0}, {\"Age\": 39, \"EstimatedSalary\": 71000, \"male\": 0, \"Purchased\": 0}, {\"Age\": 23, \"EstimatedSalary\": 28000, \"male\": 0, \"Purchased\": 0}, {\"Age\": 51, \"EstimatedSalary\": 146000, \"male\": 0, \"Purchased\": 1}, {\"Age\": 23, \"EstimatedSalary\": 63000, \"male\": 1, \"Purchased\": 0}, {\"Age\": 37, \"EstimatedSalary\": 80000, \"male\": 0, \"Purchased\": 0}, {\"Age\": 40, \"EstimatedSalary\": 47000, \"male\": 1, \"Purchased\": 0}, {\"Age\": 48, \"EstimatedSalary\": 29000, \"male\": 0, \"Purchased\": 1}, {\"Age\": 35, \"EstimatedSalary\": 59000, \"male\": 1, \"Purchased\": 0}, {\"Age\": 26, \"EstimatedSalary\": 30000, \"male\": 1, \"Purchased\": 0}, {\"Age\": 39, \"EstimatedSalary\": 106000, \"male\": 1, \"Purchased\": 1}, {\"Age\": 28, \"EstimatedSalary\": 84000, \"male\": 0, \"Purchased\": 0}, {\"Age\": 59, \"EstimatedSalary\": 76000, \"male\": 0, \"Purchased\": 1}, {\"Age\": 40, \"EstimatedSalary\": 57000, \"male\": 1, \"Purchased\": 0}, {\"Age\": 35, \"EstimatedSalary\": 97000, \"male\": 0, \"Purchased\": 1}, {\"Age\": 26, \"EstimatedSalary\": 86000, \"male\": 1, \"Purchased\": 0}, {\"Age\": 41, \"EstimatedSalary\": 63000, \"male\": 0, \"Purchased\": 0}, {\"Age\": 29, \"EstimatedSalary\": 47000, \"male\": 0, \"Purchased\": 0}, {\"Age\": 26, \"EstimatedSalary\": 17000, \"male\": 0, \"Purchased\": 0}, {\"Age\": 58, \"EstimatedSalary\": 23000, \"male\": 0, \"Purchased\": 1}, {\"Age\": 30, \"EstimatedSalary\": 62000, \"male\": 0, \"Purchased\": 0}, {\"Age\": 25, \"EstimatedSalary\": 33000, \"male\": 1, \"Purchased\": 0}, {\"Age\": 59, \"EstimatedSalary\": 29000, \"male\": 0, \"Purchased\": 1}, {\"Age\": 28, \"EstimatedSalary\": 37000, \"male\": 0, \"Purchased\": 0}, {\"Age\": 39, \"EstimatedSalary\": 77000, \"male\": 1, \"Purchased\": 0}, {\"Age\": 47, \"EstimatedSalary\": 107000, \"male\": 0, \"Purchased\": 1}, {\"Age\": 52, \"EstimatedSalary\": 138000, \"male\": 0, \"Purchased\": 1}, {\"Age\": 29, \"EstimatedSalary\": 43000, \"male\": 1, \"Purchased\": 0}, {\"Age\": 27, \"EstimatedSalary\": 137000, \"male\": 0, \"Purchased\": 1}, {\"Age\": 24, \"EstimatedSalary\": 55000, \"male\": 0, \"Purchased\": 0}, {\"Age\": 40, \"EstimatedSalary\": 72000, \"male\": 0, \"Purchased\": 0}, {\"Age\": 21, \"EstimatedSalary\": 16000, \"male\": 0, \"Purchased\": 0}, {\"Age\": 57, \"EstimatedSalary\": 26000, \"male\": 0, \"Purchased\": 1}, {\"Age\": 30, \"EstimatedSalary\": 135000, \"male\": 1, \"Purchased\": 1}, {\"Age\": 48, \"EstimatedSalary\": 119000, \"male\": 0, \"Purchased\": 1}, {\"Age\": 40, \"EstimatedSalary\": 57000, \"male\": 1, \"Purchased\": 0}, {\"Age\": 35, \"EstimatedSalary\": 75000, \"male\": 1, \"Purchased\": 0}, {\"Age\": 28, \"EstimatedSalary\": 44000, \"male\": 0, \"Purchased\": 0}, {\"Age\": 37, \"EstimatedSalary\": 74000, \"male\": 1, \"Purchased\": 0}, {\"Age\": 35, \"EstimatedSalary\": 27000, \"male\": 1, \"Purchased\": 0}, {\"Age\": 37, \"EstimatedSalary\": 79000, \"male\": 1, \"Purchased\": 1}, {\"Age\": 32, \"EstimatedSalary\": 120000, \"male\": 1, \"Purchased\": 1}, {\"Age\": 29, \"EstimatedSalary\": 75000, \"male\": 1, \"Purchased\": 0}, {\"Age\": 30, \"EstimatedSalary\": 17000, \"male\": 1, \"Purchased\": 0}, {\"Age\": 25, \"EstimatedSalary\": 79000, \"male\": 1, \"Purchased\": 0}, {\"Age\": 40, \"EstimatedSalary\": 107000, \"male\": 1, \"Purchased\": 1}, {\"Age\": 24, \"EstimatedSalary\": 19000, \"male\": 1, \"Purchased\": 0}, {\"Age\": 41, \"EstimatedSalary\": 72000, \"male\": 0, \"Purchased\": 0}, {\"Age\": 38, \"EstimatedSalary\": 61000, \"male\": 1, \"Purchased\": 0}, {\"Age\": 36, \"EstimatedSalary\": 144000, \"male\": 1, \"Purchased\": 1}, {\"Age\": 42, \"EstimatedSalary\": 64000, \"male\": 1, \"Purchased\": 0}, {\"Age\": 48, \"EstimatedSalary\": 33000, \"male\": 1, \"Purchased\": 1}, {\"Age\": 48, \"EstimatedSalary\": 30000, \"male\": 0, \"Purchased\": 1}, {\"Age\": 23, \"EstimatedSalary\": 20000, \"male\": 1, \"Purchased\": 0}, {\"Age\": 55, \"EstimatedSalary\": 130000, \"male\": 0, \"Purchased\": 1}, {\"Age\": 29, \"EstimatedSalary\": 148000, \"male\": 1, \"Purchased\": 1}, {\"Age\": 42, \"EstimatedSalary\": 65000, \"male\": 1, \"Purchased\": 0}, {\"Age\": 27, \"EstimatedSalary\": 54000, \"male\": 0, \"Purchased\": 0}, {\"Age\": 37, \"EstimatedSalary\": 55000, \"male\": 1, \"Purchased\": 0}, {\"Age\": 25, \"EstimatedSalary\": 22000, \"male\": 1, \"Purchased\": 0}, {\"Age\": 59, \"EstimatedSalary\": 143000, \"male\": 1, \"Purchased\": 1}, {\"Age\": 42, \"EstimatedSalary\": 54000, \"male\": 1, \"Purchased\": 0}, {\"Age\": 27, \"EstimatedSalary\": 17000, \"male\": 0, \"Purchased\": 0}, {\"Age\": 47, \"EstimatedSalary\": 49000, \"male\": 0, \"Purchased\": 1}, {\"Age\": 28, \"EstimatedSalary\": 59000, \"male\": 1, \"Purchased\": 0}, {\"Age\": 33, \"EstimatedSalary\": 69000, \"male\": 0, \"Purchased\": 0}, {\"Age\": 31, \"EstimatedSalary\": 68000, \"male\": 0, \"Purchased\": 0}, {\"Age\": 35, \"EstimatedSalary\": 23000, \"male\": 0, \"Purchased\": 0}, {\"Age\": 35, \"EstimatedSalary\": 22000, \"male\": 1, \"Purchased\": 0}, {\"Age\": 57, \"EstimatedSalary\": 33000, \"male\": 0, \"Purchased\": 1}, {\"Age\": 30, \"EstimatedSalary\": 107000, \"male\": 1, \"Purchased\": 1}, {\"Age\": 46, \"EstimatedSalary\": 23000, \"male\": 1, \"Purchased\": 1}, {\"Age\": 41, \"EstimatedSalary\": 60000, \"male\": 0, \"Purchased\": 0}, {\"Age\": 33, \"EstimatedSalary\": 41000, \"male\": 0, \"Purchased\": 0}, {\"Age\": 33, \"EstimatedSalary\": 60000, \"male\": 0, \"Purchased\": 0}, {\"Age\": 47, \"EstimatedSalary\": 47000, \"male\": 0, \"Purchased\": 0}, {\"Age\": 28, \"EstimatedSalary\": 55000, \"male\": 0, \"Purchased\": 0}, {\"Age\": 45, \"EstimatedSalary\": 32000, \"male\": 1, \"Purchased\": 1}, {\"Age\": 35, \"EstimatedSalary\": 75000, \"male\": 1, \"Purchased\": 0}, {\"Age\": 59, \"EstimatedSalary\": 42000, \"male\": 0, \"Purchased\": 0}, {\"Age\": 47, \"EstimatedSalary\": 50000, \"male\": 0, \"Purchased\": 1}, {\"Age\": 47, \"EstimatedSalary\": 51000, \"male\": 0, \"Purchased\": 1}, {\"Age\": 35, \"EstimatedSalary\": 79000, \"male\": 1, \"Purchased\": 0}, {\"Age\": 39, \"EstimatedSalary\": 42000, \"male\": 1, \"Purchased\": 0}, {\"Age\": 40, \"EstimatedSalary\": 78000, \"male\": 1, \"Purchased\": 0}, {\"Age\": 23, \"EstimatedSalary\": 48000, \"male\": 0, \"Purchased\": 0}, {\"Age\": 39, \"EstimatedSalary\": 75000, \"male\": 0, \"Purchased\": 1}, {\"Age\": 35, \"EstimatedSalary\": 57000, \"male\": 0, \"Purchased\": 0}, {\"Age\": 55, \"EstimatedSalary\": 39000, \"male\": 1, \"Purchased\": 1}, {\"Age\": 31, \"EstimatedSalary\": 71000, \"male\": 0, \"Purchased\": 0}, {\"Age\": 28, \"EstimatedSalary\": 123000, \"male\": 1, \"Purchased\": 1}, {\"Age\": 42, \"EstimatedSalary\": 80000, \"male\": 1, \"Purchased\": 0}, {\"Age\": 40, \"EstimatedSalary\": 59000, \"male\": 1, \"Purchased\": 0}, {\"Age\": 48, \"EstimatedSalary\": 74000, \"male\": 1, \"Purchased\": 1}, {\"Age\": 21, \"EstimatedSalary\": 88000, \"male\": 1, \"Purchased\": 0}, {\"Age\": 53, \"EstimatedSalary\": 72000, \"male\": 1, \"Purchased\": 1}, {\"Age\": 27, \"EstimatedSalary\": 58000, \"male\": 0, \"Purchased\": 0}, {\"Age\": 35, \"EstimatedSalary\": 47000, \"male\": 0, \"Purchased\": 0}, {\"Age\": 28, \"EstimatedSalary\": 89000, \"male\": 1, \"Purchased\": 0}, {\"Age\": 26, \"EstimatedSalary\": 80000, \"male\": 1, \"Purchased\": 0}, {\"Age\": 32, \"EstimatedSalary\": 117000, \"male\": 0, \"Purchased\": 1}, {\"Age\": 42, \"EstimatedSalary\": 75000, \"male\": 0, \"Purchased\": 0}, {\"Age\": 33, \"EstimatedSalary\": 149000, \"male\": 0, \"Purchased\": 1}, {\"Age\": 41, \"EstimatedSalary\": 80000, \"male\": 0, \"Purchased\": 0}, {\"Age\": 31, \"EstimatedSalary\": 58000, \"male\": 1, \"Purchased\": 0}, {\"Age\": 39, \"EstimatedSalary\": 134000, \"male\": 1, \"Purchased\": 1}, {\"Age\": 27, \"EstimatedSalary\": 20000, \"male\": 1, \"Purchased\": 0}, {\"Age\": 29, \"EstimatedSalary\": 83000, \"male\": 0, \"Purchased\": 0}, {\"Age\": 19, \"EstimatedSalary\": 70000, \"male\": 1, \"Purchased\": 0}, {\"Age\": 19, \"EstimatedSalary\": 85000, \"male\": 1, \"Purchased\": 0}, {\"Age\": 29, \"EstimatedSalary\": 61000, \"male\": 1, \"Purchased\": 0}, {\"Age\": 39, \"EstimatedSalary\": 134000, \"male\": 0, \"Purchased\": 1}, {\"Age\": 31, \"EstimatedSalary\": 76000, \"male\": 1, \"Purchased\": 0}, {\"Age\": 41, \"EstimatedSalary\": 72000, \"male\": 1, \"Purchased\": 0}, {\"Age\": 26, \"EstimatedSalary\": 80000, \"male\": 0, \"Purchased\": 0}, {\"Age\": 40, \"EstimatedSalary\": 61000, \"male\": 1, \"Purchased\": 0}, {\"Age\": 35, \"EstimatedSalary\": 25000, \"male\": 0, \"Purchased\": 0}, {\"Age\": 48, \"EstimatedSalary\": 96000, \"male\": 0, \"Purchased\": 1}, {\"Age\": 42, \"EstimatedSalary\": 149000, \"male\": 1, \"Purchased\": 1}, {\"Age\": 28, \"EstimatedSalary\": 79000, \"male\": 1, \"Purchased\": 0}, {\"Age\": 51, \"EstimatedSalary\": 134000, \"male\": 0, \"Purchased\": 0}, {\"Age\": 33, \"EstimatedSalary\": 28000, \"male\": 0, \"Purchased\": 0}, {\"Age\": 42, \"EstimatedSalary\": 54000, \"male\": 1, \"Purchased\": 0}, {\"Age\": 45, \"EstimatedSalary\": 22000, \"male\": 1, \"Purchased\": 1}, {\"Age\": 37, \"EstimatedSalary\": 57000, \"male\": 0, \"Purchased\": 0}, {\"Age\": 34, \"EstimatedSalary\": 112000, \"male\": 1, \"Purchased\": 1}, {\"Age\": 35, \"EstimatedSalary\": 39000, \"male\": 1, \"Purchased\": 0}, {\"Age\": 22, \"EstimatedSalary\": 27000, \"male\": 0, \"Purchased\": 0}, {\"Age\": 35, \"EstimatedSalary\": 72000, \"male\": 0, \"Purchased\": 0}, {\"Age\": 39, \"EstimatedSalary\": 59000, \"male\": 0, \"Purchased\": 0}, {\"Age\": 20, \"EstimatedSalary\": 74000, \"male\": 1, \"Purchased\": 0}, {\"Age\": 46, \"EstimatedSalary\": 32000, \"male\": 0, \"Purchased\": 1}, {\"Age\": 26, \"EstimatedSalary\": 43000, \"male\": 0, \"Purchased\": 0}, {\"Age\": 29, \"EstimatedSalary\": 83000, \"male\": 0, \"Purchased\": 0}, {\"Age\": 55, \"EstimatedSalary\": 125000, \"male\": 0, \"Purchased\": 1}, {\"Age\": 37, \"EstimatedSalary\": 146000, \"male\": 0, \"Purchased\": 1}, {\"Age\": 45, \"EstimatedSalary\": 131000, \"male\": 0, \"Purchased\": 1}, {\"Age\": 33, \"EstimatedSalary\": 43000, \"male\": 1, \"Purchased\": 0}, {\"Age\": 41, \"EstimatedSalary\": 45000, \"male\": 1, \"Purchased\": 0}, {\"Age\": 42, \"EstimatedSalary\": 79000, \"male\": 0, \"Purchased\": 0}, {\"Age\": 37, \"EstimatedSalary\": 137000, \"male\": 0, \"Purchased\": 1}, {\"Age\": 24, \"EstimatedSalary\": 84000, \"male\": 1, \"Purchased\": 0}, {\"Age\": 32, \"EstimatedSalary\": 18000, \"male\": 1, \"Purchased\": 0}, {\"Age\": 56, \"EstimatedSalary\": 104000, \"male\": 0, \"Purchased\": 1}, {\"Age\": 49, \"EstimatedSalary\": 39000, \"male\": 0, \"Purchased\": 1}, {\"Age\": 28, \"EstimatedSalary\": 85000, \"male\": 0, \"Purchased\": 0}, {\"Age\": 53, \"EstimatedSalary\": 143000, \"male\": 0, \"Purchased\": 1}, {\"Age\": 30, \"EstimatedSalary\": 89000, \"male\": 1, \"Purchased\": 0}, {\"Age\": 57, \"EstimatedSalary\": 60000, \"male\": 1, \"Purchased\": 1}, {\"Age\": 40, \"EstimatedSalary\": 75000, \"male\": 1, \"Purchased\": 0}, {\"Age\": 41, \"EstimatedSalary\": 79000, \"male\": 1, \"Purchased\": 0}, {\"Age\": 20, \"EstimatedSalary\": 82000, \"male\": 0, \"Purchased\": 0}, {\"Age\": 22, \"EstimatedSalary\": 55000, \"male\": 0, \"Purchased\": 0}, {\"Age\": 35, \"EstimatedSalary\": 88000, \"male\": 1, \"Purchased\": 0}, {\"Age\": 54, \"EstimatedSalary\": 70000, \"male\": 1, \"Purchased\": 1}, {\"Age\": 31, \"EstimatedSalary\": 15000, \"male\": 0, \"Purchased\": 0}, {\"Age\": 50, \"EstimatedSalary\": 36000, \"male\": 0, \"Purchased\": 1}, {\"Age\": 42, \"EstimatedSalary\": 65000, \"male\": 1, \"Purchased\": 0}, {\"Age\": 34, \"EstimatedSalary\": 43000, \"male\": 1, \"Purchased\": 0}, {\"Age\": 42, \"EstimatedSalary\": 108000, \"male\": 0, \"Purchased\": 1}, {\"Age\": 54, \"EstimatedSalary\": 26000, \"male\": 0, \"Purchased\": 1}, {\"Age\": 19, \"EstimatedSalary\": 21000, \"male\": 0, \"Purchased\": 0}, {\"Age\": 36, \"EstimatedSalary\": 50000, \"male\": 0, \"Purchased\": 0}, {\"Age\": 37, \"EstimatedSalary\": 70000, \"male\": 1, \"Purchased\": 1}, {\"Age\": 36, \"EstimatedSalary\": 126000, \"male\": 0, \"Purchased\": 1}, {\"Age\": 47, \"EstimatedSalary\": 20000, \"male\": 1, \"Purchased\": 1}, {\"Age\": 30, \"EstimatedSalary\": 79000, \"male\": 0, \"Purchased\": 0}, {\"Age\": 59, \"EstimatedSalary\": 83000, \"male\": 0, \"Purchased\": 0}, {\"Age\": 29, \"EstimatedSalary\": 80000, \"male\": 1, \"Purchased\": 0}, {\"Age\": 43, \"EstimatedSalary\": 112000, \"male\": 0, \"Purchased\": 1}, {\"Age\": 38, \"EstimatedSalary\": 80000, \"male\": 0, \"Purchased\": 0}, {\"Age\": 58, \"EstimatedSalary\": 144000, \"male\": 1, \"Purchased\": 1}, {\"Age\": 36, \"EstimatedSalary\": 125000, \"male\": 1, \"Purchased\": 1}, {\"Age\": 49, \"EstimatedSalary\": 28000, \"male\": 1, \"Purchased\": 1}, {\"Age\": 18, \"EstimatedSalary\": 52000, \"male\": 1, \"Purchased\": 0}, {\"Age\": 30, \"EstimatedSalary\": 15000, \"male\": 1, \"Purchased\": 0}, {\"Age\": 59, \"EstimatedSalary\": 88000, \"male\": 0, \"Purchased\": 1}, {\"Age\": 27, \"EstimatedSalary\": 57000, \"male\": 0, \"Purchased\": 0}, {\"Age\": 38, \"EstimatedSalary\": 71000, \"male\": 1, \"Purchased\": 0}, {\"Age\": 31, \"EstimatedSalary\": 89000, \"male\": 0, \"Purchased\": 0}, {\"Age\": 47, \"EstimatedSalary\": 34000, \"male\": 1, \"Purchased\": 1}, {\"Age\": 31, \"EstimatedSalary\": 74000, \"male\": 1, \"Purchased\": 0}, {\"Age\": 37, \"EstimatedSalary\": 72000, \"male\": 1, \"Purchased\": 0}, {\"Age\": 40, \"EstimatedSalary\": 57000, \"male\": 1, \"Purchased\": 0}, {\"Age\": 59, \"EstimatedSalary\": 130000, \"male\": 1, \"Purchased\": 1}, {\"Age\": 49, \"EstimatedSalary\": 65000, \"male\": 1, \"Purchased\": 0}, {\"Age\": 48, \"EstimatedSalary\": 90000, \"male\": 1, \"Purchased\": 1}, {\"Age\": 46, \"EstimatedSalary\": 22000, \"male\": 0, \"Purchased\": 0}, {\"Age\": 54, \"EstimatedSalary\": 104000, \"male\": 0, \"Purchased\": 1}, {\"Age\": 35, \"EstimatedSalary\": 20000, \"male\": 1, \"Purchased\": 0}, {\"Age\": 49, \"EstimatedSalary\": 141000, \"male\": 0, \"Purchased\": 1}, {\"Age\": 48, \"EstimatedSalary\": 41000, \"male\": 1, \"Purchased\": 1}, {\"Age\": 35, \"EstimatedSalary\": 55000, \"male\": 1, \"Purchased\": 0}, {\"Age\": 36, \"EstimatedSalary\": 60000, \"male\": 1, \"Purchased\": 0}, {\"Age\": 32, \"EstimatedSalary\": 150000, \"male\": 0, \"Purchased\": 1}, {\"Age\": 18, \"EstimatedSalary\": 68000, \"male\": 0, \"Purchased\": 0}, {\"Age\": 24, \"EstimatedSalary\": 55000, \"male\": 1, \"Purchased\": 0}, {\"Age\": 42, \"EstimatedSalary\": 90000, \"male\": 0, \"Purchased\": 1}, {\"Age\": 38, \"EstimatedSalary\": 59000, \"male\": 1, \"Purchased\": 0}, {\"Age\": 60, \"EstimatedSalary\": 108000, \"male\": 0, \"Purchased\": 1}, {\"Age\": 22, \"EstimatedSalary\": 63000, \"male\": 0, \"Purchased\": 0}, {\"Age\": 24, \"EstimatedSalary\": 32000, \"male\": 0, \"Purchased\": 0}, {\"Age\": 46, \"EstimatedSalary\": 59000, \"male\": 1, \"Purchased\": 0}, {\"Age\": 48, \"EstimatedSalary\": 134000, \"male\": 0, \"Purchased\": 1}, {\"Age\": 41, \"EstimatedSalary\": 72000, \"male\": 0, \"Purchased\": 0}, {\"Age\": 50, \"EstimatedSalary\": 44000, \"male\": 0, \"Purchased\": 0}, {\"Age\": 38, \"EstimatedSalary\": 71000, \"male\": 1, \"Purchased\": 0}, {\"Age\": 24, \"EstimatedSalary\": 23000, \"male\": 1, \"Purchased\": 0}, {\"Age\": 35, \"EstimatedSalary\": 61000, \"male\": 1, \"Purchased\": 0}, {\"Age\": 37, \"EstimatedSalary\": 80000, \"male\": 0, \"Purchased\": 0}, {\"Age\": 24, \"EstimatedSalary\": 27000, \"male\": 0, \"Purchased\": 0}, {\"Age\": 26, \"EstimatedSalary\": 84000, \"male\": 0, \"Purchased\": 0}, {\"Age\": 34, \"EstimatedSalary\": 25000, \"male\": 0, \"Purchased\": 0}, {\"Age\": 36, \"EstimatedSalary\": 54000, \"male\": 0, \"Purchased\": 0}, {\"Age\": 21, \"EstimatedSalary\": 68000, \"male\": 0, \"Purchased\": 0}, {\"Age\": 41, \"EstimatedSalary\": 71000, \"male\": 0, \"Purchased\": 0}, {\"Age\": 60, \"EstimatedSalary\": 42000, \"male\": 1, \"Purchased\": 1}, {\"Age\": 52, \"EstimatedSalary\": 90000, \"male\": 0, \"Purchased\": 1}, {\"Age\": 20, \"EstimatedSalary\": 23000, \"male\": 0, \"Purchased\": 0}, {\"Age\": 51, \"EstimatedSalary\": 23000, \"male\": 1, \"Purchased\": 1}, {\"Age\": 46, \"EstimatedSalary\": 79000, \"male\": 1, \"Purchased\": 1}, {\"Age\": 30, \"EstimatedSalary\": 49000, \"male\": 1, \"Purchased\": 0}]}}, {\"mode\": \"vega-lite\"});\n",
       "</script>"
      ],
      "text/plain": [
       "alt.Chart(...)"
      ]
     },
     "execution_count": 102,
     "metadata": {},
     "output_type": "execute_result"
    }
   ],
   "source": [
    "alt.Chart(df_train).mark_area(\n",
    "    opacity=0.5,\n",
    "    interpolate='step'\n",
    ").encode(\n",
    "    alt.X(\"Age:Q\", bin=alt.Bin(maxbins=20)),\n",
    "    alt.Y('count()', stack = None),\n",
    "    alt.Color('Purchased:N'),\n",
    ").properties(width=300)"
   ]
  },
  {
   "cell_type": "markdown",
   "id": "956ee60a",
   "metadata": {},
   "source": [
    "Code for seaborn:"
   ]
  },
  {
   "cell_type": "code",
   "execution_count": 103,
   "id": "2d90bae4",
   "metadata": {},
   "outputs": [
    {
     "data": {
      "image/png": "[encoded data removed]",
      "text/plain": [
       "<Figure size 432x288 with 1 Axes>"
      ]
     },
     "metadata": {
      "needs_background": "light"
     },
     "output_type": "display_data"
    }
   ],
   "source": [
    "sns.histplot(hue=\"Purchased\", x='Age', data=df_train);"
   ]
  },
  {
   "cell_type": "markdown",
   "id": "90599d97",
   "metadata": {},
   "source": [
    "Purchasers seem to be _________ than non-purchaser."
   ]
  },
  {
   "cell_type": "code",
   "execution_count": 104,
   "id": "5f3b9334",
   "metadata": {},
   "outputs": [
    {
     "data": {
      "text/html": [
       "\n",
       "<div id=\"altair-viz-a6322431c379489cb62e00fd986530f1\"></div>\n",
       "<script type=\"text/javascript\">\n",
       "  var VEGA_DEBUG = (typeof VEGA_DEBUG == \"undefined\") ? {} : VEGA_DEBUG;\n",
       "  (function(spec, embedOpt){\n",
       "    let outputDiv = document.currentScript.previousElementSibling;\n",
       "    if (outputDiv.id !== \"altair-viz-a6322431c379489cb62e00fd986530f1\") {\n",
       "      outputDiv = document.getElementById(\"altair-viz-a6322431c379489cb62e00fd986530f1\");\n",
       "    }\n",
       "    const paths = {\n",
       "      \"vega\": \"https://cdn.jsdelivr.net/npm//vega@5?noext\",\n",
       "      \"vega-lib\": \"https://cdn.jsdelivr.net/npm//vega-lib?noext\",\n",
       "      \"vega-lite\": \"https://cdn.jsdelivr.net/npm//vega-lite@4.17.0?noext\",\n",
       "      \"vega-embed\": \"https://cdn.jsdelivr.net/npm//vega-embed@6?noext\",\n",
       "    };\n",
       "\n",
       "    function maybeLoadScript(lib, version) {\n",
       "      var key = `${lib.replace(\"-\", \"\")}_version`;\n",
       "      return (VEGA_DEBUG[key] == version) ?\n",
       "        Promise.resolve(paths[lib]) :\n",
       "        new Promise(function(resolve, reject) {\n",
       "          var s = document.createElement('script');\n",
       "          document.getElementsByTagName(\"head\")[0].appendChild(s);\n",
       "          s.async = true;\n",
       "          s.onload = () => {\n",
       "            VEGA_DEBUG[key] = version;\n",
       "            return resolve(paths[lib]);\n",
       "          };\n",
       "          s.onerror = () => reject(`Error loading script: ${paths[lib]}`);\n",
       "          s.src = paths[lib];\n",
       "        });\n",
       "    }\n",
       "\n",
       "    function showError(err) {\n",
       "      outputDiv.innerHTML = `<div class=\"error\" style=\"color:red;\">${err}</div>`;\n",
       "      throw err;\n",
       "    }\n",
       "\n",
       "    function displayChart(vegaEmbed) {\n",
       "      vegaEmbed(outputDiv, spec, embedOpt)\n",
       "        .catch(err => showError(`Javascript Error: ${err.message}<br>This usually means there's a typo in your chart specification. See the javascript console for the full traceback.`));\n",
       "    }\n",
       "\n",
       "    if(typeof define === \"function\" && define.amd) {\n",
       "      requirejs.config({paths});\n",
       "      require([\"vega-embed\"], displayChart, err => showError(`Error loading script: ${err.message}`));\n",
       "    } else {\n",
       "      maybeLoadScript(\"vega\", \"5\")\n",
       "        .then(() => maybeLoadScript(\"vega-lite\", \"4.17.0\"))\n",
       "        .then(() => maybeLoadScript(\"vega-embed\", \"6\"))\n",
       "        .catch(showError)\n",
       "        .then(() => displayChart(vegaEmbed));\n",
       "    }\n",
       "  })({\"config\": {\"view\": {\"continuousWidth\": 400, \"continuousHeight\": 300}}, \"data\": {\"name\": \"data-c8e5ce5ac5fe444e8ce0603795e89468\"}, \"mark\": {\"type\": \"boxplot\", \"opacity\": 0.7, \"size\": 50}, \"encoding\": {\"color\": {\"field\": \"Purchased\", \"type\": \"nominal\"}, \"x\": {\"field\": \"male\", \"type\": \"nominal\"}, \"y\": {\"field\": \"Age\", \"scale\": {\"zero\": true}, \"type\": \"quantitative\"}}, \"width\": 300, \"$schema\": \"https://vega.github.io/schema/vega-lite/v4.17.0.json\", \"datasets\": {\"data-c8e5ce5ac5fe444e8ce0603795e89468\": [{\"Age\": 27, \"EstimatedSalary\": 31000, \"male\": 0, \"Purchased\": 0}, {\"Age\": 35, \"EstimatedSalary\": 71000, \"male\": 0, \"Purchased\": 0}, {\"Age\": 49, \"EstimatedSalary\": 28000, \"male\": 1, \"Purchased\": 1}, {\"Age\": 35, \"EstimatedSalary\": 91000, \"male\": 1, \"Purchased\": 1}, {\"Age\": 37, \"EstimatedSalary\": 75000, \"male\": 1, \"Purchased\": 0}, {\"Age\": 32, \"EstimatedSalary\": 117000, \"male\": 0, \"Purchased\": 0}, {\"Age\": 36, \"EstimatedSalary\": 75000, \"male\": 0, \"Purchased\": 0}, {\"Age\": 20, \"EstimatedSalary\": 86000, \"male\": 1, \"Purchased\": 0}, {\"Age\": 38, \"EstimatedSalary\": 50000, \"male\": 0, \"Purchased\": 0}, {\"Age\": 49, \"EstimatedSalary\": 36000, \"male\": 0, \"Purchased\": 1}, {\"Age\": 40, \"EstimatedSalary\": 65000, \"male\": 1, \"Purchased\": 0}, {\"Age\": 37, \"EstimatedSalary\": 77000, \"male\": 1, \"Purchased\": 0}, {\"Age\": 60, \"EstimatedSalary\": 46000, \"male\": 0, \"Purchased\": 1}, {\"Age\": 48, \"EstimatedSalary\": 138000, \"male\": 0, \"Purchased\": 1}, {\"Age\": 40, \"EstimatedSalary\": 71000, \"male\": 1, \"Purchased\": 1}, {\"Age\": 36, \"EstimatedSalary\": 63000, \"male\": 0, \"Purchased\": 0}, {\"Age\": 26, \"EstimatedSalary\": 81000, \"male\": 1, \"Purchased\": 0}, {\"Age\": 33, \"EstimatedSalary\": 31000, \"male\": 1, \"Purchased\": 0}, {\"Age\": 41, \"EstimatedSalary\": 51000, \"male\": 0, \"Purchased\": 0}, {\"Age\": 46, \"EstimatedSalary\": 74000, \"male\": 0, \"Purchased\": 0}, {\"Age\": 18, \"EstimatedSalary\": 82000, \"male\": 1, \"Purchased\": 0}, {\"Age\": 37, \"EstimatedSalary\": 33000, \"male\": 0, \"Purchased\": 0}, {\"Age\": 35, \"EstimatedSalary\": 53000, \"male\": 1, \"Purchased\": 0}, {\"Age\": 28, \"EstimatedSalary\": 59000, \"male\": 0, \"Purchased\": 0}, {\"Age\": 37, \"EstimatedSalary\": 71000, \"male\": 0, \"Purchased\": 0}, {\"Age\": 18, \"EstimatedSalary\": 44000, \"male\": 0, \"Purchased\": 0}, {\"Age\": 38, \"EstimatedSalary\": 61000, \"male\": 1, \"Purchased\": 0}, {\"Age\": 35, \"EstimatedSalary\": 65000, \"male\": 0, \"Purchased\": 0}, {\"Age\": 31, \"EstimatedSalary\": 66000, \"male\": 1, \"Purchased\": 0}, {\"Age\": 47, \"EstimatedSalary\": 25000, \"male\": 1, \"Purchased\": 1}, {\"Age\": 42, \"EstimatedSalary\": 104000, \"male\": 1, \"Purchased\": 1}, {\"Age\": 19, \"EstimatedSalary\": 19000, \"male\": 1, \"Purchased\": 0}, {\"Age\": 21, \"EstimatedSalary\": 72000, \"male\": 1, \"Purchased\": 0}, {\"Age\": 28, \"EstimatedSalary\": 32000, \"male\": 1, \"Purchased\": 0}, {\"Age\": 52, \"EstimatedSalary\": 150000, \"male\": 1, \"Purchased\": 1}, {\"Age\": 53, \"EstimatedSalary\": 104000, \"male\": 0, \"Purchased\": 1}, {\"Age\": 25, \"EstimatedSalary\": 80000, \"male\": 1, \"Purchased\": 0}, {\"Age\": 26, \"EstimatedSalary\": 72000, \"male\": 0, \"Purchased\": 0}, {\"Age\": 26, \"EstimatedSalary\": 15000, \"male\": 0, \"Purchased\": 0}, {\"Age\": 40, \"EstimatedSalary\": 142000, \"male\": 0, \"Purchased\": 1}, {\"Age\": 35, \"EstimatedSalary\": 38000, \"male\": 1, \"Purchased\": 0}, {\"Age\": 57, \"EstimatedSalary\": 122000, \"male\": 0, \"Purchased\": 1}, {\"Age\": 41, \"EstimatedSalary\": 87000, \"male\": 1, \"Purchased\": 1}, {\"Age\": 24, \"EstimatedSalary\": 89000, \"male\": 0, \"Purchased\": 0}, {\"Age\": 37, \"EstimatedSalary\": 52000, \"male\": 1, \"Purchased\": 0}, {\"Age\": 35, \"EstimatedSalary\": 108000, \"male\": 1, \"Purchased\": 0}, {\"Age\": 32, \"EstimatedSalary\": 100000, \"male\": 1, \"Purchased\": 1}, {\"Age\": 35, \"EstimatedSalary\": 147000, \"male\": 0, \"Purchased\": 1}, {\"Age\": 19, \"EstimatedSalary\": 26000, \"male\": 0, \"Purchased\": 0}, {\"Age\": 46, \"EstimatedSalary\": 82000, \"male\": 0, \"Purchased\": 0}, {\"Age\": 47, \"EstimatedSalary\": 105000, \"male\": 1, \"Purchased\": 1}, {\"Age\": 45, \"EstimatedSalary\": 45000, \"male\": 0, \"Purchased\": 1}, {\"Age\": 38, \"EstimatedSalary\": 51000, \"male\": 1, \"Purchased\": 0}, {\"Age\": 37, \"EstimatedSalary\": 93000, \"male\": 0, \"Purchased\": 1}, {\"Age\": 29, \"EstimatedSalary\": 43000, \"male\": 1, \"Purchased\": 0}, {\"Age\": 41, \"EstimatedSalary\": 30000, \"male\": 0, \"Purchased\": 0}, {\"Age\": 40, \"EstimatedSalary\": 60000, \"male\": 0, \"Purchased\": 0}, {\"Age\": 27, \"EstimatedSalary\": 88000, \"male\": 1, \"Purchased\": 0}, {\"Age\": 27, \"EstimatedSalary\": 90000, \"male\": 1, \"Purchased\": 0}, {\"Age\": 39, \"EstimatedSalary\": 71000, \"male\": 0, \"Purchased\": 0}, {\"Age\": 23, \"EstimatedSalary\": 28000, \"male\": 0, \"Purchased\": 0}, {\"Age\": 51, \"EstimatedSalary\": 146000, \"male\": 0, \"Purchased\": 1}, {\"Age\": 23, \"EstimatedSalary\": 63000, \"male\": 1, \"Purchased\": 0}, {\"Age\": 37, \"EstimatedSalary\": 80000, \"male\": 0, \"Purchased\": 0}, {\"Age\": 40, \"EstimatedSalary\": 47000, \"male\": 1, \"Purchased\": 0}, {\"Age\": 48, \"EstimatedSalary\": 29000, \"male\": 0, \"Purchased\": 1}, {\"Age\": 35, \"EstimatedSalary\": 59000, \"male\": 1, \"Purchased\": 0}, {\"Age\": 26, \"EstimatedSalary\": 30000, \"male\": 1, \"Purchased\": 0}, {\"Age\": 39, \"EstimatedSalary\": 106000, \"male\": 1, \"Purchased\": 1}, {\"Age\": 28, \"EstimatedSalary\": 84000, \"male\": 0, \"Purchased\": 0}, {\"Age\": 59, \"EstimatedSalary\": 76000, \"male\": 0, \"Purchased\": 1}, {\"Age\": 40, \"EstimatedSalary\": 57000, \"male\": 1, \"Purchased\": 0}, {\"Age\": 35, \"EstimatedSalary\": 97000, \"male\": 0, \"Purchased\": 1}, {\"Age\": 26, \"EstimatedSalary\": 86000, \"male\": 1, \"Purchased\": 0}, {\"Age\": 41, \"EstimatedSalary\": 63000, \"male\": 0, \"Purchased\": 0}, {\"Age\": 29, \"EstimatedSalary\": 47000, \"male\": 0, \"Purchased\": 0}, {\"Age\": 26, \"EstimatedSalary\": 17000, \"male\": 0, \"Purchased\": 0}, {\"Age\": 58, \"EstimatedSalary\": 23000, \"male\": 0, \"Purchased\": 1}, {\"Age\": 30, \"EstimatedSalary\": 62000, \"male\": 0, \"Purchased\": 0}, {\"Age\": 25, \"EstimatedSalary\": 33000, \"male\": 1, \"Purchased\": 0}, {\"Age\": 59, \"EstimatedSalary\": 29000, \"male\": 0, \"Purchased\": 1}, {\"Age\": 28, \"EstimatedSalary\": 37000, \"male\": 0, \"Purchased\": 0}, {\"Age\": 39, \"EstimatedSalary\": 77000, \"male\": 1, \"Purchased\": 0}, {\"Age\": 47, \"EstimatedSalary\": 107000, \"male\": 0, \"Purchased\": 1}, {\"Age\": 52, \"EstimatedSalary\": 138000, \"male\": 0, \"Purchased\": 1}, {\"Age\": 29, \"EstimatedSalary\": 43000, \"male\": 1, \"Purchased\": 0}, {\"Age\": 27, \"EstimatedSalary\": 137000, \"male\": 0, \"Purchased\": 1}, {\"Age\": 24, \"EstimatedSalary\": 55000, \"male\": 0, \"Purchased\": 0}, {\"Age\": 40, \"EstimatedSalary\": 72000, \"male\": 0, \"Purchased\": 0}, {\"Age\": 21, \"EstimatedSalary\": 16000, \"male\": 0, \"Purchased\": 0}, {\"Age\": 57, \"EstimatedSalary\": 26000, \"male\": 0, \"Purchased\": 1}, {\"Age\": 30, \"EstimatedSalary\": 135000, \"male\": 1, \"Purchased\": 1}, {\"Age\": 48, \"EstimatedSalary\": 119000, \"male\": 0, \"Purchased\": 1}, {\"Age\": 40, \"EstimatedSalary\": 57000, \"male\": 1, \"Purchased\": 0}, {\"Age\": 35, \"EstimatedSalary\": 75000, \"male\": 1, \"Purchased\": 0}, {\"Age\": 28, \"EstimatedSalary\": 44000, \"male\": 0, \"Purchased\": 0}, {\"Age\": 37, \"EstimatedSalary\": 74000, \"male\": 1, \"Purchased\": 0}, {\"Age\": 35, \"EstimatedSalary\": 27000, \"male\": 1, \"Purchased\": 0}, {\"Age\": 37, \"EstimatedSalary\": 79000, \"male\": 1, \"Purchased\": 1}, {\"Age\": 32, \"EstimatedSalary\": 120000, \"male\": 1, \"Purchased\": 1}, {\"Age\": 29, \"EstimatedSalary\": 75000, \"male\": 1, \"Purchased\": 0}, {\"Age\": 30, \"EstimatedSalary\": 17000, \"male\": 1, \"Purchased\": 0}, {\"Age\": 25, \"EstimatedSalary\": 79000, \"male\": 1, \"Purchased\": 0}, {\"Age\": 40, \"EstimatedSalary\": 107000, \"male\": 1, \"Purchased\": 1}, {\"Age\": 24, \"EstimatedSalary\": 19000, \"male\": 1, \"Purchased\": 0}, {\"Age\": 41, \"EstimatedSalary\": 72000, \"male\": 0, \"Purchased\": 0}, {\"Age\": 38, \"EstimatedSalary\": 61000, \"male\": 1, \"Purchased\": 0}, {\"Age\": 36, \"EstimatedSalary\": 144000, \"male\": 1, \"Purchased\": 1}, {\"Age\": 42, \"EstimatedSalary\": 64000, \"male\": 1, \"Purchased\": 0}, {\"Age\": 48, \"EstimatedSalary\": 33000, \"male\": 1, \"Purchased\": 1}, {\"Age\": 48, \"EstimatedSalary\": 30000, \"male\": 0, \"Purchased\": 1}, {\"Age\": 23, \"EstimatedSalary\": 20000, \"male\": 1, \"Purchased\": 0}, {\"Age\": 55, \"EstimatedSalary\": 130000, \"male\": 0, \"Purchased\": 1}, {\"Age\": 29, \"EstimatedSalary\": 148000, \"male\": 1, \"Purchased\": 1}, {\"Age\": 42, \"EstimatedSalary\": 65000, \"male\": 1, \"Purchased\": 0}, {\"Age\": 27, \"EstimatedSalary\": 54000, \"male\": 0, \"Purchased\": 0}, {\"Age\": 37, \"EstimatedSalary\": 55000, \"male\": 1, \"Purchased\": 0}, {\"Age\": 25, \"EstimatedSalary\": 22000, \"male\": 1, \"Purchased\": 0}, {\"Age\": 59, \"EstimatedSalary\": 143000, \"male\": 1, \"Purchased\": 1}, {\"Age\": 42, \"EstimatedSalary\": 54000, \"male\": 1, \"Purchased\": 0}, {\"Age\": 27, \"EstimatedSalary\": 17000, \"male\": 0, \"Purchased\": 0}, {\"Age\": 47, \"EstimatedSalary\": 49000, \"male\": 0, \"Purchased\": 1}, {\"Age\": 28, \"EstimatedSalary\": 59000, \"male\": 1, \"Purchased\": 0}, {\"Age\": 33, \"EstimatedSalary\": 69000, \"male\": 0, \"Purchased\": 0}, {\"Age\": 31, \"EstimatedSalary\": 68000, \"male\": 0, \"Purchased\": 0}, {\"Age\": 35, \"EstimatedSalary\": 23000, \"male\": 0, \"Purchased\": 0}, {\"Age\": 35, \"EstimatedSalary\": 22000, \"male\": 1, \"Purchased\": 0}, {\"Age\": 57, \"EstimatedSalary\": 33000, \"male\": 0, \"Purchased\": 1}, {\"Age\": 30, \"EstimatedSalary\": 107000, \"male\": 1, \"Purchased\": 1}, {\"Age\": 46, \"EstimatedSalary\": 23000, \"male\": 1, \"Purchased\": 1}, {\"Age\": 41, \"EstimatedSalary\": 60000, \"male\": 0, \"Purchased\": 0}, {\"Age\": 33, \"EstimatedSalary\": 41000, \"male\": 0, \"Purchased\": 0}, {\"Age\": 33, \"EstimatedSalary\": 60000, \"male\": 0, \"Purchased\": 0}, {\"Age\": 47, \"EstimatedSalary\": 47000, \"male\": 0, \"Purchased\": 0}, {\"Age\": 28, \"EstimatedSalary\": 55000, \"male\": 0, \"Purchased\": 0}, {\"Age\": 45, \"EstimatedSalary\": 32000, \"male\": 1, \"Purchased\": 1}, {\"Age\": 35, \"EstimatedSalary\": 75000, \"male\": 1, \"Purchased\": 0}, {\"Age\": 59, \"EstimatedSalary\": 42000, \"male\": 0, \"Purchased\": 0}, {\"Age\": 47, \"EstimatedSalary\": 50000, \"male\": 0, \"Purchased\": 1}, {\"Age\": 47, \"EstimatedSalary\": 51000, \"male\": 0, \"Purchased\": 1}, {\"Age\": 35, \"EstimatedSalary\": 79000, \"male\": 1, \"Purchased\": 0}, {\"Age\": 39, \"EstimatedSalary\": 42000, \"male\": 1, \"Purchased\": 0}, {\"Age\": 40, \"EstimatedSalary\": 78000, \"male\": 1, \"Purchased\": 0}, {\"Age\": 23, \"EstimatedSalary\": 48000, \"male\": 0, \"Purchased\": 0}, {\"Age\": 39, \"EstimatedSalary\": 75000, \"male\": 0, \"Purchased\": 1}, {\"Age\": 35, \"EstimatedSalary\": 57000, \"male\": 0, \"Purchased\": 0}, {\"Age\": 55, \"EstimatedSalary\": 39000, \"male\": 1, \"Purchased\": 1}, {\"Age\": 31, \"EstimatedSalary\": 71000, \"male\": 0, \"Purchased\": 0}, {\"Age\": 28, \"EstimatedSalary\": 123000, \"male\": 1, \"Purchased\": 1}, {\"Age\": 42, \"EstimatedSalary\": 80000, \"male\": 1, \"Purchased\": 0}, {\"Age\": 40, \"EstimatedSalary\": 59000, \"male\": 1, \"Purchased\": 0}, {\"Age\": 48, \"EstimatedSalary\": 74000, \"male\": 1, \"Purchased\": 1}, {\"Age\": 21, \"EstimatedSalary\": 88000, \"male\": 1, \"Purchased\": 0}, {\"Age\": 53, \"EstimatedSalary\": 72000, \"male\": 1, \"Purchased\": 1}, {\"Age\": 27, \"EstimatedSalary\": 58000, \"male\": 0, \"Purchased\": 0}, {\"Age\": 35, \"EstimatedSalary\": 47000, \"male\": 0, \"Purchased\": 0}, {\"Age\": 28, \"EstimatedSalary\": 89000, \"male\": 1, \"Purchased\": 0}, {\"Age\": 26, \"EstimatedSalary\": 80000, \"male\": 1, \"Purchased\": 0}, {\"Age\": 32, \"EstimatedSalary\": 117000, \"male\": 0, \"Purchased\": 1}, {\"Age\": 42, \"EstimatedSalary\": 75000, \"male\": 0, \"Purchased\": 0}, {\"Age\": 33, \"EstimatedSalary\": 149000, \"male\": 0, \"Purchased\": 1}, {\"Age\": 41, \"EstimatedSalary\": 80000, \"male\": 0, \"Purchased\": 0}, {\"Age\": 31, \"EstimatedSalary\": 58000, \"male\": 1, \"Purchased\": 0}, {\"Age\": 39, \"EstimatedSalary\": 134000, \"male\": 1, \"Purchased\": 1}, {\"Age\": 27, \"EstimatedSalary\": 20000, \"male\": 1, \"Purchased\": 0}, {\"Age\": 29, \"EstimatedSalary\": 83000, \"male\": 0, \"Purchased\": 0}, {\"Age\": 19, \"EstimatedSalary\": 70000, \"male\": 1, \"Purchased\": 0}, {\"Age\": 19, \"EstimatedSalary\": 85000, \"male\": 1, \"Purchased\": 0}, {\"Age\": 29, \"EstimatedSalary\": 61000, \"male\": 1, \"Purchased\": 0}, {\"Age\": 39, \"EstimatedSalary\": 134000, \"male\": 0, \"Purchased\": 1}, {\"Age\": 31, \"EstimatedSalary\": 76000, \"male\": 1, \"Purchased\": 0}, {\"Age\": 41, \"EstimatedSalary\": 72000, \"male\": 1, \"Purchased\": 0}, {\"Age\": 26, \"EstimatedSalary\": 80000, \"male\": 0, \"Purchased\": 0}, {\"Age\": 40, \"EstimatedSalary\": 61000, \"male\": 1, \"Purchased\": 0}, {\"Age\": 35, \"EstimatedSalary\": 25000, \"male\": 0, \"Purchased\": 0}, {\"Age\": 48, \"EstimatedSalary\": 96000, \"male\": 0, \"Purchased\": 1}, {\"Age\": 42, \"EstimatedSalary\": 149000, \"male\": 1, \"Purchased\": 1}, {\"Age\": 28, \"EstimatedSalary\": 79000, \"male\": 1, \"Purchased\": 0}, {\"Age\": 51, \"EstimatedSalary\": 134000, \"male\": 0, \"Purchased\": 0}, {\"Age\": 33, \"EstimatedSalary\": 28000, \"male\": 0, \"Purchased\": 0}, {\"Age\": 42, \"EstimatedSalary\": 54000, \"male\": 1, \"Purchased\": 0}, {\"Age\": 45, \"EstimatedSalary\": 22000, \"male\": 1, \"Purchased\": 1}, {\"Age\": 37, \"EstimatedSalary\": 57000, \"male\": 0, \"Purchased\": 0}, {\"Age\": 34, \"EstimatedSalary\": 112000, \"male\": 1, \"Purchased\": 1}, {\"Age\": 35, \"EstimatedSalary\": 39000, \"male\": 1, \"Purchased\": 0}, {\"Age\": 22, \"EstimatedSalary\": 27000, \"male\": 0, \"Purchased\": 0}, {\"Age\": 35, \"EstimatedSalary\": 72000, \"male\": 0, \"Purchased\": 0}, {\"Age\": 39, \"EstimatedSalary\": 59000, \"male\": 0, \"Purchased\": 0}, {\"Age\": 20, \"EstimatedSalary\": 74000, \"male\": 1, \"Purchased\": 0}, {\"Age\": 46, \"EstimatedSalary\": 32000, \"male\": 0, \"Purchased\": 1}, {\"Age\": 26, \"EstimatedSalary\": 43000, \"male\": 0, \"Purchased\": 0}, {\"Age\": 29, \"EstimatedSalary\": 83000, \"male\": 0, \"Purchased\": 0}, {\"Age\": 55, \"EstimatedSalary\": 125000, \"male\": 0, \"Purchased\": 1}, {\"Age\": 37, \"EstimatedSalary\": 146000, \"male\": 0, \"Purchased\": 1}, {\"Age\": 45, \"EstimatedSalary\": 131000, \"male\": 0, \"Purchased\": 1}, {\"Age\": 33, \"EstimatedSalary\": 43000, \"male\": 1, \"Purchased\": 0}, {\"Age\": 41, \"EstimatedSalary\": 45000, \"male\": 1, \"Purchased\": 0}, {\"Age\": 42, \"EstimatedSalary\": 79000, \"male\": 0, \"Purchased\": 0}, {\"Age\": 37, \"EstimatedSalary\": 137000, \"male\": 0, \"Purchased\": 1}, {\"Age\": 24, \"EstimatedSalary\": 84000, \"male\": 1, \"Purchased\": 0}, {\"Age\": 32, \"EstimatedSalary\": 18000, \"male\": 1, \"Purchased\": 0}, {\"Age\": 56, \"EstimatedSalary\": 104000, \"male\": 0, \"Purchased\": 1}, {\"Age\": 49, \"EstimatedSalary\": 39000, \"male\": 0, \"Purchased\": 1}, {\"Age\": 28, \"EstimatedSalary\": 85000, \"male\": 0, \"Purchased\": 0}, {\"Age\": 53, \"EstimatedSalary\": 143000, \"male\": 0, \"Purchased\": 1}, {\"Age\": 30, \"EstimatedSalary\": 89000, \"male\": 1, \"Purchased\": 0}, {\"Age\": 57, \"EstimatedSalary\": 60000, \"male\": 1, \"Purchased\": 1}, {\"Age\": 40, \"EstimatedSalary\": 75000, \"male\": 1, \"Purchased\": 0}, {\"Age\": 41, \"EstimatedSalary\": 79000, \"male\": 1, \"Purchased\": 0}, {\"Age\": 20, \"EstimatedSalary\": 82000, \"male\": 0, \"Purchased\": 0}, {\"Age\": 22, \"EstimatedSalary\": 55000, \"male\": 0, \"Purchased\": 0}, {\"Age\": 35, \"EstimatedSalary\": 88000, \"male\": 1, \"Purchased\": 0}, {\"Age\": 54, \"EstimatedSalary\": 70000, \"male\": 1, \"Purchased\": 1}, {\"Age\": 31, \"EstimatedSalary\": 15000, \"male\": 0, \"Purchased\": 0}, {\"Age\": 50, \"EstimatedSalary\": 36000, \"male\": 0, \"Purchased\": 1}, {\"Age\": 42, \"EstimatedSalary\": 65000, \"male\": 1, \"Purchased\": 0}, {\"Age\": 34, \"EstimatedSalary\": 43000, \"male\": 1, \"Purchased\": 0}, {\"Age\": 42, \"EstimatedSalary\": 108000, \"male\": 0, \"Purchased\": 1}, {\"Age\": 54, \"EstimatedSalary\": 26000, \"male\": 0, \"Purchased\": 1}, {\"Age\": 19, \"EstimatedSalary\": 21000, \"male\": 0, \"Purchased\": 0}, {\"Age\": 36, \"EstimatedSalary\": 50000, \"male\": 0, \"Purchased\": 0}, {\"Age\": 37, \"EstimatedSalary\": 70000, \"male\": 1, \"Purchased\": 1}, {\"Age\": 36, \"EstimatedSalary\": 126000, \"male\": 0, \"Purchased\": 1}, {\"Age\": 47, \"EstimatedSalary\": 20000, \"male\": 1, \"Purchased\": 1}, {\"Age\": 30, \"EstimatedSalary\": 79000, \"male\": 0, \"Purchased\": 0}, {\"Age\": 59, \"EstimatedSalary\": 83000, \"male\": 0, \"Purchased\": 0}, {\"Age\": 29, \"EstimatedSalary\": 80000, \"male\": 1, \"Purchased\": 0}, {\"Age\": 43, \"EstimatedSalary\": 112000, \"male\": 0, \"Purchased\": 1}, {\"Age\": 38, \"EstimatedSalary\": 80000, \"male\": 0, \"Purchased\": 0}, {\"Age\": 58, \"EstimatedSalary\": 144000, \"male\": 1, \"Purchased\": 1}, {\"Age\": 36, \"EstimatedSalary\": 125000, \"male\": 1, \"Purchased\": 1}, {\"Age\": 49, \"EstimatedSalary\": 28000, \"male\": 1, \"Purchased\": 1}, {\"Age\": 18, \"EstimatedSalary\": 52000, \"male\": 1, \"Purchased\": 0}, {\"Age\": 30, \"EstimatedSalary\": 15000, \"male\": 1, \"Purchased\": 0}, {\"Age\": 59, \"EstimatedSalary\": 88000, \"male\": 0, \"Purchased\": 1}, {\"Age\": 27, \"EstimatedSalary\": 57000, \"male\": 0, \"Purchased\": 0}, {\"Age\": 38, \"EstimatedSalary\": 71000, \"male\": 1, \"Purchased\": 0}, {\"Age\": 31, \"EstimatedSalary\": 89000, \"male\": 0, \"Purchased\": 0}, {\"Age\": 47, \"EstimatedSalary\": 34000, \"male\": 1, \"Purchased\": 1}, {\"Age\": 31, \"EstimatedSalary\": 74000, \"male\": 1, \"Purchased\": 0}, {\"Age\": 37, \"EstimatedSalary\": 72000, \"male\": 1, \"Purchased\": 0}, {\"Age\": 40, \"EstimatedSalary\": 57000, \"male\": 1, \"Purchased\": 0}, {\"Age\": 59, \"EstimatedSalary\": 130000, \"male\": 1, \"Purchased\": 1}, {\"Age\": 49, \"EstimatedSalary\": 65000, \"male\": 1, \"Purchased\": 0}, {\"Age\": 48, \"EstimatedSalary\": 90000, \"male\": 1, \"Purchased\": 1}, {\"Age\": 46, \"EstimatedSalary\": 22000, \"male\": 0, \"Purchased\": 0}, {\"Age\": 54, \"EstimatedSalary\": 104000, \"male\": 0, \"Purchased\": 1}, {\"Age\": 35, \"EstimatedSalary\": 20000, \"male\": 1, \"Purchased\": 0}, {\"Age\": 49, \"EstimatedSalary\": 141000, \"male\": 0, \"Purchased\": 1}, {\"Age\": 48, \"EstimatedSalary\": 41000, \"male\": 1, \"Purchased\": 1}, {\"Age\": 35, \"EstimatedSalary\": 55000, \"male\": 1, \"Purchased\": 0}, {\"Age\": 36, \"EstimatedSalary\": 60000, \"male\": 1, \"Purchased\": 0}, {\"Age\": 32, \"EstimatedSalary\": 150000, \"male\": 0, \"Purchased\": 1}, {\"Age\": 18, \"EstimatedSalary\": 68000, \"male\": 0, \"Purchased\": 0}, {\"Age\": 24, \"EstimatedSalary\": 55000, \"male\": 1, \"Purchased\": 0}, {\"Age\": 42, \"EstimatedSalary\": 90000, \"male\": 0, \"Purchased\": 1}, {\"Age\": 38, \"EstimatedSalary\": 59000, \"male\": 1, \"Purchased\": 0}, {\"Age\": 60, \"EstimatedSalary\": 108000, \"male\": 0, \"Purchased\": 1}, {\"Age\": 22, \"EstimatedSalary\": 63000, \"male\": 0, \"Purchased\": 0}, {\"Age\": 24, \"EstimatedSalary\": 32000, \"male\": 0, \"Purchased\": 0}, {\"Age\": 46, \"EstimatedSalary\": 59000, \"male\": 1, \"Purchased\": 0}, {\"Age\": 48, \"EstimatedSalary\": 134000, \"male\": 0, \"Purchased\": 1}, {\"Age\": 41, \"EstimatedSalary\": 72000, \"male\": 0, \"Purchased\": 0}, {\"Age\": 50, \"EstimatedSalary\": 44000, \"male\": 0, \"Purchased\": 0}, {\"Age\": 38, \"EstimatedSalary\": 71000, \"male\": 1, \"Purchased\": 0}, {\"Age\": 24, \"EstimatedSalary\": 23000, \"male\": 1, \"Purchased\": 0}, {\"Age\": 35, \"EstimatedSalary\": 61000, \"male\": 1, \"Purchased\": 0}, {\"Age\": 37, \"EstimatedSalary\": 80000, \"male\": 0, \"Purchased\": 0}, {\"Age\": 24, \"EstimatedSalary\": 27000, \"male\": 0, \"Purchased\": 0}, {\"Age\": 26, \"EstimatedSalary\": 84000, \"male\": 0, \"Purchased\": 0}, {\"Age\": 34, \"EstimatedSalary\": 25000, \"male\": 0, \"Purchased\": 0}, {\"Age\": 36, \"EstimatedSalary\": 54000, \"male\": 0, \"Purchased\": 0}, {\"Age\": 21, \"EstimatedSalary\": 68000, \"male\": 0, \"Purchased\": 0}, {\"Age\": 41, \"EstimatedSalary\": 71000, \"male\": 0, \"Purchased\": 0}, {\"Age\": 60, \"EstimatedSalary\": 42000, \"male\": 1, \"Purchased\": 1}, {\"Age\": 52, \"EstimatedSalary\": 90000, \"male\": 0, \"Purchased\": 1}, {\"Age\": 20, \"EstimatedSalary\": 23000, \"male\": 0, \"Purchased\": 0}, {\"Age\": 51, \"EstimatedSalary\": 23000, \"male\": 1, \"Purchased\": 1}, {\"Age\": 46, \"EstimatedSalary\": 79000, \"male\": 1, \"Purchased\": 1}, {\"Age\": 30, \"EstimatedSalary\": 49000, \"male\": 1, \"Purchased\": 0}]}}, {\"mode\": \"vega-lite\"});\n",
       "</script>"
      ],
      "text/plain": [
       "alt.Chart(...)"
      ]
     },
     "execution_count": 104,
     "metadata": {},
     "output_type": "execute_result"
    }
   ],
   "source": [
    "alt.Chart(df_train).mark_boxplot(\n",
    "    size=50,\n",
    "    opacity=0.7\n",
    ").encode(\n",
    "    x='male:N',\n",
    "    y=alt.Y('Age:Q', scale=alt.Scale(zero=True)),  \n",
    "    color='Purchased:N'\n",
    ").properties(width=300)"
   ]
  },
  {
   "cell_type": "markdown",
   "id": "b666a122",
   "metadata": {},
   "source": [
    "Code for seaborn"
   ]
  },
  {
   "cell_type": "code",
   "execution_count": 105,
   "id": "97e597a5",
   "metadata": {},
   "outputs": [
    {
     "data": {
      "image/png": "[encoded data removed]",
      "text/plain": [
       "<Figure size 432x288 with 1 Axes>"
      ]
     },
     "metadata": {
      "needs_background": "light"
     },
     "output_type": "display_data"
    }
   ],
   "source": [
    "sns.boxplot(x=\"male\", y=\"Age\", hue=\"Purchased\", data=df_train);"
   ]
  },
  {
   "cell_type": "markdown",
   "id": "0d4312da",
   "metadata": {},
   "source": [
    "There are __________ differences regarding gender."
   ]
  },
  {
   "cell_type": "code",
   "execution_count": 106,
   "id": "41a84562",
   "metadata": {},
   "outputs": [
    {
     "data": {
      "text/html": [
       "\n",
       "<div id=\"altair-viz-7a5ef1d2b1a14a09980dfd21bab7488d\"></div>\n",
       "<script type=\"text/javascript\">\n",
       "  var VEGA_DEBUG = (typeof VEGA_DEBUG == \"undefined\") ? {} : VEGA_DEBUG;\n",
       "  (function(spec, embedOpt){\n",
       "    let outputDiv = document.currentScript.previousElementSibling;\n",
       "    if (outputDiv.id !== \"altair-viz-7a5ef1d2b1a14a09980dfd21bab7488d\") {\n",
       "      outputDiv = document.getElementById(\"altair-viz-7a5ef1d2b1a14a09980dfd21bab7488d\");\n",
       "    }\n",
       "    const paths = {\n",
       "      \"vega\": \"https://cdn.jsdelivr.net/npm//vega@5?noext\",\n",
       "      \"vega-lib\": \"https://cdn.jsdelivr.net/npm//vega-lib?noext\",\n",
       "      \"vega-lite\": \"https://cdn.jsdelivr.net/npm//vega-lite@4.17.0?noext\",\n",
       "      \"vega-embed\": \"https://cdn.jsdelivr.net/npm//vega-embed@6?noext\",\n",
       "    };\n",
       "\n",
       "    function maybeLoadScript(lib, version) {\n",
       "      var key = `${lib.replace(\"-\", \"\")}_version`;\n",
       "      return (VEGA_DEBUG[key] == version) ?\n",
       "        Promise.resolve(paths[lib]) :\n",
       "        new Promise(function(resolve, reject) {\n",
       "          var s = document.createElement('script');\n",
       "          document.getElementsByTagName(\"head\")[0].appendChild(s);\n",
       "          s.async = true;\n",
       "          s.onload = () => {\n",
       "            VEGA_DEBUG[key] = version;\n",
       "            return resolve(paths[lib]);\n",
       "          };\n",
       "          s.onerror = () => reject(`Error loading script: ${paths[lib]}`);\n",
       "          s.src = paths[lib];\n",
       "        });\n",
       "    }\n",
       "\n",
       "    function showError(err) {\n",
       "      outputDiv.innerHTML = `<div class=\"error\" style=\"color:red;\">${err}</div>`;\n",
       "      throw err;\n",
       "    }\n",
       "\n",
       "    function displayChart(vegaEmbed) {\n",
       "      vegaEmbed(outputDiv, spec, embedOpt)\n",
       "        .catch(err => showError(`Javascript Error: ${err.message}<br>This usually means there's a typo in your chart specification. See the javascript console for the full traceback.`));\n",
       "    }\n",
       "\n",
       "    if(typeof define === \"function\" && define.amd) {\n",
       "      requirejs.config({paths});\n",
       "      require([\"vega-embed\"], displayChart, err => showError(`Error loading script: ${err.message}`));\n",
       "    } else {\n",
       "      maybeLoadScript(\"vega\", \"5\")\n",
       "        .then(() => maybeLoadScript(\"vega-lite\", \"4.17.0\"))\n",
       "        .then(() => maybeLoadScript(\"vega-embed\", \"6\"))\n",
       "        .catch(showError)\n",
       "        .then(() => displayChart(vegaEmbed));\n",
       "    }\n",
       "  })({\"config\": {\"view\": {\"continuousWidth\": 400, \"continuousHeight\": 300}}, \"data\": {\"name\": \"data-c8e5ce5ac5fe444e8ce0603795e89468\"}, \"mark\": {\"type\": \"area\", \"interpolate\": \"step\", \"opacity\": 0.5}, \"encoding\": {\"color\": {\"field\": \"Purchased\", \"type\": \"nominal\"}, \"x\": {\"bin\": {\"maxbins\": 20}, \"field\": \"EstimatedSalary\", \"type\": \"quantitative\"}, \"y\": {\"aggregate\": \"count\", \"stack\": null, \"type\": \"quantitative\"}}, \"width\": 300, \"$schema\": \"https://vega.github.io/schema/vega-lite/v4.17.0.json\", \"datasets\": {\"data-c8e5ce5ac5fe444e8ce0603795e89468\": [{\"Age\": 27, \"EstimatedSalary\": 31000, \"male\": 0, \"Purchased\": 0}, {\"Age\": 35, \"EstimatedSalary\": 71000, \"male\": 0, \"Purchased\": 0}, {\"Age\": 49, \"EstimatedSalary\": 28000, \"male\": 1, \"Purchased\": 1}, {\"Age\": 35, \"EstimatedSalary\": 91000, \"male\": 1, \"Purchased\": 1}, {\"Age\": 37, \"EstimatedSalary\": 75000, \"male\": 1, \"Purchased\": 0}, {\"Age\": 32, \"EstimatedSalary\": 117000, \"male\": 0, \"Purchased\": 0}, {\"Age\": 36, \"EstimatedSalary\": 75000, \"male\": 0, \"Purchased\": 0}, {\"Age\": 20, \"EstimatedSalary\": 86000, \"male\": 1, \"Purchased\": 0}, {\"Age\": 38, \"EstimatedSalary\": 50000, \"male\": 0, \"Purchased\": 0}, {\"Age\": 49, \"EstimatedSalary\": 36000, \"male\": 0, \"Purchased\": 1}, {\"Age\": 40, \"EstimatedSalary\": 65000, \"male\": 1, \"Purchased\": 0}, {\"Age\": 37, \"EstimatedSalary\": 77000, \"male\": 1, \"Purchased\": 0}, {\"Age\": 60, \"EstimatedSalary\": 46000, \"male\": 0, \"Purchased\": 1}, {\"Age\": 48, \"EstimatedSalary\": 138000, \"male\": 0, \"Purchased\": 1}, {\"Age\": 40, \"EstimatedSalary\": 71000, \"male\": 1, \"Purchased\": 1}, {\"Age\": 36, \"EstimatedSalary\": 63000, \"male\": 0, \"Purchased\": 0}, {\"Age\": 26, \"EstimatedSalary\": 81000, \"male\": 1, \"Purchased\": 0}, {\"Age\": 33, \"EstimatedSalary\": 31000, \"male\": 1, \"Purchased\": 0}, {\"Age\": 41, \"EstimatedSalary\": 51000, \"male\": 0, \"Purchased\": 0}, {\"Age\": 46, \"EstimatedSalary\": 74000, \"male\": 0, \"Purchased\": 0}, {\"Age\": 18, \"EstimatedSalary\": 82000, \"male\": 1, \"Purchased\": 0}, {\"Age\": 37, \"EstimatedSalary\": 33000, \"male\": 0, \"Purchased\": 0}, {\"Age\": 35, \"EstimatedSalary\": 53000, \"male\": 1, \"Purchased\": 0}, {\"Age\": 28, \"EstimatedSalary\": 59000, \"male\": 0, \"Purchased\": 0}, {\"Age\": 37, \"EstimatedSalary\": 71000, \"male\": 0, \"Purchased\": 0}, {\"Age\": 18, \"EstimatedSalary\": 44000, \"male\": 0, \"Purchased\": 0}, {\"Age\": 38, \"EstimatedSalary\": 61000, \"male\": 1, \"Purchased\": 0}, {\"Age\": 35, \"EstimatedSalary\": 65000, \"male\": 0, \"Purchased\": 0}, {\"Age\": 31, \"EstimatedSalary\": 66000, \"male\": 1, \"Purchased\": 0}, {\"Age\": 47, \"EstimatedSalary\": 25000, \"male\": 1, \"Purchased\": 1}, {\"Age\": 42, \"EstimatedSalary\": 104000, \"male\": 1, \"Purchased\": 1}, {\"Age\": 19, \"EstimatedSalary\": 19000, \"male\": 1, \"Purchased\": 0}, {\"Age\": 21, \"EstimatedSalary\": 72000, \"male\": 1, \"Purchased\": 0}, {\"Age\": 28, \"EstimatedSalary\": 32000, \"male\": 1, \"Purchased\": 0}, {\"Age\": 52, \"EstimatedSalary\": 150000, \"male\": 1, \"Purchased\": 1}, {\"Age\": 53, \"EstimatedSalary\": 104000, \"male\": 0, \"Purchased\": 1}, {\"Age\": 25, \"EstimatedSalary\": 80000, \"male\": 1, \"Purchased\": 0}, {\"Age\": 26, \"EstimatedSalary\": 72000, \"male\": 0, \"Purchased\": 0}, {\"Age\": 26, \"EstimatedSalary\": 15000, \"male\": 0, \"Purchased\": 0}, {\"Age\": 40, \"EstimatedSalary\": 142000, \"male\": 0, \"Purchased\": 1}, {\"Age\": 35, \"EstimatedSalary\": 38000, \"male\": 1, \"Purchased\": 0}, {\"Age\": 57, \"EstimatedSalary\": 122000, \"male\": 0, \"Purchased\": 1}, {\"Age\": 41, \"EstimatedSalary\": 87000, \"male\": 1, \"Purchased\": 1}, {\"Age\": 24, \"EstimatedSalary\": 89000, \"male\": 0, \"Purchased\": 0}, {\"Age\": 37, \"EstimatedSalary\": 52000, \"male\": 1, \"Purchased\": 0}, {\"Age\": 35, \"EstimatedSalary\": 108000, \"male\": 1, \"Purchased\": 0}, {\"Age\": 32, \"EstimatedSalary\": 100000, \"male\": 1, \"Purchased\": 1}, {\"Age\": 35, \"EstimatedSalary\": 147000, \"male\": 0, \"Purchased\": 1}, {\"Age\": 19, \"EstimatedSalary\": 26000, \"male\": 0, \"Purchased\": 0}, {\"Age\": 46, \"EstimatedSalary\": 82000, \"male\": 0, \"Purchased\": 0}, {\"Age\": 47, \"EstimatedSalary\": 105000, \"male\": 1, \"Purchased\": 1}, {\"Age\": 45, \"EstimatedSalary\": 45000, \"male\": 0, \"Purchased\": 1}, {\"Age\": 38, \"EstimatedSalary\": 51000, \"male\": 1, \"Purchased\": 0}, {\"Age\": 37, \"EstimatedSalary\": 93000, \"male\": 0, \"Purchased\": 1}, {\"Age\": 29, \"EstimatedSalary\": 43000, \"male\": 1, \"Purchased\": 0}, {\"Age\": 41, \"EstimatedSalary\": 30000, \"male\": 0, \"Purchased\": 0}, {\"Age\": 40, \"EstimatedSalary\": 60000, \"male\": 0, \"Purchased\": 0}, {\"Age\": 27, \"EstimatedSalary\": 88000, \"male\": 1, \"Purchased\": 0}, {\"Age\": 27, \"EstimatedSalary\": 90000, \"male\": 1, \"Purchased\": 0}, {\"Age\": 39, \"EstimatedSalary\": 71000, \"male\": 0, \"Purchased\": 0}, {\"Age\": 23, \"EstimatedSalary\": 28000, \"male\": 0, \"Purchased\": 0}, {\"Age\": 51, \"EstimatedSalary\": 146000, \"male\": 0, \"Purchased\": 1}, {\"Age\": 23, \"EstimatedSalary\": 63000, \"male\": 1, \"Purchased\": 0}, {\"Age\": 37, \"EstimatedSalary\": 80000, \"male\": 0, \"Purchased\": 0}, {\"Age\": 40, \"EstimatedSalary\": 47000, \"male\": 1, \"Purchased\": 0}, {\"Age\": 48, \"EstimatedSalary\": 29000, \"male\": 0, \"Purchased\": 1}, {\"Age\": 35, \"EstimatedSalary\": 59000, \"male\": 1, \"Purchased\": 0}, {\"Age\": 26, \"EstimatedSalary\": 30000, \"male\": 1, \"Purchased\": 0}, {\"Age\": 39, \"EstimatedSalary\": 106000, \"male\": 1, \"Purchased\": 1}, {\"Age\": 28, \"EstimatedSalary\": 84000, \"male\": 0, \"Purchased\": 0}, {\"Age\": 59, \"EstimatedSalary\": 76000, \"male\": 0, \"Purchased\": 1}, {\"Age\": 40, \"EstimatedSalary\": 57000, \"male\": 1, \"Purchased\": 0}, {\"Age\": 35, \"EstimatedSalary\": 97000, \"male\": 0, \"Purchased\": 1}, {\"Age\": 26, \"EstimatedSalary\": 86000, \"male\": 1, \"Purchased\": 0}, {\"Age\": 41, \"EstimatedSalary\": 63000, \"male\": 0, \"Purchased\": 0}, {\"Age\": 29, \"EstimatedSalary\": 47000, \"male\": 0, \"Purchased\": 0}, {\"Age\": 26, \"EstimatedSalary\": 17000, \"male\": 0, \"Purchased\": 0}, {\"Age\": 58, \"EstimatedSalary\": 23000, \"male\": 0, \"Purchased\": 1}, {\"Age\": 30, \"EstimatedSalary\": 62000, \"male\": 0, \"Purchased\": 0}, {\"Age\": 25, \"EstimatedSalary\": 33000, \"male\": 1, \"Purchased\": 0}, {\"Age\": 59, \"EstimatedSalary\": 29000, \"male\": 0, \"Purchased\": 1}, {\"Age\": 28, \"EstimatedSalary\": 37000, \"male\": 0, \"Purchased\": 0}, {\"Age\": 39, \"EstimatedSalary\": 77000, \"male\": 1, \"Purchased\": 0}, {\"Age\": 47, \"EstimatedSalary\": 107000, \"male\": 0, \"Purchased\": 1}, {\"Age\": 52, \"EstimatedSalary\": 138000, \"male\": 0, \"Purchased\": 1}, {\"Age\": 29, \"EstimatedSalary\": 43000, \"male\": 1, \"Purchased\": 0}, {\"Age\": 27, \"EstimatedSalary\": 137000, \"male\": 0, \"Purchased\": 1}, {\"Age\": 24, \"EstimatedSalary\": 55000, \"male\": 0, \"Purchased\": 0}, {\"Age\": 40, \"EstimatedSalary\": 72000, \"male\": 0, \"Purchased\": 0}, {\"Age\": 21, \"EstimatedSalary\": 16000, \"male\": 0, \"Purchased\": 0}, {\"Age\": 57, \"EstimatedSalary\": 26000, \"male\": 0, \"Purchased\": 1}, {\"Age\": 30, \"EstimatedSalary\": 135000, \"male\": 1, \"Purchased\": 1}, {\"Age\": 48, \"EstimatedSalary\": 119000, \"male\": 0, \"Purchased\": 1}, {\"Age\": 40, \"EstimatedSalary\": 57000, \"male\": 1, \"Purchased\": 0}, {\"Age\": 35, \"EstimatedSalary\": 75000, \"male\": 1, \"Purchased\": 0}, {\"Age\": 28, \"EstimatedSalary\": 44000, \"male\": 0, \"Purchased\": 0}, {\"Age\": 37, \"EstimatedSalary\": 74000, \"male\": 1, \"Purchased\": 0}, {\"Age\": 35, \"EstimatedSalary\": 27000, \"male\": 1, \"Purchased\": 0}, {\"Age\": 37, \"EstimatedSalary\": 79000, \"male\": 1, \"Purchased\": 1}, {\"Age\": 32, \"EstimatedSalary\": 120000, \"male\": 1, \"Purchased\": 1}, {\"Age\": 29, \"EstimatedSalary\": 75000, \"male\": 1, \"Purchased\": 0}, {\"Age\": 30, \"EstimatedSalary\": 17000, \"male\": 1, \"Purchased\": 0}, {\"Age\": 25, \"EstimatedSalary\": 79000, \"male\": 1, \"Purchased\": 0}, {\"Age\": 40, \"EstimatedSalary\": 107000, \"male\": 1, \"Purchased\": 1}, {\"Age\": 24, \"EstimatedSalary\": 19000, \"male\": 1, \"Purchased\": 0}, {\"Age\": 41, \"EstimatedSalary\": 72000, \"male\": 0, \"Purchased\": 0}, {\"Age\": 38, \"EstimatedSalary\": 61000, \"male\": 1, \"Purchased\": 0}, {\"Age\": 36, \"EstimatedSalary\": 144000, \"male\": 1, \"Purchased\": 1}, {\"Age\": 42, \"EstimatedSalary\": 64000, \"male\": 1, \"Purchased\": 0}, {\"Age\": 48, \"EstimatedSalary\": 33000, \"male\": 1, \"Purchased\": 1}, {\"Age\": 48, \"EstimatedSalary\": 30000, \"male\": 0, \"Purchased\": 1}, {\"Age\": 23, \"EstimatedSalary\": 20000, \"male\": 1, \"Purchased\": 0}, {\"Age\": 55, \"EstimatedSalary\": 130000, \"male\": 0, \"Purchased\": 1}, {\"Age\": 29, \"EstimatedSalary\": 148000, \"male\": 1, \"Purchased\": 1}, {\"Age\": 42, \"EstimatedSalary\": 65000, \"male\": 1, \"Purchased\": 0}, {\"Age\": 27, \"EstimatedSalary\": 54000, \"male\": 0, \"Purchased\": 0}, {\"Age\": 37, \"EstimatedSalary\": 55000, \"male\": 1, \"Purchased\": 0}, {\"Age\": 25, \"EstimatedSalary\": 22000, \"male\": 1, \"Purchased\": 0}, {\"Age\": 59, \"EstimatedSalary\": 143000, \"male\": 1, \"Purchased\": 1}, {\"Age\": 42, \"EstimatedSalary\": 54000, \"male\": 1, \"Purchased\": 0}, {\"Age\": 27, \"EstimatedSalary\": 17000, \"male\": 0, \"Purchased\": 0}, {\"Age\": 47, \"EstimatedSalary\": 49000, \"male\": 0, \"Purchased\": 1}, {\"Age\": 28, \"EstimatedSalary\": 59000, \"male\": 1, \"Purchased\": 0}, {\"Age\": 33, \"EstimatedSalary\": 69000, \"male\": 0, \"Purchased\": 0}, {\"Age\": 31, \"EstimatedSalary\": 68000, \"male\": 0, \"Purchased\": 0}, {\"Age\": 35, \"EstimatedSalary\": 23000, \"male\": 0, \"Purchased\": 0}, {\"Age\": 35, \"EstimatedSalary\": 22000, \"male\": 1, \"Purchased\": 0}, {\"Age\": 57, \"EstimatedSalary\": 33000, \"male\": 0, \"Purchased\": 1}, {\"Age\": 30, \"EstimatedSalary\": 107000, \"male\": 1, \"Purchased\": 1}, {\"Age\": 46, \"EstimatedSalary\": 23000, \"male\": 1, \"Purchased\": 1}, {\"Age\": 41, \"EstimatedSalary\": 60000, \"male\": 0, \"Purchased\": 0}, {\"Age\": 33, \"EstimatedSalary\": 41000, \"male\": 0, \"Purchased\": 0}, {\"Age\": 33, \"EstimatedSalary\": 60000, \"male\": 0, \"Purchased\": 0}, {\"Age\": 47, \"EstimatedSalary\": 47000, \"male\": 0, \"Purchased\": 0}, {\"Age\": 28, \"EstimatedSalary\": 55000, \"male\": 0, \"Purchased\": 0}, {\"Age\": 45, \"EstimatedSalary\": 32000, \"male\": 1, \"Purchased\": 1}, {\"Age\": 35, \"EstimatedSalary\": 75000, \"male\": 1, \"Purchased\": 0}, {\"Age\": 59, \"EstimatedSalary\": 42000, \"male\": 0, \"Purchased\": 0}, {\"Age\": 47, \"EstimatedSalary\": 50000, \"male\": 0, \"Purchased\": 1}, {\"Age\": 47, \"EstimatedSalary\": 51000, \"male\": 0, \"Purchased\": 1}, {\"Age\": 35, \"EstimatedSalary\": 79000, \"male\": 1, \"Purchased\": 0}, {\"Age\": 39, \"EstimatedSalary\": 42000, \"male\": 1, \"Purchased\": 0}, {\"Age\": 40, \"EstimatedSalary\": 78000, \"male\": 1, \"Purchased\": 0}, {\"Age\": 23, \"EstimatedSalary\": 48000, \"male\": 0, \"Purchased\": 0}, {\"Age\": 39, \"EstimatedSalary\": 75000, \"male\": 0, \"Purchased\": 1}, {\"Age\": 35, \"EstimatedSalary\": 57000, \"male\": 0, \"Purchased\": 0}, {\"Age\": 55, \"EstimatedSalary\": 39000, \"male\": 1, \"Purchased\": 1}, {\"Age\": 31, \"EstimatedSalary\": 71000, \"male\": 0, \"Purchased\": 0}, {\"Age\": 28, \"EstimatedSalary\": 123000, \"male\": 1, \"Purchased\": 1}, {\"Age\": 42, \"EstimatedSalary\": 80000, \"male\": 1, \"Purchased\": 0}, {\"Age\": 40, \"EstimatedSalary\": 59000, \"male\": 1, \"Purchased\": 0}, {\"Age\": 48, \"EstimatedSalary\": 74000, \"male\": 1, \"Purchased\": 1}, {\"Age\": 21, \"EstimatedSalary\": 88000, \"male\": 1, \"Purchased\": 0}, {\"Age\": 53, \"EstimatedSalary\": 72000, \"male\": 1, \"Purchased\": 1}, {\"Age\": 27, \"EstimatedSalary\": 58000, \"male\": 0, \"Purchased\": 0}, {\"Age\": 35, \"EstimatedSalary\": 47000, \"male\": 0, \"Purchased\": 0}, {\"Age\": 28, \"EstimatedSalary\": 89000, \"male\": 1, \"Purchased\": 0}, {\"Age\": 26, \"EstimatedSalary\": 80000, \"male\": 1, \"Purchased\": 0}, {\"Age\": 32, \"EstimatedSalary\": 117000, \"male\": 0, \"Purchased\": 1}, {\"Age\": 42, \"EstimatedSalary\": 75000, \"male\": 0, \"Purchased\": 0}, {\"Age\": 33, \"EstimatedSalary\": 149000, \"male\": 0, \"Purchased\": 1}, {\"Age\": 41, \"EstimatedSalary\": 80000, \"male\": 0, \"Purchased\": 0}, {\"Age\": 31, \"EstimatedSalary\": 58000, \"male\": 1, \"Purchased\": 0}, {\"Age\": 39, \"EstimatedSalary\": 134000, \"male\": 1, \"Purchased\": 1}, {\"Age\": 27, \"EstimatedSalary\": 20000, \"male\": 1, \"Purchased\": 0}, {\"Age\": 29, \"EstimatedSalary\": 83000, \"male\": 0, \"Purchased\": 0}, {\"Age\": 19, \"EstimatedSalary\": 70000, \"male\": 1, \"Purchased\": 0}, {\"Age\": 19, \"EstimatedSalary\": 85000, \"male\": 1, \"Purchased\": 0}, {\"Age\": 29, \"EstimatedSalary\": 61000, \"male\": 1, \"Purchased\": 0}, {\"Age\": 39, \"EstimatedSalary\": 134000, \"male\": 0, \"Purchased\": 1}, {\"Age\": 31, \"EstimatedSalary\": 76000, \"male\": 1, \"Purchased\": 0}, {\"Age\": 41, \"EstimatedSalary\": 72000, \"male\": 1, \"Purchased\": 0}, {\"Age\": 26, \"EstimatedSalary\": 80000, \"male\": 0, \"Purchased\": 0}, {\"Age\": 40, \"EstimatedSalary\": 61000, \"male\": 1, \"Purchased\": 0}, {\"Age\": 35, \"EstimatedSalary\": 25000, \"male\": 0, \"Purchased\": 0}, {\"Age\": 48, \"EstimatedSalary\": 96000, \"male\": 0, \"Purchased\": 1}, {\"Age\": 42, \"EstimatedSalary\": 149000, \"male\": 1, \"Purchased\": 1}, {\"Age\": 28, \"EstimatedSalary\": 79000, \"male\": 1, \"Purchased\": 0}, {\"Age\": 51, \"EstimatedSalary\": 134000, \"male\": 0, \"Purchased\": 0}, {\"Age\": 33, \"EstimatedSalary\": 28000, \"male\": 0, \"Purchased\": 0}, {\"Age\": 42, \"EstimatedSalary\": 54000, \"male\": 1, \"Purchased\": 0}, {\"Age\": 45, \"EstimatedSalary\": 22000, \"male\": 1, \"Purchased\": 1}, {\"Age\": 37, \"EstimatedSalary\": 57000, \"male\": 0, \"Purchased\": 0}, {\"Age\": 34, \"EstimatedSalary\": 112000, \"male\": 1, \"Purchased\": 1}, {\"Age\": 35, \"EstimatedSalary\": 39000, \"male\": 1, \"Purchased\": 0}, {\"Age\": 22, \"EstimatedSalary\": 27000, \"male\": 0, \"Purchased\": 0}, {\"Age\": 35, \"EstimatedSalary\": 72000, \"male\": 0, \"Purchased\": 0}, {\"Age\": 39, \"EstimatedSalary\": 59000, \"male\": 0, \"Purchased\": 0}, {\"Age\": 20, \"EstimatedSalary\": 74000, \"male\": 1, \"Purchased\": 0}, {\"Age\": 46, \"EstimatedSalary\": 32000, \"male\": 0, \"Purchased\": 1}, {\"Age\": 26, \"EstimatedSalary\": 43000, \"male\": 0, \"Purchased\": 0}, {\"Age\": 29, \"EstimatedSalary\": 83000, \"male\": 0, \"Purchased\": 0}, {\"Age\": 55, \"EstimatedSalary\": 125000, \"male\": 0, \"Purchased\": 1}, {\"Age\": 37, \"EstimatedSalary\": 146000, \"male\": 0, \"Purchased\": 1}, {\"Age\": 45, \"EstimatedSalary\": 131000, \"male\": 0, \"Purchased\": 1}, {\"Age\": 33, \"EstimatedSalary\": 43000, \"male\": 1, \"Purchased\": 0}, {\"Age\": 41, \"EstimatedSalary\": 45000, \"male\": 1, \"Purchased\": 0}, {\"Age\": 42, \"EstimatedSalary\": 79000, \"male\": 0, \"Purchased\": 0}, {\"Age\": 37, \"EstimatedSalary\": 137000, \"male\": 0, \"Purchased\": 1}, {\"Age\": 24, \"EstimatedSalary\": 84000, \"male\": 1, \"Purchased\": 0}, {\"Age\": 32, \"EstimatedSalary\": 18000, \"male\": 1, \"Purchased\": 0}, {\"Age\": 56, \"EstimatedSalary\": 104000, \"male\": 0, \"Purchased\": 1}, {\"Age\": 49, \"EstimatedSalary\": 39000, \"male\": 0, \"Purchased\": 1}, {\"Age\": 28, \"EstimatedSalary\": 85000, \"male\": 0, \"Purchased\": 0}, {\"Age\": 53, \"EstimatedSalary\": 143000, \"male\": 0, \"Purchased\": 1}, {\"Age\": 30, \"EstimatedSalary\": 89000, \"male\": 1, \"Purchased\": 0}, {\"Age\": 57, \"EstimatedSalary\": 60000, \"male\": 1, \"Purchased\": 1}, {\"Age\": 40, \"EstimatedSalary\": 75000, \"male\": 1, \"Purchased\": 0}, {\"Age\": 41, \"EstimatedSalary\": 79000, \"male\": 1, \"Purchased\": 0}, {\"Age\": 20, \"EstimatedSalary\": 82000, \"male\": 0, \"Purchased\": 0}, {\"Age\": 22, \"EstimatedSalary\": 55000, \"male\": 0, \"Purchased\": 0}, {\"Age\": 35, \"EstimatedSalary\": 88000, \"male\": 1, \"Purchased\": 0}, {\"Age\": 54, \"EstimatedSalary\": 70000, \"male\": 1, \"Purchased\": 1}, {\"Age\": 31, \"EstimatedSalary\": 15000, \"male\": 0, \"Purchased\": 0}, {\"Age\": 50, \"EstimatedSalary\": 36000, \"male\": 0, \"Purchased\": 1}, {\"Age\": 42, \"EstimatedSalary\": 65000, \"male\": 1, \"Purchased\": 0}, {\"Age\": 34, \"EstimatedSalary\": 43000, \"male\": 1, \"Purchased\": 0}, {\"Age\": 42, \"EstimatedSalary\": 108000, \"male\": 0, \"Purchased\": 1}, {\"Age\": 54, \"EstimatedSalary\": 26000, \"male\": 0, \"Purchased\": 1}, {\"Age\": 19, \"EstimatedSalary\": 21000, \"male\": 0, \"Purchased\": 0}, {\"Age\": 36, \"EstimatedSalary\": 50000, \"male\": 0, \"Purchased\": 0}, {\"Age\": 37, \"EstimatedSalary\": 70000, \"male\": 1, \"Purchased\": 1}, {\"Age\": 36, \"EstimatedSalary\": 126000, \"male\": 0, \"Purchased\": 1}, {\"Age\": 47, \"EstimatedSalary\": 20000, \"male\": 1, \"Purchased\": 1}, {\"Age\": 30, \"EstimatedSalary\": 79000, \"male\": 0, \"Purchased\": 0}, {\"Age\": 59, \"EstimatedSalary\": 83000, \"male\": 0, \"Purchased\": 0}, {\"Age\": 29, \"EstimatedSalary\": 80000, \"male\": 1, \"Purchased\": 0}, {\"Age\": 43, \"EstimatedSalary\": 112000, \"male\": 0, \"Purchased\": 1}, {\"Age\": 38, \"EstimatedSalary\": 80000, \"male\": 0, \"Purchased\": 0}, {\"Age\": 58, \"EstimatedSalary\": 144000, \"male\": 1, \"Purchased\": 1}, {\"Age\": 36, \"EstimatedSalary\": 125000, \"male\": 1, \"Purchased\": 1}, {\"Age\": 49, \"EstimatedSalary\": 28000, \"male\": 1, \"Purchased\": 1}, {\"Age\": 18, \"EstimatedSalary\": 52000, \"male\": 1, \"Purchased\": 0}, {\"Age\": 30, \"EstimatedSalary\": 15000, \"male\": 1, \"Purchased\": 0}, {\"Age\": 59, \"EstimatedSalary\": 88000, \"male\": 0, \"Purchased\": 1}, {\"Age\": 27, \"EstimatedSalary\": 57000, \"male\": 0, \"Purchased\": 0}, {\"Age\": 38, \"EstimatedSalary\": 71000, \"male\": 1, \"Purchased\": 0}, {\"Age\": 31, \"EstimatedSalary\": 89000, \"male\": 0, \"Purchased\": 0}, {\"Age\": 47, \"EstimatedSalary\": 34000, \"male\": 1, \"Purchased\": 1}, {\"Age\": 31, \"EstimatedSalary\": 74000, \"male\": 1, \"Purchased\": 0}, {\"Age\": 37, \"EstimatedSalary\": 72000, \"male\": 1, \"Purchased\": 0}, {\"Age\": 40, \"EstimatedSalary\": 57000, \"male\": 1, \"Purchased\": 0}, {\"Age\": 59, \"EstimatedSalary\": 130000, \"male\": 1, \"Purchased\": 1}, {\"Age\": 49, \"EstimatedSalary\": 65000, \"male\": 1, \"Purchased\": 0}, {\"Age\": 48, \"EstimatedSalary\": 90000, \"male\": 1, \"Purchased\": 1}, {\"Age\": 46, \"EstimatedSalary\": 22000, \"male\": 0, \"Purchased\": 0}, {\"Age\": 54, \"EstimatedSalary\": 104000, \"male\": 0, \"Purchased\": 1}, {\"Age\": 35, \"EstimatedSalary\": 20000, \"male\": 1, \"Purchased\": 0}, {\"Age\": 49, \"EstimatedSalary\": 141000, \"male\": 0, \"Purchased\": 1}, {\"Age\": 48, \"EstimatedSalary\": 41000, \"male\": 1, \"Purchased\": 1}, {\"Age\": 35, \"EstimatedSalary\": 55000, \"male\": 1, \"Purchased\": 0}, {\"Age\": 36, \"EstimatedSalary\": 60000, \"male\": 1, \"Purchased\": 0}, {\"Age\": 32, \"EstimatedSalary\": 150000, \"male\": 0, \"Purchased\": 1}, {\"Age\": 18, \"EstimatedSalary\": 68000, \"male\": 0, \"Purchased\": 0}, {\"Age\": 24, \"EstimatedSalary\": 55000, \"male\": 1, \"Purchased\": 0}, {\"Age\": 42, \"EstimatedSalary\": 90000, \"male\": 0, \"Purchased\": 1}, {\"Age\": 38, \"EstimatedSalary\": 59000, \"male\": 1, \"Purchased\": 0}, {\"Age\": 60, \"EstimatedSalary\": 108000, \"male\": 0, \"Purchased\": 1}, {\"Age\": 22, \"EstimatedSalary\": 63000, \"male\": 0, \"Purchased\": 0}, {\"Age\": 24, \"EstimatedSalary\": 32000, \"male\": 0, \"Purchased\": 0}, {\"Age\": 46, \"EstimatedSalary\": 59000, \"male\": 1, \"Purchased\": 0}, {\"Age\": 48, \"EstimatedSalary\": 134000, \"male\": 0, \"Purchased\": 1}, {\"Age\": 41, \"EstimatedSalary\": 72000, \"male\": 0, \"Purchased\": 0}, {\"Age\": 50, \"EstimatedSalary\": 44000, \"male\": 0, \"Purchased\": 0}, {\"Age\": 38, \"EstimatedSalary\": 71000, \"male\": 1, \"Purchased\": 0}, {\"Age\": 24, \"EstimatedSalary\": 23000, \"male\": 1, \"Purchased\": 0}, {\"Age\": 35, \"EstimatedSalary\": 61000, \"male\": 1, \"Purchased\": 0}, {\"Age\": 37, \"EstimatedSalary\": 80000, \"male\": 0, \"Purchased\": 0}, {\"Age\": 24, \"EstimatedSalary\": 27000, \"male\": 0, \"Purchased\": 0}, {\"Age\": 26, \"EstimatedSalary\": 84000, \"male\": 0, \"Purchased\": 0}, {\"Age\": 34, \"EstimatedSalary\": 25000, \"male\": 0, \"Purchased\": 0}, {\"Age\": 36, \"EstimatedSalary\": 54000, \"male\": 0, \"Purchased\": 0}, {\"Age\": 21, \"EstimatedSalary\": 68000, \"male\": 0, \"Purchased\": 0}, {\"Age\": 41, \"EstimatedSalary\": 71000, \"male\": 0, \"Purchased\": 0}, {\"Age\": 60, \"EstimatedSalary\": 42000, \"male\": 1, \"Purchased\": 1}, {\"Age\": 52, \"EstimatedSalary\": 90000, \"male\": 0, \"Purchased\": 1}, {\"Age\": 20, \"EstimatedSalary\": 23000, \"male\": 0, \"Purchased\": 0}, {\"Age\": 51, \"EstimatedSalary\": 23000, \"male\": 1, \"Purchased\": 1}, {\"Age\": 46, \"EstimatedSalary\": 79000, \"male\": 1, \"Purchased\": 1}, {\"Age\": 30, \"EstimatedSalary\": 49000, \"male\": 1, \"Purchased\": 0}]}}, {\"mode\": \"vega-lite\"});\n",
       "</script>"
      ],
      "text/plain": [
       "alt.Chart(...)"
      ]
     },
     "execution_count": 106,
     "metadata": {},
     "output_type": "execute_result"
    }
   ],
   "source": [
    "alt.Chart(df_train).mark_area(\n",
    "    opacity=0.5,\n",
    "    interpolate='step'\n",
    ").encode(\n",
    "    alt.X(\"EstimatedSalary:Q\", bin=alt.Bin(maxbins=20)),\n",
    "    alt.Y('count()', stack = None),\n",
    "    alt.Color('Purchased:N'),\n",
    ").properties(width=300)"
   ]
  },
  {
   "cell_type": "markdown",
   "id": "11026125",
   "metadata": {},
   "source": [
    "Code for seaborn"
   ]
  },
  {
   "cell_type": "code",
   "execution_count": 107,
   "id": "b4e2e885",
   "metadata": {},
   "outputs": [
    {
     "data": {
      "image/png": "[encoded data removed]",
      "text/plain": [
       "<Figure size 432x288 with 1 Axes>"
      ]
     },
     "metadata": {
      "needs_background": "light"
     },
     "output_type": "display_data"
    }
   ],
   "source": [
    "sns.histplot(hue=\"Purchased\", x='EstimatedSalary', data=df_train); "
   ]
  },
  {
   "cell_type": "markdown",
   "id": "6eafa358",
   "metadata": {},
   "source": [
    "Purchaser earn a ______________ estimated salary."
   ]
  },
  {
   "cell_type": "code",
   "execution_count": 108,
   "id": "a8c2dd57",
   "metadata": {},
   "outputs": [
    {
     "data": {
      "text/html": [
       "\n",
       "<div id=\"altair-viz-cade14745cf147819db4516cafad37bf\"></div>\n",
       "<script type=\"text/javascript\">\n",
       "  var VEGA_DEBUG = (typeof VEGA_DEBUG == \"undefined\") ? {} : VEGA_DEBUG;\n",
       "  (function(spec, embedOpt){\n",
       "    let outputDiv = document.currentScript.previousElementSibling;\n",
       "    if (outputDiv.id !== \"altair-viz-cade14745cf147819db4516cafad37bf\") {\n",
       "      outputDiv = document.getElementById(\"altair-viz-cade14745cf147819db4516cafad37bf\");\n",
       "    }\n",
       "    const paths = {\n",
       "      \"vega\": \"https://cdn.jsdelivr.net/npm//vega@5?noext\",\n",
       "      \"vega-lib\": \"https://cdn.jsdelivr.net/npm//vega-lib?noext\",\n",
       "      \"vega-lite\": \"https://cdn.jsdelivr.net/npm//vega-lite@4.17.0?noext\",\n",
       "      \"vega-embed\": \"https://cdn.jsdelivr.net/npm//vega-embed@6?noext\",\n",
       "    };\n",
       "\n",
       "    function maybeLoadScript(lib, version) {\n",
       "      var key = `${lib.replace(\"-\", \"\")}_version`;\n",
       "      return (VEGA_DEBUG[key] == version) ?\n",
       "        Promise.resolve(paths[lib]) :\n",
       "        new Promise(function(resolve, reject) {\n",
       "          var s = document.createElement('script');\n",
       "          document.getElementsByTagName(\"head\")[0].appendChild(s);\n",
       "          s.async = true;\n",
       "          s.onload = () => {\n",
       "            VEGA_DEBUG[key] = version;\n",
       "            return resolve(paths[lib]);\n",
       "          };\n",
       "          s.onerror = () => reject(`Error loading script: ${paths[lib]}`);\n",
       "          s.src = paths[lib];\n",
       "        });\n",
       "    }\n",
       "\n",
       "    function showError(err) {\n",
       "      outputDiv.innerHTML = `<div class=\"error\" style=\"color:red;\">${err}</div>`;\n",
       "      throw err;\n",
       "    }\n",
       "\n",
       "    function displayChart(vegaEmbed) {\n",
       "      vegaEmbed(outputDiv, spec, embedOpt)\n",
       "        .catch(err => showError(`Javascript Error: ${err.message}<br>This usually means there's a typo in your chart specification. See the javascript console for the full traceback.`));\n",
       "    }\n",
       "\n",
       "    if(typeof define === \"function\" && define.amd) {\n",
       "      requirejs.config({paths});\n",
       "      require([\"vega-embed\"], displayChart, err => showError(`Error loading script: ${err.message}`));\n",
       "    } else {\n",
       "      maybeLoadScript(\"vega\", \"5\")\n",
       "        .then(() => maybeLoadScript(\"vega-lite\", \"4.17.0\"))\n",
       "        .then(() => maybeLoadScript(\"vega-embed\", \"6\"))\n",
       "        .catch(showError)\n",
       "        .then(() => displayChart(vegaEmbed));\n",
       "    }\n",
       "  })({\"config\": {\"view\": {\"continuousWidth\": 400, \"continuousHeight\": 300}}, \"data\": {\"name\": \"data-c8e5ce5ac5fe444e8ce0603795e89468\"}, \"mark\": {\"type\": \"boxplot\", \"opacity\": 0.7, \"size\": 50}, \"encoding\": {\"color\": {\"field\": \"Purchased\", \"type\": \"nominal\"}, \"x\": {\"field\": \"male\", \"type\": \"nominal\"}, \"y\": {\"field\": \"EstimatedSalary\", \"scale\": {\"zero\": true}, \"type\": \"quantitative\"}}, \"width\": 300, \"$schema\": \"https://vega.github.io/schema/vega-lite/v4.17.0.json\", \"datasets\": {\"data-c8e5ce5ac5fe444e8ce0603795e89468\": [{\"Age\": 27, \"EstimatedSalary\": 31000, \"male\": 0, \"Purchased\": 0}, {\"Age\": 35, \"EstimatedSalary\": 71000, \"male\": 0, \"Purchased\": 0}, {\"Age\": 49, \"EstimatedSalary\": 28000, \"male\": 1, \"Purchased\": 1}, {\"Age\": 35, \"EstimatedSalary\": 91000, \"male\": 1, \"Purchased\": 1}, {\"Age\": 37, \"EstimatedSalary\": 75000, \"male\": 1, \"Purchased\": 0}, {\"Age\": 32, \"EstimatedSalary\": 117000, \"male\": 0, \"Purchased\": 0}, {\"Age\": 36, \"EstimatedSalary\": 75000, \"male\": 0, \"Purchased\": 0}, {\"Age\": 20, \"EstimatedSalary\": 86000, \"male\": 1, \"Purchased\": 0}, {\"Age\": 38, \"EstimatedSalary\": 50000, \"male\": 0, \"Purchased\": 0}, {\"Age\": 49, \"EstimatedSalary\": 36000, \"male\": 0, \"Purchased\": 1}, {\"Age\": 40, \"EstimatedSalary\": 65000, \"male\": 1, \"Purchased\": 0}, {\"Age\": 37, \"EstimatedSalary\": 77000, \"male\": 1, \"Purchased\": 0}, {\"Age\": 60, \"EstimatedSalary\": 46000, \"male\": 0, \"Purchased\": 1}, {\"Age\": 48, \"EstimatedSalary\": 138000, \"male\": 0, \"Purchased\": 1}, {\"Age\": 40, \"EstimatedSalary\": 71000, \"male\": 1, \"Purchased\": 1}, {\"Age\": 36, \"EstimatedSalary\": 63000, \"male\": 0, \"Purchased\": 0}, {\"Age\": 26, \"EstimatedSalary\": 81000, \"male\": 1, \"Purchased\": 0}, {\"Age\": 33, \"EstimatedSalary\": 31000, \"male\": 1, \"Purchased\": 0}, {\"Age\": 41, \"EstimatedSalary\": 51000, \"male\": 0, \"Purchased\": 0}, {\"Age\": 46, \"EstimatedSalary\": 74000, \"male\": 0, \"Purchased\": 0}, {\"Age\": 18, \"EstimatedSalary\": 82000, \"male\": 1, \"Purchased\": 0}, {\"Age\": 37, \"EstimatedSalary\": 33000, \"male\": 0, \"Purchased\": 0}, {\"Age\": 35, \"EstimatedSalary\": 53000, \"male\": 1, \"Purchased\": 0}, {\"Age\": 28, \"EstimatedSalary\": 59000, \"male\": 0, \"Purchased\": 0}, {\"Age\": 37, \"EstimatedSalary\": 71000, \"male\": 0, \"Purchased\": 0}, {\"Age\": 18, \"EstimatedSalary\": 44000, \"male\": 0, \"Purchased\": 0}, {\"Age\": 38, \"EstimatedSalary\": 61000, \"male\": 1, \"Purchased\": 0}, {\"Age\": 35, \"EstimatedSalary\": 65000, \"male\": 0, \"Purchased\": 0}, {\"Age\": 31, \"EstimatedSalary\": 66000, \"male\": 1, \"Purchased\": 0}, {\"Age\": 47, \"EstimatedSalary\": 25000, \"male\": 1, \"Purchased\": 1}, {\"Age\": 42, \"EstimatedSalary\": 104000, \"male\": 1, \"Purchased\": 1}, {\"Age\": 19, \"EstimatedSalary\": 19000, \"male\": 1, \"Purchased\": 0}, {\"Age\": 21, \"EstimatedSalary\": 72000, \"male\": 1, \"Purchased\": 0}, {\"Age\": 28, \"EstimatedSalary\": 32000, \"male\": 1, \"Purchased\": 0}, {\"Age\": 52, \"EstimatedSalary\": 150000, \"male\": 1, \"Purchased\": 1}, {\"Age\": 53, \"EstimatedSalary\": 104000, \"male\": 0, \"Purchased\": 1}, {\"Age\": 25, \"EstimatedSalary\": 80000, \"male\": 1, \"Purchased\": 0}, {\"Age\": 26, \"EstimatedSalary\": 72000, \"male\": 0, \"Purchased\": 0}, {\"Age\": 26, \"EstimatedSalary\": 15000, \"male\": 0, \"Purchased\": 0}, {\"Age\": 40, \"EstimatedSalary\": 142000, \"male\": 0, \"Purchased\": 1}, {\"Age\": 35, \"EstimatedSalary\": 38000, \"male\": 1, \"Purchased\": 0}, {\"Age\": 57, \"EstimatedSalary\": 122000, \"male\": 0, \"Purchased\": 1}, {\"Age\": 41, \"EstimatedSalary\": 87000, \"male\": 1, \"Purchased\": 1}, {\"Age\": 24, \"EstimatedSalary\": 89000, \"male\": 0, \"Purchased\": 0}, {\"Age\": 37, \"EstimatedSalary\": 52000, \"male\": 1, \"Purchased\": 0}, {\"Age\": 35, \"EstimatedSalary\": 108000, \"male\": 1, \"Purchased\": 0}, {\"Age\": 32, \"EstimatedSalary\": 100000, \"male\": 1, \"Purchased\": 1}, {\"Age\": 35, \"EstimatedSalary\": 147000, \"male\": 0, \"Purchased\": 1}, {\"Age\": 19, \"EstimatedSalary\": 26000, \"male\": 0, \"Purchased\": 0}, {\"Age\": 46, \"EstimatedSalary\": 82000, \"male\": 0, \"Purchased\": 0}, {\"Age\": 47, \"EstimatedSalary\": 105000, \"male\": 1, \"Purchased\": 1}, {\"Age\": 45, \"EstimatedSalary\": 45000, \"male\": 0, \"Purchased\": 1}, {\"Age\": 38, \"EstimatedSalary\": 51000, \"male\": 1, \"Purchased\": 0}, {\"Age\": 37, \"EstimatedSalary\": 93000, \"male\": 0, \"Purchased\": 1}, {\"Age\": 29, \"EstimatedSalary\": 43000, \"male\": 1, \"Purchased\": 0}, {\"Age\": 41, \"EstimatedSalary\": 30000, \"male\": 0, \"Purchased\": 0}, {\"Age\": 40, \"EstimatedSalary\": 60000, \"male\": 0, \"Purchased\": 0}, {\"Age\": 27, \"EstimatedSalary\": 88000, \"male\": 1, \"Purchased\": 0}, {\"Age\": 27, \"EstimatedSalary\": 90000, \"male\": 1, \"Purchased\": 0}, {\"Age\": 39, \"EstimatedSalary\": 71000, \"male\": 0, \"Purchased\": 0}, {\"Age\": 23, \"EstimatedSalary\": 28000, \"male\": 0, \"Purchased\": 0}, {\"Age\": 51, \"EstimatedSalary\": 146000, \"male\": 0, \"Purchased\": 1}, {\"Age\": 23, \"EstimatedSalary\": 63000, \"male\": 1, \"Purchased\": 0}, {\"Age\": 37, \"EstimatedSalary\": 80000, \"male\": 0, \"Purchased\": 0}, {\"Age\": 40, \"EstimatedSalary\": 47000, \"male\": 1, \"Purchased\": 0}, {\"Age\": 48, \"EstimatedSalary\": 29000, \"male\": 0, \"Purchased\": 1}, {\"Age\": 35, \"EstimatedSalary\": 59000, \"male\": 1, \"Purchased\": 0}, {\"Age\": 26, \"EstimatedSalary\": 30000, \"male\": 1, \"Purchased\": 0}, {\"Age\": 39, \"EstimatedSalary\": 106000, \"male\": 1, \"Purchased\": 1}, {\"Age\": 28, \"EstimatedSalary\": 84000, \"male\": 0, \"Purchased\": 0}, {\"Age\": 59, \"EstimatedSalary\": 76000, \"male\": 0, \"Purchased\": 1}, {\"Age\": 40, \"EstimatedSalary\": 57000, \"male\": 1, \"Purchased\": 0}, {\"Age\": 35, \"EstimatedSalary\": 97000, \"male\": 0, \"Purchased\": 1}, {\"Age\": 26, \"EstimatedSalary\": 86000, \"male\": 1, \"Purchased\": 0}, {\"Age\": 41, \"EstimatedSalary\": 63000, \"male\": 0, \"Purchased\": 0}, {\"Age\": 29, \"EstimatedSalary\": 47000, \"male\": 0, \"Purchased\": 0}, {\"Age\": 26, \"EstimatedSalary\": 17000, \"male\": 0, \"Purchased\": 0}, {\"Age\": 58, \"EstimatedSalary\": 23000, \"male\": 0, \"Purchased\": 1}, {\"Age\": 30, \"EstimatedSalary\": 62000, \"male\": 0, \"Purchased\": 0}, {\"Age\": 25, \"EstimatedSalary\": 33000, \"male\": 1, \"Purchased\": 0}, {\"Age\": 59, \"EstimatedSalary\": 29000, \"male\": 0, \"Purchased\": 1}, {\"Age\": 28, \"EstimatedSalary\": 37000, \"male\": 0, \"Purchased\": 0}, {\"Age\": 39, \"EstimatedSalary\": 77000, \"male\": 1, \"Purchased\": 0}, {\"Age\": 47, \"EstimatedSalary\": 107000, \"male\": 0, \"Purchased\": 1}, {\"Age\": 52, \"EstimatedSalary\": 138000, \"male\": 0, \"Purchased\": 1}, {\"Age\": 29, \"EstimatedSalary\": 43000, \"male\": 1, \"Purchased\": 0}, {\"Age\": 27, \"EstimatedSalary\": 137000, \"male\": 0, \"Purchased\": 1}, {\"Age\": 24, \"EstimatedSalary\": 55000, \"male\": 0, \"Purchased\": 0}, {\"Age\": 40, \"EstimatedSalary\": 72000, \"male\": 0, \"Purchased\": 0}, {\"Age\": 21, \"EstimatedSalary\": 16000, \"male\": 0, \"Purchased\": 0}, {\"Age\": 57, \"EstimatedSalary\": 26000, \"male\": 0, \"Purchased\": 1}, {\"Age\": 30, \"EstimatedSalary\": 135000, \"male\": 1, \"Purchased\": 1}, {\"Age\": 48, \"EstimatedSalary\": 119000, \"male\": 0, \"Purchased\": 1}, {\"Age\": 40, \"EstimatedSalary\": 57000, \"male\": 1, \"Purchased\": 0}, {\"Age\": 35, \"EstimatedSalary\": 75000, \"male\": 1, \"Purchased\": 0}, {\"Age\": 28, \"EstimatedSalary\": 44000, \"male\": 0, \"Purchased\": 0}, {\"Age\": 37, \"EstimatedSalary\": 74000, \"male\": 1, \"Purchased\": 0}, {\"Age\": 35, \"EstimatedSalary\": 27000, \"male\": 1, \"Purchased\": 0}, {\"Age\": 37, \"EstimatedSalary\": 79000, \"male\": 1, \"Purchased\": 1}, {\"Age\": 32, \"EstimatedSalary\": 120000, \"male\": 1, \"Purchased\": 1}, {\"Age\": 29, \"EstimatedSalary\": 75000, \"male\": 1, \"Purchased\": 0}, {\"Age\": 30, \"EstimatedSalary\": 17000, \"male\": 1, \"Purchased\": 0}, {\"Age\": 25, \"EstimatedSalary\": 79000, \"male\": 1, \"Purchased\": 0}, {\"Age\": 40, \"EstimatedSalary\": 107000, \"male\": 1, \"Purchased\": 1}, {\"Age\": 24, \"EstimatedSalary\": 19000, \"male\": 1, \"Purchased\": 0}, {\"Age\": 41, \"EstimatedSalary\": 72000, \"male\": 0, \"Purchased\": 0}, {\"Age\": 38, \"EstimatedSalary\": 61000, \"male\": 1, \"Purchased\": 0}, {\"Age\": 36, \"EstimatedSalary\": 144000, \"male\": 1, \"Purchased\": 1}, {\"Age\": 42, \"EstimatedSalary\": 64000, \"male\": 1, \"Purchased\": 0}, {\"Age\": 48, \"EstimatedSalary\": 33000, \"male\": 1, \"Purchased\": 1}, {\"Age\": 48, \"EstimatedSalary\": 30000, \"male\": 0, \"Purchased\": 1}, {\"Age\": 23, \"EstimatedSalary\": 20000, \"male\": 1, \"Purchased\": 0}, {\"Age\": 55, \"EstimatedSalary\": 130000, \"male\": 0, \"Purchased\": 1}, {\"Age\": 29, \"EstimatedSalary\": 148000, \"male\": 1, \"Purchased\": 1}, {\"Age\": 42, \"EstimatedSalary\": 65000, \"male\": 1, \"Purchased\": 0}, {\"Age\": 27, \"EstimatedSalary\": 54000, \"male\": 0, \"Purchased\": 0}, {\"Age\": 37, \"EstimatedSalary\": 55000, \"male\": 1, \"Purchased\": 0}, {\"Age\": 25, \"EstimatedSalary\": 22000, \"male\": 1, \"Purchased\": 0}, {\"Age\": 59, \"EstimatedSalary\": 143000, \"male\": 1, \"Purchased\": 1}, {\"Age\": 42, \"EstimatedSalary\": 54000, \"male\": 1, \"Purchased\": 0}, {\"Age\": 27, \"EstimatedSalary\": 17000, \"male\": 0, \"Purchased\": 0}, {\"Age\": 47, \"EstimatedSalary\": 49000, \"male\": 0, \"Purchased\": 1}, {\"Age\": 28, \"EstimatedSalary\": 59000, \"male\": 1, \"Purchased\": 0}, {\"Age\": 33, \"EstimatedSalary\": 69000, \"male\": 0, \"Purchased\": 0}, {\"Age\": 31, \"EstimatedSalary\": 68000, \"male\": 0, \"Purchased\": 0}, {\"Age\": 35, \"EstimatedSalary\": 23000, \"male\": 0, \"Purchased\": 0}, {\"Age\": 35, \"EstimatedSalary\": 22000, \"male\": 1, \"Purchased\": 0}, {\"Age\": 57, \"EstimatedSalary\": 33000, \"male\": 0, \"Purchased\": 1}, {\"Age\": 30, \"EstimatedSalary\": 107000, \"male\": 1, \"Purchased\": 1}, {\"Age\": 46, \"EstimatedSalary\": 23000, \"male\": 1, \"Purchased\": 1}, {\"Age\": 41, \"EstimatedSalary\": 60000, \"male\": 0, \"Purchased\": 0}, {\"Age\": 33, \"EstimatedSalary\": 41000, \"male\": 0, \"Purchased\": 0}, {\"Age\": 33, \"EstimatedSalary\": 60000, \"male\": 0, \"Purchased\": 0}, {\"Age\": 47, \"EstimatedSalary\": 47000, \"male\": 0, \"Purchased\": 0}, {\"Age\": 28, \"EstimatedSalary\": 55000, \"male\": 0, \"Purchased\": 0}, {\"Age\": 45, \"EstimatedSalary\": 32000, \"male\": 1, \"Purchased\": 1}, {\"Age\": 35, \"EstimatedSalary\": 75000, \"male\": 1, \"Purchased\": 0}, {\"Age\": 59, \"EstimatedSalary\": 42000, \"male\": 0, \"Purchased\": 0}, {\"Age\": 47, \"EstimatedSalary\": 50000, \"male\": 0, \"Purchased\": 1}, {\"Age\": 47, \"EstimatedSalary\": 51000, \"male\": 0, \"Purchased\": 1}, {\"Age\": 35, \"EstimatedSalary\": 79000, \"male\": 1, \"Purchased\": 0}, {\"Age\": 39, \"EstimatedSalary\": 42000, \"male\": 1, \"Purchased\": 0}, {\"Age\": 40, \"EstimatedSalary\": 78000, \"male\": 1, \"Purchased\": 0}, {\"Age\": 23, \"EstimatedSalary\": 48000, \"male\": 0, \"Purchased\": 0}, {\"Age\": 39, \"EstimatedSalary\": 75000, \"male\": 0, \"Purchased\": 1}, {\"Age\": 35, \"EstimatedSalary\": 57000, \"male\": 0, \"Purchased\": 0}, {\"Age\": 55, \"EstimatedSalary\": 39000, \"male\": 1, \"Purchased\": 1}, {\"Age\": 31, \"EstimatedSalary\": 71000, \"male\": 0, \"Purchased\": 0}, {\"Age\": 28, \"EstimatedSalary\": 123000, \"male\": 1, \"Purchased\": 1}, {\"Age\": 42, \"EstimatedSalary\": 80000, \"male\": 1, \"Purchased\": 0}, {\"Age\": 40, \"EstimatedSalary\": 59000, \"male\": 1, \"Purchased\": 0}, {\"Age\": 48, \"EstimatedSalary\": 74000, \"male\": 1, \"Purchased\": 1}, {\"Age\": 21, \"EstimatedSalary\": 88000, \"male\": 1, \"Purchased\": 0}, {\"Age\": 53, \"EstimatedSalary\": 72000, \"male\": 1, \"Purchased\": 1}, {\"Age\": 27, \"EstimatedSalary\": 58000, \"male\": 0, \"Purchased\": 0}, {\"Age\": 35, \"EstimatedSalary\": 47000, \"male\": 0, \"Purchased\": 0}, {\"Age\": 28, \"EstimatedSalary\": 89000, \"male\": 1, \"Purchased\": 0}, {\"Age\": 26, \"EstimatedSalary\": 80000, \"male\": 1, \"Purchased\": 0}, {\"Age\": 32, \"EstimatedSalary\": 117000, \"male\": 0, \"Purchased\": 1}, {\"Age\": 42, \"EstimatedSalary\": 75000, \"male\": 0, \"Purchased\": 0}, {\"Age\": 33, \"EstimatedSalary\": 149000, \"male\": 0, \"Purchased\": 1}, {\"Age\": 41, \"EstimatedSalary\": 80000, \"male\": 0, \"Purchased\": 0}, {\"Age\": 31, \"EstimatedSalary\": 58000, \"male\": 1, \"Purchased\": 0}, {\"Age\": 39, \"EstimatedSalary\": 134000, \"male\": 1, \"Purchased\": 1}, {\"Age\": 27, \"EstimatedSalary\": 20000, \"male\": 1, \"Purchased\": 0}, {\"Age\": 29, \"EstimatedSalary\": 83000, \"male\": 0, \"Purchased\": 0}, {\"Age\": 19, \"EstimatedSalary\": 70000, \"male\": 1, \"Purchased\": 0}, {\"Age\": 19, \"EstimatedSalary\": 85000, \"male\": 1, \"Purchased\": 0}, {\"Age\": 29, \"EstimatedSalary\": 61000, \"male\": 1, \"Purchased\": 0}, {\"Age\": 39, \"EstimatedSalary\": 134000, \"male\": 0, \"Purchased\": 1}, {\"Age\": 31, \"EstimatedSalary\": 76000, \"male\": 1, \"Purchased\": 0}, {\"Age\": 41, \"EstimatedSalary\": 72000, \"male\": 1, \"Purchased\": 0}, {\"Age\": 26, \"EstimatedSalary\": 80000, \"male\": 0, \"Purchased\": 0}, {\"Age\": 40, \"EstimatedSalary\": 61000, \"male\": 1, \"Purchased\": 0}, {\"Age\": 35, \"EstimatedSalary\": 25000, \"male\": 0, \"Purchased\": 0}, {\"Age\": 48, \"EstimatedSalary\": 96000, \"male\": 0, \"Purchased\": 1}, {\"Age\": 42, \"EstimatedSalary\": 149000, \"male\": 1, \"Purchased\": 1}, {\"Age\": 28, \"EstimatedSalary\": 79000, \"male\": 1, \"Purchased\": 0}, {\"Age\": 51, \"EstimatedSalary\": 134000, \"male\": 0, \"Purchased\": 0}, {\"Age\": 33, \"EstimatedSalary\": 28000, \"male\": 0, \"Purchased\": 0}, {\"Age\": 42, \"EstimatedSalary\": 54000, \"male\": 1, \"Purchased\": 0}, {\"Age\": 45, \"EstimatedSalary\": 22000, \"male\": 1, \"Purchased\": 1}, {\"Age\": 37, \"EstimatedSalary\": 57000, \"male\": 0, \"Purchased\": 0}, {\"Age\": 34, \"EstimatedSalary\": 112000, \"male\": 1, \"Purchased\": 1}, {\"Age\": 35, \"EstimatedSalary\": 39000, \"male\": 1, \"Purchased\": 0}, {\"Age\": 22, \"EstimatedSalary\": 27000, \"male\": 0, \"Purchased\": 0}, {\"Age\": 35, \"EstimatedSalary\": 72000, \"male\": 0, \"Purchased\": 0}, {\"Age\": 39, \"EstimatedSalary\": 59000, \"male\": 0, \"Purchased\": 0}, {\"Age\": 20, \"EstimatedSalary\": 74000, \"male\": 1, \"Purchased\": 0}, {\"Age\": 46, \"EstimatedSalary\": 32000, \"male\": 0, \"Purchased\": 1}, {\"Age\": 26, \"EstimatedSalary\": 43000, \"male\": 0, \"Purchased\": 0}, {\"Age\": 29, \"EstimatedSalary\": 83000, \"male\": 0, \"Purchased\": 0}, {\"Age\": 55, \"EstimatedSalary\": 125000, \"male\": 0, \"Purchased\": 1}, {\"Age\": 37, \"EstimatedSalary\": 146000, \"male\": 0, \"Purchased\": 1}, {\"Age\": 45, \"EstimatedSalary\": 131000, \"male\": 0, \"Purchased\": 1}, {\"Age\": 33, \"EstimatedSalary\": 43000, \"male\": 1, \"Purchased\": 0}, {\"Age\": 41, \"EstimatedSalary\": 45000, \"male\": 1, \"Purchased\": 0}, {\"Age\": 42, \"EstimatedSalary\": 79000, \"male\": 0, \"Purchased\": 0}, {\"Age\": 37, \"EstimatedSalary\": 137000, \"male\": 0, \"Purchased\": 1}, {\"Age\": 24, \"EstimatedSalary\": 84000, \"male\": 1, \"Purchased\": 0}, {\"Age\": 32, \"EstimatedSalary\": 18000, \"male\": 1, \"Purchased\": 0}, {\"Age\": 56, \"EstimatedSalary\": 104000, \"male\": 0, \"Purchased\": 1}, {\"Age\": 49, \"EstimatedSalary\": 39000, \"male\": 0, \"Purchased\": 1}, {\"Age\": 28, \"EstimatedSalary\": 85000, \"male\": 0, \"Purchased\": 0}, {\"Age\": 53, \"EstimatedSalary\": 143000, \"male\": 0, \"Purchased\": 1}, {\"Age\": 30, \"EstimatedSalary\": 89000, \"male\": 1, \"Purchased\": 0}, {\"Age\": 57, \"EstimatedSalary\": 60000, \"male\": 1, \"Purchased\": 1}, {\"Age\": 40, \"EstimatedSalary\": 75000, \"male\": 1, \"Purchased\": 0}, {\"Age\": 41, \"EstimatedSalary\": 79000, \"male\": 1, \"Purchased\": 0}, {\"Age\": 20, \"EstimatedSalary\": 82000, \"male\": 0, \"Purchased\": 0}, {\"Age\": 22, \"EstimatedSalary\": 55000, \"male\": 0, \"Purchased\": 0}, {\"Age\": 35, \"EstimatedSalary\": 88000, \"male\": 1, \"Purchased\": 0}, {\"Age\": 54, \"EstimatedSalary\": 70000, \"male\": 1, \"Purchased\": 1}, {\"Age\": 31, \"EstimatedSalary\": 15000, \"male\": 0, \"Purchased\": 0}, {\"Age\": 50, \"EstimatedSalary\": 36000, \"male\": 0, \"Purchased\": 1}, {\"Age\": 42, \"EstimatedSalary\": 65000, \"male\": 1, \"Purchased\": 0}, {\"Age\": 34, \"EstimatedSalary\": 43000, \"male\": 1, \"Purchased\": 0}, {\"Age\": 42, \"EstimatedSalary\": 108000, \"male\": 0, \"Purchased\": 1}, {\"Age\": 54, \"EstimatedSalary\": 26000, \"male\": 0, \"Purchased\": 1}, {\"Age\": 19, \"EstimatedSalary\": 21000, \"male\": 0, \"Purchased\": 0}, {\"Age\": 36, \"EstimatedSalary\": 50000, \"male\": 0, \"Purchased\": 0}, {\"Age\": 37, \"EstimatedSalary\": 70000, \"male\": 1, \"Purchased\": 1}, {\"Age\": 36, \"EstimatedSalary\": 126000, \"male\": 0, \"Purchased\": 1}, {\"Age\": 47, \"EstimatedSalary\": 20000, \"male\": 1, \"Purchased\": 1}, {\"Age\": 30, \"EstimatedSalary\": 79000, \"male\": 0, \"Purchased\": 0}, {\"Age\": 59, \"EstimatedSalary\": 83000, \"male\": 0, \"Purchased\": 0}, {\"Age\": 29, \"EstimatedSalary\": 80000, \"male\": 1, \"Purchased\": 0}, {\"Age\": 43, \"EstimatedSalary\": 112000, \"male\": 0, \"Purchased\": 1}, {\"Age\": 38, \"EstimatedSalary\": 80000, \"male\": 0, \"Purchased\": 0}, {\"Age\": 58, \"EstimatedSalary\": 144000, \"male\": 1, \"Purchased\": 1}, {\"Age\": 36, \"EstimatedSalary\": 125000, \"male\": 1, \"Purchased\": 1}, {\"Age\": 49, \"EstimatedSalary\": 28000, \"male\": 1, \"Purchased\": 1}, {\"Age\": 18, \"EstimatedSalary\": 52000, \"male\": 1, \"Purchased\": 0}, {\"Age\": 30, \"EstimatedSalary\": 15000, \"male\": 1, \"Purchased\": 0}, {\"Age\": 59, \"EstimatedSalary\": 88000, \"male\": 0, \"Purchased\": 1}, {\"Age\": 27, \"EstimatedSalary\": 57000, \"male\": 0, \"Purchased\": 0}, {\"Age\": 38, \"EstimatedSalary\": 71000, \"male\": 1, \"Purchased\": 0}, {\"Age\": 31, \"EstimatedSalary\": 89000, \"male\": 0, \"Purchased\": 0}, {\"Age\": 47, \"EstimatedSalary\": 34000, \"male\": 1, \"Purchased\": 1}, {\"Age\": 31, \"EstimatedSalary\": 74000, \"male\": 1, \"Purchased\": 0}, {\"Age\": 37, \"EstimatedSalary\": 72000, \"male\": 1, \"Purchased\": 0}, {\"Age\": 40, \"EstimatedSalary\": 57000, \"male\": 1, \"Purchased\": 0}, {\"Age\": 59, \"EstimatedSalary\": 130000, \"male\": 1, \"Purchased\": 1}, {\"Age\": 49, \"EstimatedSalary\": 65000, \"male\": 1, \"Purchased\": 0}, {\"Age\": 48, \"EstimatedSalary\": 90000, \"male\": 1, \"Purchased\": 1}, {\"Age\": 46, \"EstimatedSalary\": 22000, \"male\": 0, \"Purchased\": 0}, {\"Age\": 54, \"EstimatedSalary\": 104000, \"male\": 0, \"Purchased\": 1}, {\"Age\": 35, \"EstimatedSalary\": 20000, \"male\": 1, \"Purchased\": 0}, {\"Age\": 49, \"EstimatedSalary\": 141000, \"male\": 0, \"Purchased\": 1}, {\"Age\": 48, \"EstimatedSalary\": 41000, \"male\": 1, \"Purchased\": 1}, {\"Age\": 35, \"EstimatedSalary\": 55000, \"male\": 1, \"Purchased\": 0}, {\"Age\": 36, \"EstimatedSalary\": 60000, \"male\": 1, \"Purchased\": 0}, {\"Age\": 32, \"EstimatedSalary\": 150000, \"male\": 0, \"Purchased\": 1}, {\"Age\": 18, \"EstimatedSalary\": 68000, \"male\": 0, \"Purchased\": 0}, {\"Age\": 24, \"EstimatedSalary\": 55000, \"male\": 1, \"Purchased\": 0}, {\"Age\": 42, \"EstimatedSalary\": 90000, \"male\": 0, \"Purchased\": 1}, {\"Age\": 38, \"EstimatedSalary\": 59000, \"male\": 1, \"Purchased\": 0}, {\"Age\": 60, \"EstimatedSalary\": 108000, \"male\": 0, \"Purchased\": 1}, {\"Age\": 22, \"EstimatedSalary\": 63000, \"male\": 0, \"Purchased\": 0}, {\"Age\": 24, \"EstimatedSalary\": 32000, \"male\": 0, \"Purchased\": 0}, {\"Age\": 46, \"EstimatedSalary\": 59000, \"male\": 1, \"Purchased\": 0}, {\"Age\": 48, \"EstimatedSalary\": 134000, \"male\": 0, \"Purchased\": 1}, {\"Age\": 41, \"EstimatedSalary\": 72000, \"male\": 0, \"Purchased\": 0}, {\"Age\": 50, \"EstimatedSalary\": 44000, \"male\": 0, \"Purchased\": 0}, {\"Age\": 38, \"EstimatedSalary\": 71000, \"male\": 1, \"Purchased\": 0}, {\"Age\": 24, \"EstimatedSalary\": 23000, \"male\": 1, \"Purchased\": 0}, {\"Age\": 35, \"EstimatedSalary\": 61000, \"male\": 1, \"Purchased\": 0}, {\"Age\": 37, \"EstimatedSalary\": 80000, \"male\": 0, \"Purchased\": 0}, {\"Age\": 24, \"EstimatedSalary\": 27000, \"male\": 0, \"Purchased\": 0}, {\"Age\": 26, \"EstimatedSalary\": 84000, \"male\": 0, \"Purchased\": 0}, {\"Age\": 34, \"EstimatedSalary\": 25000, \"male\": 0, \"Purchased\": 0}, {\"Age\": 36, \"EstimatedSalary\": 54000, \"male\": 0, \"Purchased\": 0}, {\"Age\": 21, \"EstimatedSalary\": 68000, \"male\": 0, \"Purchased\": 0}, {\"Age\": 41, \"EstimatedSalary\": 71000, \"male\": 0, \"Purchased\": 0}, {\"Age\": 60, \"EstimatedSalary\": 42000, \"male\": 1, \"Purchased\": 1}, {\"Age\": 52, \"EstimatedSalary\": 90000, \"male\": 0, \"Purchased\": 1}, {\"Age\": 20, \"EstimatedSalary\": 23000, \"male\": 0, \"Purchased\": 0}, {\"Age\": 51, \"EstimatedSalary\": 23000, \"male\": 1, \"Purchased\": 1}, {\"Age\": 46, \"EstimatedSalary\": 79000, \"male\": 1, \"Purchased\": 1}, {\"Age\": 30, \"EstimatedSalary\": 49000, \"male\": 1, \"Purchased\": 0}]}}, {\"mode\": \"vega-lite\"});\n",
       "</script>"
      ],
      "text/plain": [
       "alt.Chart(...)"
      ]
     },
     "execution_count": 108,
     "metadata": {},
     "output_type": "execute_result"
    }
   ],
   "source": [
    "alt.Chart(df_train).mark_boxplot(\n",
    "    size=50,\n",
    "    opacity=0.7\n",
    ").encode(\n",
    "    x='male:N',\n",
    "    y=alt.Y('EstimatedSalary:Q', scale=alt.Scale(zero=True)),  \n",
    "    color='Purchased:N'\n",
    ").properties(width=300)"
   ]
  },
  {
   "cell_type": "markdown",
   "id": "f56eb82e",
   "metadata": {},
   "source": [
    "Code for seaborn"
   ]
  },
  {
   "cell_type": "code",
   "execution_count": 109,
   "id": "7b213fe5",
   "metadata": {},
   "outputs": [
    {
     "data": {
      "image/png": "[encoded data removed]",
      "text/plain": [
       "<Figure size 432x288 with 1 Axes>"
      ]
     },
     "metadata": {
      "needs_background": "light"
     },
     "output_type": "display_data"
    }
   ],
   "source": [
    "sns.boxplot(x=\"male\", y=\"EstimatedSalary\", hue=\"Purchased\", data=df_train);"
   ]
  },
  {
   "cell_type": "markdown",
   "id": "62d1b1d0",
   "metadata": {},
   "source": [
    "Insight: there are ___________ differences between males and females (regarding purchase behavior, age and estimated salary)"
   ]
  },
  {
   "cell_type": "markdown",
   "id": "3a2749d8",
   "metadata": {},
   "source": [
    "### Select features"
   ]
  },
  {
   "cell_type": "code",
   "execution_count": 110,
   "id": "f18d698c",
   "metadata": {},
   "outputs": [],
   "source": [
    "# only select meaningful predictors\n",
    "\n",
    "features_model = ['Age', 'EstimatedSalary']\n",
    "\n",
    "X_train = X_train[features_model] \n",
    "X_test = X_test[features_model]"
   ]
  },
  {
   "cell_type": "markdown",
   "id": "5b7b6502",
   "metadata": {},
   "source": [
    "## Model"
   ]
  },
  {
   "cell_type": "markdown",
   "id": "773d8379",
   "metadata": {},
   "source": [
    "\n",
    "### Select model\n",
    "\n",
    "Next, we will fit a logistic regression model with a [L2 regularization (ridge regression)](https://developers.google.com/machine-learning/crash-course/regularization-for-simplicity/l2-regularization). In particular, we use an estimator that has built-in cross-validation capabilities to automatically select the best hyper-parameter for our L2 regularization (see the [documentation](https://scikit-learn.org/stable/modules/generated/sklearn.linear_model.LogisticRegressionCV.html#sklearn.linear_model.LogisticRegressionCV)).\n",
    "\n",
    "We only use our most promising predictor variables `Age` and `EstimatedSalary` for our model."
   ]
  },
  {
   "cell_type": "code",
   "execution_count": 115,
   "id": "dcd8cfd6",
   "metadata": {},
   "outputs": [],
   "source": [
    "# model\n",
    "clf = LogisticRegressionCV()"
   ]
  },
  {
   "cell_type": "markdown",
   "id": "09f5c832",
   "metadata": {},
   "source": [
    "### Training"
   ]
  },
  {
   "cell_type": "code",
   "execution_count": 116,
   "id": "aa0168cb",
   "metadata": {},
   "outputs": [
    {
     "data": {
      "text/html": [
       "<style>#sk-container-id-1 {color: black;background-color: white;}#sk-container-id-1 pre{padding: 0;}#sk-container-id-1 div.sk-toggleable {background-color: white;}#sk-container-id-1 label.sk-toggleable__label {cursor: pointer;display: block;width: 100%;margin-bottom: 0;padding: 0.3em;box-sizing: border-box;text-align: center;}#sk-container-id-1 label.sk-toggleable__label-arrow:before {content: \"▸\";float: left;margin-right: 0.25em;color: #696969;}#sk-container-id-1 label.sk-toggleable__label-arrow:hover:before {color: black;}#sk-container-id-1 div.sk-estimator:hover label.sk-toggleable__label-arrow:before {color: black;}#sk-container-id-1 div.sk-toggleable__content {max-height: 0;max-width: 0;overflow: hidden;text-align: left;background-color: #f0f8ff;}#sk-container-id-1 div.sk-toggleable__content pre {margin: 0.2em;color: black;border-radius: 0.25em;background-color: #f0f8ff;}#sk-container-id-1 input.sk-toggleable__control:checked~div.sk-toggleable__content {max-height: 200px;max-width: 100%;overflow: auto;}#sk-container-id-1 input.sk-toggleable__control:checked~label.sk-toggleable__label-arrow:before {content: \"▾\";}#sk-container-id-1 div.sk-estimator input.sk-toggleable__control:checked~label.sk-toggleable__label {background-color: #d4ebff;}#sk-container-id-1 div.sk-label input.sk-toggleable__control:checked~label.sk-toggleable__label {background-color: #d4ebff;}#sk-container-id-1 input.sk-hidden--visually {border: 0;clip: rect(1px 1px 1px 1px);clip: rect(1px, 1px, 1px, 1px);height: 1px;margin: -1px;overflow: hidden;padding: 0;position: absolute;width: 1px;}#sk-container-id-1 div.sk-estimator {font-family: monospace;background-color: #f0f8ff;border: 1px dotted black;border-radius: 0.25em;box-sizing: border-box;margin-bottom: 0.5em;}#sk-container-id-1 div.sk-estimator:hover {background-color: #d4ebff;}#sk-container-id-1 div.sk-parallel-item::after {content: \"\";width: 100%;border-bottom: 1px solid gray;flex-grow: 1;}#sk-container-id-1 div.sk-label:hover label.sk-toggleable__label {background-color: #d4ebff;}#sk-container-id-1 div.sk-serial::before {content: \"\";position: absolute;border-left: 1px solid gray;box-sizing: border-box;top: 0;bottom: 0;left: 50%;z-index: 0;}#sk-container-id-1 div.sk-serial {display: flex;flex-direction: column;align-items: center;background-color: white;padding-right: 0.2em;padding-left: 0.2em;position: relative;}#sk-container-id-1 div.sk-item {position: relative;z-index: 1;}#sk-container-id-1 div.sk-parallel {display: flex;align-items: stretch;justify-content: center;background-color: white;position: relative;}#sk-container-id-1 div.sk-item::before, #sk-container-id-1 div.sk-parallel-item::before {content: \"\";position: absolute;border-left: 1px solid gray;box-sizing: border-box;top: 0;bottom: 0;left: 50%;z-index: -1;}#sk-container-id-1 div.sk-parallel-item {display: flex;flex-direction: column;z-index: 1;position: relative;background-color: white;}#sk-container-id-1 div.sk-parallel-item:first-child::after {align-self: flex-end;width: 50%;}#sk-container-id-1 div.sk-parallel-item:last-child::after {align-self: flex-start;width: 50%;}#sk-container-id-1 div.sk-parallel-item:only-child::after {width: 0;}#sk-container-id-1 div.sk-dashed-wrapped {border: 1px dashed gray;margin: 0 0.4em 0.5em 0.4em;box-sizing: border-box;padding-bottom: 0.4em;background-color: white;}#sk-container-id-1 div.sk-label label {font-family: monospace;font-weight: bold;display: inline-block;line-height: 1.2em;}#sk-container-id-1 div.sk-label-container {text-align: center;}#sk-container-id-1 div.sk-container {/* jupyter's `normalize.less` sets `[hidden] { display: none; }` but bootstrap.min.css set `[hidden] { display: none !important; }` so we also need the `!important` here to be able to override the default hidden behavior on the sphinx rendered scikit-learn.org. See: https://github.com/scikit-learn/scikit-learn/issues/21755 */display: inline-block !important;position: relative;}#sk-container-id-1 div.sk-text-repr-fallback {display: none;}</style><div id=\"sk-container-id-1\" class=\"sk-top-container\"><div class=\"sk-text-repr-fallback\"><pre>LogisticRegressionCV()</pre><b>In a Jupyter environment, please rerun this cell to show the HTML representation or trust the notebook. <br />On GitHub, the HTML representation is unable to render, please try loading this page with nbviewer.org.</b></div><div class=\"sk-container\" hidden><div class=\"sk-item\"><div class=\"sk-estimator sk-toggleable\"><input class=\"sk-toggleable__control sk-hidden--visually\" id=\"sk-estimator-id-1\" type=\"checkbox\" checked><label for=\"sk-estimator-id-1\" class=\"sk-toggleable__label sk-toggleable__label-arrow\">LogisticRegressionCV</label><div class=\"sk-toggleable__content\"><pre>LogisticRegressionCV()</pre></div></div></div></div></div>"
      ],
      "text/plain": [
       "LogisticRegressionCV()"
      ]
     },
     "execution_count": 116,
     "metadata": {},
     "output_type": "execute_result"
    }
   ],
   "source": [
    "# fit model to data\n",
    "clf.fit(X_train, y_train)"
   ]
  },
  {
   "cell_type": "markdown",
   "id": "537ddf0f",
   "metadata": {},
   "source": [
    "### Coefficients"
   ]
  },
  {
   "cell_type": "code",
   "execution_count": 117,
   "id": "4015000d",
   "metadata": {},
   "outputs": [
    {
     "data": {
      "text/plain": [
       "array([-4.64629128])"
      ]
     },
     "execution_count": 117,
     "metadata": {},
     "output_type": "execute_result"
    }
   ],
   "source": [
    "clf.intercept_"
   ]
  },
  {
   "cell_type": "code",
   "execution_count": 118,
   "id": "921f9c93",
   "metadata": {},
   "outputs": [
    {
     "data": {
      "text/plain": [
       "array([[7.57358038e-02, 1.72880947e-05]])"
      ]
     },
     "execution_count": 118,
     "metadata": {},
     "output_type": "execute_result"
    }
   ],
   "source": [
    "clf.coef_"
   ]
  },
  {
   "cell_type": "markdown",
   "id": "ee179da1",
   "metadata": {},
   "source": [
    "## Classification metrics"
   ]
  },
  {
   "cell_type": "code",
   "execution_count": 119,
   "id": "cff5cfa9",
   "metadata": {},
   "outputs": [
    {
     "data": {
      "text/plain": [
       "0.7833333333333333"
      ]
     },
     "execution_count": 119,
     "metadata": {},
     "output_type": "execute_result"
    }
   ],
   "source": [
    "# Return the mean accuracy on the given test data and labels:\n",
    "clf.score(X_test, y_test)"
   ]
  },
  {
   "cell_type": "code",
   "execution_count": 120,
   "id": "57d1fbf4",
   "metadata": {},
   "outputs": [
    {
     "data": {
      "image/png": "[encoded data removed]",
      "text/plain": [
       "<Figure size 432x288 with 2 Axes>"
      ]
     },
     "metadata": {
      "needs_background": "light"
     },
     "output_type": "display_data"
    }
   ],
   "source": [
    "from sklearn.metrics import ConfusionMatrixDisplay\n",
    "\n",
    "ConfusionMatrixDisplay.from_estimator(clf, X_test, y_test);"
   ]
  },
  {
   "cell_type": "code",
   "execution_count": 122,
   "id": "d23af2a4",
   "metadata": {},
   "outputs": [
    {
     "name": "stdout",
     "output_type": "stream",
     "text": [
      "              precision    recall  f1-score   support\n",
      "\n",
      "          No       0.77      0.90      0.83        72\n",
      "         Yes       0.81      0.60      0.69        48\n",
      "\n",
      "    accuracy                           0.78       120\n",
      "   macro avg       0.79      0.75      0.76       120\n",
      "weighted avg       0.79      0.78      0.78       120\n",
      "\n"
     ]
    }
   ],
   "source": [
    "from sklearn.metrics import classification_report\n",
    "\n",
    "y_pred = clf.predict(X_test)\n",
    "\n",
    "print(classification_report(y_test, y_pred, target_names=['No', 'Yes']))"
   ]
  },
  {
   "cell_type": "markdown",
   "id": "a39edcb1",
   "metadata": {},
   "source": [
    "The (unweighted) recall of our model is _____  \n",
    "\n",
    "The (unweighted) precision of our model is _____  "
   ]
  },
  {
   "cell_type": "markdown",
   "id": "8d01a436",
   "metadata": {},
   "source": [
    "### ROC Curve"
   ]
  },
  {
   "cell_type": "code",
   "execution_count": 123,
   "id": "c014b4ea",
   "metadata": {},
   "outputs": [
    {
     "data": {
      "image/png": "[encoded data removed]",
      "text/plain": [
       "<Figure size 432x288 with 1 Axes>"
      ]
     },
     "metadata": {
      "needs_background": "light"
     },
     "output_type": "display_data"
    }
   ],
   "source": [
    "from sklearn.metrics import RocCurveDisplay\n",
    "\n",
    "RocCurveDisplay.from_estimator(clf, X_test, y_test) ;"
   ]
  },
  {
   "cell_type": "markdown",
   "id": "b497abe5",
   "metadata": {},
   "source": [
    "### AUC Score\n"
   ]
  },
  {
   "cell_type": "code",
   "execution_count": 124,
   "id": "290cbb19",
   "metadata": {},
   "outputs": [
    {
     "data": {
      "text/plain": [
       "0.8842592592592593"
      ]
     },
     "execution_count": 124,
     "metadata": {},
     "output_type": "execute_result"
    }
   ],
   "source": [
    "from sklearn.metrics import roc_auc_score\n",
    "\n",
    "y_score = clf.predict_proba(X_test)[:, 1]\n",
    "roc_auc_score(y_test, y_score)"
   ]
  },
  {
   "cell_type": "markdown",
   "id": "1d56e622",
   "metadata": {},
   "source": [
    "## Thresholds\n",
    "\n",
    "We use three different thresholds. Which threshold would you recommend if we want to maximize our F1-Score?"
   ]
  },
  {
   "cell_type": "code",
   "execution_count": 125,
   "id": "c31a134f",
   "metadata": {},
   "outputs": [],
   "source": [
    "pred_proba = clf.predict_proba(X_test)"
   ]
  },
  {
   "cell_type": "markdown",
   "id": "f4d23b41",
   "metadata": {},
   "source": [
    "### Threshold  0.4"
   ]
  },
  {
   "cell_type": "code",
   "execution_count": 126,
   "id": "b7b2382c",
   "metadata": {},
   "outputs": [
    {
     "name": "stdout",
     "output_type": "stream",
     "text": [
      "              precision    recall  f1-score   support\n",
      "\n",
      "           0       0.84      0.79      0.81        72\n",
      "           1       0.71      0.77      0.74        48\n",
      "\n",
      "    accuracy                           0.78       120\n",
      "   macro avg       0.77      0.78      0.78       120\n",
      "weighted avg       0.79      0.78      0.78       120\n",
      "\n"
     ]
    },
    {
     "data": {
      "image/png": "[encoded data removed]",
      "text/plain": [
       "<Figure size 432x288 with 2 Axes>"
      ]
     },
     "metadata": {
      "needs_background": "light"
     },
     "output_type": "display_data"
    }
   ],
   "source": [
    "df_04 = pd.DataFrame({'y_pred': pred_proba[:,1] > .4})\n",
    "\n",
    "ConfusionMatrixDisplay.from_predictions(y_test, df_04['y_pred']);\n",
    "\n",
    "print(classification_report(y_test, df_04['y_pred']))"
   ]
  },
  {
   "cell_type": "markdown",
   "id": "9040be82",
   "metadata": {},
   "source": [
    "### Threshold 0.5"
   ]
  },
  {
   "cell_type": "code",
   "execution_count": 127,
   "id": "8a88724f",
   "metadata": {},
   "outputs": [
    {
     "name": "stdout",
     "output_type": "stream",
     "text": [
      "              precision    recall  f1-score   support\n",
      "\n",
      "           0       0.77      0.90      0.83        72\n",
      "           1       0.81      0.60      0.69        48\n",
      "\n",
      "    accuracy                           0.78       120\n",
      "   macro avg       0.79      0.75      0.76       120\n",
      "weighted avg       0.79      0.78      0.78       120\n",
      "\n"
     ]
    },
    {
     "data": {
      "image/png": "[encoded data removed]",
      "text/plain": [
       "<Figure size 432x288 with 2 Axes>"
      ]
     },
     "metadata": {
      "needs_background": "light"
     },
     "output_type": "display_data"
    }
   ],
   "source": [
    "df_05 = pd.DataFrame({'y_pred': pred_proba[:,1] > .5})\n",
    "\n",
    "ConfusionMatrixDisplay.from_predictions(y_test, df_05['y_pred']);\n",
    "\n",
    "print(classification_report(y_test, df_05['y_pred']))"
   ]
  },
  {
   "cell_type": "markdown",
   "id": "7697d2e3",
   "metadata": {},
   "source": [
    "### Threshold 0.7"
   ]
  },
  {
   "cell_type": "code",
   "execution_count": 128,
   "id": "62b86348",
   "metadata": {
    "lines_to_next_cell": 2
   },
   "outputs": [
    {
     "name": "stdout",
     "output_type": "stream",
     "text": [
      "              precision    recall  f1-score   support\n",
      "\n",
      "           0       0.66      0.96      0.78        72\n",
      "           1       0.80      0.25      0.38        48\n",
      "\n",
      "    accuracy                           0.68       120\n",
      "   macro avg       0.73      0.60      0.58       120\n",
      "weighted avg       0.71      0.68      0.62       120\n",
      "\n"
     ]
    },
    {
     "data": {
      "image/png": "[encoded data removed]",
      "text/plain": [
       "<Figure size 432x288 with 2 Axes>"
      ]
     },
     "metadata": {
      "needs_background": "light"
     },
     "output_type": "display_data"
    }
   ],
   "source": [
    "df_07 = pd.DataFrame({'y_pred': pred_proba[:,1] > .7})\n",
    "\n",
    "ConfusionMatrixDisplay.from_predictions(y_test, df_07['y_pred']);\n",
    "\n",
    "print(classification_report(y_test, df_07['y_pred']))"
   ]
  }
 ],
 "metadata": {
  "jupytext": {
   "cell_metadata_filter": "message,warning,out.width,fig.align,tags,name,-all",
   "main_language": "R",
   "notebook_metadata_filter": "-all"
  },
  "kernelspec": {
   "display_name": "Python 3.9.13 ('ds')",
   "language": "python",
   "name": "python3"
  },
  "language_info": {
   "codemirror_mode": {
    "name": "ipython",
    "version": 3
   },
   "file_extension": ".py",
   "mimetype": "text/x-python",
   "name": "python",
   "nbconvert_exporter": "python",
   "pygments_lexer": "ipython3",
   "version": "3.9.13"
  },
  "vscode": {
   "interpreter": {
    "hash": "0de8387c967863cc622aba8b7ea5b466d4dfde089153d484429677aa77034389"
   }
  }
 },
 "nbformat": 4,
 "nbformat_minor": 5
}
