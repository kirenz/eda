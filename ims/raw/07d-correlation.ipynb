{
 "cells": [
  {
   "cell_type": "markdown",
   "metadata": {
    "slideshow": {
     "slide_type": "slide"
    }
   },
   "source": [
    "# Correlation"
   ]
  },
  {
   "cell_type": "markdown",
   "metadata": {
    "slideshow": {
     "slide_type": "slide"
    }
   },
   "source": [
    "## Setup"
   ]
  },
  {
   "cell_type": "code",
   "execution_count": 1,
   "metadata": {
    "slideshow": {
     "slide_type": "fragment"
    }
   },
   "outputs": [],
   "source": [
    "import pandas as pd"
   ]
  },
  {
   "cell_type": "markdown",
   "metadata": {
    "slideshow": {
     "slide_type": "slide"
    }
   },
   "source": [
    "## Data"
   ]
  },
  {
   "cell_type": "markdown",
   "metadata": {
    "slideshow": {
     "slide_type": "fragment"
    }
   },
   "source": [
    "### Import data"
   ]
  },
  {
   "cell_type": "code",
   "execution_count": 2,
   "metadata": {
    "slideshow": {
     "slide_type": "fragment"
    }
   },
   "outputs": [],
   "source": [
    "df = pd.read_csv('https://raw.githubusercontent.com/kirenz/datasets/master/possum.csv')"
   ]
  },
  {
   "cell_type": "markdown",
   "metadata": {
    "slideshow": {
     "slide_type": "slide"
    }
   },
   "source": [
    "### Variable lists"
   ]
  },
  {
   "cell_type": "code",
   "execution_count": 3,
   "metadata": {
    "slideshow": {
     "slide_type": "fragment"
    }
   },
   "outputs": [],
   "source": [
    "# define outcome variable as y_label\n",
    "y_label = 'head_l'"
   ]
  },
  {
   "cell_type": "markdown",
   "metadata": {
    "slideshow": {
     "slide_type": "slide"
    }
   },
   "source": [
    "## Analysis"
   ]
  },
  {
   "cell_type": "markdown",
   "metadata": {
    "slideshow": {
     "slide_type": "slide"
    }
   },
   "source": [
    "### Correlation"
   ]
  },
  {
   "cell_type": "markdown",
   "metadata": {
    "slideshow": {
     "slide_type": "fragment"
    }
   },
   "source": [
    "Method of correlation:\n",
    "\n",
    "- pearson : standard correlation coefficient\n",
    "\n",
    "- kendall : Kendall Tau correlation coefficient\n",
    "\n",
    "- spearman : Spearman rank correlation"
   ]
  },
  {
   "cell_type": "code",
   "execution_count": 4,
   "metadata": {
    "slideshow": {
     "slide_type": "subslide"
    }
   },
   "outputs": [
    {
     "data": {
      "text/html": [
       "<div>\n",
       "<style scoped>\n",
       "    .dataframe tbody tr th:only-of-type {\n",
       "        vertical-align: middle;\n",
       "    }\n",
       "\n",
       "    .dataframe tbody tr th {\n",
       "        vertical-align: top;\n",
       "    }\n",
       "\n",
       "    .dataframe thead th {\n",
       "        text-align: right;\n",
       "    }\n",
       "</style>\n",
       "<table border=\"1\" class=\"dataframe\">\n",
       "  <thead>\n",
       "    <tr style=\"text-align: right;\">\n",
       "      <th></th>\n",
       "      <th>site</th>\n",
       "      <th>age</th>\n",
       "      <th>head_l</th>\n",
       "      <th>skull_w</th>\n",
       "      <th>total_l</th>\n",
       "      <th>tail_l</th>\n",
       "    </tr>\n",
       "  </thead>\n",
       "  <tbody>\n",
       "    <tr>\n",
       "      <th>site</th>\n",
       "      <td>1.00</td>\n",
       "      <td>-0.13</td>\n",
       "      <td>-0.16</td>\n",
       "      <td>-0.08</td>\n",
       "      <td>-0.26</td>\n",
       "      <td>0.38</td>\n",
       "    </tr>\n",
       "    <tr>\n",
       "      <th>age</th>\n",
       "      <td>-0.13</td>\n",
       "      <td>1.00</td>\n",
       "      <td>0.32</td>\n",
       "      <td>0.29</td>\n",
       "      <td>0.26</td>\n",
       "      <td>0.12</td>\n",
       "    </tr>\n",
       "    <tr>\n",
       "      <th>head_l</th>\n",
       "      <td>-0.16</td>\n",
       "      <td>0.32</td>\n",
       "      <td>1.00</td>\n",
       "      <td>0.71</td>\n",
       "      <td>0.69</td>\n",
       "      <td>0.29</td>\n",
       "    </tr>\n",
       "    <tr>\n",
       "      <th>skull_w</th>\n",
       "      <td>-0.08</td>\n",
       "      <td>0.29</td>\n",
       "      <td>0.71</td>\n",
       "      <td>1.00</td>\n",
       "      <td>0.53</td>\n",
       "      <td>0.26</td>\n",
       "    </tr>\n",
       "    <tr>\n",
       "      <th>total_l</th>\n",
       "      <td>-0.26</td>\n",
       "      <td>0.26</td>\n",
       "      <td>0.69</td>\n",
       "      <td>0.53</td>\n",
       "      <td>1.00</td>\n",
       "      <td>0.57</td>\n",
       "    </tr>\n",
       "    <tr>\n",
       "      <th>tail_l</th>\n",
       "      <td>0.38</td>\n",
       "      <td>0.12</td>\n",
       "      <td>0.29</td>\n",
       "      <td>0.26</td>\n",
       "      <td>0.57</td>\n",
       "      <td>1.00</td>\n",
       "    </tr>\n",
       "  </tbody>\n",
       "</table>\n",
       "</div>"
      ],
      "text/plain": [
       "         site   age  head_l  skull_w  total_l  tail_l\n",
       "site     1.00 -0.13   -0.16    -0.08    -0.26    0.38\n",
       "age     -0.13  1.00    0.32     0.29     0.26    0.12\n",
       "head_l  -0.16  0.32    1.00     0.71     0.69    0.29\n",
       "skull_w -0.08  0.29    0.71     1.00     0.53    0.26\n",
       "total_l -0.26  0.26    0.69     0.53     1.00    0.57\n",
       "tail_l   0.38  0.12    0.29     0.26     0.57    1.00"
      ]
     },
     "execution_count": 4,
     "metadata": {},
     "output_type": "execute_result"
    }
   ],
   "source": [
    "corr = df.corr(method='pearson').round(2)\n",
    "corr"
   ]
  },
  {
   "cell_type": "code",
   "execution_count": 5,
   "metadata": {
    "slideshow": {
     "slide_type": "subslide"
    }
   },
   "outputs": [
    {
     "data": {
      "text/html": [
       "<style type=\"text/css\">\n",
       "#T_98c4e_row0_col0, #T_98c4e_row1_col1, #T_98c4e_row2_col2, #T_98c4e_row3_col3, #T_98c4e_row4_col4, #T_98c4e_row5_col5 {\n",
       "  background-color: #08306b;\n",
       "  color: #f1f1f1;\n",
       "}\n",
       "#T_98c4e_row0_col1, #T_98c4e_row0_col2, #T_98c4e_row0_col3, #T_98c4e_row0_col4, #T_98c4e_row1_col5, #T_98c4e_row4_col0 {\n",
       "  background-color: #f7fbff;\n",
       "  color: #000000;\n",
       "}\n",
       "#T_98c4e_row0_col5 {\n",
       "  background-color: #b8d5ea;\n",
       "  color: #000000;\n",
       "}\n",
       "#T_98c4e_row1_col0 {\n",
       "  background-color: #e3eef8;\n",
       "  color: #000000;\n",
       "}\n",
       "#T_98c4e_row1_col2, #T_98c4e_row1_col4 {\n",
       "  background-color: #8fc2de;\n",
       "  color: #000000;\n",
       "}\n",
       "#T_98c4e_row1_col3 {\n",
       "  background-color: #a9cfe5;\n",
       "  color: #000000;\n",
       "}\n",
       "#T_98c4e_row2_col0 {\n",
       "  background-color: #e7f1fa;\n",
       "  color: #000000;\n",
       "}\n",
       "#T_98c4e_row2_col1 {\n",
       "  background-color: #95c5df;\n",
       "  color: #000000;\n",
       "}\n",
       "#T_98c4e_row2_col3, #T_98c4e_row4_col2 {\n",
       "  background-color: #2575b7;\n",
       "  color: #f1f1f1;\n",
       "}\n",
       "#T_98c4e_row2_col4 {\n",
       "  background-color: #206fb4;\n",
       "  color: #f1f1f1;\n",
       "}\n",
       "#T_98c4e_row2_col5 {\n",
       "  background-color: #d1e2f3;\n",
       "  color: #000000;\n",
       "}\n",
       "#T_98c4e_row3_col0 {\n",
       "  background-color: #dbe9f6;\n",
       "  color: #000000;\n",
       "}\n",
       "#T_98c4e_row3_col1 {\n",
       "  background-color: #9fcae1;\n",
       "  color: #000000;\n",
       "}\n",
       "#T_98c4e_row3_col2 {\n",
       "  background-color: #2070b4;\n",
       "  color: #f1f1f1;\n",
       "}\n",
       "#T_98c4e_row3_col4 {\n",
       "  background-color: #4191c6;\n",
       "  color: #f1f1f1;\n",
       "}\n",
       "#T_98c4e_row3_col5 {\n",
       "  background-color: #d8e7f5;\n",
       "  color: #000000;\n",
       "}\n",
       "#T_98c4e_row4_col1 {\n",
       "  background-color: #a8cee4;\n",
       "  color: #000000;\n",
       "}\n",
       "#T_98c4e_row4_col3 {\n",
       "  background-color: #56a0ce;\n",
       "  color: #f1f1f1;\n",
       "}\n",
       "#T_98c4e_row4_col5, #T_98c4e_row5_col0 {\n",
       "  background-color: #68acd5;\n",
       "  color: #f1f1f1;\n",
       "}\n",
       "#T_98c4e_row5_col1 {\n",
       "  background-color: #ccdff1;\n",
       "  color: #000000;\n",
       "}\n",
       "#T_98c4e_row5_col2 {\n",
       "  background-color: #99c7e0;\n",
       "  color: #000000;\n",
       "}\n",
       "#T_98c4e_row5_col3 {\n",
       "  background-color: #b2d2e8;\n",
       "  color: #000000;\n",
       "}\n",
       "#T_98c4e_row5_col4 {\n",
       "  background-color: #3989c1;\n",
       "  color: #f1f1f1;\n",
       "}\n",
       "</style>\n",
       "<table id=\"T_98c4e\">\n",
       "  <thead>\n",
       "    <tr>\n",
       "      <th class=\"blank level0\" >&nbsp;</th>\n",
       "      <th id=\"T_98c4e_level0_col0\" class=\"col_heading level0 col0\" >site</th>\n",
       "      <th id=\"T_98c4e_level0_col1\" class=\"col_heading level0 col1\" >age</th>\n",
       "      <th id=\"T_98c4e_level0_col2\" class=\"col_heading level0 col2\" >head_l</th>\n",
       "      <th id=\"T_98c4e_level0_col3\" class=\"col_heading level0 col3\" >skull_w</th>\n",
       "      <th id=\"T_98c4e_level0_col4\" class=\"col_heading level0 col4\" >total_l</th>\n",
       "      <th id=\"T_98c4e_level0_col5\" class=\"col_heading level0 col5\" >tail_l</th>\n",
       "    </tr>\n",
       "  </thead>\n",
       "  <tbody>\n",
       "    <tr>\n",
       "      <th id=\"T_98c4e_level0_row0\" class=\"row_heading level0 row0\" >site</th>\n",
       "      <td id=\"T_98c4e_row0_col0\" class=\"data row0 col0\" >1.000000</td>\n",
       "      <td id=\"T_98c4e_row0_col1\" class=\"data row0 col1\" >-0.130000</td>\n",
       "      <td id=\"T_98c4e_row0_col2\" class=\"data row0 col2\" >-0.160000</td>\n",
       "      <td id=\"T_98c4e_row0_col3\" class=\"data row0 col3\" >-0.080000</td>\n",
       "      <td id=\"T_98c4e_row0_col4\" class=\"data row0 col4\" >-0.260000</td>\n",
       "      <td id=\"T_98c4e_row0_col5\" class=\"data row0 col5\" >0.380000</td>\n",
       "    </tr>\n",
       "    <tr>\n",
       "      <th id=\"T_98c4e_level0_row1\" class=\"row_heading level0 row1\" >age</th>\n",
       "      <td id=\"T_98c4e_row1_col0\" class=\"data row1 col0\" >-0.130000</td>\n",
       "      <td id=\"T_98c4e_row1_col1\" class=\"data row1 col1\" >1.000000</td>\n",
       "      <td id=\"T_98c4e_row1_col2\" class=\"data row1 col2\" >0.320000</td>\n",
       "      <td id=\"T_98c4e_row1_col3\" class=\"data row1 col3\" >0.290000</td>\n",
       "      <td id=\"T_98c4e_row1_col4\" class=\"data row1 col4\" >0.260000</td>\n",
       "      <td id=\"T_98c4e_row1_col5\" class=\"data row1 col5\" >0.120000</td>\n",
       "    </tr>\n",
       "    <tr>\n",
       "      <th id=\"T_98c4e_level0_row2\" class=\"row_heading level0 row2\" >head_l</th>\n",
       "      <td id=\"T_98c4e_row2_col0\" class=\"data row2 col0\" >-0.160000</td>\n",
       "      <td id=\"T_98c4e_row2_col1\" class=\"data row2 col1\" >0.320000</td>\n",
       "      <td id=\"T_98c4e_row2_col2\" class=\"data row2 col2\" >1.000000</td>\n",
       "      <td id=\"T_98c4e_row2_col3\" class=\"data row2 col3\" >0.710000</td>\n",
       "      <td id=\"T_98c4e_row2_col4\" class=\"data row2 col4\" >0.690000</td>\n",
       "      <td id=\"T_98c4e_row2_col5\" class=\"data row2 col5\" >0.290000</td>\n",
       "    </tr>\n",
       "    <tr>\n",
       "      <th id=\"T_98c4e_level0_row3\" class=\"row_heading level0 row3\" >skull_w</th>\n",
       "      <td id=\"T_98c4e_row3_col0\" class=\"data row3 col0\" >-0.080000</td>\n",
       "      <td id=\"T_98c4e_row3_col1\" class=\"data row3 col1\" >0.290000</td>\n",
       "      <td id=\"T_98c4e_row3_col2\" class=\"data row3 col2\" >0.710000</td>\n",
       "      <td id=\"T_98c4e_row3_col3\" class=\"data row3 col3\" >1.000000</td>\n",
       "      <td id=\"T_98c4e_row3_col4\" class=\"data row3 col4\" >0.530000</td>\n",
       "      <td id=\"T_98c4e_row3_col5\" class=\"data row3 col5\" >0.260000</td>\n",
       "    </tr>\n",
       "    <tr>\n",
       "      <th id=\"T_98c4e_level0_row4\" class=\"row_heading level0 row4\" >total_l</th>\n",
       "      <td id=\"T_98c4e_row4_col0\" class=\"data row4 col0\" >-0.260000</td>\n",
       "      <td id=\"T_98c4e_row4_col1\" class=\"data row4 col1\" >0.260000</td>\n",
       "      <td id=\"T_98c4e_row4_col2\" class=\"data row4 col2\" >0.690000</td>\n",
       "      <td id=\"T_98c4e_row4_col3\" class=\"data row4 col3\" >0.530000</td>\n",
       "      <td id=\"T_98c4e_row4_col4\" class=\"data row4 col4\" >1.000000</td>\n",
       "      <td id=\"T_98c4e_row4_col5\" class=\"data row4 col5\" >0.570000</td>\n",
       "    </tr>\n",
       "    <tr>\n",
       "      <th id=\"T_98c4e_level0_row5\" class=\"row_heading level0 row5\" >tail_l</th>\n",
       "      <td id=\"T_98c4e_row5_col0\" class=\"data row5 col0\" >0.380000</td>\n",
       "      <td id=\"T_98c4e_row5_col1\" class=\"data row5 col1\" >0.120000</td>\n",
       "      <td id=\"T_98c4e_row5_col2\" class=\"data row5 col2\" >0.290000</td>\n",
       "      <td id=\"T_98c4e_row5_col3\" class=\"data row5 col3\" >0.260000</td>\n",
       "      <td id=\"T_98c4e_row5_col4\" class=\"data row5 col4\" >0.570000</td>\n",
       "      <td id=\"T_98c4e_row5_col5\" class=\"data row5 col5\" >1.000000</td>\n",
       "    </tr>\n",
       "  </tbody>\n",
       "</table>\n"
      ],
      "text/plain": [
       "<pandas.io.formats.style.Styler at 0x7feb98c71a30>"
      ]
     },
     "execution_count": 5,
     "metadata": {},
     "output_type": "execute_result"
    }
   ],
   "source": [
    "corr.style.background_gradient(cmap='Blues')"
   ]
  },
  {
   "cell_type": "code",
   "execution_count": 6,
   "metadata": {
    "slideshow": {
     "slide_type": "subslide"
    }
   },
   "outputs": [
    {
     "data": {
      "text/plain": [
       "head_l     1.00\n",
       "skull_w    0.71\n",
       "total_l    0.69\n",
       "age        0.32\n",
       "tail_l     0.29\n",
       "site      -0.16\n",
       "Name: head_l, dtype: float64"
      ]
     },
     "execution_count": 6,
     "metadata": {},
     "output_type": "execute_result"
    }
   ],
   "source": [
    "# inspect correlation between response and predictors\n",
    "corr[y_label].sort_values(ascending=False)"
   ]
  }
 ],
 "metadata": {
  "celltoolbar": "Slideshow",
  "kernelspec": {
   "display_name": "Python 3 (ipykernel)",
   "language": "python",
   "name": "python3"
  },
  "language_info": {
   "codemirror_mode": {
    "name": "ipython",
    "version": 3
   },
   "file_extension": ".py",
   "mimetype": "text/x-python",
   "name": "python",
   "nbconvert_exporter": "python",
   "pygments_lexer": "ipython3",
   "version": "3.9.12"
  },
  "vscode": {
   "interpreter": {
    "hash": "463226f144cc21b006ce6927bfc93dd00694e52c8bc6857abb6e555b983749e9"
   }
  }
 },
 "nbformat": 4,
 "nbformat_minor": 2
}
