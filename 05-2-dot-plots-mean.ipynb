{
 "cells": [
  {
   "cell_type": "markdown",
   "source": [
    "# Exploring numerical variables\n",
    "\n",
    "## Dot plots and the mean"
   ],
   "metadata": {
    "slideshow": {
     "slide_type": "slide"
    }
   }
  },
  {
   "cell_type": "markdown",
   "source": [
    "## Import data"
   ],
   "metadata": {
    "slideshow": {
     "slide_type": "slide"
    }
   }
  },
  {
   "cell_type": "code",
   "execution_count": 88,
   "source": [
    "import pandas as pd\n",
    "\n",
    "ROOT = \"https://raw.githubusercontent.com/kirenz/modern-statistics/main/data/\"\n",
    "DATA = \"loan50.csv\"\n",
    "\n",
    "df = pd.read_csv(ROOT + DATA)\n",
    "df[\"interest_rate\"] = df[\"interest_rate\"].astype(\"int64\")"
   ],
   "outputs": [],
   "metadata": {
    "slideshow": {
     "slide_type": "fragment"
    }
   }
  },
  {
   "cell_type": "code",
   "execution_count": 7,
   "source": [
    "%matplotlib inline\n",
    "%config InlineBackend.figure_formats = ['svg']\n",
    "\n",
    "import seaborn as sns \n",
    "import matplotlib.pyplot as plt\n",
    "import plotly.express as px\n",
    "\n",
    "# Custom colors\n",
    "blue = \"#3F83F4\"\n",
    "blue_dark = \"#062089\"\n",
    "blue_light = \"#8DC0F6\"\n",
    "blue_lighter = \"#BBE4FA\"\n",
    "grey = \"#9C9C9C\"\n",
    "grey_dark = \"#777777\"\n",
    "grey_light = \"#B2B2B2\"\n",
    "orange = \"#EF8733\"\n",
    "\n",
    "colors_blue = [blue, blue_light]"
   ],
   "outputs": [],
   "metadata": {
    "slideshow": {
     "slide_type": "slide"
    }
   }
  },
  {
   "cell_type": "markdown",
   "source": [
    "## Dot plot\n",
    "\n",
    "A dot plot of interest rate for the loan50 dataset. The rates have been rounded and the distribution’s mean is shown as a red triangle."
   ],
   "metadata": {
    "slideshow": {
     "slide_type": "slide"
    }
   }
  },
  {
   "cell_type": "code",
   "execution_count": 89,
   "source": [
    "import numpy as np\n",
    "\n",
    "# Prepara data\n",
    "mean = df[\"interest_rate\"].mean()\n",
    "interest_rate = df[\"interest_rate\"]\n",
    "values, counts = np.unique(interest_rate, return_counts=True)\n",
    "\n",
    "# Create dot plot\n",
    "fig, ax = plt.subplots(figsize=(6, 3))\n",
    "for value, count in zip(values, counts):\n",
    "    ax.plot([value]*count, list(range(count)), 'o', ms=10, linestyle='', color=blue)\n",
    "for spine in ['top', 'right', 'left']:\n",
    "    ax.spines[spine].set_visible(False)\n",
    "# Define optics\n",
    "ax.yaxis.set_visible(False)\n",
    "ax.set_ylim(-1, max(counts))\n",
    "ax.spines['bottom'].set_color(grey)\n",
    "ax.set_xticks(range(min(values), max(values)+1))\n",
    "ax.tick_params(axis='x', length=0, pad=8, labelsize=8, colors=grey)\n",
    "# Anotation\n",
    "ax.plot(mean, 0, 'o', ms=10, color=orange)\n",
    "ax.annotate(text='Mean', xy=(mean-0.5, 3), color=orange)\n",
    "\n",
    "plt.show();"
   ],
   "outputs": [
    {
     "output_type": "display_data",
     "data": {
      "text/plain": [
       "<Figure size 432x216 with 1 Axes>"
      ],
      "image/svg+xml": "<?xml version=\"1.0\" encoding=\"utf-8\" standalone=\"no\"?>\n<!DOCTYPE svg PUBLIC \"-//W3C//DTD SVG 1.1//EN\"\n  \"http://www.w3.org/Graphics/SVG/1.1/DTD/svg11.dtd\">\n<svg height=\"193.2225pt\" version=\"1.1\" viewBox=\"0 0 349.2 193.2225\" width=\"349.2pt\" xmlns=\"http://www.w3.org/2000/svg\" xmlns:xlink=\"http://www.w3.org/1999/xlink\">\n <metadata>\n  <rdf:RDF xmlns:cc=\"http://creativecommons.org/ns#\" xmlns:dc=\"http://purl.org/dc/elements/1.1/\" xmlns:rdf=\"http://www.w3.org/1999/02/22-rdf-syntax-ns#\">\n   <cc:Work>\n    <dc:type rdf:resource=\"http://purl.org/dc/dcmitype/StillImage\"/>\n    <dc:date>2021-08-21T12:39:23.101304</dc:date>\n    <dc:format>image/svg+xml</dc:format>\n    <dc:creator>\n     <cc:Agent>\n      <dc:title>Matplotlib v3.4.2, https://matplotlib.org/</dc:title>\n     </cc:Agent>\n    </dc:creator>\n   </cc:Work>\n  </rdf:RDF>\n </metadata>\n <defs>\n  <style type=\"text/css\">*{stroke-linecap:butt;stroke-linejoin:round;}</style>\n </defs>\n <g id=\"figure_1\">\n  <g id=\"patch_1\">\n   <path d=\"M 0 193.2225 \nL 349.2 193.2225 \nL 349.2 0 \nL 0 0 \nz\n\" style=\"fill:none;\"/>\n  </g>\n  <g id=\"axes_1\">\n   <g id=\"patch_2\">\n    <path d=\"M 7.2 170.28 \nL 342 170.28 \nL 342 7.2 \nL 7.2 7.2 \nz\n\" style=\"fill:#ffffff;\"/>\n   </g>\n   <g id=\"matplotlib.axis_1\">\n    <g id=\"xtick_1\">\n     <g id=\"line2d_1\"/>\n     <g id=\"text_1\">\n      <!-- 5 -->\n      <g style=\"fill:#9c9c9c;\" transform=\"translate(19.873182 184.35875)scale(0.08 -0.08)\">\n       <defs>\n        <path d=\"M 691 4666 \nL 3169 4666 \nL 3169 4134 \nL 1269 4134 \nL 1269 2991 \nQ 1406 3038 1543 3061 \nQ 1681 3084 1819 3084 \nQ 2600 3084 3056 2656 \nQ 3513 2228 3513 1497 \nQ 3513 744 3044 326 \nQ 2575 -91 1722 -91 \nQ 1428 -91 1123 -41 \nQ 819 9 494 109 \nL 494 744 \nQ 775 591 1075 516 \nQ 1375 441 1709 441 \nQ 2250 441 2565 725 \nQ 2881 1009 2881 1497 \nQ 2881 1984 2565 2268 \nQ 2250 2553 1709 2553 \nQ 1456 2553 1204 2497 \nQ 953 2441 691 2322 \nL 691 4666 \nz\n\" id=\"DejaVuSans-35\" transform=\"scale(0.015625)\"/>\n       </defs>\n       <use xlink:href=\"#DejaVuSans-35\"/>\n      </g>\n     </g>\n    </g>\n    <g id=\"xtick_2\">\n     <g id=\"line2d_2\"/>\n     <g id=\"text_2\">\n      <!-- 6 -->\n      <g style=\"fill:#9c9c9c;\" transform=\"translate(34.366688 184.35875)scale(0.08 -0.08)\">\n       <defs>\n        <path d=\"M 2113 2584 \nQ 1688 2584 1439 2293 \nQ 1191 2003 1191 1497 \nQ 1191 994 1439 701 \nQ 1688 409 2113 409 \nQ 2538 409 2786 701 \nQ 3034 994 3034 1497 \nQ 3034 2003 2786 2293 \nQ 2538 2584 2113 2584 \nz\nM 3366 4563 \nL 3366 3988 \nQ 3128 4100 2886 4159 \nQ 2644 4219 2406 4219 \nQ 1781 4219 1451 3797 \nQ 1122 3375 1075 2522 \nQ 1259 2794 1537 2939 \nQ 1816 3084 2150 3084 \nQ 2853 3084 3261 2657 \nQ 3669 2231 3669 1497 \nQ 3669 778 3244 343 \nQ 2819 -91 2113 -91 \nQ 1303 -91 875 529 \nQ 447 1150 447 2328 \nQ 447 3434 972 4092 \nQ 1497 4750 2381 4750 \nQ 2619 4750 2861 4703 \nQ 3103 4656 3366 4563 \nz\n\" id=\"DejaVuSans-36\" transform=\"scale(0.015625)\"/>\n       </defs>\n       <use xlink:href=\"#DejaVuSans-36\"/>\n      </g>\n     </g>\n    </g>\n    <g id=\"xtick_3\">\n     <g id=\"line2d_3\"/>\n     <g id=\"text_3\">\n      <!-- 7 -->\n      <g style=\"fill:#9c9c9c;\" transform=\"translate(48.860195 184.35875)scale(0.08 -0.08)\">\n       <defs>\n        <path d=\"M 525 4666 \nL 3525 4666 \nL 3525 4397 \nL 1831 0 \nL 1172 0 \nL 2766 4134 \nL 525 4134 \nL 525 4666 \nz\n\" id=\"DejaVuSans-37\" transform=\"scale(0.015625)\"/>\n       </defs>\n       <use xlink:href=\"#DejaVuSans-37\"/>\n      </g>\n     </g>\n    </g>\n    <g id=\"xtick_4\">\n     <g id=\"line2d_4\"/>\n     <g id=\"text_4\">\n      <!-- 8 -->\n      <g style=\"fill:#9c9c9c;\" transform=\"translate(63.353701 184.35875)scale(0.08 -0.08)\">\n       <defs>\n        <path d=\"M 2034 2216 \nQ 1584 2216 1326 1975 \nQ 1069 1734 1069 1313 \nQ 1069 891 1326 650 \nQ 1584 409 2034 409 \nQ 2484 409 2743 651 \nQ 3003 894 3003 1313 \nQ 3003 1734 2745 1975 \nQ 2488 2216 2034 2216 \nz\nM 1403 2484 \nQ 997 2584 770 2862 \nQ 544 3141 544 3541 \nQ 544 4100 942 4425 \nQ 1341 4750 2034 4750 \nQ 2731 4750 3128 4425 \nQ 3525 4100 3525 3541 \nQ 3525 3141 3298 2862 \nQ 3072 2584 2669 2484 \nQ 3125 2378 3379 2068 \nQ 3634 1759 3634 1313 \nQ 3634 634 3220 271 \nQ 2806 -91 2034 -91 \nQ 1263 -91 848 271 \nQ 434 634 434 1313 \nQ 434 1759 690 2068 \nQ 947 2378 1403 2484 \nz\nM 1172 3481 \nQ 1172 3119 1398 2916 \nQ 1625 2713 2034 2713 \nQ 2441 2713 2670 2916 \nQ 2900 3119 2900 3481 \nQ 2900 3844 2670 4047 \nQ 2441 4250 2034 4250 \nQ 1625 4250 1398 4047 \nQ 1172 3844 1172 3481 \nz\n\" id=\"DejaVuSans-38\" transform=\"scale(0.015625)\"/>\n       </defs>\n       <use xlink:href=\"#DejaVuSans-38\"/>\n      </g>\n     </g>\n    </g>\n    <g id=\"xtick_5\">\n     <g id=\"line2d_5\"/>\n     <g id=\"text_5\">\n      <!-- 9 -->\n      <g style=\"fill:#9c9c9c;\" transform=\"translate(77.847208 184.35875)scale(0.08 -0.08)\">\n       <defs>\n        <path d=\"M 703 97 \nL 703 672 \nQ 941 559 1184 500 \nQ 1428 441 1663 441 \nQ 2288 441 2617 861 \nQ 2947 1281 2994 2138 \nQ 2813 1869 2534 1725 \nQ 2256 1581 1919 1581 \nQ 1219 1581 811 2004 \nQ 403 2428 403 3163 \nQ 403 3881 828 4315 \nQ 1253 4750 1959 4750 \nQ 2769 4750 3195 4129 \nQ 3622 3509 3622 2328 \nQ 3622 1225 3098 567 \nQ 2575 -91 1691 -91 \nQ 1453 -91 1209 -44 \nQ 966 3 703 97 \nz\nM 1959 2075 \nQ 2384 2075 2632 2365 \nQ 2881 2656 2881 3163 \nQ 2881 3666 2632 3958 \nQ 2384 4250 1959 4250 \nQ 1534 4250 1286 3958 \nQ 1038 3666 1038 3163 \nQ 1038 2656 1286 2365 \nQ 1534 2075 1959 2075 \nz\n\" id=\"DejaVuSans-39\" transform=\"scale(0.015625)\"/>\n       </defs>\n       <use xlink:href=\"#DejaVuSans-39\"/>\n      </g>\n     </g>\n    </g>\n    <g id=\"xtick_6\">\n     <g id=\"line2d_6\"/>\n     <g id=\"text_6\">\n      <!-- 10 -->\n      <g style=\"fill:#9c9c9c;\" transform=\"translate(89.795714 184.35875)scale(0.08 -0.08)\">\n       <defs>\n        <path d=\"M 794 531 \nL 1825 531 \nL 1825 4091 \nL 703 3866 \nL 703 4441 \nL 1819 4666 \nL 2450 4666 \nL 2450 531 \nL 3481 531 \nL 3481 0 \nL 794 0 \nL 794 531 \nz\n\" id=\"DejaVuSans-31\" transform=\"scale(0.015625)\"/>\n        <path d=\"M 2034 4250 \nQ 1547 4250 1301 3770 \nQ 1056 3291 1056 2328 \nQ 1056 1369 1301 889 \nQ 1547 409 2034 409 \nQ 2525 409 2770 889 \nQ 3016 1369 3016 2328 \nQ 3016 3291 2770 3770 \nQ 2525 4250 2034 4250 \nz\nM 2034 4750 \nQ 2819 4750 3233 4129 \nQ 3647 3509 3647 2328 \nQ 3647 1150 3233 529 \nQ 2819 -91 2034 -91 \nQ 1250 -91 836 529 \nQ 422 1150 422 2328 \nQ 422 3509 836 4129 \nQ 1250 4750 2034 4750 \nz\n\" id=\"DejaVuSans-30\" transform=\"scale(0.015625)\"/>\n       </defs>\n       <use xlink:href=\"#DejaVuSans-31\"/>\n       <use x=\"63.623047\" xlink:href=\"#DejaVuSans-30\"/>\n      </g>\n     </g>\n    </g>\n    <g id=\"xtick_7\">\n     <g id=\"line2d_7\"/>\n     <g id=\"text_7\">\n      <!-- 11 -->\n      <g style=\"fill:#9c9c9c;\" transform=\"translate(104.289221 184.35875)scale(0.08 -0.08)\">\n       <use xlink:href=\"#DejaVuSans-31\"/>\n       <use x=\"63.623047\" xlink:href=\"#DejaVuSans-31\"/>\n      </g>\n     </g>\n    </g>\n    <g id=\"xtick_8\">\n     <g id=\"line2d_8\"/>\n     <g id=\"text_8\">\n      <!-- 12 -->\n      <g style=\"fill:#9c9c9c;\" transform=\"translate(118.782727 184.35875)scale(0.08 -0.08)\">\n       <defs>\n        <path d=\"M 1228 531 \nL 3431 531 \nL 3431 0 \nL 469 0 \nL 469 531 \nQ 828 903 1448 1529 \nQ 2069 2156 2228 2338 \nQ 2531 2678 2651 2914 \nQ 2772 3150 2772 3378 \nQ 2772 3750 2511 3984 \nQ 2250 4219 1831 4219 \nQ 1534 4219 1204 4116 \nQ 875 4013 500 3803 \nL 500 4441 \nQ 881 4594 1212 4672 \nQ 1544 4750 1819 4750 \nQ 2544 4750 2975 4387 \nQ 3406 4025 3406 3419 \nQ 3406 3131 3298 2873 \nQ 3191 2616 2906 2266 \nQ 2828 2175 2409 1742 \nQ 1991 1309 1228 531 \nz\n\" id=\"DejaVuSans-32\" transform=\"scale(0.015625)\"/>\n       </defs>\n       <use xlink:href=\"#DejaVuSans-31\"/>\n       <use x=\"63.623047\" xlink:href=\"#DejaVuSans-32\"/>\n      </g>\n     </g>\n    </g>\n    <g id=\"xtick_9\">\n     <g id=\"line2d_9\"/>\n     <g id=\"text_9\">\n      <!-- 13 -->\n      <g style=\"fill:#9c9c9c;\" transform=\"translate(133.276234 184.35875)scale(0.08 -0.08)\">\n       <defs>\n        <path d=\"M 2597 2516 \nQ 3050 2419 3304 2112 \nQ 3559 1806 3559 1356 \nQ 3559 666 3084 287 \nQ 2609 -91 1734 -91 \nQ 1441 -91 1130 -33 \nQ 819 25 488 141 \nL 488 750 \nQ 750 597 1062 519 \nQ 1375 441 1716 441 \nQ 2309 441 2620 675 \nQ 2931 909 2931 1356 \nQ 2931 1769 2642 2001 \nQ 2353 2234 1838 2234 \nL 1294 2234 \nL 1294 2753 \nL 1863 2753 \nQ 2328 2753 2575 2939 \nQ 2822 3125 2822 3475 \nQ 2822 3834 2567 4026 \nQ 2313 4219 1838 4219 \nQ 1578 4219 1281 4162 \nQ 984 4106 628 3988 \nL 628 4550 \nQ 988 4650 1302 4700 \nQ 1616 4750 1894 4750 \nQ 2613 4750 3031 4423 \nQ 3450 4097 3450 3541 \nQ 3450 3153 3228 2886 \nQ 3006 2619 2597 2516 \nz\n\" id=\"DejaVuSans-33\" transform=\"scale(0.015625)\"/>\n       </defs>\n       <use xlink:href=\"#DejaVuSans-31\"/>\n       <use x=\"63.623047\" xlink:href=\"#DejaVuSans-33\"/>\n      </g>\n     </g>\n    </g>\n    <g id=\"xtick_10\">\n     <g id=\"line2d_10\"/>\n     <g id=\"text_10\">\n      <!-- 14 -->\n      <g style=\"fill:#9c9c9c;\" transform=\"translate(147.76974 184.35875)scale(0.08 -0.08)\">\n       <defs>\n        <path d=\"M 2419 4116 \nL 825 1625 \nL 2419 1625 \nL 2419 4116 \nz\nM 2253 4666 \nL 3047 4666 \nL 3047 1625 \nL 3713 1625 \nL 3713 1100 \nL 3047 1100 \nL 3047 0 \nL 2419 0 \nL 2419 1100 \nL 313 1100 \nL 313 1709 \nL 2253 4666 \nz\n\" id=\"DejaVuSans-34\" transform=\"scale(0.015625)\"/>\n       </defs>\n       <use xlink:href=\"#DejaVuSans-31\"/>\n       <use x=\"63.623047\" xlink:href=\"#DejaVuSans-34\"/>\n      </g>\n     </g>\n    </g>\n    <g id=\"xtick_11\">\n     <g id=\"line2d_11\"/>\n     <g id=\"text_11\">\n      <!-- 15 -->\n      <g style=\"fill:#9c9c9c;\" transform=\"translate(162.263247 184.35875)scale(0.08 -0.08)\">\n       <use xlink:href=\"#DejaVuSans-31\"/>\n       <use x=\"63.623047\" xlink:href=\"#DejaVuSans-35\"/>\n      </g>\n     </g>\n    </g>\n    <g id=\"xtick_12\">\n     <g id=\"line2d_12\"/>\n     <g id=\"text_12\">\n      <!-- 16 -->\n      <g style=\"fill:#9c9c9c;\" transform=\"translate(176.756753 184.35875)scale(0.08 -0.08)\">\n       <use xlink:href=\"#DejaVuSans-31\"/>\n       <use x=\"63.623047\" xlink:href=\"#DejaVuSans-36\"/>\n      </g>\n     </g>\n    </g>\n    <g id=\"xtick_13\">\n     <g id=\"line2d_13\"/>\n     <g id=\"text_13\">\n      <!-- 17 -->\n      <g style=\"fill:#9c9c9c;\" transform=\"translate(191.25026 184.35875)scale(0.08 -0.08)\">\n       <use xlink:href=\"#DejaVuSans-31\"/>\n       <use x=\"63.623047\" xlink:href=\"#DejaVuSans-37\"/>\n      </g>\n     </g>\n    </g>\n    <g id=\"xtick_14\">\n     <g id=\"line2d_14\"/>\n     <g id=\"text_14\">\n      <!-- 18 -->\n      <g style=\"fill:#9c9c9c;\" transform=\"translate(205.743766 184.35875)scale(0.08 -0.08)\">\n       <use xlink:href=\"#DejaVuSans-31\"/>\n       <use x=\"63.623047\" xlink:href=\"#DejaVuSans-38\"/>\n      </g>\n     </g>\n    </g>\n    <g id=\"xtick_15\">\n     <g id=\"line2d_15\"/>\n     <g id=\"text_15\">\n      <!-- 19 -->\n      <g style=\"fill:#9c9c9c;\" transform=\"translate(220.237273 184.35875)scale(0.08 -0.08)\">\n       <use xlink:href=\"#DejaVuSans-31\"/>\n       <use x=\"63.623047\" xlink:href=\"#DejaVuSans-39\"/>\n      </g>\n     </g>\n    </g>\n    <g id=\"xtick_16\">\n     <g id=\"line2d_16\"/>\n     <g id=\"text_16\">\n      <!-- 20 -->\n      <g style=\"fill:#9c9c9c;\" transform=\"translate(234.730779 184.35875)scale(0.08 -0.08)\">\n       <use xlink:href=\"#DejaVuSans-32\"/>\n       <use x=\"63.623047\" xlink:href=\"#DejaVuSans-30\"/>\n      </g>\n     </g>\n    </g>\n    <g id=\"xtick_17\">\n     <g id=\"line2d_17\"/>\n     <g id=\"text_17\">\n      <!-- 21 -->\n      <g style=\"fill:#9c9c9c;\" transform=\"translate(249.224286 184.35875)scale(0.08 -0.08)\">\n       <use xlink:href=\"#DejaVuSans-32\"/>\n       <use x=\"63.623047\" xlink:href=\"#DejaVuSans-31\"/>\n      </g>\n     </g>\n    </g>\n    <g id=\"xtick_18\">\n     <g id=\"line2d_18\"/>\n     <g id=\"text_18\">\n      <!-- 22 -->\n      <g style=\"fill:#9c9c9c;\" transform=\"translate(263.717792 184.35875)scale(0.08 -0.08)\">\n       <use xlink:href=\"#DejaVuSans-32\"/>\n       <use x=\"63.623047\" xlink:href=\"#DejaVuSans-32\"/>\n      </g>\n     </g>\n    </g>\n    <g id=\"xtick_19\">\n     <g id=\"line2d_19\"/>\n     <g id=\"text_19\">\n      <!-- 23 -->\n      <g style=\"fill:#9c9c9c;\" transform=\"translate(278.211299 184.35875)scale(0.08 -0.08)\">\n       <use xlink:href=\"#DejaVuSans-32\"/>\n       <use x=\"63.623047\" xlink:href=\"#DejaVuSans-33\"/>\n      </g>\n     </g>\n    </g>\n    <g id=\"xtick_20\">\n     <g id=\"line2d_20\"/>\n     <g id=\"text_20\">\n      <!-- 24 -->\n      <g style=\"fill:#9c9c9c;\" transform=\"translate(292.704805 184.35875)scale(0.08 -0.08)\">\n       <use xlink:href=\"#DejaVuSans-32\"/>\n       <use x=\"63.623047\" xlink:href=\"#DejaVuSans-34\"/>\n      </g>\n     </g>\n    </g>\n    <g id=\"xtick_21\">\n     <g id=\"line2d_21\"/>\n     <g id=\"text_21\">\n      <!-- 25 -->\n      <g style=\"fill:#9c9c9c;\" transform=\"translate(307.198312 184.35875)scale(0.08 -0.08)\">\n       <use xlink:href=\"#DejaVuSans-32\"/>\n       <use x=\"63.623047\" xlink:href=\"#DejaVuSans-35\"/>\n      </g>\n     </g>\n    </g>\n    <g id=\"xtick_22\">\n     <g id=\"line2d_22\"/>\n     <g id=\"text_22\">\n      <!-- 26 -->\n      <g style=\"fill:#9c9c9c;\" transform=\"translate(321.691818 184.35875)scale(0.08 -0.08)\">\n       <use xlink:href=\"#DejaVuSans-32\"/>\n       <use x=\"63.623047\" xlink:href=\"#DejaVuSans-36\"/>\n      </g>\n     </g>\n    </g>\n   </g>\n   <g id=\"line2d_23\">\n    <defs>\n     <path d=\"M 0 5 \nC 1.326016 5 2.597899 4.473168 3.535534 3.535534 \nC 4.473168 2.597899 5 1.326016 5 0 \nC 5 -1.326016 4.473168 -2.597899 3.535534 -3.535534 \nC 2.597899 -4.473168 1.326016 -5 0 -5 \nC -1.326016 -5 -2.597899 -4.473168 -3.535534 -3.535534 \nC -4.473168 -2.597899 -5 -1.326016 -5 0 \nC -5 1.326016 -4.473168 2.597899 -3.535534 3.535534 \nC -2.597899 4.473168 -1.326016 5 0 5 \nz\n\" id=\"ma02f67e60b\" style=\"stroke:#3f83f4;\"/>\n    </defs>\n    <g clip-path=\"url(#p755219eb73)\">\n     <use style=\"fill:#3f83f4;stroke:#3f83f4;\" x=\"22.418182\" xlink:href=\"#ma02f67e60b\" y=\"156.69\"/>\n     <use style=\"fill:#3f83f4;stroke:#3f83f4;\" x=\"22.418182\" xlink:href=\"#ma02f67e60b\" y=\"143.1\"/>\n     <use style=\"fill:#3f83f4;stroke:#3f83f4;\" x=\"22.418182\" xlink:href=\"#ma02f67e60b\" y=\"129.51\"/>\n    </g>\n   </g>\n   <g id=\"line2d_24\">\n    <g clip-path=\"url(#p755219eb73)\">\n     <use style=\"fill:#3f83f4;stroke:#3f83f4;\" x=\"36.911688\" xlink:href=\"#ma02f67e60b\" y=\"156.69\"/>\n     <use style=\"fill:#3f83f4;stroke:#3f83f4;\" x=\"36.911688\" xlink:href=\"#ma02f67e60b\" y=\"143.1\"/>\n     <use style=\"fill:#3f83f4;stroke:#3f83f4;\" x=\"36.911688\" xlink:href=\"#ma02f67e60b\" y=\"129.51\"/>\n     <use style=\"fill:#3f83f4;stroke:#3f83f4;\" x=\"36.911688\" xlink:href=\"#ma02f67e60b\" y=\"115.92\"/>\n     <use style=\"fill:#3f83f4;stroke:#3f83f4;\" x=\"36.911688\" xlink:href=\"#ma02f67e60b\" y=\"102.33\"/>\n    </g>\n   </g>\n   <g id=\"line2d_25\">\n    <g clip-path=\"url(#p755219eb73)\">\n     <use style=\"fill:#3f83f4;stroke:#3f83f4;\" x=\"51.405195\" xlink:href=\"#ma02f67e60b\" y=\"156.69\"/>\n     <use style=\"fill:#3f83f4;stroke:#3f83f4;\" x=\"51.405195\" xlink:href=\"#ma02f67e60b\" y=\"143.1\"/>\n     <use style=\"fill:#3f83f4;stroke:#3f83f4;\" x=\"51.405195\" xlink:href=\"#ma02f67e60b\" y=\"129.51\"/>\n     <use style=\"fill:#3f83f4;stroke:#3f83f4;\" x=\"51.405195\" xlink:href=\"#ma02f67e60b\" y=\"115.92\"/>\n     <use style=\"fill:#3f83f4;stroke:#3f83f4;\" x=\"51.405195\" xlink:href=\"#ma02f67e60b\" y=\"102.33\"/>\n     <use style=\"fill:#3f83f4;stroke:#3f83f4;\" x=\"51.405195\" xlink:href=\"#ma02f67e60b\" y=\"88.74\"/>\n     <use style=\"fill:#3f83f4;stroke:#3f83f4;\" x=\"51.405195\" xlink:href=\"#ma02f67e60b\" y=\"75.15\"/>\n    </g>\n   </g>\n   <g id=\"line2d_26\">\n    <g clip-path=\"url(#p755219eb73)\">\n     <use style=\"fill:#3f83f4;stroke:#3f83f4;\" x=\"80.392208\" xlink:href=\"#ma02f67e60b\" y=\"156.69\"/>\n     <use style=\"fill:#3f83f4;stroke:#3f83f4;\" x=\"80.392208\" xlink:href=\"#ma02f67e60b\" y=\"143.1\"/>\n     <use style=\"fill:#3f83f4;stroke:#3f83f4;\" x=\"80.392208\" xlink:href=\"#ma02f67e60b\" y=\"129.51\"/>\n     <use style=\"fill:#3f83f4;stroke:#3f83f4;\" x=\"80.392208\" xlink:href=\"#ma02f67e60b\" y=\"115.92\"/>\n     <use style=\"fill:#3f83f4;stroke:#3f83f4;\" x=\"80.392208\" xlink:href=\"#ma02f67e60b\" y=\"102.33\"/>\n     <use style=\"fill:#3f83f4;stroke:#3f83f4;\" x=\"80.392208\" xlink:href=\"#ma02f67e60b\" y=\"88.74\"/>\n     <use style=\"fill:#3f83f4;stroke:#3f83f4;\" x=\"80.392208\" xlink:href=\"#ma02f67e60b\" y=\"75.15\"/>\n     <use style=\"fill:#3f83f4;stroke:#3f83f4;\" x=\"80.392208\" xlink:href=\"#ma02f67e60b\" y=\"61.56\"/>\n     <use style=\"fill:#3f83f4;stroke:#3f83f4;\" x=\"80.392208\" xlink:href=\"#ma02f67e60b\" y=\"47.97\"/>\n     <use style=\"fill:#3f83f4;stroke:#3f83f4;\" x=\"80.392208\" xlink:href=\"#ma02f67e60b\" y=\"34.38\"/>\n     <use style=\"fill:#3f83f4;stroke:#3f83f4;\" x=\"80.392208\" xlink:href=\"#ma02f67e60b\" y=\"20.79\"/>\n    </g>\n   </g>\n   <g id=\"line2d_27\">\n    <g clip-path=\"url(#p755219eb73)\">\n     <use style=\"fill:#3f83f4;stroke:#3f83f4;\" x=\"94.885714\" xlink:href=\"#ma02f67e60b\" y=\"156.69\"/>\n     <use style=\"fill:#3f83f4;stroke:#3f83f4;\" x=\"94.885714\" xlink:href=\"#ma02f67e60b\" y=\"143.1\"/>\n     <use style=\"fill:#3f83f4;stroke:#3f83f4;\" x=\"94.885714\" xlink:href=\"#ma02f67e60b\" y=\"129.51\"/>\n     <use style=\"fill:#3f83f4;stroke:#3f83f4;\" x=\"94.885714\" xlink:href=\"#ma02f67e60b\" y=\"115.92\"/>\n     <use style=\"fill:#3f83f4;stroke:#3f83f4;\" x=\"94.885714\" xlink:href=\"#ma02f67e60b\" y=\"102.33\"/>\n     <use style=\"fill:#3f83f4;stroke:#3f83f4;\" x=\"94.885714\" xlink:href=\"#ma02f67e60b\" y=\"88.74\"/>\n     <use style=\"fill:#3f83f4;stroke:#3f83f4;\" x=\"94.885714\" xlink:href=\"#ma02f67e60b\" y=\"75.15\"/>\n    </g>\n   </g>\n   <g id=\"line2d_28\">\n    <g clip-path=\"url(#p755219eb73)\">\n     <use style=\"fill:#3f83f4;stroke:#3f83f4;\" x=\"109.379221\" xlink:href=\"#ma02f67e60b\" y=\"156.69\"/>\n    </g>\n   </g>\n   <g id=\"line2d_29\">\n    <g clip-path=\"url(#p755219eb73)\">\n     <use style=\"fill:#3f83f4;stroke:#3f83f4;\" x=\"123.872727\" xlink:href=\"#ma02f67e60b\" y=\"156.69\"/>\n     <use style=\"fill:#3f83f4;stroke:#3f83f4;\" x=\"123.872727\" xlink:href=\"#ma02f67e60b\" y=\"143.1\"/>\n     <use style=\"fill:#3f83f4;stroke:#3f83f4;\" x=\"123.872727\" xlink:href=\"#ma02f67e60b\" y=\"129.51\"/>\n    </g>\n   </g>\n   <g id=\"line2d_30\">\n    <g clip-path=\"url(#p755219eb73)\">\n     <use style=\"fill:#3f83f4;stroke:#3f83f4;\" x=\"152.85974\" xlink:href=\"#ma02f67e60b\" y=\"156.69\"/>\n    </g>\n   </g>\n   <g id=\"line2d_31\">\n    <g clip-path=\"url(#p755219eb73)\">\n     <use style=\"fill:#3f83f4;stroke:#3f83f4;\" x=\"167.353247\" xlink:href=\"#ma02f67e60b\" y=\"156.69\"/>\n    </g>\n   </g>\n   <g id=\"line2d_32\">\n    <g clip-path=\"url(#p755219eb73)\">\n     <use style=\"fill:#3f83f4;stroke:#3f83f4;\" x=\"181.846753\" xlink:href=\"#ma02f67e60b\" y=\"156.69\"/>\n    </g>\n   </g>\n   <g id=\"line2d_33\">\n    <g clip-path=\"url(#p755219eb73)\">\n     <use style=\"fill:#3f83f4;stroke:#3f83f4;\" x=\"196.34026\" xlink:href=\"#ma02f67e60b\" y=\"156.69\"/>\n     <use style=\"fill:#3f83f4;stroke:#3f83f4;\" x=\"196.34026\" xlink:href=\"#ma02f67e60b\" y=\"143.1\"/>\n     <use style=\"fill:#3f83f4;stroke:#3f83f4;\" x=\"196.34026\" xlink:href=\"#ma02f67e60b\" y=\"129.51\"/>\n    </g>\n   </g>\n   <g id=\"line2d_34\">\n    <g clip-path=\"url(#p755219eb73)\">\n     <use style=\"fill:#3f83f4;stroke:#3f83f4;\" x=\"210.833766\" xlink:href=\"#ma02f67e60b\" y=\"156.69\"/>\n     <use style=\"fill:#3f83f4;stroke:#3f83f4;\" x=\"210.833766\" xlink:href=\"#ma02f67e60b\" y=\"143.1\"/>\n    </g>\n   </g>\n   <g id=\"line2d_35\">\n    <g clip-path=\"url(#p755219eb73)\">\n     <use style=\"fill:#3f83f4;stroke:#3f83f4;\" x=\"225.327273\" xlink:href=\"#ma02f67e60b\" y=\"156.69\"/>\n    </g>\n   </g>\n   <g id=\"line2d_36\">\n    <g clip-path=\"url(#p755219eb73)\">\n     <use style=\"fill:#3f83f4;stroke:#3f83f4;\" x=\"239.820779\" xlink:href=\"#ma02f67e60b\" y=\"156.69\"/>\n    </g>\n   </g>\n   <g id=\"line2d_37\">\n    <g clip-path=\"url(#p755219eb73)\">\n     <use style=\"fill:#3f83f4;stroke:#3f83f4;\" x=\"254.314286\" xlink:href=\"#ma02f67e60b\" y=\"156.69\"/>\n    </g>\n   </g>\n   <g id=\"line2d_38\">\n    <g clip-path=\"url(#p755219eb73)\">\n     <use style=\"fill:#3f83f4;stroke:#3f83f4;\" x=\"297.794805\" xlink:href=\"#ma02f67e60b\" y=\"156.69\"/>\n    </g>\n   </g>\n   <g id=\"line2d_39\">\n    <g clip-path=\"url(#p755219eb73)\">\n     <use style=\"fill:#3f83f4;stroke:#3f83f4;\" x=\"326.781818\" xlink:href=\"#ma02f67e60b\" y=\"156.69\"/>\n    </g>\n   </g>\n   <g id=\"line2d_40\">\n    <defs>\n     <path d=\"M 0 5 \nC 1.326016 5 2.597899 4.473168 3.535534 3.535534 \nC 4.473168 2.597899 5 1.326016 5 0 \nC 5 -1.326016 4.473168 -2.597899 3.535534 -3.535534 \nC 2.597899 -4.473168 1.326016 -5 0 -5 \nC -1.326016 -5 -2.597899 -4.473168 -3.535534 -3.535534 \nC -4.473168 -2.597899 -5 -1.326016 -5 0 \nC -5 1.326016 -4.473168 2.597899 -3.535534 3.535534 \nC -2.597899 4.473168 -1.326016 5 0 5 \nz\n\" id=\"m7ac00bf29e\" style=\"stroke:#ef8733;\"/>\n    </defs>\n    <g clip-path=\"url(#p755219eb73)\">\n     <use style=\"fill:#ef8733;stroke:#ef8733;\" x=\"109.958961\" xlink:href=\"#m7ac00bf29e\" y=\"156.69\"/>\n    </g>\n   </g>\n   <g id=\"patch_3\">\n    <path d=\"M 7.2 170.28 \nL 342 170.28 \n\" style=\"fill:none;stroke:#9c9c9c;stroke-linecap:square;stroke-linejoin:miter;stroke-width:0.8;\"/>\n   </g>\n   <g id=\"text_23\">\n    <!-- Mean -->\n    <g style=\"fill:#ef8733;\" transform=\"translate(102.712208 115.92)scale(0.1 -0.1)\">\n     <defs>\n      <path d=\"M 628 4666 \nL 1569 4666 \nL 2759 1491 \nL 3956 4666 \nL 4897 4666 \nL 4897 0 \nL 4281 0 \nL 4281 4097 \nL 3078 897 \nL 2444 897 \nL 1241 4097 \nL 1241 0 \nL 628 0 \nL 628 4666 \nz\n\" id=\"DejaVuSans-4d\" transform=\"scale(0.015625)\"/>\n      <path d=\"M 3597 1894 \nL 3597 1613 \nL 953 1613 \nQ 991 1019 1311 708 \nQ 1631 397 2203 397 \nQ 2534 397 2845 478 \nQ 3156 559 3463 722 \nL 3463 178 \nQ 3153 47 2828 -22 \nQ 2503 -91 2169 -91 \nQ 1331 -91 842 396 \nQ 353 884 353 1716 \nQ 353 2575 817 3079 \nQ 1281 3584 2069 3584 \nQ 2775 3584 3186 3129 \nQ 3597 2675 3597 1894 \nz\nM 3022 2063 \nQ 3016 2534 2758 2815 \nQ 2500 3097 2075 3097 \nQ 1594 3097 1305 2825 \nQ 1016 2553 972 2059 \nL 3022 2063 \nz\n\" id=\"DejaVuSans-65\" transform=\"scale(0.015625)\"/>\n      <path d=\"M 2194 1759 \nQ 1497 1759 1228 1600 \nQ 959 1441 959 1056 \nQ 959 750 1161 570 \nQ 1363 391 1709 391 \nQ 2188 391 2477 730 \nQ 2766 1069 2766 1631 \nL 2766 1759 \nL 2194 1759 \nz\nM 3341 1997 \nL 3341 0 \nL 2766 0 \nL 2766 531 \nQ 2569 213 2275 61 \nQ 1981 -91 1556 -91 \nQ 1019 -91 701 211 \nQ 384 513 384 1019 \nQ 384 1609 779 1909 \nQ 1175 2209 1959 2209 \nL 2766 2209 \nL 2766 2266 \nQ 2766 2663 2505 2880 \nQ 2244 3097 1772 3097 \nQ 1472 3097 1187 3025 \nQ 903 2953 641 2809 \nL 641 3341 \nQ 956 3463 1253 3523 \nQ 1550 3584 1831 3584 \nQ 2591 3584 2966 3190 \nQ 3341 2797 3341 1997 \nz\n\" id=\"DejaVuSans-61\" transform=\"scale(0.015625)\"/>\n      <path d=\"M 3513 2113 \nL 3513 0 \nL 2938 0 \nL 2938 2094 \nQ 2938 2591 2744 2837 \nQ 2550 3084 2163 3084 \nQ 1697 3084 1428 2787 \nQ 1159 2491 1159 1978 \nL 1159 0 \nL 581 0 \nL 581 3500 \nL 1159 3500 \nL 1159 2956 \nQ 1366 3272 1645 3428 \nQ 1925 3584 2291 3584 \nQ 2894 3584 3203 3211 \nQ 3513 2838 3513 2113 \nz\n\" id=\"DejaVuSans-6e\" transform=\"scale(0.015625)\"/>\n     </defs>\n     <use xlink:href=\"#DejaVuSans-4d\"/>\n     <use x=\"86.279297\" xlink:href=\"#DejaVuSans-65\"/>\n     <use x=\"147.802734\" xlink:href=\"#DejaVuSans-61\"/>\n     <use x=\"209.082031\" xlink:href=\"#DejaVuSans-6e\"/>\n    </g>\n   </g>\n  </g>\n </g>\n <defs>\n  <clipPath id=\"p755219eb73\">\n   <rect height=\"163.08\" width=\"334.8\" x=\"7.2\" y=\"7.2\"/>\n  </clipPath>\n </defs>\n</svg>\n"
     },
     "metadata": {}
    }
   ],
   "metadata": {}
  },
  {
   "cell_type": "code",
   "execution_count": 91,
   "source": [
    "print(mean)"
   ],
   "outputs": [
    {
     "output_type": "stream",
     "name": "stdout",
     "text": [
      "11.04\n"
     ]
    }
   ],
   "metadata": {}
  },
  {
   "cell_type": "markdown",
   "source": [
    "The sample mean can be calculated as the sum of the observed values divided by the number of observations:  \n",
    "\n",
    "\n",
    "$$ \\bar{x} = \\frac{x_1 + x_2 + \\cdots + x_n}{n} $$"
   ],
   "metadata": {}
  },
  {
   "cell_type": "markdown",
   "source": [
    "### Asthma example\n",
    "\n",
    "Results of a trial of 1500 adults that suffer from asthma;"
   ],
   "metadata": {}
  },
  {
   "cell_type": "code",
   "execution_count": 95,
   "source": [
    "d= {'Description': [\"Number of patients\", \"Total asthma attacks\"], 'New drug': [500, 200], 'Standard drug': [1000, 300]}\n",
    "drug_asthma = pd.DataFrame(data=d)\n",
    "drug_asthma"
   ],
   "outputs": [
    {
     "output_type": "execute_result",
     "data": {
      "text/plain": [
       "            Description  New drug  Standard drug\n",
       "0    Number of patients       500           1000\n",
       "1  Total asthma attacks       200            300"
      ],
      "text/html": [
       "<div>\n",
       "<style scoped>\n",
       "    .dataframe tbody tr th:only-of-type {\n",
       "        vertical-align: middle;\n",
       "    }\n",
       "\n",
       "    .dataframe tbody tr th {\n",
       "        vertical-align: top;\n",
       "    }\n",
       "\n",
       "    .dataframe thead th {\n",
       "        text-align: right;\n",
       "    }\n",
       "</style>\n",
       "<table border=\"1\" class=\"dataframe\">\n",
       "  <thead>\n",
       "    <tr style=\"text-align: right;\">\n",
       "      <th></th>\n",
       "      <th>Description</th>\n",
       "      <th>New drug</th>\n",
       "      <th>Standard drug</th>\n",
       "    </tr>\n",
       "  </thead>\n",
       "  <tbody>\n",
       "    <tr>\n",
       "      <th>0</th>\n",
       "      <td>Number of patients</td>\n",
       "      <td>500</td>\n",
       "      <td>1000</td>\n",
       "    </tr>\n",
       "    <tr>\n",
       "      <th>1</th>\n",
       "      <td>Total asthma attacks</td>\n",
       "      <td>200</td>\n",
       "      <td>300</td>\n",
       "    </tr>\n",
       "  </tbody>\n",
       "</table>\n",
       "</div>"
      ]
     },
     "metadata": {},
     "execution_count": 95
    }
   ],
   "metadata": {}
  },
  {
   "cell_type": "code",
   "execution_count": 98,
   "source": [
    "# Asthma attacks per patients\n",
    "new_drug = 200/500\n",
    "standard_drug = 300/1000\n",
    "\n",
    "print(\"New drug: 200/500 = \", new_drug, \"asthma attacks per patient\")\n",
    "print(\"Standrard drug: 300/1000 = \", standard_drug, \"asthma attacks per patient\")\n"
   ],
   "outputs": [
    {
     "output_type": "stream",
     "name": "stdout",
     "text": [
      "New drug: 200/500 =  0.4 asthma attacks per patient\n",
      "Standrard drug: 300/1000 =  0.3 asthma attacks per patient\n"
     ]
    }
   ],
   "metadata": {}
  }
 ],
 "metadata": {
  "celltoolbar": "Slideshow",
  "interpreter": {
   "hash": "d361e8bd3ab8be8f3ea65790adb41c2b64f49b1477d0d1af835155fecf213182"
  },
  "kernelspec": {
   "name": "python3",
   "display_name": "Python 3.8.2 64-bit ('base': conda)"
  },
  "language_info": {
   "codemirror_mode": {
    "name": "ipython",
    "version": 3
   },
   "file_extension": ".py",
   "mimetype": "text/x-python",
   "name": "python",
   "nbconvert_exporter": "python",
   "pygments_lexer": "ipython3",
   "version": "3.8.2"
  },
  "varInspector": {
   "cols": {
    "lenName": 16,
    "lenType": 16,
    "lenVar": 40
   },
   "kernels_config": {
    "python": {
     "delete_cmd_postfix": "",
     "delete_cmd_prefix": "del ",
     "library": "var_list.py",
     "varRefreshCmd": "print(var_dic_list())"
    },
    "r": {
     "delete_cmd_postfix": ") ",
     "delete_cmd_prefix": "rm(",
     "library": "var_list.r",
     "varRefreshCmd": "cat(var_dic_list()) "
    }
   },
   "types_to_exclude": [
    "module",
    "function",
    "builtin_function_or_method",
    "instance",
    "_Feature"
   ],
   "window_display": false
  }
 },
 "nbformat": 4,
 "nbformat_minor": 2
}