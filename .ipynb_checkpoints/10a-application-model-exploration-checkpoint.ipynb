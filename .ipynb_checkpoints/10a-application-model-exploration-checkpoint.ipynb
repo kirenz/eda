{
 "cells": [
  {
   "cell_type": "markdown",
   "metadata": {
    "slideshow": {
     "slide_type": "slide"
    }
   },
   "source": [
    "# Applications: Model\n",
    "\n",
    "## Data exploration"
   ]
  },
  {
   "cell_type": "markdown",
   "metadata": {
    "slideshow": {
     "slide_type": "slide"
    }
   },
   "source": [
    "## Setup"
   ]
  },
  {
   "cell_type": "code",
   "execution_count": 1,
   "metadata": {
    "slideshow": {
     "slide_type": "fragment"
    }
   },
   "outputs": [],
   "source": [
    "%matplotlib inline\n",
    "import pandas as pd\n",
    "import numpy as np\n",
    "import seaborn as sns \n",
    "import matplotlib.pyplot as plt\n",
    "\n",
    "sns.set_theme(style=\"ticks\", color_codes=True)\n",
    "\n",
    "# Custom colors\n",
    "blue = \"#3F83F4\"\n",
    "blue_dark = \"#062089\"\n",
    "blue_light = \"#8DC0F6\"\n",
    "blue_lighter = \"#BBE4FA\"\n",
    "grey = \"#9C9C9C\"\n",
    "grey_dark = \"#777777\"\n",
    "grey_light = \"#B2B2B2\"\n",
    "orange = \"#EF8733\"\n",
    "my_colors = [blue, orange]"
   ]
  },
  {
   "cell_type": "markdown",
   "metadata": {
    "slideshow": {
     "slide_type": "slide"
    }
   },
   "source": [
    "## Import data"
   ]
  },
  {
   "cell_type": "code",
   "execution_count": 2,
   "metadata": {
    "scrolled": true,
    "slideshow": {
     "slide_type": "slide"
    }
   },
   "outputs": [
    {
     "data": {
      "text/html": [
       "<div>\n",
       "<style scoped>\n",
       "    .dataframe tbody tr th:only-of-type {\n",
       "        vertical-align: middle;\n",
       "    }\n",
       "\n",
       "    .dataframe tbody tr th {\n",
       "        vertical-align: top;\n",
       "    }\n",
       "\n",
       "    .dataframe thead th {\n",
       "        text-align: right;\n",
       "    }\n",
       "</style>\n",
       "<table border=\"1\" class=\"dataframe\">\n",
       "  <thead>\n",
       "    <tr style=\"text-align: right;\">\n",
       "      <th></th>\n",
       "      <th>address</th>\n",
       "      <th>price</th>\n",
       "      <th>bed</th>\n",
       "      <th>bath</th>\n",
       "      <th>area</th>\n",
       "      <th>type</th>\n",
       "      <th>year_built</th>\n",
       "      <th>heating</th>\n",
       "      <th>cooling</th>\n",
       "      <th>parking</th>\n",
       "      <th>lot</th>\n",
       "      <th>hoa</th>\n",
       "      <th>url</th>\n",
       "    </tr>\n",
       "  </thead>\n",
       "  <tbody>\n",
       "    <tr>\n",
       "      <th>0</th>\n",
       "      <td>1 Learned Pl, Durham, NC 27705</td>\n",
       "      <td>1520000</td>\n",
       "      <td>3</td>\n",
       "      <td>4.0</td>\n",
       "      <td>6040</td>\n",
       "      <td>Single Family</td>\n",
       "      <td>1972</td>\n",
       "      <td>Other, Gas</td>\n",
       "      <td>central</td>\n",
       "      <td>0 spaces</td>\n",
       "      <td>0.97</td>\n",
       "      <td>NaN</td>\n",
       "      <td>https://www.zillow.com/homedetails/1-Learned-P...</td>\n",
       "    </tr>\n",
       "    <tr>\n",
       "      <th>1</th>\n",
       "      <td>1616 Pinecrest Rd, Durham, NC 27705</td>\n",
       "      <td>1030000</td>\n",
       "      <td>5</td>\n",
       "      <td>4.0</td>\n",
       "      <td>4475</td>\n",
       "      <td>Single Family</td>\n",
       "      <td>1969</td>\n",
       "      <td>Forced air, Gas</td>\n",
       "      <td>central</td>\n",
       "      <td>Carport, Covered</td>\n",
       "      <td>1.38</td>\n",
       "      <td>NaN</td>\n",
       "      <td>https://www.zillow.com/homedetails/1616-Pinecr...</td>\n",
       "    </tr>\n",
       "    <tr>\n",
       "      <th>2</th>\n",
       "      <td>2418 Wrightwood Ave, Durham, NC 27705</td>\n",
       "      <td>420000</td>\n",
       "      <td>2</td>\n",
       "      <td>3.0</td>\n",
       "      <td>1745</td>\n",
       "      <td>Single Family</td>\n",
       "      <td>1959</td>\n",
       "      <td>Forced air, Gas</td>\n",
       "      <td>central</td>\n",
       "      <td>Garage - Attached, Covered</td>\n",
       "      <td>0.51</td>\n",
       "      <td>NaN</td>\n",
       "      <td>https://www.zillow.com/homedetails/2418-Wright...</td>\n",
       "    </tr>\n",
       "    <tr>\n",
       "      <th>3</th>\n",
       "      <td>2527 Sevier St, Durham, NC 27705</td>\n",
       "      <td>680000</td>\n",
       "      <td>4</td>\n",
       "      <td>3.0</td>\n",
       "      <td>2091</td>\n",
       "      <td>Single Family</td>\n",
       "      <td>1961</td>\n",
       "      <td>Heat pump, Other, Electric, Gas</td>\n",
       "      <td>central</td>\n",
       "      <td>Carport, Covered</td>\n",
       "      <td>0.84</td>\n",
       "      <td>NaN</td>\n",
       "      <td>https://www.zillow.com/homedetails/2527-Sevier...</td>\n",
       "    </tr>\n",
       "    <tr>\n",
       "      <th>4</th>\n",
       "      <td>2218 Myers St, Durham, NC 27707</td>\n",
       "      <td>428500</td>\n",
       "      <td>4</td>\n",
       "      <td>3.0</td>\n",
       "      <td>1772</td>\n",
       "      <td>Single Family</td>\n",
       "      <td>2020</td>\n",
       "      <td>Forced air, Gas</td>\n",
       "      <td>central</td>\n",
       "      <td>0 spaces</td>\n",
       "      <td>0.16</td>\n",
       "      <td>NaN</td>\n",
       "      <td>https://www.zillow.com/homedetails/2218-Myers-...</td>\n",
       "    </tr>\n",
       "  </tbody>\n",
       "</table>\n",
       "</div>"
      ],
      "text/plain": [
       "                                 address    price  bed  bath  area  \\\n",
       "0         1 Learned Pl, Durham, NC 27705  1520000    3   4.0  6040   \n",
       "1    1616 Pinecrest Rd, Durham, NC 27705  1030000    5   4.0  4475   \n",
       "2  2418 Wrightwood Ave, Durham, NC 27705   420000    2   3.0  1745   \n",
       "3       2527 Sevier St, Durham, NC 27705   680000    4   3.0  2091   \n",
       "4        2218 Myers St, Durham, NC 27707   428500    4   3.0  1772   \n",
       "\n",
       "            type  year_built                          heating  cooling  \\\n",
       "0  Single Family        1972                       Other, Gas  central   \n",
       "1  Single Family        1969                  Forced air, Gas  central   \n",
       "2  Single Family        1959                  Forced air, Gas  central   \n",
       "3  Single Family        1961  Heat pump, Other, Electric, Gas  central   \n",
       "4  Single Family        2020                  Forced air, Gas  central   \n",
       "\n",
       "                      parking   lot  hoa  \\\n",
       "0                    0 spaces  0.97  NaN   \n",
       "1            Carport, Covered  1.38  NaN   \n",
       "2  Garage - Attached, Covered  0.51  NaN   \n",
       "3            Carport, Covered  0.84  NaN   \n",
       "4                    0 spaces  0.16  NaN   \n",
       "\n",
       "                                                 url  \n",
       "0  https://www.zillow.com/homedetails/1-Learned-P...  \n",
       "1  https://www.zillow.com/homedetails/1616-Pinecr...  \n",
       "2  https://www.zillow.com/homedetails/2418-Wright...  \n",
       "3  https://www.zillow.com/homedetails/2527-Sevier...  \n",
       "4  https://www.zillow.com/homedetails/2218-Myers-...  "
      ]
     },
     "execution_count": 2,
     "metadata": {},
     "output_type": "execute_result"
    }
   ],
   "source": [
    "ROOT = \"https://raw.githubusercontent.com/kirenz/modern-statistics/main/data/\"\n",
    "DATA = \"duke-forest.csv\"\n",
    "\n",
    "df = pd.read_csv(ROOT + DATA)\n",
    "df.head()"
   ]
  },
  {
   "cell_type": "code",
   "execution_count": 3,
   "metadata": {
    "slideshow": {
     "slide_type": "slide"
    }
   },
   "outputs": [
    {
     "data": {
      "text/html": [
       "<div>\n",
       "<style scoped>\n",
       "    .dataframe tbody tr th:only-of-type {\n",
       "        vertical-align: middle;\n",
       "    }\n",
       "\n",
       "    .dataframe tbody tr th {\n",
       "        vertical-align: top;\n",
       "    }\n",
       "\n",
       "    .dataframe thead th {\n",
       "        text-align: right;\n",
       "    }\n",
       "</style>\n",
       "<table border=\"1\" class=\"dataframe\">\n",
       "  <thead>\n",
       "    <tr style=\"text-align: right;\">\n",
       "      <th></th>\n",
       "      <th>address</th>\n",
       "      <th>price</th>\n",
       "      <th>bed</th>\n",
       "      <th>bath</th>\n",
       "      <th>area</th>\n",
       "      <th>type</th>\n",
       "      <th>year_built</th>\n",
       "      <th>heating</th>\n",
       "      <th>cooling</th>\n",
       "      <th>parking</th>\n",
       "      <th>lot</th>\n",
       "      <th>hoa</th>\n",
       "      <th>url</th>\n",
       "    </tr>\n",
       "  </thead>\n",
       "  <tbody>\n",
       "    <tr>\n",
       "      <th>93</th>\n",
       "      <td>2507 Sevier St, Durham, NC 27705</td>\n",
       "      <td>541000</td>\n",
       "      <td>4</td>\n",
       "      <td>4.0</td>\n",
       "      <td>2740</td>\n",
       "      <td>Single Family</td>\n",
       "      <td>1960</td>\n",
       "      <td>Forced air, Heat pump, Gas</td>\n",
       "      <td>central</td>\n",
       "      <td>Carport, Covered</td>\n",
       "      <td>0.51</td>\n",
       "      <td>NaN</td>\n",
       "      <td>https://www.zillow.com/homedetails/2507-Sevier...</td>\n",
       "    </tr>\n",
       "    <tr>\n",
       "      <th>94</th>\n",
       "      <td>1207 Woodburn Rd, Durham, NC 27705</td>\n",
       "      <td>473000</td>\n",
       "      <td>3</td>\n",
       "      <td>3.0</td>\n",
       "      <td>2171</td>\n",
       "      <td>Single Family</td>\n",
       "      <td>1955</td>\n",
       "      <td>Forced air, Electric, Gas</td>\n",
       "      <td>other</td>\n",
       "      <td>0 spaces</td>\n",
       "      <td>0.61</td>\n",
       "      <td>NaN</td>\n",
       "      <td>https://www.zillow.com/homedetails/1207-Woodbu...</td>\n",
       "    </tr>\n",
       "    <tr>\n",
       "      <th>95</th>\n",
       "      <td>3008 Montgomery St, Durham, NC 27705</td>\n",
       "      <td>490000</td>\n",
       "      <td>4</td>\n",
       "      <td>4.0</td>\n",
       "      <td>2972</td>\n",
       "      <td>Single Family</td>\n",
       "      <td>1984</td>\n",
       "      <td>Forced air, Electric, Gas</td>\n",
       "      <td>central</td>\n",
       "      <td>Garage - Attached, Off-street, Covered</td>\n",
       "      <td>0.65</td>\n",
       "      <td>NaN</td>\n",
       "      <td>https://www.zillow.com/homedetails/3008-Montgo...</td>\n",
       "    </tr>\n",
       "    <tr>\n",
       "      <th>96</th>\n",
       "      <td>1614 Pinecrest Rd, Durham, NC 27705</td>\n",
       "      <td>815000</td>\n",
       "      <td>4</td>\n",
       "      <td>4.0</td>\n",
       "      <td>3904</td>\n",
       "      <td>Single Family</td>\n",
       "      <td>1970</td>\n",
       "      <td>Forced air, Gas</td>\n",
       "      <td>other</td>\n",
       "      <td>Garage - Attached, Garage - Detached, Covered</td>\n",
       "      <td>1.47</td>\n",
       "      <td>NaN</td>\n",
       "      <td>https://www.zillow.com/homedetails/1614-Pinecr...</td>\n",
       "    </tr>\n",
       "    <tr>\n",
       "      <th>97</th>\n",
       "      <td>2708 Circle Dr, Durham, NC 27705</td>\n",
       "      <td>674500</td>\n",
       "      <td>4</td>\n",
       "      <td>4.0</td>\n",
       "      <td>3766</td>\n",
       "      <td>Single Family</td>\n",
       "      <td>1955</td>\n",
       "      <td>Forced air, Electric, Gas</td>\n",
       "      <td>other</td>\n",
       "      <td>0 spaces</td>\n",
       "      <td>0.73</td>\n",
       "      <td>NaN</td>\n",
       "      <td>https://www.zillow.com/homedetails/2708-Circle...</td>\n",
       "    </tr>\n",
       "  </tbody>\n",
       "</table>\n",
       "</div>"
      ],
      "text/plain": [
       "                                 address   price  bed  bath  area  \\\n",
       "93      2507 Sevier St, Durham, NC 27705  541000    4   4.0  2740   \n",
       "94    1207 Woodburn Rd, Durham, NC 27705  473000    3   3.0  2171   \n",
       "95  3008 Montgomery St, Durham, NC 27705  490000    4   4.0  2972   \n",
       "96   1614 Pinecrest Rd, Durham, NC 27705  815000    4   4.0  3904   \n",
       "97      2708 Circle Dr, Durham, NC 27705  674500    4   4.0  3766   \n",
       "\n",
       "             type  year_built                     heating  cooling  \\\n",
       "93  Single Family        1960  Forced air, Heat pump, Gas  central   \n",
       "94  Single Family        1955   Forced air, Electric, Gas    other   \n",
       "95  Single Family        1984   Forced air, Electric, Gas  central   \n",
       "96  Single Family        1970             Forced air, Gas    other   \n",
       "97  Single Family        1955   Forced air, Electric, Gas    other   \n",
       "\n",
       "                                          parking   lot  hoa  \\\n",
       "93                               Carport, Covered  0.51  NaN   \n",
       "94                                       0 spaces  0.61  NaN   \n",
       "95         Garage - Attached, Off-street, Covered  0.65  NaN   \n",
       "96  Garage - Attached, Garage - Detached, Covered  1.47  NaN   \n",
       "97                                       0 spaces  0.73  NaN   \n",
       "\n",
       "                                                  url  \n",
       "93  https://www.zillow.com/homedetails/2507-Sevier...  \n",
       "94  https://www.zillow.com/homedetails/1207-Woodbu...  \n",
       "95  https://www.zillow.com/homedetails/3008-Montgo...  \n",
       "96  https://www.zillow.com/homedetails/1614-Pinecr...  \n",
       "97  https://www.zillow.com/homedetails/2708-Circle...  "
      ]
     },
     "execution_count": 3,
     "metadata": {},
     "output_type": "execute_result"
    }
   ],
   "source": [
    "df.tail()"
   ]
  },
  {
   "cell_type": "code",
   "execution_count": 4,
   "metadata": {},
   "outputs": [
    {
     "name": "stdout",
     "output_type": "stream",
     "text": [
      "<class 'pandas.core.frame.DataFrame'>\n",
      "RangeIndex: 98 entries, 0 to 97\n",
      "Data columns (total 13 columns):\n",
      " #   Column      Non-Null Count  Dtype  \n",
      "---  ------      --------------  -----  \n",
      " 0   address     98 non-null     object \n",
      " 1   price       98 non-null     int64  \n",
      " 2   bed         98 non-null     int64  \n",
      " 3   bath        98 non-null     float64\n",
      " 4   area        98 non-null     int64  \n",
      " 5   type        98 non-null     object \n",
      " 6   year_built  98 non-null     int64  \n",
      " 7   heating     98 non-null     object \n",
      " 8   cooling     98 non-null     object \n",
      " 9   parking     98 non-null     object \n",
      " 10  lot         97 non-null     float64\n",
      " 11  hoa         1 non-null      object \n",
      " 12  url         98 non-null     object \n",
      "dtypes: float64(2), int64(4), object(7)\n",
      "memory usage: 10.1+ KB\n"
     ]
    }
   ],
   "source": [
    "df.info()"
   ]
  },
  {
   "cell_type": "code",
   "execution_count": 5,
   "metadata": {
    "slideshow": {
     "slide_type": "slide"
    }
   },
   "outputs": [],
   "source": [
    "# Drop irrelevant features\n",
    "df = df.drop(['url', 'address'], axis=1)"
   ]
  },
  {
   "cell_type": "code",
   "execution_count": 6,
   "metadata": {
    "slideshow": {
     "slide_type": "slide"
    }
   },
   "outputs": [],
   "source": [
    "# Convert data types\n",
    "df['type'] = df['type'].astype(\"category\")\n",
    "df['heating'] = df['heating'].astype(\"category\")\n",
    "df['cooling'] = df['cooling'].astype(\"category\")\n",
    "df['parking'] = df['parking'].astype(\"category\")"
   ]
  },
  {
   "cell_type": "code",
   "execution_count": 7,
   "metadata": {
    "slideshow": {
     "slide_type": "slide"
    }
   },
   "outputs": [
    {
     "data": {
      "image/png": "[encoded data removed]",
      "text/plain": [
       "<Figure size 432x288 with 1 Axes>"
      ]
     },
     "metadata": {},
     "output_type": "display_data"
    }
   ],
   "source": [
    "# show missing values (missing values - if present - will be displayed in yellow )\n",
    "sns.heatmap(df.isnull(),yticklabels=False,cbar=False,cmap='viridis');"
   ]
  },
  {
   "cell_type": "code",
   "execution_count": 8,
   "metadata": {
    "slideshow": {
     "slide_type": "slide"
    }
   },
   "outputs": [
    {
     "name": "stdout",
     "output_type": "stream",
     "text": [
      "price          0\n",
      "bed            0\n",
      "bath           0\n",
      "area           0\n",
      "type           0\n",
      "year_built     0\n",
      "heating        0\n",
      "cooling        0\n",
      "parking        0\n",
      "lot            1\n",
      "hoa           97\n",
      "dtype: int64\n"
     ]
    }
   ],
   "source": [
    "print(df.isnull().sum())"
   ]
  },
  {
   "cell_type": "code",
   "execution_count": 9,
   "metadata": {
    "slideshow": {
     "slide_type": "slide"
    }
   },
   "outputs": [],
   "source": [
    "# drop column with too many missing values\n",
    "df = df.drop(['hoa'], axis=1)\n",
    "# drop remaining row with missing value\n",
    "df = df.dropna()"
   ]
  },
  {
   "cell_type": "code",
   "execution_count": 10,
   "metadata": {
    "slideshow": {
     "slide_type": "slide"
    }
   },
   "outputs": [
    {
     "name": "stdout",
     "output_type": "stream",
     "text": [
      "price         0\n",
      "bed           0\n",
      "bath          0\n",
      "area          0\n",
      "type          0\n",
      "year_built    0\n",
      "heating       0\n",
      "cooling       0\n",
      "parking       0\n",
      "lot           0\n",
      "dtype: int64\n"
     ]
    }
   ],
   "source": [
    "print(df.isnull().sum())"
   ]
  },
  {
   "cell_type": "code",
   "execution_count": 11,
   "metadata": {
    "slideshow": {
     "slide_type": "slide"
    }
   },
   "outputs": [
    {
     "data": {
      "text/html": [
       "<div>\n",
       "<style scoped>\n",
       "    .dataframe tbody tr th:only-of-type {\n",
       "        vertical-align: middle;\n",
       "    }\n",
       "\n",
       "    .dataframe tbody tr th {\n",
       "        vertical-align: top;\n",
       "    }\n",
       "\n",
       "    .dataframe thead th {\n",
       "        text-align: right;\n",
       "    }\n",
       "</style>\n",
       "<table border=\"1\" class=\"dataframe\">\n",
       "  <thead>\n",
       "    <tr style=\"text-align: right;\">\n",
       "      <th></th>\n",
       "      <th>count</th>\n",
       "      <th>unique</th>\n",
       "      <th>top</th>\n",
       "      <th>freq</th>\n",
       "    </tr>\n",
       "  </thead>\n",
       "  <tbody>\n",
       "    <tr>\n",
       "      <th>type</th>\n",
       "      <td>97</td>\n",
       "      <td>1</td>\n",
       "      <td>Single Family</td>\n",
       "      <td>97</td>\n",
       "    </tr>\n",
       "    <tr>\n",
       "      <th>heating</th>\n",
       "      <td>97</td>\n",
       "      <td>19</td>\n",
       "      <td>Forced air, Gas</td>\n",
       "      <td>34</td>\n",
       "    </tr>\n",
       "    <tr>\n",
       "      <th>cooling</th>\n",
       "      <td>97</td>\n",
       "      <td>2</td>\n",
       "      <td>other</td>\n",
       "      <td>52</td>\n",
       "    </tr>\n",
       "    <tr>\n",
       "      <th>parking</th>\n",
       "      <td>97</td>\n",
       "      <td>19</td>\n",
       "      <td>0 spaces</td>\n",
       "      <td>42</td>\n",
       "    </tr>\n",
       "  </tbody>\n",
       "</table>\n",
       "</div>"
      ],
      "text/plain": [
       "        count unique              top freq\n",
       "type       97      1    Single Family   97\n",
       "heating    97     19  Forced air, Gas   34\n",
       "cooling    97      2            other   52\n",
       "parking    97     19         0 spaces   42"
      ]
     },
     "execution_count": 11,
     "metadata": {},
     "output_type": "execute_result"
    }
   ],
   "source": [
    "# summary statistics for all categorical columns\n",
    "df.describe(include=['category']).transpose()"
   ]
  },
  {
   "cell_type": "markdown",
   "metadata": {
    "slideshow": {
     "slide_type": "slide"
    }
   },
   "source": [
    "Variable `type` has zero veriation (only single family) and therefore can be exluded from the analysis and the model. We will also exclude `heating`and `parking` to keep this example as simple as possible."
   ]
  },
  {
   "cell_type": "code",
   "execution_count": 12,
   "metadata": {
    "slideshow": {
     "slide_type": "slide"
    }
   },
   "outputs": [
    {
     "data": {
      "text/html": [
       "<div>\n",
       "<style scoped>\n",
       "    .dataframe tbody tr th:only-of-type {\n",
       "        vertical-align: middle;\n",
       "    }\n",
       "\n",
       "    .dataframe tbody tr th {\n",
       "        vertical-align: top;\n",
       "    }\n",
       "\n",
       "    .dataframe thead th {\n",
       "        text-align: right;\n",
       "    }\n",
       "</style>\n",
       "<table border=\"1\" class=\"dataframe\">\n",
       "  <thead>\n",
       "    <tr style=\"text-align: right;\">\n",
       "      <th></th>\n",
       "      <th>price</th>\n",
       "      <th>bed</th>\n",
       "      <th>bath</th>\n",
       "      <th>area</th>\n",
       "      <th>year_built</th>\n",
       "      <th>cooling</th>\n",
       "      <th>lot</th>\n",
       "    </tr>\n",
       "  </thead>\n",
       "  <tbody>\n",
       "    <tr>\n",
       "      <th>0</th>\n",
       "      <td>1520000</td>\n",
       "      <td>3</td>\n",
       "      <td>4.0</td>\n",
       "      <td>6040</td>\n",
       "      <td>1972</td>\n",
       "      <td>central</td>\n",
       "      <td>0.97</td>\n",
       "    </tr>\n",
       "    <tr>\n",
       "      <th>1</th>\n",
       "      <td>1030000</td>\n",
       "      <td>5</td>\n",
       "      <td>4.0</td>\n",
       "      <td>4475</td>\n",
       "      <td>1969</td>\n",
       "      <td>central</td>\n",
       "      <td>1.38</td>\n",
       "    </tr>\n",
       "    <tr>\n",
       "      <th>2</th>\n",
       "      <td>420000</td>\n",
       "      <td>2</td>\n",
       "      <td>3.0</td>\n",
       "      <td>1745</td>\n",
       "      <td>1959</td>\n",
       "      <td>central</td>\n",
       "      <td>0.51</td>\n",
       "    </tr>\n",
       "    <tr>\n",
       "      <th>3</th>\n",
       "      <td>680000</td>\n",
       "      <td>4</td>\n",
       "      <td>3.0</td>\n",
       "      <td>2091</td>\n",
       "      <td>1961</td>\n",
       "      <td>central</td>\n",
       "      <td>0.84</td>\n",
       "    </tr>\n",
       "    <tr>\n",
       "      <th>4</th>\n",
       "      <td>428500</td>\n",
       "      <td>4</td>\n",
       "      <td>3.0</td>\n",
       "      <td>1772</td>\n",
       "      <td>2020</td>\n",
       "      <td>central</td>\n",
       "      <td>0.16</td>\n",
       "    </tr>\n",
       "    <tr>\n",
       "      <th>...</th>\n",
       "      <td>...</td>\n",
       "      <td>...</td>\n",
       "      <td>...</td>\n",
       "      <td>...</td>\n",
       "      <td>...</td>\n",
       "      <td>...</td>\n",
       "      <td>...</td>\n",
       "    </tr>\n",
       "    <tr>\n",
       "      <th>93</th>\n",
       "      <td>541000</td>\n",
       "      <td>4</td>\n",
       "      <td>4.0</td>\n",
       "      <td>2740</td>\n",
       "      <td>1960</td>\n",
       "      <td>central</td>\n",
       "      <td>0.51</td>\n",
       "    </tr>\n",
       "    <tr>\n",
       "      <th>94</th>\n",
       "      <td>473000</td>\n",
       "      <td>3</td>\n",
       "      <td>3.0</td>\n",
       "      <td>2171</td>\n",
       "      <td>1955</td>\n",
       "      <td>other</td>\n",
       "      <td>0.61</td>\n",
       "    </tr>\n",
       "    <tr>\n",
       "      <th>95</th>\n",
       "      <td>490000</td>\n",
       "      <td>4</td>\n",
       "      <td>4.0</td>\n",
       "      <td>2972</td>\n",
       "      <td>1984</td>\n",
       "      <td>central</td>\n",
       "      <td>0.65</td>\n",
       "    </tr>\n",
       "    <tr>\n",
       "      <th>96</th>\n",
       "      <td>815000</td>\n",
       "      <td>4</td>\n",
       "      <td>4.0</td>\n",
       "      <td>3904</td>\n",
       "      <td>1970</td>\n",
       "      <td>other</td>\n",
       "      <td>1.47</td>\n",
       "    </tr>\n",
       "    <tr>\n",
       "      <th>97</th>\n",
       "      <td>674500</td>\n",
       "      <td>4</td>\n",
       "      <td>4.0</td>\n",
       "      <td>3766</td>\n",
       "      <td>1955</td>\n",
       "      <td>other</td>\n",
       "      <td>0.73</td>\n",
       "    </tr>\n",
       "  </tbody>\n",
       "</table>\n",
       "<p>97 rows × 7 columns</p>\n",
       "</div>"
      ],
      "text/plain": [
       "      price  bed  bath  area  year_built  cooling   lot\n",
       "0   1520000    3   4.0  6040        1972  central  0.97\n",
       "1   1030000    5   4.0  4475        1969  central  1.38\n",
       "2    420000    2   3.0  1745        1959  central  0.51\n",
       "3    680000    4   3.0  2091        1961  central  0.84\n",
       "4    428500    4   3.0  1772        2020  central  0.16\n",
       "..      ...  ...   ...   ...         ...      ...   ...\n",
       "93   541000    4   4.0  2740        1960  central  0.51\n",
       "94   473000    3   3.0  2171        1955    other  0.61\n",
       "95   490000    4   4.0  2972        1984  central  0.65\n",
       "96   815000    4   4.0  3904        1970    other  1.47\n",
       "97   674500    4   4.0  3766        1955    other  0.73\n",
       "\n",
       "[97 rows x 7 columns]"
      ]
     },
     "execution_count": 12,
     "metadata": {},
     "output_type": "execute_result"
    }
   ],
   "source": [
    "df = df.drop(['type', 'heating', 'parking'], axis=1)\n",
    "df"
   ]
  },
  {
   "cell_type": "markdown",
   "metadata": {
    "slideshow": {
     "slide_type": "slide"
    }
   },
   "source": [
    "## Data splitting"
   ]
  },
  {
   "cell_type": "code",
   "execution_count": 13,
   "metadata": {
    "slideshow": {
     "slide_type": "slide"
    }
   },
   "outputs": [
    {
     "data": {
      "text/html": [
       "<div>\n",
       "<style scoped>\n",
       "    .dataframe tbody tr th:only-of-type {\n",
       "        vertical-align: middle;\n",
       "    }\n",
       "\n",
       "    .dataframe tbody tr th {\n",
       "        vertical-align: top;\n",
       "    }\n",
       "\n",
       "    .dataframe thead th {\n",
       "        text-align: right;\n",
       "    }\n",
       "</style>\n",
       "<table border=\"1\" class=\"dataframe\">\n",
       "  <thead>\n",
       "    <tr style=\"text-align: right;\">\n",
       "      <th></th>\n",
       "      <th>price</th>\n",
       "      <th>bed</th>\n",
       "      <th>bath</th>\n",
       "      <th>area</th>\n",
       "      <th>year_built</th>\n",
       "      <th>cooling</th>\n",
       "      <th>lot</th>\n",
       "    </tr>\n",
       "  </thead>\n",
       "  <tbody>\n",
       "    <tr>\n",
       "      <th>26</th>\n",
       "      <td>385000</td>\n",
       "      <td>3</td>\n",
       "      <td>2.0</td>\n",
       "      <td>1831</td>\n",
       "      <td>1951</td>\n",
       "      <td>central</td>\n",
       "      <td>0.29</td>\n",
       "    </tr>\n",
       "    <tr>\n",
       "      <th>85</th>\n",
       "      <td>485000</td>\n",
       "      <td>4</td>\n",
       "      <td>3.0</td>\n",
       "      <td>2609</td>\n",
       "      <td>1962</td>\n",
       "      <td>other</td>\n",
       "      <td>0.52</td>\n",
       "    </tr>\n",
       "    <tr>\n",
       "      <th>2</th>\n",
       "      <td>420000</td>\n",
       "      <td>2</td>\n",
       "      <td>3.0</td>\n",
       "      <td>1745</td>\n",
       "      <td>1959</td>\n",
       "      <td>central</td>\n",
       "      <td>0.51</td>\n",
       "    </tr>\n",
       "    <tr>\n",
       "      <th>55</th>\n",
       "      <td>150000</td>\n",
       "      <td>3</td>\n",
       "      <td>1.0</td>\n",
       "      <td>1734</td>\n",
       "      <td>1945</td>\n",
       "      <td>other</td>\n",
       "      <td>0.16</td>\n",
       "    </tr>\n",
       "    <tr>\n",
       "      <th>69</th>\n",
       "      <td>105000</td>\n",
       "      <td>2</td>\n",
       "      <td>1.0</td>\n",
       "      <td>1094</td>\n",
       "      <td>1940</td>\n",
       "      <td>other</td>\n",
       "      <td>0.26</td>\n",
       "    </tr>\n",
       "    <tr>\n",
       "      <th>...</th>\n",
       "      <td>...</td>\n",
       "      <td>...</td>\n",
       "      <td>...</td>\n",
       "      <td>...</td>\n",
       "      <td>...</td>\n",
       "      <td>...</td>\n",
       "      <td>...</td>\n",
       "    </tr>\n",
       "    <tr>\n",
       "      <th>96</th>\n",
       "      <td>815000</td>\n",
       "      <td>4</td>\n",
       "      <td>4.0</td>\n",
       "      <td>3904</td>\n",
       "      <td>1970</td>\n",
       "      <td>other</td>\n",
       "      <td>1.47</td>\n",
       "    </tr>\n",
       "    <tr>\n",
       "      <th>70</th>\n",
       "      <td>520000</td>\n",
       "      <td>4</td>\n",
       "      <td>3.0</td>\n",
       "      <td>2637</td>\n",
       "      <td>1968</td>\n",
       "      <td>other</td>\n",
       "      <td>0.65</td>\n",
       "    </tr>\n",
       "    <tr>\n",
       "      <th>20</th>\n",
       "      <td>270000</td>\n",
       "      <td>3</td>\n",
       "      <td>3.0</td>\n",
       "      <td>1416</td>\n",
       "      <td>1990</td>\n",
       "      <td>other</td>\n",
       "      <td>0.36</td>\n",
       "    </tr>\n",
       "    <tr>\n",
       "      <th>92</th>\n",
       "      <td>590000</td>\n",
       "      <td>5</td>\n",
       "      <td>3.0</td>\n",
       "      <td>3323</td>\n",
       "      <td>1980</td>\n",
       "      <td>other</td>\n",
       "      <td>0.43</td>\n",
       "    </tr>\n",
       "    <tr>\n",
       "      <th>73</th>\n",
       "      <td>592000</td>\n",
       "      <td>3</td>\n",
       "      <td>2.0</td>\n",
       "      <td>2378</td>\n",
       "      <td>1960</td>\n",
       "      <td>other</td>\n",
       "      <td>0.75</td>\n",
       "    </tr>\n",
       "  </tbody>\n",
       "</table>\n",
       "<p>78 rows × 7 columns</p>\n",
       "</div>"
      ],
      "text/plain": [
       "     price  bed  bath  area  year_built  cooling   lot\n",
       "26  385000    3   2.0  1831        1951  central  0.29\n",
       "85  485000    4   3.0  2609        1962    other  0.52\n",
       "2   420000    2   3.0  1745        1959  central  0.51\n",
       "55  150000    3   1.0  1734        1945    other  0.16\n",
       "69  105000    2   1.0  1094        1940    other  0.26\n",
       "..     ...  ...   ...   ...         ...      ...   ...\n",
       "96  815000    4   4.0  3904        1970    other  1.47\n",
       "70  520000    4   3.0  2637        1968    other  0.65\n",
       "20  270000    3   3.0  1416        1990    other  0.36\n",
       "92  590000    5   3.0  3323        1980    other  0.43\n",
       "73  592000    3   2.0  2378        1960    other  0.75\n",
       "\n",
       "[78 rows x 7 columns]"
      ]
     },
     "execution_count": 13,
     "metadata": {},
     "output_type": "execute_result"
    }
   ],
   "source": [
    "train_dataset = df.sample(frac=0.8, random_state=0)\n",
    "test_dataset = df.drop(train_dataset.index)\n",
    "\n",
    "train_dataset"
   ]
  },
  {
   "cell_type": "markdown",
   "metadata": {
    "slideshow": {
     "slide_type": "slide"
    }
   },
   "source": [
    "## Exploratory data analysis"
   ]
  },
  {
   "cell_type": "code",
   "execution_count": 14,
   "metadata": {
    "slideshow": {
     "slide_type": "slide"
    }
   },
   "outputs": [
    {
     "data": {
      "text/html": [
       "<div>\n",
       "<style scoped>\n",
       "    .dataframe tbody tr th:only-of-type {\n",
       "        vertical-align: middle;\n",
       "    }\n",
       "\n",
       "    .dataframe tbody tr th {\n",
       "        vertical-align: top;\n",
       "    }\n",
       "\n",
       "    .dataframe thead th {\n",
       "        text-align: right;\n",
       "    }\n",
       "</style>\n",
       "<table border=\"1\" class=\"dataframe\">\n",
       "  <thead>\n",
       "    <tr style=\"text-align: right;\">\n",
       "      <th></th>\n",
       "      <th>count</th>\n",
       "      <th>mean</th>\n",
       "      <th>std</th>\n",
       "      <th>min</th>\n",
       "      <th>25%</th>\n",
       "      <th>50%</th>\n",
       "      <th>75%</th>\n",
       "      <th>max</th>\n",
       "    </tr>\n",
       "  </thead>\n",
       "  <tbody>\n",
       "    <tr>\n",
       "      <th>price</th>\n",
       "      <td>78.0</td>\n",
       "      <td>560762.18</td>\n",
       "      <td>243254.08</td>\n",
       "      <td>95000.00</td>\n",
       "      <td>421250.00</td>\n",
       "      <td>537500.00</td>\n",
       "      <td>650000.00</td>\n",
       "      <td>1520000.00</td>\n",
       "    </tr>\n",
       "    <tr>\n",
       "      <th>bed</th>\n",
       "      <td>78.0</td>\n",
       "      <td>3.81</td>\n",
       "      <td>0.74</td>\n",
       "      <td>2.00</td>\n",
       "      <td>3.00</td>\n",
       "      <td>4.00</td>\n",
       "      <td>4.00</td>\n",
       "      <td>6.00</td>\n",
       "    </tr>\n",
       "    <tr>\n",
       "      <th>bath</th>\n",
       "      <td>78.0</td>\n",
       "      <td>3.10</td>\n",
       "      <td>0.92</td>\n",
       "      <td>1.00</td>\n",
       "      <td>2.50</td>\n",
       "      <td>3.00</td>\n",
       "      <td>4.00</td>\n",
       "      <td>5.00</td>\n",
       "    </tr>\n",
       "    <tr>\n",
       "      <th>area</th>\n",
       "      <td>78.0</td>\n",
       "      <td>2831.40</td>\n",
       "      <td>986.38</td>\n",
       "      <td>1094.00</td>\n",
       "      <td>2095.25</td>\n",
       "      <td>2745.00</td>\n",
       "      <td>3261.75</td>\n",
       "      <td>6178.00</td>\n",
       "    </tr>\n",
       "    <tr>\n",
       "      <th>year_built</th>\n",
       "      <td>78.0</td>\n",
       "      <td>1965.82</td>\n",
       "      <td>16.80</td>\n",
       "      <td>1923.00</td>\n",
       "      <td>1956.25</td>\n",
       "      <td>1961.50</td>\n",
       "      <td>1971.50</td>\n",
       "      <td>2020.00</td>\n",
       "    </tr>\n",
       "    <tr>\n",
       "      <th>lot</th>\n",
       "      <td>78.0</td>\n",
       "      <td>0.59</td>\n",
       "      <td>0.23</td>\n",
       "      <td>0.15</td>\n",
       "      <td>0.45</td>\n",
       "      <td>0.56</td>\n",
       "      <td>0.69</td>\n",
       "      <td>1.47</td>\n",
       "    </tr>\n",
       "  </tbody>\n",
       "</table>\n",
       "</div>"
      ],
      "text/plain": [
       "            count       mean        std       min        25%        50%  \\\n",
       "price        78.0  560762.18  243254.08  95000.00  421250.00  537500.00   \n",
       "bed          78.0       3.81       0.74      2.00       3.00       4.00   \n",
       "bath         78.0       3.10       0.92      1.00       2.50       3.00   \n",
       "area         78.0    2831.40     986.38   1094.00    2095.25    2745.00   \n",
       "year_built   78.0    1965.82      16.80   1923.00    1956.25    1961.50   \n",
       "lot          78.0       0.59       0.23      0.15       0.45       0.56   \n",
       "\n",
       "                  75%         max  \n",
       "price       650000.00  1520000.00  \n",
       "bed              4.00        6.00  \n",
       "bath             4.00        5.00  \n",
       "area          3261.75     6178.00  \n",
       "year_built    1971.50     2020.00  \n",
       "lot              0.69        1.47  "
      ]
     },
     "execution_count": 14,
     "metadata": {},
     "output_type": "execute_result"
    }
   ],
   "source": [
    "# summary statistics for all numerical columns\n",
    "round(train_dataset.describe(),2).transpose()"
   ]
  },
  {
   "cell_type": "code",
   "execution_count": 15,
   "metadata": {
    "slideshow": {
     "slide_type": "slide"
    }
   },
   "outputs": [
    {
     "data": {
      "image/png": "[encoded data removed]",
      "text/plain": [
       "<Figure size 1080x1080 with 42 Axes>"
      ]
     },
     "metadata": {},
     "output_type": "display_data"
    }
   ],
   "source": [
    "sns.pairplot(train_dataset);"
   ]
  },
  {
   "cell_type": "markdown",
   "metadata": {
    "slideshow": {
     "slide_type": "slide"
    }
   },
   "source": [
    "## Correlation analysis"
   ]
  },
  {
   "cell_type": "code",
   "execution_count": 16,
   "metadata": {
    "slideshow": {
     "slide_type": "slide"
    }
   },
   "outputs": [
    {
     "data": {
      "text/html": [
       "<div>\n",
       "<style scoped>\n",
       "    .dataframe tbody tr th:only-of-type {\n",
       "        vertical-align: middle;\n",
       "    }\n",
       "\n",
       "    .dataframe tbody tr th {\n",
       "        vertical-align: top;\n",
       "    }\n",
       "\n",
       "    .dataframe thead th {\n",
       "        text-align: right;\n",
       "    }\n",
       "</style>\n",
       "<table border=\"1\" class=\"dataframe\">\n",
       "  <thead>\n",
       "    <tr style=\"text-align: right;\">\n",
       "      <th></th>\n",
       "      <th>price</th>\n",
       "      <th>bed</th>\n",
       "      <th>bath</th>\n",
       "      <th>area</th>\n",
       "      <th>year_built</th>\n",
       "      <th>lot</th>\n",
       "    </tr>\n",
       "  </thead>\n",
       "  <tbody>\n",
       "    <tr>\n",
       "      <th>price</th>\n",
       "      <td>1.000000</td>\n",
       "      <td>0.446668</td>\n",
       "      <td>0.593686</td>\n",
       "      <td>0.680012</td>\n",
       "      <td>0.248102</td>\n",
       "      <td>0.537264</td>\n",
       "    </tr>\n",
       "    <tr>\n",
       "      <th>bed</th>\n",
       "      <td>0.446668</td>\n",
       "      <td>1.000000</td>\n",
       "      <td>0.599660</td>\n",
       "      <td>0.560258</td>\n",
       "      <td>0.216696</td>\n",
       "      <td>0.248166</td>\n",
       "    </tr>\n",
       "    <tr>\n",
       "      <th>bath</th>\n",
       "      <td>0.593686</td>\n",
       "      <td>0.599660</td>\n",
       "      <td>1.000000</td>\n",
       "      <td>0.659879</td>\n",
       "      <td>0.351917</td>\n",
       "      <td>0.335490</td>\n",
       "    </tr>\n",
       "    <tr>\n",
       "      <th>area</th>\n",
       "      <td>0.680012</td>\n",
       "      <td>0.560258</td>\n",
       "      <td>0.659879</td>\n",
       "      <td>1.000000</td>\n",
       "      <td>0.165495</td>\n",
       "      <td>0.412836</td>\n",
       "    </tr>\n",
       "    <tr>\n",
       "      <th>year_built</th>\n",
       "      <td>0.248102</td>\n",
       "      <td>0.216696</td>\n",
       "      <td>0.351917</td>\n",
       "      <td>0.165495</td>\n",
       "      <td>1.000000</td>\n",
       "      <td>-0.047352</td>\n",
       "    </tr>\n",
       "    <tr>\n",
       "      <th>lot</th>\n",
       "      <td>0.537264</td>\n",
       "      <td>0.248166</td>\n",
       "      <td>0.335490</td>\n",
       "      <td>0.412836</td>\n",
       "      <td>-0.047352</td>\n",
       "      <td>1.000000</td>\n",
       "    </tr>\n",
       "  </tbody>\n",
       "</table>\n",
       "</div>"
      ],
      "text/plain": [
       "               price       bed      bath      area  year_built       lot\n",
       "price       1.000000  0.446668  0.593686  0.680012    0.248102  0.537264\n",
       "bed         0.446668  1.000000  0.599660  0.560258    0.216696  0.248166\n",
       "bath        0.593686  0.599660  1.000000  0.659879    0.351917  0.335490\n",
       "area        0.680012  0.560258  0.659879  1.000000    0.165495  0.412836\n",
       "year_built  0.248102  0.216696  0.351917  0.165495    1.000000 -0.047352\n",
       "lot         0.537264  0.248166  0.335490  0.412836   -0.047352  1.000000"
      ]
     },
     "execution_count": 16,
     "metadata": {},
     "output_type": "execute_result"
    }
   ],
   "source": [
    "# Create correlation matrix for numerical variables\n",
    "corr_matrix = train_dataset.corr()\n",
    "corr_matrix"
   ]
  },
  {
   "cell_type": "code",
   "execution_count": 17,
   "metadata": {
    "slideshow": {
     "slide_type": "slide"
    }
   },
   "outputs": [
    {
     "name": "stderr",
     "output_type": "stream",
     "text": [
      "<ipython-input-17-e81039e5ed17>:1: DeprecationWarning: `np.bool` is a deprecated alias for the builtin `bool`. To silence this warning, use `bool` by itself. Doing this will not modify any behavior and is safe. If you specifically wanted the numpy scalar type, use `np.bool_` here.\n",
      "Deprecated in NumPy 1.20; for more details and guidance: https://numpy.org/devdocs/release/1.20.0-notes.html#deprecations\n",
      "  mask = np.zeros_like(corr_matrix, dtype=np.bool)\n"
     ]
    },
    {
     "data": {
      "image/png": "[encoded data removed]",
      "text/plain": [
       "<Figure size 792x1080 with 2 Axes>"
      ]
     },
     "metadata": {},
     "output_type": "display_data"
    }
   ],
   "source": [
    "mask = np.zeros_like(corr_matrix, dtype=np.bool)\n",
    "mask[np.triu_indices_from(mask)]= True\n",
    "\n",
    "f, ax = plt.subplots(figsize=(11, 15))\n",
    "\n",
    "\n",
    "heatmap = sns.heatmap(corr_matrix,\n",
    "                      mask = mask,\n",
    "                      square = True,\n",
    "                      linewidths = .5,\n",
    "                      cmap = 'coolwarm',\n",
    "                      cbar_kws = {'shrink': .4,\n",
    "                                'ticks' : [-1, -.5, 0, 0.5, 1]},\n",
    "                      vmin = -1,\n",
    "                      vmax = 1,\n",
    "                      annot = True,\n",
    "                      annot_kws = {\"size\": 12})\n",
    "\n",
    "#add the column names as labels\n",
    "ax.set_yticklabels(corr_matrix.columns, rotation = 0)\n",
    "ax.set_xticklabels(corr_matrix.columns)\n",
    "\n",
    "sns.set_style({'xtick.bottom': True}, {'ytick.left': True});"
   ]
  },
  {
   "cell_type": "markdown",
   "metadata": {
    "slideshow": {
     "slide_type": "slide"
    }
   },
   "source": [
    "## Modeling\n",
    "\n",
    "See separate notebooks."
   ]
  }
 ],
 "metadata": {
  "celltoolbar": "Slideshow",
  "interpreter": {
   "hash": "d361e8bd3ab8be8f3ea65790adb41c2b64f49b1477d0d1af835155fecf213182"
  },
  "kernelspec": {
   "display_name": "Python [conda env:root] *",
   "language": "python",
   "name": "conda-root-py"
  },
  "language_info": {
   "codemirror_mode": {
    "name": "ipython",
    "version": 3
   },
   "file_extension": ".py",
   "mimetype": "text/x-python",
   "name": "python",
   "nbconvert_exporter": "python",
   "pygments_lexer": "ipython3",
   "version": "3.8.2"
  },
  "varInspector": {
   "cols": {
    "lenName": 16,
    "lenType": 16,
    "lenVar": 40
   },
   "kernels_config": {
    "python": {
     "delete_cmd_postfix": "",
     "delete_cmd_prefix": "del ",
     "library": "var_list.py",
     "varRefreshCmd": "print(var_dic_list())"
    },
    "r": {
     "delete_cmd_postfix": ") ",
     "delete_cmd_prefix": "rm(",
     "library": "var_list.r",
     "varRefreshCmd": "cat(var_dic_list()) "
    }
   },
   "types_to_exclude": [
    "module",
    "function",
    "builtin_function_or_method",
    "instance",
    "_Feature"
   ],
   "window_display": false
  }
 },
 "nbformat": 4,
 "nbformat_minor": 2
}
