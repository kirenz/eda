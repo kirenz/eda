{
 "cells": [
  {
   "cell_type": "markdown",
   "metadata": {
    "slideshow": {
     "slide_type": "slide"
    }
   },
   "source": [
    "# Exploring categorical variables\n",
    "\n",
    "## Row and column proportions (conditional proportions)"
   ]
  },
  {
   "cell_type": "markdown",
   "metadata": {
    "slideshow": {
     "slide_type": "slide"
    }
   },
   "source": [
    "## Import data"
   ]
  },
  {
   "cell_type": "code",
   "execution_count": 1,
   "metadata": {
    "slideshow": {
     "slide_type": "fragment"
    }
   },
   "outputs": [
    {
     "data": {
      "text/html": [
       "<div>\n",
       "<style scoped>\n",
       "    .dataframe tbody tr th:only-of-type {\n",
       "        vertical-align: middle;\n",
       "    }\n",
       "\n",
       "    .dataframe tbody tr th {\n",
       "        vertical-align: top;\n",
       "    }\n",
       "\n",
       "    .dataframe thead th {\n",
       "        text-align: right;\n",
       "    }\n",
       "</style>\n",
       "<table border=\"1\" class=\"dataframe\">\n",
       "  <thead>\n",
       "    <tr style=\"text-align: right;\">\n",
       "      <th></th>\n",
       "      <th>emp_title</th>\n",
       "      <th>emp_length</th>\n",
       "      <th>state</th>\n",
       "      <th>homeownership</th>\n",
       "      <th>annual_income</th>\n",
       "      <th>verified_income</th>\n",
       "      <th>debt_to_income</th>\n",
       "      <th>annual_income_joint</th>\n",
       "      <th>verification_income_joint</th>\n",
       "      <th>debt_to_income_joint</th>\n",
       "      <th>...</th>\n",
       "      <th>sub_grade</th>\n",
       "      <th>issue_month</th>\n",
       "      <th>loan_status</th>\n",
       "      <th>initial_listing_status</th>\n",
       "      <th>disbursement_method</th>\n",
       "      <th>balance</th>\n",
       "      <th>paid_total</th>\n",
       "      <th>paid_principal</th>\n",
       "      <th>paid_interest</th>\n",
       "      <th>paid_late_fees</th>\n",
       "    </tr>\n",
       "  </thead>\n",
       "  <tbody>\n",
       "    <tr>\n",
       "      <th>0</th>\n",
       "      <td>global config engineer</td>\n",
       "      <td>3.0</td>\n",
       "      <td>NJ</td>\n",
       "      <td>mortgage</td>\n",
       "      <td>90000.0</td>\n",
       "      <td>Verified</td>\n",
       "      <td>18.01</td>\n",
       "      <td>NaN</td>\n",
       "      <td>NaN</td>\n",
       "      <td>NaN</td>\n",
       "      <td>...</td>\n",
       "      <td>C3</td>\n",
       "      <td>Mar-2018</td>\n",
       "      <td>Current</td>\n",
       "      <td>whole</td>\n",
       "      <td>Cash</td>\n",
       "      <td>27015.86</td>\n",
       "      <td>1999.33</td>\n",
       "      <td>984.14</td>\n",
       "      <td>1015.19</td>\n",
       "      <td>0.0</td>\n",
       "    </tr>\n",
       "    <tr>\n",
       "      <th>1</th>\n",
       "      <td>warehouse office clerk</td>\n",
       "      <td>10.0</td>\n",
       "      <td>HI</td>\n",
       "      <td>rent</td>\n",
       "      <td>40000.0</td>\n",
       "      <td>Not Verified</td>\n",
       "      <td>5.04</td>\n",
       "      <td>NaN</td>\n",
       "      <td>NaN</td>\n",
       "      <td>NaN</td>\n",
       "      <td>...</td>\n",
       "      <td>C1</td>\n",
       "      <td>Feb-2018</td>\n",
       "      <td>Current</td>\n",
       "      <td>whole</td>\n",
       "      <td>Cash</td>\n",
       "      <td>4651.37</td>\n",
       "      <td>499.12</td>\n",
       "      <td>348.63</td>\n",
       "      <td>150.49</td>\n",
       "      <td>0.0</td>\n",
       "    </tr>\n",
       "    <tr>\n",
       "      <th>2</th>\n",
       "      <td>assembly</td>\n",
       "      <td>3.0</td>\n",
       "      <td>WI</td>\n",
       "      <td>rent</td>\n",
       "      <td>40000.0</td>\n",
       "      <td>Source Verified</td>\n",
       "      <td>21.15</td>\n",
       "      <td>NaN</td>\n",
       "      <td>NaN</td>\n",
       "      <td>NaN</td>\n",
       "      <td>...</td>\n",
       "      <td>D1</td>\n",
       "      <td>Feb-2018</td>\n",
       "      <td>Current</td>\n",
       "      <td>fractional</td>\n",
       "      <td>Cash</td>\n",
       "      <td>1824.63</td>\n",
       "      <td>281.80</td>\n",
       "      <td>175.37</td>\n",
       "      <td>106.43</td>\n",
       "      <td>0.0</td>\n",
       "    </tr>\n",
       "    <tr>\n",
       "      <th>3</th>\n",
       "      <td>customer service</td>\n",
       "      <td>1.0</td>\n",
       "      <td>PA</td>\n",
       "      <td>rent</td>\n",
       "      <td>30000.0</td>\n",
       "      <td>Not Verified</td>\n",
       "      <td>10.16</td>\n",
       "      <td>NaN</td>\n",
       "      <td>NaN</td>\n",
       "      <td>NaN</td>\n",
       "      <td>...</td>\n",
       "      <td>A3</td>\n",
       "      <td>Jan-2018</td>\n",
       "      <td>Current</td>\n",
       "      <td>whole</td>\n",
       "      <td>Cash</td>\n",
       "      <td>18853.26</td>\n",
       "      <td>3312.89</td>\n",
       "      <td>2746.74</td>\n",
       "      <td>566.15</td>\n",
       "      <td>0.0</td>\n",
       "    </tr>\n",
       "    <tr>\n",
       "      <th>4</th>\n",
       "      <td>security supervisor</td>\n",
       "      <td>10.0</td>\n",
       "      <td>CA</td>\n",
       "      <td>rent</td>\n",
       "      <td>35000.0</td>\n",
       "      <td>Verified</td>\n",
       "      <td>57.96</td>\n",
       "      <td>57000.0</td>\n",
       "      <td>Verified</td>\n",
       "      <td>37.66</td>\n",
       "      <td>...</td>\n",
       "      <td>C3</td>\n",
       "      <td>Mar-2018</td>\n",
       "      <td>Current</td>\n",
       "      <td>whole</td>\n",
       "      <td>Cash</td>\n",
       "      <td>21430.15</td>\n",
       "      <td>2324.65</td>\n",
       "      <td>1569.85</td>\n",
       "      <td>754.80</td>\n",
       "      <td>0.0</td>\n",
       "    </tr>\n",
       "  </tbody>\n",
       "</table>\n",
       "<p>5 rows × 55 columns</p>\n",
       "</div>"
      ],
      "text/plain": [
       "                 emp_title  emp_length state homeownership  annual_income  \\\n",
       "0  global config engineer          3.0    NJ      mortgage        90000.0   \n",
       "1   warehouse office clerk        10.0    HI          rent        40000.0   \n",
       "2                 assembly         3.0    WI          rent        40000.0   \n",
       "3         customer service         1.0    PA          rent        30000.0   \n",
       "4     security supervisor         10.0    CA          rent        35000.0   \n",
       "\n",
       "   verified_income  debt_to_income  annual_income_joint  \\\n",
       "0         Verified           18.01                  NaN   \n",
       "1     Not Verified            5.04                  NaN   \n",
       "2  Source Verified           21.15                  NaN   \n",
       "3     Not Verified           10.16                  NaN   \n",
       "4         Verified           57.96              57000.0   \n",
       "\n",
       "  verification_income_joint  debt_to_income_joint  ...  sub_grade  \\\n",
       "0                       NaN                   NaN  ...         C3   \n",
       "1                       NaN                   NaN  ...         C1   \n",
       "2                       NaN                   NaN  ...         D1   \n",
       "3                       NaN                   NaN  ...         A3   \n",
       "4                  Verified                 37.66  ...         C3   \n",
       "\n",
       "   issue_month  loan_status  initial_listing_status  disbursement_method  \\\n",
       "0     Mar-2018      Current                   whole                 Cash   \n",
       "1     Feb-2018      Current                   whole                 Cash   \n",
       "2     Feb-2018      Current              fractional                 Cash   \n",
       "3     Jan-2018      Current                   whole                 Cash   \n",
       "4     Mar-2018      Current                   whole                 Cash   \n",
       "\n",
       "    balance  paid_total  paid_principal  paid_interest  paid_late_fees  \n",
       "0  27015.86     1999.33          984.14        1015.19             0.0  \n",
       "1   4651.37      499.12          348.63         150.49             0.0  \n",
       "2   1824.63      281.80          175.37         106.43             0.0  \n",
       "3  18853.26     3312.89         2746.74         566.15             0.0  \n",
       "4  21430.15     2324.65         1569.85         754.80             0.0  \n",
       "\n",
       "[5 rows x 55 columns]"
      ]
     },
     "execution_count": 1,
     "metadata": {},
     "output_type": "execute_result"
    }
   ],
   "source": [
    "import pandas as pd\n",
    "\n",
    "ROOT = \"https://raw.githubusercontent.com/kirenz/modern-statistics/main/data/\"\n",
    "DATA = \"loans.csv\"\n",
    "\n",
    "df = pd.read_csv(ROOT + DATA)\n",
    "\n",
    "df.head()"
   ]
  },
  {
   "cell_type": "code",
   "execution_count": 2,
   "metadata": {
    "slideshow": {
     "slide_type": "notes"
    }
   },
   "outputs": [],
   "source": [
    "df.homeownership = df.homeownership.astype(\"category\")\n",
    "df.application_type = df.application_type.astype(\"category\")"
   ]
  },
  {
   "cell_type": "markdown",
   "metadata": {
    "slideshow": {
     "slide_type": "slide"
    }
   },
   "source": [
    "## Contingency table with proportions"
   ]
  },
  {
   "cell_type": "markdown",
   "metadata": {
    "slideshow": {
     "slide_type": "slide"
    }
   },
   "source": [
    "Normalize by dividing all values by the sum of values:\n",
    "\n",
    "- If passed ‘all’ or True, will normalize over all values.\n",
    "\n",
    "- If passed ‘index’ will normalize over each row.\n",
    "\n",
    "- If passed ‘columns’ will normalize over each column.\n",
    "\n",
    "- If margins is True, will also normalize margin values."
   ]
  },
  {
   "cell_type": "markdown",
   "metadata": {
    "slideshow": {
     "slide_type": "slide"
    }
   },
   "source": [
    "### Row proportions"
   ]
  },
  {
   "cell_type": "code",
   "execution_count": 13,
   "metadata": {
    "slideshow": {
     "slide_type": "fragment"
    }
   },
   "outputs": [
    {
     "data": {
      "text/html": [
       "<div>\n",
       "<style scoped>\n",
       "    .dataframe tbody tr th:only-of-type {\n",
       "        vertical-align: middle;\n",
       "    }\n",
       "\n",
       "    .dataframe tbody tr th {\n",
       "        vertical-align: top;\n",
       "    }\n",
       "\n",
       "    .dataframe thead th {\n",
       "        text-align: right;\n",
       "    }\n",
       "</style>\n",
       "<table border=\"1\" class=\"dataframe\">\n",
       "  <thead>\n",
       "    <tr style=\"text-align: right;\">\n",
       "      <th>homeownership</th>\n",
       "      <th>mortgage</th>\n",
       "      <th>own</th>\n",
       "      <th>rent</th>\n",
       "    </tr>\n",
       "    <tr>\n",
       "      <th>application_type</th>\n",
       "      <th></th>\n",
       "      <th></th>\n",
       "      <th></th>\n",
       "    </tr>\n",
       "  </thead>\n",
       "  <tbody>\n",
       "    <tr>\n",
       "      <th>individual</th>\n",
       "      <td>0.451</td>\n",
       "      <td>0.138</td>\n",
       "      <td>0.411</td>\n",
       "    </tr>\n",
       "    <tr>\n",
       "      <th>joint</th>\n",
       "      <td>0.635</td>\n",
       "      <td>0.122</td>\n",
       "      <td>0.242</td>\n",
       "    </tr>\n",
       "  </tbody>\n",
       "</table>\n",
       "</div>"
      ],
      "text/plain": [
       "homeownership     mortgage    own   rent\n",
       "application_type                        \n",
       "individual           0.451  0.138  0.411\n",
       "joint                0.635  0.122  0.242"
      ]
     },
     "execution_count": 13,
     "metadata": {},
     "output_type": "execute_result"
    }
   ],
   "source": [
    "# A contingency table with row proportions for the application type and homeownership variables.\n",
    "pd.crosstab(df.application_type\t, df.homeownership, normalize='index').round(3)"
   ]
  },
  {
   "cell_type": "markdown",
   "metadata": {
    "slideshow": {
     "slide_type": "fragment"
    }
   },
   "source": [
    "- 0.411 corresponds to the proportion of individual applicants who rent."
   ]
  },
  {
   "cell_type": "markdown",
   "metadata": {
    "slideshow": {
     "slide_type": "slide"
    }
   },
   "source": [
    "### Column proportions"
   ]
  },
  {
   "cell_type": "code",
   "execution_count": 14,
   "metadata": {
    "slideshow": {
     "slide_type": "fragment"
    }
   },
   "outputs": [
    {
     "data": {
      "text/html": [
       "<div>\n",
       "<style scoped>\n",
       "    .dataframe tbody tr th:only-of-type {\n",
       "        vertical-align: middle;\n",
       "    }\n",
       "\n",
       "    .dataframe tbody tr th {\n",
       "        vertical-align: top;\n",
       "    }\n",
       "\n",
       "    .dataframe thead th {\n",
       "        text-align: right;\n",
       "    }\n",
       "</style>\n",
       "<table border=\"1\" class=\"dataframe\">\n",
       "  <thead>\n",
       "    <tr style=\"text-align: right;\">\n",
       "      <th>homeownership</th>\n",
       "      <th>mortgage</th>\n",
       "      <th>own</th>\n",
       "      <th>rent</th>\n",
       "    </tr>\n",
       "    <tr>\n",
       "      <th>application_type</th>\n",
       "      <th></th>\n",
       "      <th></th>\n",
       "      <th></th>\n",
       "    </tr>\n",
       "  </thead>\n",
       "  <tbody>\n",
       "    <tr>\n",
       "      <th>individual</th>\n",
       "      <td>0.802</td>\n",
       "      <td>0.865</td>\n",
       "      <td>0.906</td>\n",
       "    </tr>\n",
       "    <tr>\n",
       "      <th>joint</th>\n",
       "      <td>0.198</td>\n",
       "      <td>0.135</td>\n",
       "      <td>0.094</td>\n",
       "    </tr>\n",
       "  </tbody>\n",
       "</table>\n",
       "</div>"
      ],
      "text/plain": [
       "homeownership     mortgage    own   rent\n",
       "application_type                        \n",
       "individual           0.802  0.865  0.906\n",
       "joint                0.198  0.135  0.094"
      ]
     },
     "execution_count": 14,
     "metadata": {},
     "output_type": "execute_result"
    }
   ],
   "source": [
    "# A contingency table with row proportions for the application type and homeownership variables.\n",
    "pd.crosstab(df.application_type\t, df.homeownership, normalize='columns').round(3)"
   ]
  },
  {
   "cell_type": "markdown",
   "metadata": {
    "slideshow": {
     "slide_type": "fragment"
    }
   },
   "source": [
    "- The value 0.906 indicates that 90.6% of renters applied as individuals for the loan. \n",
    "- This rate is higher compared to loans from people with mortgages (80.2%) or who own their home (86.5%)"
   ]
  }
 ],
 "metadata": {
  "celltoolbar": "Slideshow",
  "interpreter": {
   "hash": "d361e8bd3ab8be8f3ea65790adb41c2b64f49b1477d0d1af835155fecf213182"
  },
  "kernelspec": {
   "display_name": "Python 3",
   "language": "python",
   "name": "python3"
  },
  "language_info": {
   "codemirror_mode": {
    "name": "ipython",
    "version": 3
   },
   "file_extension": ".py",
   "mimetype": "text/x-python",
   "name": "python",
   "nbconvert_exporter": "python",
   "pygments_lexer": "ipython3",
   "version": "3.8.2"
  },
  "varInspector": {
   "cols": {
    "lenName": 16,
    "lenType": 16,
    "lenVar": 40
   },
   "kernels_config": {
    "python": {
     "delete_cmd_postfix": "",
     "delete_cmd_prefix": "del ",
     "library": "var_list.py",
     "varRefreshCmd": "print(var_dic_list())"
    },
    "r": {
     "delete_cmd_postfix": ") ",
     "delete_cmd_prefix": "rm(",
     "library": "var_list.r",
     "varRefreshCmd": "cat(var_dic_list()) "
    }
   },
   "types_to_exclude": [
    "module",
    "function",
    "builtin_function_or_method",
    "instance",
    "_Feature"
   ],
   "window_display": false
  }
 },
 "nbformat": 4,
 "nbformat_minor": 2
}
