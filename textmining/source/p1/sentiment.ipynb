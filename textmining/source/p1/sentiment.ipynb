{
 "cells": [
  {
   "cell_type": "markdown",
   "metadata": {
    "slideshow": {
     "slide_type": "slide"
    }
   },
   "source": [
    "# Sentiment Analysis with NLTK"
   ]
  },
  {
   "cell_type": "markdown",
   "metadata": {
    "slideshow": {
     "slide_type": "slide"
    }
   },
   "source": [
    "## Python setup\n",
    "\n",
    "\n",
    "We need the following modules:\n",
    "\n",
    "- NLTK\n",
    "- Pandas\n",
    "- Altair"
   ]
  },
  {
   "cell_type": "code",
   "execution_count": 1,
   "metadata": {},
   "outputs": [],
   "source": [
    "import nltk\n",
    "\n",
    "# we suppress some unimportant warnings\n",
    "import warnings\n",
    "\n",
    "warnings.simplefilter(action='ignore', category=FutureWarning)"
   ]
  },
  {
   "cell_type": "markdown",
   "metadata": {
    "slideshow": {
     "slide_type": "slide"
    },
    "tags": []
   },
   "source": [
    "## Data"
   ]
  },
  {
   "cell_type": "markdown",
   "metadata": {
    "slideshow": {
     "slide_type": "slide"
    }
   },
   "source": [
    "### Data import"
   ]
  },
  {
   "cell_type": "code",
   "execution_count": 2,
   "metadata": {
    "slideshow": {
     "slide_type": "fragment"
    }
   },
   "outputs": [
    {
     "data": {
      "text/html": [
       "<div>\n",
       "<style scoped>\n",
       "    .dataframe tbody tr th:only-of-type {\n",
       "        vertical-align: middle;\n",
       "    }\n",
       "\n",
       "    .dataframe tbody tr th {\n",
       "        vertical-align: top;\n",
       "    }\n",
       "\n",
       "    .dataframe thead th {\n",
       "        text-align: right;\n",
       "    }\n",
       "</style>\n",
       "<table border=\"1\" class=\"dataframe\">\n",
       "  <thead>\n",
       "    <tr style=\"text-align: right;\">\n",
       "      <th></th>\n",
       "      <th>created_at</th>\n",
       "      <th>id</th>\n",
       "      <th>author_id</th>\n",
       "      <th>text</th>\n",
       "      <th>text_token</th>\n",
       "      <th>text_token_s</th>\n",
       "      <th>text_si</th>\n",
       "      <th>text_sil</th>\n",
       "    </tr>\n",
       "  </thead>\n",
       "  <tbody>\n",
       "    <tr>\n",
       "      <th>0</th>\n",
       "      <td>2021-12-10 07:20:45+00:00</td>\n",
       "      <td>1469205428227784711</td>\n",
       "      <td>44196397</td>\n",
       "      <td>@albi_sidearms maybe i will …</td>\n",
       "      <td>['albi_sidearms', 'maybe']</td>\n",
       "      <td>['albi_sidearms', 'maybe']</td>\n",
       "      <td>albi_sidearms maybe</td>\n",
       "      <td>albi_sidearms maybe</td>\n",
       "    </tr>\n",
       "    <tr>\n",
       "      <th>1</th>\n",
       "      <td>2021-12-10 07:19:05+00:00</td>\n",
       "      <td>1469205011687223298</td>\n",
       "      <td>44196397</td>\n",
       "      <td>@jack https://t.co/ueyr6nawap</td>\n",
       "      <td>['jack', 'co', 'ueyr6nawap']</td>\n",
       "      <td>['jack', 'co', 'ueyr6nawap']</td>\n",
       "      <td>jack ueyr6nawap</td>\n",
       "      <td>jack ueyr6nawap</td>\n",
       "    </tr>\n",
       "    <tr>\n",
       "      <th>2</th>\n",
       "      <td>2021-12-10 06:44:19+00:00</td>\n",
       "      <td>1469196261953884160</td>\n",
       "      <td>44196397</td>\n",
       "      <td>@sawyermerritt 🤣🤣</td>\n",
       "      <td>['sawyermerritt']</td>\n",
       "      <td>['sawyermerritt']</td>\n",
       "      <td>sawyermerritt</td>\n",
       "      <td>sawyermerritt</td>\n",
       "    </tr>\n",
       "  </tbody>\n",
       "</table>\n",
       "</div>"
      ],
      "text/plain": [
       "                  created_at                   id  author_id  \\\n",
       "0  2021-12-10 07:20:45+00:00  1469205428227784711   44196397   \n",
       "1  2021-12-10 07:19:05+00:00  1469205011687223298   44196397   \n",
       "2  2021-12-10 06:44:19+00:00  1469196261953884160   44196397   \n",
       "\n",
       "                            text                    text_token  \\\n",
       "0  @albi_sidearms maybe i will …    ['albi_sidearms', 'maybe']   \n",
       "1  @jack https://t.co/ueyr6nawap  ['jack', 'co', 'ueyr6nawap']   \n",
       "2              @sawyermerritt 🤣🤣             ['sawyermerritt']   \n",
       "\n",
       "                   text_token_s              text_si             text_sil  \n",
       "0    ['albi_sidearms', 'maybe']  albi_sidearms maybe  albi_sidearms maybe  \n",
       "1  ['jack', 'co', 'ueyr6nawap']      jack ueyr6nawap      jack ueyr6nawap  \n",
       "2             ['sawyermerritt']        sawyermerritt        sawyermerritt  "
      ]
     },
     "execution_count": 2,
     "metadata": {},
     "output_type": "execute_result"
    }
   ],
   "source": [
    "import pandas as pd\n",
    "\n",
    "# Import some prepared Tweets from Elon Musk \n",
    "df = pd.read_csv(\"https://raw.githubusercontent.com/kirenz/datasets/master/twitter-sentiment.csv\")\n",
    "\n",
    "df.head(3)"
   ]
  },
  {
   "cell_type": "markdown",
   "metadata": {
    "slideshow": {
     "slide_type": "slide"
    }
   },
   "source": [
    "### Data corrections"
   ]
  },
  {
   "cell_type": "code",
   "execution_count": 3,
   "metadata": {},
   "outputs": [
    {
     "name": "stdout",
     "output_type": "stream",
     "text": [
      "<class 'pandas.core.frame.DataFrame'>\n",
      "RangeIndex: 72 entries, 0 to 71\n",
      "Data columns (total 8 columns):\n",
      " #   Column        Non-Null Count  Dtype              \n",
      "---  ------        --------------  -----              \n",
      " 0   created_at    72 non-null     datetime64[ns, UTC]\n",
      " 1   id            72 non-null     int64              \n",
      " 2   author_id     72 non-null     int64              \n",
      " 3   text          72 non-null     object             \n",
      " 4   text_token    72 non-null     object             \n",
      " 5   text_token_s  72 non-null     object             \n",
      " 6   text_si       72 non-null     object             \n",
      " 7   text_sil      72 non-null     object             \n",
      "dtypes: datetime64[ns, UTC](1), int64(2), object(5)\n",
      "memory usage: 4.6+ KB\n"
     ]
    }
   ],
   "source": [
    "df['created_at'] = pd.to_datetime(df['created_at'])\n",
    "\n",
    "df.info()"
   ]
  },
  {
   "cell_type": "markdown",
   "metadata": {
    "slideshow": {
     "slide_type": "slide"
    }
   },
   "source": [
    "## Analysis"
   ]
  },
  {
   "cell_type": "markdown",
   "metadata": {},
   "source": [
    "### VADER lexicon"
   ]
  },
  {
   "cell_type": "markdown",
   "metadata": {
    "slideshow": {
     "slide_type": "fragment"
    }
   },
   "source": [
    "- NLTK provides a simple rule-based model for general sentiment analysis called VADER, which stands for \"Valence Aware Dictionary and Sentiment Reasoner\" (Hutto & Gilbert, 2014)."
   ]
  },
  {
   "cell_type": "code",
   "execution_count": 4,
   "metadata": {
    "slideshow": {
     "slide_type": "fragment"
    }
   },
   "outputs": [
    {
     "name": "stderr",
     "output_type": "stream",
     "text": [
      "[nltk_data] Downloading package vader_lexicon to\n",
      "[nltk_data]     /Users/jankirenz/nltk_data...\n",
      "[nltk_data]   Package vader_lexicon is already up-to-date!\n"
     ]
    },
    {
     "data": {
      "text/plain": [
       "True"
      ]
     },
     "execution_count": 4,
     "metadata": {},
     "output_type": "execute_result"
    }
   ],
   "source": [
    "nltk.download('vader_lexicon')"
   ]
  },
  {
   "cell_type": "markdown",
   "metadata": {
    "slideshow": {
     "slide_type": "slide"
    }
   },
   "source": [
    "### Sentiment Intensity Analyzer"
   ]
  },
  {
   "cell_type": "markdown",
   "metadata": {
    "slideshow": {
     "slide_type": "fragment"
    }
   },
   "source": [
    "- Initialize an object of `SentimentIntensityAnalyzer` with name \"analyzer\":"
   ]
  },
  {
   "cell_type": "code",
   "execution_count": 5,
   "metadata": {
    "slideshow": {
     "slide_type": "fragment"
    }
   },
   "outputs": [],
   "source": [
    "from nltk.sentiment import SentimentIntensityAnalyzer\n",
    "\n",
    "analyzer = SentimentIntensityAnalyzer()"
   ]
  },
  {
   "cell_type": "markdown",
   "metadata": {
    "slideshow": {
     "slide_type": "slide"
    }
   },
   "source": [
    "### Polarity scores\n",
    "\n",
    "- Use the `polarity_scores` method:"
   ]
  },
  {
   "cell_type": "code",
   "execution_count": 6,
   "metadata": {
    "slideshow": {
     "slide_type": "fragment"
    }
   },
   "outputs": [],
   "source": [
    "df['polarity'] = df['text_token'].apply(lambda x: analyzer.polarity_scores(x))"
   ]
  },
  {
   "cell_type": "code",
   "execution_count": 7,
   "metadata": {
    "slideshow": {
     "slide_type": "subslide"
    }
   },
   "outputs": [
    {
     "data": {
      "text/html": [
       "<div>\n",
       "<style scoped>\n",
       "    .dataframe tbody tr th:only-of-type {\n",
       "        vertical-align: middle;\n",
       "    }\n",
       "\n",
       "    .dataframe tbody tr th {\n",
       "        vertical-align: top;\n",
       "    }\n",
       "\n",
       "    .dataframe thead th {\n",
       "        text-align: right;\n",
       "    }\n",
       "</style>\n",
       "<table border=\"1\" class=\"dataframe\">\n",
       "  <thead>\n",
       "    <tr style=\"text-align: right;\">\n",
       "      <th></th>\n",
       "      <th>created_at</th>\n",
       "      <th>id</th>\n",
       "      <th>author_id</th>\n",
       "      <th>text</th>\n",
       "      <th>text_token</th>\n",
       "      <th>text_token_s</th>\n",
       "      <th>text_si</th>\n",
       "      <th>text_sil</th>\n",
       "      <th>polarity</th>\n",
       "    </tr>\n",
       "  </thead>\n",
       "  <tbody>\n",
       "    <tr>\n",
       "      <th>0</th>\n",
       "      <td>2021-12-10 07:20:45+00:00</td>\n",
       "      <td>1469205428227784711</td>\n",
       "      <td>44196397</td>\n",
       "      <td>@albi_sidearms maybe i will …</td>\n",
       "      <td>['albi_sidearms', 'maybe']</td>\n",
       "      <td>['albi_sidearms', 'maybe']</td>\n",
       "      <td>albi_sidearms maybe</td>\n",
       "      <td>albi_sidearms maybe</td>\n",
       "      <td>{'neg': 0.0, 'neu': 1.0, 'pos': 0.0, 'compound...</td>\n",
       "    </tr>\n",
       "    <tr>\n",
       "      <th>1</th>\n",
       "      <td>2021-12-10 07:19:05+00:00</td>\n",
       "      <td>1469205011687223298</td>\n",
       "      <td>44196397</td>\n",
       "      <td>@jack https://t.co/ueyr6nawap</td>\n",
       "      <td>['jack', 'co', 'ueyr6nawap']</td>\n",
       "      <td>['jack', 'co', 'ueyr6nawap']</td>\n",
       "      <td>jack ueyr6nawap</td>\n",
       "      <td>jack ueyr6nawap</td>\n",
       "      <td>{'neg': 0.0, 'neu': 1.0, 'pos': 0.0, 'compound...</td>\n",
       "    </tr>\n",
       "    <tr>\n",
       "      <th>2</th>\n",
       "      <td>2021-12-10 06:44:19+00:00</td>\n",
       "      <td>1469196261953884160</td>\n",
       "      <td>44196397</td>\n",
       "      <td>@sawyermerritt 🤣🤣</td>\n",
       "      <td>['sawyermerritt']</td>\n",
       "      <td>['sawyermerritt']</td>\n",
       "      <td>sawyermerritt</td>\n",
       "      <td>sawyermerritt</td>\n",
       "      <td>{'neg': 0.0, 'neu': 1.0, 'pos': 0.0, 'compound...</td>\n",
       "    </tr>\n",
       "  </tbody>\n",
       "</table>\n",
       "</div>"
      ],
      "text/plain": [
       "                 created_at                   id  author_id  \\\n",
       "0 2021-12-10 07:20:45+00:00  1469205428227784711   44196397   \n",
       "1 2021-12-10 07:19:05+00:00  1469205011687223298   44196397   \n",
       "2 2021-12-10 06:44:19+00:00  1469196261953884160   44196397   \n",
       "\n",
       "                            text                    text_token  \\\n",
       "0  @albi_sidearms maybe i will …    ['albi_sidearms', 'maybe']   \n",
       "1  @jack https://t.co/ueyr6nawap  ['jack', 'co', 'ueyr6nawap']   \n",
       "2              @sawyermerritt 🤣🤣             ['sawyermerritt']   \n",
       "\n",
       "                   text_token_s              text_si             text_sil  \\\n",
       "0    ['albi_sidearms', 'maybe']  albi_sidearms maybe  albi_sidearms maybe   \n",
       "1  ['jack', 'co', 'ueyr6nawap']      jack ueyr6nawap      jack ueyr6nawap   \n",
       "2             ['sawyermerritt']        sawyermerritt        sawyermerritt   \n",
       "\n",
       "                                            polarity  \n",
       "0  {'neg': 0.0, 'neu': 1.0, 'pos': 0.0, 'compound...  \n",
       "1  {'neg': 0.0, 'neu': 1.0, 'pos': 0.0, 'compound...  \n",
       "2  {'neg': 0.0, 'neu': 1.0, 'pos': 0.0, 'compound...  "
      ]
     },
     "execution_count": 7,
     "metadata": {},
     "output_type": "execute_result"
    }
   ],
   "source": [
    "df.head(3)"
   ]
  },
  {
   "cell_type": "markdown",
   "metadata": {
    "slideshow": {
     "slide_type": "slide"
    }
   },
   "source": [
    "### Transform data"
   ]
  },
  {
   "cell_type": "code",
   "execution_count": 8,
   "metadata": {
    "slideshow": {
     "slide_type": "fragment"
    }
   },
   "outputs": [],
   "source": [
    "# Change data structure (we unnest the column polarity and add new columns)\n",
    "\n",
    "df = pd.concat([df.drop(['polarity'], axis=1), df['polarity'].apply(pd.Series)], axis=1)"
   ]
  },
  {
   "cell_type": "code",
   "execution_count": 16,
   "metadata": {
    "slideshow": {
     "slide_type": "subslide"
    }
   },
   "outputs": [
    {
     "data": {
      "text/html": [
       "<div>\n",
       "<style scoped>\n",
       "    .dataframe tbody tr th:only-of-type {\n",
       "        vertical-align: middle;\n",
       "    }\n",
       "\n",
       "    .dataframe tbody tr th {\n",
       "        vertical-align: top;\n",
       "    }\n",
       "\n",
       "    .dataframe thead th {\n",
       "        text-align: right;\n",
       "    }\n",
       "</style>\n",
       "<table border=\"1\" class=\"dataframe\">\n",
       "  <thead>\n",
       "    <tr style=\"text-align: right;\">\n",
       "      <th></th>\n",
       "      <th>created_at</th>\n",
       "      <th>id</th>\n",
       "      <th>author_id</th>\n",
       "      <th>text</th>\n",
       "      <th>text_token</th>\n",
       "      <th>text_token_s</th>\n",
       "      <th>text_si</th>\n",
       "      <th>text_sil</th>\n",
       "      <th>neg</th>\n",
       "      <th>neu</th>\n",
       "      <th>pos</th>\n",
       "      <th>compound</th>\n",
       "      <th>sentiment</th>\n",
       "    </tr>\n",
       "  </thead>\n",
       "  <tbody>\n",
       "    <tr>\n",
       "      <th>0</th>\n",
       "      <td>2021-12-10 07:20:45+00:00</td>\n",
       "      <td>1469205428227784711</td>\n",
       "      <td>44196397</td>\n",
       "      <td>@albi_sidearms maybe i will …</td>\n",
       "      <td>['albi_sidearms', 'maybe']</td>\n",
       "      <td>['albi_sidearms', 'maybe']</td>\n",
       "      <td>albi_sidearms maybe</td>\n",
       "      <td>albi_sidearms maybe</td>\n",
       "      <td>0.0</td>\n",
       "      <td>1.0</td>\n",
       "      <td>0.0</td>\n",
       "      <td>0.0</td>\n",
       "      <td>neutral</td>\n",
       "    </tr>\n",
       "    <tr>\n",
       "      <th>1</th>\n",
       "      <td>2021-12-10 07:19:05+00:00</td>\n",
       "      <td>1469205011687223298</td>\n",
       "      <td>44196397</td>\n",
       "      <td>@jack https://t.co/ueyr6nawap</td>\n",
       "      <td>['jack', 'co', 'ueyr6nawap']</td>\n",
       "      <td>['jack', 'co', 'ueyr6nawap']</td>\n",
       "      <td>jack ueyr6nawap</td>\n",
       "      <td>jack ueyr6nawap</td>\n",
       "      <td>0.0</td>\n",
       "      <td>1.0</td>\n",
       "      <td>0.0</td>\n",
       "      <td>0.0</td>\n",
       "      <td>neutral</td>\n",
       "    </tr>\n",
       "    <tr>\n",
       "      <th>2</th>\n",
       "      <td>2021-12-10 06:44:19+00:00</td>\n",
       "      <td>1469196261953884160</td>\n",
       "      <td>44196397</td>\n",
       "      <td>@sawyermerritt 🤣🤣</td>\n",
       "      <td>['sawyermerritt']</td>\n",
       "      <td>['sawyermerritt']</td>\n",
       "      <td>sawyermerritt</td>\n",
       "      <td>sawyermerritt</td>\n",
       "      <td>0.0</td>\n",
       "      <td>1.0</td>\n",
       "      <td>0.0</td>\n",
       "      <td>0.0</td>\n",
       "      <td>neutral</td>\n",
       "    </tr>\n",
       "    <tr>\n",
       "      <th>3</th>\n",
       "      <td>2021-12-10 04:42:00+00:00</td>\n",
       "      <td>1469165476911755264</td>\n",
       "      <td>44196397</td>\n",
       "      <td>@sawyermerritt tesla china has done amazing work</td>\n",
       "      <td>['sawyermerritt', 'tesla', 'china', 'done', 'a...</td>\n",
       "      <td>['sawyermerritt', 'tesla', 'china', 'done', 'a...</td>\n",
       "      <td>sawyermerritt tesla china done amazing work</td>\n",
       "      <td>sawyermerritt tesla china done amazing work</td>\n",
       "      <td>0.0</td>\n",
       "      <td>1.0</td>\n",
       "      <td>0.0</td>\n",
       "      <td>0.0</td>\n",
       "      <td>neutral</td>\n",
       "    </tr>\n",
       "    <tr>\n",
       "      <th>4</th>\n",
       "      <td>2021-12-10 04:21:25+00:00</td>\n",
       "      <td>1469160298158383109</td>\n",
       "      <td>44196397</td>\n",
       "      <td>@mrbeast 🙏</td>\n",
       "      <td>['mrbeast']</td>\n",
       "      <td>['mrbeast']</td>\n",
       "      <td>mrbeast</td>\n",
       "      <td>mrbeast</td>\n",
       "      <td>0.0</td>\n",
       "      <td>1.0</td>\n",
       "      <td>0.0</td>\n",
       "      <td>0.0</td>\n",
       "      <td>neutral</td>\n",
       "    </tr>\n",
       "  </tbody>\n",
       "</table>\n",
       "</div>"
      ],
      "text/plain": [
       "                 created_at                   id  author_id  \\\n",
       "0 2021-12-10 07:20:45+00:00  1469205428227784711   44196397   \n",
       "1 2021-12-10 07:19:05+00:00  1469205011687223298   44196397   \n",
       "2 2021-12-10 06:44:19+00:00  1469196261953884160   44196397   \n",
       "3 2021-12-10 04:42:00+00:00  1469165476911755264   44196397   \n",
       "4 2021-12-10 04:21:25+00:00  1469160298158383109   44196397   \n",
       "\n",
       "                                               text  \\\n",
       "0                     @albi_sidearms maybe i will …   \n",
       "1                     @jack https://t.co/ueyr6nawap   \n",
       "2                                 @sawyermerritt 🤣🤣   \n",
       "3  @sawyermerritt tesla china has done amazing work   \n",
       "4                                        @mrbeast 🙏   \n",
       "\n",
       "                                          text_token  \\\n",
       "0                         ['albi_sidearms', 'maybe']   \n",
       "1                       ['jack', 'co', 'ueyr6nawap']   \n",
       "2                                  ['sawyermerritt']   \n",
       "3  ['sawyermerritt', 'tesla', 'china', 'done', 'a...   \n",
       "4                                        ['mrbeast']   \n",
       "\n",
       "                                        text_token_s  \\\n",
       "0                         ['albi_sidearms', 'maybe']   \n",
       "1                       ['jack', 'co', 'ueyr6nawap']   \n",
       "2                                  ['sawyermerritt']   \n",
       "3  ['sawyermerritt', 'tesla', 'china', 'done', 'a...   \n",
       "4                                        ['mrbeast']   \n",
       "\n",
       "                                       text_si  \\\n",
       "0                          albi_sidearms maybe   \n",
       "1                              jack ueyr6nawap   \n",
       "2                                sawyermerritt   \n",
       "3  sawyermerritt tesla china done amazing work   \n",
       "4                                      mrbeast   \n",
       "\n",
       "                                      text_sil  neg  neu  pos  compound  \\\n",
       "0                          albi_sidearms maybe  0.0  1.0  0.0       0.0   \n",
       "1                              jack ueyr6nawap  0.0  1.0  0.0       0.0   \n",
       "2                                sawyermerritt  0.0  1.0  0.0       0.0   \n",
       "3  sawyermerritt tesla china done amazing work  0.0  1.0  0.0       0.0   \n",
       "4                                      mrbeast  0.0  1.0  0.0       0.0   \n",
       "\n",
       "  sentiment  \n",
       "0   neutral  \n",
       "1   neutral  \n",
       "2   neutral  \n",
       "3   neutral  \n",
       "4   neutral  "
      ]
     },
     "execution_count": 16,
     "metadata": {},
     "output_type": "execute_result"
    }
   ],
   "source": [
    "df.head()"
   ]
  },
  {
   "cell_type": "markdown",
   "metadata": {
    "slideshow": {
     "slide_type": "slide"
    }
   },
   "source": [
    "Create new variable called sentiment which contains the entries \"neutral,\" \"positive\" or \"negative\" (depending on the compound score).\n",
    "\n",
    "\n",
    "Hint:\n",
    "\n",
    "\n",
    "---\n",
    "\n",
    "```python\n",
    "df['___'] = df['___'].___(___ x: '___' if ___ >___ else '___' if ___ else '___')\n",
    "```\n",
    "\n",
    "---\n",
    "\n",
    "- Name the new variable `sentiment`\n",
    "- Use variable `compound` as basis\n",
    "- apply a lambda function to each row.\n",
    "- The lambda function should write a name in a cell:\n",
    "  - 'positive' `if x>0`\n",
    "  - 'neutral' `if x==0`\n",
    "  - 'negative' for all other cases (`else`)\n"
   ]
  },
  {
   "cell_type": "code",
   "execution_count": null,
   "metadata": {
    "nbgrader": {
     "grade": false,
     "grade_id": "sentiment",
     "locked": false,
     "schema_version": 3,
     "solution": true,
     "task": false
    }
   },
   "outputs": [],
   "source": [
    "### BEGIN SOLUTION\n",
    "df['sentiment'] = df['compound'].apply(lambda x: 'positive' if x >0 else 'neutral' if x==0 else 'negative')\n",
    "### END SOLUTION"
   ]
  },
  {
   "cell_type": "code",
   "execution_count": 17,
   "metadata": {
    "nbgrader": {
     "grade": true,
     "grade_id": "c-sentiment",
     "locked": true,
     "points": 4,
     "schema_version": 3,
     "solution": false,
     "task": false
    }
   },
   "outputs": [],
   "source": [
    "# check your code\n",
    "assert df.iloc[0, 12] == 'neutral'"
   ]
  },
  {
   "cell_type": "code",
   "execution_count": 19,
   "metadata": {
    "slideshow": {
     "slide_type": "subslide"
    }
   },
   "outputs": [
    {
     "data": {
      "text/html": [
       "<div>\n",
       "<style scoped>\n",
       "    .dataframe tbody tr th:only-of-type {\n",
       "        vertical-align: middle;\n",
       "    }\n",
       "\n",
       "    .dataframe tbody tr th {\n",
       "        vertical-align: top;\n",
       "    }\n",
       "\n",
       "    .dataframe thead th {\n",
       "        text-align: right;\n",
       "    }\n",
       "</style>\n",
       "<table border=\"1\" class=\"dataframe\">\n",
       "  <thead>\n",
       "    <tr style=\"text-align: right;\">\n",
       "      <th></th>\n",
       "      <th>created_at</th>\n",
       "      <th>id</th>\n",
       "      <th>author_id</th>\n",
       "      <th>text</th>\n",
       "      <th>text_token</th>\n",
       "      <th>text_token_s</th>\n",
       "      <th>text_si</th>\n",
       "      <th>text_sil</th>\n",
       "      <th>neg</th>\n",
       "      <th>neu</th>\n",
       "      <th>pos</th>\n",
       "      <th>compound</th>\n",
       "      <th>sentiment</th>\n",
       "    </tr>\n",
       "  </thead>\n",
       "  <tbody>\n",
       "    <tr>\n",
       "      <th>0</th>\n",
       "      <td>2021-12-10 07:20:45+00:00</td>\n",
       "      <td>1469205428227784711</td>\n",
       "      <td>44196397</td>\n",
       "      <td>@albi_sidearms maybe i will …</td>\n",
       "      <td>['albi_sidearms', 'maybe']</td>\n",
       "      <td>['albi_sidearms', 'maybe']</td>\n",
       "      <td>albi_sidearms maybe</td>\n",
       "      <td>albi_sidearms maybe</td>\n",
       "      <td>0.0</td>\n",
       "      <td>1.0</td>\n",
       "      <td>0.0</td>\n",
       "      <td>0.0</td>\n",
       "      <td>neutral</td>\n",
       "    </tr>\n",
       "    <tr>\n",
       "      <th>1</th>\n",
       "      <td>2021-12-10 07:19:05+00:00</td>\n",
       "      <td>1469205011687223298</td>\n",
       "      <td>44196397</td>\n",
       "      <td>@jack https://t.co/ueyr6nawap</td>\n",
       "      <td>['jack', 'co', 'ueyr6nawap']</td>\n",
       "      <td>['jack', 'co', 'ueyr6nawap']</td>\n",
       "      <td>jack ueyr6nawap</td>\n",
       "      <td>jack ueyr6nawap</td>\n",
       "      <td>0.0</td>\n",
       "      <td>1.0</td>\n",
       "      <td>0.0</td>\n",
       "      <td>0.0</td>\n",
       "      <td>neutral</td>\n",
       "    </tr>\n",
       "    <tr>\n",
       "      <th>2</th>\n",
       "      <td>2021-12-10 06:44:19+00:00</td>\n",
       "      <td>1469196261953884160</td>\n",
       "      <td>44196397</td>\n",
       "      <td>@sawyermerritt 🤣🤣</td>\n",
       "      <td>['sawyermerritt']</td>\n",
       "      <td>['sawyermerritt']</td>\n",
       "      <td>sawyermerritt</td>\n",
       "      <td>sawyermerritt</td>\n",
       "      <td>0.0</td>\n",
       "      <td>1.0</td>\n",
       "      <td>0.0</td>\n",
       "      <td>0.0</td>\n",
       "      <td>neutral</td>\n",
       "    </tr>\n",
       "    <tr>\n",
       "      <th>3</th>\n",
       "      <td>2021-12-10 04:42:00+00:00</td>\n",
       "      <td>1469165476911755264</td>\n",
       "      <td>44196397</td>\n",
       "      <td>@sawyermerritt tesla china has done amazing work</td>\n",
       "      <td>['sawyermerritt', 'tesla', 'china', 'done', 'a...</td>\n",
       "      <td>['sawyermerritt', 'tesla', 'china', 'done', 'a...</td>\n",
       "      <td>sawyermerritt tesla china done amazing work</td>\n",
       "      <td>sawyermerritt tesla china done amazing work</td>\n",
       "      <td>0.0</td>\n",
       "      <td>1.0</td>\n",
       "      <td>0.0</td>\n",
       "      <td>0.0</td>\n",
       "      <td>neutral</td>\n",
       "    </tr>\n",
       "    <tr>\n",
       "      <th>4</th>\n",
       "      <td>2021-12-10 04:21:25+00:00</td>\n",
       "      <td>1469160298158383109</td>\n",
       "      <td>44196397</td>\n",
       "      <td>@mrbeast 🙏</td>\n",
       "      <td>['mrbeast']</td>\n",
       "      <td>['mrbeast']</td>\n",
       "      <td>mrbeast</td>\n",
       "      <td>mrbeast</td>\n",
       "      <td>0.0</td>\n",
       "      <td>1.0</td>\n",
       "      <td>0.0</td>\n",
       "      <td>0.0</td>\n",
       "      <td>neutral</td>\n",
       "    </tr>\n",
       "  </tbody>\n",
       "</table>\n",
       "</div>"
      ],
      "text/plain": [
       "                 created_at                   id  author_id  \\\n",
       "0 2021-12-10 07:20:45+00:00  1469205428227784711   44196397   \n",
       "1 2021-12-10 07:19:05+00:00  1469205011687223298   44196397   \n",
       "2 2021-12-10 06:44:19+00:00  1469196261953884160   44196397   \n",
       "3 2021-12-10 04:42:00+00:00  1469165476911755264   44196397   \n",
       "4 2021-12-10 04:21:25+00:00  1469160298158383109   44196397   \n",
       "\n",
       "                                               text  \\\n",
       "0                     @albi_sidearms maybe i will …   \n",
       "1                     @jack https://t.co/ueyr6nawap   \n",
       "2                                 @sawyermerritt 🤣🤣   \n",
       "3  @sawyermerritt tesla china has done amazing work   \n",
       "4                                        @mrbeast 🙏   \n",
       "\n",
       "                                          text_token  \\\n",
       "0                         ['albi_sidearms', 'maybe']   \n",
       "1                       ['jack', 'co', 'ueyr6nawap']   \n",
       "2                                  ['sawyermerritt']   \n",
       "3  ['sawyermerritt', 'tesla', 'china', 'done', 'a...   \n",
       "4                                        ['mrbeast']   \n",
       "\n",
       "                                        text_token_s  \\\n",
       "0                         ['albi_sidearms', 'maybe']   \n",
       "1                       ['jack', 'co', 'ueyr6nawap']   \n",
       "2                                  ['sawyermerritt']   \n",
       "3  ['sawyermerritt', 'tesla', 'china', 'done', 'a...   \n",
       "4                                        ['mrbeast']   \n",
       "\n",
       "                                       text_si  \\\n",
       "0                          albi_sidearms maybe   \n",
       "1                              jack ueyr6nawap   \n",
       "2                                sawyermerritt   \n",
       "3  sawyermerritt tesla china done amazing work   \n",
       "4                                      mrbeast   \n",
       "\n",
       "                                      text_sil  neg  neu  pos  compound  \\\n",
       "0                          albi_sidearms maybe  0.0  1.0  0.0       0.0   \n",
       "1                              jack ueyr6nawap  0.0  1.0  0.0       0.0   \n",
       "2                                sawyermerritt  0.0  1.0  0.0       0.0   \n",
       "3  sawyermerritt tesla china done amazing work  0.0  1.0  0.0       0.0   \n",
       "4                                      mrbeast  0.0  1.0  0.0       0.0   \n",
       "\n",
       "  sentiment  \n",
       "0   neutral  \n",
       "1   neutral  \n",
       "2   neutral  \n",
       "3   neutral  \n",
       "4   neutral  "
      ]
     },
     "execution_count": 19,
     "metadata": {},
     "output_type": "execute_result"
    }
   ],
   "source": [
    "df.head()"
   ]
  },
  {
   "cell_type": "markdown",
   "metadata": {
    "slideshow": {
     "slide_type": "slide"
    }
   },
   "source": [
    "### Max and min sentiment"
   ]
  },
  {
   "cell_type": "code",
   "execution_count": 20,
   "metadata": {
    "slideshow": {
     "slide_type": "fragment"
    }
   },
   "outputs": [
    {
     "data": {
      "text/plain": [
       "array([Timestamp('2021-12-10 07:20:45+0000', tz='UTC'),\n",
       "       1469205428227784711, 44196397, '@albi_sidearms maybe i will …',\n",
       "       \"['albi_sidearms', 'maybe']\", \"['albi_sidearms', 'maybe']\",\n",
       "       'albi_sidearms maybe', 'albi_sidearms maybe', 0.0, 1.0, 0.0, 0.0,\n",
       "       'neutral'], dtype=object)"
      ]
     },
     "execution_count": 20,
     "metadata": {},
     "output_type": "execute_result"
    }
   ],
   "source": [
    "# Tweet with highest positive sentiment\n",
    "df.loc[df['compound'].idxmax()].values"
   ]
  },
  {
   "cell_type": "code",
   "execution_count": 21,
   "metadata": {
    "slideshow": {
     "slide_type": "subslide"
    }
   },
   "outputs": [
    {
     "data": {
      "text/plain": [
       "array([Timestamp('2021-12-10 07:20:45+0000', tz='UTC'),\n",
       "       1469205428227784711, 44196397, '@albi_sidearms maybe i will …',\n",
       "       \"['albi_sidearms', 'maybe']\", \"['albi_sidearms', 'maybe']\",\n",
       "       'albi_sidearms maybe', 'albi_sidearms maybe', 0.0, 1.0, 0.0, 0.0,\n",
       "       'neutral'], dtype=object)"
      ]
     },
     "execution_count": 21,
     "metadata": {},
     "output_type": "execute_result"
    }
   ],
   "source": [
    "# Tweet with highest negative sentiment \n",
    "# ...seems to be a case of wrong classification because of the word \"deficit\"\n",
    "df.loc[df['compound'].idxmin()].values"
   ]
  },
  {
   "cell_type": "markdown",
   "metadata": {
    "slideshow": {
     "slide_type": "slide"
    }
   },
   "source": [
    "### Visualize data"
   ]
  },
  {
   "cell_type": "code",
   "execution_count": 23,
   "metadata": {},
   "outputs": [
    {
     "data": {
      "text/html": [
       "\n",
       "<div id=\"altair-viz-4466de82192346408a3e6d3decfd43ea\"></div>\n",
       "<script type=\"text/javascript\">\n",
       "  var VEGA_DEBUG = (typeof VEGA_DEBUG == \"undefined\") ? {} : VEGA_DEBUG;\n",
       "  (function(spec, embedOpt){\n",
       "    let outputDiv = document.currentScript.previousElementSibling;\n",
       "    if (outputDiv.id !== \"altair-viz-4466de82192346408a3e6d3decfd43ea\") {\n",
       "      outputDiv = document.getElementById(\"altair-viz-4466de82192346408a3e6d3decfd43ea\");\n",
       "    }\n",
       "    const paths = {\n",
       "      \"vega\": \"https://cdn.jsdelivr.net/npm//vega@5?noext\",\n",
       "      \"vega-lib\": \"https://cdn.jsdelivr.net/npm//vega-lib?noext\",\n",
       "      \"vega-lite\": \"https://cdn.jsdelivr.net/npm//vega-lite@4.17.0?noext\",\n",
       "      \"vega-embed\": \"https://cdn.jsdelivr.net/npm//vega-embed@6?noext\",\n",
       "    };\n",
       "\n",
       "    function maybeLoadScript(lib, version) {\n",
       "      var key = `${lib.replace(\"-\", \"\")}_version`;\n",
       "      return (VEGA_DEBUG[key] == version) ?\n",
       "        Promise.resolve(paths[lib]) :\n",
       "        new Promise(function(resolve, reject) {\n",
       "          var s = document.createElement('script');\n",
       "          document.getElementsByTagName(\"head\")[0].appendChild(s);\n",
       "          s.async = true;\n",
       "          s.onload = () => {\n",
       "            VEGA_DEBUG[key] = version;\n",
       "            return resolve(paths[lib]);\n",
       "          };\n",
       "          s.onerror = () => reject(`Error loading script: ${paths[lib]}`);\n",
       "          s.src = paths[lib];\n",
       "        });\n",
       "    }\n",
       "\n",
       "    function showError(err) {\n",
       "      outputDiv.innerHTML = `<div class=\"error\" style=\"color:red;\">${err}</div>`;\n",
       "      throw err;\n",
       "    }\n",
       "\n",
       "    function displayChart(vegaEmbed) {\n",
       "      vegaEmbed(outputDiv, spec, embedOpt)\n",
       "        .catch(err => showError(`Javascript Error: ${err.message}<br>This usually means there's a typo in your chart specification. See the javascript console for the full traceback.`));\n",
       "    }\n",
       "\n",
       "    if(typeof define === \"function\" && define.amd) {\n",
       "      requirejs.config({paths});\n",
       "      require([\"vega-embed\"], displayChart, err => showError(`Error loading script: ${err.message}`));\n",
       "    } else {\n",
       "      maybeLoadScript(\"vega\", \"5\")\n",
       "        .then(() => maybeLoadScript(\"vega-lite\", \"4.17.0\"))\n",
       "        .then(() => maybeLoadScript(\"vega-embed\", \"6\"))\n",
       "        .catch(showError)\n",
       "        .then(() => displayChart(vegaEmbed));\n",
       "    }\n",
       "  })({\"config\": {\"view\": {\"continuousWidth\": 400, \"continuousHeight\": 300}}, \"data\": {\"name\": \"data-ad31317d79161f63d55d45a5e78dda0b\"}, \"mark\": \"bar\", \"encoding\": {\"color\": {\"field\": \"sentiment\", \"legend\": null, \"scale\": {\"domain\": [\"neutral\", \"positive\", \"negative\"], \"range\": [\"#b2d8d8\", \"#008080\", \"#db3d13\"]}, \"type\": \"nominal\"}, \"x\": {\"aggregate\": \"count\", \"title\": null, \"type\": \"quantitative\"}, \"y\": {\"field\": \"sentiment\", \"sort\": \"-x\", \"type\": \"nominal\"}}, \"height\": 150, \"title\": \"Sentiment analysis\", \"width\": 400, \"$schema\": \"https://vega.github.io/schema/vega-lite/v4.17.0.json\", \"datasets\": {\"data-ad31317d79161f63d55d45a5e78dda0b\": [{\"created_at\": \"2021-12-10T07:20:45+00:00\", \"id\": 1469205428227784711, \"author_id\": 44196397, \"text\": \"@albi_sidearms maybe i will \\u2026\", \"text_token\": \"['albi_sidearms', 'maybe']\", \"text_token_s\": \"['albi_sidearms', 'maybe']\", \"text_si\": \"albi_sidearms maybe\", \"text_sil\": \"albi_sidearms maybe\", \"neg\": 0.0, \"neu\": 1.0, \"pos\": 0.0, \"compound\": 0.0, \"sentiment\": \"neutral\"}, {\"created_at\": \"2021-12-10T07:19:05+00:00\", \"id\": 1469205011687223298, \"author_id\": 44196397, \"text\": \"@jack https://t.co/ueyr6nawap\", \"text_token\": \"['jack', 'co', 'ueyr6nawap']\", \"text_token_s\": \"['jack', 'co', 'ueyr6nawap']\", \"text_si\": \"jack ueyr6nawap\", \"text_sil\": \"jack ueyr6nawap\", \"neg\": 0.0, \"neu\": 1.0, \"pos\": 0.0, \"compound\": 0.0, \"sentiment\": \"neutral\"}, {\"created_at\": \"2021-12-10T06:44:19+00:00\", \"id\": 1469196261953884160, \"author_id\": 44196397, \"text\": \"@sawyermerritt \\ud83e\\udd23\\ud83e\\udd23\", \"text_token\": \"['sawyermerritt']\", \"text_token_s\": \"['sawyermerritt']\", \"text_si\": \"sawyermerritt\", \"text_sil\": \"sawyermerritt\", \"neg\": 0.0, \"neu\": 1.0, \"pos\": 0.0, \"compound\": 0.0, \"sentiment\": \"neutral\"}, {\"created_at\": \"2021-12-10T04:42:00+00:00\", \"id\": 1469165476911755264, \"author_id\": 44196397, \"text\": \"@sawyermerritt tesla china has done amazing work\", \"text_token\": \"['sawyermerritt', 'tesla', 'china', 'done', 'amazing', 'work']\", \"text_token_s\": \"['sawyermerritt', 'tesla', 'china', 'done', 'amazing', 'work']\", \"text_si\": \"sawyermerritt tesla china done amazing work\", \"text_sil\": \"sawyermerritt tesla china done amazing work\", \"neg\": 0.0, \"neu\": 1.0, \"pos\": 0.0, \"compound\": 0.0, \"sentiment\": \"neutral\"}, {\"created_at\": \"2021-12-10T04:21:25+00:00\", \"id\": 1469160298158383109, \"author_id\": 44196397, \"text\": \"@mrbeast \\ud83d\\ude4f\", \"text_token\": \"['mrbeast']\", \"text_token_s\": \"['mrbeast']\", \"text_si\": \"mrbeast\", \"text_sil\": \"mrbeast\", \"neg\": 0.0, \"neu\": 1.0, \"pos\": 0.0, \"compound\": 0.0, \"sentiment\": \"neutral\"}, {\"created_at\": \"2021-12-10T04:20:58+00:00\", \"id\": 1469160186233376774, \"author_id\": 44196397, \"text\": \"@planet4589 earth should be called water\", \"text_token\": \"['planet4589', 'earth', 'called', 'water']\", \"text_token_s\": \"['planet4589', 'earth', 'called', 'water']\", \"text_si\": \"planet4589 earth called water\", \"text_sil\": \"planet4589 earth called water\", \"neg\": 0.0, \"neu\": 1.0, \"pos\": 0.0, \"compound\": 0.0, \"sentiment\": \"neutral\"}, {\"created_at\": \"2021-12-10T04:02:41+00:00\", \"id\": 1469155585119690763, \"author_id\": 44196397, \"text\": \"@samifouad \\ud83e\\udd23\", \"text_token\": \"['samifouad']\", \"text_token_s\": \"['samifouad']\", \"text_si\": \"samifouad\", \"text_sil\": \"samifouad\", \"neg\": 0.0, \"neu\": 1.0, \"pos\": 0.0, \"compound\": 0.0, \"sentiment\": \"neutral\"}, {\"created_at\": \"2021-12-10T03:59:06+00:00\", \"id\": 1469154683113676802, \"author_id\": 44196397, \"text\": \"@tobyliiiiiiiiii noobtoob\", \"text_token\": \"['tobyliiiiiiiiii', 'noobtoob']\", \"text_token_s\": \"['tobyliiiiiiiiii', 'noobtoob']\", \"text_si\": \"tobyliiiiiiiiii noobtoob\", \"text_sil\": \"tobyliiiiiiiiii noobtoob\", \"neg\": 0.0, \"neu\": 1.0, \"pos\": 0.0, \"compound\": 0.0, \"sentiment\": \"neutral\"}, {\"created_at\": \"2021-12-10T03:56:22+00:00\", \"id\": 1469153995428085762, \"author_id\": 44196397, \"text\": \"thinking of quitting my jobs &amp; becoming an influencer full-time wdyt\", \"text_token\": \"['thinking', 'quitting', 'jobs', 'amp', 'becoming', 'influencer', 'full', 'time', 'wdyt']\", \"text_token_s\": \"['thinking', 'quitting', 'jobs', 'amp', 'becoming', 'influencer', 'full', 'time', 'wdyt']\", \"text_si\": \"thinking quitting jobs amp becoming influencer full time wdyt\", \"text_sil\": \"thinking quitting jobs amp becoming influencer full time wdyt\", \"neg\": 0.0, \"neu\": 1.0, \"pos\": 0.0, \"compound\": 0.0, \"sentiment\": \"neutral\"}, {\"created_at\": \"2021-12-10T02:51:25+00:00\", \"id\": 1469137649269153799, \"author_id\": 44196397, \"text\": \"https://t.co/zrz1eflywy\", \"text_token\": \"['co', 'zrz1eflywy']\", \"text_token_s\": \"['co', 'zrz1eflywy']\", \"text_si\": \"zrz1eflywy\", \"text_sil\": \"zrz1eflywy\", \"neg\": 0.0, \"neu\": 1.0, \"pos\": 0.0, \"compound\": 0.0, \"sentiment\": \"neutral\"}, {\"created_at\": \"2021-12-09T20:43:05+00:00\", \"id\": 1469044956736237568, \"author_id\": 44196397, \"text\": \"@teslaownerssv \\ud83d\\udd25\\ud83d\\udd25\", \"text_token\": \"['teslaownerssv']\", \"text_token_s\": \"['teslaownerssv']\", \"text_si\": \"teslaownerssv\", \"text_sil\": \"teslaownerssv\", \"neg\": 0.0, \"neu\": 1.0, \"pos\": 0.0, \"compound\": 0.0, \"sentiment\": \"neutral\"}, {\"created_at\": \"2021-12-09T20:19:29+00:00\", \"id\": 1469039017790525442, \"author_id\": 44196397, \"text\": \"@billym2k @thecryptocpa \\ud83d\\ude2c\", \"text_token\": \"['billym2k', 'thecryptocpa']\", \"text_token_s\": \"['billym2k', 'thecryptocpa']\", \"text_si\": \"billym2k thecryptocpa\", \"text_sil\": \"billym2k thecryptocpa\", \"neg\": 0.0, \"neu\": 1.0, \"pos\": 0.0, \"compound\": 0.0, \"sentiment\": \"neutral\"}, {\"created_at\": \"2021-12-09T18:11:56+00:00\", \"id\": 1469006918240854025, \"author_id\": 44196397, \"text\": \"@ballaerospace @nasa_marshall @nasa @spacex congrats!\", \"text_token\": \"['ballaerospace', 'nasa_marshall', 'nasa', 'spacex', 'congrats']\", \"text_token_s\": \"['ballaerospace', 'nasa_marshall', 'nasa', 'spacex', 'congrats']\", \"text_si\": \"ballaerospace nasa_marshall nasa spacex congrats\", \"text_sil\": \"ballaerospace nasa_marshall nasa spacex congrats\", \"neg\": 0.0, \"neu\": 1.0, \"pos\": 0.0, \"compound\": 0.0, \"sentiment\": \"neutral\"}, {\"created_at\": \"2021-12-09T18:11:43+00:00\", \"id\": 1469006861588434959, \"author_id\": 44196397, \"text\": \"@_rykllan @spacex @felixschlang @marcushouse @erdayastronaut @bluemoondance74 @nexthorizonssf rocket fleets grows\", \"text_token\": \"['_rykllan', 'spacex', 'felixschlang', 'marcushouse', 'erdayastronaut', 'bluemoondance74', 'nexthorizonssf', 'rocket', 'fleets', 'grows']\", \"text_token_s\": \"['_rykllan', 'spacex', 'felixschlang', 'marcushouse', 'erdayastronaut', 'bluemoondance74', 'nexthorizonssf', 'rocket', 'fleets', 'grows']\", \"text_si\": \"_rykllan spacex felixschlang marcushouse erdayastronaut bluemoondance74 nexthorizonssf rocket fleets grows\", \"text_sil\": \"_rykllan spacex felixschlang marcushouse erdayastronaut bluemoondance74 nexthorizonssf rocket fleets grows\", \"neg\": 0.0, \"neu\": 1.0, \"pos\": 0.0, \"compound\": 0.0, \"sentiment\": \"neutral\"}, {\"created_at\": \"2021-12-09T18:09:31+00:00\", \"id\": 1469006308997226502, \"author_id\": 44196397, \"text\": \"@squawkcnbc @gordonjohnson19 \\ud83e\\udd23\\ud83e\\udd23\", \"text_token\": \"['squawkcnbc', 'gordonjohnson19']\", \"text_token_s\": \"['squawkcnbc', 'gordonjohnson19']\", \"text_si\": \"squawkcnbc gordonjohnson19\", \"text_sil\": \"squawkcnbc gordonjohnson19\", \"neg\": 0.0, \"neu\": 1.0, \"pos\": 0.0, \"compound\": 0.0, \"sentiment\": \"neutral\"}, {\"created_at\": \"2021-12-09T18:00:34+00:00\", \"id\": 1469004057004105730, \"author_id\": 44196397, \"text\": \"@rainmaker1973 amazing engine!\", \"text_token\": \"['rainmaker1973', 'amazing', 'engine']\", \"text_token_s\": \"['rainmaker1973', 'amazing', 'engine']\", \"text_si\": \"rainmaker1973 amazing engine\", \"text_sil\": \"rainmaker1973 amazing engine\", \"neg\": 0.0, \"neu\": 1.0, \"pos\": 0.0, \"compound\": 0.0, \"sentiment\": \"neutral\"}, {\"created_at\": \"2021-12-09T17:39:45+00:00\", \"id\": 1468998819283148819, \"author_id\": 44196397, \"text\": \"@cnunezimages @spacex @spaceintellige3 \\ud83d\\udcaf\", \"text_token\": \"['cnunezimages', 'spacex', 'spaceintellige3']\", \"text_token_s\": \"['cnunezimages', 'spacex', 'spaceintellige3']\", \"text_si\": \"cnunezimages spacex spaceintellige3\", \"text_sil\": \"cnunezimages spacex spaceintellige3\", \"neg\": 0.0, \"neu\": 1.0, \"pos\": 0.0, \"compound\": 0.0, \"sentiment\": \"neutral\"}, {\"created_at\": \"2021-12-09T13:38:30+00:00\", \"id\": 1468938104446894092, \"author_id\": 44196397, \"text\": \"@rainmaker1973 shanghai is beautiful\", \"text_token\": \"['rainmaker1973', 'shanghai', 'beautiful']\", \"text_token_s\": \"['rainmaker1973', 'shanghai', 'beautiful']\", \"text_si\": \"rainmaker1973 shanghai beautiful\", \"text_sil\": \"rainmaker1973 shanghai beautiful\", \"neg\": 0.0, \"neu\": 1.0, \"pos\": 0.0, \"compound\": 0.0, \"sentiment\": \"neutral\"}, {\"created_at\": \"2021-12-09T07:09:45+00:00\", \"id\": 1468840273849589762, \"author_id\": 44196397, \"text\": \"@ppathole probably way sooner before it\\u2019s too hot for civilization\", \"text_token\": \"['ppathole', 'probably', 'way', 'sooner', 'hot', 'civilization']\", \"text_token_s\": \"['ppathole', 'probably', 'way', 'sooner', 'hot', 'civilization']\", \"text_si\": \"ppathole probably way sooner hot civilization\", \"text_sil\": \"ppathole probably way sooner hot civilization\", \"neg\": 0.0, \"neu\": 1.0, \"pos\": 0.0, \"compound\": 0.0, \"sentiment\": \"neutral\"}, {\"created_at\": \"2021-12-08T21:11:08+00:00\", \"id\": 1468689628161052674, \"author_id\": 44196397, \"text\": \"unless susceptible to extreme natural disasters, nuclear power plants should not be shut down\", \"text_token\": \"['unless', 'susceptible', 'extreme', 'natural', 'disasters', 'nuclear', 'power', 'plants', 'shut']\", \"text_token_s\": \"['unless', 'susceptible', 'extreme', 'natural', 'disasters', 'nuclear', 'power', 'plants', 'shut']\", \"text_si\": \"unless susceptible extreme natural disasters nuclear power plants shut\", \"text_sil\": \"unless susceptible extreme natural disasters nuclear power plants shut\", \"neg\": 0.0, \"neu\": 1.0, \"pos\": 0.0, \"compound\": 0.0, \"sentiment\": \"neutral\"}, {\"created_at\": \"2021-12-08T21:04:14+00:00\", \"id\": 1468687890376970257, \"author_id\": 44196397, \"text\": \"@watcherguru taxing all billionaires at 100% only drops national debt by ~10%, which is just one year of deficit spending\", \"text_token\": \"['watcherguru', 'taxing', 'billionaires', '100', 'drops', 'national', 'debt', '10', 'one', 'year', 'deficit', 'spending']\", \"text_token_s\": \"['watcherguru', 'taxing', 'billionaires', '100', 'drops', 'national', 'debt', '10', 'one', 'year', 'deficit', 'spending']\", \"text_si\": \"watcherguru taxing billionaires 100 drops national debt one year deficit spending\", \"text_sil\": \"watcherguru taxing billionaires 100 drops national debt one year deficit spending\", \"neg\": 0.0, \"neu\": 1.0, \"pos\": 0.0, \"compound\": 0.0, \"sentiment\": \"neutral\"}, {\"created_at\": \"2021-12-08T21:02:40+00:00\", \"id\": 1468687495084847115, \"author_id\": 44196397, \"text\": \"@watcherguru this is scary, something\\u2019s got to give\", \"text_token\": \"['watcherguru', 'scary', 'something', 'got', 'give']\", \"text_token_s\": \"['watcherguru', 'scary', 'something', 'got', 'give']\", \"text_si\": \"watcherguru scary something got give\", \"text_sil\": \"watcherguru scary something got give\", \"neg\": 0.0, \"neu\": 1.0, \"pos\": 0.0, \"compound\": 0.0, \"sentiment\": \"neutral\"}, {\"created_at\": \"2021-12-08T20:56:14+00:00\", \"id\": 1468685877970935809, \"author_id\": 44196397, \"text\": \"nothing is more permanent than a \\u201ctemporary\\u201d government program\", \"text_token\": \"['nothing', 'permanent', 'temporary', 'government', 'program']\", \"text_token_s\": \"['nothing', 'permanent', 'temporary', 'government', 'program']\", \"text_si\": \"nothing permanent temporary government program\", \"text_sil\": \"nothing permanent temporary government program\", \"neg\": 0.0, \"neu\": 1.0, \"pos\": 0.0, \"compound\": 0.0, \"sentiment\": \"neutral\"}, {\"created_at\": \"2021-12-08T20:53:21+00:00\", \"id\": 1468685150942908424, \"author_id\": 44196397, \"text\": \"@traderjourney exactly!\", \"text_token\": \"['traderjourney', 'exactly']\", \"text_token_s\": \"['traderjourney', 'exactly']\", \"text_si\": \"traderjourney exactly\", \"text_sil\": \"traderjourney exactly\", \"neg\": 0.0, \"neu\": 1.0, \"pos\": 0.0, \"compound\": 0.0, \"sentiment\": \"neutral\"}, {\"created_at\": \"2021-12-08T20:52:56+00:00\", \"id\": 1468685044239814666, \"author_id\": 44196397, \"text\": \"there is a lot of accounting trickery in this bill that isn\\u2019t being disclosed to the public\", \"text_token\": \"['lot', 'accounting', 'trickery', 'bill', 'disclosed', 'public']\", \"text_token_s\": \"['lot', 'accounting', 'trickery', 'bill', 'disclosed', 'public']\", \"text_si\": \"lot accounting trickery bill disclosed public\", \"text_sil\": \"lot accounting trickery bill disclosed public\", \"neg\": 0.0, \"neu\": 1.0, \"pos\": 0.0, \"compound\": 0.0, \"sentiment\": \"neutral\"}, {\"created_at\": \"2021-12-08T20:51:04+00:00\", \"id\": 1468684576407101440, \"author_id\": 44196397, \"text\": \"if \\u201ctemporary\\u201d provisions in the build back better act become permanent, us national debt will increase by 24%! https://t.co/kkdpc45job\", \"text_token\": \"['temporary', 'provisions', 'build', 'back', 'better', 'act', 'become', 'permanent', 'us', 'national', 'debt', 'increase', '24', 'co', 'kkdpc45job']\", \"text_token_s\": \"['temporary', 'provisions', 'build', 'back', 'better', 'act', 'become', 'permanent', 'us', 'national', 'debt', 'increase', '24', 'co', 'kkdpc45job']\", \"text_si\": \"temporary provisions build back better act become permanent national debt increase kkdpc45job\", \"text_sil\": \"temporary provisions build back better act become permanent national debt increase kkdpc45job\", \"neg\": 0.0, \"neu\": 1.0, \"pos\": 0.0, \"compound\": 0.0, \"sentiment\": \"neutral\"}, {\"created_at\": \"2021-12-08T19:19:15+00:00\", \"id\": 1468661470619738115, \"author_id\": 44196397, \"text\": \"@engineers_feed judith cohen (jack black\\u2019s mother) also did important work on apollo https://t.co/jborez8llw\", \"text_token\": \"['engineers_feed', 'judith', 'cohen', 'jack', 'black', 'mother', 'also', 'important', 'work', 'apollo', 'co', 'jborez8llw']\", \"text_token_s\": \"['engineers_feed', 'judith', 'cohen', 'jack', 'black', 'mother', 'also', 'important', 'work', 'apollo', 'co', 'jborez8llw']\", \"text_si\": \"engineers_feed judith cohen jack black mother also important work apollo jborez8llw\", \"text_sil\": \"engineers_feed judith cohen jack black mother also important work apollo jborez8llw\", \"neg\": 0.0, \"neu\": 1.0, \"pos\": 0.0, \"compound\": 0.0, \"sentiment\": \"neutral\"}, {\"created_at\": \"2021-12-08T17:29:13+00:00\", \"id\": 1468633777593331713, \"author_id\": 44196397, \"text\": \"@28delayslater https://t.co/jvsalwjfcj\", \"text_token\": \"['28delayslater', 'co', 'jvsalwjfcj']\", \"text_token_s\": \"['28delayslater', 'co', 'jvsalwjfcj']\", \"text_si\": \"28delayslater jvsalwjfcj\", \"text_sil\": \"28delayslater jvsalwjfcj\", \"neg\": 0.0, \"neu\": 1.0, \"pos\": 0.0, \"compound\": 0.0, \"sentiment\": \"neutral\"}, {\"created_at\": \"2021-12-08T17:28:03+00:00\", \"id\": 1468633486097539078, \"author_id\": 44196397, \"text\": \"@28delayslater https://t.co/ej9swabcfm\", \"text_token\": \"['28delayslater', 'co', 'ej9swabcfm']\", \"text_token_s\": \"['28delayslater', 'co', 'ej9swabcfm']\", \"text_si\": \"28delayslater ej9swabcfm\", \"text_sil\": \"28delayslater ej9swabcfm\", \"neg\": 0.0, \"neu\": 1.0, \"pos\": 0.0, \"compound\": 0.0, \"sentiment\": \"neutral\"}, {\"created_at\": \"2021-12-08T17:26:46+00:00\", \"id\": 1468633161768878080, \"author_id\": 44196397, \"text\": \"@28delayslater https://t.co/mo4bi8mnqt\", \"text_token\": \"['28delayslater', 'co', 'mo4bi8mnqt']\", \"text_token_s\": \"['28delayslater', 'co', 'mo4bi8mnqt']\", \"text_si\": \"28delayslater mo4bi8mnqt\", \"text_sil\": \"28delayslater mo4bi8mnqt\", \"neg\": 0.0, \"neu\": 1.0, \"pos\": 0.0, \"compound\": 0.0, \"sentiment\": \"neutral\"}, {\"created_at\": \"2021-12-08T17:24:31+00:00\", \"id\": 1468632596213125123, \"author_id\": 44196397, \"text\": \"@28delayslater \\ud83e\\uddd0\", \"text_token\": \"['28delayslater']\", \"text_token_s\": \"['28delayslater']\", \"text_si\": \"28delayslater\", \"text_sil\": \"28delayslater\", \"neg\": 0.0, \"neu\": 1.0, \"pos\": 0.0, \"compound\": 0.0, \"sentiment\": \"neutral\"}, {\"created_at\": \"2021-12-08T17:21:49+00:00\", \"id\": 1468631917138522115, \"author_id\": 44196397, \"text\": \"https://t.co/fjaw6l5ba0\", \"text_token\": \"['co', 'fjaw6l5ba0']\", \"text_token_s\": \"['co', 'fjaw6l5ba0']\", \"text_si\": \"fjaw6l5ba0\", \"text_sil\": \"fjaw6l5ba0\", \"neg\": 0.0, \"neu\": 1.0, \"pos\": 0.0, \"compound\": 0.0, \"sentiment\": \"neutral\"}, {\"created_at\": \"2021-12-08T17:04:36+00:00\", \"id\": 1468627585580126208, \"author_id\": 44196397, \"text\": \"@waitbutwhy brain transplants\", \"text_token\": \"['waitbutwhy', 'brain', 'transplants']\", \"text_token_s\": \"['waitbutwhy', 'brain', 'transplants']\", \"text_si\": \"waitbutwhy brain transplants\", \"text_sil\": \"waitbutwhy brain transplants\", \"neg\": 0.0, \"neu\": 1.0, \"pos\": 0.0, \"compound\": 0.0, \"sentiment\": \"neutral\"}, {\"created_at\": \"2021-12-08T05:01:43+00:00\", \"id\": 1468445663704793090, \"author_id\": 44196397, \"text\": \"@jessica_kirsh @spacex booster production is currently ahead of engine production\", \"text_token\": \"['jessica_kirsh', 'spacex', 'booster', 'production', 'currently', 'ahead', 'engine', 'production']\", \"text_token_s\": \"['jessica_kirsh', 'spacex', 'booster', 'production', 'currently', 'ahead', 'engine', 'production']\", \"text_si\": \"jessica_kirsh spacex booster production currently ahead engine production\", \"text_sil\": \"jessica_kirsh spacex booster production currently ahead engine production\", \"neg\": 0.0, \"neu\": 1.0, \"pos\": 0.0, \"compound\": 0.0, \"sentiment\": \"neutral\"}, {\"created_at\": \"2021-12-08T05:00:06+00:00\", \"id\": 1468445256576290818, \"author_id\": 44196397, \"text\": \"@tesla_raj lot of people don\\u2019t realize that you can watch almost any show in a tesla\", \"text_token\": \"['tesla_raj', 'lot', 'people', 'realize', 'watch', 'almost', 'show', 'tesla']\", \"text_token_s\": \"['tesla_raj', 'lot', 'people', 'realize', 'watch', 'almost', 'show', 'tesla']\", \"text_si\": \"tesla_raj lot people realize watch almost show tesla\", \"text_sil\": \"tesla_raj lot people realize watch almost show tesla\", \"neg\": 0.0, \"neu\": 1.0, \"pos\": 0.0, \"compound\": 0.0, \"sentiment\": \"neutral\"}, {\"created_at\": \"2021-12-07T21:53:00+00:00\", \"id\": 1468337774407340043, \"author_id\": 44196397, \"text\": \"@worldandscience if you leave hydrogen out in the sun long enough, it starts talking to itself\", \"text_token\": \"['worldandscience', 'leave', 'hydrogen', 'sun', 'long', 'enough', 'starts', 'talking']\", \"text_token_s\": \"['worldandscience', 'leave', 'hydrogen', 'sun', 'long', 'enough', 'starts', 'talking']\", \"text_si\": \"worldandscience leave hydrogen sun long enough starts talking\", \"text_sil\": \"worldandscience leave hydrogen sun long enough starts talking\", \"neg\": 0.0, \"neu\": 1.0, \"pos\": 0.0, \"compound\": 0.0, \"sentiment\": \"neutral\"}, {\"created_at\": \"2021-12-07T21:46:51+00:00\", \"id\": 1468336225689948164, \"author_id\": 44196397, \"text\": \"@rainmaker1973 wow\", \"text_token\": \"['rainmaker1973', 'wow']\", \"text_token_s\": \"['rainmaker1973', 'wow']\", \"text_si\": \"rainmaker1973 wow\", \"text_sil\": \"rainmaker1973 wow\", \"neg\": 0.0, \"neu\": 1.0, \"pos\": 0.0, \"compound\": 0.0, \"sentiment\": \"neutral\"}, {\"created_at\": \"2021-12-07T21:41:10+00:00\", \"id\": 1468334797508521984, \"author_id\": 44196397, \"text\": \"@tobyliiiiiiiiii @rgvaerialphotos @spacex hopefully, this month, no later than next\", \"text_token\": \"['tobyliiiiiiiiii', 'rgvaerialphotos', 'spacex', 'hopefully', 'month', 'later', 'next']\", \"text_token_s\": \"['tobyliiiiiiiiii', 'rgvaerialphotos', 'spacex', 'hopefully', 'month', 'later', 'next']\", \"text_si\": \"tobyliiiiiiiiii rgvaerialphotos spacex hopefully month later next\", \"text_sil\": \"tobyliiiiiiiiii rgvaerialphotos spacex hopefully month later next\", \"neg\": 0.0, \"neu\": 1.0, \"pos\": 0.0, \"compound\": 0.0, \"sentiment\": \"neutral\"}, {\"created_at\": \"2021-12-07T21:39:16+00:00\", \"id\": 1468334317839568903, \"author_id\": 44196397, \"text\": \"@rgvaerialphotos @spacex progress\", \"text_token\": \"['rgvaerialphotos', 'spacex', 'progress']\", \"text_token_s\": \"['rgvaerialphotos', 'spacex', 'progress']\", \"text_si\": \"rgvaerialphotos spacex progress\", \"text_sil\": \"rgvaerialphotos spacex progress\", \"neg\": 0.0, \"neu\": 1.0, \"pos\": 0.0, \"compound\": 0.0, \"sentiment\": \"neutral\"}, {\"created_at\": \"2021-12-07T16:34:00+00:00\", \"id\": 1468257494229086213, \"author_id\": 44196397, \"text\": \"@joshdcaplan it\\u2019s true\", \"text_token\": \"['joshdcaplan', 'true']\", \"text_token_s\": \"['joshdcaplan', 'true']\", \"text_si\": \"joshdcaplan true\", \"text_sil\": \"joshdcaplan true\", \"neg\": 0.0, \"neu\": 1.0, \"pos\": 0.0, \"compound\": 0.0, \"sentiment\": \"neutral\"}, {\"created_at\": \"2021-12-07T14:15:59+00:00\", \"id\": 1468222764343603211, \"author_id\": 44196397, \"text\": \"@billym2k \\ud83e\\udd23\", \"text_token\": \"['billym2k']\", \"text_token_s\": \"['billym2k']\", \"text_si\": \"billym2k\", \"text_sil\": \"billym2k\", \"neg\": 0.0, \"neu\": 1.0, \"pos\": 0.0, \"compound\": 0.0, \"sentiment\": \"neutral\"}, {\"created_at\": \"2021-12-07T07:56:47+00:00\", \"id\": 1468127332733014024, \"author_id\": 44196397, \"text\": \"@wholemarsblog \\ud83e\\udd23\", \"text_token\": \"['wholemarsblog']\", \"text_token_s\": \"['wholemarsblog']\", \"text_si\": \"wholemarsblog\", \"text_sil\": \"wholemarsblog\", \"neg\": 0.0, \"neu\": 1.0, \"pos\": 0.0, \"compound\": 0.0, \"sentiment\": \"neutral\"}, {\"created_at\": \"2021-12-07T04:10:33+00:00\", \"id\": 1468070398369701890, \"author_id\": 44196397, \"text\": \"@teslafsdbeta replacing faulty/missing neurons with circuits is the right way to think about it. many problems can be solved just bridging signals between existing neurons.\\n\\nprogress will accelerate when we have devices in humans (hard to have nuanced conversations with monkeys) next year.\", \"text_token\": \"['teslafsdbeta', 'replacing', 'faulty', 'missing', 'neurons', 'circuits', 'right', 'way', 'think', 'many', 'problems', 'solved', 'bridging', 'signals', 'existing', 'neurons', 'progress', 'accelerate', 'devices', 'humans', 'hard', 'nuanced', 'conversations', 'monkeys', 'next', 'year']\", \"text_token_s\": \"['teslafsdbeta', 'replacing', 'faulty', 'missing', 'neurons', 'circuits', 'right', 'way', 'think', 'many', 'problems', 'solved', 'bridging', 'signals', 'existing', 'neurons', 'progress', 'accelerate', 'devices', 'humans', 'hard', 'nuanced', 'conversations', 'monkeys', 'next', 'year']\", \"text_si\": \"teslafsdbeta replacing faulty missing neurons circuits right way think many problems solved bridging signals existing neurons progress accelerate devices humans hard nuanced conversations monkeys next year\", \"text_sil\": \"teslafsdbeta replacing faulty missing neurons circuits right way think many problems solved bridging signals existing neurons progress accelerate devices humans hard nuanced conversations monkeys next year\", \"neg\": 0.0, \"neu\": 1.0, \"pos\": 0.0, \"compound\": 0.0, \"sentiment\": \"neutral\"}, {\"created_at\": \"2021-12-07T03:57:42+00:00\", \"id\": 1468067165039439873, \"author_id\": 44196397, \"text\": \"@newsmax there are already minimum age requirements for the house, senate &amp; presidency. reciprocally, there should be maximum age limits too.\", \"text_token\": \"['newsmax', 'already', 'minimum', 'age', 'requirements', 'house', 'senate', 'amp', 'presidency', 'reciprocally', 'maximum', 'age', 'limits']\", \"text_token_s\": \"['newsmax', 'already', 'minimum', 'age', 'requirements', 'house', 'senate', 'amp', 'presidency', 'reciprocally', 'maximum', 'age', 'limits']\", \"text_si\": \"newsmax already minimum age requirements house senate amp presidency reciprocally maximum age limits\", \"text_sil\": \"newsmax already minimum age requirements house senate amp presidency reciprocally maximum age limits\", \"neg\": 0.0, \"neu\": 1.0, \"pos\": 0.0, \"compound\": 0.0, \"sentiment\": \"neutral\"}, {\"created_at\": \"2021-12-07T03:11:40+00:00\", \"id\": 1468055581277708295, \"author_id\": 44196397, \"text\": \"@stocktalkweekly @neuralink i am definitely not saying that we can for sure do this, but i am increasingly confident that it is possible\", \"text_token\": \"['stocktalkweekly', 'neuralink', 'definitely', 'saying', 'sure', 'increasingly', 'confident', 'possible']\", \"text_token_s\": \"['stocktalkweekly', 'neuralink', 'definitely', 'saying', 'sure', 'increasingly', 'confident', 'possible']\", \"text_si\": \"stocktalkweekly neuralink definitely saying sure increasingly confident possible\", \"text_sil\": \"stocktalkweekly neuralink definitely saying sure increasingly confident possible\", \"neg\": 0.0, \"neu\": 1.0, \"pos\": 0.0, \"compound\": 0.0, \"sentiment\": \"neutral\"}, {\"created_at\": \"2021-12-07T01:41:40+00:00\", \"id\": 1468032930761035777, \"author_id\": 44196397, \"text\": \"@icannot_enough @kimpaquette exactly\", \"text_token\": \"['icannot_enough', 'kimpaquette', 'exactly']\", \"text_token_s\": \"['icannot_enough', 'kimpaquette', 'exactly']\", \"text_si\": \"icannot_enough kimpaquette exactly\", \"text_sil\": \"icannot_enough kimpaquette exactly\", \"neg\": 0.0, \"neu\": 1.0, \"pos\": 0.0, \"compound\": 0.0, \"sentiment\": \"neutral\"}, {\"created_at\": \"2021-12-07T01:33:35+00:00\", \"id\": 1468030897979113473, \"author_id\": 44196397, \"text\": \"@univercurious that always blows my mind. sad thing is that we haven\\u2019t been back to the moon in half a century.\", \"text_token\": \"['univercurious', 'always', 'blows', 'mind', 'sad', 'thing', 'back', 'moon', 'half', 'century']\", \"text_token_s\": \"['univercurious', 'always', 'blows', 'mind', 'sad', 'thing', 'back', 'moon', 'half', 'century']\", \"text_si\": \"univercurious always blows mind sad thing back moon half century\", \"text_sil\": \"univercurious always blows mind sad thing back moon half century\", \"neg\": 0.0, \"neu\": 1.0, \"pos\": 0.0, \"compound\": 0.0, \"sentiment\": \"neutral\"}, {\"created_at\": \"2021-12-07T01:30:30+00:00\", \"id\": 1468030121399492616, \"author_id\": 44196397, \"text\": \"@teslaownerssv did it myself \\ud83e\\udd23\", \"text_token\": \"['teslaownerssv']\", \"text_token_s\": \"['teslaownerssv']\", \"text_si\": \"teslaownerssv\", \"text_sil\": \"teslaownerssv\", \"neg\": 0.0, \"neu\": 1.0, \"pos\": 0.0, \"compound\": 0.0, \"sentiment\": \"neutral\"}, {\"created_at\": \"2021-12-06T21:35:48+00:00\", \"id\": 1467971059920130051, \"author_id\": 44196397, \"text\": \"@beniko26020660 10.6.1 coming in a few days to address a few annoying issues\", \"text_token\": \"['beniko26020660', '10', '6', '1', 'coming', 'days', 'address', 'annoying', 'issues']\", \"text_token_s\": \"['beniko26020660', '10', '6', '1', 'coming', 'days', 'address', 'annoying', 'issues']\", \"text_si\": \"beniko26020660 coming days address annoying issues\", \"text_sil\": \"beniko26020660 coming days address annoying issues\", \"neg\": 0.0, \"neu\": 1.0, \"pos\": 0.0, \"compound\": 0.0, \"sentiment\": \"neutral\"}, {\"created_at\": \"2021-12-06T21:16:00+00:00\", \"id\": 1467966076503965706, \"author_id\": 44196397, \"text\": \"@rainmaker1973 looking forward to visiting. i\\u2019ve heard it\\u2019s awesome.\", \"text_token\": \"['rainmaker1973', 'looking', 'forward', 'visiting', 'heard', 'awesome']\", \"text_token_s\": \"['rainmaker1973', 'looking', 'forward', 'visiting', 'heard', 'awesome']\", \"text_si\": \"rainmaker1973 looking forward visiting heard awesome\", \"text_sil\": \"rainmaker1973 looking forward visiting heard awesome\", \"neg\": 0.0, \"neu\": 1.0, \"pos\": 0.0, \"compound\": 0.0, \"sentiment\": \"neutral\"}, {\"created_at\": \"2021-12-06T21:14:36+00:00\", \"id\": 1467965723876208640, \"author_id\": 44196397, \"text\": \"a background in \\u201cai\\u201d is not needed, just exceptional skill in software or computer design\", \"text_token\": \"['background', 'ai', 'needed', 'exceptional', 'skill', 'software', 'computer', 'design']\", \"text_token_s\": \"['background', 'ai', 'needed', 'exceptional', 'skill', 'software', 'computer', 'design']\", \"text_si\": \"background needed exceptional skill software computer design\", \"text_sil\": \"background needed exceptional skill software computer design\", \"neg\": 0.0, \"neu\": 1.0, \"pos\": 0.0, \"compound\": 0.0, \"sentiment\": \"neutral\"}, {\"created_at\": \"2021-12-06T21:10:51+00:00\", \"id\": 1467964781340540935, \"author_id\": 44196397, \"text\": \"@nasa @nasa_astronauts congratulations!\", \"text_token\": \"['nasa', 'nasa_astronauts', 'congratulations']\", \"text_token_s\": \"['nasa', 'nasa_astronauts', 'congratulations']\", \"text_si\": \"nasa nasa_astronauts congratulations\", \"text_sil\": \"nasa nasa_astronauts congratulations\", \"neg\": 0.0, \"neu\": 1.0, \"pos\": 0.0, \"compound\": 0.0, \"sentiment\": \"neutral\"}, {\"created_at\": \"2021-12-06T20:44:50+00:00\", \"id\": 1467958233482604546, \"author_id\": 44196397, \"text\": \"@drsallyl @tesla coming soon. lot of cool stuff.\", \"text_token\": \"['drsallyl', 'tesla', 'coming', 'soon', 'lot', 'cool', 'stuff']\", \"text_token_s\": \"['drsallyl', 'tesla', 'coming', 'soon', 'lot', 'cool', 'stuff']\", \"text_si\": \"drsallyl tesla coming soon lot cool stuff\", \"text_sil\": \"drsallyl tesla coming soon lot cool stuff\", \"neg\": 0.0, \"neu\": 1.0, \"pos\": 0.0, \"compound\": 0.0, \"sentiment\": \"neutral\"}, {\"created_at\": \"2021-12-06T20:25:43+00:00\", \"id\": 1467953422116831242, \"author_id\": 44196397, \"text\": \"@kimpaquette tesla publishes accident statistics quarterly. they are so much better than other vehicles, it is ridiculous. https://t.co/q44lsk1bnk\", \"text_token\": \"['kimpaquette', 'tesla', 'publishes', 'accident', 'statistics', 'quarterly', 'much', 'better', 'vehicles', 'ridiculous', 'co', 'q44lsk1bnk']\", \"text_token_s\": \"['kimpaquette', 'tesla', 'publishes', 'accident', 'statistics', 'quarterly', 'much', 'better', 'vehicles', 'ridiculous', 'co', 'q44lsk1bnk']\", \"text_si\": \"kimpaquette tesla publishes accident statistics quarterly much better vehicles ridiculous q44lsk1bnk\", \"text_sil\": \"kimpaquette tesla publishes accident statistics quarterly much better vehicles ridiculous q44lsk1bnk\", \"neg\": 0.0, \"neu\": 1.0, \"pos\": 0.0, \"compound\": 0.0, \"sentiment\": \"neutral\"}, {\"created_at\": \"2021-12-06T05:42:48+00:00\", \"id\": 1467731226609999872, \"author_id\": 44196397, \"text\": \"as always, tesla is looking for hardcore ai engineers who care about solving problems that directly affect people\\u2019s lives in a major way.\\nhttps://t.co/0b5tooohcj\", \"text_token\": \"['always', 'tesla', 'looking', 'hardcore', 'ai', 'engineers', 'care', 'solving', 'problems', 'directly', 'affect', 'people', 'lives', 'major', 'way', 'co', '0b5tooohcj']\", \"text_token_s\": \"['always', 'tesla', 'looking', 'hardcore', 'ai', 'engineers', 'care', 'solving', 'problems', 'directly', 'affect', 'people', 'lives', 'major', 'way', 'co', '0b5tooohcj']\", \"text_si\": \"always tesla looking hardcore engineers care solving problems directly affect people lives major way 0b5tooohcj\", \"text_sil\": \"always tesla looking hardcore engineers care solving problems directly affect people lives major way 0b5tooohcj\", \"neg\": 0.0, \"neu\": 1.0, \"pos\": 0.0, \"compound\": 0.0, \"sentiment\": \"neutral\"}, {\"created_at\": \"2021-12-06T01:44:54+00:00\", \"id\": 1467671360285589509, \"author_id\": 44196397, \"text\": \"@aeiecon @sciguyspace @jimpethokoukis @pe_podcast_aei good summary\", \"text_token\": \"['aeiecon', 'sciguyspace', 'jimpethokoukis', 'pe_podcast_aei', 'good', 'summary']\", \"text_token_s\": \"['aeiecon', 'sciguyspace', 'jimpethokoukis', 'pe_podcast_aei', 'good', 'summary']\", \"text_si\": \"aeiecon sciguyspace jimpethokoukis pe_podcast_aei good summary\", \"text_sil\": \"aeiecon sciguyspace jimpethokoukis pe_podcast_aei good summary\", \"neg\": 0.0, \"neu\": 1.0, \"pos\": 0.0, \"compound\": 0.0, \"sentiment\": \"neutral\"}, {\"created_at\": \"2021-12-05T19:14:07+00:00\", \"id\": 1467573012765593602, \"author_id\": 44196397, \"text\": \"@epavlic he is quite a bossy dog :)\", \"text_token\": \"['epavlic', 'quite', 'bossy', 'dog']\", \"text_token_s\": \"['epavlic', 'quite', 'bossy', 'dog']\", \"text_si\": \"epavlic quite bossy dog\", \"text_sil\": \"epavlic quite bossy dog\", \"neg\": 0.0, \"neu\": 1.0, \"pos\": 0.0, \"compound\": 0.0, \"sentiment\": \"neutral\"}, {\"created_at\": \"2021-12-05T03:35:29+00:00\", \"id\": 1467336798019928066, \"author_id\": 44196397, \"text\": \"@billym2k nfts are jpeging the dollar\", \"text_token\": \"['billym2k', 'nfts', 'jpeging', 'dollar']\", \"text_token_s\": \"['billym2k', 'nfts', 'jpeging', 'dollar']\", \"text_si\": \"billym2k nfts jpeging dollar\", \"text_sil\": \"billym2k nfts jpeging dollar\", \"neg\": 0.0, \"neu\": 1.0, \"pos\": 0.0, \"compound\": 0.0, \"sentiment\": \"neutral\"}, {\"created_at\": \"2021-12-05T03:33:22+00:00\", \"id\": 1467336265997586432, \"author_id\": 44196397, \"text\": \"@billym2k \\ud83e\\udd23\", \"text_token\": \"['billym2k']\", \"text_token_s\": \"['billym2k']\", \"text_si\": \"billym2k\", \"text_sil\": \"billym2k\", \"neg\": 0.0, \"neu\": 1.0, \"pos\": 0.0, \"compound\": 0.0, \"sentiment\": \"neutral\"}, {\"created_at\": \"2021-12-04T20:12:16+00:00\", \"id\": 1467225261179559938, \"author_id\": 44196397, \"text\": \"@ercxspace landing on tower arms\", \"text_token\": \"['ercxspace', 'landing', 'tower', 'arms']\", \"text_token_s\": \"['ercxspace', 'landing', 'tower', 'arms']\", \"text_si\": \"ercxspace landing tower arms\", \"text_sil\": \"ercxspace landing tower arms\", \"neg\": 0.0, \"neu\": 1.0, \"pos\": 0.0, \"compound\": 0.0, \"sentiment\": \"neutral\"}, {\"created_at\": \"2021-12-04T15:37:34+00:00\", \"id\": 1467156129386049538, \"author_id\": 44196397, \"text\": \"@muratpak my car is currently orbiting mars\", \"text_token\": \"['muratpak', 'car', 'currently', 'orbiting', 'mars']\", \"text_token_s\": \"['muratpak', 'car', 'currently', 'orbiting', 'mars']\", \"text_si\": \"muratpak car currently orbiting mars\", \"text_sil\": \"muratpak car currently orbiting mars\", \"neg\": 0.0, \"neu\": 1.0, \"pos\": 0.0, \"compound\": 0.0, \"sentiment\": \"neutral\"}, {\"created_at\": \"2021-12-04T15:36:37+00:00\", \"id\": 1467155889601798144, \"author_id\": 44196397, \"text\": \"@muratpak you betcha\", \"text_token\": \"['muratpak', 'betcha']\", \"text_token_s\": \"['muratpak', 'betcha']\", \"text_si\": \"muratpak betcha\", \"text_sil\": \"muratpak betcha\", \"neg\": 0.0, \"neu\": 1.0, \"pos\": 0.0, \"compound\": 0.0, \"sentiment\": \"neutral\"}, {\"created_at\": \"2021-12-04T15:09:32+00:00\", \"id\": 1467149074705096713, \"author_id\": 44196397, \"text\": \"starships to \\u2665\\ufe0f mars \\u2665\\ufe0f\", \"text_token\": \"['starships', 'mars']\", \"text_token_s\": \"['starships', 'mars']\", \"text_si\": \"starships mars\", \"text_sil\": \"starships mars\", \"neg\": 0.0, \"neu\": 1.0, \"pos\": 0.0, \"compound\": 0.0, \"sentiment\": \"neutral\"}, {\"created_at\": \"2021-12-04T15:08:15+00:00\", \"id\": 1467148751248801800, \"author_id\": 44196397, \"text\": \"we will soon make these real https://t.co/t4z5onfnww\", \"text_token\": \"['soon', 'make', 'real', 'co', 't4z5onfnww']\", \"text_token_s\": \"['soon', 'make', 'real', 'co', 't4z5onfnww']\", \"text_si\": \"soon make real t4z5onfnww\", \"text_sil\": \"soon make real t4z5onfnww\", \"neg\": 0.0, \"neu\": 1.0, \"pos\": 0.0, \"compound\": 0.0, \"sentiment\": \"neutral\"}, {\"created_at\": \"2021-12-04T01:29:15+00:00\", \"id\": 1466942645545099272, \"author_id\": 44196397, \"text\": \"https://t.co/sigzpdyx76\", \"text_token\": \"['co', 'sigzpdyx76']\", \"text_token_s\": \"['co', 'sigzpdyx76']\", \"text_si\": \"sigzpdyx76\", \"text_sil\": \"sigzpdyx76\", \"neg\": 0.0, \"neu\": 1.0, \"pos\": 0.0, \"compound\": 0.0, \"sentiment\": \"neutral\"}, {\"created_at\": \"2021-12-04T01:01:30+00:00\", \"id\": 1466935662087749636, \"author_id\": 44196397, \"text\": \"@id_aa_carmack haha pretty much\", \"text_token\": \"['id_aa_carmack', 'haha', 'pretty', 'much']\", \"text_token_s\": \"['id_aa_carmack', 'haha', 'pretty', 'much']\", \"text_si\": \"id_aa_carmack haha pretty much\", \"text_sil\": \"id_aa_carmack haha pretty much\", \"neg\": 0.0, \"neu\": 1.0, \"pos\": 0.0, \"compound\": 0.0, \"sentiment\": \"neutral\"}, {\"created_at\": \"2021-12-04T00:08:47+00:00\", \"id\": 1466922392543010823, \"author_id\": 44196397, \"text\": \"@kristennetten @minimalduck @ludalisl @28delayslater @johnnacrider1 @arctechinc @adamhoov @sawyermerritt @garyblack00 @janeidyeve @renatakonkoly exactly\", \"text_token\": \"['kristennetten', 'minimalduck', 'ludalisl', '28delayslater', 'johnnacrider1', 'arctechinc', 'adamhoov', 'sawyermerritt', 'garyblack00', 'janeidyeve', 'renatakonkoly', 'exactly']\", \"text_token_s\": \"['kristennetten', 'minimalduck', 'ludalisl', '28delayslater', 'johnnacrider1', 'arctechinc', 'adamhoov', 'sawyermerritt', 'garyblack00', 'janeidyeve', 'renatakonkoly', 'exactly']\", \"text_si\": \"kristennetten minimalduck ludalisl 28delayslater johnnacrider1 arctechinc adamhoov sawyermerritt garyblack00 janeidyeve renatakonkoly exactly\", \"text_sil\": \"kristennetten minimalduck ludalisl 28delayslater johnnacrider1 arctechinc adamhoov sawyermerritt garyblack00 janeidyeve renatakonkoly exactly\", \"neg\": 0.0, \"neu\": 1.0, \"pos\": 0.0, \"compound\": 0.0, \"sentiment\": \"neutral\"}, {\"created_at\": \"2021-12-03T23:35:30+00:00\", \"id\": 1466914018615078912, \"author_id\": 44196397, \"text\": \"@joroulette it is an honor to serve nasa and the countries of the international space station\", \"text_token\": \"['joroulette', 'honor', 'serve', 'nasa', 'countries', 'international', 'space', 'station']\", \"text_token_s\": \"['joroulette', 'honor', 'serve', 'nasa', 'countries', 'international', 'space', 'station']\", \"text_si\": \"joroulette honor serve nasa countries international space station\", \"text_sil\": \"joroulette honor serve nasa countries international space station\", \"neg\": 0.0, \"neu\": 1.0, \"pos\": 0.0, \"compound\": 0.0, \"sentiment\": \"neutral\"}, {\"created_at\": \"2021-12-03T19:28:57+00:00\", \"id\": 1466851970443010056, \"author_id\": 44196397, \"text\": \"@nasaspaceflight 39a is hallowed spaceflight ground \\u2013 no place more deserving of a starship launch pad!\\n\\nwill have similar, but improved, ground systems &amp; tower to starbase.\", \"text_token\": \"['nasaspaceflight', '39a', 'hallowed', 'spaceflight', 'ground', 'place', 'deserving', 'starship', 'launch', 'pad', 'similar', 'improved', 'ground', 'systems', 'amp', 'tower', 'starbase']\", \"text_token_s\": \"['nasaspaceflight', '39a', 'hallowed', 'spaceflight', 'ground', 'place', 'deserving', 'starship', 'launch', 'pad', 'similar', 'improved', 'ground', 'systems', 'amp', 'tower', 'starbase']\", \"text_si\": \"nasaspaceflight 39a hallowed spaceflight ground place deserving starship launch pad similar improved ground systems amp tower starbase\", \"text_sil\": \"nasaspaceflight 39a hallowed spaceflight ground place deserving starship launch pad similar improved ground systems amp tower starbase\", \"neg\": 0.0, \"neu\": 1.0, \"pos\": 0.0, \"compound\": 0.0, \"sentiment\": \"neutral\"}, {\"created_at\": \"2021-12-03T19:22:34+00:00\", \"id\": 1466850364012044288, \"author_id\": 44196397, \"text\": \"@evafoxu @sawyermerritt huge cranes are cool haha\", \"text_token\": \"['evafoxu', 'sawyermerritt', 'huge', 'cranes', 'cool', 'haha']\", \"text_token_s\": \"['evafoxu', 'sawyermerritt', 'huge', 'cranes', 'cool', 'haha']\", \"text_si\": \"evafoxu sawyermerritt huge cranes cool haha\", \"text_sil\": \"evafoxu sawyermerritt huge cranes cool haha\", \"neg\": 0.0, \"neu\": 1.0, \"pos\": 0.0, \"compound\": 0.0, \"sentiment\": \"neutral\"}, {\"created_at\": \"2021-12-03T19:20:15+00:00\", \"id\": 1466849780253003782, \"author_id\": 44196397, \"text\": \"@ppathole @ercxspace @spacex this will look so awesome!\", \"text_token\": \"['ppathole', 'ercxspace', 'spacex', 'look', 'awesome']\", \"text_token_s\": \"['ppathole', 'ercxspace', 'spacex', 'look', 'awesome']\", \"text_si\": \"ppathole ercxspace spacex look awesome\", \"text_sil\": \"ppathole ercxspace spacex look awesome\", \"neg\": 0.0, \"neu\": 1.0, \"pos\": 0.0, \"compound\": 0.0, \"sentiment\": \"neutral\"}, {\"created_at\": \"2021-12-03T19:18:44+00:00\", \"id\": 1466849402534907910, \"author_id\": 44196397, \"text\": \"@evafoxu @sawyermerritt i love norway! \\ud83c\\uddf3\\ud83c\\uddf4 \\u2665\\ufe0f\\ud83c\\uddf3\\ud83c\\uddf4\", \"text_token\": \"['evafoxu', 'sawyermerritt', 'love', 'norway']\", \"text_token_s\": \"['evafoxu', 'sawyermerritt', 'love', 'norway']\", \"text_si\": \"evafoxu sawyermerritt love norway\", \"text_sil\": \"evafoxu sawyermerritt love norway\", \"neg\": 0.0, \"neu\": 1.0, \"pos\": 0.0, \"compound\": 0.0, \"sentiment\": \"neutral\"}]}}, {\"mode\": \"vega-lite\"});\n",
       "</script>"
      ],
      "text/plain": [
       "alt.Chart(...)"
      ]
     },
     "execution_count": 23,
     "metadata": {},
     "output_type": "execute_result"
    }
   ],
   "source": [
    "import altair as alt\n",
    "\n",
    "# create data to change colors in Altair plot\n",
    "domain = ['neutral', 'positive', 'negative']\n",
    "range_=['#b2d8d8',\"#008080\", '#db3d13']\n",
    "\n",
    "\n",
    "alt.Chart(df).mark_bar().encode(\n",
    "    x=alt.X('count()', title=None),\n",
    "    y=alt.Y('sentiment', sort=\"-x\"),\n",
    "    color= alt.Color('sentiment', legend=None, scale=alt.Scale(domain=domain, range=range_))\n",
    ").properties(\n",
    "    title=\"Sentiment analysis\",\n",
    "    width=400,\n",
    "    height=150,\n",
    ")"
   ]
  },
  {
   "cell_type": "code",
   "execution_count": 24,
   "metadata": {},
   "outputs": [
    {
     "name": "stdout",
     "output_type": "stream",
     "text": [
      "<class 'pandas.core.frame.DataFrame'>\n",
      "RangeIndex: 72 entries, 0 to 71\n",
      "Data columns (total 13 columns):\n",
      " #   Column        Non-Null Count  Dtype              \n",
      "---  ------        --------------  -----              \n",
      " 0   created_at    72 non-null     datetime64[ns, UTC]\n",
      " 1   id            72 non-null     int64              \n",
      " 2   author_id     72 non-null     int64              \n",
      " 3   text          72 non-null     object             \n",
      " 4   text_token    72 non-null     object             \n",
      " 5   text_token_s  72 non-null     object             \n",
      " 6   text_si       72 non-null     object             \n",
      " 7   text_sil      72 non-null     object             \n",
      " 8   neg           72 non-null     float64            \n",
      " 9   neu           72 non-null     float64            \n",
      " 10  pos           72 non-null     float64            \n",
      " 11  compound      72 non-null     float64            \n",
      " 12  sentiment     72 non-null     object             \n",
      "dtypes: datetime64[ns, UTC](1), float64(4), int64(2), object(6)\n",
      "memory usage: 7.4+ KB\n"
     ]
    }
   ],
   "source": [
    "df.info()"
   ]
  },
  {
   "cell_type": "code",
   "execution_count": 25,
   "metadata": {},
   "outputs": [
    {
     "data": {
      "text/html": [
       "\n",
       "<div id=\"altair-viz-06e034c3c555403b88cb3ddb62bf6247\"></div>\n",
       "<script type=\"text/javascript\">\n",
       "  var VEGA_DEBUG = (typeof VEGA_DEBUG == \"undefined\") ? {} : VEGA_DEBUG;\n",
       "  (function(spec, embedOpt){\n",
       "    let outputDiv = document.currentScript.previousElementSibling;\n",
       "    if (outputDiv.id !== \"altair-viz-06e034c3c555403b88cb3ddb62bf6247\") {\n",
       "      outputDiv = document.getElementById(\"altair-viz-06e034c3c555403b88cb3ddb62bf6247\");\n",
       "    }\n",
       "    const paths = {\n",
       "      \"vega\": \"https://cdn.jsdelivr.net/npm//vega@5?noext\",\n",
       "      \"vega-lib\": \"https://cdn.jsdelivr.net/npm//vega-lib?noext\",\n",
       "      \"vega-lite\": \"https://cdn.jsdelivr.net/npm//vega-lite@4.17.0?noext\",\n",
       "      \"vega-embed\": \"https://cdn.jsdelivr.net/npm//vega-embed@6?noext\",\n",
       "    };\n",
       "\n",
       "    function maybeLoadScript(lib, version) {\n",
       "      var key = `${lib.replace(\"-\", \"\")}_version`;\n",
       "      return (VEGA_DEBUG[key] == version) ?\n",
       "        Promise.resolve(paths[lib]) :\n",
       "        new Promise(function(resolve, reject) {\n",
       "          var s = document.createElement('script');\n",
       "          document.getElementsByTagName(\"head\")[0].appendChild(s);\n",
       "          s.async = true;\n",
       "          s.onload = () => {\n",
       "            VEGA_DEBUG[key] = version;\n",
       "            return resolve(paths[lib]);\n",
       "          };\n",
       "          s.onerror = () => reject(`Error loading script: ${paths[lib]}`);\n",
       "          s.src = paths[lib];\n",
       "        });\n",
       "    }\n",
       "\n",
       "    function showError(err) {\n",
       "      outputDiv.innerHTML = `<div class=\"error\" style=\"color:red;\">${err}</div>`;\n",
       "      throw err;\n",
       "    }\n",
       "\n",
       "    function displayChart(vegaEmbed) {\n",
       "      vegaEmbed(outputDiv, spec, embedOpt)\n",
       "        .catch(err => showError(`Javascript Error: ${err.message}<br>This usually means there's a typo in your chart specification. See the javascript console for the full traceback.`));\n",
       "    }\n",
       "\n",
       "    if(typeof define === \"function\" && define.amd) {\n",
       "      requirejs.config({paths});\n",
       "      require([\"vega-embed\"], displayChart, err => showError(`Error loading script: ${err.message}`));\n",
       "    } else {\n",
       "      maybeLoadScript(\"vega\", \"5\")\n",
       "        .then(() => maybeLoadScript(\"vega-lite\", \"4.17.0\"))\n",
       "        .then(() => maybeLoadScript(\"vega-embed\", \"6\"))\n",
       "        .catch(showError)\n",
       "        .then(() => displayChart(vegaEmbed));\n",
       "    }\n",
       "  })({\"config\": {\"view\": {\"continuousWidth\": 400, \"continuousHeight\": 300}}, \"data\": {\"name\": \"data-ad31317d79161f63d55d45a5e78dda0b\"}, \"mark\": \"line\", \"encoding\": {\"color\": {\"field\": \"sentiment\", \"scale\": {\"domain\": [\"neutral\", \"positive\", \"negative\"], \"range\": [\"#b2d8d8\", \"#008080\", \"#db3d13\"]}, \"type\": \"nominal\"}, \"x\": {\"field\": \"created_at\", \"type\": \"temporal\"}, \"y\": {\"field\": \"compound\", \"type\": \"quantitative\"}}, \"$schema\": \"https://vega.github.io/schema/vega-lite/v4.17.0.json\", \"datasets\": {\"data-ad31317d79161f63d55d45a5e78dda0b\": [{\"created_at\": \"2021-12-10T07:20:45+00:00\", \"id\": 1469205428227784711, \"author_id\": 44196397, \"text\": \"@albi_sidearms maybe i will \\u2026\", \"text_token\": \"['albi_sidearms', 'maybe']\", \"text_token_s\": \"['albi_sidearms', 'maybe']\", \"text_si\": \"albi_sidearms maybe\", \"text_sil\": \"albi_sidearms maybe\", \"neg\": 0.0, \"neu\": 1.0, \"pos\": 0.0, \"compound\": 0.0, \"sentiment\": \"neutral\"}, {\"created_at\": \"2021-12-10T07:19:05+00:00\", \"id\": 1469205011687223298, \"author_id\": 44196397, \"text\": \"@jack https://t.co/ueyr6nawap\", \"text_token\": \"['jack', 'co', 'ueyr6nawap']\", \"text_token_s\": \"['jack', 'co', 'ueyr6nawap']\", \"text_si\": \"jack ueyr6nawap\", \"text_sil\": \"jack ueyr6nawap\", \"neg\": 0.0, \"neu\": 1.0, \"pos\": 0.0, \"compound\": 0.0, \"sentiment\": \"neutral\"}, {\"created_at\": \"2021-12-10T06:44:19+00:00\", \"id\": 1469196261953884160, \"author_id\": 44196397, \"text\": \"@sawyermerritt \\ud83e\\udd23\\ud83e\\udd23\", \"text_token\": \"['sawyermerritt']\", \"text_token_s\": \"['sawyermerritt']\", \"text_si\": \"sawyermerritt\", \"text_sil\": \"sawyermerritt\", \"neg\": 0.0, \"neu\": 1.0, \"pos\": 0.0, \"compound\": 0.0, \"sentiment\": \"neutral\"}, {\"created_at\": \"2021-12-10T04:42:00+00:00\", \"id\": 1469165476911755264, \"author_id\": 44196397, \"text\": \"@sawyermerritt tesla china has done amazing work\", \"text_token\": \"['sawyermerritt', 'tesla', 'china', 'done', 'amazing', 'work']\", \"text_token_s\": \"['sawyermerritt', 'tesla', 'china', 'done', 'amazing', 'work']\", \"text_si\": \"sawyermerritt tesla china done amazing work\", \"text_sil\": \"sawyermerritt tesla china done amazing work\", \"neg\": 0.0, \"neu\": 1.0, \"pos\": 0.0, \"compound\": 0.0, \"sentiment\": \"neutral\"}, {\"created_at\": \"2021-12-10T04:21:25+00:00\", \"id\": 1469160298158383109, \"author_id\": 44196397, \"text\": \"@mrbeast \\ud83d\\ude4f\", \"text_token\": \"['mrbeast']\", \"text_token_s\": \"['mrbeast']\", \"text_si\": \"mrbeast\", \"text_sil\": \"mrbeast\", \"neg\": 0.0, \"neu\": 1.0, \"pos\": 0.0, \"compound\": 0.0, \"sentiment\": \"neutral\"}, {\"created_at\": \"2021-12-10T04:20:58+00:00\", \"id\": 1469160186233376774, \"author_id\": 44196397, \"text\": \"@planet4589 earth should be called water\", \"text_token\": \"['planet4589', 'earth', 'called', 'water']\", \"text_token_s\": \"['planet4589', 'earth', 'called', 'water']\", \"text_si\": \"planet4589 earth called water\", \"text_sil\": \"planet4589 earth called water\", \"neg\": 0.0, \"neu\": 1.0, \"pos\": 0.0, \"compound\": 0.0, \"sentiment\": \"neutral\"}, {\"created_at\": \"2021-12-10T04:02:41+00:00\", \"id\": 1469155585119690763, \"author_id\": 44196397, \"text\": \"@samifouad \\ud83e\\udd23\", \"text_token\": \"['samifouad']\", \"text_token_s\": \"['samifouad']\", \"text_si\": \"samifouad\", \"text_sil\": \"samifouad\", \"neg\": 0.0, \"neu\": 1.0, \"pos\": 0.0, \"compound\": 0.0, \"sentiment\": \"neutral\"}, {\"created_at\": \"2021-12-10T03:59:06+00:00\", \"id\": 1469154683113676802, \"author_id\": 44196397, \"text\": \"@tobyliiiiiiiiii noobtoob\", \"text_token\": \"['tobyliiiiiiiiii', 'noobtoob']\", \"text_token_s\": \"['tobyliiiiiiiiii', 'noobtoob']\", \"text_si\": \"tobyliiiiiiiiii noobtoob\", \"text_sil\": \"tobyliiiiiiiiii noobtoob\", \"neg\": 0.0, \"neu\": 1.0, \"pos\": 0.0, \"compound\": 0.0, \"sentiment\": \"neutral\"}, {\"created_at\": \"2021-12-10T03:56:22+00:00\", \"id\": 1469153995428085762, \"author_id\": 44196397, \"text\": \"thinking of quitting my jobs &amp; becoming an influencer full-time wdyt\", \"text_token\": \"['thinking', 'quitting', 'jobs', 'amp', 'becoming', 'influencer', 'full', 'time', 'wdyt']\", \"text_token_s\": \"['thinking', 'quitting', 'jobs', 'amp', 'becoming', 'influencer', 'full', 'time', 'wdyt']\", \"text_si\": \"thinking quitting jobs amp becoming influencer full time wdyt\", \"text_sil\": \"thinking quitting jobs amp becoming influencer full time wdyt\", \"neg\": 0.0, \"neu\": 1.0, \"pos\": 0.0, \"compound\": 0.0, \"sentiment\": \"neutral\"}, {\"created_at\": \"2021-12-10T02:51:25+00:00\", \"id\": 1469137649269153799, \"author_id\": 44196397, \"text\": \"https://t.co/zrz1eflywy\", \"text_token\": \"['co', 'zrz1eflywy']\", \"text_token_s\": \"['co', 'zrz1eflywy']\", \"text_si\": \"zrz1eflywy\", \"text_sil\": \"zrz1eflywy\", \"neg\": 0.0, \"neu\": 1.0, \"pos\": 0.0, \"compound\": 0.0, \"sentiment\": \"neutral\"}, {\"created_at\": \"2021-12-09T20:43:05+00:00\", \"id\": 1469044956736237568, \"author_id\": 44196397, \"text\": \"@teslaownerssv \\ud83d\\udd25\\ud83d\\udd25\", \"text_token\": \"['teslaownerssv']\", \"text_token_s\": \"['teslaownerssv']\", \"text_si\": \"teslaownerssv\", \"text_sil\": \"teslaownerssv\", \"neg\": 0.0, \"neu\": 1.0, \"pos\": 0.0, \"compound\": 0.0, \"sentiment\": \"neutral\"}, {\"created_at\": \"2021-12-09T20:19:29+00:00\", \"id\": 1469039017790525442, \"author_id\": 44196397, \"text\": \"@billym2k @thecryptocpa \\ud83d\\ude2c\", \"text_token\": \"['billym2k', 'thecryptocpa']\", \"text_token_s\": \"['billym2k', 'thecryptocpa']\", \"text_si\": \"billym2k thecryptocpa\", \"text_sil\": \"billym2k thecryptocpa\", \"neg\": 0.0, \"neu\": 1.0, \"pos\": 0.0, \"compound\": 0.0, \"sentiment\": \"neutral\"}, {\"created_at\": \"2021-12-09T18:11:56+00:00\", \"id\": 1469006918240854025, \"author_id\": 44196397, \"text\": \"@ballaerospace @nasa_marshall @nasa @spacex congrats!\", \"text_token\": \"['ballaerospace', 'nasa_marshall', 'nasa', 'spacex', 'congrats']\", \"text_token_s\": \"['ballaerospace', 'nasa_marshall', 'nasa', 'spacex', 'congrats']\", \"text_si\": \"ballaerospace nasa_marshall nasa spacex congrats\", \"text_sil\": \"ballaerospace nasa_marshall nasa spacex congrats\", \"neg\": 0.0, \"neu\": 1.0, \"pos\": 0.0, \"compound\": 0.0, \"sentiment\": \"neutral\"}, {\"created_at\": \"2021-12-09T18:11:43+00:00\", \"id\": 1469006861588434959, \"author_id\": 44196397, \"text\": \"@_rykllan @spacex @felixschlang @marcushouse @erdayastronaut @bluemoondance74 @nexthorizonssf rocket fleets grows\", \"text_token\": \"['_rykllan', 'spacex', 'felixschlang', 'marcushouse', 'erdayastronaut', 'bluemoondance74', 'nexthorizonssf', 'rocket', 'fleets', 'grows']\", \"text_token_s\": \"['_rykllan', 'spacex', 'felixschlang', 'marcushouse', 'erdayastronaut', 'bluemoondance74', 'nexthorizonssf', 'rocket', 'fleets', 'grows']\", \"text_si\": \"_rykllan spacex felixschlang marcushouse erdayastronaut bluemoondance74 nexthorizonssf rocket fleets grows\", \"text_sil\": \"_rykllan spacex felixschlang marcushouse erdayastronaut bluemoondance74 nexthorizonssf rocket fleets grows\", \"neg\": 0.0, \"neu\": 1.0, \"pos\": 0.0, \"compound\": 0.0, \"sentiment\": \"neutral\"}, {\"created_at\": \"2021-12-09T18:09:31+00:00\", \"id\": 1469006308997226502, \"author_id\": 44196397, \"text\": \"@squawkcnbc @gordonjohnson19 \\ud83e\\udd23\\ud83e\\udd23\", \"text_token\": \"['squawkcnbc', 'gordonjohnson19']\", \"text_token_s\": \"['squawkcnbc', 'gordonjohnson19']\", \"text_si\": \"squawkcnbc gordonjohnson19\", \"text_sil\": \"squawkcnbc gordonjohnson19\", \"neg\": 0.0, \"neu\": 1.0, \"pos\": 0.0, \"compound\": 0.0, \"sentiment\": \"neutral\"}, {\"created_at\": \"2021-12-09T18:00:34+00:00\", \"id\": 1469004057004105730, \"author_id\": 44196397, \"text\": \"@rainmaker1973 amazing engine!\", \"text_token\": \"['rainmaker1973', 'amazing', 'engine']\", \"text_token_s\": \"['rainmaker1973', 'amazing', 'engine']\", \"text_si\": \"rainmaker1973 amazing engine\", \"text_sil\": \"rainmaker1973 amazing engine\", \"neg\": 0.0, \"neu\": 1.0, \"pos\": 0.0, \"compound\": 0.0, \"sentiment\": \"neutral\"}, {\"created_at\": \"2021-12-09T17:39:45+00:00\", \"id\": 1468998819283148819, \"author_id\": 44196397, \"text\": \"@cnunezimages @spacex @spaceintellige3 \\ud83d\\udcaf\", \"text_token\": \"['cnunezimages', 'spacex', 'spaceintellige3']\", \"text_token_s\": \"['cnunezimages', 'spacex', 'spaceintellige3']\", \"text_si\": \"cnunezimages spacex spaceintellige3\", \"text_sil\": \"cnunezimages spacex spaceintellige3\", \"neg\": 0.0, \"neu\": 1.0, \"pos\": 0.0, \"compound\": 0.0, \"sentiment\": \"neutral\"}, {\"created_at\": \"2021-12-09T13:38:30+00:00\", \"id\": 1468938104446894092, \"author_id\": 44196397, \"text\": \"@rainmaker1973 shanghai is beautiful\", \"text_token\": \"['rainmaker1973', 'shanghai', 'beautiful']\", \"text_token_s\": \"['rainmaker1973', 'shanghai', 'beautiful']\", \"text_si\": \"rainmaker1973 shanghai beautiful\", \"text_sil\": \"rainmaker1973 shanghai beautiful\", \"neg\": 0.0, \"neu\": 1.0, \"pos\": 0.0, \"compound\": 0.0, \"sentiment\": \"neutral\"}, {\"created_at\": \"2021-12-09T07:09:45+00:00\", \"id\": 1468840273849589762, \"author_id\": 44196397, \"text\": \"@ppathole probably way sooner before it\\u2019s too hot for civilization\", \"text_token\": \"['ppathole', 'probably', 'way', 'sooner', 'hot', 'civilization']\", \"text_token_s\": \"['ppathole', 'probably', 'way', 'sooner', 'hot', 'civilization']\", \"text_si\": \"ppathole probably way sooner hot civilization\", \"text_sil\": \"ppathole probably way sooner hot civilization\", \"neg\": 0.0, \"neu\": 1.0, \"pos\": 0.0, \"compound\": 0.0, \"sentiment\": \"neutral\"}, {\"created_at\": \"2021-12-08T21:11:08+00:00\", \"id\": 1468689628161052674, \"author_id\": 44196397, \"text\": \"unless susceptible to extreme natural disasters, nuclear power plants should not be shut down\", \"text_token\": \"['unless', 'susceptible', 'extreme', 'natural', 'disasters', 'nuclear', 'power', 'plants', 'shut']\", \"text_token_s\": \"['unless', 'susceptible', 'extreme', 'natural', 'disasters', 'nuclear', 'power', 'plants', 'shut']\", \"text_si\": \"unless susceptible extreme natural disasters nuclear power plants shut\", \"text_sil\": \"unless susceptible extreme natural disasters nuclear power plants shut\", \"neg\": 0.0, \"neu\": 1.0, \"pos\": 0.0, \"compound\": 0.0, \"sentiment\": \"neutral\"}, {\"created_at\": \"2021-12-08T21:04:14+00:00\", \"id\": 1468687890376970257, \"author_id\": 44196397, \"text\": \"@watcherguru taxing all billionaires at 100% only drops national debt by ~10%, which is just one year of deficit spending\", \"text_token\": \"['watcherguru', 'taxing', 'billionaires', '100', 'drops', 'national', 'debt', '10', 'one', 'year', 'deficit', 'spending']\", \"text_token_s\": \"['watcherguru', 'taxing', 'billionaires', '100', 'drops', 'national', 'debt', '10', 'one', 'year', 'deficit', 'spending']\", \"text_si\": \"watcherguru taxing billionaires 100 drops national debt one year deficit spending\", \"text_sil\": \"watcherguru taxing billionaires 100 drops national debt one year deficit spending\", \"neg\": 0.0, \"neu\": 1.0, \"pos\": 0.0, \"compound\": 0.0, \"sentiment\": \"neutral\"}, {\"created_at\": \"2021-12-08T21:02:40+00:00\", \"id\": 1468687495084847115, \"author_id\": 44196397, \"text\": \"@watcherguru this is scary, something\\u2019s got to give\", \"text_token\": \"['watcherguru', 'scary', 'something', 'got', 'give']\", \"text_token_s\": \"['watcherguru', 'scary', 'something', 'got', 'give']\", \"text_si\": \"watcherguru scary something got give\", \"text_sil\": \"watcherguru scary something got give\", \"neg\": 0.0, \"neu\": 1.0, \"pos\": 0.0, \"compound\": 0.0, \"sentiment\": \"neutral\"}, {\"created_at\": \"2021-12-08T20:56:14+00:00\", \"id\": 1468685877970935809, \"author_id\": 44196397, \"text\": \"nothing is more permanent than a \\u201ctemporary\\u201d government program\", \"text_token\": \"['nothing', 'permanent', 'temporary', 'government', 'program']\", \"text_token_s\": \"['nothing', 'permanent', 'temporary', 'government', 'program']\", \"text_si\": \"nothing permanent temporary government program\", \"text_sil\": \"nothing permanent temporary government program\", \"neg\": 0.0, \"neu\": 1.0, \"pos\": 0.0, \"compound\": 0.0, \"sentiment\": \"neutral\"}, {\"created_at\": \"2021-12-08T20:53:21+00:00\", \"id\": 1468685150942908424, \"author_id\": 44196397, \"text\": \"@traderjourney exactly!\", \"text_token\": \"['traderjourney', 'exactly']\", \"text_token_s\": \"['traderjourney', 'exactly']\", \"text_si\": \"traderjourney exactly\", \"text_sil\": \"traderjourney exactly\", \"neg\": 0.0, \"neu\": 1.0, \"pos\": 0.0, \"compound\": 0.0, \"sentiment\": \"neutral\"}, {\"created_at\": \"2021-12-08T20:52:56+00:00\", \"id\": 1468685044239814666, \"author_id\": 44196397, \"text\": \"there is a lot of accounting trickery in this bill that isn\\u2019t being disclosed to the public\", \"text_token\": \"['lot', 'accounting', 'trickery', 'bill', 'disclosed', 'public']\", \"text_token_s\": \"['lot', 'accounting', 'trickery', 'bill', 'disclosed', 'public']\", \"text_si\": \"lot accounting trickery bill disclosed public\", \"text_sil\": \"lot accounting trickery bill disclosed public\", \"neg\": 0.0, \"neu\": 1.0, \"pos\": 0.0, \"compound\": 0.0, \"sentiment\": \"neutral\"}, {\"created_at\": \"2021-12-08T20:51:04+00:00\", \"id\": 1468684576407101440, \"author_id\": 44196397, \"text\": \"if \\u201ctemporary\\u201d provisions in the build back better act become permanent, us national debt will increase by 24%! https://t.co/kkdpc45job\", \"text_token\": \"['temporary', 'provisions', 'build', 'back', 'better', 'act', 'become', 'permanent', 'us', 'national', 'debt', 'increase', '24', 'co', 'kkdpc45job']\", \"text_token_s\": \"['temporary', 'provisions', 'build', 'back', 'better', 'act', 'become', 'permanent', 'us', 'national', 'debt', 'increase', '24', 'co', 'kkdpc45job']\", \"text_si\": \"temporary provisions build back better act become permanent national debt increase kkdpc45job\", \"text_sil\": \"temporary provisions build back better act become permanent national debt increase kkdpc45job\", \"neg\": 0.0, \"neu\": 1.0, \"pos\": 0.0, \"compound\": 0.0, \"sentiment\": \"neutral\"}, {\"created_at\": \"2021-12-08T19:19:15+00:00\", \"id\": 1468661470619738115, \"author_id\": 44196397, \"text\": \"@engineers_feed judith cohen (jack black\\u2019s mother) also did important work on apollo https://t.co/jborez8llw\", \"text_token\": \"['engineers_feed', 'judith', 'cohen', 'jack', 'black', 'mother', 'also', 'important', 'work', 'apollo', 'co', 'jborez8llw']\", \"text_token_s\": \"['engineers_feed', 'judith', 'cohen', 'jack', 'black', 'mother', 'also', 'important', 'work', 'apollo', 'co', 'jborez8llw']\", \"text_si\": \"engineers_feed judith cohen jack black mother also important work apollo jborez8llw\", \"text_sil\": \"engineers_feed judith cohen jack black mother also important work apollo jborez8llw\", \"neg\": 0.0, \"neu\": 1.0, \"pos\": 0.0, \"compound\": 0.0, \"sentiment\": \"neutral\"}, {\"created_at\": \"2021-12-08T17:29:13+00:00\", \"id\": 1468633777593331713, \"author_id\": 44196397, \"text\": \"@28delayslater https://t.co/jvsalwjfcj\", \"text_token\": \"['28delayslater', 'co', 'jvsalwjfcj']\", \"text_token_s\": \"['28delayslater', 'co', 'jvsalwjfcj']\", \"text_si\": \"28delayslater jvsalwjfcj\", \"text_sil\": \"28delayslater jvsalwjfcj\", \"neg\": 0.0, \"neu\": 1.0, \"pos\": 0.0, \"compound\": 0.0, \"sentiment\": \"neutral\"}, {\"created_at\": \"2021-12-08T17:28:03+00:00\", \"id\": 1468633486097539078, \"author_id\": 44196397, \"text\": \"@28delayslater https://t.co/ej9swabcfm\", \"text_token\": \"['28delayslater', 'co', 'ej9swabcfm']\", \"text_token_s\": \"['28delayslater', 'co', 'ej9swabcfm']\", \"text_si\": \"28delayslater ej9swabcfm\", \"text_sil\": \"28delayslater ej9swabcfm\", \"neg\": 0.0, \"neu\": 1.0, \"pos\": 0.0, \"compound\": 0.0, \"sentiment\": \"neutral\"}, {\"created_at\": \"2021-12-08T17:26:46+00:00\", \"id\": 1468633161768878080, \"author_id\": 44196397, \"text\": \"@28delayslater https://t.co/mo4bi8mnqt\", \"text_token\": \"['28delayslater', 'co', 'mo4bi8mnqt']\", \"text_token_s\": \"['28delayslater', 'co', 'mo4bi8mnqt']\", \"text_si\": \"28delayslater mo4bi8mnqt\", \"text_sil\": \"28delayslater mo4bi8mnqt\", \"neg\": 0.0, \"neu\": 1.0, \"pos\": 0.0, \"compound\": 0.0, \"sentiment\": \"neutral\"}, {\"created_at\": \"2021-12-08T17:24:31+00:00\", \"id\": 1468632596213125123, \"author_id\": 44196397, \"text\": \"@28delayslater \\ud83e\\uddd0\", \"text_token\": \"['28delayslater']\", \"text_token_s\": \"['28delayslater']\", \"text_si\": \"28delayslater\", \"text_sil\": \"28delayslater\", \"neg\": 0.0, \"neu\": 1.0, \"pos\": 0.0, \"compound\": 0.0, \"sentiment\": \"neutral\"}, {\"created_at\": \"2021-12-08T17:21:49+00:00\", \"id\": 1468631917138522115, \"author_id\": 44196397, \"text\": \"https://t.co/fjaw6l5ba0\", \"text_token\": \"['co', 'fjaw6l5ba0']\", \"text_token_s\": \"['co', 'fjaw6l5ba0']\", \"text_si\": \"fjaw6l5ba0\", \"text_sil\": \"fjaw6l5ba0\", \"neg\": 0.0, \"neu\": 1.0, \"pos\": 0.0, \"compound\": 0.0, \"sentiment\": \"neutral\"}, {\"created_at\": \"2021-12-08T17:04:36+00:00\", \"id\": 1468627585580126208, \"author_id\": 44196397, \"text\": \"@waitbutwhy brain transplants\", \"text_token\": \"['waitbutwhy', 'brain', 'transplants']\", \"text_token_s\": \"['waitbutwhy', 'brain', 'transplants']\", \"text_si\": \"waitbutwhy brain transplants\", \"text_sil\": \"waitbutwhy brain transplants\", \"neg\": 0.0, \"neu\": 1.0, \"pos\": 0.0, \"compound\": 0.0, \"sentiment\": \"neutral\"}, {\"created_at\": \"2021-12-08T05:01:43+00:00\", \"id\": 1468445663704793090, \"author_id\": 44196397, \"text\": \"@jessica_kirsh @spacex booster production is currently ahead of engine production\", \"text_token\": \"['jessica_kirsh', 'spacex', 'booster', 'production', 'currently', 'ahead', 'engine', 'production']\", \"text_token_s\": \"['jessica_kirsh', 'spacex', 'booster', 'production', 'currently', 'ahead', 'engine', 'production']\", \"text_si\": \"jessica_kirsh spacex booster production currently ahead engine production\", \"text_sil\": \"jessica_kirsh spacex booster production currently ahead engine production\", \"neg\": 0.0, \"neu\": 1.0, \"pos\": 0.0, \"compound\": 0.0, \"sentiment\": \"neutral\"}, {\"created_at\": \"2021-12-08T05:00:06+00:00\", \"id\": 1468445256576290818, \"author_id\": 44196397, \"text\": \"@tesla_raj lot of people don\\u2019t realize that you can watch almost any show in a tesla\", \"text_token\": \"['tesla_raj', 'lot', 'people', 'realize', 'watch', 'almost', 'show', 'tesla']\", \"text_token_s\": \"['tesla_raj', 'lot', 'people', 'realize', 'watch', 'almost', 'show', 'tesla']\", \"text_si\": \"tesla_raj lot people realize watch almost show tesla\", \"text_sil\": \"tesla_raj lot people realize watch almost show tesla\", \"neg\": 0.0, \"neu\": 1.0, \"pos\": 0.0, \"compound\": 0.0, \"sentiment\": \"neutral\"}, {\"created_at\": \"2021-12-07T21:53:00+00:00\", \"id\": 1468337774407340043, \"author_id\": 44196397, \"text\": \"@worldandscience if you leave hydrogen out in the sun long enough, it starts talking to itself\", \"text_token\": \"['worldandscience', 'leave', 'hydrogen', 'sun', 'long', 'enough', 'starts', 'talking']\", \"text_token_s\": \"['worldandscience', 'leave', 'hydrogen', 'sun', 'long', 'enough', 'starts', 'talking']\", \"text_si\": \"worldandscience leave hydrogen sun long enough starts talking\", \"text_sil\": \"worldandscience leave hydrogen sun long enough starts talking\", \"neg\": 0.0, \"neu\": 1.0, \"pos\": 0.0, \"compound\": 0.0, \"sentiment\": \"neutral\"}, {\"created_at\": \"2021-12-07T21:46:51+00:00\", \"id\": 1468336225689948164, \"author_id\": 44196397, \"text\": \"@rainmaker1973 wow\", \"text_token\": \"['rainmaker1973', 'wow']\", \"text_token_s\": \"['rainmaker1973', 'wow']\", \"text_si\": \"rainmaker1973 wow\", \"text_sil\": \"rainmaker1973 wow\", \"neg\": 0.0, \"neu\": 1.0, \"pos\": 0.0, \"compound\": 0.0, \"sentiment\": \"neutral\"}, {\"created_at\": \"2021-12-07T21:41:10+00:00\", \"id\": 1468334797508521984, \"author_id\": 44196397, \"text\": \"@tobyliiiiiiiiii @rgvaerialphotos @spacex hopefully, this month, no later than next\", \"text_token\": \"['tobyliiiiiiiiii', 'rgvaerialphotos', 'spacex', 'hopefully', 'month', 'later', 'next']\", \"text_token_s\": \"['tobyliiiiiiiiii', 'rgvaerialphotos', 'spacex', 'hopefully', 'month', 'later', 'next']\", \"text_si\": \"tobyliiiiiiiiii rgvaerialphotos spacex hopefully month later next\", \"text_sil\": \"tobyliiiiiiiiii rgvaerialphotos spacex hopefully month later next\", \"neg\": 0.0, \"neu\": 1.0, \"pos\": 0.0, \"compound\": 0.0, \"sentiment\": \"neutral\"}, {\"created_at\": \"2021-12-07T21:39:16+00:00\", \"id\": 1468334317839568903, \"author_id\": 44196397, \"text\": \"@rgvaerialphotos @spacex progress\", \"text_token\": \"['rgvaerialphotos', 'spacex', 'progress']\", \"text_token_s\": \"['rgvaerialphotos', 'spacex', 'progress']\", \"text_si\": \"rgvaerialphotos spacex progress\", \"text_sil\": \"rgvaerialphotos spacex progress\", \"neg\": 0.0, \"neu\": 1.0, \"pos\": 0.0, \"compound\": 0.0, \"sentiment\": \"neutral\"}, {\"created_at\": \"2021-12-07T16:34:00+00:00\", \"id\": 1468257494229086213, \"author_id\": 44196397, \"text\": \"@joshdcaplan it\\u2019s true\", \"text_token\": \"['joshdcaplan', 'true']\", \"text_token_s\": \"['joshdcaplan', 'true']\", \"text_si\": \"joshdcaplan true\", \"text_sil\": \"joshdcaplan true\", \"neg\": 0.0, \"neu\": 1.0, \"pos\": 0.0, \"compound\": 0.0, \"sentiment\": \"neutral\"}, {\"created_at\": \"2021-12-07T14:15:59+00:00\", \"id\": 1468222764343603211, \"author_id\": 44196397, \"text\": \"@billym2k \\ud83e\\udd23\", \"text_token\": \"['billym2k']\", \"text_token_s\": \"['billym2k']\", \"text_si\": \"billym2k\", \"text_sil\": \"billym2k\", \"neg\": 0.0, \"neu\": 1.0, \"pos\": 0.0, \"compound\": 0.0, \"sentiment\": \"neutral\"}, {\"created_at\": \"2021-12-07T07:56:47+00:00\", \"id\": 1468127332733014024, \"author_id\": 44196397, \"text\": \"@wholemarsblog \\ud83e\\udd23\", \"text_token\": \"['wholemarsblog']\", \"text_token_s\": \"['wholemarsblog']\", \"text_si\": \"wholemarsblog\", \"text_sil\": \"wholemarsblog\", \"neg\": 0.0, \"neu\": 1.0, \"pos\": 0.0, \"compound\": 0.0, \"sentiment\": \"neutral\"}, {\"created_at\": \"2021-12-07T04:10:33+00:00\", \"id\": 1468070398369701890, \"author_id\": 44196397, \"text\": \"@teslafsdbeta replacing faulty/missing neurons with circuits is the right way to think about it. many problems can be solved just bridging signals between existing neurons.\\n\\nprogress will accelerate when we have devices in humans (hard to have nuanced conversations with monkeys) next year.\", \"text_token\": \"['teslafsdbeta', 'replacing', 'faulty', 'missing', 'neurons', 'circuits', 'right', 'way', 'think', 'many', 'problems', 'solved', 'bridging', 'signals', 'existing', 'neurons', 'progress', 'accelerate', 'devices', 'humans', 'hard', 'nuanced', 'conversations', 'monkeys', 'next', 'year']\", \"text_token_s\": \"['teslafsdbeta', 'replacing', 'faulty', 'missing', 'neurons', 'circuits', 'right', 'way', 'think', 'many', 'problems', 'solved', 'bridging', 'signals', 'existing', 'neurons', 'progress', 'accelerate', 'devices', 'humans', 'hard', 'nuanced', 'conversations', 'monkeys', 'next', 'year']\", \"text_si\": \"teslafsdbeta replacing faulty missing neurons circuits right way think many problems solved bridging signals existing neurons progress accelerate devices humans hard nuanced conversations monkeys next year\", \"text_sil\": \"teslafsdbeta replacing faulty missing neurons circuits right way think many problems solved bridging signals existing neurons progress accelerate devices humans hard nuanced conversations monkeys next year\", \"neg\": 0.0, \"neu\": 1.0, \"pos\": 0.0, \"compound\": 0.0, \"sentiment\": \"neutral\"}, {\"created_at\": \"2021-12-07T03:57:42+00:00\", \"id\": 1468067165039439873, \"author_id\": 44196397, \"text\": \"@newsmax there are already minimum age requirements for the house, senate &amp; presidency. reciprocally, there should be maximum age limits too.\", \"text_token\": \"['newsmax', 'already', 'minimum', 'age', 'requirements', 'house', 'senate', 'amp', 'presidency', 'reciprocally', 'maximum', 'age', 'limits']\", \"text_token_s\": \"['newsmax', 'already', 'minimum', 'age', 'requirements', 'house', 'senate', 'amp', 'presidency', 'reciprocally', 'maximum', 'age', 'limits']\", \"text_si\": \"newsmax already minimum age requirements house senate amp presidency reciprocally maximum age limits\", \"text_sil\": \"newsmax already minimum age requirements house senate amp presidency reciprocally maximum age limits\", \"neg\": 0.0, \"neu\": 1.0, \"pos\": 0.0, \"compound\": 0.0, \"sentiment\": \"neutral\"}, {\"created_at\": \"2021-12-07T03:11:40+00:00\", \"id\": 1468055581277708295, \"author_id\": 44196397, \"text\": \"@stocktalkweekly @neuralink i am definitely not saying that we can for sure do this, but i am increasingly confident that it is possible\", \"text_token\": \"['stocktalkweekly', 'neuralink', 'definitely', 'saying', 'sure', 'increasingly', 'confident', 'possible']\", \"text_token_s\": \"['stocktalkweekly', 'neuralink', 'definitely', 'saying', 'sure', 'increasingly', 'confident', 'possible']\", \"text_si\": \"stocktalkweekly neuralink definitely saying sure increasingly confident possible\", \"text_sil\": \"stocktalkweekly neuralink definitely saying sure increasingly confident possible\", \"neg\": 0.0, \"neu\": 1.0, \"pos\": 0.0, \"compound\": 0.0, \"sentiment\": \"neutral\"}, {\"created_at\": \"2021-12-07T01:41:40+00:00\", \"id\": 1468032930761035777, \"author_id\": 44196397, \"text\": \"@icannot_enough @kimpaquette exactly\", \"text_token\": \"['icannot_enough', 'kimpaquette', 'exactly']\", \"text_token_s\": \"['icannot_enough', 'kimpaquette', 'exactly']\", \"text_si\": \"icannot_enough kimpaquette exactly\", \"text_sil\": \"icannot_enough kimpaquette exactly\", \"neg\": 0.0, \"neu\": 1.0, \"pos\": 0.0, \"compound\": 0.0, \"sentiment\": \"neutral\"}, {\"created_at\": \"2021-12-07T01:33:35+00:00\", \"id\": 1468030897979113473, \"author_id\": 44196397, \"text\": \"@univercurious that always blows my mind. sad thing is that we haven\\u2019t been back to the moon in half a century.\", \"text_token\": \"['univercurious', 'always', 'blows', 'mind', 'sad', 'thing', 'back', 'moon', 'half', 'century']\", \"text_token_s\": \"['univercurious', 'always', 'blows', 'mind', 'sad', 'thing', 'back', 'moon', 'half', 'century']\", \"text_si\": \"univercurious always blows mind sad thing back moon half century\", \"text_sil\": \"univercurious always blows mind sad thing back moon half century\", \"neg\": 0.0, \"neu\": 1.0, \"pos\": 0.0, \"compound\": 0.0, \"sentiment\": \"neutral\"}, {\"created_at\": \"2021-12-07T01:30:30+00:00\", \"id\": 1468030121399492616, \"author_id\": 44196397, \"text\": \"@teslaownerssv did it myself \\ud83e\\udd23\", \"text_token\": \"['teslaownerssv']\", \"text_token_s\": \"['teslaownerssv']\", \"text_si\": \"teslaownerssv\", \"text_sil\": \"teslaownerssv\", \"neg\": 0.0, \"neu\": 1.0, \"pos\": 0.0, \"compound\": 0.0, \"sentiment\": \"neutral\"}, {\"created_at\": \"2021-12-06T21:35:48+00:00\", \"id\": 1467971059920130051, \"author_id\": 44196397, \"text\": \"@beniko26020660 10.6.1 coming in a few days to address a few annoying issues\", \"text_token\": \"['beniko26020660', '10', '6', '1', 'coming', 'days', 'address', 'annoying', 'issues']\", \"text_token_s\": \"['beniko26020660', '10', '6', '1', 'coming', 'days', 'address', 'annoying', 'issues']\", \"text_si\": \"beniko26020660 coming days address annoying issues\", \"text_sil\": \"beniko26020660 coming days address annoying issues\", \"neg\": 0.0, \"neu\": 1.0, \"pos\": 0.0, \"compound\": 0.0, \"sentiment\": \"neutral\"}, {\"created_at\": \"2021-12-06T21:16:00+00:00\", \"id\": 1467966076503965706, \"author_id\": 44196397, \"text\": \"@rainmaker1973 looking forward to visiting. i\\u2019ve heard it\\u2019s awesome.\", \"text_token\": \"['rainmaker1973', 'looking', 'forward', 'visiting', 'heard', 'awesome']\", \"text_token_s\": \"['rainmaker1973', 'looking', 'forward', 'visiting', 'heard', 'awesome']\", \"text_si\": \"rainmaker1973 looking forward visiting heard awesome\", \"text_sil\": \"rainmaker1973 looking forward visiting heard awesome\", \"neg\": 0.0, \"neu\": 1.0, \"pos\": 0.0, \"compound\": 0.0, \"sentiment\": \"neutral\"}, {\"created_at\": \"2021-12-06T21:14:36+00:00\", \"id\": 1467965723876208640, \"author_id\": 44196397, \"text\": \"a background in \\u201cai\\u201d is not needed, just exceptional skill in software or computer design\", \"text_token\": \"['background', 'ai', 'needed', 'exceptional', 'skill', 'software', 'computer', 'design']\", \"text_token_s\": \"['background', 'ai', 'needed', 'exceptional', 'skill', 'software', 'computer', 'design']\", \"text_si\": \"background needed exceptional skill software computer design\", \"text_sil\": \"background needed exceptional skill software computer design\", \"neg\": 0.0, \"neu\": 1.0, \"pos\": 0.0, \"compound\": 0.0, \"sentiment\": \"neutral\"}, {\"created_at\": \"2021-12-06T21:10:51+00:00\", \"id\": 1467964781340540935, \"author_id\": 44196397, \"text\": \"@nasa @nasa_astronauts congratulations!\", \"text_token\": \"['nasa', 'nasa_astronauts', 'congratulations']\", \"text_token_s\": \"['nasa', 'nasa_astronauts', 'congratulations']\", \"text_si\": \"nasa nasa_astronauts congratulations\", \"text_sil\": \"nasa nasa_astronauts congratulations\", \"neg\": 0.0, \"neu\": 1.0, \"pos\": 0.0, \"compound\": 0.0, \"sentiment\": \"neutral\"}, {\"created_at\": \"2021-12-06T20:44:50+00:00\", \"id\": 1467958233482604546, \"author_id\": 44196397, \"text\": \"@drsallyl @tesla coming soon. lot of cool stuff.\", \"text_token\": \"['drsallyl', 'tesla', 'coming', 'soon', 'lot', 'cool', 'stuff']\", \"text_token_s\": \"['drsallyl', 'tesla', 'coming', 'soon', 'lot', 'cool', 'stuff']\", \"text_si\": \"drsallyl tesla coming soon lot cool stuff\", \"text_sil\": \"drsallyl tesla coming soon lot cool stuff\", \"neg\": 0.0, \"neu\": 1.0, \"pos\": 0.0, \"compound\": 0.0, \"sentiment\": \"neutral\"}, {\"created_at\": \"2021-12-06T20:25:43+00:00\", \"id\": 1467953422116831242, \"author_id\": 44196397, \"text\": \"@kimpaquette tesla publishes accident statistics quarterly. they are so much better than other vehicles, it is ridiculous. https://t.co/q44lsk1bnk\", \"text_token\": \"['kimpaquette', 'tesla', 'publishes', 'accident', 'statistics', 'quarterly', 'much', 'better', 'vehicles', 'ridiculous', 'co', 'q44lsk1bnk']\", \"text_token_s\": \"['kimpaquette', 'tesla', 'publishes', 'accident', 'statistics', 'quarterly', 'much', 'better', 'vehicles', 'ridiculous', 'co', 'q44lsk1bnk']\", \"text_si\": \"kimpaquette tesla publishes accident statistics quarterly much better vehicles ridiculous q44lsk1bnk\", \"text_sil\": \"kimpaquette tesla publishes accident statistics quarterly much better vehicles ridiculous q44lsk1bnk\", \"neg\": 0.0, \"neu\": 1.0, \"pos\": 0.0, \"compound\": 0.0, \"sentiment\": \"neutral\"}, {\"created_at\": \"2021-12-06T05:42:48+00:00\", \"id\": 1467731226609999872, \"author_id\": 44196397, \"text\": \"as always, tesla is looking for hardcore ai engineers who care about solving problems that directly affect people\\u2019s lives in a major way.\\nhttps://t.co/0b5tooohcj\", \"text_token\": \"['always', 'tesla', 'looking', 'hardcore', 'ai', 'engineers', 'care', 'solving', 'problems', 'directly', 'affect', 'people', 'lives', 'major', 'way', 'co', '0b5tooohcj']\", \"text_token_s\": \"['always', 'tesla', 'looking', 'hardcore', 'ai', 'engineers', 'care', 'solving', 'problems', 'directly', 'affect', 'people', 'lives', 'major', 'way', 'co', '0b5tooohcj']\", \"text_si\": \"always tesla looking hardcore engineers care solving problems directly affect people lives major way 0b5tooohcj\", \"text_sil\": \"always tesla looking hardcore engineers care solving problems directly affect people lives major way 0b5tooohcj\", \"neg\": 0.0, \"neu\": 1.0, \"pos\": 0.0, \"compound\": 0.0, \"sentiment\": \"neutral\"}, {\"created_at\": \"2021-12-06T01:44:54+00:00\", \"id\": 1467671360285589509, \"author_id\": 44196397, \"text\": \"@aeiecon @sciguyspace @jimpethokoukis @pe_podcast_aei good summary\", \"text_token\": \"['aeiecon', 'sciguyspace', 'jimpethokoukis', 'pe_podcast_aei', 'good', 'summary']\", \"text_token_s\": \"['aeiecon', 'sciguyspace', 'jimpethokoukis', 'pe_podcast_aei', 'good', 'summary']\", \"text_si\": \"aeiecon sciguyspace jimpethokoukis pe_podcast_aei good summary\", \"text_sil\": \"aeiecon sciguyspace jimpethokoukis pe_podcast_aei good summary\", \"neg\": 0.0, \"neu\": 1.0, \"pos\": 0.0, \"compound\": 0.0, \"sentiment\": \"neutral\"}, {\"created_at\": \"2021-12-05T19:14:07+00:00\", \"id\": 1467573012765593602, \"author_id\": 44196397, \"text\": \"@epavlic he is quite a bossy dog :)\", \"text_token\": \"['epavlic', 'quite', 'bossy', 'dog']\", \"text_token_s\": \"['epavlic', 'quite', 'bossy', 'dog']\", \"text_si\": \"epavlic quite bossy dog\", \"text_sil\": \"epavlic quite bossy dog\", \"neg\": 0.0, \"neu\": 1.0, \"pos\": 0.0, \"compound\": 0.0, \"sentiment\": \"neutral\"}, {\"created_at\": \"2021-12-05T03:35:29+00:00\", \"id\": 1467336798019928066, \"author_id\": 44196397, \"text\": \"@billym2k nfts are jpeging the dollar\", \"text_token\": \"['billym2k', 'nfts', 'jpeging', 'dollar']\", \"text_token_s\": \"['billym2k', 'nfts', 'jpeging', 'dollar']\", \"text_si\": \"billym2k nfts jpeging dollar\", \"text_sil\": \"billym2k nfts jpeging dollar\", \"neg\": 0.0, \"neu\": 1.0, \"pos\": 0.0, \"compound\": 0.0, \"sentiment\": \"neutral\"}, {\"created_at\": \"2021-12-05T03:33:22+00:00\", \"id\": 1467336265997586432, \"author_id\": 44196397, \"text\": \"@billym2k \\ud83e\\udd23\", \"text_token\": \"['billym2k']\", \"text_token_s\": \"['billym2k']\", \"text_si\": \"billym2k\", \"text_sil\": \"billym2k\", \"neg\": 0.0, \"neu\": 1.0, \"pos\": 0.0, \"compound\": 0.0, \"sentiment\": \"neutral\"}, {\"created_at\": \"2021-12-04T20:12:16+00:00\", \"id\": 1467225261179559938, \"author_id\": 44196397, \"text\": \"@ercxspace landing on tower arms\", \"text_token\": \"['ercxspace', 'landing', 'tower', 'arms']\", \"text_token_s\": \"['ercxspace', 'landing', 'tower', 'arms']\", \"text_si\": \"ercxspace landing tower arms\", \"text_sil\": \"ercxspace landing tower arms\", \"neg\": 0.0, \"neu\": 1.0, \"pos\": 0.0, \"compound\": 0.0, \"sentiment\": \"neutral\"}, {\"created_at\": \"2021-12-04T15:37:34+00:00\", \"id\": 1467156129386049538, \"author_id\": 44196397, \"text\": \"@muratpak my car is currently orbiting mars\", \"text_token\": \"['muratpak', 'car', 'currently', 'orbiting', 'mars']\", \"text_token_s\": \"['muratpak', 'car', 'currently', 'orbiting', 'mars']\", \"text_si\": \"muratpak car currently orbiting mars\", \"text_sil\": \"muratpak car currently orbiting mars\", \"neg\": 0.0, \"neu\": 1.0, \"pos\": 0.0, \"compound\": 0.0, \"sentiment\": \"neutral\"}, {\"created_at\": \"2021-12-04T15:36:37+00:00\", \"id\": 1467155889601798144, \"author_id\": 44196397, \"text\": \"@muratpak you betcha\", \"text_token\": \"['muratpak', 'betcha']\", \"text_token_s\": \"['muratpak', 'betcha']\", \"text_si\": \"muratpak betcha\", \"text_sil\": \"muratpak betcha\", \"neg\": 0.0, \"neu\": 1.0, \"pos\": 0.0, \"compound\": 0.0, \"sentiment\": \"neutral\"}, {\"created_at\": \"2021-12-04T15:09:32+00:00\", \"id\": 1467149074705096713, \"author_id\": 44196397, \"text\": \"starships to \\u2665\\ufe0f mars \\u2665\\ufe0f\", \"text_token\": \"['starships', 'mars']\", \"text_token_s\": \"['starships', 'mars']\", \"text_si\": \"starships mars\", \"text_sil\": \"starships mars\", \"neg\": 0.0, \"neu\": 1.0, \"pos\": 0.0, \"compound\": 0.0, \"sentiment\": \"neutral\"}, {\"created_at\": \"2021-12-04T15:08:15+00:00\", \"id\": 1467148751248801800, \"author_id\": 44196397, \"text\": \"we will soon make these real https://t.co/t4z5onfnww\", \"text_token\": \"['soon', 'make', 'real', 'co', 't4z5onfnww']\", \"text_token_s\": \"['soon', 'make', 'real', 'co', 't4z5onfnww']\", \"text_si\": \"soon make real t4z5onfnww\", \"text_sil\": \"soon make real t4z5onfnww\", \"neg\": 0.0, \"neu\": 1.0, \"pos\": 0.0, \"compound\": 0.0, \"sentiment\": \"neutral\"}, {\"created_at\": \"2021-12-04T01:29:15+00:00\", \"id\": 1466942645545099272, \"author_id\": 44196397, \"text\": \"https://t.co/sigzpdyx76\", \"text_token\": \"['co', 'sigzpdyx76']\", \"text_token_s\": \"['co', 'sigzpdyx76']\", \"text_si\": \"sigzpdyx76\", \"text_sil\": \"sigzpdyx76\", \"neg\": 0.0, \"neu\": 1.0, \"pos\": 0.0, \"compound\": 0.0, \"sentiment\": \"neutral\"}, {\"created_at\": \"2021-12-04T01:01:30+00:00\", \"id\": 1466935662087749636, \"author_id\": 44196397, \"text\": \"@id_aa_carmack haha pretty much\", \"text_token\": \"['id_aa_carmack', 'haha', 'pretty', 'much']\", \"text_token_s\": \"['id_aa_carmack', 'haha', 'pretty', 'much']\", \"text_si\": \"id_aa_carmack haha pretty much\", \"text_sil\": \"id_aa_carmack haha pretty much\", \"neg\": 0.0, \"neu\": 1.0, \"pos\": 0.0, \"compound\": 0.0, \"sentiment\": \"neutral\"}, {\"created_at\": \"2021-12-04T00:08:47+00:00\", \"id\": 1466922392543010823, \"author_id\": 44196397, \"text\": \"@kristennetten @minimalduck @ludalisl @28delayslater @johnnacrider1 @arctechinc @adamhoov @sawyermerritt @garyblack00 @janeidyeve @renatakonkoly exactly\", \"text_token\": \"['kristennetten', 'minimalduck', 'ludalisl', '28delayslater', 'johnnacrider1', 'arctechinc', 'adamhoov', 'sawyermerritt', 'garyblack00', 'janeidyeve', 'renatakonkoly', 'exactly']\", \"text_token_s\": \"['kristennetten', 'minimalduck', 'ludalisl', '28delayslater', 'johnnacrider1', 'arctechinc', 'adamhoov', 'sawyermerritt', 'garyblack00', 'janeidyeve', 'renatakonkoly', 'exactly']\", \"text_si\": \"kristennetten minimalduck ludalisl 28delayslater johnnacrider1 arctechinc adamhoov sawyermerritt garyblack00 janeidyeve renatakonkoly exactly\", \"text_sil\": \"kristennetten minimalduck ludalisl 28delayslater johnnacrider1 arctechinc adamhoov sawyermerritt garyblack00 janeidyeve renatakonkoly exactly\", \"neg\": 0.0, \"neu\": 1.0, \"pos\": 0.0, \"compound\": 0.0, \"sentiment\": \"neutral\"}, {\"created_at\": \"2021-12-03T23:35:30+00:00\", \"id\": 1466914018615078912, \"author_id\": 44196397, \"text\": \"@joroulette it is an honor to serve nasa and the countries of the international space station\", \"text_token\": \"['joroulette', 'honor', 'serve', 'nasa', 'countries', 'international', 'space', 'station']\", \"text_token_s\": \"['joroulette', 'honor', 'serve', 'nasa', 'countries', 'international', 'space', 'station']\", \"text_si\": \"joroulette honor serve nasa countries international space station\", \"text_sil\": \"joroulette honor serve nasa countries international space station\", \"neg\": 0.0, \"neu\": 1.0, \"pos\": 0.0, \"compound\": 0.0, \"sentiment\": \"neutral\"}, {\"created_at\": \"2021-12-03T19:28:57+00:00\", \"id\": 1466851970443010056, \"author_id\": 44196397, \"text\": \"@nasaspaceflight 39a is hallowed spaceflight ground \\u2013 no place more deserving of a starship launch pad!\\n\\nwill have similar, but improved, ground systems &amp; tower to starbase.\", \"text_token\": \"['nasaspaceflight', '39a', 'hallowed', 'spaceflight', 'ground', 'place', 'deserving', 'starship', 'launch', 'pad', 'similar', 'improved', 'ground', 'systems', 'amp', 'tower', 'starbase']\", \"text_token_s\": \"['nasaspaceflight', '39a', 'hallowed', 'spaceflight', 'ground', 'place', 'deserving', 'starship', 'launch', 'pad', 'similar', 'improved', 'ground', 'systems', 'amp', 'tower', 'starbase']\", \"text_si\": \"nasaspaceflight 39a hallowed spaceflight ground place deserving starship launch pad similar improved ground systems amp tower starbase\", \"text_sil\": \"nasaspaceflight 39a hallowed spaceflight ground place deserving starship launch pad similar improved ground systems amp tower starbase\", \"neg\": 0.0, \"neu\": 1.0, \"pos\": 0.0, \"compound\": 0.0, \"sentiment\": \"neutral\"}, {\"created_at\": \"2021-12-03T19:22:34+00:00\", \"id\": 1466850364012044288, \"author_id\": 44196397, \"text\": \"@evafoxu @sawyermerritt huge cranes are cool haha\", \"text_token\": \"['evafoxu', 'sawyermerritt', 'huge', 'cranes', 'cool', 'haha']\", \"text_token_s\": \"['evafoxu', 'sawyermerritt', 'huge', 'cranes', 'cool', 'haha']\", \"text_si\": \"evafoxu sawyermerritt huge cranes cool haha\", \"text_sil\": \"evafoxu sawyermerritt huge cranes cool haha\", \"neg\": 0.0, \"neu\": 1.0, \"pos\": 0.0, \"compound\": 0.0, \"sentiment\": \"neutral\"}, {\"created_at\": \"2021-12-03T19:20:15+00:00\", \"id\": 1466849780253003782, \"author_id\": 44196397, \"text\": \"@ppathole @ercxspace @spacex this will look so awesome!\", \"text_token\": \"['ppathole', 'ercxspace', 'spacex', 'look', 'awesome']\", \"text_token_s\": \"['ppathole', 'ercxspace', 'spacex', 'look', 'awesome']\", \"text_si\": \"ppathole ercxspace spacex look awesome\", \"text_sil\": \"ppathole ercxspace spacex look awesome\", \"neg\": 0.0, \"neu\": 1.0, \"pos\": 0.0, \"compound\": 0.0, \"sentiment\": \"neutral\"}, {\"created_at\": \"2021-12-03T19:18:44+00:00\", \"id\": 1466849402534907910, \"author_id\": 44196397, \"text\": \"@evafoxu @sawyermerritt i love norway! \\ud83c\\uddf3\\ud83c\\uddf4 \\u2665\\ufe0f\\ud83c\\uddf3\\ud83c\\uddf4\", \"text_token\": \"['evafoxu', 'sawyermerritt', 'love', 'norway']\", \"text_token_s\": \"['evafoxu', 'sawyermerritt', 'love', 'norway']\", \"text_si\": \"evafoxu sawyermerritt love norway\", \"text_sil\": \"evafoxu sawyermerritt love norway\", \"neg\": 0.0, \"neu\": 1.0, \"pos\": 0.0, \"compound\": 0.0, \"sentiment\": \"neutral\"}]}}, {\"mode\": \"vega-lite\"});\n",
       "</script>"
      ],
      "text/plain": [
       "alt.Chart(...)"
      ]
     },
     "execution_count": 25,
     "metadata": {},
     "output_type": "execute_result"
    }
   ],
   "source": [
    "alt.Chart(df).mark_line().encode(\n",
    "   x=alt.X('created_at:T'),\n",
    "   y=alt.Y('compound'),\n",
    "   color=alt.Color('sentiment', scale=alt.Scale(domain=domain, range=range_))\n",
    ")"
   ]
  },
  {
   "cell_type": "code",
   "execution_count": 26,
   "metadata": {},
   "outputs": [
    {
     "data": {
      "text/html": [
       "\n",
       "<div id=\"altair-viz-6308177b481f4799b653f3efb696daf9\"></div>\n",
       "<script type=\"text/javascript\">\n",
       "  var VEGA_DEBUG = (typeof VEGA_DEBUG == \"undefined\") ? {} : VEGA_DEBUG;\n",
       "  (function(spec, embedOpt){\n",
       "    let outputDiv = document.currentScript.previousElementSibling;\n",
       "    if (outputDiv.id !== \"altair-viz-6308177b481f4799b653f3efb696daf9\") {\n",
       "      outputDiv = document.getElementById(\"altair-viz-6308177b481f4799b653f3efb696daf9\");\n",
       "    }\n",
       "    const paths = {\n",
       "      \"vega\": \"https://cdn.jsdelivr.net/npm//vega@5?noext\",\n",
       "      \"vega-lib\": \"https://cdn.jsdelivr.net/npm//vega-lib?noext\",\n",
       "      \"vega-lite\": \"https://cdn.jsdelivr.net/npm//vega-lite@4.17.0?noext\",\n",
       "      \"vega-embed\": \"https://cdn.jsdelivr.net/npm//vega-embed@6?noext\",\n",
       "    };\n",
       "\n",
       "    function maybeLoadScript(lib, version) {\n",
       "      var key = `${lib.replace(\"-\", \"\")}_version`;\n",
       "      return (VEGA_DEBUG[key] == version) ?\n",
       "        Promise.resolve(paths[lib]) :\n",
       "        new Promise(function(resolve, reject) {\n",
       "          var s = document.createElement('script');\n",
       "          document.getElementsByTagName(\"head\")[0].appendChild(s);\n",
       "          s.async = true;\n",
       "          s.onload = () => {\n",
       "            VEGA_DEBUG[key] = version;\n",
       "            return resolve(paths[lib]);\n",
       "          };\n",
       "          s.onerror = () => reject(`Error loading script: ${paths[lib]}`);\n",
       "          s.src = paths[lib];\n",
       "        });\n",
       "    }\n",
       "\n",
       "    function showError(err) {\n",
       "      outputDiv.innerHTML = `<div class=\"error\" style=\"color:red;\">${err}</div>`;\n",
       "      throw err;\n",
       "    }\n",
       "\n",
       "    function displayChart(vegaEmbed) {\n",
       "      vegaEmbed(outputDiv, spec, embedOpt)\n",
       "        .catch(err => showError(`Javascript Error: ${err.message}<br>This usually means there's a typo in your chart specification. See the javascript console for the full traceback.`));\n",
       "    }\n",
       "\n",
       "    if(typeof define === \"function\" && define.amd) {\n",
       "      requirejs.config({paths});\n",
       "      require([\"vega-embed\"], displayChart, err => showError(`Error loading script: ${err.message}`));\n",
       "    } else {\n",
       "      maybeLoadScript(\"vega\", \"5\")\n",
       "        .then(() => maybeLoadScript(\"vega-lite\", \"4.17.0\"))\n",
       "        .then(() => maybeLoadScript(\"vega-embed\", \"6\"))\n",
       "        .catch(showError)\n",
       "        .then(() => displayChart(vegaEmbed));\n",
       "    }\n",
       "  })({\"config\": {\"view\": {\"continuousWidth\": 400, \"continuousHeight\": 300}}, \"data\": {\"name\": \"data-ad31317d79161f63d55d45a5e78dda0b\"}, \"mark\": \"boxplot\", \"encoding\": {\"color\": {\"field\": \"sentiment\", \"scale\": {\"domain\": [\"neutral\", \"positive\", \"negative\"], \"range\": [\"#b2d8d8\", \"#008080\", \"#db3d13\"]}, \"type\": \"nominal\"}, \"x\": {\"field\": \"sentiment\", \"type\": \"nominal\"}, \"y\": {\"field\": \"compound\", \"type\": \"quantitative\"}}, \"height\": 200, \"width\": 200, \"$schema\": \"https://vega.github.io/schema/vega-lite/v4.17.0.json\", \"datasets\": {\"data-ad31317d79161f63d55d45a5e78dda0b\": [{\"created_at\": \"2021-12-10T07:20:45+00:00\", \"id\": 1469205428227784711, \"author_id\": 44196397, \"text\": \"@albi_sidearms maybe i will \\u2026\", \"text_token\": \"['albi_sidearms', 'maybe']\", \"text_token_s\": \"['albi_sidearms', 'maybe']\", \"text_si\": \"albi_sidearms maybe\", \"text_sil\": \"albi_sidearms maybe\", \"neg\": 0.0, \"neu\": 1.0, \"pos\": 0.0, \"compound\": 0.0, \"sentiment\": \"neutral\"}, {\"created_at\": \"2021-12-10T07:19:05+00:00\", \"id\": 1469205011687223298, \"author_id\": 44196397, \"text\": \"@jack https://t.co/ueyr6nawap\", \"text_token\": \"['jack', 'co', 'ueyr6nawap']\", \"text_token_s\": \"['jack', 'co', 'ueyr6nawap']\", \"text_si\": \"jack ueyr6nawap\", \"text_sil\": \"jack ueyr6nawap\", \"neg\": 0.0, \"neu\": 1.0, \"pos\": 0.0, \"compound\": 0.0, \"sentiment\": \"neutral\"}, {\"created_at\": \"2021-12-10T06:44:19+00:00\", \"id\": 1469196261953884160, \"author_id\": 44196397, \"text\": \"@sawyermerritt \\ud83e\\udd23\\ud83e\\udd23\", \"text_token\": \"['sawyermerritt']\", \"text_token_s\": \"['sawyermerritt']\", \"text_si\": \"sawyermerritt\", \"text_sil\": \"sawyermerritt\", \"neg\": 0.0, \"neu\": 1.0, \"pos\": 0.0, \"compound\": 0.0, \"sentiment\": \"neutral\"}, {\"created_at\": \"2021-12-10T04:42:00+00:00\", \"id\": 1469165476911755264, \"author_id\": 44196397, \"text\": \"@sawyermerritt tesla china has done amazing work\", \"text_token\": \"['sawyermerritt', 'tesla', 'china', 'done', 'amazing', 'work']\", \"text_token_s\": \"['sawyermerritt', 'tesla', 'china', 'done', 'amazing', 'work']\", \"text_si\": \"sawyermerritt tesla china done amazing work\", \"text_sil\": \"sawyermerritt tesla china done amazing work\", \"neg\": 0.0, \"neu\": 1.0, \"pos\": 0.0, \"compound\": 0.0, \"sentiment\": \"neutral\"}, {\"created_at\": \"2021-12-10T04:21:25+00:00\", \"id\": 1469160298158383109, \"author_id\": 44196397, \"text\": \"@mrbeast \\ud83d\\ude4f\", \"text_token\": \"['mrbeast']\", \"text_token_s\": \"['mrbeast']\", \"text_si\": \"mrbeast\", \"text_sil\": \"mrbeast\", \"neg\": 0.0, \"neu\": 1.0, \"pos\": 0.0, \"compound\": 0.0, \"sentiment\": \"neutral\"}, {\"created_at\": \"2021-12-10T04:20:58+00:00\", \"id\": 1469160186233376774, \"author_id\": 44196397, \"text\": \"@planet4589 earth should be called water\", \"text_token\": \"['planet4589', 'earth', 'called', 'water']\", \"text_token_s\": \"['planet4589', 'earth', 'called', 'water']\", \"text_si\": \"planet4589 earth called water\", \"text_sil\": \"planet4589 earth called water\", \"neg\": 0.0, \"neu\": 1.0, \"pos\": 0.0, \"compound\": 0.0, \"sentiment\": \"neutral\"}, {\"created_at\": \"2021-12-10T04:02:41+00:00\", \"id\": 1469155585119690763, \"author_id\": 44196397, \"text\": \"@samifouad \\ud83e\\udd23\", \"text_token\": \"['samifouad']\", \"text_token_s\": \"['samifouad']\", \"text_si\": \"samifouad\", \"text_sil\": \"samifouad\", \"neg\": 0.0, \"neu\": 1.0, \"pos\": 0.0, \"compound\": 0.0, \"sentiment\": \"neutral\"}, {\"created_at\": \"2021-12-10T03:59:06+00:00\", \"id\": 1469154683113676802, \"author_id\": 44196397, \"text\": \"@tobyliiiiiiiiii noobtoob\", \"text_token\": \"['tobyliiiiiiiiii', 'noobtoob']\", \"text_token_s\": \"['tobyliiiiiiiiii', 'noobtoob']\", \"text_si\": \"tobyliiiiiiiiii noobtoob\", \"text_sil\": \"tobyliiiiiiiiii noobtoob\", \"neg\": 0.0, \"neu\": 1.0, \"pos\": 0.0, \"compound\": 0.0, \"sentiment\": \"neutral\"}, {\"created_at\": \"2021-12-10T03:56:22+00:00\", \"id\": 1469153995428085762, \"author_id\": 44196397, \"text\": \"thinking of quitting my jobs &amp; becoming an influencer full-time wdyt\", \"text_token\": \"['thinking', 'quitting', 'jobs', 'amp', 'becoming', 'influencer', 'full', 'time', 'wdyt']\", \"text_token_s\": \"['thinking', 'quitting', 'jobs', 'amp', 'becoming', 'influencer', 'full', 'time', 'wdyt']\", \"text_si\": \"thinking quitting jobs amp becoming influencer full time wdyt\", \"text_sil\": \"thinking quitting jobs amp becoming influencer full time wdyt\", \"neg\": 0.0, \"neu\": 1.0, \"pos\": 0.0, \"compound\": 0.0, \"sentiment\": \"neutral\"}, {\"created_at\": \"2021-12-10T02:51:25+00:00\", \"id\": 1469137649269153799, \"author_id\": 44196397, \"text\": \"https://t.co/zrz1eflywy\", \"text_token\": \"['co', 'zrz1eflywy']\", \"text_token_s\": \"['co', 'zrz1eflywy']\", \"text_si\": \"zrz1eflywy\", \"text_sil\": \"zrz1eflywy\", \"neg\": 0.0, \"neu\": 1.0, \"pos\": 0.0, \"compound\": 0.0, \"sentiment\": \"neutral\"}, {\"created_at\": \"2021-12-09T20:43:05+00:00\", \"id\": 1469044956736237568, \"author_id\": 44196397, \"text\": \"@teslaownerssv \\ud83d\\udd25\\ud83d\\udd25\", \"text_token\": \"['teslaownerssv']\", \"text_token_s\": \"['teslaownerssv']\", \"text_si\": \"teslaownerssv\", \"text_sil\": \"teslaownerssv\", \"neg\": 0.0, \"neu\": 1.0, \"pos\": 0.0, \"compound\": 0.0, \"sentiment\": \"neutral\"}, {\"created_at\": \"2021-12-09T20:19:29+00:00\", \"id\": 1469039017790525442, \"author_id\": 44196397, \"text\": \"@billym2k @thecryptocpa \\ud83d\\ude2c\", \"text_token\": \"['billym2k', 'thecryptocpa']\", \"text_token_s\": \"['billym2k', 'thecryptocpa']\", \"text_si\": \"billym2k thecryptocpa\", \"text_sil\": \"billym2k thecryptocpa\", \"neg\": 0.0, \"neu\": 1.0, \"pos\": 0.0, \"compound\": 0.0, \"sentiment\": \"neutral\"}, {\"created_at\": \"2021-12-09T18:11:56+00:00\", \"id\": 1469006918240854025, \"author_id\": 44196397, \"text\": \"@ballaerospace @nasa_marshall @nasa @spacex congrats!\", \"text_token\": \"['ballaerospace', 'nasa_marshall', 'nasa', 'spacex', 'congrats']\", \"text_token_s\": \"['ballaerospace', 'nasa_marshall', 'nasa', 'spacex', 'congrats']\", \"text_si\": \"ballaerospace nasa_marshall nasa spacex congrats\", \"text_sil\": \"ballaerospace nasa_marshall nasa spacex congrats\", \"neg\": 0.0, \"neu\": 1.0, \"pos\": 0.0, \"compound\": 0.0, \"sentiment\": \"neutral\"}, {\"created_at\": \"2021-12-09T18:11:43+00:00\", \"id\": 1469006861588434959, \"author_id\": 44196397, \"text\": \"@_rykllan @spacex @felixschlang @marcushouse @erdayastronaut @bluemoondance74 @nexthorizonssf rocket fleets grows\", \"text_token\": \"['_rykllan', 'spacex', 'felixschlang', 'marcushouse', 'erdayastronaut', 'bluemoondance74', 'nexthorizonssf', 'rocket', 'fleets', 'grows']\", \"text_token_s\": \"['_rykllan', 'spacex', 'felixschlang', 'marcushouse', 'erdayastronaut', 'bluemoondance74', 'nexthorizonssf', 'rocket', 'fleets', 'grows']\", \"text_si\": \"_rykllan spacex felixschlang marcushouse erdayastronaut bluemoondance74 nexthorizonssf rocket fleets grows\", \"text_sil\": \"_rykllan spacex felixschlang marcushouse erdayastronaut bluemoondance74 nexthorizonssf rocket fleets grows\", \"neg\": 0.0, \"neu\": 1.0, \"pos\": 0.0, \"compound\": 0.0, \"sentiment\": \"neutral\"}, {\"created_at\": \"2021-12-09T18:09:31+00:00\", \"id\": 1469006308997226502, \"author_id\": 44196397, \"text\": \"@squawkcnbc @gordonjohnson19 \\ud83e\\udd23\\ud83e\\udd23\", \"text_token\": \"['squawkcnbc', 'gordonjohnson19']\", \"text_token_s\": \"['squawkcnbc', 'gordonjohnson19']\", \"text_si\": \"squawkcnbc gordonjohnson19\", \"text_sil\": \"squawkcnbc gordonjohnson19\", \"neg\": 0.0, \"neu\": 1.0, \"pos\": 0.0, \"compound\": 0.0, \"sentiment\": \"neutral\"}, {\"created_at\": \"2021-12-09T18:00:34+00:00\", \"id\": 1469004057004105730, \"author_id\": 44196397, \"text\": \"@rainmaker1973 amazing engine!\", \"text_token\": \"['rainmaker1973', 'amazing', 'engine']\", \"text_token_s\": \"['rainmaker1973', 'amazing', 'engine']\", \"text_si\": \"rainmaker1973 amazing engine\", \"text_sil\": \"rainmaker1973 amazing engine\", \"neg\": 0.0, \"neu\": 1.0, \"pos\": 0.0, \"compound\": 0.0, \"sentiment\": \"neutral\"}, {\"created_at\": \"2021-12-09T17:39:45+00:00\", \"id\": 1468998819283148819, \"author_id\": 44196397, \"text\": \"@cnunezimages @spacex @spaceintellige3 \\ud83d\\udcaf\", \"text_token\": \"['cnunezimages', 'spacex', 'spaceintellige3']\", \"text_token_s\": \"['cnunezimages', 'spacex', 'spaceintellige3']\", \"text_si\": \"cnunezimages spacex spaceintellige3\", \"text_sil\": \"cnunezimages spacex spaceintellige3\", \"neg\": 0.0, \"neu\": 1.0, \"pos\": 0.0, \"compound\": 0.0, \"sentiment\": \"neutral\"}, {\"created_at\": \"2021-12-09T13:38:30+00:00\", \"id\": 1468938104446894092, \"author_id\": 44196397, \"text\": \"@rainmaker1973 shanghai is beautiful\", \"text_token\": \"['rainmaker1973', 'shanghai', 'beautiful']\", \"text_token_s\": \"['rainmaker1973', 'shanghai', 'beautiful']\", \"text_si\": \"rainmaker1973 shanghai beautiful\", \"text_sil\": \"rainmaker1973 shanghai beautiful\", \"neg\": 0.0, \"neu\": 1.0, \"pos\": 0.0, \"compound\": 0.0, \"sentiment\": \"neutral\"}, {\"created_at\": \"2021-12-09T07:09:45+00:00\", \"id\": 1468840273849589762, \"author_id\": 44196397, \"text\": \"@ppathole probably way sooner before it\\u2019s too hot for civilization\", \"text_token\": \"['ppathole', 'probably', 'way', 'sooner', 'hot', 'civilization']\", \"text_token_s\": \"['ppathole', 'probably', 'way', 'sooner', 'hot', 'civilization']\", \"text_si\": \"ppathole probably way sooner hot civilization\", \"text_sil\": \"ppathole probably way sooner hot civilization\", \"neg\": 0.0, \"neu\": 1.0, \"pos\": 0.0, \"compound\": 0.0, \"sentiment\": \"neutral\"}, {\"created_at\": \"2021-12-08T21:11:08+00:00\", \"id\": 1468689628161052674, \"author_id\": 44196397, \"text\": \"unless susceptible to extreme natural disasters, nuclear power plants should not be shut down\", \"text_token\": \"['unless', 'susceptible', 'extreme', 'natural', 'disasters', 'nuclear', 'power', 'plants', 'shut']\", \"text_token_s\": \"['unless', 'susceptible', 'extreme', 'natural', 'disasters', 'nuclear', 'power', 'plants', 'shut']\", \"text_si\": \"unless susceptible extreme natural disasters nuclear power plants shut\", \"text_sil\": \"unless susceptible extreme natural disasters nuclear power plants shut\", \"neg\": 0.0, \"neu\": 1.0, \"pos\": 0.0, \"compound\": 0.0, \"sentiment\": \"neutral\"}, {\"created_at\": \"2021-12-08T21:04:14+00:00\", \"id\": 1468687890376970257, \"author_id\": 44196397, \"text\": \"@watcherguru taxing all billionaires at 100% only drops national debt by ~10%, which is just one year of deficit spending\", \"text_token\": \"['watcherguru', 'taxing', 'billionaires', '100', 'drops', 'national', 'debt', '10', 'one', 'year', 'deficit', 'spending']\", \"text_token_s\": \"['watcherguru', 'taxing', 'billionaires', '100', 'drops', 'national', 'debt', '10', 'one', 'year', 'deficit', 'spending']\", \"text_si\": \"watcherguru taxing billionaires 100 drops national debt one year deficit spending\", \"text_sil\": \"watcherguru taxing billionaires 100 drops national debt one year deficit spending\", \"neg\": 0.0, \"neu\": 1.0, \"pos\": 0.0, \"compound\": 0.0, \"sentiment\": \"neutral\"}, {\"created_at\": \"2021-12-08T21:02:40+00:00\", \"id\": 1468687495084847115, \"author_id\": 44196397, \"text\": \"@watcherguru this is scary, something\\u2019s got to give\", \"text_token\": \"['watcherguru', 'scary', 'something', 'got', 'give']\", \"text_token_s\": \"['watcherguru', 'scary', 'something', 'got', 'give']\", \"text_si\": \"watcherguru scary something got give\", \"text_sil\": \"watcherguru scary something got give\", \"neg\": 0.0, \"neu\": 1.0, \"pos\": 0.0, \"compound\": 0.0, \"sentiment\": \"neutral\"}, {\"created_at\": \"2021-12-08T20:56:14+00:00\", \"id\": 1468685877970935809, \"author_id\": 44196397, \"text\": \"nothing is more permanent than a \\u201ctemporary\\u201d government program\", \"text_token\": \"['nothing', 'permanent', 'temporary', 'government', 'program']\", \"text_token_s\": \"['nothing', 'permanent', 'temporary', 'government', 'program']\", \"text_si\": \"nothing permanent temporary government program\", \"text_sil\": \"nothing permanent temporary government program\", \"neg\": 0.0, \"neu\": 1.0, \"pos\": 0.0, \"compound\": 0.0, \"sentiment\": \"neutral\"}, {\"created_at\": \"2021-12-08T20:53:21+00:00\", \"id\": 1468685150942908424, \"author_id\": 44196397, \"text\": \"@traderjourney exactly!\", \"text_token\": \"['traderjourney', 'exactly']\", \"text_token_s\": \"['traderjourney', 'exactly']\", \"text_si\": \"traderjourney exactly\", \"text_sil\": \"traderjourney exactly\", \"neg\": 0.0, \"neu\": 1.0, \"pos\": 0.0, \"compound\": 0.0, \"sentiment\": \"neutral\"}, {\"created_at\": \"2021-12-08T20:52:56+00:00\", \"id\": 1468685044239814666, \"author_id\": 44196397, \"text\": \"there is a lot of accounting trickery in this bill that isn\\u2019t being disclosed to the public\", \"text_token\": \"['lot', 'accounting', 'trickery', 'bill', 'disclosed', 'public']\", \"text_token_s\": \"['lot', 'accounting', 'trickery', 'bill', 'disclosed', 'public']\", \"text_si\": \"lot accounting trickery bill disclosed public\", \"text_sil\": \"lot accounting trickery bill disclosed public\", \"neg\": 0.0, \"neu\": 1.0, \"pos\": 0.0, \"compound\": 0.0, \"sentiment\": \"neutral\"}, {\"created_at\": \"2021-12-08T20:51:04+00:00\", \"id\": 1468684576407101440, \"author_id\": 44196397, \"text\": \"if \\u201ctemporary\\u201d provisions in the build back better act become permanent, us national debt will increase by 24%! https://t.co/kkdpc45job\", \"text_token\": \"['temporary', 'provisions', 'build', 'back', 'better', 'act', 'become', 'permanent', 'us', 'national', 'debt', 'increase', '24', 'co', 'kkdpc45job']\", \"text_token_s\": \"['temporary', 'provisions', 'build', 'back', 'better', 'act', 'become', 'permanent', 'us', 'national', 'debt', 'increase', '24', 'co', 'kkdpc45job']\", \"text_si\": \"temporary provisions build back better act become permanent national debt increase kkdpc45job\", \"text_sil\": \"temporary provisions build back better act become permanent national debt increase kkdpc45job\", \"neg\": 0.0, \"neu\": 1.0, \"pos\": 0.0, \"compound\": 0.0, \"sentiment\": \"neutral\"}, {\"created_at\": \"2021-12-08T19:19:15+00:00\", \"id\": 1468661470619738115, \"author_id\": 44196397, \"text\": \"@engineers_feed judith cohen (jack black\\u2019s mother) also did important work on apollo https://t.co/jborez8llw\", \"text_token\": \"['engineers_feed', 'judith', 'cohen', 'jack', 'black', 'mother', 'also', 'important', 'work', 'apollo', 'co', 'jborez8llw']\", \"text_token_s\": \"['engineers_feed', 'judith', 'cohen', 'jack', 'black', 'mother', 'also', 'important', 'work', 'apollo', 'co', 'jborez8llw']\", \"text_si\": \"engineers_feed judith cohen jack black mother also important work apollo jborez8llw\", \"text_sil\": \"engineers_feed judith cohen jack black mother also important work apollo jborez8llw\", \"neg\": 0.0, \"neu\": 1.0, \"pos\": 0.0, \"compound\": 0.0, \"sentiment\": \"neutral\"}, {\"created_at\": \"2021-12-08T17:29:13+00:00\", \"id\": 1468633777593331713, \"author_id\": 44196397, \"text\": \"@28delayslater https://t.co/jvsalwjfcj\", \"text_token\": \"['28delayslater', 'co', 'jvsalwjfcj']\", \"text_token_s\": \"['28delayslater', 'co', 'jvsalwjfcj']\", \"text_si\": \"28delayslater jvsalwjfcj\", \"text_sil\": \"28delayslater jvsalwjfcj\", \"neg\": 0.0, \"neu\": 1.0, \"pos\": 0.0, \"compound\": 0.0, \"sentiment\": \"neutral\"}, {\"created_at\": \"2021-12-08T17:28:03+00:00\", \"id\": 1468633486097539078, \"author_id\": 44196397, \"text\": \"@28delayslater https://t.co/ej9swabcfm\", \"text_token\": \"['28delayslater', 'co', 'ej9swabcfm']\", \"text_token_s\": \"['28delayslater', 'co', 'ej9swabcfm']\", \"text_si\": \"28delayslater ej9swabcfm\", \"text_sil\": \"28delayslater ej9swabcfm\", \"neg\": 0.0, \"neu\": 1.0, \"pos\": 0.0, \"compound\": 0.0, \"sentiment\": \"neutral\"}, {\"created_at\": \"2021-12-08T17:26:46+00:00\", \"id\": 1468633161768878080, \"author_id\": 44196397, \"text\": \"@28delayslater https://t.co/mo4bi8mnqt\", \"text_token\": \"['28delayslater', 'co', 'mo4bi8mnqt']\", \"text_token_s\": \"['28delayslater', 'co', 'mo4bi8mnqt']\", \"text_si\": \"28delayslater mo4bi8mnqt\", \"text_sil\": \"28delayslater mo4bi8mnqt\", \"neg\": 0.0, \"neu\": 1.0, \"pos\": 0.0, \"compound\": 0.0, \"sentiment\": \"neutral\"}, {\"created_at\": \"2021-12-08T17:24:31+00:00\", \"id\": 1468632596213125123, \"author_id\": 44196397, \"text\": \"@28delayslater \\ud83e\\uddd0\", \"text_token\": \"['28delayslater']\", \"text_token_s\": \"['28delayslater']\", \"text_si\": \"28delayslater\", \"text_sil\": \"28delayslater\", \"neg\": 0.0, \"neu\": 1.0, \"pos\": 0.0, \"compound\": 0.0, \"sentiment\": \"neutral\"}, {\"created_at\": \"2021-12-08T17:21:49+00:00\", \"id\": 1468631917138522115, \"author_id\": 44196397, \"text\": \"https://t.co/fjaw6l5ba0\", \"text_token\": \"['co', 'fjaw6l5ba0']\", \"text_token_s\": \"['co', 'fjaw6l5ba0']\", \"text_si\": \"fjaw6l5ba0\", \"text_sil\": \"fjaw6l5ba0\", \"neg\": 0.0, \"neu\": 1.0, \"pos\": 0.0, \"compound\": 0.0, \"sentiment\": \"neutral\"}, {\"created_at\": \"2021-12-08T17:04:36+00:00\", \"id\": 1468627585580126208, \"author_id\": 44196397, \"text\": \"@waitbutwhy brain transplants\", \"text_token\": \"['waitbutwhy', 'brain', 'transplants']\", \"text_token_s\": \"['waitbutwhy', 'brain', 'transplants']\", \"text_si\": \"waitbutwhy brain transplants\", \"text_sil\": \"waitbutwhy brain transplants\", \"neg\": 0.0, \"neu\": 1.0, \"pos\": 0.0, \"compound\": 0.0, \"sentiment\": \"neutral\"}, {\"created_at\": \"2021-12-08T05:01:43+00:00\", \"id\": 1468445663704793090, \"author_id\": 44196397, \"text\": \"@jessica_kirsh @spacex booster production is currently ahead of engine production\", \"text_token\": \"['jessica_kirsh', 'spacex', 'booster', 'production', 'currently', 'ahead', 'engine', 'production']\", \"text_token_s\": \"['jessica_kirsh', 'spacex', 'booster', 'production', 'currently', 'ahead', 'engine', 'production']\", \"text_si\": \"jessica_kirsh spacex booster production currently ahead engine production\", \"text_sil\": \"jessica_kirsh spacex booster production currently ahead engine production\", \"neg\": 0.0, \"neu\": 1.0, \"pos\": 0.0, \"compound\": 0.0, \"sentiment\": \"neutral\"}, {\"created_at\": \"2021-12-08T05:00:06+00:00\", \"id\": 1468445256576290818, \"author_id\": 44196397, \"text\": \"@tesla_raj lot of people don\\u2019t realize that you can watch almost any show in a tesla\", \"text_token\": \"['tesla_raj', 'lot', 'people', 'realize', 'watch', 'almost', 'show', 'tesla']\", \"text_token_s\": \"['tesla_raj', 'lot', 'people', 'realize', 'watch', 'almost', 'show', 'tesla']\", \"text_si\": \"tesla_raj lot people realize watch almost show tesla\", \"text_sil\": \"tesla_raj lot people realize watch almost show tesla\", \"neg\": 0.0, \"neu\": 1.0, \"pos\": 0.0, \"compound\": 0.0, \"sentiment\": \"neutral\"}, {\"created_at\": \"2021-12-07T21:53:00+00:00\", \"id\": 1468337774407340043, \"author_id\": 44196397, \"text\": \"@worldandscience if you leave hydrogen out in the sun long enough, it starts talking to itself\", \"text_token\": \"['worldandscience', 'leave', 'hydrogen', 'sun', 'long', 'enough', 'starts', 'talking']\", \"text_token_s\": \"['worldandscience', 'leave', 'hydrogen', 'sun', 'long', 'enough', 'starts', 'talking']\", \"text_si\": \"worldandscience leave hydrogen sun long enough starts talking\", \"text_sil\": \"worldandscience leave hydrogen sun long enough starts talking\", \"neg\": 0.0, \"neu\": 1.0, \"pos\": 0.0, \"compound\": 0.0, \"sentiment\": \"neutral\"}, {\"created_at\": \"2021-12-07T21:46:51+00:00\", \"id\": 1468336225689948164, \"author_id\": 44196397, \"text\": \"@rainmaker1973 wow\", \"text_token\": \"['rainmaker1973', 'wow']\", \"text_token_s\": \"['rainmaker1973', 'wow']\", \"text_si\": \"rainmaker1973 wow\", \"text_sil\": \"rainmaker1973 wow\", \"neg\": 0.0, \"neu\": 1.0, \"pos\": 0.0, \"compound\": 0.0, \"sentiment\": \"neutral\"}, {\"created_at\": \"2021-12-07T21:41:10+00:00\", \"id\": 1468334797508521984, \"author_id\": 44196397, \"text\": \"@tobyliiiiiiiiii @rgvaerialphotos @spacex hopefully, this month, no later than next\", \"text_token\": \"['tobyliiiiiiiiii', 'rgvaerialphotos', 'spacex', 'hopefully', 'month', 'later', 'next']\", \"text_token_s\": \"['tobyliiiiiiiiii', 'rgvaerialphotos', 'spacex', 'hopefully', 'month', 'later', 'next']\", \"text_si\": \"tobyliiiiiiiiii rgvaerialphotos spacex hopefully month later next\", \"text_sil\": \"tobyliiiiiiiiii rgvaerialphotos spacex hopefully month later next\", \"neg\": 0.0, \"neu\": 1.0, \"pos\": 0.0, \"compound\": 0.0, \"sentiment\": \"neutral\"}, {\"created_at\": \"2021-12-07T21:39:16+00:00\", \"id\": 1468334317839568903, \"author_id\": 44196397, \"text\": \"@rgvaerialphotos @spacex progress\", \"text_token\": \"['rgvaerialphotos', 'spacex', 'progress']\", \"text_token_s\": \"['rgvaerialphotos', 'spacex', 'progress']\", \"text_si\": \"rgvaerialphotos spacex progress\", \"text_sil\": \"rgvaerialphotos spacex progress\", \"neg\": 0.0, \"neu\": 1.0, \"pos\": 0.0, \"compound\": 0.0, \"sentiment\": \"neutral\"}, {\"created_at\": \"2021-12-07T16:34:00+00:00\", \"id\": 1468257494229086213, \"author_id\": 44196397, \"text\": \"@joshdcaplan it\\u2019s true\", \"text_token\": \"['joshdcaplan', 'true']\", \"text_token_s\": \"['joshdcaplan', 'true']\", \"text_si\": \"joshdcaplan true\", \"text_sil\": \"joshdcaplan true\", \"neg\": 0.0, \"neu\": 1.0, \"pos\": 0.0, \"compound\": 0.0, \"sentiment\": \"neutral\"}, {\"created_at\": \"2021-12-07T14:15:59+00:00\", \"id\": 1468222764343603211, \"author_id\": 44196397, \"text\": \"@billym2k \\ud83e\\udd23\", \"text_token\": \"['billym2k']\", \"text_token_s\": \"['billym2k']\", \"text_si\": \"billym2k\", \"text_sil\": \"billym2k\", \"neg\": 0.0, \"neu\": 1.0, \"pos\": 0.0, \"compound\": 0.0, \"sentiment\": \"neutral\"}, {\"created_at\": \"2021-12-07T07:56:47+00:00\", \"id\": 1468127332733014024, \"author_id\": 44196397, \"text\": \"@wholemarsblog \\ud83e\\udd23\", \"text_token\": \"['wholemarsblog']\", \"text_token_s\": \"['wholemarsblog']\", \"text_si\": \"wholemarsblog\", \"text_sil\": \"wholemarsblog\", \"neg\": 0.0, \"neu\": 1.0, \"pos\": 0.0, \"compound\": 0.0, \"sentiment\": \"neutral\"}, {\"created_at\": \"2021-12-07T04:10:33+00:00\", \"id\": 1468070398369701890, \"author_id\": 44196397, \"text\": \"@teslafsdbeta replacing faulty/missing neurons with circuits is the right way to think about it. many problems can be solved just bridging signals between existing neurons.\\n\\nprogress will accelerate when we have devices in humans (hard to have nuanced conversations with monkeys) next year.\", \"text_token\": \"['teslafsdbeta', 'replacing', 'faulty', 'missing', 'neurons', 'circuits', 'right', 'way', 'think', 'many', 'problems', 'solved', 'bridging', 'signals', 'existing', 'neurons', 'progress', 'accelerate', 'devices', 'humans', 'hard', 'nuanced', 'conversations', 'monkeys', 'next', 'year']\", \"text_token_s\": \"['teslafsdbeta', 'replacing', 'faulty', 'missing', 'neurons', 'circuits', 'right', 'way', 'think', 'many', 'problems', 'solved', 'bridging', 'signals', 'existing', 'neurons', 'progress', 'accelerate', 'devices', 'humans', 'hard', 'nuanced', 'conversations', 'monkeys', 'next', 'year']\", \"text_si\": \"teslafsdbeta replacing faulty missing neurons circuits right way think many problems solved bridging signals existing neurons progress accelerate devices humans hard nuanced conversations monkeys next year\", \"text_sil\": \"teslafsdbeta replacing faulty missing neurons circuits right way think many problems solved bridging signals existing neurons progress accelerate devices humans hard nuanced conversations monkeys next year\", \"neg\": 0.0, \"neu\": 1.0, \"pos\": 0.0, \"compound\": 0.0, \"sentiment\": \"neutral\"}, {\"created_at\": \"2021-12-07T03:57:42+00:00\", \"id\": 1468067165039439873, \"author_id\": 44196397, \"text\": \"@newsmax there are already minimum age requirements for the house, senate &amp; presidency. reciprocally, there should be maximum age limits too.\", \"text_token\": \"['newsmax', 'already', 'minimum', 'age', 'requirements', 'house', 'senate', 'amp', 'presidency', 'reciprocally', 'maximum', 'age', 'limits']\", \"text_token_s\": \"['newsmax', 'already', 'minimum', 'age', 'requirements', 'house', 'senate', 'amp', 'presidency', 'reciprocally', 'maximum', 'age', 'limits']\", \"text_si\": \"newsmax already minimum age requirements house senate amp presidency reciprocally maximum age limits\", \"text_sil\": \"newsmax already minimum age requirements house senate amp presidency reciprocally maximum age limits\", \"neg\": 0.0, \"neu\": 1.0, \"pos\": 0.0, \"compound\": 0.0, \"sentiment\": \"neutral\"}, {\"created_at\": \"2021-12-07T03:11:40+00:00\", \"id\": 1468055581277708295, \"author_id\": 44196397, \"text\": \"@stocktalkweekly @neuralink i am definitely not saying that we can for sure do this, but i am increasingly confident that it is possible\", \"text_token\": \"['stocktalkweekly', 'neuralink', 'definitely', 'saying', 'sure', 'increasingly', 'confident', 'possible']\", \"text_token_s\": \"['stocktalkweekly', 'neuralink', 'definitely', 'saying', 'sure', 'increasingly', 'confident', 'possible']\", \"text_si\": \"stocktalkweekly neuralink definitely saying sure increasingly confident possible\", \"text_sil\": \"stocktalkweekly neuralink definitely saying sure increasingly confident possible\", \"neg\": 0.0, \"neu\": 1.0, \"pos\": 0.0, \"compound\": 0.0, \"sentiment\": \"neutral\"}, {\"created_at\": \"2021-12-07T01:41:40+00:00\", \"id\": 1468032930761035777, \"author_id\": 44196397, \"text\": \"@icannot_enough @kimpaquette exactly\", \"text_token\": \"['icannot_enough', 'kimpaquette', 'exactly']\", \"text_token_s\": \"['icannot_enough', 'kimpaquette', 'exactly']\", \"text_si\": \"icannot_enough kimpaquette exactly\", \"text_sil\": \"icannot_enough kimpaquette exactly\", \"neg\": 0.0, \"neu\": 1.0, \"pos\": 0.0, \"compound\": 0.0, \"sentiment\": \"neutral\"}, {\"created_at\": \"2021-12-07T01:33:35+00:00\", \"id\": 1468030897979113473, \"author_id\": 44196397, \"text\": \"@univercurious that always blows my mind. sad thing is that we haven\\u2019t been back to the moon in half a century.\", \"text_token\": \"['univercurious', 'always', 'blows', 'mind', 'sad', 'thing', 'back', 'moon', 'half', 'century']\", \"text_token_s\": \"['univercurious', 'always', 'blows', 'mind', 'sad', 'thing', 'back', 'moon', 'half', 'century']\", \"text_si\": \"univercurious always blows mind sad thing back moon half century\", \"text_sil\": \"univercurious always blows mind sad thing back moon half century\", \"neg\": 0.0, \"neu\": 1.0, \"pos\": 0.0, \"compound\": 0.0, \"sentiment\": \"neutral\"}, {\"created_at\": \"2021-12-07T01:30:30+00:00\", \"id\": 1468030121399492616, \"author_id\": 44196397, \"text\": \"@teslaownerssv did it myself \\ud83e\\udd23\", \"text_token\": \"['teslaownerssv']\", \"text_token_s\": \"['teslaownerssv']\", \"text_si\": \"teslaownerssv\", \"text_sil\": \"teslaownerssv\", \"neg\": 0.0, \"neu\": 1.0, \"pos\": 0.0, \"compound\": 0.0, \"sentiment\": \"neutral\"}, {\"created_at\": \"2021-12-06T21:35:48+00:00\", \"id\": 1467971059920130051, \"author_id\": 44196397, \"text\": \"@beniko26020660 10.6.1 coming in a few days to address a few annoying issues\", \"text_token\": \"['beniko26020660', '10', '6', '1', 'coming', 'days', 'address', 'annoying', 'issues']\", \"text_token_s\": \"['beniko26020660', '10', '6', '1', 'coming', 'days', 'address', 'annoying', 'issues']\", \"text_si\": \"beniko26020660 coming days address annoying issues\", \"text_sil\": \"beniko26020660 coming days address annoying issues\", \"neg\": 0.0, \"neu\": 1.0, \"pos\": 0.0, \"compound\": 0.0, \"sentiment\": \"neutral\"}, {\"created_at\": \"2021-12-06T21:16:00+00:00\", \"id\": 1467966076503965706, \"author_id\": 44196397, \"text\": \"@rainmaker1973 looking forward to visiting. i\\u2019ve heard it\\u2019s awesome.\", \"text_token\": \"['rainmaker1973', 'looking', 'forward', 'visiting', 'heard', 'awesome']\", \"text_token_s\": \"['rainmaker1973', 'looking', 'forward', 'visiting', 'heard', 'awesome']\", \"text_si\": \"rainmaker1973 looking forward visiting heard awesome\", \"text_sil\": \"rainmaker1973 looking forward visiting heard awesome\", \"neg\": 0.0, \"neu\": 1.0, \"pos\": 0.0, \"compound\": 0.0, \"sentiment\": \"neutral\"}, {\"created_at\": \"2021-12-06T21:14:36+00:00\", \"id\": 1467965723876208640, \"author_id\": 44196397, \"text\": \"a background in \\u201cai\\u201d is not needed, just exceptional skill in software or computer design\", \"text_token\": \"['background', 'ai', 'needed', 'exceptional', 'skill', 'software', 'computer', 'design']\", \"text_token_s\": \"['background', 'ai', 'needed', 'exceptional', 'skill', 'software', 'computer', 'design']\", \"text_si\": \"background needed exceptional skill software computer design\", \"text_sil\": \"background needed exceptional skill software computer design\", \"neg\": 0.0, \"neu\": 1.0, \"pos\": 0.0, \"compound\": 0.0, \"sentiment\": \"neutral\"}, {\"created_at\": \"2021-12-06T21:10:51+00:00\", \"id\": 1467964781340540935, \"author_id\": 44196397, \"text\": \"@nasa @nasa_astronauts congratulations!\", \"text_token\": \"['nasa', 'nasa_astronauts', 'congratulations']\", \"text_token_s\": \"['nasa', 'nasa_astronauts', 'congratulations']\", \"text_si\": \"nasa nasa_astronauts congratulations\", \"text_sil\": \"nasa nasa_astronauts congratulations\", \"neg\": 0.0, \"neu\": 1.0, \"pos\": 0.0, \"compound\": 0.0, \"sentiment\": \"neutral\"}, {\"created_at\": \"2021-12-06T20:44:50+00:00\", \"id\": 1467958233482604546, \"author_id\": 44196397, \"text\": \"@drsallyl @tesla coming soon. lot of cool stuff.\", \"text_token\": \"['drsallyl', 'tesla', 'coming', 'soon', 'lot', 'cool', 'stuff']\", \"text_token_s\": \"['drsallyl', 'tesla', 'coming', 'soon', 'lot', 'cool', 'stuff']\", \"text_si\": \"drsallyl tesla coming soon lot cool stuff\", \"text_sil\": \"drsallyl tesla coming soon lot cool stuff\", \"neg\": 0.0, \"neu\": 1.0, \"pos\": 0.0, \"compound\": 0.0, \"sentiment\": \"neutral\"}, {\"created_at\": \"2021-12-06T20:25:43+00:00\", \"id\": 1467953422116831242, \"author_id\": 44196397, \"text\": \"@kimpaquette tesla publishes accident statistics quarterly. they are so much better than other vehicles, it is ridiculous. https://t.co/q44lsk1bnk\", \"text_token\": \"['kimpaquette', 'tesla', 'publishes', 'accident', 'statistics', 'quarterly', 'much', 'better', 'vehicles', 'ridiculous', 'co', 'q44lsk1bnk']\", \"text_token_s\": \"['kimpaquette', 'tesla', 'publishes', 'accident', 'statistics', 'quarterly', 'much', 'better', 'vehicles', 'ridiculous', 'co', 'q44lsk1bnk']\", \"text_si\": \"kimpaquette tesla publishes accident statistics quarterly much better vehicles ridiculous q44lsk1bnk\", \"text_sil\": \"kimpaquette tesla publishes accident statistics quarterly much better vehicles ridiculous q44lsk1bnk\", \"neg\": 0.0, \"neu\": 1.0, \"pos\": 0.0, \"compound\": 0.0, \"sentiment\": \"neutral\"}, {\"created_at\": \"2021-12-06T05:42:48+00:00\", \"id\": 1467731226609999872, \"author_id\": 44196397, \"text\": \"as always, tesla is looking for hardcore ai engineers who care about solving problems that directly affect people\\u2019s lives in a major way.\\nhttps://t.co/0b5tooohcj\", \"text_token\": \"['always', 'tesla', 'looking', 'hardcore', 'ai', 'engineers', 'care', 'solving', 'problems', 'directly', 'affect', 'people', 'lives', 'major', 'way', 'co', '0b5tooohcj']\", \"text_token_s\": \"['always', 'tesla', 'looking', 'hardcore', 'ai', 'engineers', 'care', 'solving', 'problems', 'directly', 'affect', 'people', 'lives', 'major', 'way', 'co', '0b5tooohcj']\", \"text_si\": \"always tesla looking hardcore engineers care solving problems directly affect people lives major way 0b5tooohcj\", \"text_sil\": \"always tesla looking hardcore engineers care solving problems directly affect people lives major way 0b5tooohcj\", \"neg\": 0.0, \"neu\": 1.0, \"pos\": 0.0, \"compound\": 0.0, \"sentiment\": \"neutral\"}, {\"created_at\": \"2021-12-06T01:44:54+00:00\", \"id\": 1467671360285589509, \"author_id\": 44196397, \"text\": \"@aeiecon @sciguyspace @jimpethokoukis @pe_podcast_aei good summary\", \"text_token\": \"['aeiecon', 'sciguyspace', 'jimpethokoukis', 'pe_podcast_aei', 'good', 'summary']\", \"text_token_s\": \"['aeiecon', 'sciguyspace', 'jimpethokoukis', 'pe_podcast_aei', 'good', 'summary']\", \"text_si\": \"aeiecon sciguyspace jimpethokoukis pe_podcast_aei good summary\", \"text_sil\": \"aeiecon sciguyspace jimpethokoukis pe_podcast_aei good summary\", \"neg\": 0.0, \"neu\": 1.0, \"pos\": 0.0, \"compound\": 0.0, \"sentiment\": \"neutral\"}, {\"created_at\": \"2021-12-05T19:14:07+00:00\", \"id\": 1467573012765593602, \"author_id\": 44196397, \"text\": \"@epavlic he is quite a bossy dog :)\", \"text_token\": \"['epavlic', 'quite', 'bossy', 'dog']\", \"text_token_s\": \"['epavlic', 'quite', 'bossy', 'dog']\", \"text_si\": \"epavlic quite bossy dog\", \"text_sil\": \"epavlic quite bossy dog\", \"neg\": 0.0, \"neu\": 1.0, \"pos\": 0.0, \"compound\": 0.0, \"sentiment\": \"neutral\"}, {\"created_at\": \"2021-12-05T03:35:29+00:00\", \"id\": 1467336798019928066, \"author_id\": 44196397, \"text\": \"@billym2k nfts are jpeging the dollar\", \"text_token\": \"['billym2k', 'nfts', 'jpeging', 'dollar']\", \"text_token_s\": \"['billym2k', 'nfts', 'jpeging', 'dollar']\", \"text_si\": \"billym2k nfts jpeging dollar\", \"text_sil\": \"billym2k nfts jpeging dollar\", \"neg\": 0.0, \"neu\": 1.0, \"pos\": 0.0, \"compound\": 0.0, \"sentiment\": \"neutral\"}, {\"created_at\": \"2021-12-05T03:33:22+00:00\", \"id\": 1467336265997586432, \"author_id\": 44196397, \"text\": \"@billym2k \\ud83e\\udd23\", \"text_token\": \"['billym2k']\", \"text_token_s\": \"['billym2k']\", \"text_si\": \"billym2k\", \"text_sil\": \"billym2k\", \"neg\": 0.0, \"neu\": 1.0, \"pos\": 0.0, \"compound\": 0.0, \"sentiment\": \"neutral\"}, {\"created_at\": \"2021-12-04T20:12:16+00:00\", \"id\": 1467225261179559938, \"author_id\": 44196397, \"text\": \"@ercxspace landing on tower arms\", \"text_token\": \"['ercxspace', 'landing', 'tower', 'arms']\", \"text_token_s\": \"['ercxspace', 'landing', 'tower', 'arms']\", \"text_si\": \"ercxspace landing tower arms\", \"text_sil\": \"ercxspace landing tower arms\", \"neg\": 0.0, \"neu\": 1.0, \"pos\": 0.0, \"compound\": 0.0, \"sentiment\": \"neutral\"}, {\"created_at\": \"2021-12-04T15:37:34+00:00\", \"id\": 1467156129386049538, \"author_id\": 44196397, \"text\": \"@muratpak my car is currently orbiting mars\", \"text_token\": \"['muratpak', 'car', 'currently', 'orbiting', 'mars']\", \"text_token_s\": \"['muratpak', 'car', 'currently', 'orbiting', 'mars']\", \"text_si\": \"muratpak car currently orbiting mars\", \"text_sil\": \"muratpak car currently orbiting mars\", \"neg\": 0.0, \"neu\": 1.0, \"pos\": 0.0, \"compound\": 0.0, \"sentiment\": \"neutral\"}, {\"created_at\": \"2021-12-04T15:36:37+00:00\", \"id\": 1467155889601798144, \"author_id\": 44196397, \"text\": \"@muratpak you betcha\", \"text_token\": \"['muratpak', 'betcha']\", \"text_token_s\": \"['muratpak', 'betcha']\", \"text_si\": \"muratpak betcha\", \"text_sil\": \"muratpak betcha\", \"neg\": 0.0, \"neu\": 1.0, \"pos\": 0.0, \"compound\": 0.0, \"sentiment\": \"neutral\"}, {\"created_at\": \"2021-12-04T15:09:32+00:00\", \"id\": 1467149074705096713, \"author_id\": 44196397, \"text\": \"starships to \\u2665\\ufe0f mars \\u2665\\ufe0f\", \"text_token\": \"['starships', 'mars']\", \"text_token_s\": \"['starships', 'mars']\", \"text_si\": \"starships mars\", \"text_sil\": \"starships mars\", \"neg\": 0.0, \"neu\": 1.0, \"pos\": 0.0, \"compound\": 0.0, \"sentiment\": \"neutral\"}, {\"created_at\": \"2021-12-04T15:08:15+00:00\", \"id\": 1467148751248801800, \"author_id\": 44196397, \"text\": \"we will soon make these real https://t.co/t4z5onfnww\", \"text_token\": \"['soon', 'make', 'real', 'co', 't4z5onfnww']\", \"text_token_s\": \"['soon', 'make', 'real', 'co', 't4z5onfnww']\", \"text_si\": \"soon make real t4z5onfnww\", \"text_sil\": \"soon make real t4z5onfnww\", \"neg\": 0.0, \"neu\": 1.0, \"pos\": 0.0, \"compound\": 0.0, \"sentiment\": \"neutral\"}, {\"created_at\": \"2021-12-04T01:29:15+00:00\", \"id\": 1466942645545099272, \"author_id\": 44196397, \"text\": \"https://t.co/sigzpdyx76\", \"text_token\": \"['co', 'sigzpdyx76']\", \"text_token_s\": \"['co', 'sigzpdyx76']\", \"text_si\": \"sigzpdyx76\", \"text_sil\": \"sigzpdyx76\", \"neg\": 0.0, \"neu\": 1.0, \"pos\": 0.0, \"compound\": 0.0, \"sentiment\": \"neutral\"}, {\"created_at\": \"2021-12-04T01:01:30+00:00\", \"id\": 1466935662087749636, \"author_id\": 44196397, \"text\": \"@id_aa_carmack haha pretty much\", \"text_token\": \"['id_aa_carmack', 'haha', 'pretty', 'much']\", \"text_token_s\": \"['id_aa_carmack', 'haha', 'pretty', 'much']\", \"text_si\": \"id_aa_carmack haha pretty much\", \"text_sil\": \"id_aa_carmack haha pretty much\", \"neg\": 0.0, \"neu\": 1.0, \"pos\": 0.0, \"compound\": 0.0, \"sentiment\": \"neutral\"}, {\"created_at\": \"2021-12-04T00:08:47+00:00\", \"id\": 1466922392543010823, \"author_id\": 44196397, \"text\": \"@kristennetten @minimalduck @ludalisl @28delayslater @johnnacrider1 @arctechinc @adamhoov @sawyermerritt @garyblack00 @janeidyeve @renatakonkoly exactly\", \"text_token\": \"['kristennetten', 'minimalduck', 'ludalisl', '28delayslater', 'johnnacrider1', 'arctechinc', 'adamhoov', 'sawyermerritt', 'garyblack00', 'janeidyeve', 'renatakonkoly', 'exactly']\", \"text_token_s\": \"['kristennetten', 'minimalduck', 'ludalisl', '28delayslater', 'johnnacrider1', 'arctechinc', 'adamhoov', 'sawyermerritt', 'garyblack00', 'janeidyeve', 'renatakonkoly', 'exactly']\", \"text_si\": \"kristennetten minimalduck ludalisl 28delayslater johnnacrider1 arctechinc adamhoov sawyermerritt garyblack00 janeidyeve renatakonkoly exactly\", \"text_sil\": \"kristennetten minimalduck ludalisl 28delayslater johnnacrider1 arctechinc adamhoov sawyermerritt garyblack00 janeidyeve renatakonkoly exactly\", \"neg\": 0.0, \"neu\": 1.0, \"pos\": 0.0, \"compound\": 0.0, \"sentiment\": \"neutral\"}, {\"created_at\": \"2021-12-03T23:35:30+00:00\", \"id\": 1466914018615078912, \"author_id\": 44196397, \"text\": \"@joroulette it is an honor to serve nasa and the countries of the international space station\", \"text_token\": \"['joroulette', 'honor', 'serve', 'nasa', 'countries', 'international', 'space', 'station']\", \"text_token_s\": \"['joroulette', 'honor', 'serve', 'nasa', 'countries', 'international', 'space', 'station']\", \"text_si\": \"joroulette honor serve nasa countries international space station\", \"text_sil\": \"joroulette honor serve nasa countries international space station\", \"neg\": 0.0, \"neu\": 1.0, \"pos\": 0.0, \"compound\": 0.0, \"sentiment\": \"neutral\"}, {\"created_at\": \"2021-12-03T19:28:57+00:00\", \"id\": 1466851970443010056, \"author_id\": 44196397, \"text\": \"@nasaspaceflight 39a is hallowed spaceflight ground \\u2013 no place more deserving of a starship launch pad!\\n\\nwill have similar, but improved, ground systems &amp; tower to starbase.\", \"text_token\": \"['nasaspaceflight', '39a', 'hallowed', 'spaceflight', 'ground', 'place', 'deserving', 'starship', 'launch', 'pad', 'similar', 'improved', 'ground', 'systems', 'amp', 'tower', 'starbase']\", \"text_token_s\": \"['nasaspaceflight', '39a', 'hallowed', 'spaceflight', 'ground', 'place', 'deserving', 'starship', 'launch', 'pad', 'similar', 'improved', 'ground', 'systems', 'amp', 'tower', 'starbase']\", \"text_si\": \"nasaspaceflight 39a hallowed spaceflight ground place deserving starship launch pad similar improved ground systems amp tower starbase\", \"text_sil\": \"nasaspaceflight 39a hallowed spaceflight ground place deserving starship launch pad similar improved ground systems amp tower starbase\", \"neg\": 0.0, \"neu\": 1.0, \"pos\": 0.0, \"compound\": 0.0, \"sentiment\": \"neutral\"}, {\"created_at\": \"2021-12-03T19:22:34+00:00\", \"id\": 1466850364012044288, \"author_id\": 44196397, \"text\": \"@evafoxu @sawyermerritt huge cranes are cool haha\", \"text_token\": \"['evafoxu', 'sawyermerritt', 'huge', 'cranes', 'cool', 'haha']\", \"text_token_s\": \"['evafoxu', 'sawyermerritt', 'huge', 'cranes', 'cool', 'haha']\", \"text_si\": \"evafoxu sawyermerritt huge cranes cool haha\", \"text_sil\": \"evafoxu sawyermerritt huge cranes cool haha\", \"neg\": 0.0, \"neu\": 1.0, \"pos\": 0.0, \"compound\": 0.0, \"sentiment\": \"neutral\"}, {\"created_at\": \"2021-12-03T19:20:15+00:00\", \"id\": 1466849780253003782, \"author_id\": 44196397, \"text\": \"@ppathole @ercxspace @spacex this will look so awesome!\", \"text_token\": \"['ppathole', 'ercxspace', 'spacex', 'look', 'awesome']\", \"text_token_s\": \"['ppathole', 'ercxspace', 'spacex', 'look', 'awesome']\", \"text_si\": \"ppathole ercxspace spacex look awesome\", \"text_sil\": \"ppathole ercxspace spacex look awesome\", \"neg\": 0.0, \"neu\": 1.0, \"pos\": 0.0, \"compound\": 0.0, \"sentiment\": \"neutral\"}, {\"created_at\": \"2021-12-03T19:18:44+00:00\", \"id\": 1466849402534907910, \"author_id\": 44196397, \"text\": \"@evafoxu @sawyermerritt i love norway! \\ud83c\\uddf3\\ud83c\\uddf4 \\u2665\\ufe0f\\ud83c\\uddf3\\ud83c\\uddf4\", \"text_token\": \"['evafoxu', 'sawyermerritt', 'love', 'norway']\", \"text_token_s\": \"['evafoxu', 'sawyermerritt', 'love', 'norway']\", \"text_si\": \"evafoxu sawyermerritt love norway\", \"text_sil\": \"evafoxu sawyermerritt love norway\", \"neg\": 0.0, \"neu\": 1.0, \"pos\": 0.0, \"compound\": 0.0, \"sentiment\": \"neutral\"}]}}, {\"mode\": \"vega-lite\"});\n",
       "</script>"
      ],
      "text/plain": [
       "alt.Chart(...)"
      ]
     },
     "execution_count": 26,
     "metadata": {},
     "output_type": "execute_result"
    }
   ],
   "source": [
    "alt.Chart(df).mark_boxplot().encode(\n",
    "    x=alt.X('sentiment'),\n",
    "    y=alt.Y('compound'),\n",
    "    color=alt.Color('sentiment', scale=alt.Scale(domain=domain, range=range_))\n",
    ").properties(\n",
    "    width=200,\n",
    "    height=200\n",
    ")"
   ]
  },
  {
   "cell_type": "markdown",
   "metadata": {
    "slideshow": {
     "slide_type": "notes"
    }
   },
   "source": [
    "Literature:\n",
    "\n",
    "[Hutto, C.J. & Gilbert, E.E. (2014). VADER: A Parsimonious Rule-based Model for\n",
    "Sentiment Analysis of Social Media Text. Eighth International Conference on\n",
    "Weblogs and Social Media (ICWSM-14). Ann Arbor, MI, June 2014.](https://ojs.aaai.org/index.php/ICWSM/article/view/14550)"
   ]
  }
 ],
 "metadata": {
  "celltoolbar": "Create Assignment",
  "kernelspec": {
   "display_name": "Python 3 (ipykernel)",
   "language": "python",
   "name": "python3"
  },
  "language_info": {
   "codemirror_mode": {
    "name": "ipython",
    "version": 3
   },
   "file_extension": ".py",
   "mimetype": "text/x-python",
   "name": "python",
   "nbconvert_exporter": "python",
   "pygments_lexer": "ipython3",
   "version": "3.9.13"
  },
  "varInspector": {
   "cols": {
    "lenName": 16,
    "lenType": 16,
    "lenVar": 40
   },
   "kernels_config": {
    "python": {
     "delete_cmd_postfix": "",
     "delete_cmd_prefix": "del ",
     "library": "var_list.py",
     "varRefreshCmd": "print(var_dic_list())"
    },
    "r": {
     "delete_cmd_postfix": ") ",
     "delete_cmd_prefix": "rm(",
     "library": "var_list.r",
     "varRefreshCmd": "cat(var_dic_list()) "
    }
   },
   "types_to_exclude": [
    "module",
    "function",
    "builtin_function_or_method",
    "instance",
    "_Feature"
   ],
   "window_display": false
  },
  "vscode": {
   "interpreter": {
    "hash": "147de23312147813b0623f895fe208f672aacb131d01c672b840a7a22f97849e"
   }
  }
 },
 "nbformat": 4,
 "nbformat_minor": 2
}
