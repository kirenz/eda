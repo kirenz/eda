{
 "cells": [
  {
   "cell_type": "markdown",
   "metadata": {
    "slideshow": {
     "slide_type": "slide"
    }
   },
   "source": [
    "# Sentiment Analysis with NLTK"
   ]
  },
  {
   "cell_type": "markdown",
   "metadata": {
    "slideshow": {
     "slide_type": "slide"
    }
   },
   "source": [
    "## Python setup\n",
    "\n",
    "\n",
    "We need the following modules:\n",
    "\n",
    "- NLTK\n",
    "- Pandas\n",
    "- Altair"
   ]
  },
  {
   "cell_type": "code",
   "execution_count": 1,
   "metadata": {},
   "outputs": [],
   "source": [
    "import nltk\n",
    "\n",
    "# we suppress some unimportant warnings\n",
    "import warnings\n",
    "\n",
    "warnings.simplefilter(action='ignore', category=FutureWarning)"
   ]
  },
  {
   "cell_type": "markdown",
   "metadata": {
    "slideshow": {
     "slide_type": "slide"
    },
    "tags": []
   },
   "source": [
    "## Data"
   ]
  },
  {
   "cell_type": "markdown",
   "metadata": {
    "slideshow": {
     "slide_type": "slide"
    }
   },
   "source": [
    "### Data import"
   ]
  },
  {
   "cell_type": "code",
   "execution_count": 2,
   "metadata": {
    "slideshow": {
     "slide_type": "fragment"
    }
   },
   "outputs": [
    {
     "data": {
      "text/html": [
       "<div>\n",
       "<style scoped>\n",
       "    .dataframe tbody tr th:only-of-type {\n",
       "        vertical-align: middle;\n",
       "    }\n",
       "\n",
       "    .dataframe tbody tr th {\n",
       "        vertical-align: top;\n",
       "    }\n",
       "\n",
       "    .dataframe thead th {\n",
       "        text-align: right;\n",
       "    }\n",
       "</style>\n",
       "<table border=\"1\" class=\"dataframe\">\n",
       "  <thead>\n",
       "    <tr style=\"text-align: right;\">\n",
       "      <th></th>\n",
       "      <th>created_at</th>\n",
       "      <th>id</th>\n",
       "      <th>author_id</th>\n",
       "      <th>text</th>\n",
       "      <th>text_token</th>\n",
       "      <th>text_token_s</th>\n",
       "      <th>text_si</th>\n",
       "      <th>text_sil</th>\n",
       "    </tr>\n",
       "  </thead>\n",
       "  <tbody>\n",
       "    <tr>\n",
       "      <th>0</th>\n",
       "      <td>2021-12-10 07:20:45+00:00</td>\n",
       "      <td>1469205428227784711</td>\n",
       "      <td>44196397</td>\n",
       "      <td>@albi_sidearms maybe i will …</td>\n",
       "      <td>['albi_sidearms', 'maybe']</td>\n",
       "      <td>['albi_sidearms', 'maybe']</td>\n",
       "      <td>albi_sidearms maybe</td>\n",
       "      <td>albi_sidearms maybe</td>\n",
       "    </tr>\n",
       "    <tr>\n",
       "      <th>1</th>\n",
       "      <td>2021-12-10 07:19:05+00:00</td>\n",
       "      <td>1469205011687223298</td>\n",
       "      <td>44196397</td>\n",
       "      <td>@jack https://t.co/ueyr6nawap</td>\n",
       "      <td>['jack', 'co', 'ueyr6nawap']</td>\n",
       "      <td>['jack', 'co', 'ueyr6nawap']</td>\n",
       "      <td>jack ueyr6nawap</td>\n",
       "      <td>jack ueyr6nawap</td>\n",
       "    </tr>\n",
       "    <tr>\n",
       "      <th>2</th>\n",
       "      <td>2021-12-10 06:44:19+00:00</td>\n",
       "      <td>1469196261953884160</td>\n",
       "      <td>44196397</td>\n",
       "      <td>@sawyermerritt 🤣🤣</td>\n",
       "      <td>['sawyermerritt']</td>\n",
       "      <td>['sawyermerritt']</td>\n",
       "      <td>sawyermerritt</td>\n",
       "      <td>sawyermerritt</td>\n",
       "    </tr>\n",
       "  </tbody>\n",
       "</table>\n",
       "</div>"
      ],
      "text/plain": [
       "                  created_at                   id  author_id  \\\n",
       "0  2021-12-10 07:20:45+00:00  1469205428227784711   44196397   \n",
       "1  2021-12-10 07:19:05+00:00  1469205011687223298   44196397   \n",
       "2  2021-12-10 06:44:19+00:00  1469196261953884160   44196397   \n",
       "\n",
       "                            text                    text_token  \\\n",
       "0  @albi_sidearms maybe i will …    ['albi_sidearms', 'maybe']   \n",
       "1  @jack https://t.co/ueyr6nawap  ['jack', 'co', 'ueyr6nawap']   \n",
       "2              @sawyermerritt 🤣🤣             ['sawyermerritt']   \n",
       "\n",
       "                   text_token_s              text_si             text_sil  \n",
       "0    ['albi_sidearms', 'maybe']  albi_sidearms maybe  albi_sidearms maybe  \n",
       "1  ['jack', 'co', 'ueyr6nawap']      jack ueyr6nawap      jack ueyr6nawap  \n",
       "2             ['sawyermerritt']        sawyermerritt        sawyermerritt  "
      ]
     },
     "execution_count": 2,
     "metadata": {},
     "output_type": "execute_result"
    }
   ],
   "source": [
    "import pandas as pd\n",
    "\n",
    "# Import some prepared Tweets from Elon Musk \n",
    "df = pd.read_csv(\"https://raw.githubusercontent.com/kirenz/datasets/master/twitter-sentiment.csv\")\n",
    "\n",
    "df.head(3)"
   ]
  },
  {
   "cell_type": "markdown",
   "metadata": {
    "slideshow": {
     "slide_type": "slide"
    }
   },
   "source": [
    "### Data corrections"
   ]
  },
  {
   "cell_type": "code",
   "execution_count": 3,
   "metadata": {},
   "outputs": [
    {
     "name": "stdout",
     "output_type": "stream",
     "text": [
      "<class 'pandas.core.frame.DataFrame'>\n",
      "RangeIndex: 72 entries, 0 to 71\n",
      "Data columns (total 8 columns):\n",
      " #   Column        Non-Null Count  Dtype              \n",
      "---  ------        --------------  -----              \n",
      " 0   created_at    72 non-null     datetime64[ns, UTC]\n",
      " 1   id            72 non-null     int64              \n",
      " 2   author_id     72 non-null     int64              \n",
      " 3   text          72 non-null     object             \n",
      " 4   text_token    72 non-null     object             \n",
      " 5   text_token_s  72 non-null     object             \n",
      " 6   text_si       72 non-null     object             \n",
      " 7   text_sil      72 non-null     object             \n",
      "dtypes: datetime64[ns, UTC](1), int64(2), object(5)\n",
      "memory usage: 4.6+ KB\n"
     ]
    }
   ],
   "source": [
    "df['created_at'] = pd.to_datetime(df['created_at'])\n",
    "\n",
    "df.info()"
   ]
  },
  {
   "cell_type": "markdown",
   "metadata": {
    "slideshow": {
     "slide_type": "slide"
    }
   },
   "source": [
    "## Sentiment analysis"
   ]
  },
  {
   "cell_type": "markdown",
   "metadata": {
    "slideshow": {
     "slide_type": "fragment"
    }
   },
   "source": [
    "- NLTK provides a simple rule-based model for general sentiment analysis called VADER, which stands for \"Valence Aware Dictionary and Sentiment Reasoner\" (Hutto & Gilbert, 2014)."
   ]
  },
  {
   "cell_type": "code",
   "execution_count": 4,
   "metadata": {
    "slideshow": {
     "slide_type": "fragment"
    }
   },
   "outputs": [
    {
     "name": "stderr",
     "output_type": "stream",
     "text": [
      "[nltk_data] Downloading package vader_lexicon to\n",
      "[nltk_data]     /Users/jankirenz/nltk_data...\n",
      "[nltk_data]   Package vader_lexicon is already up-to-date!\n"
     ]
    },
    {
     "data": {
      "text/plain": [
       "True"
      ]
     },
     "execution_count": 4,
     "metadata": {},
     "output_type": "execute_result"
    }
   ],
   "source": [
    "nltk.download('vader_lexicon')"
   ]
  },
  {
   "cell_type": "markdown",
   "metadata": {
    "slideshow": {
     "slide_type": "slide"
    }
   },
   "source": [
    "### Sentiment Intensity Analyzer"
   ]
  },
  {
   "cell_type": "markdown",
   "metadata": {
    "slideshow": {
     "slide_type": "fragment"
    }
   },
   "source": [
    "- Initialize an object of `SentimentIntensityAnalyzer` with name \"analyzer\":"
   ]
  },
  {
   "cell_type": "code",
   "execution_count": 5,
   "metadata": {
    "slideshow": {
     "slide_type": "fragment"
    }
   },
   "outputs": [],
   "source": [
    "from nltk.sentiment import SentimentIntensityAnalyzer\n",
    "\n",
    "analyzer = SentimentIntensityAnalyzer()"
   ]
  },
  {
   "cell_type": "markdown",
   "metadata": {
    "slideshow": {
     "slide_type": "slide"
    }
   },
   "source": [
    "### Polarity scores\n",
    "\n",
    "- Use the `polarity_scores` method:"
   ]
  },
  {
   "cell_type": "code",
   "execution_count": 6,
   "metadata": {
    "slideshow": {
     "slide_type": "fragment"
    }
   },
   "outputs": [],
   "source": [
    "df['polarity'] = df['text_token'].apply(lambda x: analyzer.polarity_scores(x))"
   ]
  },
  {
   "cell_type": "code",
   "execution_count": 7,
   "metadata": {
    "slideshow": {
     "slide_type": "subslide"
    }
   },
   "outputs": [
    {
     "data": {
      "text/html": [
       "<div>\n",
       "<style scoped>\n",
       "    .dataframe tbody tr th:only-of-type {\n",
       "        vertical-align: middle;\n",
       "    }\n",
       "\n",
       "    .dataframe tbody tr th {\n",
       "        vertical-align: top;\n",
       "    }\n",
       "\n",
       "    .dataframe thead th {\n",
       "        text-align: right;\n",
       "    }\n",
       "</style>\n",
       "<table border=\"1\" class=\"dataframe\">\n",
       "  <thead>\n",
       "    <tr style=\"text-align: right;\">\n",
       "      <th></th>\n",
       "      <th>created_at</th>\n",
       "      <th>id</th>\n",
       "      <th>author_id</th>\n",
       "      <th>text</th>\n",
       "      <th>text_token</th>\n",
       "      <th>text_token_s</th>\n",
       "      <th>text_si</th>\n",
       "      <th>text_sil</th>\n",
       "      <th>polarity</th>\n",
       "    </tr>\n",
       "  </thead>\n",
       "  <tbody>\n",
       "    <tr>\n",
       "      <th>0</th>\n",
       "      <td>2021-12-10 07:20:45+00:00</td>\n",
       "      <td>1469205428227784711</td>\n",
       "      <td>44196397</td>\n",
       "      <td>@albi_sidearms maybe i will …</td>\n",
       "      <td>['albi_sidearms', 'maybe']</td>\n",
       "      <td>['albi_sidearms', 'maybe']</td>\n",
       "      <td>albi_sidearms maybe</td>\n",
       "      <td>albi_sidearms maybe</td>\n",
       "      <td>{'neg': 0.0, 'neu': 1.0, 'pos': 0.0, 'compound...</td>\n",
       "    </tr>\n",
       "    <tr>\n",
       "      <th>1</th>\n",
       "      <td>2021-12-10 07:19:05+00:00</td>\n",
       "      <td>1469205011687223298</td>\n",
       "      <td>44196397</td>\n",
       "      <td>@jack https://t.co/ueyr6nawap</td>\n",
       "      <td>['jack', 'co', 'ueyr6nawap']</td>\n",
       "      <td>['jack', 'co', 'ueyr6nawap']</td>\n",
       "      <td>jack ueyr6nawap</td>\n",
       "      <td>jack ueyr6nawap</td>\n",
       "      <td>{'neg': 0.0, 'neu': 1.0, 'pos': 0.0, 'compound...</td>\n",
       "    </tr>\n",
       "    <tr>\n",
       "      <th>2</th>\n",
       "      <td>2021-12-10 06:44:19+00:00</td>\n",
       "      <td>1469196261953884160</td>\n",
       "      <td>44196397</td>\n",
       "      <td>@sawyermerritt 🤣🤣</td>\n",
       "      <td>['sawyermerritt']</td>\n",
       "      <td>['sawyermerritt']</td>\n",
       "      <td>sawyermerritt</td>\n",
       "      <td>sawyermerritt</td>\n",
       "      <td>{'neg': 0.0, 'neu': 1.0, 'pos': 0.0, 'compound...</td>\n",
       "    </tr>\n",
       "  </tbody>\n",
       "</table>\n",
       "</div>"
      ],
      "text/plain": [
       "                 created_at                   id  author_id  \\\n",
       "0 2021-12-10 07:20:45+00:00  1469205428227784711   44196397   \n",
       "1 2021-12-10 07:19:05+00:00  1469205011687223298   44196397   \n",
       "2 2021-12-10 06:44:19+00:00  1469196261953884160   44196397   \n",
       "\n",
       "                            text                    text_token  \\\n",
       "0  @albi_sidearms maybe i will …    ['albi_sidearms', 'maybe']   \n",
       "1  @jack https://t.co/ueyr6nawap  ['jack', 'co', 'ueyr6nawap']   \n",
       "2              @sawyermerritt 🤣🤣             ['sawyermerritt']   \n",
       "\n",
       "                   text_token_s              text_si             text_sil  \\\n",
       "0    ['albi_sidearms', 'maybe']  albi_sidearms maybe  albi_sidearms maybe   \n",
       "1  ['jack', 'co', 'ueyr6nawap']      jack ueyr6nawap      jack ueyr6nawap   \n",
       "2             ['sawyermerritt']        sawyermerritt        sawyermerritt   \n",
       "\n",
       "                                            polarity  \n",
       "0  {'neg': 0.0, 'neu': 1.0, 'pos': 0.0, 'compound...  \n",
       "1  {'neg': 0.0, 'neu': 1.0, 'pos': 0.0, 'compound...  \n",
       "2  {'neg': 0.0, 'neu': 1.0, 'pos': 0.0, 'compound...  "
      ]
     },
     "execution_count": 7,
     "metadata": {},
     "output_type": "execute_result"
    }
   ],
   "source": [
    "df.head(3)"
   ]
  },
  {
   "cell_type": "markdown",
   "metadata": {
    "slideshow": {
     "slide_type": "slide"
    }
   },
   "source": [
    "### Transform data"
   ]
  },
  {
   "cell_type": "code",
   "execution_count": 8,
   "metadata": {
    "slideshow": {
     "slide_type": "fragment"
    }
   },
   "outputs": [],
   "source": [
    "# Change data structure (we unnest the column polarity and add new columns)\n",
    "\n",
    "df = pd.concat([df.drop(['polarity'], axis=1), df['polarity'].apply(pd.Series)], axis=1)"
   ]
  },
  {
   "cell_type": "code",
   "execution_count": 16,
   "metadata": {
    "slideshow": {
     "slide_type": "subslide"
    }
   },
   "outputs": [
    {
     "data": {
      "text/html": [
       "<div>\n",
       "<style scoped>\n",
       "    .dataframe tbody tr th:only-of-type {\n",
       "        vertical-align: middle;\n",
       "    }\n",
       "\n",
       "    .dataframe tbody tr th {\n",
       "        vertical-align: top;\n",
       "    }\n",
       "\n",
       "    .dataframe thead th {\n",
       "        text-align: right;\n",
       "    }\n",
       "</style>\n",
       "<table border=\"1\" class=\"dataframe\">\n",
       "  <thead>\n",
       "    <tr style=\"text-align: right;\">\n",
       "      <th></th>\n",
       "      <th>created_at</th>\n",
       "      <th>id</th>\n",
       "      <th>author_id</th>\n",
       "      <th>text</th>\n",
       "      <th>text_token</th>\n",
       "      <th>text_token_s</th>\n",
       "      <th>text_si</th>\n",
       "      <th>text_sil</th>\n",
       "      <th>neg</th>\n",
       "      <th>neu</th>\n",
       "      <th>pos</th>\n",
       "      <th>compound</th>\n",
       "      <th>sentiment</th>\n",
       "    </tr>\n",
       "  </thead>\n",
       "  <tbody>\n",
       "    <tr>\n",
       "      <th>0</th>\n",
       "      <td>2021-12-10 07:20:45+00:00</td>\n",
       "      <td>1469205428227784711</td>\n",
       "      <td>44196397</td>\n",
       "      <td>@albi_sidearms maybe i will …</td>\n",
       "      <td>['albi_sidearms', 'maybe']</td>\n",
       "      <td>['albi_sidearms', 'maybe']</td>\n",
       "      <td>albi_sidearms maybe</td>\n",
       "      <td>albi_sidearms maybe</td>\n",
       "      <td>0.0</td>\n",
       "      <td>1.0</td>\n",
       "      <td>0.0</td>\n",
       "      <td>0.0</td>\n",
       "      <td>neutral</td>\n",
       "    </tr>\n",
       "    <tr>\n",
       "      <th>1</th>\n",
       "      <td>2021-12-10 07:19:05+00:00</td>\n",
       "      <td>1469205011687223298</td>\n",
       "      <td>44196397</td>\n",
       "      <td>@jack https://t.co/ueyr6nawap</td>\n",
       "      <td>['jack', 'co', 'ueyr6nawap']</td>\n",
       "      <td>['jack', 'co', 'ueyr6nawap']</td>\n",
       "      <td>jack ueyr6nawap</td>\n",
       "      <td>jack ueyr6nawap</td>\n",
       "      <td>0.0</td>\n",
       "      <td>1.0</td>\n",
       "      <td>0.0</td>\n",
       "      <td>0.0</td>\n",
       "      <td>neutral</td>\n",
       "    </tr>\n",
       "    <tr>\n",
       "      <th>2</th>\n",
       "      <td>2021-12-10 06:44:19+00:00</td>\n",
       "      <td>1469196261953884160</td>\n",
       "      <td>44196397</td>\n",
       "      <td>@sawyermerritt 🤣🤣</td>\n",
       "      <td>['sawyermerritt']</td>\n",
       "      <td>['sawyermerritt']</td>\n",
       "      <td>sawyermerritt</td>\n",
       "      <td>sawyermerritt</td>\n",
       "      <td>0.0</td>\n",
       "      <td>1.0</td>\n",
       "      <td>0.0</td>\n",
       "      <td>0.0</td>\n",
       "      <td>neutral</td>\n",
       "    </tr>\n",
       "    <tr>\n",
       "      <th>3</th>\n",
       "      <td>2021-12-10 04:42:00+00:00</td>\n",
       "      <td>1469165476911755264</td>\n",
       "      <td>44196397</td>\n",
       "      <td>@sawyermerritt tesla china has done amazing work</td>\n",
       "      <td>['sawyermerritt', 'tesla', 'china', 'done', 'a...</td>\n",
       "      <td>['sawyermerritt', 'tesla', 'china', 'done', 'a...</td>\n",
       "      <td>sawyermerritt tesla china done amazing work</td>\n",
       "      <td>sawyermerritt tesla china done amazing work</td>\n",
       "      <td>0.0</td>\n",
       "      <td>1.0</td>\n",
       "      <td>0.0</td>\n",
       "      <td>0.0</td>\n",
       "      <td>neutral</td>\n",
       "    </tr>\n",
       "    <tr>\n",
       "      <th>4</th>\n",
       "      <td>2021-12-10 04:21:25+00:00</td>\n",
       "      <td>1469160298158383109</td>\n",
       "      <td>44196397</td>\n",
       "      <td>@mrbeast 🙏</td>\n",
       "      <td>['mrbeast']</td>\n",
       "      <td>['mrbeast']</td>\n",
       "      <td>mrbeast</td>\n",
       "      <td>mrbeast</td>\n",
       "      <td>0.0</td>\n",
       "      <td>1.0</td>\n",
       "      <td>0.0</td>\n",
       "      <td>0.0</td>\n",
       "      <td>neutral</td>\n",
       "    </tr>\n",
       "  </tbody>\n",
       "</table>\n",
       "</div>"
      ],
      "text/plain": [
       "                 created_at                   id  author_id  \\\n",
       "0 2021-12-10 07:20:45+00:00  1469205428227784711   44196397   \n",
       "1 2021-12-10 07:19:05+00:00  1469205011687223298   44196397   \n",
       "2 2021-12-10 06:44:19+00:00  1469196261953884160   44196397   \n",
       "3 2021-12-10 04:42:00+00:00  1469165476911755264   44196397   \n",
       "4 2021-12-10 04:21:25+00:00  1469160298158383109   44196397   \n",
       "\n",
       "                                               text  \\\n",
       "0                     @albi_sidearms maybe i will …   \n",
       "1                     @jack https://t.co/ueyr6nawap   \n",
       "2                                 @sawyermerritt 🤣🤣   \n",
       "3  @sawyermerritt tesla china has done amazing work   \n",
       "4                                        @mrbeast 🙏   \n",
       "\n",
       "                                          text_token  \\\n",
       "0                         ['albi_sidearms', 'maybe']   \n",
       "1                       ['jack', 'co', 'ueyr6nawap']   \n",
       "2                                  ['sawyermerritt']   \n",
       "3  ['sawyermerritt', 'tesla', 'china', 'done', 'a...   \n",
       "4                                        ['mrbeast']   \n",
       "\n",
       "                                        text_token_s  \\\n",
       "0                         ['albi_sidearms', 'maybe']   \n",
       "1                       ['jack', 'co', 'ueyr6nawap']   \n",
       "2                                  ['sawyermerritt']   \n",
       "3  ['sawyermerritt', 'tesla', 'china', 'done', 'a...   \n",
       "4                                        ['mrbeast']   \n",
       "\n",
       "                                       text_si  \\\n",
       "0                          albi_sidearms maybe   \n",
       "1                              jack ueyr6nawap   \n",
       "2                                sawyermerritt   \n",
       "3  sawyermerritt tesla china done amazing work   \n",
       "4                                      mrbeast   \n",
       "\n",
       "                                      text_sil  neg  neu  pos  compound  \\\n",
       "0                          albi_sidearms maybe  0.0  1.0  0.0       0.0   \n",
       "1                              jack ueyr6nawap  0.0  1.0  0.0       0.0   \n",
       "2                                sawyermerritt  0.0  1.0  0.0       0.0   \n",
       "3  sawyermerritt tesla china done amazing work  0.0  1.0  0.0       0.0   \n",
       "4                                      mrbeast  0.0  1.0  0.0       0.0   \n",
       "\n",
       "  sentiment  \n",
       "0   neutral  \n",
       "1   neutral  \n",
       "2   neutral  \n",
       "3   neutral  \n",
       "4   neutral  "
      ]
     },
     "execution_count": 16,
     "metadata": {},
     "output_type": "execute_result"
    }
   ],
   "source": [
    "df.head()"
   ]
  },
  {
   "cell_type": "markdown",
   "metadata": {
    "slideshow": {
     "slide_type": "slide"
    }
   },
   "source": [
    "Create new variable with sentiment \"neutral,\" \"positive\" and \"negative\".\n",
    "\n",
    "\n",
    "Hint:\n",
    "\n",
    "\n",
    "---\n",
    "\n",
    "```python\n",
    "df['___'] = df['___'].___(___ x: '___' if ___ >___ else '___' if ___ else '___')\n",
    "```\n",
    "\n",
    "---\n",
    "\n",
    "- Name the new variable `sentiment`\n",
    "- Use variable `compound` as basis\n",
    "- apply a lambda function to each row.\n",
    "- The lambda function should write a name in a cell:\n",
    "  - 'positive' `if x>0`\n",
    "  - 'neutral' `if x==0`\n",
    "  - 'negative' for all other cases (`else`)\n"
   ]
  },
  {
   "cell_type": "code",
   "execution_count": null,
   "metadata": {},
   "outputs": [],
   "source": [
    "### BEGIN SOLUTION\n",
    "df['sentiment'] = df['compound'].apply(lambda x: 'positive' if x >0 else 'neutral' if x==0 else 'negative')\n",
    "### END SOLUTION"
   ]
  },
  {
   "cell_type": "code",
   "execution_count": null,
   "metadata": {},
   "outputs": [],
   "source": []
  },
  {
   "cell_type": "code",
   "execution_count": 15,
   "metadata": {
    "slideshow": {
     "slide_type": "subslide"
    }
   },
   "outputs": [
    {
     "data": {
      "text/html": [
       "<div>\n",
       "<style scoped>\n",
       "    .dataframe tbody tr th:only-of-type {\n",
       "        vertical-align: middle;\n",
       "    }\n",
       "\n",
       "    .dataframe tbody tr th {\n",
       "        vertical-align: top;\n",
       "    }\n",
       "\n",
       "    .dataframe thead th {\n",
       "        text-align: right;\n",
       "    }\n",
       "</style>\n",
       "<table border=\"1\" class=\"dataframe\">\n",
       "  <thead>\n",
       "    <tr style=\"text-align: right;\">\n",
       "      <th></th>\n",
       "      <th>created_at</th>\n",
       "      <th>id</th>\n",
       "      <th>author_id</th>\n",
       "      <th>text</th>\n",
       "      <th>text_token</th>\n",
       "      <th>text_token_s</th>\n",
       "      <th>text_si</th>\n",
       "      <th>text_sil</th>\n",
       "      <th>neg</th>\n",
       "      <th>neu</th>\n",
       "      <th>pos</th>\n",
       "      <th>compound</th>\n",
       "      <th>sentiment</th>\n",
       "    </tr>\n",
       "  </thead>\n",
       "  <tbody>\n",
       "    <tr>\n",
       "      <th>0</th>\n",
       "      <td>2021-12-10 07:20:45+00:00</td>\n",
       "      <td>1469205428227784711</td>\n",
       "      <td>44196397</td>\n",
       "      <td>@albi_sidearms maybe i will …</td>\n",
       "      <td>['albi_sidearms', 'maybe']</td>\n",
       "      <td>['albi_sidearms', 'maybe']</td>\n",
       "      <td>albi_sidearms maybe</td>\n",
       "      <td>albi_sidearms maybe</td>\n",
       "      <td>0.0</td>\n",
       "      <td>1.0</td>\n",
       "      <td>0.0</td>\n",
       "      <td>0.0</td>\n",
       "      <td>neutral</td>\n",
       "    </tr>\n",
       "    <tr>\n",
       "      <th>1</th>\n",
       "      <td>2021-12-10 07:19:05+00:00</td>\n",
       "      <td>1469205011687223298</td>\n",
       "      <td>44196397</td>\n",
       "      <td>@jack https://t.co/ueyr6nawap</td>\n",
       "      <td>['jack', 'co', 'ueyr6nawap']</td>\n",
       "      <td>['jack', 'co', 'ueyr6nawap']</td>\n",
       "      <td>jack ueyr6nawap</td>\n",
       "      <td>jack ueyr6nawap</td>\n",
       "      <td>0.0</td>\n",
       "      <td>1.0</td>\n",
       "      <td>0.0</td>\n",
       "      <td>0.0</td>\n",
       "      <td>neutral</td>\n",
       "    </tr>\n",
       "    <tr>\n",
       "      <th>2</th>\n",
       "      <td>2021-12-10 06:44:19+00:00</td>\n",
       "      <td>1469196261953884160</td>\n",
       "      <td>44196397</td>\n",
       "      <td>@sawyermerritt 🤣🤣</td>\n",
       "      <td>['sawyermerritt']</td>\n",
       "      <td>['sawyermerritt']</td>\n",
       "      <td>sawyermerritt</td>\n",
       "      <td>sawyermerritt</td>\n",
       "      <td>0.0</td>\n",
       "      <td>1.0</td>\n",
       "      <td>0.0</td>\n",
       "      <td>0.0</td>\n",
       "      <td>neutral</td>\n",
       "    </tr>\n",
       "    <tr>\n",
       "      <th>3</th>\n",
       "      <td>2021-12-10 04:42:00+00:00</td>\n",
       "      <td>1469165476911755264</td>\n",
       "      <td>44196397</td>\n",
       "      <td>@sawyermerritt tesla china has done amazing work</td>\n",
       "      <td>['sawyermerritt', 'tesla', 'china', 'done', 'a...</td>\n",
       "      <td>['sawyermerritt', 'tesla', 'china', 'done', 'a...</td>\n",
       "      <td>sawyermerritt tesla china done amazing work</td>\n",
       "      <td>sawyermerritt tesla china done amazing work</td>\n",
       "      <td>0.0</td>\n",
       "      <td>1.0</td>\n",
       "      <td>0.0</td>\n",
       "      <td>0.0</td>\n",
       "      <td>neutral</td>\n",
       "    </tr>\n",
       "  </tbody>\n",
       "</table>\n",
       "</div>"
      ],
      "text/plain": [
       "                 created_at                   id  author_id  \\\n",
       "0 2021-12-10 07:20:45+00:00  1469205428227784711   44196397   \n",
       "1 2021-12-10 07:19:05+00:00  1469205011687223298   44196397   \n",
       "2 2021-12-10 06:44:19+00:00  1469196261953884160   44196397   \n",
       "3 2021-12-10 04:42:00+00:00  1469165476911755264   44196397   \n",
       "\n",
       "                                               text  \\\n",
       "0                     @albi_sidearms maybe i will …   \n",
       "1                     @jack https://t.co/ueyr6nawap   \n",
       "2                                 @sawyermerritt 🤣🤣   \n",
       "3  @sawyermerritt tesla china has done amazing work   \n",
       "\n",
       "                                          text_token  \\\n",
       "0                         ['albi_sidearms', 'maybe']   \n",
       "1                       ['jack', 'co', 'ueyr6nawap']   \n",
       "2                                  ['sawyermerritt']   \n",
       "3  ['sawyermerritt', 'tesla', 'china', 'done', 'a...   \n",
       "\n",
       "                                        text_token_s  \\\n",
       "0                         ['albi_sidearms', 'maybe']   \n",
       "1                       ['jack', 'co', 'ueyr6nawap']   \n",
       "2                                  ['sawyermerritt']   \n",
       "3  ['sawyermerritt', 'tesla', 'china', 'done', 'a...   \n",
       "\n",
       "                                       text_si  \\\n",
       "0                          albi_sidearms maybe   \n",
       "1                              jack ueyr6nawap   \n",
       "2                                sawyermerritt   \n",
       "3  sawyermerritt tesla china done amazing work   \n",
       "\n",
       "                                      text_sil  neg  neu  pos  compound  \\\n",
       "0                          albi_sidearms maybe  0.0  1.0  0.0       0.0   \n",
       "1                              jack ueyr6nawap  0.0  1.0  0.0       0.0   \n",
       "2                                sawyermerritt  0.0  1.0  0.0       0.0   \n",
       "3  sawyermerritt tesla china done amazing work  0.0  1.0  0.0       0.0   \n",
       "\n",
       "  sentiment  \n",
       "0   neutral  \n",
       "1   neutral  \n",
       "2   neutral  \n",
       "3   neutral  "
      ]
     },
     "execution_count": 15,
     "metadata": {},
     "output_type": "execute_result"
    }
   ],
   "source": [
    "df.head()"
   ]
  },
  {
   "cell_type": "markdown",
   "metadata": {
    "slideshow": {
     "slide_type": "slide"
    }
   },
   "source": [
    "### Analyze data"
   ]
  },
  {
   "cell_type": "code",
   "execution_count": null,
   "metadata": {
    "slideshow": {
     "slide_type": "fragment"
    }
   },
   "outputs": [],
   "source": [
    "# Tweet with highest positive sentiment\n",
    "df.loc[df['compound'].idxmax()].values"
   ]
  },
  {
   "cell_type": "code",
   "execution_count": null,
   "metadata": {
    "slideshow": {
     "slide_type": "subslide"
    }
   },
   "outputs": [],
   "source": [
    "# Tweet with highest negative sentiment \n",
    "# ...seems to be a case of wrong classification because of the word \"deficit\"\n",
    "df.loc[df['compound'].idxmin()].values"
   ]
  },
  {
   "cell_type": "markdown",
   "metadata": {
    "slideshow": {
     "slide_type": "slide"
    }
   },
   "source": [
    "### Visualize data"
   ]
  },
  {
   "cell_type": "code",
   "execution_count": null,
   "metadata": {},
   "outputs": [],
   "source": [
    "# create data to change colors in Altair plot\n",
    "domain = ['neutral', 'positive', 'negative']\n",
    "range_=['#b2d8d8',\"#008080\", '#db3d13']\n",
    "\n",
    "\n",
    "alt.Chart(df).mark_bar().encode(\n",
    "    x=alt.X('count()', title=None),\n",
    "    y=alt.Y('sentiment', sort=\"-x\"),\n",
    "    color= alt.Color('sentiment', legend=None, scale=alt.Scale(domain=domain, range=range_))\n",
    ").properties(\n",
    "    title=\"Sentiment analysis\",\n",
    "    width=400,\n",
    "    height=150,\n",
    ")"
   ]
  },
  {
   "cell_type": "code",
   "execution_count": null,
   "metadata": {},
   "outputs": [],
   "source": [
    "df.info()"
   ]
  },
  {
   "cell_type": "code",
   "execution_count": null,
   "metadata": {},
   "outputs": [],
   "source": [
    "alt.Chart(df).mark_line().encode(\n",
    "   x=alt.X('created_at:T'),\n",
    "   y=alt.Y('compound'),\n",
    "   color=alt.Color('sentiment', scale=alt.Scale(domain=domain, range=range_))\n",
    ")"
   ]
  },
  {
   "cell_type": "code",
   "execution_count": null,
   "metadata": {},
   "outputs": [],
   "source": [
    "alt.Chart(df).mark_boxplot().encode(\n",
    "    x=alt.X('sentiment'),\n",
    "    y=alt.Y('compound'),\n",
    "    color=alt.Color('sentiment', scale=alt.Scale(domain=domain, range=range_))\n",
    ").properties(\n",
    "    width=200,\n",
    "    height=200\n",
    ")"
   ]
  },
  {
   "cell_type": "markdown",
   "metadata": {
    "slideshow": {
     "slide_type": "notes"
    }
   },
   "source": [
    "Literature:\n",
    "\n",
    "[Hutto, C.J. & Gilbert, E.E. (2014). VADER: A Parsimonious Rule-based Model for\n",
    "Sentiment Analysis of Social Media Text. Eighth International Conference on\n",
    "Weblogs and Social Media (ICWSM-14). Ann Arbor, MI, June 2014.](https://ojs.aaai.org/index.php/ICWSM/article/view/14550)"
   ]
  }
 ],
 "metadata": {
  "celltoolbar": "Create Assignment",
  "kernelspec": {
   "display_name": "Python 3 (ipykernel)",
   "language": "python",
   "name": "python3"
  },
  "language_info": {
   "codemirror_mode": {
    "name": "ipython",
    "version": 3
   },
   "file_extension": ".py",
   "mimetype": "text/x-python",
   "name": "python",
   "nbconvert_exporter": "python",
   "pygments_lexer": "ipython3",
   "version": "3.9.13"
  },
  "varInspector": {
   "cols": {
    "lenName": 16,
    "lenType": 16,
    "lenVar": 40
   },
   "kernels_config": {
    "python": {
     "delete_cmd_postfix": "",
     "delete_cmd_prefix": "del ",
     "library": "var_list.py",
     "varRefreshCmd": "print(var_dic_list())"
    },
    "r": {
     "delete_cmd_postfix": ") ",
     "delete_cmd_prefix": "rm(",
     "library": "var_list.r",
     "varRefreshCmd": "cat(var_dic_list()) "
    }
   },
   "types_to_exclude": [
    "module",
    "function",
    "builtin_function_or_method",
    "instance",
    "_Feature"
   ],
   "window_display": false
  },
  "vscode": {
   "interpreter": {
    "hash": "147de23312147813b0623f895fe208f672aacb131d01c672b840a7a22f97849e"
   }
  }
 },
 "nbformat": 4,
 "nbformat_minor": 2
}
