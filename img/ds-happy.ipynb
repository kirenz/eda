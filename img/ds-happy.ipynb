{
 "cells": [
  {
   "cell_type": "markdown",
   "metadata": {},
   "source": [
    "# GDP and Happiness plots\n",
    "\n",
    "Does money make people happier?"
   ]
  },
  {
   "cell_type": "markdown",
   "metadata": {},
   "source": [
    "## Setup"
   ]
  },
  {
   "cell_type": "code",
   "execution_count": 6,
   "metadata": {},
   "outputs": [],
   "source": [
    "import pandas as pd\n",
    "import numpy as np\n",
    "%matplotlib inline\n",
    "import altair as alt\n",
    "from sklearn.model_selection import train_test_split"
   ]
  },
  {
   "cell_type": "markdown",
   "metadata": {},
   "source": [
    "## Data"
   ]
  },
  {
   "cell_type": "markdown",
   "metadata": {},
   "source": [
    "### Import data"
   ]
  },
  {
   "cell_type": "code",
   "execution_count": 1,
   "metadata": {},
   "outputs": [],
   "source": [
    "# Load the data from GitHub\n",
    "LINK = \"https://raw.githubusercontent.com/kirenz/datasets/master/oecd_gdp.csv\"\n",
    "df = pd.read_csv(LINK)"
   ]
  },
  {
   "cell_type": "markdown",
   "metadata": {},
   "source": [
    "### Data corrections"
   ]
  },
  {
   "cell_type": "code",
   "execution_count": 2,
   "metadata": {},
   "outputs": [
    {
     "data": {
      "text/html": [
       "<div>\n",
       "<style scoped>\n",
       "    .dataframe tbody tr th:only-of-type {\n",
       "        vertical-align: middle;\n",
       "    }\n",
       "\n",
       "    .dataframe tbody tr th {\n",
       "        vertical-align: top;\n",
       "    }\n",
       "\n",
       "    .dataframe thead th {\n",
       "        text-align: right;\n",
       "    }\n",
       "</style>\n",
       "<table border=\"1\" class=\"dataframe\">\n",
       "  <thead>\n",
       "    <tr style=\"text-align: right;\">\n",
       "      <th></th>\n",
       "      <th>country</th>\n",
       "      <th>gdp_per_capita</th>\n",
       "      <th>life_satisfaction</th>\n",
       "    </tr>\n",
       "  </thead>\n",
       "  <tbody>\n",
       "    <tr>\n",
       "      <th>0</th>\n",
       "      <td>Russia</td>\n",
       "      <td>9054.914</td>\n",
       "      <td>6.0</td>\n",
       "    </tr>\n",
       "    <tr>\n",
       "      <th>1</th>\n",
       "      <td>Turkey</td>\n",
       "      <td>9437.372</td>\n",
       "      <td>5.6</td>\n",
       "    </tr>\n",
       "    <tr>\n",
       "      <th>2</th>\n",
       "      <td>Hungary</td>\n",
       "      <td>12239.894</td>\n",
       "      <td>4.9</td>\n",
       "    </tr>\n",
       "    <tr>\n",
       "      <th>3</th>\n",
       "      <td>Poland</td>\n",
       "      <td>12495.334</td>\n",
       "      <td>5.8</td>\n",
       "    </tr>\n",
       "    <tr>\n",
       "      <th>4</th>\n",
       "      <td>Slovak Republic</td>\n",
       "      <td>15991.736</td>\n",
       "      <td>6.1</td>\n",
       "    </tr>\n",
       "  </tbody>\n",
       "</table>\n",
       "</div>"
      ],
      "text/plain": [
       "           country  gdp_per_capita  life_satisfaction\n",
       "0           Russia        9054.914                6.0\n",
       "1           Turkey        9437.372                5.6\n",
       "2          Hungary       12239.894                4.9\n",
       "3           Poland       12495.334                5.8\n",
       "4  Slovak Republic       15991.736                6.1"
      ]
     },
     "execution_count": 2,
     "metadata": {},
     "output_type": "execute_result"
    }
   ],
   "source": [
    "# Change column names (lower case and spaces to underscore)\n",
    "df.columns = df.columns.str.lower().str.replace(' ', '_')\n"
   ]
  },
  {
   "cell_type": "code",
   "execution_count": 8,
   "metadata": {},
   "outputs": [
    {
     "name": "stdout",
     "output_type": "stream",
     "text": [
      "<class 'pandas.core.frame.DataFrame'>\n",
      "RangeIndex: 29 entries, 0 to 28\n",
      "Data columns (total 3 columns):\n",
      " #   Column             Non-Null Count  Dtype  \n",
      "---  ------             --------------  -----  \n",
      " 0   country            29 non-null     object \n",
      " 1   gdp_per_capita     29 non-null     float64\n",
      " 2   life_satisfaction  29 non-null     float64\n",
      "dtypes: float64(2), object(1)\n",
      "memory usage: 824.0+ bytes\n"
     ]
    }
   ],
   "source": [
    "\n",
    "df.info()"
   ]
  },
  {
   "cell_type": "code",
   "execution_count": null,
   "metadata": {},
   "outputs": [],
   "source": [
    "X_train, X_test, y_train, y_test = train_test_split(df.drop('gdp', axis=1), df['gdp'], test_size=0.2, random_state=42)"
   ]
  },
  {
   "cell_type": "code",
   "execution_count": 37,
   "metadata": {},
   "outputs": [],
   "source": [
    "df['Data'] = np.random.randint(0, 2, size=29)\n",
    "df.replace({'Data': {0: \"Train\", 1: 'Test'}}, inplace=True)"
   ]
  },
  {
   "cell_type": "code",
   "execution_count": 38,
   "metadata": {},
   "outputs": [
    {
     "data": {
      "text/html": [
       "<div>\n",
       "<style scoped>\n",
       "    .dataframe tbody tr th:only-of-type {\n",
       "        vertical-align: middle;\n",
       "    }\n",
       "\n",
       "    .dataframe tbody tr th {\n",
       "        vertical-align: top;\n",
       "    }\n",
       "\n",
       "    .dataframe thead th {\n",
       "        text-align: right;\n",
       "    }\n",
       "</style>\n",
       "<table border=\"1\" class=\"dataframe\">\n",
       "  <thead>\n",
       "    <tr style=\"text-align: right;\">\n",
       "      <th></th>\n",
       "      <th>country</th>\n",
       "      <th>gdp_per_capita</th>\n",
       "      <th>life_satisfaction</th>\n",
       "      <th>class</th>\n",
       "      <th>data</th>\n",
       "      <th>Data</th>\n",
       "    </tr>\n",
       "  </thead>\n",
       "  <tbody>\n",
       "    <tr>\n",
       "      <th>0</th>\n",
       "      <td>Russia</td>\n",
       "      <td>9054.914</td>\n",
       "      <td>6.0</td>\n",
       "      <td>train</td>\n",
       "      <td>test</td>\n",
       "      <td>Test</td>\n",
       "    </tr>\n",
       "    <tr>\n",
       "      <th>1</th>\n",
       "      <td>Turkey</td>\n",
       "      <td>9437.372</td>\n",
       "      <td>5.6</td>\n",
       "      <td>train</td>\n",
       "      <td>test</td>\n",
       "      <td>Test</td>\n",
       "    </tr>\n",
       "    <tr>\n",
       "      <th>2</th>\n",
       "      <td>Hungary</td>\n",
       "      <td>12239.894</td>\n",
       "      <td>4.9</td>\n",
       "      <td>test</td>\n",
       "      <td>test</td>\n",
       "      <td>Train</td>\n",
       "    </tr>\n",
       "    <tr>\n",
       "      <th>3</th>\n",
       "      <td>Poland</td>\n",
       "      <td>12495.334</td>\n",
       "      <td>5.8</td>\n",
       "      <td>test</td>\n",
       "      <td>test</td>\n",
       "      <td>Train</td>\n",
       "    </tr>\n",
       "    <tr>\n",
       "      <th>4</th>\n",
       "      <td>Slovak Republic</td>\n",
       "      <td>15991.736</td>\n",
       "      <td>6.1</td>\n",
       "      <td>train</td>\n",
       "      <td>test</td>\n",
       "      <td>Train</td>\n",
       "    </tr>\n",
       "  </tbody>\n",
       "</table>\n",
       "</div>"
      ],
      "text/plain": [
       "           country  gdp_per_capita  life_satisfaction  class  data   Data\n",
       "0           Russia        9054.914                6.0  train  test   Test\n",
       "1           Turkey        9437.372                5.6  train  test   Test\n",
       "2          Hungary       12239.894                4.9   test  test  Train\n",
       "3           Poland       12495.334                5.8   test  test  Train\n",
       "4  Slovak Republic       15991.736                6.1  train  test  Train"
      ]
     },
     "execution_count": 38,
     "metadata": {},
     "output_type": "execute_result"
    }
   ],
   "source": [
    "df.head()"
   ]
  },
  {
   "cell_type": "markdown",
   "metadata": {},
   "source": [
    "### Variable lists\n",
    "\n",
    "Prepare the data for later use"
   ]
  },
  {
   "cell_type": "code",
   "execution_count": 39,
   "metadata": {},
   "outputs": [],
   "source": [
    "# define outcome variable as y_label\n",
    "y_label = 'life_satisfaction'\n",
    "\n",
    "# select features\n",
    "X = df[[\"gdp_per_capita\"]]\n",
    "\n",
    "# create response\n",
    "y = df[y_label]"
   ]
  },
  {
   "cell_type": "markdown",
   "metadata": {},
   "source": [
    "### Data exploration"
   ]
  },
  {
   "cell_type": "code",
   "execution_count": 56,
   "metadata": {},
   "outputs": [
    {
     "data": {
      "text/html": [
       "\n",
       "<div id=\"altair-viz-6e82241d15c54e9aa8b0b9c7bfa07447\"></div>\n",
       "<script type=\"text/javascript\">\n",
       "  var VEGA_DEBUG = (typeof VEGA_DEBUG == \"undefined\") ? {} : VEGA_DEBUG;\n",
       "  (function(spec, embedOpt){\n",
       "    let outputDiv = document.currentScript.previousElementSibling;\n",
       "    if (outputDiv.id !== \"altair-viz-6e82241d15c54e9aa8b0b9c7bfa07447\") {\n",
       "      outputDiv = document.getElementById(\"altair-viz-6e82241d15c54e9aa8b0b9c7bfa07447\");\n",
       "    }\n",
       "    const paths = {\n",
       "      \"vega\": \"https://cdn.jsdelivr.net/npm//vega@5?noext\",\n",
       "      \"vega-lib\": \"https://cdn.jsdelivr.net/npm//vega-lib?noext\",\n",
       "      \"vega-lite\": \"https://cdn.jsdelivr.net/npm//vega-lite@4.17.0?noext\",\n",
       "      \"vega-embed\": \"https://cdn.jsdelivr.net/npm//vega-embed@6?noext\",\n",
       "    };\n",
       "\n",
       "    function maybeLoadScript(lib, version) {\n",
       "      var key = `${lib.replace(\"-\", \"\")}_version`;\n",
       "      return (VEGA_DEBUG[key] == version) ?\n",
       "        Promise.resolve(paths[lib]) :\n",
       "        new Promise(function(resolve, reject) {\n",
       "          var s = document.createElement('script');\n",
       "          document.getElementsByTagName(\"head\")[0].appendChild(s);\n",
       "          s.async = true;\n",
       "          s.onload = () => {\n",
       "            VEGA_DEBUG[key] = version;\n",
       "            return resolve(paths[lib]);\n",
       "          };\n",
       "          s.onerror = () => reject(`Error loading script: ${paths[lib]}`);\n",
       "          s.src = paths[lib];\n",
       "        });\n",
       "    }\n",
       "\n",
       "    function showError(err) {\n",
       "      outputDiv.innerHTML = `<div class=\"error\" style=\"color:red;\">${err}</div>`;\n",
       "      throw err;\n",
       "    }\n",
       "\n",
       "    function displayChart(vegaEmbed) {\n",
       "      vegaEmbed(outputDiv, spec, embedOpt)\n",
       "        .catch(err => showError(`Javascript Error: ${err.message}<br>This usually means there's a typo in your chart specification. See the javascript console for the full traceback.`));\n",
       "    }\n",
       "\n",
       "    if(typeof define === \"function\" && define.amd) {\n",
       "      requirejs.config({paths});\n",
       "      require([\"vega-embed\"], displayChart, err => showError(`Error loading script: ${err.message}`));\n",
       "    } else {\n",
       "      maybeLoadScript(\"vega\", \"5\")\n",
       "        .then(() => maybeLoadScript(\"vega-lite\", \"4.17.0\"))\n",
       "        .then(() => maybeLoadScript(\"vega-embed\", \"6\"))\n",
       "        .catch(showError)\n",
       "        .then(() => displayChart(vegaEmbed));\n",
       "    }\n",
       "  })({\"config\": {\"view\": {\"continuousWidth\": 400, \"continuousHeight\": 300}}, \"data\": {\"name\": \"data-84d1eeb26604f73b3bfb37a0a486c169\"}, \"mark\": {\"type\": \"circle\", \"size\": 100}, \"encoding\": {\"tooltip\": [{\"field\": \"country\", \"type\": \"nominal\"}, {\"field\": \"gdp_per_capita\", \"type\": \"quantitative\"}, {\"field\": \"life_satisfaction\", \"type\": \"quantitative\"}], \"x\": {\"axis\": {\"title\": \"GDP per capita\"}, \"field\": \"gdp_per_capita\", \"type\": \"quantitative\"}, \"y\": {\"axis\": {\"title\": \"Life satisfaction\"}, \"field\": \"life_satisfaction\", \"scale\": {\"domain\": [0, 10]}, \"type\": \"quantitative\"}}, \"selection\": {\"selector006\": {\"type\": \"interval\", \"bind\": \"scales\", \"encodings\": [\"x\", \"y\"]}}, \"$schema\": \"https://vega.github.io/schema/vega-lite/v4.17.0.json\", \"datasets\": {\"data-84d1eeb26604f73b3bfb37a0a486c169\": [{\"country\": \"Russia\", \"gdp_per_capita\": 9054.914, \"life_satisfaction\": 6.0, \"class\": \"train\", \"data\": \"test\", \"Data\": \"Test\"}, {\"country\": \"Turkey\", \"gdp_per_capita\": 9437.372, \"life_satisfaction\": 5.6, \"class\": \"train\", \"data\": \"test\", \"Data\": \"Test\"}, {\"country\": \"Hungary\", \"gdp_per_capita\": 12239.893999999998, \"life_satisfaction\": 4.9, \"class\": \"test\", \"data\": \"test\", \"Data\": \"Train\"}, {\"country\": \"Poland\", \"gdp_per_capita\": 12495.334, \"life_satisfaction\": 5.8, \"class\": \"test\", \"data\": \"test\", \"Data\": \"Train\"}, {\"country\": \"Slovak Republic\", \"gdp_per_capita\": 15991.736, \"life_satisfaction\": 6.1, \"class\": \"train\", \"data\": \"test\", \"Data\": \"Train\"}, {\"country\": \"Estonia\", \"gdp_per_capita\": 17288.083, \"life_satisfaction\": 5.6, \"class\": \"train\", \"data\": \"test\", \"Data\": \"Test\"}, {\"country\": \"Greece\", \"gdp_per_capita\": 18064.288, \"life_satisfaction\": 4.8, \"class\": \"test\", \"data\": \"test\", \"Data\": \"Test\"}, {\"country\": \"Portugal\", \"gdp_per_capita\": 19121.592, \"life_satisfaction\": 5.1, \"class\": \"train\", \"data\": \"test\", \"Data\": \"Train\"}, {\"country\": \"Slovenia\", \"gdp_per_capita\": 20732.482, \"life_satisfaction\": 5.7, \"class\": \"test\", \"data\": \"train\", \"Data\": \"Test\"}, {\"country\": \"Spain\", \"gdp_per_capita\": 25864.721, \"life_satisfaction\": 6.5, \"class\": \"train\", \"data\": \"test\", \"Data\": \"Test\"}, {\"country\": \"Korea\", \"gdp_per_capita\": 27195.197, \"life_satisfaction\": 5.8, \"class\": \"test\", \"data\": \"test\", \"Data\": \"Test\"}, {\"country\": \"Italy\", \"gdp_per_capita\": 29866.581, \"life_satisfaction\": 6.0, \"class\": \"train\", \"data\": \"train\", \"Data\": \"Train\"}, {\"country\": \"Japan\", \"gdp_per_capita\": 32485.545, \"life_satisfaction\": 5.9, \"class\": \"train\", \"data\": \"test\", \"Data\": \"Test\"}, {\"country\": \"Israel\", \"gdp_per_capita\": 35343.336, \"life_satisfaction\": 7.4, \"class\": \"test\", \"data\": \"test\", \"Data\": \"Train\"}, {\"country\": \"New Zealand\", \"gdp_per_capita\": 37044.891, \"life_satisfaction\": 7.3, \"class\": \"train\", \"data\": \"train\", \"Data\": \"Test\"}, {\"country\": \"France\", \"gdp_per_capita\": 37675.006, \"life_satisfaction\": 6.5, \"class\": \"train\", \"data\": \"test\", \"Data\": \"Test\"}, {\"country\": \"Belgium\", \"gdp_per_capita\": 40106.632000000005, \"life_satisfaction\": 6.9, \"class\": \"test\", \"data\": \"test\", \"Data\": \"Test\"}, {\"country\": \"Germany\", \"gdp_per_capita\": 40996.511, \"life_satisfaction\": 7.0, \"class\": \"test\", \"data\": \"test\", \"Data\": \"Test\"}, {\"country\": \"Finland\", \"gdp_per_capita\": 41973.988, \"life_satisfaction\": 7.4, \"class\": \"train\", \"data\": \"train\", \"Data\": \"Train\"}, {\"country\": \"Canada\", \"gdp_per_capita\": 43331.961, \"life_satisfaction\": 7.3, \"class\": \"train\", \"data\": \"test\", \"Data\": \"Test\"}, {\"country\": \"Netherlands\", \"gdp_per_capita\": 43603.115, \"life_satisfaction\": 7.3, \"class\": \"train\", \"data\": \"test\", \"Data\": \"Test\"}, {\"country\": \"Austria\", \"gdp_per_capita\": 43724.031, \"life_satisfaction\": 6.9, \"class\": \"test\", \"data\": \"test\", \"Data\": \"Test\"}, {\"country\": \"United Kingdom\", \"gdp_per_capita\": 43770.688, \"life_satisfaction\": 6.8, \"class\": \"train\", \"data\": \"train\", \"Data\": \"Test\"}, {\"country\": \"Sweden\", \"gdp_per_capita\": 49866.266, \"life_satisfaction\": 7.2, \"class\": \"test\", \"data\": \"test\", \"Data\": \"Train\"}, {\"country\": \"Iceland\", \"gdp_per_capita\": 50854.583, \"life_satisfaction\": 7.5, \"class\": \"train\", \"data\": \"train\", \"Data\": \"Test\"}, {\"country\": \"Australia\", \"gdp_per_capita\": 50961.865, \"life_satisfaction\": 7.3, \"class\": \"train\", \"data\": \"train\", \"Data\": \"Train\"}, {\"country\": \"Ireland\", \"gdp_per_capita\": 51350.744000000006, \"life_satisfaction\": 7.0, \"class\": \"test\", \"data\": \"train\", \"Data\": \"Test\"}, {\"country\": \"Denmark\", \"gdp_per_capita\": 52114.165, \"life_satisfaction\": 7.5, \"class\": \"test\", \"data\": \"train\", \"Data\": \"Train\"}, {\"country\": \"United States\", \"gdp_per_capita\": 55805.204000000005, \"life_satisfaction\": 7.2, \"class\": \"test\", \"data\": \"test\", \"Data\": \"Test\"}]}}, {\"mode\": \"vega-lite\"});\n",
       "</script>"
      ],
      "text/plain": [
       "alt.Chart(...)"
      ]
     },
     "execution_count": 56,
     "metadata": {},
     "output_type": "execute_result"
    }
   ],
   "source": [
    "# Visualize the data\n",
    "chart = alt.Chart(df).mark_circle(size=100).encode(\n",
    "    alt.X('gdp_per_capita:Q', axis=alt.Axis(title='GDP per capita')),\n",
    "    alt.Y('life_satisfaction:Q', axis=alt.Axis(title='Life satisfaction'), scale=alt.Scale(domain=[0, 10])),\n",
    "    tooltip=['country', 'gdp_per_capita', 'life_satisfaction']\n",
    ").interactive()\n",
    "\n",
    "chart"
   ]
  },
  {
   "cell_type": "code",
   "execution_count": 57,
   "metadata": {},
   "outputs": [
    {
     "data": {
      "text/html": [
       "\n",
       "<div id=\"altair-viz-7f520be0ccb141a49f74e71473b7effb\"></div>\n",
       "<script type=\"text/javascript\">\n",
       "  var VEGA_DEBUG = (typeof VEGA_DEBUG == \"undefined\") ? {} : VEGA_DEBUG;\n",
       "  (function(spec, embedOpt){\n",
       "    let outputDiv = document.currentScript.previousElementSibling;\n",
       "    if (outputDiv.id !== \"altair-viz-7f520be0ccb141a49f74e71473b7effb\") {\n",
       "      outputDiv = document.getElementById(\"altair-viz-7f520be0ccb141a49f74e71473b7effb\");\n",
       "    }\n",
       "    const paths = {\n",
       "      \"vega\": \"https://cdn.jsdelivr.net/npm//vega@5?noext\",\n",
       "      \"vega-lib\": \"https://cdn.jsdelivr.net/npm//vega-lib?noext\",\n",
       "      \"vega-lite\": \"https://cdn.jsdelivr.net/npm//vega-lite@4.17.0?noext\",\n",
       "      \"vega-embed\": \"https://cdn.jsdelivr.net/npm//vega-embed@6?noext\",\n",
       "    };\n",
       "\n",
       "    function maybeLoadScript(lib, version) {\n",
       "      var key = `${lib.replace(\"-\", \"\")}_version`;\n",
       "      return (VEGA_DEBUG[key] == version) ?\n",
       "        Promise.resolve(paths[lib]) :\n",
       "        new Promise(function(resolve, reject) {\n",
       "          var s = document.createElement('script');\n",
       "          document.getElementsByTagName(\"head\")[0].appendChild(s);\n",
       "          s.async = true;\n",
       "          s.onload = () => {\n",
       "            VEGA_DEBUG[key] = version;\n",
       "            return resolve(paths[lib]);\n",
       "          };\n",
       "          s.onerror = () => reject(`Error loading script: ${paths[lib]}`);\n",
       "          s.src = paths[lib];\n",
       "        });\n",
       "    }\n",
       "\n",
       "    function showError(err) {\n",
       "      outputDiv.innerHTML = `<div class=\"error\" style=\"color:red;\">${err}</div>`;\n",
       "      throw err;\n",
       "    }\n",
       "\n",
       "    function displayChart(vegaEmbed) {\n",
       "      vegaEmbed(outputDiv, spec, embedOpt)\n",
       "        .catch(err => showError(`Javascript Error: ${err.message}<br>This usually means there's a typo in your chart specification. See the javascript console for the full traceback.`));\n",
       "    }\n",
       "\n",
       "    if(typeof define === \"function\" && define.amd) {\n",
       "      requirejs.config({paths});\n",
       "      require([\"vega-embed\"], displayChart, err => showError(`Error loading script: ${err.message}`));\n",
       "    } else {\n",
       "      maybeLoadScript(\"vega\", \"5\")\n",
       "        .then(() => maybeLoadScript(\"vega-lite\", \"4.17.0\"))\n",
       "        .then(() => maybeLoadScript(\"vega-embed\", \"6\"))\n",
       "        .catch(showError)\n",
       "        .then(() => displayChart(vegaEmbed));\n",
       "    }\n",
       "  })({\"config\": {\"view\": {\"continuousWidth\": 400, \"continuousHeight\": 300}}, \"layer\": [{\"mark\": {\"type\": \"circle\", \"size\": 100}, \"encoding\": {\"tooltip\": [{\"field\": \"country\", \"type\": \"nominal\"}, {\"field\": \"gdp_per_capita\", \"type\": \"quantitative\"}, {\"field\": \"life_satisfaction\", \"type\": \"quantitative\"}], \"x\": {\"axis\": {\"title\": \"GDP per capita\"}, \"field\": \"gdp_per_capita\", \"type\": \"quantitative\"}, \"y\": {\"axis\": {\"title\": \"Life satisfaction\"}, \"field\": \"life_satisfaction\", \"scale\": {\"domain\": [0, 10]}, \"type\": \"quantitative\"}}, \"selection\": {\"selector006\": {\"type\": \"interval\", \"bind\": \"scales\", \"encodings\": [\"x\", \"y\"]}}}, {\"mark\": {\"type\": \"text\", \"align\": \"left\", \"baseline\": \"middle\", \"dx\": 7}, \"encoding\": {\"text\": {\"field\": \"country\", \"type\": \"nominal\"}, \"tooltip\": [{\"field\": \"country\", \"type\": \"nominal\"}, {\"field\": \"gdp_per_capita\", \"type\": \"quantitative\"}, {\"field\": \"life_satisfaction\", \"type\": \"quantitative\"}], \"x\": {\"axis\": {\"title\": \"GDP per capita\"}, \"field\": \"gdp_per_capita\", \"type\": \"quantitative\"}, \"y\": {\"axis\": {\"title\": \"Life satisfaction\"}, \"field\": \"life_satisfaction\", \"scale\": {\"domain\": [0, 10]}, \"type\": \"quantitative\"}}}], \"data\": {\"name\": \"data-84d1eeb26604f73b3bfb37a0a486c169\"}, \"$schema\": \"https://vega.github.io/schema/vega-lite/v4.17.0.json\", \"datasets\": {\"data-84d1eeb26604f73b3bfb37a0a486c169\": [{\"country\": \"Russia\", \"gdp_per_capita\": 9054.914, \"life_satisfaction\": 6.0, \"class\": \"train\", \"data\": \"test\", \"Data\": \"Test\"}, {\"country\": \"Turkey\", \"gdp_per_capita\": 9437.372, \"life_satisfaction\": 5.6, \"class\": \"train\", \"data\": \"test\", \"Data\": \"Test\"}, {\"country\": \"Hungary\", \"gdp_per_capita\": 12239.893999999998, \"life_satisfaction\": 4.9, \"class\": \"test\", \"data\": \"test\", \"Data\": \"Train\"}, {\"country\": \"Poland\", \"gdp_per_capita\": 12495.334, \"life_satisfaction\": 5.8, \"class\": \"test\", \"data\": \"test\", \"Data\": \"Train\"}, {\"country\": \"Slovak Republic\", \"gdp_per_capita\": 15991.736, \"life_satisfaction\": 6.1, \"class\": \"train\", \"data\": \"test\", \"Data\": \"Train\"}, {\"country\": \"Estonia\", \"gdp_per_capita\": 17288.083, \"life_satisfaction\": 5.6, \"class\": \"train\", \"data\": \"test\", \"Data\": \"Test\"}, {\"country\": \"Greece\", \"gdp_per_capita\": 18064.288, \"life_satisfaction\": 4.8, \"class\": \"test\", \"data\": \"test\", \"Data\": \"Test\"}, {\"country\": \"Portugal\", \"gdp_per_capita\": 19121.592, \"life_satisfaction\": 5.1, \"class\": \"train\", \"data\": \"test\", \"Data\": \"Train\"}, {\"country\": \"Slovenia\", \"gdp_per_capita\": 20732.482, \"life_satisfaction\": 5.7, \"class\": \"test\", \"data\": \"train\", \"Data\": \"Test\"}, {\"country\": \"Spain\", \"gdp_per_capita\": 25864.721, \"life_satisfaction\": 6.5, \"class\": \"train\", \"data\": \"test\", \"Data\": \"Test\"}, {\"country\": \"Korea\", \"gdp_per_capita\": 27195.197, \"life_satisfaction\": 5.8, \"class\": \"test\", \"data\": \"test\", \"Data\": \"Test\"}, {\"country\": \"Italy\", \"gdp_per_capita\": 29866.581, \"life_satisfaction\": 6.0, \"class\": \"train\", \"data\": \"train\", \"Data\": \"Train\"}, {\"country\": \"Japan\", \"gdp_per_capita\": 32485.545, \"life_satisfaction\": 5.9, \"class\": \"train\", \"data\": \"test\", \"Data\": \"Test\"}, {\"country\": \"Israel\", \"gdp_per_capita\": 35343.336, \"life_satisfaction\": 7.4, \"class\": \"test\", \"data\": \"test\", \"Data\": \"Train\"}, {\"country\": \"New Zealand\", \"gdp_per_capita\": 37044.891, \"life_satisfaction\": 7.3, \"class\": \"train\", \"data\": \"train\", \"Data\": \"Test\"}, {\"country\": \"France\", \"gdp_per_capita\": 37675.006, \"life_satisfaction\": 6.5, \"class\": \"train\", \"data\": \"test\", \"Data\": \"Test\"}, {\"country\": \"Belgium\", \"gdp_per_capita\": 40106.632000000005, \"life_satisfaction\": 6.9, \"class\": \"test\", \"data\": \"test\", \"Data\": \"Test\"}, {\"country\": \"Germany\", \"gdp_per_capita\": 40996.511, \"life_satisfaction\": 7.0, \"class\": \"test\", \"data\": \"test\", \"Data\": \"Test\"}, {\"country\": \"Finland\", \"gdp_per_capita\": 41973.988, \"life_satisfaction\": 7.4, \"class\": \"train\", \"data\": \"train\", \"Data\": \"Train\"}, {\"country\": \"Canada\", \"gdp_per_capita\": 43331.961, \"life_satisfaction\": 7.3, \"class\": \"train\", \"data\": \"test\", \"Data\": \"Test\"}, {\"country\": \"Netherlands\", \"gdp_per_capita\": 43603.115, \"life_satisfaction\": 7.3, \"class\": \"train\", \"data\": \"test\", \"Data\": \"Test\"}, {\"country\": \"Austria\", \"gdp_per_capita\": 43724.031, \"life_satisfaction\": 6.9, \"class\": \"test\", \"data\": \"test\", \"Data\": \"Test\"}, {\"country\": \"United Kingdom\", \"gdp_per_capita\": 43770.688, \"life_satisfaction\": 6.8, \"class\": \"train\", \"data\": \"train\", \"Data\": \"Test\"}, {\"country\": \"Sweden\", \"gdp_per_capita\": 49866.266, \"life_satisfaction\": 7.2, \"class\": \"test\", \"data\": \"test\", \"Data\": \"Train\"}, {\"country\": \"Iceland\", \"gdp_per_capita\": 50854.583, \"life_satisfaction\": 7.5, \"class\": \"train\", \"data\": \"train\", \"Data\": \"Test\"}, {\"country\": \"Australia\", \"gdp_per_capita\": 50961.865, \"life_satisfaction\": 7.3, \"class\": \"train\", \"data\": \"train\", \"Data\": \"Train\"}, {\"country\": \"Ireland\", \"gdp_per_capita\": 51350.744000000006, \"life_satisfaction\": 7.0, \"class\": \"test\", \"data\": \"train\", \"Data\": \"Test\"}, {\"country\": \"Denmark\", \"gdp_per_capita\": 52114.165, \"life_satisfaction\": 7.5, \"class\": \"test\", \"data\": \"train\", \"Data\": \"Train\"}, {\"country\": \"United States\", \"gdp_per_capita\": 55805.204000000005, \"life_satisfaction\": 7.2, \"class\": \"test\", \"data\": \"test\", \"Data\": \"Test\"}]}}, {\"mode\": \"vega-lite\"});\n",
       "</script>"
      ],
      "text/plain": [
       "alt.LayerChart(...)"
      ]
     },
     "execution_count": 57,
     "metadata": {},
     "output_type": "execute_result"
    }
   ],
   "source": [
    "# Visualize the data\n",
    "text = points.mark_text(\n",
    "    align='left',\n",
    "    baseline='middle',\n",
    "    dx=7\n",
    ").encode(\n",
    "    text='country'\n",
    ")\n",
    "\n",
    "chart + text"
   ]
  },
  {
   "cell_type": "code",
   "execution_count": 71,
   "metadata": {},
   "outputs": [
    {
     "data": {
      "text/html": [
       "\n",
       "<div id=\"altair-viz-155c1c3906ef4de48b52dbb9c6c2f223\"></div>\n",
       "<script type=\"text/javascript\">\n",
       "  var VEGA_DEBUG = (typeof VEGA_DEBUG == \"undefined\") ? {} : VEGA_DEBUG;\n",
       "  (function(spec, embedOpt){\n",
       "    let outputDiv = document.currentScript.previousElementSibling;\n",
       "    if (outputDiv.id !== \"altair-viz-155c1c3906ef4de48b52dbb9c6c2f223\") {\n",
       "      outputDiv = document.getElementById(\"altair-viz-155c1c3906ef4de48b52dbb9c6c2f223\");\n",
       "    }\n",
       "    const paths = {\n",
       "      \"vega\": \"https://cdn.jsdelivr.net/npm//vega@5?noext\",\n",
       "      \"vega-lib\": \"https://cdn.jsdelivr.net/npm//vega-lib?noext\",\n",
       "      \"vega-lite\": \"https://cdn.jsdelivr.net/npm//vega-lite@4.17.0?noext\",\n",
       "      \"vega-embed\": \"https://cdn.jsdelivr.net/npm//vega-embed@6?noext\",\n",
       "    };\n",
       "\n",
       "    function maybeLoadScript(lib, version) {\n",
       "      var key = `${lib.replace(\"-\", \"\")}_version`;\n",
       "      return (VEGA_DEBUG[key] == version) ?\n",
       "        Promise.resolve(paths[lib]) :\n",
       "        new Promise(function(resolve, reject) {\n",
       "          var s = document.createElement('script');\n",
       "          document.getElementsByTagName(\"head\")[0].appendChild(s);\n",
       "          s.async = true;\n",
       "          s.onload = () => {\n",
       "            VEGA_DEBUG[key] = version;\n",
       "            return resolve(paths[lib]);\n",
       "          };\n",
       "          s.onerror = () => reject(`Error loading script: ${paths[lib]}`);\n",
       "          s.src = paths[lib];\n",
       "        });\n",
       "    }\n",
       "\n",
       "    function showError(err) {\n",
       "      outputDiv.innerHTML = `<div class=\"error\" style=\"color:red;\">${err}</div>`;\n",
       "      throw err;\n",
       "    }\n",
       "\n",
       "    function displayChart(vegaEmbed) {\n",
       "      vegaEmbed(outputDiv, spec, embedOpt)\n",
       "        .catch(err => showError(`Javascript Error: ${err.message}<br>This usually means there's a typo in your chart specification. See the javascript console for the full traceback.`));\n",
       "    }\n",
       "\n",
       "    if(typeof define === \"function\" && define.amd) {\n",
       "      requirejs.config({paths});\n",
       "      require([\"vega-embed\"], displayChart, err => showError(`Error loading script: ${err.message}`));\n",
       "    } else {\n",
       "      maybeLoadScript(\"vega\", \"5\")\n",
       "        .then(() => maybeLoadScript(\"vega-lite\", \"4.17.0\"))\n",
       "        .then(() => maybeLoadScript(\"vega-embed\", \"6\"))\n",
       "        .catch(showError)\n",
       "        .then(() => displayChart(vegaEmbed));\n",
       "    }\n",
       "  })({\"config\": {\"view\": {\"continuousWidth\": 400, \"continuousHeight\": 300}}, \"layer\": [{\"mark\": {\"type\": \"circle\", \"size\": 100}, \"encoding\": {\"x\": {\"axis\": {\"title\": \"GDP per capita\"}, \"field\": \"gdp_per_capita\", \"type\": \"quantitative\"}, \"y\": {\"axis\": {\"title\": \"Life satisfaction\"}, \"field\": \"life_satisfaction\", \"scale\": {\"domain\": [0, 10]}, \"type\": \"quantitative\"}}}, {\"mark\": \"line\", \"encoding\": {\"x\": {\"axis\": {\"title\": \"GDP per capita\"}, \"field\": \"gdp_per_capita\", \"type\": \"quantitative\"}, \"y\": {\"axis\": {\"title\": \"Life satisfaction\"}, \"field\": \"life_satisfaction\", \"scale\": {\"domain\": [0, 10]}, \"type\": \"quantitative\"}}, \"transform\": [{\"on\": \"gdp_per_capita\", \"regression\": \"life_satisfaction\", \"extent\": [0, 60000]}]}], \"data\": {\"name\": \"data-84d1eeb26604f73b3bfb37a0a486c169\"}, \"$schema\": \"https://vega.github.io/schema/vega-lite/v4.17.0.json\", \"datasets\": {\"data-84d1eeb26604f73b3bfb37a0a486c169\": [{\"country\": \"Russia\", \"gdp_per_capita\": 9054.914, \"life_satisfaction\": 6.0, \"class\": \"train\", \"data\": \"test\", \"Data\": \"Test\"}, {\"country\": \"Turkey\", \"gdp_per_capita\": 9437.372, \"life_satisfaction\": 5.6, \"class\": \"train\", \"data\": \"test\", \"Data\": \"Test\"}, {\"country\": \"Hungary\", \"gdp_per_capita\": 12239.893999999998, \"life_satisfaction\": 4.9, \"class\": \"test\", \"data\": \"test\", \"Data\": \"Train\"}, {\"country\": \"Poland\", \"gdp_per_capita\": 12495.334, \"life_satisfaction\": 5.8, \"class\": \"test\", \"data\": \"test\", \"Data\": \"Train\"}, {\"country\": \"Slovak Republic\", \"gdp_per_capita\": 15991.736, \"life_satisfaction\": 6.1, \"class\": \"train\", \"data\": \"test\", \"Data\": \"Train\"}, {\"country\": \"Estonia\", \"gdp_per_capita\": 17288.083, \"life_satisfaction\": 5.6, \"class\": \"train\", \"data\": \"test\", \"Data\": \"Test\"}, {\"country\": \"Greece\", \"gdp_per_capita\": 18064.288, \"life_satisfaction\": 4.8, \"class\": \"test\", \"data\": \"test\", \"Data\": \"Test\"}, {\"country\": \"Portugal\", \"gdp_per_capita\": 19121.592, \"life_satisfaction\": 5.1, \"class\": \"train\", \"data\": \"test\", \"Data\": \"Train\"}, {\"country\": \"Slovenia\", \"gdp_per_capita\": 20732.482, \"life_satisfaction\": 5.7, \"class\": \"test\", \"data\": \"train\", \"Data\": \"Test\"}, {\"country\": \"Spain\", \"gdp_per_capita\": 25864.721, \"life_satisfaction\": 6.5, \"class\": \"train\", \"data\": \"test\", \"Data\": \"Test\"}, {\"country\": \"Korea\", \"gdp_per_capita\": 27195.197, \"life_satisfaction\": 5.8, \"class\": \"test\", \"data\": \"test\", \"Data\": \"Test\"}, {\"country\": \"Italy\", \"gdp_per_capita\": 29866.581, \"life_satisfaction\": 6.0, \"class\": \"train\", \"data\": \"train\", \"Data\": \"Train\"}, {\"country\": \"Japan\", \"gdp_per_capita\": 32485.545, \"life_satisfaction\": 5.9, \"class\": \"train\", \"data\": \"test\", \"Data\": \"Test\"}, {\"country\": \"Israel\", \"gdp_per_capita\": 35343.336, \"life_satisfaction\": 7.4, \"class\": \"test\", \"data\": \"test\", \"Data\": \"Train\"}, {\"country\": \"New Zealand\", \"gdp_per_capita\": 37044.891, \"life_satisfaction\": 7.3, \"class\": \"train\", \"data\": \"train\", \"Data\": \"Test\"}, {\"country\": \"France\", \"gdp_per_capita\": 37675.006, \"life_satisfaction\": 6.5, \"class\": \"train\", \"data\": \"test\", \"Data\": \"Test\"}, {\"country\": \"Belgium\", \"gdp_per_capita\": 40106.632000000005, \"life_satisfaction\": 6.9, \"class\": \"test\", \"data\": \"test\", \"Data\": \"Test\"}, {\"country\": \"Germany\", \"gdp_per_capita\": 40996.511, \"life_satisfaction\": 7.0, \"class\": \"test\", \"data\": \"test\", \"Data\": \"Test\"}, {\"country\": \"Finland\", \"gdp_per_capita\": 41973.988, \"life_satisfaction\": 7.4, \"class\": \"train\", \"data\": \"train\", \"Data\": \"Train\"}, {\"country\": \"Canada\", \"gdp_per_capita\": 43331.961, \"life_satisfaction\": 7.3, \"class\": \"train\", \"data\": \"test\", \"Data\": \"Test\"}, {\"country\": \"Netherlands\", \"gdp_per_capita\": 43603.115, \"life_satisfaction\": 7.3, \"class\": \"train\", \"data\": \"test\", \"Data\": \"Test\"}, {\"country\": \"Austria\", \"gdp_per_capita\": 43724.031, \"life_satisfaction\": 6.9, \"class\": \"test\", \"data\": \"test\", \"Data\": \"Test\"}, {\"country\": \"United Kingdom\", \"gdp_per_capita\": 43770.688, \"life_satisfaction\": 6.8, \"class\": \"train\", \"data\": \"train\", \"Data\": \"Test\"}, {\"country\": \"Sweden\", \"gdp_per_capita\": 49866.266, \"life_satisfaction\": 7.2, \"class\": \"test\", \"data\": \"test\", \"Data\": \"Train\"}, {\"country\": \"Iceland\", \"gdp_per_capita\": 50854.583, \"life_satisfaction\": 7.5, \"class\": \"train\", \"data\": \"train\", \"Data\": \"Test\"}, {\"country\": \"Australia\", \"gdp_per_capita\": 50961.865, \"life_satisfaction\": 7.3, \"class\": \"train\", \"data\": \"train\", \"Data\": \"Train\"}, {\"country\": \"Ireland\", \"gdp_per_capita\": 51350.744000000006, \"life_satisfaction\": 7.0, \"class\": \"test\", \"data\": \"train\", \"Data\": \"Test\"}, {\"country\": \"Denmark\", \"gdp_per_capita\": 52114.165, \"life_satisfaction\": 7.5, \"class\": \"test\", \"data\": \"train\", \"Data\": \"Train\"}, {\"country\": \"United States\", \"gdp_per_capita\": 55805.204000000005, \"life_satisfaction\": 7.2, \"class\": \"test\", \"data\": \"test\", \"Data\": \"Test\"}]}}, {\"mode\": \"vega-lite\"});\n",
       "</script>"
      ],
      "text/plain": [
       "alt.LayerChart(...)"
      ]
     },
     "execution_count": 71,
     "metadata": {},
     "output_type": "execute_result"
    }
   ],
   "source": [
    "plot = alt.Chart(df).mark_circle(size=100).encode(\n",
    "    alt.X('gdp_per_capita:Q', axis=alt.Axis(title='GDP per capita')),\n",
    "    alt.Y('life_satisfaction:Q', axis=alt.Axis(title='Life satisfaction'), scale=alt.Scale(domain=[0, 10]))\n",
    "    )\n",
    "\n",
    "plot + plot.transform_regression('gdp_per_capita', 'life_satisfaction', extent=(0,60000)).mark_line()"
   ]
  },
  {
   "cell_type": "code",
   "execution_count": 73,
   "metadata": {},
   "outputs": [
    {
     "data": {
      "text/html": [
       "\n",
       "<div id=\"altair-viz-1a8e18c0f40e4872b34ebad00c620d8d\"></div>\n",
       "<script type=\"text/javascript\">\n",
       "  var VEGA_DEBUG = (typeof VEGA_DEBUG == \"undefined\") ? {} : VEGA_DEBUG;\n",
       "  (function(spec, embedOpt){\n",
       "    let outputDiv = document.currentScript.previousElementSibling;\n",
       "    if (outputDiv.id !== \"altair-viz-1a8e18c0f40e4872b34ebad00c620d8d\") {\n",
       "      outputDiv = document.getElementById(\"altair-viz-1a8e18c0f40e4872b34ebad00c620d8d\");\n",
       "    }\n",
       "    const paths = {\n",
       "      \"vega\": \"https://cdn.jsdelivr.net/npm//vega@5?noext\",\n",
       "      \"vega-lib\": \"https://cdn.jsdelivr.net/npm//vega-lib?noext\",\n",
       "      \"vega-lite\": \"https://cdn.jsdelivr.net/npm//vega-lite@4.17.0?noext\",\n",
       "      \"vega-embed\": \"https://cdn.jsdelivr.net/npm//vega-embed@6?noext\",\n",
       "    };\n",
       "\n",
       "    function maybeLoadScript(lib, version) {\n",
       "      var key = `${lib.replace(\"-\", \"\")}_version`;\n",
       "      return (VEGA_DEBUG[key] == version) ?\n",
       "        Promise.resolve(paths[lib]) :\n",
       "        new Promise(function(resolve, reject) {\n",
       "          var s = document.createElement('script');\n",
       "          document.getElementsByTagName(\"head\")[0].appendChild(s);\n",
       "          s.async = true;\n",
       "          s.onload = () => {\n",
       "            VEGA_DEBUG[key] = version;\n",
       "            return resolve(paths[lib]);\n",
       "          };\n",
       "          s.onerror = () => reject(`Error loading script: ${paths[lib]}`);\n",
       "          s.src = paths[lib];\n",
       "        });\n",
       "    }\n",
       "\n",
       "    function showError(err) {\n",
       "      outputDiv.innerHTML = `<div class=\"error\" style=\"color:red;\">${err}</div>`;\n",
       "      throw err;\n",
       "    }\n",
       "\n",
       "    function displayChart(vegaEmbed) {\n",
       "      vegaEmbed(outputDiv, spec, embedOpt)\n",
       "        .catch(err => showError(`Javascript Error: ${err.message}<br>This usually means there's a typo in your chart specification. See the javascript console for the full traceback.`));\n",
       "    }\n",
       "\n",
       "    if(typeof define === \"function\" && define.amd) {\n",
       "      requirejs.config({paths});\n",
       "      require([\"vega-embed\"], displayChart, err => showError(`Error loading script: ${err.message}`));\n",
       "    } else {\n",
       "      maybeLoadScript(\"vega\", \"5\")\n",
       "        .then(() => maybeLoadScript(\"vega-lite\", \"4.17.0\"))\n",
       "        .then(() => maybeLoadScript(\"vega-embed\", \"6\"))\n",
       "        .catch(showError)\n",
       "        .then(() => displayChart(vegaEmbed));\n",
       "    }\n",
       "  })({\"config\": {\"view\": {\"continuousWidth\": 400, \"continuousHeight\": 300}}, \"layer\": [{\"mark\": {\"type\": \"circle\", \"size\": 100}, \"encoding\": {\"x\": {\"axis\": {\"title\": \"GDP per capita\"}, \"field\": \"gdp_per_capita\", \"type\": \"quantitative\"}, \"y\": {\"axis\": {\"title\": \"Life satisfaction\"}, \"field\": \"life_satisfaction\", \"scale\": {\"domain\": [0, 10]}, \"type\": \"quantitative\"}}}, {\"mark\": \"line\", \"encoding\": {\"x\": {\"axis\": {\"title\": \"GDP per capita\"}, \"field\": \"gdp_per_capita\", \"type\": \"quantitative\"}, \"y\": {\"axis\": {\"title\": \"Life satisfaction\"}, \"field\": \"life_satisfaction\", \"scale\": {\"domain\": [0, 10]}, \"type\": \"quantitative\"}}, \"transform\": [{\"on\": \"gdp_per_capita\", \"regression\": \"life_satisfaction\", \"method\": \"poly\", \"order\": 20}]}], \"data\": {\"name\": \"data-84d1eeb26604f73b3bfb37a0a486c169\"}, \"$schema\": \"https://vega.github.io/schema/vega-lite/v4.17.0.json\", \"datasets\": {\"data-84d1eeb26604f73b3bfb37a0a486c169\": [{\"country\": \"Russia\", \"gdp_per_capita\": 9054.914, \"life_satisfaction\": 6.0, \"class\": \"train\", \"data\": \"test\", \"Data\": \"Test\"}, {\"country\": \"Turkey\", \"gdp_per_capita\": 9437.372, \"life_satisfaction\": 5.6, \"class\": \"train\", \"data\": \"test\", \"Data\": \"Test\"}, {\"country\": \"Hungary\", \"gdp_per_capita\": 12239.893999999998, \"life_satisfaction\": 4.9, \"class\": \"test\", \"data\": \"test\", \"Data\": \"Train\"}, {\"country\": \"Poland\", \"gdp_per_capita\": 12495.334, \"life_satisfaction\": 5.8, \"class\": \"test\", \"data\": \"test\", \"Data\": \"Train\"}, {\"country\": \"Slovak Republic\", \"gdp_per_capita\": 15991.736, \"life_satisfaction\": 6.1, \"class\": \"train\", \"data\": \"test\", \"Data\": \"Train\"}, {\"country\": \"Estonia\", \"gdp_per_capita\": 17288.083, \"life_satisfaction\": 5.6, \"class\": \"train\", \"data\": \"test\", \"Data\": \"Test\"}, {\"country\": \"Greece\", \"gdp_per_capita\": 18064.288, \"life_satisfaction\": 4.8, \"class\": \"test\", \"data\": \"test\", \"Data\": \"Test\"}, {\"country\": \"Portugal\", \"gdp_per_capita\": 19121.592, \"life_satisfaction\": 5.1, \"class\": \"train\", \"data\": \"test\", \"Data\": \"Train\"}, {\"country\": \"Slovenia\", \"gdp_per_capita\": 20732.482, \"life_satisfaction\": 5.7, \"class\": \"test\", \"data\": \"train\", \"Data\": \"Test\"}, {\"country\": \"Spain\", \"gdp_per_capita\": 25864.721, \"life_satisfaction\": 6.5, \"class\": \"train\", \"data\": \"test\", \"Data\": \"Test\"}, {\"country\": \"Korea\", \"gdp_per_capita\": 27195.197, \"life_satisfaction\": 5.8, \"class\": \"test\", \"data\": \"test\", \"Data\": \"Test\"}, {\"country\": \"Italy\", \"gdp_per_capita\": 29866.581, \"life_satisfaction\": 6.0, \"class\": \"train\", \"data\": \"train\", \"Data\": \"Train\"}, {\"country\": \"Japan\", \"gdp_per_capita\": 32485.545, \"life_satisfaction\": 5.9, \"class\": \"train\", \"data\": \"test\", \"Data\": \"Test\"}, {\"country\": \"Israel\", \"gdp_per_capita\": 35343.336, \"life_satisfaction\": 7.4, \"class\": \"test\", \"data\": \"test\", \"Data\": \"Train\"}, {\"country\": \"New Zealand\", \"gdp_per_capita\": 37044.891, \"life_satisfaction\": 7.3, \"class\": \"train\", \"data\": \"train\", \"Data\": \"Test\"}, {\"country\": \"France\", \"gdp_per_capita\": 37675.006, \"life_satisfaction\": 6.5, \"class\": \"train\", \"data\": \"test\", \"Data\": \"Test\"}, {\"country\": \"Belgium\", \"gdp_per_capita\": 40106.632000000005, \"life_satisfaction\": 6.9, \"class\": \"test\", \"data\": \"test\", \"Data\": \"Test\"}, {\"country\": \"Germany\", \"gdp_per_capita\": 40996.511, \"life_satisfaction\": 7.0, \"class\": \"test\", \"data\": \"test\", \"Data\": \"Test\"}, {\"country\": \"Finland\", \"gdp_per_capita\": 41973.988, \"life_satisfaction\": 7.4, \"class\": \"train\", \"data\": \"train\", \"Data\": \"Train\"}, {\"country\": \"Canada\", \"gdp_per_capita\": 43331.961, \"life_satisfaction\": 7.3, \"class\": \"train\", \"data\": \"test\", \"Data\": \"Test\"}, {\"country\": \"Netherlands\", \"gdp_per_capita\": 43603.115, \"life_satisfaction\": 7.3, \"class\": \"train\", \"data\": \"test\", \"Data\": \"Test\"}, {\"country\": \"Austria\", \"gdp_per_capita\": 43724.031, \"life_satisfaction\": 6.9, \"class\": \"test\", \"data\": \"test\", \"Data\": \"Test\"}, {\"country\": \"United Kingdom\", \"gdp_per_capita\": 43770.688, \"life_satisfaction\": 6.8, \"class\": \"train\", \"data\": \"train\", \"Data\": \"Test\"}, {\"country\": \"Sweden\", \"gdp_per_capita\": 49866.266, \"life_satisfaction\": 7.2, \"class\": \"test\", \"data\": \"test\", \"Data\": \"Train\"}, {\"country\": \"Iceland\", \"gdp_per_capita\": 50854.583, \"life_satisfaction\": 7.5, \"class\": \"train\", \"data\": \"train\", \"Data\": \"Test\"}, {\"country\": \"Australia\", \"gdp_per_capita\": 50961.865, \"life_satisfaction\": 7.3, \"class\": \"train\", \"data\": \"train\", \"Data\": \"Train\"}, {\"country\": \"Ireland\", \"gdp_per_capita\": 51350.744000000006, \"life_satisfaction\": 7.0, \"class\": \"test\", \"data\": \"train\", \"Data\": \"Test\"}, {\"country\": \"Denmark\", \"gdp_per_capita\": 52114.165, \"life_satisfaction\": 7.5, \"class\": \"test\", \"data\": \"train\", \"Data\": \"Train\"}, {\"country\": \"United States\", \"gdp_per_capita\": 55805.204000000005, \"life_satisfaction\": 7.2, \"class\": \"test\", \"data\": \"test\", \"Data\": \"Test\"}]}}, {\"mode\": \"vega-lite\"});\n",
       "</script>"
      ],
      "text/plain": [
       "alt.LayerChart(...)"
      ]
     },
     "execution_count": 73,
     "metadata": {},
     "output_type": "execute_result"
    }
   ],
   "source": [
    "\n",
    "plot + plot.transform_regression('gdp_per_capita', 'life_satisfaction', method=\"poly\", order=20).mark_line()\n"
   ]
  },
  {
   "cell_type": "code",
   "execution_count": 40,
   "metadata": {},
   "outputs": [
    {
     "data": {
      "text/html": [
       "\n",
       "<div id=\"altair-viz-ad121cd88f35400d954dea7b9d67c0dd\"></div>\n",
       "<script type=\"text/javascript\">\n",
       "  var VEGA_DEBUG = (typeof VEGA_DEBUG == \"undefined\") ? {} : VEGA_DEBUG;\n",
       "  (function(spec, embedOpt){\n",
       "    let outputDiv = document.currentScript.previousElementSibling;\n",
       "    if (outputDiv.id !== \"altair-viz-ad121cd88f35400d954dea7b9d67c0dd\") {\n",
       "      outputDiv = document.getElementById(\"altair-viz-ad121cd88f35400d954dea7b9d67c0dd\");\n",
       "    }\n",
       "    const paths = {\n",
       "      \"vega\": \"https://cdn.jsdelivr.net/npm//vega@5?noext\",\n",
       "      \"vega-lib\": \"https://cdn.jsdelivr.net/npm//vega-lib?noext\",\n",
       "      \"vega-lite\": \"https://cdn.jsdelivr.net/npm//vega-lite@4.17.0?noext\",\n",
       "      \"vega-embed\": \"https://cdn.jsdelivr.net/npm//vega-embed@6?noext\",\n",
       "    };\n",
       "\n",
       "    function maybeLoadScript(lib, version) {\n",
       "      var key = `${lib.replace(\"-\", \"\")}_version`;\n",
       "      return (VEGA_DEBUG[key] == version) ?\n",
       "        Promise.resolve(paths[lib]) :\n",
       "        new Promise(function(resolve, reject) {\n",
       "          var s = document.createElement('script');\n",
       "          document.getElementsByTagName(\"head\")[0].appendChild(s);\n",
       "          s.async = true;\n",
       "          s.onload = () => {\n",
       "            VEGA_DEBUG[key] = version;\n",
       "            return resolve(paths[lib]);\n",
       "          };\n",
       "          s.onerror = () => reject(`Error loading script: ${paths[lib]}`);\n",
       "          s.src = paths[lib];\n",
       "        });\n",
       "    }\n",
       "\n",
       "    function showError(err) {\n",
       "      outputDiv.innerHTML = `<div class=\"error\" style=\"color:red;\">${err}</div>`;\n",
       "      throw err;\n",
       "    }\n",
       "\n",
       "    function displayChart(vegaEmbed) {\n",
       "      vegaEmbed(outputDiv, spec, embedOpt)\n",
       "        .catch(err => showError(`Javascript Error: ${err.message}<br>This usually means there's a typo in your chart specification. See the javascript console for the full traceback.`));\n",
       "    }\n",
       "\n",
       "    if(typeof define === \"function\" && define.amd) {\n",
       "      requirejs.config({paths});\n",
       "      require([\"vega-embed\"], displayChart, err => showError(`Error loading script: ${err.message}`));\n",
       "    } else {\n",
       "      maybeLoadScript(\"vega\", \"5\")\n",
       "        .then(() => maybeLoadScript(\"vega-lite\", \"4.17.0\"))\n",
       "        .then(() => maybeLoadScript(\"vega-embed\", \"6\"))\n",
       "        .catch(showError)\n",
       "        .then(() => displayChart(vegaEmbed));\n",
       "    }\n",
       "  })({\"config\": {\"view\": {\"continuousWidth\": 400, \"continuousHeight\": 300}}, \"data\": {\"name\": \"data-84d1eeb26604f73b3bfb37a0a486c169\"}, \"mark\": {\"type\": \"circle\", \"size\": 100}, \"encoding\": {\"color\": {\"field\": \"Data\", \"type\": \"nominal\"}, \"x\": {\"axis\": {\"title\": \"GDP per capita\"}, \"field\": \"gdp_per_capita\", \"type\": \"quantitative\"}, \"y\": {\"axis\": {\"title\": \"Life satisfaction\"}, \"field\": \"life_satisfaction\", \"type\": \"quantitative\"}}, \"$schema\": \"https://vega.github.io/schema/vega-lite/v4.17.0.json\", \"datasets\": {\"data-84d1eeb26604f73b3bfb37a0a486c169\": [{\"country\": \"Russia\", \"gdp_per_capita\": 9054.914, \"life_satisfaction\": 6.0, \"class\": \"train\", \"data\": \"test\", \"Data\": \"Test\"}, {\"country\": \"Turkey\", \"gdp_per_capita\": 9437.372, \"life_satisfaction\": 5.6, \"class\": \"train\", \"data\": \"test\", \"Data\": \"Test\"}, {\"country\": \"Hungary\", \"gdp_per_capita\": 12239.893999999998, \"life_satisfaction\": 4.9, \"class\": \"test\", \"data\": \"test\", \"Data\": \"Train\"}, {\"country\": \"Poland\", \"gdp_per_capita\": 12495.334, \"life_satisfaction\": 5.8, \"class\": \"test\", \"data\": \"test\", \"Data\": \"Train\"}, {\"country\": \"Slovak Republic\", \"gdp_per_capita\": 15991.736, \"life_satisfaction\": 6.1, \"class\": \"train\", \"data\": \"test\", \"Data\": \"Train\"}, {\"country\": \"Estonia\", \"gdp_per_capita\": 17288.083, \"life_satisfaction\": 5.6, \"class\": \"train\", \"data\": \"test\", \"Data\": \"Test\"}, {\"country\": \"Greece\", \"gdp_per_capita\": 18064.288, \"life_satisfaction\": 4.8, \"class\": \"test\", \"data\": \"test\", \"Data\": \"Test\"}, {\"country\": \"Portugal\", \"gdp_per_capita\": 19121.592, \"life_satisfaction\": 5.1, \"class\": \"train\", \"data\": \"test\", \"Data\": \"Train\"}, {\"country\": \"Slovenia\", \"gdp_per_capita\": 20732.482, \"life_satisfaction\": 5.7, \"class\": \"test\", \"data\": \"train\", \"Data\": \"Test\"}, {\"country\": \"Spain\", \"gdp_per_capita\": 25864.721, \"life_satisfaction\": 6.5, \"class\": \"train\", \"data\": \"test\", \"Data\": \"Test\"}, {\"country\": \"Korea\", \"gdp_per_capita\": 27195.197, \"life_satisfaction\": 5.8, \"class\": \"test\", \"data\": \"test\", \"Data\": \"Test\"}, {\"country\": \"Italy\", \"gdp_per_capita\": 29866.581, \"life_satisfaction\": 6.0, \"class\": \"train\", \"data\": \"train\", \"Data\": \"Train\"}, {\"country\": \"Japan\", \"gdp_per_capita\": 32485.545, \"life_satisfaction\": 5.9, \"class\": \"train\", \"data\": \"test\", \"Data\": \"Test\"}, {\"country\": \"Israel\", \"gdp_per_capita\": 35343.336, \"life_satisfaction\": 7.4, \"class\": \"test\", \"data\": \"test\", \"Data\": \"Train\"}, {\"country\": \"New Zealand\", \"gdp_per_capita\": 37044.891, \"life_satisfaction\": 7.3, \"class\": \"train\", \"data\": \"train\", \"Data\": \"Test\"}, {\"country\": \"France\", \"gdp_per_capita\": 37675.006, \"life_satisfaction\": 6.5, \"class\": \"train\", \"data\": \"test\", \"Data\": \"Test\"}, {\"country\": \"Belgium\", \"gdp_per_capita\": 40106.632000000005, \"life_satisfaction\": 6.9, \"class\": \"test\", \"data\": \"test\", \"Data\": \"Test\"}, {\"country\": \"Germany\", \"gdp_per_capita\": 40996.511, \"life_satisfaction\": 7.0, \"class\": \"test\", \"data\": \"test\", \"Data\": \"Test\"}, {\"country\": \"Finland\", \"gdp_per_capita\": 41973.988, \"life_satisfaction\": 7.4, \"class\": \"train\", \"data\": \"train\", \"Data\": \"Train\"}, {\"country\": \"Canada\", \"gdp_per_capita\": 43331.961, \"life_satisfaction\": 7.3, \"class\": \"train\", \"data\": \"test\", \"Data\": \"Test\"}, {\"country\": \"Netherlands\", \"gdp_per_capita\": 43603.115, \"life_satisfaction\": 7.3, \"class\": \"train\", \"data\": \"test\", \"Data\": \"Test\"}, {\"country\": \"Austria\", \"gdp_per_capita\": 43724.031, \"life_satisfaction\": 6.9, \"class\": \"test\", \"data\": \"test\", \"Data\": \"Test\"}, {\"country\": \"United Kingdom\", \"gdp_per_capita\": 43770.688, \"life_satisfaction\": 6.8, \"class\": \"train\", \"data\": \"train\", \"Data\": \"Test\"}, {\"country\": \"Sweden\", \"gdp_per_capita\": 49866.266, \"life_satisfaction\": 7.2, \"class\": \"test\", \"data\": \"test\", \"Data\": \"Train\"}, {\"country\": \"Iceland\", \"gdp_per_capita\": 50854.583, \"life_satisfaction\": 7.5, \"class\": \"train\", \"data\": \"train\", \"Data\": \"Test\"}, {\"country\": \"Australia\", \"gdp_per_capita\": 50961.865, \"life_satisfaction\": 7.3, \"class\": \"train\", \"data\": \"train\", \"Data\": \"Train\"}, {\"country\": \"Ireland\", \"gdp_per_capita\": 51350.744000000006, \"life_satisfaction\": 7.0, \"class\": \"test\", \"data\": \"train\", \"Data\": \"Test\"}, {\"country\": \"Denmark\", \"gdp_per_capita\": 52114.165, \"life_satisfaction\": 7.5, \"class\": \"test\", \"data\": \"train\", \"Data\": \"Train\"}, {\"country\": \"United States\", \"gdp_per_capita\": 55805.204000000005, \"life_satisfaction\": 7.2, \"class\": \"test\", \"data\": \"test\", \"Data\": \"Test\"}]}}, {\"mode\": \"vega-lite\"});\n",
       "</script>"
      ],
      "text/plain": [
       "alt.Chart(...)"
      ]
     },
     "execution_count": 40,
     "metadata": {},
     "output_type": "execute_result"
    }
   ],
   "source": [
    "# Visualize the data\n",
    "alt.Chart(df).mark_circle(size=100).encode(\n",
    "    alt.X('gdp_per_capita:Q', axis=alt.Axis(title='GDP per capita')),\n",
    "    alt.Y('life_satisfaction:Q', axis=alt.Axis(title='Life satisfaction')),\n",
    "    color='Data:N',)"
   ]
  },
  {
   "cell_type": "code",
   "execution_count": 4,
   "metadata": {},
   "outputs": [
    {
     "data": {
      "text/html": [
       "\n",
       "<div id=\"altair-viz-02f2ffe755b8419c9ced8eb56954c760\"></div>\n",
       "<script type=\"text/javascript\">\n",
       "  var VEGA_DEBUG = (typeof VEGA_DEBUG == \"undefined\") ? {} : VEGA_DEBUG;\n",
       "  (function(spec, embedOpt){\n",
       "    let outputDiv = document.currentScript.previousElementSibling;\n",
       "    if (outputDiv.id !== \"altair-viz-02f2ffe755b8419c9ced8eb56954c760\") {\n",
       "      outputDiv = document.getElementById(\"altair-viz-02f2ffe755b8419c9ced8eb56954c760\");\n",
       "    }\n",
       "    const paths = {\n",
       "      \"vega\": \"https://cdn.jsdelivr.net/npm//vega@5?noext\",\n",
       "      \"vega-lib\": \"https://cdn.jsdelivr.net/npm//vega-lib?noext\",\n",
       "      \"vega-lite\": \"https://cdn.jsdelivr.net/npm//vega-lite@4.17.0?noext\",\n",
       "      \"vega-embed\": \"https://cdn.jsdelivr.net/npm//vega-embed@6?noext\",\n",
       "    };\n",
       "\n",
       "    function maybeLoadScript(lib, version) {\n",
       "      var key = `${lib.replace(\"-\", \"\")}_version`;\n",
       "      return (VEGA_DEBUG[key] == version) ?\n",
       "        Promise.resolve(paths[lib]) :\n",
       "        new Promise(function(resolve, reject) {\n",
       "          var s = document.createElement('script');\n",
       "          document.getElementsByTagName(\"head\")[0].appendChild(s);\n",
       "          s.async = true;\n",
       "          s.onload = () => {\n",
       "            VEGA_DEBUG[key] = version;\n",
       "            return resolve(paths[lib]);\n",
       "          };\n",
       "          s.onerror = () => reject(`Error loading script: ${paths[lib]}`);\n",
       "          s.src = paths[lib];\n",
       "        });\n",
       "    }\n",
       "\n",
       "    function showError(err) {\n",
       "      outputDiv.innerHTML = `<div class=\"error\" style=\"color:red;\">${err}</div>`;\n",
       "      throw err;\n",
       "    }\n",
       "\n",
       "    function displayChart(vegaEmbed) {\n",
       "      vegaEmbed(outputDiv, spec, embedOpt)\n",
       "        .catch(err => showError(`Javascript Error: ${err.message}<br>This usually means there's a typo in your chart specification. See the javascript console for the full traceback.`));\n",
       "    }\n",
       "\n",
       "    if(typeof define === \"function\" && define.amd) {\n",
       "      requirejs.config({paths});\n",
       "      require([\"vega-embed\"], displayChart, err => showError(`Error loading script: ${err.message}`));\n",
       "    } else {\n",
       "      maybeLoadScript(\"vega\", \"5\")\n",
       "        .then(() => maybeLoadScript(\"vega-lite\", \"4.17.0\"))\n",
       "        .then(() => maybeLoadScript(\"vega-embed\", \"6\"))\n",
       "        .catch(showError)\n",
       "        .then(() => displayChart(vegaEmbed));\n",
       "    }\n",
       "  })({\"config\": {\"view\": {\"continuousWidth\": 400, \"continuousHeight\": 300}}, \"data\": {\"name\": \"data-335af487471029756d5845529594153a\"}, \"mark\": {\"type\": \"circle\", \"size\": 100}, \"encoding\": {\"color\": {\"field\": \"country\", \"legend\": null, \"type\": \"nominal\"}, \"tooltip\": [{\"field\": \"country\", \"type\": \"nominal\"}, {\"field\": \"gdp_per_capita\", \"type\": \"quantitative\"}, {\"field\": \"life_satisfaction\", \"type\": \"quantitative\"}], \"x\": {\"field\": \"gdp_per_capita\", \"type\": \"quantitative\"}, \"y\": {\"field\": \"life_satisfaction\", \"type\": \"quantitative\"}}, \"selection\": {\"selector001\": {\"type\": \"interval\", \"bind\": \"scales\", \"encodings\": [\"x\", \"y\"]}}, \"$schema\": \"https://vega.github.io/schema/vega-lite/v4.17.0.json\", \"datasets\": {\"data-335af487471029756d5845529594153a\": [{\"country\": \"Russia\", \"gdp_per_capita\": 9054.914, \"life_satisfaction\": 6.0}, {\"country\": \"Turkey\", \"gdp_per_capita\": 9437.372, \"life_satisfaction\": 5.6}, {\"country\": \"Hungary\", \"gdp_per_capita\": 12239.893999999998, \"life_satisfaction\": 4.9}, {\"country\": \"Poland\", \"gdp_per_capita\": 12495.334, \"life_satisfaction\": 5.8}, {\"country\": \"Slovak Republic\", \"gdp_per_capita\": 15991.736, \"life_satisfaction\": 6.1}, {\"country\": \"Estonia\", \"gdp_per_capita\": 17288.083, \"life_satisfaction\": 5.6}, {\"country\": \"Greece\", \"gdp_per_capita\": 18064.288, \"life_satisfaction\": 4.8}, {\"country\": \"Portugal\", \"gdp_per_capita\": 19121.592, \"life_satisfaction\": 5.1}, {\"country\": \"Slovenia\", \"gdp_per_capita\": 20732.482, \"life_satisfaction\": 5.7}, {\"country\": \"Spain\", \"gdp_per_capita\": 25864.721, \"life_satisfaction\": 6.5}, {\"country\": \"Korea\", \"gdp_per_capita\": 27195.197, \"life_satisfaction\": 5.8}, {\"country\": \"Italy\", \"gdp_per_capita\": 29866.581, \"life_satisfaction\": 6.0}, {\"country\": \"Japan\", \"gdp_per_capita\": 32485.545, \"life_satisfaction\": 5.9}, {\"country\": \"Israel\", \"gdp_per_capita\": 35343.336, \"life_satisfaction\": 7.4}, {\"country\": \"New Zealand\", \"gdp_per_capita\": 37044.891, \"life_satisfaction\": 7.3}, {\"country\": \"France\", \"gdp_per_capita\": 37675.006, \"life_satisfaction\": 6.5}, {\"country\": \"Belgium\", \"gdp_per_capita\": 40106.632000000005, \"life_satisfaction\": 6.9}, {\"country\": \"Germany\", \"gdp_per_capita\": 40996.511, \"life_satisfaction\": 7.0}, {\"country\": \"Finland\", \"gdp_per_capita\": 41973.988, \"life_satisfaction\": 7.4}, {\"country\": \"Canada\", \"gdp_per_capita\": 43331.961, \"life_satisfaction\": 7.3}, {\"country\": \"Netherlands\", \"gdp_per_capita\": 43603.115, \"life_satisfaction\": 7.3}, {\"country\": \"Austria\", \"gdp_per_capita\": 43724.031, \"life_satisfaction\": 6.9}, {\"country\": \"United Kingdom\", \"gdp_per_capita\": 43770.688, \"life_satisfaction\": 6.8}, {\"country\": \"Sweden\", \"gdp_per_capita\": 49866.266, \"life_satisfaction\": 7.2}, {\"country\": \"Iceland\", \"gdp_per_capita\": 50854.583, \"life_satisfaction\": 7.5}, {\"country\": \"Australia\", \"gdp_per_capita\": 50961.865, \"life_satisfaction\": 7.3}, {\"country\": \"Ireland\", \"gdp_per_capita\": 51350.744000000006, \"life_satisfaction\": 7.0}, {\"country\": \"Denmark\", \"gdp_per_capita\": 52114.165, \"life_satisfaction\": 7.5}, {\"country\": \"United States\", \"gdp_per_capita\": 55805.204000000005, \"life_satisfaction\": 7.2}]}}, {\"mode\": \"vega-lite\"});\n",
       "</script>"
      ],
      "text/plain": [
       "alt.Chart(...)"
      ]
     },
     "execution_count": 4,
     "metadata": {},
     "output_type": "execute_result"
    }
   ],
   "source": [
    "\n",
    "\n",
    "# Visualize the data\n",
    "alt.Chart(df).mark_circle(size=100).encode(\n",
    "    x='gdp_per_capita:Q',\n",
    "    y='life_satisfaction:Q',\n",
    "    color=alt.Color('country', legend=None),\n",
    "    tooltip=['country', 'gdp_per_capita', 'life_satisfaction']\n",
    "\n",
    ").interactive()"
   ]
  },
  {
   "cell_type": "code",
   "execution_count": null,
   "metadata": {},
   "outputs": [],
   "source": []
  },
  {
   "cell_type": "markdown",
   "metadata": {},
   "source": [
    "## Linear regression model"
   ]
  },
  {
   "cell_type": "code",
   "execution_count": 18,
   "metadata": {},
   "outputs": [],
   "source": [
    "from sklearn.linear_model import LinearRegression"
   ]
  },
  {
   "cell_type": "code",
   "execution_count": 19,
   "metadata": {},
   "outputs": [],
   "source": [
    "# Select a linear regression model\n",
    "reg = LinearRegression()"
   ]
  },
  {
   "cell_type": "markdown",
   "metadata": {},
   "source": [
    "### Training"
   ]
  },
  {
   "cell_type": "code",
   "execution_count": 20,
   "metadata": {},
   "outputs": [
    {
     "data": {
      "text/html": [
       "<style>#sk-container-id-1 {color: black;background-color: white;}#sk-container-id-1 pre{padding: 0;}#sk-container-id-1 div.sk-toggleable {background-color: white;}#sk-container-id-1 label.sk-toggleable__label {cursor: pointer;display: block;width: 100%;margin-bottom: 0;padding: 0.3em;box-sizing: border-box;text-align: center;}#sk-container-id-1 label.sk-toggleable__label-arrow:before {content: \"▸\";float: left;margin-right: 0.25em;color: #696969;}#sk-container-id-1 label.sk-toggleable__label-arrow:hover:before {color: black;}#sk-container-id-1 div.sk-estimator:hover label.sk-toggleable__label-arrow:before {color: black;}#sk-container-id-1 div.sk-toggleable__content {max-height: 0;max-width: 0;overflow: hidden;text-align: left;background-color: #f0f8ff;}#sk-container-id-1 div.sk-toggleable__content pre {margin: 0.2em;color: black;border-radius: 0.25em;background-color: #f0f8ff;}#sk-container-id-1 input.sk-toggleable__control:checked~div.sk-toggleable__content {max-height: 200px;max-width: 100%;overflow: auto;}#sk-container-id-1 input.sk-toggleable__control:checked~label.sk-toggleable__label-arrow:before {content: \"▾\";}#sk-container-id-1 div.sk-estimator input.sk-toggleable__control:checked~label.sk-toggleable__label {background-color: #d4ebff;}#sk-container-id-1 div.sk-label input.sk-toggleable__control:checked~label.sk-toggleable__label {background-color: #d4ebff;}#sk-container-id-1 input.sk-hidden--visually {border: 0;clip: rect(1px 1px 1px 1px);clip: rect(1px, 1px, 1px, 1px);height: 1px;margin: -1px;overflow: hidden;padding: 0;position: absolute;width: 1px;}#sk-container-id-1 div.sk-estimator {font-family: monospace;background-color: #f0f8ff;border: 1px dotted black;border-radius: 0.25em;box-sizing: border-box;margin-bottom: 0.5em;}#sk-container-id-1 div.sk-estimator:hover {background-color: #d4ebff;}#sk-container-id-1 div.sk-parallel-item::after {content: \"\";width: 100%;border-bottom: 1px solid gray;flex-grow: 1;}#sk-container-id-1 div.sk-label:hover label.sk-toggleable__label {background-color: #d4ebff;}#sk-container-id-1 div.sk-serial::before {content: \"\";position: absolute;border-left: 1px solid gray;box-sizing: border-box;top: 0;bottom: 0;left: 50%;z-index: 0;}#sk-container-id-1 div.sk-serial {display: flex;flex-direction: column;align-items: center;background-color: white;padding-right: 0.2em;padding-left: 0.2em;position: relative;}#sk-container-id-1 div.sk-item {position: relative;z-index: 1;}#sk-container-id-1 div.sk-parallel {display: flex;align-items: stretch;justify-content: center;background-color: white;position: relative;}#sk-container-id-1 div.sk-item::before, #sk-container-id-1 div.sk-parallel-item::before {content: \"\";position: absolute;border-left: 1px solid gray;box-sizing: border-box;top: 0;bottom: 0;left: 50%;z-index: -1;}#sk-container-id-1 div.sk-parallel-item {display: flex;flex-direction: column;z-index: 1;position: relative;background-color: white;}#sk-container-id-1 div.sk-parallel-item:first-child::after {align-self: flex-end;width: 50%;}#sk-container-id-1 div.sk-parallel-item:last-child::after {align-self: flex-start;width: 50%;}#sk-container-id-1 div.sk-parallel-item:only-child::after {width: 0;}#sk-container-id-1 div.sk-dashed-wrapped {border: 1px dashed gray;margin: 0 0.4em 0.5em 0.4em;box-sizing: border-box;padding-bottom: 0.4em;background-color: white;}#sk-container-id-1 div.sk-label label {font-family: monospace;font-weight: bold;display: inline-block;line-height: 1.2em;}#sk-container-id-1 div.sk-label-container {text-align: center;}#sk-container-id-1 div.sk-container {/* jupyter's `normalize.less` sets `[hidden] { display: none; }` but bootstrap.min.css set `[hidden] { display: none !important; }` so we also need the `!important` here to be able to override the default hidden behavior on the sphinx rendered scikit-learn.org. See: https://github.com/scikit-learn/scikit-learn/issues/21755 */display: inline-block !important;position: relative;}#sk-container-id-1 div.sk-text-repr-fallback {display: none;}</style><div id=\"sk-container-id-1\" class=\"sk-top-container\"><div class=\"sk-text-repr-fallback\"><pre>LinearRegression()</pre><b>In a Jupyter environment, please rerun this cell to show the HTML representation or trust the notebook. <br />On GitHub, the HTML representation is unable to render, please try loading this page with nbviewer.org.</b></div><div class=\"sk-container\" hidden><div class=\"sk-item\"><div class=\"sk-estimator sk-toggleable\"><input class=\"sk-toggleable__control sk-hidden--visually\" id=\"sk-estimator-id-1\" type=\"checkbox\" checked><label for=\"sk-estimator-id-1\" class=\"sk-toggleable__label sk-toggleable__label-arrow\">LinearRegression</label><div class=\"sk-toggleable__content\"><pre>LinearRegression()</pre></div></div></div></div></div>"
      ],
      "text/plain": [
       "LinearRegression()"
      ]
     },
     "execution_count": 20,
     "metadata": {},
     "output_type": "execute_result"
    }
   ],
   "source": [
    "# Fit the model\n",
    "reg.fit(X, y)"
   ]
  },
  {
   "cell_type": "code",
   "execution_count": 22,
   "metadata": {},
   "outputs": [
    {
     "data": {
      "text/plain": [
       "4.853052800266436"
      ]
     },
     "execution_count": 22,
     "metadata": {},
     "output_type": "execute_result"
    }
   ],
   "source": [
    "# Model intercept\n",
    "reg.intercept_"
   ]
  },
  {
   "cell_type": "code",
   "execution_count": 21,
   "metadata": {},
   "outputs": [
    {
     "data": {
      "text/plain": [
       "array([4.91154459e-05])"
      ]
     },
     "execution_count": 21,
     "metadata": {},
     "output_type": "execute_result"
    }
   ],
   "source": [
    "# Model coefficient\n",
    "reg.coef_"
   ]
  },
  {
   "cell_type": "markdown",
   "metadata": {},
   "source": [
    "### Prediction"
   ]
  },
  {
   "cell_type": "code",
   "execution_count": 23,
   "metadata": {},
   "outputs": [],
   "source": [
    "# Prediction for our data\n",
    "y_pred = reg.predict(X)"
   ]
  },
  {
   "cell_type": "code",
   "execution_count": 38,
   "metadata": {},
   "outputs": [
    {
     "data": {
      "text/plain": [
       "array([7.30882509])"
      ]
     },
     "execution_count": 38,
     "metadata": {},
     "output_type": "execute_result"
    }
   ],
   "source": [
    "# Make a prediction for a specific GDP value\n",
    "X_new = pd.DataFrame({'gdp_per_capita': [50000]})\n",
    "\n",
    "reg.predict(X_new)"
   ]
  },
  {
   "cell_type": "markdown",
   "metadata": {},
   "source": [
    "### Evaluation"
   ]
  },
  {
   "cell_type": "code",
   "execution_count": 30,
   "metadata": {},
   "outputs": [],
   "source": [
    "from sklearn.metrics import mean_squared_error\n",
    "from sklearn.metrics import mean_absolute_error"
   ]
  },
  {
   "cell_type": "code",
   "execution_count": 33,
   "metadata": {},
   "outputs": [
    {
     "data": {
      "text/plain": [
       "0.18075033705835142"
      ]
     },
     "execution_count": 33,
     "metadata": {},
     "output_type": "execute_result"
    }
   ],
   "source": [
    "# Mean squared error\n",
    "mean_squared_error(y, y_pred)"
   ]
  },
  {
   "cell_type": "code",
   "execution_count": 34,
   "metadata": {},
   "outputs": [
    {
     "data": {
      "text/plain": [
       "0.4251474297915388"
      ]
     },
     "execution_count": 34,
     "metadata": {},
     "output_type": "execute_result"
    }
   ],
   "source": [
    "# Root mean squared error\n",
    "mean_squared_error(y, y_pred, squared=False)"
   ]
  },
  {
   "cell_type": "code",
   "execution_count": 32,
   "metadata": {},
   "outputs": [
    {
     "data": {
      "text/plain": [
       "0.35530429427921734"
      ]
     },
     "execution_count": 32,
     "metadata": {},
     "output_type": "execute_result"
    }
   ],
   "source": [
    "mean_absolute_error(y, y_pred)"
   ]
  },
  {
   "cell_type": "markdown",
   "metadata": {},
   "source": [
    "## K-Nearest Neighbor Model"
   ]
  },
  {
   "cell_type": "code",
   "execution_count": 40,
   "metadata": {
    "tags": []
   },
   "outputs": [],
   "source": [
    "from sklearn.neighbors import KNeighborsRegressor"
   ]
  },
  {
   "cell_type": "code",
   "execution_count": 46,
   "metadata": {},
   "outputs": [],
   "source": [
    "reg2 = KNeighborsRegressor(n_neighbors=2)"
   ]
  },
  {
   "cell_type": "code",
   "execution_count": 47,
   "metadata": {},
   "outputs": [
    {
     "data": {
      "text/html": [
       "<style>#sk-container-id-3 {color: black;background-color: white;}#sk-container-id-3 pre{padding: 0;}#sk-container-id-3 div.sk-toggleable {background-color: white;}#sk-container-id-3 label.sk-toggleable__label {cursor: pointer;display: block;width: 100%;margin-bottom: 0;padding: 0.3em;box-sizing: border-box;text-align: center;}#sk-container-id-3 label.sk-toggleable__label-arrow:before {content: \"▸\";float: left;margin-right: 0.25em;color: #696969;}#sk-container-id-3 label.sk-toggleable__label-arrow:hover:before {color: black;}#sk-container-id-3 div.sk-estimator:hover label.sk-toggleable__label-arrow:before {color: black;}#sk-container-id-3 div.sk-toggleable__content {max-height: 0;max-width: 0;overflow: hidden;text-align: left;background-color: #f0f8ff;}#sk-container-id-3 div.sk-toggleable__content pre {margin: 0.2em;color: black;border-radius: 0.25em;background-color: #f0f8ff;}#sk-container-id-3 input.sk-toggleable__control:checked~div.sk-toggleable__content {max-height: 200px;max-width: 100%;overflow: auto;}#sk-container-id-3 input.sk-toggleable__control:checked~label.sk-toggleable__label-arrow:before {content: \"▾\";}#sk-container-id-3 div.sk-estimator input.sk-toggleable__control:checked~label.sk-toggleable__label {background-color: #d4ebff;}#sk-container-id-3 div.sk-label input.sk-toggleable__control:checked~label.sk-toggleable__label {background-color: #d4ebff;}#sk-container-id-3 input.sk-hidden--visually {border: 0;clip: rect(1px 1px 1px 1px);clip: rect(1px, 1px, 1px, 1px);height: 1px;margin: -1px;overflow: hidden;padding: 0;position: absolute;width: 1px;}#sk-container-id-3 div.sk-estimator {font-family: monospace;background-color: #f0f8ff;border: 1px dotted black;border-radius: 0.25em;box-sizing: border-box;margin-bottom: 0.5em;}#sk-container-id-3 div.sk-estimator:hover {background-color: #d4ebff;}#sk-container-id-3 div.sk-parallel-item::after {content: \"\";width: 100%;border-bottom: 1px solid gray;flex-grow: 1;}#sk-container-id-3 div.sk-label:hover label.sk-toggleable__label {background-color: #d4ebff;}#sk-container-id-3 div.sk-serial::before {content: \"\";position: absolute;border-left: 1px solid gray;box-sizing: border-box;top: 0;bottom: 0;left: 50%;z-index: 0;}#sk-container-id-3 div.sk-serial {display: flex;flex-direction: column;align-items: center;background-color: white;padding-right: 0.2em;padding-left: 0.2em;position: relative;}#sk-container-id-3 div.sk-item {position: relative;z-index: 1;}#sk-container-id-3 div.sk-parallel {display: flex;align-items: stretch;justify-content: center;background-color: white;position: relative;}#sk-container-id-3 div.sk-item::before, #sk-container-id-3 div.sk-parallel-item::before {content: \"\";position: absolute;border-left: 1px solid gray;box-sizing: border-box;top: 0;bottom: 0;left: 50%;z-index: -1;}#sk-container-id-3 div.sk-parallel-item {display: flex;flex-direction: column;z-index: 1;position: relative;background-color: white;}#sk-container-id-3 div.sk-parallel-item:first-child::after {align-self: flex-end;width: 50%;}#sk-container-id-3 div.sk-parallel-item:last-child::after {align-self: flex-start;width: 50%;}#sk-container-id-3 div.sk-parallel-item:only-child::after {width: 0;}#sk-container-id-3 div.sk-dashed-wrapped {border: 1px dashed gray;margin: 0 0.4em 0.5em 0.4em;box-sizing: border-box;padding-bottom: 0.4em;background-color: white;}#sk-container-id-3 div.sk-label label {font-family: monospace;font-weight: bold;display: inline-block;line-height: 1.2em;}#sk-container-id-3 div.sk-label-container {text-align: center;}#sk-container-id-3 div.sk-container {/* jupyter's `normalize.less` sets `[hidden] { display: none; }` but bootstrap.min.css set `[hidden] { display: none !important; }` so we also need the `!important` here to be able to override the default hidden behavior on the sphinx rendered scikit-learn.org. See: https://github.com/scikit-learn/scikit-learn/issues/21755 */display: inline-block !important;position: relative;}#sk-container-id-3 div.sk-text-repr-fallback {display: none;}</style><div id=\"sk-container-id-3\" class=\"sk-top-container\"><div class=\"sk-text-repr-fallback\"><pre>KNeighborsRegressor(n_neighbors=2)</pre><b>In a Jupyter environment, please rerun this cell to show the HTML representation or trust the notebook. <br />On GitHub, the HTML representation is unable to render, please try loading this page with nbviewer.org.</b></div><div class=\"sk-container\" hidden><div class=\"sk-item\"><div class=\"sk-estimator sk-toggleable\"><input class=\"sk-toggleable__control sk-hidden--visually\" id=\"sk-estimator-id-3\" type=\"checkbox\" checked><label for=\"sk-estimator-id-3\" class=\"sk-toggleable__label sk-toggleable__label-arrow\">KNeighborsRegressor</label><div class=\"sk-toggleable__content\"><pre>KNeighborsRegressor(n_neighbors=2)</pre></div></div></div></div></div>"
      ],
      "text/plain": [
       "KNeighborsRegressor(n_neighbors=2)"
      ]
     },
     "execution_count": 47,
     "metadata": {},
     "output_type": "execute_result"
    }
   ],
   "source": [
    "reg2.fit(X, y)"
   ]
  },
  {
   "cell_type": "code",
   "execution_count": 48,
   "metadata": {},
   "outputs": [],
   "source": [
    "y_pred2 = reg2.predict(X)"
   ]
  },
  {
   "cell_type": "code",
   "execution_count": 49,
   "metadata": {},
   "outputs": [
    {
     "data": {
      "text/plain": [
       "array([7.35])"
      ]
     },
     "execution_count": 49,
     "metadata": {},
     "output_type": "execute_result"
    }
   ],
   "source": [
    "reg2.predict(X_new) "
   ]
  },
  {
   "cell_type": "code",
   "execution_count": 50,
   "metadata": {},
   "outputs": [
    {
     "data": {
      "text/plain": [
       "0.06181034482758619"
      ]
     },
     "execution_count": 50,
     "metadata": {},
     "output_type": "execute_result"
    }
   ],
   "source": [
    "mean_squared_error(y, y_pred2)"
   ]
  },
  {
   "cell_type": "code",
   "execution_count": null,
   "metadata": {},
   "outputs": [],
   "source": []
  },
  {
   "cell_type": "code",
   "execution_count": 51,
   "metadata": {},
   "outputs": [
    {
     "data": {
      "text/plain": [
       "0.20517241379310344"
      ]
     },
     "execution_count": 51,
     "metadata": {},
     "output_type": "execute_result"
    }
   ],
   "source": [
    "mean_absolute_error(y, y_pred2)"
   ]
  }
 ],
 "metadata": {
  "kernelspec": {
   "display_name": "Python 3.9.12 ('base')",
   "language": "python",
   "name": "python3"
  },
  "language_info": {
   "codemirror_mode": {
    "name": "ipython",
    "version": 3
   },
   "file_extension": ".py",
   "mimetype": "text/x-python",
   "name": "python",
   "nbconvert_exporter": "python",
   "pygments_lexer": "ipython3",
   "version": "3.9.12"
  },
  "nav_menu": {},
  "toc": {
   "navigate_menu": true,
   "number_sections": true,
   "sideBar": true,
   "threshold": 6,
   "toc_cell": false,
   "toc_section_display": "block",
   "toc_window_display": true
  },
  "toc_position": {
   "height": "616px",
   "left": "0px",
   "right": "20px",
   "top": "106px",
   "width": "213px"
  },
  "vscode": {
   "interpreter": {
    "hash": "463226f144cc21b006ce6927bfc93dd00694e52c8bc6857abb6e555b983749e9"
   }
  }
 },
 "nbformat": 4,
 "nbformat_minor": 1
}
