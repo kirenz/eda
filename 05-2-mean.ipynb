{
 "cells": [
  {
   "cell_type": "markdown",
   "source": [
    "# Exploring numerical variables\n",
    "\n",
    "## Dot plots and the mean"
   ],
   "metadata": {
    "slideshow": {
     "slide_type": "slide"
    }
   }
  },
  {
   "cell_type": "markdown",
   "source": [
    "## Import data"
   ],
   "metadata": {
    "slideshow": {
     "slide_type": "slide"
    }
   }
  },
  {
   "cell_type": "code",
   "execution_count": 88,
   "source": [
    "import pandas as pd\n",
    "\n",
    "ROOT = \"https://raw.githubusercontent.com/kirenz/modern-statistics/main/data/\"\n",
    "DATA = \"loan50.csv\"\n",
    "\n",
    "df = pd.read_csv(ROOT + DATA)\n",
    "\n",
    "df[\"interest_rate\"] = df[\"interest_rate\"].astype(\"int64\")"
   ],
   "outputs": [],
   "metadata": {
    "slideshow": {
     "slide_type": "fragment"
    }
   }
  },
  {
   "cell_type": "code",
   "execution_count": 7,
   "source": [
    "%matplotlib inline\n",
    "%config InlineBackend.figure_formats = ['svg']\n",
    "\n",
    "import seaborn as sns \n",
    "import matplotlib.pyplot as plt\n",
    "import plotly.express as px\n",
    "\n",
    "# Custom colors\n",
    "blue = \"#3F83F4\"\n",
    "blue_dark = \"#062089\"\n",
    "blue_light = \"#8DC0F6\"\n",
    "blue_lighter = \"#BBE4FA\"\n",
    "grey = \"#9C9C9C\"\n",
    "grey_dark = \"#777777\"\n",
    "grey_light = \"#B2B2B2\"\n",
    "orange = \"#EF8733\"\n",
    "\n",
    "colors_blue = [blue, blue_light]"
   ],
   "outputs": [],
   "metadata": {
    "slideshow": {
     "slide_type": "slide"
    }
   }
  },
  {
   "cell_type": "markdown",
   "source": [
    "## Dot plot\n",
    "\n",
    "A dot plot of interest rate for the loan50 dataset. The rates have been rounded and the distribution’s mean is shown as a red triangle."
   ],
   "metadata": {
    "slideshow": {
     "slide_type": "slide"
    }
   }
  },
  {
   "cell_type": "code",
   "execution_count": 89,
   "source": [
    "import numpy as np\n",
    "\n",
    "# Prepara data\n",
    "mean = df[\"interest_rate\"].mean()\n",
    "interest_rate = df[\"interest_rate\"]\n",
    "values, counts = np.unique(interest_rate, return_counts=True)\n",
    "\n",
    "# Create dot plot\n",
    "fig, ax = plt.subplots(figsize=(6, 3))\n",
    "for value, count in zip(values, counts):\n",
    "    ax.plot([value]*count, list(range(count)), 'o', ms=10, linestyle='', color=blue)\n",
    "for spine in ['top', 'right', 'left']:\n",
    "    ax.spines[spine].set_visible(False)\n",
    "# Define optics\n",
    "ax.yaxis.set_visible(False)\n",
    "ax.set_ylim(-1, max(counts))\n",
    "ax.spines['bottom'].set_color(grey)\n",
    "ax.set_xticks(range(min(values), max(values)+1))\n",
    "ax.tick_params(axis='x', length=0, pad=8, labelsize=8, colors=grey)\n",
    "# Anotation\n",
    "ax.plot(mean, 0, 'o', ms=10, color=orange)\n",
    "ax.annotate(text='Mean', xy=(mean-0.5, 3), color=orange)\n",
    "\n",
    "plt.show();"
   ],
   "outputs": [
    {
     "output_type": "display_data",
     "data": {
      "text/plain": [
       "<Figure size 432x216 with 1 Axes>"
      ],
      "image/svg+xml": "<?xml version=\"1.0\" encoding=\"utf-8\" standalone=\"no\"?>\n<!DOCTYPE svg PUBLIC \"-//W3C//DTD SVG 1.1//EN\"\n  \"http://www.w3.org/Graphics/SVG/1.1/DTD/svg11.dtd\">\n<svg height=\"193.2225pt\" version=\"1.1\" viewBox=\"0 0 349.2 193.2225\" width=\"349.2pt\" xmlns=\"http://www.w3.org/2000/svg\" xmlns:xlink=\"http://www.w3.org/1999/xlink\">\n <metadata>\n  <rdf:RDF xmlns:cc=\"http://creativecommons.org/ns#\" xmlns:dc=\"http://purl.org/dc/elements/1.1/\" xmlns:rdf=\"http://www.w3.org/1999/02/22-rdf-syntax-ns#\">\n   <cc:Work>\n    <dc:type rdf:resource=\"http://purl.org/dc/dcmitype/StillImage\"/>\n    <dc:date>2021-08-21T12:39:23.101304</dc:date>\n    <dc:format>image/svg+xml</dc:format>\n    <dc:creator>\n     <cc:Agent>\n      <dc:title>Matplotlib v3.4.2, https://matplotlib.org/</dc:title>\n     </cc:Agent>\n    </dc:creator>\n   </cc:Work>\n  </rdf:RDF>\n </metadata>\n <defs>\n  <style type=\"text/css\">*{stroke-linecap:butt;stroke-linejoin:round;}</style>\n </defs>\n <g id=\"figure_1\">\n  <g id=\"patch_1\">\n   <path d=\"M 0 193.2225 \nL 349.2 193.2225 \nL 349.2 0 \nL 0 0 \nz\n\" style=\"fill:none;\"/>\n  </g>\n  <g id=\"axes_1\">\n   <g id=\"patch_2\">\n    <path d=\"M 7.2 170.28 \nL 342 170.28 \nL 342 7.2 \nL 7.2 7.2 \nz\n\" style=\"fill:#ffffff;\"/>\n   </g>\n   <g id=\"matplotlib.axis_1\">\n    <g id=\"xtick_1\">\n     <g id=\"line2d_1\"/>\n     <g id=\"text_1\">\n      <!-- 5 -->\n      <g style=\"fill:#9c9c9c;\" transform=\"translate(19.873182 184.35875)scale(0.08 -0.08)\">\n       <defs>\n        <path d=\"M 691 4666 \nL 3169 4666 \nL 3169 4134 \nL 1269 4134 \nL 1269 2991 \nQ 1406 3038 1543 3061 \nQ 1681 3084 1819 3084 \nQ 2600 3084 3056 2656 \nQ 3513 2228 3513 1497 \nQ 3513 744 3044 326 \nQ 2575 -91 1722 -91 \nQ 1428 -91 1123 -41 \nQ 819 9 494 109 \nL 494 744 \nQ 775 591 1075 516 \nQ 1375 441 1709 441 \nQ 2250 441 2565 725 \nQ 2881 1009 2881 1497 \nQ 2881 1984 2565 2268 \nQ 2250 2553 1709 2553 \nQ 1456 2553 1204 2497 \nQ 953 2441 691 2322 \nL 691 4666 \nz\n\" id=\"DejaVuSans-35\" transform=\"scale(0.015625)\"/>\n       </defs>\n       <use xlink:href=\"#DejaVuSans-35\"/>\n      </g>\n     </g>\n    </g>\n    <g id=\"xtick_2\">\n     <g id=\"line2d_2\"/>\n     <g id=\"text_2\">\n      <!-- 6 -->\n      <g style=\"fill:#9c9c9c;\" transform=\"translate(34.366688 184.35875)scale(0.08 -0.08)\">\n       <defs>\n        <path d=\"M 2113 2584 \nQ 1688 2584 1439 2293 \nQ 1191 2003 1191 1497 \nQ 1191 994 1439 701 \nQ 1688 409 2113 409 \nQ 2538 409 2786 701 \nQ 3034 994 3034 1497 \nQ 3034 2003 2786 2293 \nQ 2538 2584 2113 2584 \nz\nM 3366 4563 \nL 3366 3988 \nQ 3128 4100 2886 4159 \nQ 2644 4219 2406 4219 \nQ 1781 4219 1451 3797 \nQ 1122 3375 1075 2522 \nQ 1259 2794 1537 2939 \nQ 1816 3084 2150 3084 \nQ 2853 3084 3261 2657 \nQ 3669 2231 3669 1497 \nQ 3669 778 3244 343 \nQ 2819 -91 2113 -91 \nQ 1303 -91 875 529 \nQ 447 1150 447 2328 \nQ 447 3434 972 4092 \nQ 1497 4750 2381 4750 \nQ 2619 4750 2861 4703 \nQ 3103 4656 3366 4563 \nz\n\" id=\"DejaVuSans-36\" transform=\"scale(0.015625)\"/>\n       </defs>\n       <use xlink:href=\"#DejaVuSans-36\"/>\n      </g>\n     </g>\n    </g>\n    <g id=\"xtick_3\">\n     <g id=\"line2d_3\"/>\n     <g id=\"text_3\">\n      <!-- 7 -->\n      <g style=\"fill:#9c9c9c;\" transform=\"translate(48.860195 184.35875)scale(0.08 -0.08)\">\n       <defs>\n        <path d=\"M 525 4666 \nL 3525 4666 \nL 3525 4397 \nL 1831 0 \nL 1172 0 \nL 2766 4134 \nL 525 4134 \nL 525 4666 \nz\n\" id=\"DejaVuSans-37\" transform=\"scale(0.015625)\"/>\n       </defs>\n       <use xlink:href=\"#DejaVuSans-37\"/>\n      </g>\n     </g>\n    </g>\n    <g id=\"xtick_4\">\n     <g id=\"line2d_4\"/>\n     <g id=\"text_4\">\n      <!-- 8 -->\n      <g style=\"fill:#9c9c9c;\" transform=\"translate(63.353701 184.35875)scale(0.08 -0.08)\">\n       <defs>\n        <path d=\"M 2034 2216 \nQ 1584 2216 1326 1975 \nQ 1069 1734 1069 1313 \nQ 1069 891 1326 650 \nQ 1584 409 2034 409 \nQ 2484 409 2743 651 \nQ 3003 894 3003 1313 \nQ 3003 1734 2745 1975 \nQ 2488 2216 2034 2216 \nz\nM 1403 2484 \nQ 997 2584 770 2862 \nQ 544 3141 544 3541 \nQ 544 4100 942 4425 \nQ 1341 4750 2034 4750 \nQ 2731 4750 3128 4425 \nQ 3525 4100 3525 3541 \nQ 3525 3141 3298 2862 \nQ 3072 2584 2669 2484 \nQ 3125 2378 3379 2068 \nQ 3634 1759 3634 1313 \nQ 3634 634 3220 271 \nQ 2806 -91 2034 -91 \nQ 1263 -91 848 271 \nQ 434 634 434 1313 \nQ 434 1759 690 2068 \nQ 947 2378 1403 2484 \nz\nM 1172 3481 \nQ 1172 3119 1398 2916 \nQ 1625 2713 2034 2713 \nQ 2441 2713 2670 2916 \nQ 2900 3119 2900 3481 \nQ 2900 3844 2670 4047 \nQ 2441 4250 2034 4250 \nQ 1625 4250 1398 4047 \nQ 1172 3844 1172 3481 \nz\n\" id=\"DejaVuSans-38\" transform=\"scale(0.015625)\"/>\n       </defs>\n       <use xlink:href=\"#DejaVuSans-38\"/>\n      </g>\n     </g>\n    </g>\n    <g id=\"xtick_5\">\n     <g id=\"line2d_5\"/>\n     <g id=\"text_5\">\n      <!-- 9 -->\n      <g style=\"fill:#9c9c9c;\" transform=\"translate(77.847208 184.35875)scale(0.08 -0.08)\">\n       <defs>\n        <path d=\"M 703 97 \nL 703 672 \nQ 941 559 1184 500 \nQ 1428 441 1663 441 \nQ 2288 441 2617 861 \nQ 2947 1281 2994 2138 \nQ 2813 1869 2534 1725 \nQ 2256 1581 1919 1581 \nQ 1219 1581 811 2004 \nQ 403 2428 403 3163 \nQ 403 3881 828 4315 \nQ 1253 4750 1959 4750 \nQ 2769 4750 3195 4129 \nQ 3622 3509 3622 2328 \nQ 3622 1225 3098 567 \nQ 2575 -91 1691 -91 \nQ 1453 -91 1209 -44 \nQ 966 3 703 97 \nz\nM 1959 2075 \nQ 2384 2075 2632 2365 \nQ 2881 2656 2881 3163 \nQ 2881 3666 2632 3958 \nQ 2384 4250 1959 4250 \nQ 1534 4250 1286 3958 \nQ 1038 3666 1038 3163 \nQ 1038 2656 1286 2365 \nQ 1534 2075 1959 2075 \nz\n\" id=\"DejaVuSans-39\" transform=\"scale(0.015625)\"/>\n       </defs>\n       <use xlink:href=\"#DejaVuSans-39\"/>\n      </g>\n     </g>\n    </g>\n    <g id=\"xtick_6\">\n     <g id=\"line2d_6\"/>\n     <g id=\"text_6\">\n      <!-- 10 -->\n      <g style=\"fill:#9c9c9c;\" transform=\"translate(89.795714 184.35875)scale(0.08 -0.08)\">\n       <defs>\n        <path d=\"M 794 531 \nL 1825 531 \nL 1825 4091 \nL 703 3866 \nL 703 4441 \nL 1819 4666 \nL 2450 4666 \nL 2450 531 \nL 3481 531 \nL 3481 0 \nL 794 0 \nL 794 531 \nz\n\" id=\"DejaVuSans-31\" transform=\"scale(0.015625)\"/>\n        <path d=\"M 2034 4250 \nQ 1547 4250 1301 3770 \nQ 1056 3291 1056 2328 \nQ 1056 1369 1301 889 \nQ 1547 409 2034 409 \nQ 2525 409 2770 889 \nQ 3016 1369 3016 2328 \nQ 3016 3291 2770 3770 \nQ 2525 4250 2034 4250 \nz\nM 2034 4750 \nQ 2819 4750 3233 4129 \nQ 3647 3509 3647 2328 \nQ 3647 1150 3233 529 \nQ 2819 -91 2034 -91 \nQ 1250 -91 836 529 \nQ 422 1150 422 2328 \nQ 422 3509 836 4129 \nQ 1250 4750 2034 4750 \nz\n\" id=\"DejaVuSans-30\" transform=\"scale(0.015625)\"/>\n       </defs>\n       <use xlink:href=\"#DejaVuSans-31\"/>\n       <use x=\"63.623047\" xlink:href=\"#DejaVuSans-30\"/>\n      </g>\n     </g>\n    </g>\n    <g id=\"xtick_7\">\n     <g id=\"line2d_7\"/>\n     <g id=\"text_7\">\n      <!-- 11 -->\n      <g style=\"fill:#9c9c9c;\" transform=\"translate(104.289221 184.35875)scale(0.08 -0.08)\">\n       <use xlink:href=\"#DejaVuSans-31\"/>\n       <use x=\"63.623047\" xlink:href=\"#DejaVuSans-31\"/>\n      </g>\n     </g>\n    </g>\n    <g id=\"xtick_8\">\n     <g id=\"line2d_8\"/>\n     <g id=\"text_8\">\n      <!-- 12 -->\n      <g style=\"fill:#9c9c9c;\" transform=\"translate(118.782727 184.35875)scale(0.08 -0.08)\">\n       <defs>\n        <path d=\"M 1228 531 \nL 3431 531 \nL 3431 0 \nL 469 0 \nL 469 531 \nQ 828 903 1448 1529 \nQ 2069 2156 2228 2338 \nQ 2531 2678 2651 2914 \nQ 2772 3150 2772 3378 \nQ 2772 3750 2511 3984 \nQ 2250 4219 1831 4219 \nQ 1534 4219 1204 4116 \nQ 875 4013 500 3803 \nL 500 4441 \nQ 881 4594 1212 4672 \nQ 1544 4750 1819 4750 \nQ 2544 4750 2975 4387 \nQ 3406 4025 3406 3419 \nQ 3406 3131 3298 2873 \nQ 3191 2616 2906 2266 \nQ 2828 2175 2409 1742 \nQ 1991 1309 1228 531 \nz\n\" id=\"DejaVuSans-32\" transform=\"scale(0.015625)\"/>\n       </defs>\n       <use xlink:href=\"#DejaVuSans-31\"/>\n       <use x=\"63.623047\" xlink:href=\"#DejaVuSans-32\"/>\n      </g>\n     </g>\n    </g>\n    <g id=\"xtick_9\">\n     <g id=\"line2d_9\"/>\n     <g id=\"text_9\">\n      <!-- 13 -->\n      <g style=\"fill:#9c9c9c;\" transform=\"translate(133.276234 184.35875)scale(0.08 -0.08)\">\n       <defs>\n        <path d=\"M 2597 2516 \nQ 3050 2419 3304 2112 \nQ 3559 1806 3559 1356 \nQ 3559 666 3084 287 \nQ 2609 -91 1734 -91 \nQ 1441 -91 1130 -33 \nQ 819 25 488 141 \nL 488 750 \nQ 750 597 1062 519 \nQ 1375 441 1716 441 \nQ 2309 441 2620 675 \nQ 2931 909 2931 1356 \nQ 2931 1769 2642 2001 \nQ 2353 2234 1838 2234 \nL 1294 2234 \nL 1294 2753 \nL 1863 2753 \nQ 2328 2753 2575 2939 \nQ 2822 3125 2822 3475 \nQ 2822 3834 2567 4026 \nQ 2313 4219 1838 4219 \nQ 1578 4219 1281 4162 \nQ 984 4106 628 3988 \nL 628 4550 \nQ 988 4650 1302 4700 \nQ 1616 4750 1894 4750 \nQ 2613 4750 3031 4423 \nQ 3450 4097 3450 3541 \nQ 3450 3153 3228 2886 \nQ 3006 2619 2597 2516 \nz\n\" id=\"DejaVuSans-33\" transform=\"scale(0.015625)\"/>\n       </defs>\n       <use xlink:href=\"#DejaVuSans-31\"/>\n       <use x=\"63.623047\" xlink:href=\"#DejaVuSans-33\"/>\n      </g>\n     </g>\n    </g>\n    <g id=\"xtick_10\">\n     <g id=\"line2d_10\"/>\n     <g id=\"text_10\">\n      <!-- 14 -->\n      <g style=\"fill:#9c9c9c;\" transform=\"translate(147.76974 184.35875)scale(0.08 -0.08)\">\n       <defs>\n        <path d=\"M 2419 4116 \nL 825 1625 \nL 2419 1625 \nL 2419 4116 \nz\nM 2253 4666 \nL 3047 4666 \nL 3047 1625 \nL 3713 1625 \nL 3713 1100 \nL 3047 1100 \nL 3047 0 \nL 2419 0 \nL 2419 1100 \nL 313 1100 \nL 313 1709 \nL 2253 4666 \nz\n\" id=\"DejaVuSans-34\" transform=\"scale(0.015625)\"/>\n       </defs>\n       <use xlink:href=\"#DejaVuSans-31\"/>\n       <use x=\"63.623047\" xlink:href=\"#DejaVuSans-34\"/>\n      </g>\n     </g>\n    </g>\n    <g id=\"xtick_11\">\n     <g id=\"line2d_11\"/>\n     <g id=\"text_11\">\n      <!-- 15 -->\n      <g style=\"fill:#9c9c9c;\" transform=\"translate(162.263247 184.35875)scale(0.08 -0.08)\">\n       <use xlink:href=\"#DejaVuSans-31\"/>\n       <use x=\"63.623047\" xlink:href=\"#DejaVuSans-35\"/>\n      </g>\n     </g>\n    </g>\n    <g id=\"xtick_12\">\n     <g id=\"line2d_12\"/>\n     <g id=\"text_12\">\n      <!-- 16 -->\n      <g style=\"fill:#9c9c9c;\" transform=\"translate(176.756753 184.35875)scale(0.08 -0.08)\">\n       <use xlink:href=\"#DejaVuSans-31\"/>\n       <use x=\"63.623047\" xlink:href=\"#DejaVuSans-36\"/>\n      </g>\n     </g>\n    </g>\n    <g id=\"xtick_13\">\n     <g id=\"line2d_13\"/>\n     <g id=\"text_13\">\n      <!-- 17 -->\n      <g style=\"fill:#9c9c9c;\" transform=\"translate(191.25026 184.35875)scale(0.08 -0.08)\">\n       <use xlink:href=\"#DejaVuSans-31\"/>\n       <use x=\"63.623047\" xlink:href=\"#DejaVuSans-37\"/>\n      </g>\n     </g>\n    </g>\n    <g id=\"xtick_14\">\n     <g id=\"line2d_14\"/>\n     <g id=\"text_14\">\n      <!-- 18 -->\n      <g style=\"fill:#9c9c9c;\" transform=\"translate(205.743766 184.35875)scale(0.08 -0.08)\">\n       <use xlink:href=\"#DejaVuSans-31\"/>\n       <use x=\"63.623047\" xlink:href=\"#DejaVuSans-38\"/>\n      </g>\n     </g>\n    </g>\n    <g id=\"xtick_15\">\n     <g id=\"line2d_15\"/>\n     <g id=\"text_15\">\n      <!-- 19 -->\n      <g style=\"fill:#9c9c9c;\" transform=\"translate(220.237273 184.35875)scale(0.08 -0.08)\">\n       <use xlink:href=\"#DejaVuSans-31\"/>\n       <use x=\"63.623047\" xlink:href=\"#DejaVuSans-39\"/>\n      </g>\n     </g>\n    </g>\n    <g id=\"xtick_16\">\n     <g id=\"line2d_16\"/>\n     <g id=\"text_16\">\n      <!-- 20 -->\n      <g style=\"fill:#9c9c9c;\" transform=\"translate(234.730779 184.35875)scale(0.08 -0.08)\">\n       <use xlink:href=\"#DejaVuSans-32\"/>\n       <use x=\"63.623047\" xlink:href=\"#DejaVuSans-30\"/>\n      </g>\n     </g>\n    </g>\n    <g id=\"xtick_17\">\n     <g id=\"line2d_17\"/>\n     <g id=\"text_17\">\n      <!-- 21 -->\n      <g style=\"fill:#9c9c9c;\" transform=\"translate(249.224286 184.35875)scale(0.08 -0.08)\">\n       <use xlink:href=\"#DejaVuSans-32\"/>\n       <use x=\"63.623047\" xlink:href=\"#DejaVuSans-31\"/>\n      </g>\n     </g>\n    </g>\n    <g id=\"xtick_18\">\n     <g id=\"line2d_18\"/>\n     <g id=\"text_18\">\n      <!-- 22 -->\n      <g style=\"fill:#9c9c9c;\" transform=\"translate(263.717792 184.35875)scale(0.08 -0.08)\">\n       <use xlink:href=\"#DejaVuSans-32\"/>\n       <use x=\"63.623047\" xlink:href=\"#DejaVuSans-32\"/>\n      </g>\n     </g>\n    </g>\n    <g id=\"xtick_19\">\n     <g id=\"line2d_19\"/>\n     <g id=\"text_19\">\n      <!-- 23 -->\n      <g style=\"fill:#9c9c9c;\" transform=\"translate(278.211299 184.35875)scale(0.08 -0.08)\">\n       <use xlink:href=\"#DejaVuSans-32\"/>\n       <use x=\"63.623047\" xlink:href=\"#DejaVuSans-33\"/>\n      </g>\n     </g>\n    </g>\n    <g id=\"xtick_20\">\n     <g id=\"line2d_20\"/>\n     <g id=\"text_20\">\n      <!-- 24 -->\n      <g style=\"fill:#9c9c9c;\" transform=\"translate(292.704805 184.35875)scale(0.08 -0.08)\">\n       <use xlink:href=\"#DejaVuSans-32\"/>\n       <use x=\"63.623047\" xlink:href=\"#DejaVuSans-34\"/>\n      </g>\n     </g>\n    </g>\n    <g id=\"xtick_21\">\n     <g id=\"line2d_21\"/>\n     <g id=\"text_21\">\n      <!-- 25 -->\n      <g style=\"fill:#9c9c9c;\" transform=\"translate(307.198312 184.35875)scale(0.08 -0.08)\">\n       <use xlink:href=\"#DejaVuSans-32\"/>\n       <use x=\"63.623047\" xlink:href=\"#DejaVuSans-35\"/>\n      </g>\n     </g>\n    </g>\n    <g id=\"xtick_22\">\n     <g id=\"line2d_22\"/>\n     <g id=\"text_22\">\n      <!-- 26 -->\n      <g style=\"fill:#9c9c9c;\" transform=\"translate(321.691818 184.35875)scale(0.08 -0.08)\">\n       <use xlink:href=\"#DejaVuSans-32\"/>\n       <use x=\"63.623047\" xlink:href=\"#DejaVuSans-36\"/>\n      </g>\n     </g>\n    </g>\n   </g>\n   <g id=\"line2d_23\">\n    <defs>\n     <path d=\"M 0 5 \nC 1.326016 5 2.597899 4.473168 3.535534 3.535534 \nC 4.473168 2.597899 5 1.326016 5 0 \nC 5 -1.326016 4.473168 -2.597899 3.535534 -3.535534 \nC 2.597899 -4.473168 1.326016 -5 0 -5 \nC -1.326016 -5 -2.597899 -4.473168 -3.535534 -3.535534 \nC -4.473168 -2.597899 -5 -1.326016 -5 0 \nC -5 1.326016 -4.473168 2.597899 -3.535534 3.535534 \nC -2.597899 4.473168 -1.326016 5 0 5 \nz\n\" id=\"ma02f67e60b\" style=\"stroke:#3f83f4;\"/>\n    </defs>\n    <g clip-path=\"url(#p755219eb73)\">\n     <use style=\"fill:#3f83f4;stroke:#3f83f4;\" x=\"22.418182\" xlink:href=\"#ma02f67e60b\" y=\"156.69\"/>\n     <use style=\"fill:#3f83f4;stroke:#3f83f4;\" x=\"22.418182\" xlink:href=\"#ma02f67e60b\" y=\"143.1\"/>\n     <use style=\"fill:#3f83f4;stroke:#3f83f4;\" x=\"22.418182\" xlink:href=\"#ma02f67e60b\" y=\"129.51\"/>\n    </g>\n   </g>\n   <g id=\"line2d_24\">\n    <g clip-path=\"url(#p755219eb73)\">\n     <use style=\"fill:#3f83f4;stroke:#3f83f4;\" x=\"36.911688\" xlink:href=\"#ma02f67e60b\" y=\"156.69\"/>\n     <use style=\"fill:#3f83f4;stroke:#3f83f4;\" x=\"36.911688\" xlink:href=\"#ma02f67e60b\" y=\"143.1\"/>\n     <use style=\"fill:#3f83f4;stroke:#3f83f4;\" x=\"36.911688\" xlink:href=\"#ma02f67e60b\" y=\"129.51\"/>\n     <use style=\"fill:#3f83f4;stroke:#3f83f4;\" x=\"36.911688\" xlink:href=\"#ma02f67e60b\" y=\"115.92\"/>\n     <use style=\"fill:#3f83f4;stroke:#3f83f4;\" x=\"36.911688\" xlink:href=\"#ma02f67e60b\" y=\"102.33\"/>\n    </g>\n   </g>\n   <g id=\"line2d_25\">\n    <g clip-path=\"url(#p755219eb73)\">\n     <use style=\"fill:#3f83f4;stroke:#3f83f4;\" x=\"51.405195\" xlink:href=\"#ma02f67e60b\" y=\"156.69\"/>\n     <use style=\"fill:#3f83f4;stroke:#3f83f4;\" x=\"51.405195\" xlink:href=\"#ma02f67e60b\" y=\"143.1\"/>\n     <use style=\"fill:#3f83f4;stroke:#3f83f4;\" x=\"51.405195\" xlink:href=\"#ma02f67e60b\" y=\"129.51\"/>\n     <use style=\"fill:#3f83f4;stroke:#3f83f4;\" x=\"51.405195\" xlink:href=\"#ma02f67e60b\" y=\"115.92\"/>\n     <use style=\"fill:#3f83f4;stroke:#3f83f4;\" x=\"51.405195\" xlink:href=\"#ma02f67e60b\" y=\"102.33\"/>\n     <use style=\"fill:#3f83f4;stroke:#3f83f4;\" x=\"51.405195\" xlink:href=\"#ma02f67e60b\" y=\"88.74\"/>\n     <use style=\"fill:#3f83f4;stroke:#3f83f4;\" x=\"51.405195\" xlink:href=\"#ma02f67e60b\" y=\"75.15\"/>\n    </g>\n   </g>\n   <g id=\"line2d_26\">\n    <g clip-path=\"url(#p755219eb73)\">\n     <use style=\"fill:#3f83f4;stroke:#3f83f4;\" x=\"80.392208\" xlink:href=\"#ma02f67e60b\" y=\"156.69\"/>\n     <use style=\"fill:#3f83f4;stroke:#3f83f4;\" x=\"80.392208\" xlink:href=\"#ma02f67e60b\" y=\"143.1\"/>\n     <use style=\"fill:#3f83f4;stroke:#3f83f4;\" x=\"80.392208\" xlink:href=\"#ma02f67e60b\" y=\"129.51\"/>\n     <use style=\"fill:#3f83f4;stroke:#3f83f4;\" x=\"80.392208\" xlink:href=\"#ma02f67e60b\" y=\"115.92\"/>\n     <use style=\"fill:#3f83f4;stroke:#3f83f4;\" x=\"80.392208\" xlink:href=\"#ma02f67e60b\" y=\"102.33\"/>\n     <use style=\"fill:#3f83f4;stroke:#3f83f4;\" x=\"80.392208\" xlink:href=\"#ma02f67e60b\" y=\"88.74\"/>\n     <use style=\"fill:#3f83f4;stroke:#3f83f4;\" x=\"80.392208\" xlink:href=\"#ma02f67e60b\" y=\"75.15\"/>\n     <use style=\"fill:#3f83f4;stroke:#3f83f4;\" x=\"80.392208\" xlink:href=\"#ma02f67e60b\" y=\"61.56\"/>\n     <use style=\"fill:#3f83f4;stroke:#3f83f4;\" x=\"80.392208\" xlink:href=\"#ma02f67e60b\" y=\"47.97\"/>\n     <use style=\"fill:#3f83f4;stroke:#3f83f4;\" x=\"80.392208\" xlink:href=\"#ma02f67e60b\" y=\"34.38\"/>\n     <use style=\"fill:#3f83f4;stroke:#3f83f4;\" x=\"80.392208\" xlink:href=\"#ma02f67e60b\" y=\"20.79\"/>\n    </g>\n   </g>\n   <g id=\"line2d_27\">\n    <g clip-path=\"url(#p755219eb73)\">\n     <use style=\"fill:#3f83f4;stroke:#3f83f4;\" x=\"94.885714\" xlink:href=\"#ma02f67e60b\" y=\"156.69\"/>\n     <use style=\"fill:#3f83f4;stroke:#3f83f4;\" x=\"94.885714\" xlink:href=\"#ma02f67e60b\" y=\"143.1\"/>\n     <use style=\"fill:#3f83f4;stroke:#3f83f4;\" x=\"94.885714\" xlink:href=\"#ma02f67e60b\" y=\"129.51\"/>\n     <use style=\"fill:#3f83f4;stroke:#3f83f4;\" x=\"94.885714\" xlink:href=\"#ma02f67e60b\" y=\"115.92\"/>\n     <use style=\"fill:#3f83f4;stroke:#3f83f4;\" x=\"94.885714\" xlink:href=\"#ma02f67e60b\" y=\"102.33\"/>\n     <use style=\"fill:#3f83f4;stroke:#3f83f4;\" x=\"94.885714\" xlink:href=\"#ma02f67e60b\" y=\"88.74\"/>\n     <use style=\"fill:#3f83f4;stroke:#3f83f4;\" x=\"94.885714\" xlink:href=\"#ma02f67e60b\" y=\"75.15\"/>\n    </g>\n   </g>\n   <g id=\"line2d_28\">\n    <g clip-path=\"url(#p755219eb73)\">\n     <use style=\"fill:#3f83f4;stroke:#3f83f4;\" x=\"109.379221\" xlink:href=\"#ma02f67e60b\" y=\"156.69\"/>\n    </g>\n   </g>\n   <g id=\"line2d_29\">\n    <g clip-path=\"url(#p755219eb73)\">\n     <use style=\"fill:#3f83f4;stroke:#3f83f4;\" x=\"123.872727\" xlink:href=\"#ma02f67e60b\" y=\"156.69\"/>\n     <use style=\"fill:#3f83f4;stroke:#3f83f4;\" x=\"123.872727\" xlink:href=\"#ma02f67e60b\" y=\"143.1\"/>\n     <use style=\"fill:#3f83f4;stroke:#3f83f4;\" x=\"123.872727\" xlink:href=\"#ma02f67e60b\" y=\"129.51\"/>\n    </g>\n   </g>\n   <g id=\"line2d_30\">\n    <g clip-path=\"url(#p755219eb73)\">\n     <use style=\"fill:#3f83f4;stroke:#3f83f4;\" x=\"152.85974\" xlink:href=\"#ma02f67e60b\" y=\"156.69\"/>\n    </g>\n   </g>\n   <g id=\"line2d_31\">\n    <g clip-path=\"url(#p755219eb73)\">\n     <use style=\"fill:#3f83f4;stroke:#3f83f4;\" x=\"167.353247\" xlink:href=\"#ma02f67e60b\" y=\"156.69\"/>\n    </g>\n   </g>\n   <g id=\"line2d_32\">\n    <g clip-path=\"url(#p755219eb73)\">\n     <use style=\"fill:#3f83f4;stroke:#3f83f4;\" x=\"181.846753\" xlink:href=\"#ma02f67e60b\" y=\"156.69\"/>\n    </g>\n   </g>\n   <g id=\"line2d_33\">\n    <g clip-path=\"url(#p755219eb73)\">\n     <use style=\"fill:#3f83f4;stroke:#3f83f4;\" x=\"196.34026\" xlink:href=\"#ma02f67e60b\" y=\"156.69\"/>\n     <use style=\"fill:#3f83f4;stroke:#3f83f4;\" x=\"196.34026\" xlink:href=\"#ma02f67e60b\" y=\"143.1\"/>\n     <use style=\"fill:#3f83f4;stroke:#3f83f4;\" x=\"196.34026\" xlink:href=\"#ma02f67e60b\" y=\"129.51\"/>\n    </g>\n   </g>\n   <g id=\"line2d_34\">\n    <g clip-path=\"url(#p755219eb73)\">\n     <use style=\"fill:#3f83f4;stroke:#3f83f4;\" x=\"210.833766\" xlink:href=\"#ma02f67e60b\" y=\"156.69\"/>\n     <use style=\"fill:#3f83f4;stroke:#3f83f4;\" x=\"210.833766\" xlink:href=\"#ma02f67e60b\" y=\"143.1\"/>\n    </g>\n   </g>\n   <g id=\"line2d_35\">\n    <g clip-path=\"url(#p755219eb73)\">\n     <use style=\"fill:#3f83f4;stroke:#3f83f4;\" x=\"225.327273\" xlink:href=\"#ma02f67e60b\" y=\"156.69\"/>\n    </g>\n   </g>\n   <g id=\"line2d_36\">\n    <g clip-path=\"url(#p755219eb73)\">\n     <use style=\"fill:#3f83f4;stroke:#3f83f4;\" x=\"239.820779\" xlink:href=\"#ma02f67e60b\" y=\"156.69\"/>\n    </g>\n   </g>\n   <g id=\"line2d_37\">\n    <g clip-path=\"url(#p755219eb73)\">\n     <use style=\"fill:#3f83f4;stroke:#3f83f4;\" x=\"254.314286\" xlink:href=\"#ma02f67e60b\" y=\"156.69\"/>\n    </g>\n   </g>\n   <g id=\"line2d_38\">\n    <g clip-path=\"url(#p755219eb73)\">\n     <use style=\"fill:#3f83f4;stroke:#3f83f4;\" x=\"297.794805\" xlink:href=\"#ma02f67e60b\" y=\"156.69\"/>\n    </g>\n   </g>\n   <g id=\"line2d_39\">\n    <g clip-path=\"url(#p755219eb73)\">\n     <use style=\"fill:#3f83f4;stroke:#3f83f4;\" x=\"326.781818\" xlink:href=\"#ma02f67e60b\" y=\"156.69\"/>\n    </g>\n   </g>\n   <g id=\"line2d_40\">\n    <defs>\n     <path d=\"M 0 5 \nC 1.326016 5 2.597899 4.473168 3.535534 3.535534 \nC 4.473168 2.597899 5 1.326016 5 0 \nC 5 -1.326016 4.473168 -2.597899 3.535534 -3.535534 \nC 2.597899 -4.473168 1.326016 -5 0 -5 \nC -1.326016 -5 -2.597899 -4.473168 -3.535534 -3.535534 \nC -4.473168 -2.597899 -5 -1.326016 -5 0 \nC -5 1.326016 -4.473168 2.597899 -3.535534 3.535534 \nC -2.597899 4.473168 -1.326016 5 0 5 \nz\n\" id=\"m7ac00bf29e\" style=\"stroke:#ef8733;\"/>\n    </defs>\n    <g clip-path=\"url(#p755219eb73)\">\n     <use style=\"fill:#ef8733;stroke:#ef8733;\" x=\"109.958961\" xlink:href=\"#m7ac00bf29e\" y=\"156.69\"/>\n    </g>\n   </g>\n   <g id=\"patch_3\">\n    <path d=\"M 7.2 170.28 \nL 342 170.28 \n\" style=\"fill:none;stroke:#9c9c9c;stroke-linecap:square;stroke-linejoin:miter;stroke-width:0.8;\"/>\n   </g>\n   <g id=\"text_23\">\n    <!-- Mean -->\n    <g style=\"fill:#ef8733;\" transform=\"translate(102.712208 115.92)scale(0.1 -0.1)\">\n     <defs>\n      <path d=\"M 628 4666 \nL 1569 4666 \nL 2759 1491 \nL 3956 4666 \nL 4897 4666 \nL 4897 0 \nL 4281 0 \nL 4281 4097 \nL 3078 897 \nL 2444 897 \nL 1241 4097 \nL 1241 0 \nL 628 0 \nL 628 4666 \nz\n\" id=\"DejaVuSans-4d\" transform=\"scale(0.015625)\"/>\n      <path d=\"M 3597 1894 \nL 3597 1613 \nL 953 1613 \nQ 991 1019 1311 708 \nQ 1631 397 2203 397 \nQ 2534 397 2845 478 \nQ 3156 559 3463 722 \nL 3463 178 \nQ 3153 47 2828 -22 \nQ 2503 -91 2169 -91 \nQ 1331 -91 842 396 \nQ 353 884 353 1716 \nQ 353 2575 817 3079 \nQ 1281 3584 2069 3584 \nQ 2775 3584 3186 3129 \nQ 3597 2675 3597 1894 \nz\nM 3022 2063 \nQ 3016 2534 2758 2815 \nQ 2500 3097 2075 3097 \nQ 1594 3097 1305 2825 \nQ 1016 2553 972 2059 \nL 3022 2063 \nz\n\" id=\"DejaVuSans-65\" transform=\"scale(0.015625)\"/>\n      <path d=\"M 2194 1759 \nQ 1497 1759 1228 1600 \nQ 959 1441 959 1056 \nQ 959 750 1161 570 \nQ 1363 391 1709 391 \nQ 2188 391 2477 730 \nQ 2766 1069 2766 1631 \nL 2766 1759 \nL 2194 1759 \nz\nM 3341 1997 \nL 3341 0 \nL 2766 0 \nL 2766 531 \nQ 2569 213 2275 61 \nQ 1981 -91 1556 -91 \nQ 1019 -91 701 211 \nQ 384 513 384 1019 \nQ 384 1609 779 1909 \nQ 1175 2209 1959 2209 \nL 2766 2209 \nL 2766 2266 \nQ 2766 2663 2505 2880 \nQ 2244 3097 1772 3097 \nQ 1472 3097 1187 3025 \nQ 903 2953 641 2809 \nL 641 3341 \nQ 956 3463 1253 3523 \nQ 1550 3584 1831 3584 \nQ 2591 3584 2966 3190 \nQ 3341 2797 3341 1997 \nz\n\" id=\"DejaVuSans-61\" transform=\"scale(0.015625)\"/>\n      <path d=\"M 3513 2113 \nL 3513 0 \nL 2938 0 \nL 2938 2094 \nQ 2938 2591 2744 2837 \nQ 2550 3084 2163 3084 \nQ 1697 3084 1428 2787 \nQ 1159 2491 1159 1978 \nL 1159 0 \nL 581 0 \nL 581 3500 \nL 1159 3500 \nL 1159 2956 \nQ 1366 3272 1645 3428 \nQ 1925 3584 2291 3584 \nQ 2894 3584 3203 3211 \nQ 3513 2838 3513 2113 \nz\n\" id=\"DejaVuSans-6e\" transform=\"scale(0.015625)\"/>\n     </defs>\n     <use xlink:href=\"#DejaVuSans-4d\"/>\n     <use x=\"86.279297\" xlink:href=\"#DejaVuSans-65\"/>\n     <use x=\"147.802734\" xlink:href=\"#DejaVuSans-61\"/>\n     <use x=\"209.082031\" xlink:href=\"#DejaVuSans-6e\"/>\n    </g>\n   </g>\n  </g>\n </g>\n <defs>\n  <clipPath id=\"p755219eb73\">\n   <rect height=\"163.08\" width=\"334.8\" x=\"7.2\" y=\"7.2\"/>\n  </clipPath>\n </defs>\n</svg>\n"
     },
     "metadata": {}
    }
   ],
   "metadata": {}
  },
  {
   "cell_type": "code",
   "execution_count": 91,
   "source": [
    "print(mean)"
   ],
   "outputs": [
    {
     "output_type": "stream",
     "name": "stdout",
     "text": [
      "11.04\n"
     ]
    }
   ],
   "metadata": {}
  },
  {
   "cell_type": "markdown",
   "source": [
    "The sample mean can be calculated as the sum of the observed values divided by the number of observations:  \n",
    "\n",
    "\n",
    "$$ \\bar{x} = \\frac{x_1 + x_2 + \\cdots + x_n}{n} $$"
   ],
   "metadata": {}
  },
  {
   "cell_type": "markdown",
   "source": [
    "### Asthma example\n",
    "\n",
    "Results of a trial of 1500 adults that suffer from asthma;"
   ],
   "metadata": {}
  },
  {
   "cell_type": "code",
   "execution_count": 95,
   "source": [
    "d= {'Description': [\"Number of patients\", \"Total asthma attacks\"], 'New drug': [500, 200], 'Standard drug': [1000, 300]}\n",
    "drug_asthma = pd.DataFrame(data=d)\n",
    "drug_asthma"
   ],
   "outputs": [
    {
     "output_type": "execute_result",
     "data": {
      "text/plain": [
       "            Description  New drug  Standard drug\n",
       "0    Number of patients       500           1000\n",
       "1  Total asthma attacks       200            300"
      ],
      "text/html": [
       "<div>\n",
       "<style scoped>\n",
       "    .dataframe tbody tr th:only-of-type {\n",
       "        vertical-align: middle;\n",
       "    }\n",
       "\n",
       "    .dataframe tbody tr th {\n",
       "        vertical-align: top;\n",
       "    }\n",
       "\n",
       "    .dataframe thead th {\n",
       "        text-align: right;\n",
       "    }\n",
       "</style>\n",
       "<table border=\"1\" class=\"dataframe\">\n",
       "  <thead>\n",
       "    <tr style=\"text-align: right;\">\n",
       "      <th></th>\n",
       "      <th>Description</th>\n",
       "      <th>New drug</th>\n",
       "      <th>Standard drug</th>\n",
       "    </tr>\n",
       "  </thead>\n",
       "  <tbody>\n",
       "    <tr>\n",
       "      <th>0</th>\n",
       "      <td>Number of patients</td>\n",
       "      <td>500</td>\n",
       "      <td>1000</td>\n",
       "    </tr>\n",
       "    <tr>\n",
       "      <th>1</th>\n",
       "      <td>Total asthma attacks</td>\n",
       "      <td>200</td>\n",
       "      <td>300</td>\n",
       "    </tr>\n",
       "  </tbody>\n",
       "</table>\n",
       "</div>"
      ]
     },
     "metadata": {},
     "execution_count": 95
    }
   ],
   "metadata": {}
  },
  {
   "cell_type": "code",
   "execution_count": 98,
   "source": [
    "# Asthma attacks per patients\n",
    "new_drug = 200/500\n",
    "standard_drug = 300/1000\n",
    "\n",
    "print(\"New drug: 200/500 = \", new_drug, \"asthma attacks per patient\")\n",
    "print(\"Standrard drug: 300/1000 = \", standard_drug, \"asthma attacks per patient\")\n"
   ],
   "outputs": [
    {
     "output_type": "stream",
     "name": "stdout",
     "text": [
      "New drug: 200/500 =  0.4 asthma attacks per patient\n",
      "Standrard drug: 300/1000 =  0.3 asthma attacks per patient\n"
     ]
    }
   ],
   "metadata": {}
  },
  {
   "cell_type": "code",
   "execution_count": 7,
   "source": [
    "import matplotlib.ticker as ticker\n",
    "\n",
    "sns.set_style(\"whitegrid\", {'axes.grid' : False})\n",
    "fig, ax = plt.subplots()\n",
    "\n",
    "sns.histplot(data=df,  x= \"interest_rate\", palette=colors_blue)\n",
    "\n",
    "# Use automatic Formatter\n",
    "#ax.yaxis.set_major_formatter('{x:1.0f} k $')\n",
    "#ax.yaxis.set_tick_params(which='major', labelcolor='grey', labelleft=True)\n",
    "ax.xaxis.set_major_formatter(ticker.EngFormatter('%'))\n",
    "#ax.xaxis.set_tick_params(which='major', labelcolor='grey')  \n",
    "\n",
    "#ax.xaxis.label.set_color('grey')\n",
    "#ax.yaxis.label.set_color('grey')\n",
    "\n",
    "plt.xlabel(\"Interest rate\")\n",
    "plt.ylabel(\"Count\")\n",
    "\n",
    "# remove top and right axes splines\n",
    "sns.despine()\n",
    "\n",
    "plt.show();"
   ],
   "outputs": [
    {
     "output_type": "display_data",
     "data": {
      "text/plain": [
       "<Figure size 432x288 with 1 Axes>"
      ],
      "image/svg+xml": "<?xml version=\"1.0\" encoding=\"utf-8\" standalone=\"no\"?>\n<!DOCTYPE svg PUBLIC \"-//W3C//DTD SVG 1.1//EN\"\n  \"http://www.w3.org/Graphics/SVG/1.1/DTD/svg11.dtd\">\n<svg height=\"261.130625pt\" version=\"1.1\" viewBox=\"0 0 388.80625 261.130625\" width=\"388.80625pt\" xmlns=\"http://www.w3.org/2000/svg\" xmlns:xlink=\"http://www.w3.org/1999/xlink\">\n <metadata>\n  <rdf:RDF xmlns:cc=\"http://creativecommons.org/ns#\" xmlns:dc=\"http://purl.org/dc/elements/1.1/\" xmlns:rdf=\"http://www.w3.org/1999/02/22-rdf-syntax-ns#\">\n   <cc:Work>\n    <dc:type rdf:resource=\"http://purl.org/dc/dcmitype/StillImage\"/>\n    <dc:date>2021-08-20T21:16:26.853719</dc:date>\n    <dc:format>image/svg+xml</dc:format>\n    <dc:creator>\n     <cc:Agent>\n      <dc:title>Matplotlib v3.4.2, https://matplotlib.org/</dc:title>\n     </cc:Agent>\n    </dc:creator>\n   </cc:Work>\n  </rdf:RDF>\n </metadata>\n <defs>\n  <style type=\"text/css\">*{stroke-linecap:butt;stroke-linejoin:round;}</style>\n </defs>\n <g id=\"figure_1\">\n  <g id=\"patch_1\">\n   <path d=\"M 0 261.130625 \nL 388.80625 261.130625 \nL 388.80625 0 \nL 0 0 \nz\n\" style=\"fill:#ffffff;\"/>\n  </g>\n  <g id=\"axes_1\">\n   <g id=\"patch_2\">\n    <path d=\"M 46.80625 224.64 \nL 381.60625 224.64 \nL 381.60625 7.2 \nL 46.80625 7.2 \nz\n\" style=\"fill:#ffffff;\"/>\n   </g>\n   <g id=\"matplotlib.axis_1\">\n    <g id=\"xtick_1\">\n     <g id=\"text_1\">\n      <!-- 5 % -->\n      <g style=\"fill:#262626;\" transform=\"translate(48.913679 238.797812)scale(0.1 -0.1)\">\n       <defs>\n        <path d=\"M 266 1200 \nL 856 1250 \nQ 922 819 1161 601 \nQ 1400 384 1738 384 \nQ 2144 384 2425 690 \nQ 2706 997 2706 1503 \nQ 2706 1984 2436 2262 \nQ 2166 2541 1728 2541 \nQ 1456 2541 1237 2417 \nQ 1019 2294 894 2097 \nL 366 2166 \nL 809 4519 \nL 3088 4519 \nL 3088 3981 \nL 1259 3981 \nL 1013 2750 \nQ 1425 3038 1878 3038 \nQ 2478 3038 2890 2622 \nQ 3303 2206 3303 1553 \nQ 3303 931 2941 478 \nQ 2500 -78 1738 -78 \nQ 1113 -78 717 272 \nQ 322 622 266 1200 \nz\n\" id=\"ArialMT-35\" transform=\"scale(0.015625)\"/>\n        <path id=\"ArialMT-20\" transform=\"scale(0.015625)\"/>\n        <path d=\"M 372 3481 \nQ 372 3972 619 4315 \nQ 866 4659 1334 4659 \nQ 1766 4659 2048 4351 \nQ 2331 4044 2331 3447 \nQ 2331 2866 2045 2552 \nQ 1759 2238 1341 2238 \nQ 925 2238 648 2547 \nQ 372 2856 372 3481 \nz\nM 1350 4272 \nQ 1141 4272 1002 4090 \nQ 863 3909 863 3425 \nQ 863 2984 1003 2804 \nQ 1144 2625 1350 2625 \nQ 1563 2625 1702 2806 \nQ 1841 2988 1841 3469 \nQ 1841 3913 1700 4092 \nQ 1559 4272 1350 4272 \nz\nM 1353 -169 \nL 3859 4659 \nL 4316 4659 \nL 1819 -169 \nL 1353 -169 \nz\nM 3334 1075 \nQ 3334 1569 3581 1911 \nQ 3828 2253 4300 2253 \nQ 4731 2253 5014 1945 \nQ 5297 1638 5297 1041 \nQ 5297 459 5011 145 \nQ 4725 -169 4303 -169 \nQ 3888 -169 3611 142 \nQ 3334 453 3334 1075 \nz\nM 4316 1866 \nQ 4103 1866 3964 1684 \nQ 3825 1503 3825 1019 \nQ 3825 581 3965 400 \nQ 4106 219 4313 219 \nQ 4528 219 4667 400 \nQ 4806 581 4806 1063 \nQ 4806 1506 4665 1686 \nQ 4525 1866 4316 1866 \nz\n\" id=\"ArialMT-25\" transform=\"scale(0.015625)\"/>\n       </defs>\n       <use xlink:href=\"#ArialMT-35\"/>\n       <use x=\"55.615234\" xlink:href=\"#ArialMT-20\"/>\n       <use x=\"83.398438\" xlink:href=\"#ArialMT-25\"/>\n      </g>\n     </g>\n    </g>\n    <g id=\"xtick_2\">\n     <g id=\"text_2\">\n      <!-- 10 % -->\n      <g style=\"fill:#262626;\" transform=\"translate(118.635268 238.797812)scale(0.1 -0.1)\">\n       <defs>\n        <path d=\"M 2384 0 \nL 1822 0 \nL 1822 3584 \nQ 1619 3391 1289 3197 \nQ 959 3003 697 2906 \nL 697 3450 \nQ 1169 3672 1522 3987 \nQ 1875 4303 2022 4600 \nL 2384 4600 \nL 2384 0 \nz\n\" id=\"ArialMT-31\" transform=\"scale(0.015625)\"/>\n        <path d=\"M 266 2259 \nQ 266 3072 433 3567 \nQ 600 4063 929 4331 \nQ 1259 4600 1759 4600 \nQ 2128 4600 2406 4451 \nQ 2684 4303 2865 4023 \nQ 3047 3744 3150 3342 \nQ 3253 2941 3253 2259 \nQ 3253 1453 3087 958 \nQ 2922 463 2592 192 \nQ 2263 -78 1759 -78 \nQ 1097 -78 719 397 \nQ 266 969 266 2259 \nz\nM 844 2259 \nQ 844 1131 1108 757 \nQ 1372 384 1759 384 \nQ 2147 384 2411 759 \nQ 2675 1134 2675 2259 \nQ 2675 3391 2411 3762 \nQ 2147 4134 1753 4134 \nQ 1366 4134 1134 3806 \nQ 844 3388 844 2259 \nz\n\" id=\"ArialMT-30\" transform=\"scale(0.015625)\"/>\n       </defs>\n       <use xlink:href=\"#ArialMT-31\"/>\n       <use x=\"55.615234\" xlink:href=\"#ArialMT-30\"/>\n       <use x=\"111.230469\" xlink:href=\"#ArialMT-20\"/>\n       <use x=\"139.013672\" xlink:href=\"#ArialMT-25\"/>\n      </g>\n     </g>\n    </g>\n    <g id=\"xtick_3\">\n     <g id=\"text_3\">\n      <!-- 15 % -->\n      <g style=\"fill:#262626;\" transform=\"translate(191.137325 238.797812)scale(0.1 -0.1)\">\n       <use xlink:href=\"#ArialMT-31\"/>\n       <use x=\"55.615234\" xlink:href=\"#ArialMT-35\"/>\n       <use x=\"111.230469\" xlink:href=\"#ArialMT-20\"/>\n       <use x=\"139.013672\" xlink:href=\"#ArialMT-25\"/>\n      </g>\n     </g>\n    </g>\n    <g id=\"xtick_4\">\n     <g id=\"text_4\">\n      <!-- 20 % -->\n      <g style=\"fill:#262626;\" transform=\"translate(263.639382 238.797812)scale(0.1 -0.1)\">\n       <defs>\n        <path d=\"M 3222 541 \nL 3222 0 \nL 194 0 \nQ 188 203 259 391 \nQ 375 700 629 1000 \nQ 884 1300 1366 1694 \nQ 2113 2306 2375 2664 \nQ 2638 3022 2638 3341 \nQ 2638 3675 2398 3904 \nQ 2159 4134 1775 4134 \nQ 1369 4134 1125 3890 \nQ 881 3647 878 3216 \nL 300 3275 \nQ 359 3922 746 4261 \nQ 1134 4600 1788 4600 \nQ 2447 4600 2831 4234 \nQ 3216 3869 3216 3328 \nQ 3216 3053 3103 2787 \nQ 2991 2522 2730 2228 \nQ 2469 1934 1863 1422 \nQ 1356 997 1212 845 \nQ 1069 694 975 541 \nL 3222 541 \nz\n\" id=\"ArialMT-32\" transform=\"scale(0.015625)\"/>\n       </defs>\n       <use xlink:href=\"#ArialMT-32\"/>\n       <use x=\"55.615234\" xlink:href=\"#ArialMT-30\"/>\n       <use x=\"111.230469\" xlink:href=\"#ArialMT-20\"/>\n       <use x=\"139.013672\" xlink:href=\"#ArialMT-25\"/>\n      </g>\n     </g>\n    </g>\n    <g id=\"xtick_5\">\n     <g id=\"text_5\">\n      <!-- 25 % -->\n      <g style=\"fill:#262626;\" transform=\"translate(336.14144 238.797812)scale(0.1 -0.1)\">\n       <use xlink:href=\"#ArialMT-32\"/>\n       <use x=\"55.615234\" xlink:href=\"#ArialMT-35\"/>\n       <use x=\"111.230469\" xlink:href=\"#ArialMT-20\"/>\n       <use x=\"139.013672\" xlink:href=\"#ArialMT-25\"/>\n      </g>\n     </g>\n    </g>\n    <g id=\"text_6\">\n     <!-- Interest rate -->\n     <g style=\"fill:#262626;\" transform=\"translate(187.528906 251.943125)scale(0.1 -0.1)\">\n      <defs>\n       <path d=\"M 597 0 \nL 597 4581 \nL 1203 4581 \nL 1203 0 \nL 597 0 \nz\n\" id=\"ArialMT-49\" transform=\"scale(0.015625)\"/>\n       <path d=\"M 422 0 \nL 422 3319 \nL 928 3319 \nL 928 2847 \nQ 1294 3394 1984 3394 \nQ 2284 3394 2536 3286 \nQ 2788 3178 2913 3003 \nQ 3038 2828 3088 2588 \nQ 3119 2431 3119 2041 \nL 3119 0 \nL 2556 0 \nL 2556 2019 \nQ 2556 2363 2490 2533 \nQ 2425 2703 2258 2804 \nQ 2091 2906 1866 2906 \nQ 1506 2906 1245 2678 \nQ 984 2450 984 1813 \nL 984 0 \nL 422 0 \nz\n\" id=\"ArialMT-6e\" transform=\"scale(0.015625)\"/>\n       <path d=\"M 1650 503 \nL 1731 6 \nQ 1494 -44 1306 -44 \nQ 1000 -44 831 53 \nQ 663 150 594 308 \nQ 525 466 525 972 \nL 525 2881 \nL 113 2881 \nL 113 3319 \nL 525 3319 \nL 525 4141 \nL 1084 4478 \nL 1084 3319 \nL 1650 3319 \nL 1650 2881 \nL 1084 2881 \nL 1084 941 \nQ 1084 700 1114 631 \nQ 1144 563 1211 522 \nQ 1278 481 1403 481 \nQ 1497 481 1650 503 \nz\n\" id=\"ArialMT-74\" transform=\"scale(0.015625)\"/>\n       <path d=\"M 2694 1069 \nL 3275 997 \nQ 3138 488 2766 206 \nQ 2394 -75 1816 -75 \nQ 1088 -75 661 373 \nQ 234 822 234 1631 \nQ 234 2469 665 2931 \nQ 1097 3394 1784 3394 \nQ 2450 3394 2872 2941 \nQ 3294 2488 3294 1666 \nQ 3294 1616 3291 1516 \nL 816 1516 \nQ 847 969 1125 678 \nQ 1403 388 1819 388 \nQ 2128 388 2347 550 \nQ 2566 713 2694 1069 \nz\nM 847 1978 \nL 2700 1978 \nQ 2663 2397 2488 2606 \nQ 2219 2931 1791 2931 \nQ 1403 2931 1139 2672 \nQ 875 2413 847 1978 \nz\n\" id=\"ArialMT-65\" transform=\"scale(0.015625)\"/>\n       <path d=\"M 416 0 \nL 416 3319 \nL 922 3319 \nL 922 2816 \nQ 1116 3169 1280 3281 \nQ 1444 3394 1641 3394 \nQ 1925 3394 2219 3213 \nL 2025 2691 \nQ 1819 2813 1613 2813 \nQ 1428 2813 1281 2702 \nQ 1134 2591 1072 2394 \nQ 978 2094 978 1738 \nL 978 0 \nL 416 0 \nz\n\" id=\"ArialMT-72\" transform=\"scale(0.015625)\"/>\n       <path d=\"M 197 991 \nL 753 1078 \nQ 800 744 1014 566 \nQ 1228 388 1613 388 \nQ 2000 388 2187 545 \nQ 2375 703 2375 916 \nQ 2375 1106 2209 1216 \nQ 2094 1291 1634 1406 \nQ 1016 1563 777 1677 \nQ 538 1791 414 1992 \nQ 291 2194 291 2438 \nQ 291 2659 392 2848 \nQ 494 3038 669 3163 \nQ 800 3259 1026 3326 \nQ 1253 3394 1513 3394 \nQ 1903 3394 2198 3281 \nQ 2494 3169 2634 2976 \nQ 2775 2784 2828 2463 \nL 2278 2388 \nQ 2241 2644 2061 2787 \nQ 1881 2931 1553 2931 \nQ 1166 2931 1000 2803 \nQ 834 2675 834 2503 \nQ 834 2394 903 2306 \nQ 972 2216 1119 2156 \nQ 1203 2125 1616 2013 \nQ 2213 1853 2448 1751 \nQ 2684 1650 2818 1456 \nQ 2953 1263 2953 975 \nQ 2953 694 2789 445 \nQ 2625 197 2315 61 \nQ 2006 -75 1616 -75 \nQ 969 -75 630 194 \nQ 291 463 197 991 \nz\n\" id=\"ArialMT-73\" transform=\"scale(0.015625)\"/>\n       <path d=\"M 2588 409 \nQ 2275 144 1986 34 \nQ 1697 -75 1366 -75 \nQ 819 -75 525 192 \nQ 231 459 231 875 \nQ 231 1119 342 1320 \nQ 453 1522 633 1644 \nQ 813 1766 1038 1828 \nQ 1203 1872 1538 1913 \nQ 2219 1994 2541 2106 \nQ 2544 2222 2544 2253 \nQ 2544 2597 2384 2738 \nQ 2169 2928 1744 2928 \nQ 1347 2928 1158 2789 \nQ 969 2650 878 2297 \nL 328 2372 \nQ 403 2725 575 2942 \nQ 747 3159 1072 3276 \nQ 1397 3394 1825 3394 \nQ 2250 3394 2515 3294 \nQ 2781 3194 2906 3042 \nQ 3031 2891 3081 2659 \nQ 3109 2516 3109 2141 \nL 3109 1391 \nQ 3109 606 3145 398 \nQ 3181 191 3288 0 \nL 2700 0 \nQ 2613 175 2588 409 \nz\nM 2541 1666 \nQ 2234 1541 1622 1453 \nQ 1275 1403 1131 1340 \nQ 988 1278 909 1158 \nQ 831 1038 831 891 \nQ 831 666 1001 516 \nQ 1172 366 1500 366 \nQ 1825 366 2078 508 \nQ 2331 650 2450 897 \nQ 2541 1088 2541 1459 \nL 2541 1666 \nz\n\" id=\"ArialMT-61\" transform=\"scale(0.015625)\"/>\n      </defs>\n      <use xlink:href=\"#ArialMT-49\"/>\n      <use x=\"27.783203\" xlink:href=\"#ArialMT-6e\"/>\n      <use x=\"83.398438\" xlink:href=\"#ArialMT-74\"/>\n      <use x=\"111.181641\" xlink:href=\"#ArialMT-65\"/>\n      <use x=\"166.796875\" xlink:href=\"#ArialMT-72\"/>\n      <use x=\"200.097656\" xlink:href=\"#ArialMT-65\"/>\n      <use x=\"255.712891\" xlink:href=\"#ArialMT-73\"/>\n      <use x=\"305.712891\" xlink:href=\"#ArialMT-74\"/>\n      <use x=\"333.496094\" xlink:href=\"#ArialMT-20\"/>\n      <use x=\"361.279297\" xlink:href=\"#ArialMT-72\"/>\n      <use x=\"394.580078\" xlink:href=\"#ArialMT-61\"/>\n      <use x=\"450.195312\" xlink:href=\"#ArialMT-74\"/>\n      <use x=\"477.978516\" xlink:href=\"#ArialMT-65\"/>\n     </g>\n    </g>\n   </g>\n   <g id=\"matplotlib.axis_2\">\n    <g id=\"ytick_1\">\n     <g id=\"text_7\">\n      <!-- 0.0 -->\n      <g style=\"fill:#262626;\" transform=\"translate(25.90625 228.218906)scale(0.1 -0.1)\">\n       <defs>\n        <path d=\"M 581 0 \nL 581 641 \nL 1222 641 \nL 1222 0 \nL 581 0 \nz\n\" id=\"ArialMT-2e\" transform=\"scale(0.015625)\"/>\n       </defs>\n       <use xlink:href=\"#ArialMT-30\"/>\n       <use x=\"55.615234\" xlink:href=\"#ArialMT-2e\"/>\n       <use x=\"83.398438\" xlink:href=\"#ArialMT-30\"/>\n      </g>\n     </g>\n    </g>\n    <g id=\"ytick_2\">\n     <g id=\"text_8\">\n      <!-- 2.5 -->\n      <g style=\"fill:#262626;\" transform=\"translate(25.90625 199.457001)scale(0.1 -0.1)\">\n       <use xlink:href=\"#ArialMT-32\"/>\n       <use x=\"55.615234\" xlink:href=\"#ArialMT-2e\"/>\n       <use x=\"83.398438\" xlink:href=\"#ArialMT-35\"/>\n      </g>\n     </g>\n    </g>\n    <g id=\"ytick_3\">\n     <g id=\"text_9\">\n      <!-- 5.0 -->\n      <g style=\"fill:#262626;\" transform=\"translate(25.90625 170.695097)scale(0.1 -0.1)\">\n       <use xlink:href=\"#ArialMT-35\"/>\n       <use x=\"55.615234\" xlink:href=\"#ArialMT-2e\"/>\n       <use x=\"83.398438\" xlink:href=\"#ArialMT-30\"/>\n      </g>\n     </g>\n    </g>\n    <g id=\"ytick_4\">\n     <g id=\"text_10\">\n      <!-- 7.5 -->\n      <g style=\"fill:#262626;\" transform=\"translate(25.90625 141.933192)scale(0.1 -0.1)\">\n       <defs>\n        <path d=\"M 303 3981 \nL 303 4522 \nL 3269 4522 \nL 3269 4084 \nQ 2831 3619 2401 2847 \nQ 1972 2075 1738 1259 \nQ 1569 684 1522 0 \nL 944 0 \nQ 953 541 1156 1306 \nQ 1359 2072 1739 2783 \nQ 2119 3494 2547 3981 \nL 303 3981 \nz\n\" id=\"ArialMT-37\" transform=\"scale(0.015625)\"/>\n       </defs>\n       <use xlink:href=\"#ArialMT-37\"/>\n       <use x=\"55.615234\" xlink:href=\"#ArialMT-2e\"/>\n       <use x=\"83.398438\" xlink:href=\"#ArialMT-35\"/>\n      </g>\n     </g>\n    </g>\n    <g id=\"ytick_5\">\n     <g id=\"text_11\">\n      <!-- 10.0 -->\n      <g style=\"fill:#262626;\" transform=\"translate(20.345313 113.171287)scale(0.1 -0.1)\">\n       <use xlink:href=\"#ArialMT-31\"/>\n       <use x=\"55.615234\" xlink:href=\"#ArialMT-30\"/>\n       <use x=\"111.230469\" xlink:href=\"#ArialMT-2e\"/>\n       <use x=\"139.013672\" xlink:href=\"#ArialMT-30\"/>\n      </g>\n     </g>\n    </g>\n    <g id=\"ytick_6\">\n     <g id=\"text_12\">\n      <!-- 12.5 -->\n      <g style=\"fill:#262626;\" transform=\"translate(20.345313 84.409382)scale(0.1 -0.1)\">\n       <use xlink:href=\"#ArialMT-31\"/>\n       <use x=\"55.615234\" xlink:href=\"#ArialMT-32\"/>\n       <use x=\"111.230469\" xlink:href=\"#ArialMT-2e\"/>\n       <use x=\"139.013672\" xlink:href=\"#ArialMT-35\"/>\n      </g>\n     </g>\n    </g>\n    <g id=\"ytick_7\">\n     <g id=\"text_13\">\n      <!-- 15.0 -->\n      <g style=\"fill:#262626;\" transform=\"translate(20.345313 55.647478)scale(0.1 -0.1)\">\n       <use xlink:href=\"#ArialMT-31\"/>\n       <use x=\"55.615234\" xlink:href=\"#ArialMT-35\"/>\n       <use x=\"111.230469\" xlink:href=\"#ArialMT-2e\"/>\n       <use x=\"139.013672\" xlink:href=\"#ArialMT-30\"/>\n      </g>\n     </g>\n    </g>\n    <g id=\"ytick_8\">\n     <g id=\"text_14\">\n      <!-- 17.5 -->\n      <g style=\"fill:#262626;\" transform=\"translate(20.345313 26.885573)scale(0.1 -0.1)\">\n       <use xlink:href=\"#ArialMT-31\"/>\n       <use x=\"55.615234\" xlink:href=\"#ArialMT-37\"/>\n       <use x=\"111.230469\" xlink:href=\"#ArialMT-2e\"/>\n       <use x=\"139.013672\" xlink:href=\"#ArialMT-35\"/>\n      </g>\n     </g>\n    </g>\n    <g id=\"text_15\">\n     <!-- Count -->\n     <g style=\"fill:#262626;\" transform=\"translate(14.357813 129.261406)rotate(-90)scale(0.1 -0.1)\">\n      <defs>\n       <path d=\"M 3763 1606 \nL 4369 1453 \nQ 4178 706 3683 314 \nQ 3188 -78 2472 -78 \nQ 1731 -78 1267 223 \nQ 803 525 561 1097 \nQ 319 1669 319 2325 \nQ 319 3041 592 3573 \nQ 866 4106 1370 4382 \nQ 1875 4659 2481 4659 \nQ 3169 4659 3637 4309 \nQ 4106 3959 4291 3325 \nL 3694 3184 \nQ 3534 3684 3231 3912 \nQ 2928 4141 2469 4141 \nQ 1941 4141 1586 3887 \nQ 1231 3634 1087 3207 \nQ 944 2781 944 2328 \nQ 944 1744 1114 1308 \nQ 1284 872 1643 656 \nQ 2003 441 2422 441 \nQ 2931 441 3284 734 \nQ 3638 1028 3763 1606 \nz\n\" id=\"ArialMT-43\" transform=\"scale(0.015625)\"/>\n       <path d=\"M 213 1659 \nQ 213 2581 725 3025 \nQ 1153 3394 1769 3394 \nQ 2453 3394 2887 2945 \nQ 3322 2497 3322 1706 \nQ 3322 1066 3130 698 \nQ 2938 331 2570 128 \nQ 2203 -75 1769 -75 \nQ 1072 -75 642 372 \nQ 213 819 213 1659 \nz\nM 791 1659 \nQ 791 1022 1069 705 \nQ 1347 388 1769 388 \nQ 2188 388 2466 706 \nQ 2744 1025 2744 1678 \nQ 2744 2294 2464 2611 \nQ 2184 2928 1769 2928 \nQ 1347 2928 1069 2612 \nQ 791 2297 791 1659 \nz\n\" id=\"ArialMT-6f\" transform=\"scale(0.015625)\"/>\n       <path d=\"M 2597 0 \nL 2597 488 \nQ 2209 -75 1544 -75 \nQ 1250 -75 995 37 \nQ 741 150 617 320 \nQ 494 491 444 738 \nQ 409 903 409 1263 \nL 409 3319 \nL 972 3319 \nL 972 1478 \nQ 972 1038 1006 884 \nQ 1059 663 1231 536 \nQ 1403 409 1656 409 \nQ 1909 409 2131 539 \nQ 2353 669 2445 892 \nQ 2538 1116 2538 1541 \nL 2538 3319 \nL 3100 3319 \nL 3100 0 \nL 2597 0 \nz\n\" id=\"ArialMT-75\" transform=\"scale(0.015625)\"/>\n      </defs>\n      <use xlink:href=\"#ArialMT-43\"/>\n      <use x=\"72.216797\" xlink:href=\"#ArialMT-6f\"/>\n      <use x=\"127.832031\" xlink:href=\"#ArialMT-75\"/>\n      <use x=\"183.447266\" xlink:href=\"#ArialMT-6e\"/>\n      <use x=\"239.0625\" xlink:href=\"#ArialMT-74\"/>\n     </g>\n    </g>\n   </g>\n   <g id=\"patch_3\">\n    <path clip-path=\"url(#p0d571a497e)\" d=\"M 62.024432 224.64 \nL 105.504951 224.64 \nL 105.504951 52.068571 \nL 62.024432 52.068571 \nz\n\" style=\"fill:#1f77b4;fill-opacity:0.75;stroke:#ffffff;stroke-linejoin:miter;\"/>\n   </g>\n   <g id=\"patch_4\">\n    <path clip-path=\"url(#p0d571a497e)\" d=\"M 105.504951 224.64 \nL 148.985471 224.64 \nL 148.985471 17.554286 \nL 105.504951 17.554286 \nz\n\" style=\"fill:#1f77b4;fill-opacity:0.75;stroke:#ffffff;stroke-linejoin:miter;\"/>\n   </g>\n   <g id=\"patch_5\">\n    <path clip-path=\"url(#p0d571a497e)\" d=\"M 148.985471 224.64 \nL 192.46599 224.64 \nL 192.46599 167.11619 \nL 148.985471 167.11619 \nz\n\" style=\"fill:#1f77b4;fill-opacity:0.75;stroke:#ffffff;stroke-linejoin:miter;\"/>\n   </g>\n   <g id=\"patch_6\">\n    <path clip-path=\"url(#p0d571a497e)\" d=\"M 192.46599 224.64 \nL 235.94651 224.64 \nL 235.94651 167.11619 \nL 192.46599 167.11619 \nz\n\" style=\"fill:#1f77b4;fill-opacity:0.75;stroke:#ffffff;stroke-linejoin:miter;\"/>\n   </g>\n   <g id=\"patch_7\">\n    <path clip-path=\"url(#p0d571a497e)\" d=\"M 235.94651 224.64 \nL 279.427029 224.64 \nL 279.427029 178.620952 \nL 235.94651 178.620952 \nz\n\" style=\"fill:#1f77b4;fill-opacity:0.75;stroke:#ffffff;stroke-linejoin:miter;\"/>\n   </g>\n   <g id=\"patch_8\">\n    <path clip-path=\"url(#p0d571a497e)\" d=\"M 279.427029 224.64 \nL 322.907549 224.64 \nL 322.907549 213.135238 \nL 279.427029 213.135238 \nz\n\" style=\"fill:#1f77b4;fill-opacity:0.75;stroke:#ffffff;stroke-linejoin:miter;\"/>\n   </g>\n   <g id=\"patch_9\">\n    <path clip-path=\"url(#p0d571a497e)\" d=\"M 322.907549 224.64 \nL 366.388068 224.64 \nL 366.388068 201.630476 \nL 322.907549 201.630476 \nz\n\" style=\"fill:#1f77b4;fill-opacity:0.75;stroke:#ffffff;stroke-linejoin:miter;\"/>\n   </g>\n   <g id=\"patch_10\">\n    <path d=\"M 46.80625 224.64 \nL 46.80625 7.2 \n\" style=\"fill:none;stroke:#cccccc;stroke-linecap:square;stroke-linejoin:miter;stroke-width:0.8;\"/>\n   </g>\n   <g id=\"patch_11\">\n    <path d=\"M 46.80625 224.64 \nL 381.60625 224.64 \n\" style=\"fill:none;stroke:#cccccc;stroke-linecap:square;stroke-linejoin:miter;stroke-width:0.8;\"/>\n   </g>\n  </g>\n </g>\n <defs>\n  <clipPath id=\"p0d571a497e\">\n   <rect height=\"217.44\" width=\"334.8\" x=\"46.80625\" y=\"7.2\"/>\n  </clipPath>\n </defs>\n</svg>\n"
     },
     "metadata": {}
    }
   ],
   "metadata": {
    "slideshow": {
     "slide_type": "slide"
    }
   }
  },
  {
   "cell_type": "markdown",
   "source": [
    "## Scatterplot with statistical model\n",
    "\n",
    "- A scatterplot of the median household income against the poverty rate for the county dataset.\n",
    "- A statistical model has also been fit to the data and is shown as orange line."
   ],
   "metadata": {
    "slideshow": {
     "slide_type": "slide"
    }
   }
  },
  {
   "cell_type": "code",
   "execution_count": 19,
   "source": [
    "data"
   ],
   "outputs": [
    {
     "output_type": "execute_result",
     "data": {
      "text/plain": [
       "array([ 0,  8,  7,  0, 11,  2,  3,  2,  4,  2,  4, 10,  5, 12,  5,  3, 10,\n",
       "       10, 11, 11,  0,  6,  3,  3,  3, 10, 10,  2,  5,  9,  1,  8,  5, 12,\n",
       "        9,  3, 10, 10,  2,  6])"
      ]
     },
     "metadata": {},
     "execution_count": 19
    }
   ],
   "metadata": {}
  }
 ],
 "metadata": {
  "celltoolbar": "Slideshow",
  "interpreter": {
   "hash": "d361e8bd3ab8be8f3ea65790adb41c2b64f49b1477d0d1af835155fecf213182"
  },
  "kernelspec": {
   "name": "python3",
   "display_name": "Python 3.8.2 64-bit ('base': conda)"
  },
  "language_info": {
   "codemirror_mode": {
    "name": "ipython",
    "version": 3
   },
   "file_extension": ".py",
   "mimetype": "text/x-python",
   "name": "python",
   "nbconvert_exporter": "python",
   "pygments_lexer": "ipython3",
   "version": "3.8.2"
  },
  "varInspector": {
   "cols": {
    "lenName": 16,
    "lenType": 16,
    "lenVar": 40
   },
   "kernels_config": {
    "python": {
     "delete_cmd_postfix": "",
     "delete_cmd_prefix": "del ",
     "library": "var_list.py",
     "varRefreshCmd": "print(var_dic_list())"
    },
    "r": {
     "delete_cmd_postfix": ") ",
     "delete_cmd_prefix": "rm(",
     "library": "var_list.r",
     "varRefreshCmd": "cat(var_dic_list()) "
    }
   },
   "types_to_exclude": [
    "module",
    "function",
    "builtin_function_or_method",
    "instance",
    "_Feature"
   ],
   "window_display": false
  }
 },
 "nbformat": 4,
 "nbformat_minor": 2
}