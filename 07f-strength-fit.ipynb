{
 "cells": [
  {
   "cell_type": "markdown",
   "metadata": {},
   "source": [
    "# Strength of a fit"
   ]
  },
  {
   "cell_type": "markdown",
   "metadata": {},
   "source": [
    "## Setup"
   ]
  },
  {
   "cell_type": "code",
   "execution_count": 1,
   "metadata": {},
   "outputs": [],
   "source": [
    "import pandas as pd\n",
    "import altair as alt\n",
    "\n",
    "from sklearn.linear_model import LinearRegression\n",
    "from sklearn.metrics import r2_score"
   ]
  },
  {
   "cell_type": "markdown",
   "metadata": {},
   "source": [
    "## Data"
   ]
  },
  {
   "cell_type": "code",
   "execution_count": 2,
   "metadata": {},
   "outputs": [],
   "source": [
    "df = pd.DataFrame(\n",
    "    {'sales': [2500, 4500, 6500, 8500, 10500, 12500, 14500, 16500, 18500, 20500],\n",
    "      'ads'  : [900, 1400, 3600, 3800, 6200, 5200, 6800, 8300, 9800, 10100]}\n",
    ")\n",
    "\n",
    "# Prepare the data\n",
    "X = df[[\"ads\"]]\n",
    "y = df[[\"sales\"]]"
   ]
  },
  {
   "cell_type": "markdown",
   "metadata": {},
   "source": [
    "## Model"
   ]
  },
  {
   "cell_type": "markdown",
   "metadata": {},
   "source": [
    "### Fit the model"
   ]
  },
  {
   "cell_type": "code",
   "execution_count": 3,
   "metadata": {},
   "outputs": [],
   "source": [
    "# linear regression model\n",
    "reg = LinearRegression()\n",
    "\n",
    "# Train the model\n",
    "reg.fit(X, y)\n",
    "\n",
    "# Make predictions\n",
    "y_pred = reg.predict(X)"
   ]
  },
  {
   "cell_type": "code",
   "execution_count": 4,
   "metadata": {},
   "outputs": [
    {
     "data": {
      "text/html": [
       "<div>\n",
       "<style scoped>\n",
       "    .dataframe tbody tr th:only-of-type {\n",
       "        vertical-align: middle;\n",
       "    }\n",
       "\n",
       "    .dataframe tbody tr th {\n",
       "        vertical-align: top;\n",
       "    }\n",
       "\n",
       "    .dataframe thead th {\n",
       "        text-align: right;\n",
       "    }\n",
       "</style>\n",
       "<table border=\"1\" class=\"dataframe\">\n",
       "  <thead>\n",
       "    <tr style=\"text-align: right;\">\n",
       "      <th></th>\n",
       "      <th>sales</th>\n",
       "      <th>ads</th>\n",
       "      <th>y_pred</th>\n",
       "    </tr>\n",
       "  </thead>\n",
       "  <tbody>\n",
       "    <tr>\n",
       "      <th>0</th>\n",
       "      <td>2500</td>\n",
       "      <td>900</td>\n",
       "      <td>2836.630928</td>\n",
       "    </tr>\n",
       "    <tr>\n",
       "      <th>1</th>\n",
       "      <td>4500</td>\n",
       "      <td>1400</td>\n",
       "      <td>3756.309173</td>\n",
       "    </tr>\n",
       "    <tr>\n",
       "      <th>2</th>\n",
       "      <td>6500</td>\n",
       "      <td>3600</td>\n",
       "      <td>7802.893453</td>\n",
       "    </tr>\n",
       "    <tr>\n",
       "      <th>3</th>\n",
       "      <td>8500</td>\n",
       "      <td>3800</td>\n",
       "      <td>8170.764752</td>\n",
       "    </tr>\n",
       "    <tr>\n",
       "      <th>4</th>\n",
       "      <td>10500</td>\n",
       "      <td>6200</td>\n",
       "      <td>12585.220330</td>\n",
       "    </tr>\n",
       "  </tbody>\n",
       "</table>\n",
       "</div>"
      ],
      "text/plain": [
       "   sales   ads        y_pred\n",
       "0   2500   900   2836.630928\n",
       "1   4500  1400   3756.309173\n",
       "2   6500  3600   7802.893453\n",
       "3   8500  3800   8170.764752\n",
       "4  10500  6200  12585.220330"
      ]
     },
     "execution_count": 4,
     "metadata": {},
     "output_type": "execute_result"
    }
   ],
   "source": [
    "# Add predictions to dataframe\n",
    "df['y_pred'] = y_pred\n",
    "df.head()"
   ]
  },
  {
   "cell_type": "markdown",
   "metadata": {},
   "source": [
    "### Plot model"
   ]
  },
  {
   "cell_type": "code",
   "execution_count": 5,
   "metadata": {},
   "outputs": [
    {
     "data": {
      "text/html": [
       "\n",
       "<div id=\"altair-viz-2eaef3082b5a45d4bd5a5bf03552cc6b\"></div>\n",
       "<script type=\"text/javascript\">\n",
       "  (function(spec, embedOpt){\n",
       "    let outputDiv = document.currentScript.previousElementSibling;\n",
       "    if (outputDiv.id !== \"altair-viz-2eaef3082b5a45d4bd5a5bf03552cc6b\") {\n",
       "      outputDiv = document.getElementById(\"altair-viz-2eaef3082b5a45d4bd5a5bf03552cc6b\");\n",
       "    }\n",
       "    const paths = {\n",
       "      \"vega\": \"https://cdn.jsdelivr.net/npm//vega@5?noext\",\n",
       "      \"vega-lib\": \"https://cdn.jsdelivr.net/npm//vega-lib?noext\",\n",
       "      \"vega-lite\": \"https://cdn.jsdelivr.net/npm//vega-lite@4.8.1?noext\",\n",
       "      \"vega-embed\": \"https://cdn.jsdelivr.net/npm//vega-embed@6?noext\",\n",
       "    };\n",
       "\n",
       "    function loadScript(lib) {\n",
       "      return new Promise(function(resolve, reject) {\n",
       "        var s = document.createElement('script');\n",
       "        s.src = paths[lib];\n",
       "        s.async = true;\n",
       "        s.onload = () => resolve(paths[lib]);\n",
       "        s.onerror = () => reject(`Error loading script: ${paths[lib]}`);\n",
       "        document.getElementsByTagName(\"head\")[0].appendChild(s);\n",
       "      });\n",
       "    }\n",
       "\n",
       "    function showError(err) {\n",
       "      outputDiv.innerHTML = `<div class=\"error\" style=\"color:red;\">${err}</div>`;\n",
       "      throw err;\n",
       "    }\n",
       "\n",
       "    function displayChart(vegaEmbed) {\n",
       "      vegaEmbed(outputDiv, spec, embedOpt)\n",
       "        .catch(err => showError(`Javascript Error: ${err.message}<br>This usually means there's a typo in your chart specification. See the javascript console for the full traceback.`));\n",
       "    }\n",
       "\n",
       "    if(typeof define === \"function\" && define.amd) {\n",
       "      requirejs.config({paths});\n",
       "      require([\"vega-embed\"], displayChart, err => showError(`Error loading script: ${err.message}`));\n",
       "    } else if (typeof vegaEmbed === \"function\") {\n",
       "      displayChart(vegaEmbed);\n",
       "    } else {\n",
       "      loadScript(\"vega\")\n",
       "        .then(() => loadScript(\"vega-lite\"))\n",
       "        .then(() => loadScript(\"vega-embed\"))\n",
       "        .catch(showError)\n",
       "        .then(() => displayChart(vegaEmbed));\n",
       "    }\n",
       "  })({\"config\": {\"view\": {\"continuousWidth\": 400, \"continuousHeight\": 300}}, \"layer\": [{\"mark\": \"point\", \"encoding\": {\"x\": {\"type\": \"quantitative\", \"field\": \"ads\"}, \"y\": {\"type\": \"quantitative\", \"field\": \"sales\"}}}, {\"mark\": \"line\", \"encoding\": {\"x\": {\"type\": \"quantitative\", \"field\": \"ads\"}, \"y\": {\"type\": \"quantitative\", \"field\": \"sales\"}}, \"transform\": [{\"on\": \"ads\", \"regression\": \"sales\"}]}], \"data\": {\"name\": \"data-da989b43146b8c0135fceae265ad151a\"}, \"$schema\": \"https://vega.github.io/schema/vega-lite/v4.8.1.json\", \"datasets\": {\"data-da989b43146b8c0135fceae265ad151a\": [{\"sales\": 2500, \"ads\": 900, \"y_pred\": 2836.630927966508}, {\"sales\": 4500, \"ads\": 1400, \"y_pred\": 3756.3091734053073}, {\"sales\": 6500, \"ads\": 3600, \"y_pred\": 7802.893453336026}, {\"sales\": 8500, \"ads\": 3800, \"y_pred\": 8170.764751511546}, {\"sales\": 10500, \"ads\": 6200, \"y_pred\": 12585.220329617783}, {\"sales\": 12500, \"ads\": 5200, \"y_pred\": 10745.863838740184}, {\"sales\": 14500, \"ads\": 6800, \"y_pred\": 13688.834224144342}, {\"sales\": 16500, \"ads\": 8300, \"y_pred\": 16447.868960460743}, {\"sales\": 18500, \"ads\": 9800, \"y_pred\": 19206.90369677714}, {\"sales\": 20500, \"ads\": 10100, \"y_pred\": 19758.710644040424}]}}, {\"mode\": \"vega-lite\"});\n",
       "</script>"
      ],
      "text/plain": [
       "alt.LayerChart(...)"
      ]
     },
     "execution_count": 5,
     "metadata": {},
     "output_type": "execute_result"
    }
   ],
   "source": [
    "chart = alt.Chart(df).mark_point().encode(\n",
    "    x='ads',\n",
    "    y='sales'\n",
    ")\n",
    "\n",
    "chart + chart.transform_regression('ads', 'sales').mark_line()"
   ]
  },
  {
   "cell_type": "markdown",
   "metadata": {},
   "source": [
    "## Calculate R-squared"
   ]
  },
  {
   "cell_type": "code",
   "execution_count": 6,
   "metadata": {},
   "outputs": [
    {
     "data": {
      "text/html": [
       "<div>\n",
       "<style scoped>\n",
       "    .dataframe tbody tr th:only-of-type {\n",
       "        vertical-align: middle;\n",
       "    }\n",
       "\n",
       "    .dataframe tbody tr th {\n",
       "        vertical-align: top;\n",
       "    }\n",
       "\n",
       "    .dataframe thead th {\n",
       "        text-align: right;\n",
       "    }\n",
       "</style>\n",
       "<table border=\"1\" class=\"dataframe\">\n",
       "  <thead>\n",
       "    <tr style=\"text-align: right;\">\n",
       "      <th></th>\n",
       "      <th>sales</th>\n",
       "      <th>ads</th>\n",
       "      <th>y_pred</th>\n",
       "      <th>errors_squared</th>\n",
       "    </tr>\n",
       "  </thead>\n",
       "  <tbody>\n",
       "    <tr>\n",
       "      <th>0</th>\n",
       "      <td>2500</td>\n",
       "      <td>900</td>\n",
       "      <td>2836.630928</td>\n",
       "      <td>1.133204e+05</td>\n",
       "    </tr>\n",
       "    <tr>\n",
       "      <th>1</th>\n",
       "      <td>4500</td>\n",
       "      <td>1400</td>\n",
       "      <td>3756.309173</td>\n",
       "      <td>5.530760e+05</td>\n",
       "    </tr>\n",
       "    <tr>\n",
       "      <th>2</th>\n",
       "      <td>6500</td>\n",
       "      <td>3600</td>\n",
       "      <td>7802.893453</td>\n",
       "      <td>1.697531e+06</td>\n",
       "    </tr>\n",
       "    <tr>\n",
       "      <th>3</th>\n",
       "      <td>8500</td>\n",
       "      <td>3800</td>\n",
       "      <td>8170.764752</td>\n",
       "      <td>1.083958e+05</td>\n",
       "    </tr>\n",
       "    <tr>\n",
       "      <th>4</th>\n",
       "      <td>10500</td>\n",
       "      <td>6200</td>\n",
       "      <td>12585.220330</td>\n",
       "      <td>4.348144e+06</td>\n",
       "    </tr>\n",
       "  </tbody>\n",
       "</table>\n",
       "</div>"
      ],
      "text/plain": [
       "   sales   ads        y_pred  errors_squared\n",
       "0   2500   900   2836.630928    1.133204e+05\n",
       "1   4500  1400   3756.309173    5.530760e+05\n",
       "2   6500  3600   7802.893453    1.697531e+06\n",
       "3   8500  3800   8170.764752    1.083958e+05\n",
       "4  10500  6200  12585.220330    4.348144e+06"
      ]
     },
     "execution_count": 6,
     "metadata": {},
     "output_type": "execute_result"
    }
   ],
   "source": [
    "# calculate squared difference between actual and predicted\n",
    "df['errors_squared'] = (df['sales'] - df['y_pred']) ** 2\n",
    "df.head()"
   ]
  },
  {
   "cell_type": "markdown",
   "metadata": {},
   "source": [
    "### Sum of squared errors(SSE)"
   ]
  },
  {
   "cell_type": "markdown",
   "metadata": {},
   "source": [
    "- Calculate the **sum of squared errors** (`SSE`) \n",
    "    - SSE is also known as \"sum of squared residuals\" (SSR) or \"residual sum of squares\" (RSS)"
   ]
  },
  {
   "cell_type": "code",
   "execution_count": 7,
   "metadata": {},
   "outputs": [
    {
     "data": {
      "text/plain": [
       "11607391.42908754"
      ]
     },
     "execution_count": 7,
     "metadata": {},
     "output_type": "execute_result"
    }
   ],
   "source": [
    "SSE = df['errors_squared'].sum()\n",
    "SSE"
   ]
  },
  {
   "cell_type": "markdown",
   "metadata": {},
   "source": [
    "> Is this good or bad?\n",
    "\n",
    "- To get a better idea, let's calculate the variability in the \n",
    "sales values by how far they tend to fall from their mean"
   ]
  },
  {
   "cell_type": "markdown",
   "metadata": {},
   "source": [
    "### Total sum of squares (SST)"
   ]
  },
  {
   "cell_type": "code",
   "execution_count": 8,
   "metadata": {},
   "outputs": [],
   "source": [
    "# calculate mean of sales\n",
    "df['sales_mean'] = df['sales'].mean()\n"
   ]
  },
  {
   "cell_type": "code",
   "execution_count": 9,
   "metadata": {},
   "outputs": [
    {
     "data": {
      "text/html": [
       "\n",
       "<div id=\"altair-viz-f4148b3b34ea42b9864a187d80358439\"></div>\n",
       "<script type=\"text/javascript\">\n",
       "  (function(spec, embedOpt){\n",
       "    let outputDiv = document.currentScript.previousElementSibling;\n",
       "    if (outputDiv.id !== \"altair-viz-f4148b3b34ea42b9864a187d80358439\") {\n",
       "      outputDiv = document.getElementById(\"altair-viz-f4148b3b34ea42b9864a187d80358439\");\n",
       "    }\n",
       "    const paths = {\n",
       "      \"vega\": \"https://cdn.jsdelivr.net/npm//vega@5?noext\",\n",
       "      \"vega-lib\": \"https://cdn.jsdelivr.net/npm//vega-lib?noext\",\n",
       "      \"vega-lite\": \"https://cdn.jsdelivr.net/npm//vega-lite@4.8.1?noext\",\n",
       "      \"vega-embed\": \"https://cdn.jsdelivr.net/npm//vega-embed@6?noext\",\n",
       "    };\n",
       "\n",
       "    function loadScript(lib) {\n",
       "      return new Promise(function(resolve, reject) {\n",
       "        var s = document.createElement('script');\n",
       "        s.src = paths[lib];\n",
       "        s.async = true;\n",
       "        s.onload = () => resolve(paths[lib]);\n",
       "        s.onerror = () => reject(`Error loading script: ${paths[lib]}`);\n",
       "        document.getElementsByTagName(\"head\")[0].appendChild(s);\n",
       "      });\n",
       "    }\n",
       "\n",
       "    function showError(err) {\n",
       "      outputDiv.innerHTML = `<div class=\"error\" style=\"color:red;\">${err}</div>`;\n",
       "      throw err;\n",
       "    }\n",
       "\n",
       "    function displayChart(vegaEmbed) {\n",
       "      vegaEmbed(outputDiv, spec, embedOpt)\n",
       "        .catch(err => showError(`Javascript Error: ${err.message}<br>This usually means there's a typo in your chart specification. See the javascript console for the full traceback.`));\n",
       "    }\n",
       "\n",
       "    if(typeof define === \"function\" && define.amd) {\n",
       "      requirejs.config({paths});\n",
       "      require([\"vega-embed\"], displayChart, err => showError(`Error loading script: ${err.message}`));\n",
       "    } else if (typeof vegaEmbed === \"function\") {\n",
       "      displayChart(vegaEmbed);\n",
       "    } else {\n",
       "      loadScript(\"vega\")\n",
       "        .then(() => loadScript(\"vega-lite\"))\n",
       "        .then(() => loadScript(\"vega-embed\"))\n",
       "        .catch(showError)\n",
       "        .then(() => displayChart(vegaEmbed));\n",
       "    }\n",
       "  })({\"config\": {\"view\": {\"continuousWidth\": 400, \"continuousHeight\": 300}}, \"layer\": [{\"mark\": \"point\", \"encoding\": {\"x\": {\"type\": \"quantitative\", \"field\": \"ads\"}, \"y\": {\"type\": \"quantitative\", \"field\": \"sales\"}}}, {\"mark\": {\"type\": \"rule\", \"color\": \"red\"}, \"encoding\": {\"y\": {\"type\": \"quantitative\", \"aggregate\": \"mean\", \"field\": \"sales\"}}}], \"data\": {\"name\": \"data-a1e1cb47de03c8505f7f38c47b601c06\"}, \"$schema\": \"https://vega.github.io/schema/vega-lite/v4.8.1.json\", \"datasets\": {\"data-a1e1cb47de03c8505f7f38c47b601c06\": [{\"sales\": 2500, \"ads\": 900, \"y_pred\": 2836.630927966508, \"errors_squared\": 113320.38166359223, \"sales_mean\": 11500.0}, {\"sales\": 4500, \"ads\": 1400, \"y_pred\": 3756.3091734053073, \"errors_squared\": 553076.0455610972, \"sales_mean\": 11500.0}, {\"sales\": 6500, \"ads\": 3600, \"y_pred\": 7802.893453336026, \"errors_squared\": 1697531.3507458756, \"sales_mean\": 11500.0}, {\"sales\": 8500, \"ads\": 3800, \"y_pred\": 8170.764751511546, \"errors_squared\": 108395.8488472541, \"sales_mean\": 11500.0}, {\"sales\": 10500, \"ads\": 6200, \"y_pred\": 12585.220329617783, \"errors_squared\": 4348143.823051296, \"sales_mean\": 11500.0}, {\"sales\": 12500, \"ads\": 5200, \"y_pred\": 10745.863838740184, \"errors_squared\": 3076993.672239322, \"sales_mean\": 11500.0}, {\"sales\": 14500, \"ads\": 6800, \"y_pred\": 13688.834224144342, \"errors_squared\": 657989.9159195109, \"sales_mean\": 11500.0}, {\"sales\": 16500, \"ads\": 8300, \"y_pred\": 16447.868960460743, \"errors_squared\": 2717.645283443626, \"sales_mean\": 11500.0}, {\"sales\": 18500, \"ads\": 9800, \"y_pred\": 19206.90369677714, \"errors_squared\": 499712.83651718526, \"sales_mean\": 11500.0}, {\"sales\": 20500, \"ads\": 10100, \"y_pred\": 19758.710644040424, \"errors_squared\": 549509.9092589628, \"sales_mean\": 11500.0}]}}, {\"mode\": \"vega-lite\"});\n",
       "</script>"
      ],
      "text/plain": [
       "alt.LayerChart(...)"
      ]
     },
     "execution_count": 9,
     "metadata": {},
     "output_type": "execute_result"
    }
   ],
   "source": [
    "chart = alt.Chart(df).mark_point().encode(\n",
    "    x='ads',\n",
    "    y='sales'\n",
    ")\n",
    "\n",
    "line = alt.Chart(df).mark_rule(color='red').encode(\n",
    "    y='mean(sales)'\n",
    ")\n",
    "\n",
    "chart + line"
   ]
  },
  {
   "cell_type": "code",
   "execution_count": 10,
   "metadata": {},
   "outputs": [],
   "source": [
    "# calculate squared difference between actual and mean\n",
    "df['variability_squared'] = (df['sales'] - df['sales_mean']) ** 2"
   ]
  },
  {
   "cell_type": "markdown",
   "metadata": {},
   "source": [
    "\n",
    "- We define the sum of the squared differences as the **total sum of squares** (`SST`)"
   ]
  },
  {
   "cell_type": "code",
   "execution_count": 11,
   "metadata": {},
   "outputs": [
    {
     "data": {
      "text/plain": [
       "330000000.0"
      ]
     },
     "execution_count": 11,
     "metadata": {},
     "output_type": "execute_result"
    }
   ],
   "source": [
    "SST = df['variability_squared'].sum()\n",
    "SST"
   ]
  },
  {
   "cell_type": "markdown",
   "metadata": {},
   "source": [
    "### R-squared"
   ]
  },
  {
   "cell_type": "code",
   "execution_count": 12,
   "metadata": {},
   "outputs": [
    {
     "data": {
      "text/plain": [
       "0.9648260865785226"
      ]
     },
     "execution_count": 12,
     "metadata": {},
     "output_type": "execute_result"
    }
   ],
   "source": [
    "R2 = (SST - SSE) / SST\n",
    "R2"
   ]
  },
  {
   "cell_type": "markdown",
   "metadata": {},
   "source": [
    "## Use function to calculate R2"
   ]
  },
  {
   "cell_type": "code",
   "execution_count": 13,
   "metadata": {},
   "outputs": [
    {
     "data": {
      "text/plain": [
       "0.9648260865785226"
      ]
     },
     "execution_count": 13,
     "metadata": {},
     "output_type": "execute_result"
    }
   ],
   "source": [
    "# we can use r2_score\n",
    "r2_score(y, y_pred)"
   ]
  },
  {
   "cell_type": "code",
   "execution_count": 14,
   "metadata": {},
   "outputs": [
    {
     "data": {
      "text/plain": [
       "0.9648260865785226"
      ]
     },
     "execution_count": 14,
     "metadata": {},
     "output_type": "execute_result"
    }
   ],
   "source": [
    "# we can also use .score\n",
    "reg.score(X, y)"
   ]
  }
 ],
 "metadata": {
  "kernelspec": {
   "display_name": "Python 3.9.12 ('base')",
   "language": "python",
   "name": "python3"
  },
  "language_info": {
   "codemirror_mode": {
    "name": "ipython",
    "version": 3
   },
   "file_extension": ".py",
   "mimetype": "text/x-python",
   "name": "python",
   "nbconvert_exporter": "python",
   "pygments_lexer": "ipython3",
   "version": "3.9.12"
  },
  "orig_nbformat": 4,
  "vscode": {
   "interpreter": {
    "hash": "463226f144cc21b006ce6927bfc93dd00694e52c8bc6857abb6e555b983749e9"
   }
  }
 },
 "nbformat": 4,
 "nbformat_minor": 2
}
